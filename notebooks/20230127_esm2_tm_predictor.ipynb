{
 "cells": [
  {
   "cell_type": "code",
   "execution_count": 5,
   "id": "6c939252-6652-4577-914c-349f03376a17",
   "metadata": {},
   "outputs": [],
   "source": [
    "import numpy as np\n",
    "import pandas as pd\n",
    "import os\n",
    "from Bio import SeqIO\n",
    "import itertools\n",
    "from typing import List, Tuple\n",
    "import string\n",
    "from pathlib import Path\n",
    "from tqdm.auto import tqdm, trange\n",
    "\n",
    "import matplotlib.pyplot as plt\n",
    "import seaborn as sns\n",
    "\n",
    "%matplotlib inline"
   ]
  },
  {
   "cell_type": "code",
   "execution_count": null,
   "id": "f203ac03-82c5-495d-aaa8-89a67f756bc4",
   "metadata": {},
   "outputs": [],
   "source": [
    "from sklearn.metrics import mean_squared_error\n",
    "from scipy.stats import spearmanr\n",
    "from sklearn.linear_model import LinearRegression, Ridge\n",
    "from sklearn.kernel_ridge import KernelRidge"
   ]
  },
  {
   "cell_type": "code",
   "execution_count": 2,
   "id": "6dca5874-4b73-4fe3-a03a-f99b711259a6",
   "metadata": {},
   "outputs": [
    {
     "data": {
      "text/plain": [
       "True"
      ]
     },
     "execution_count": 2,
     "metadata": {},
     "output_type": "execute_result"
    }
   ],
   "source": [
    "import torch\n",
    "torch.cuda.is_available()"
   ]
  },
  {
   "cell_type": "code",
   "execution_count": 115,
   "id": "772fed3e-23c9-4877-b444-c78169f12d98",
   "metadata": {},
   "outputs": [
    {
     "name": "stderr",
     "output_type": "stream",
     "text": [
      "Using cache found in /scratch/jlaw/torch/facebookresearch_esm_main\n",
      "Downloading: \"https://dl.fbaipublicfiles.com/fair-esm/models/esm2_t48_15B_UR50D.pt\" to /scratch/jlaw/torch/checkpoints/esm2_t48_15B_UR50D.pt\n",
      "Downloading: \"https://dl.fbaipublicfiles.com/fair-esm/regression/esm2_t48_15B_UR50D-contact-regression.pt\" to /scratch/jlaw/torch/checkpoints/esm2_t48_15B_UR50D-contact-regression.pt\n"
     ]
    }
   ],
   "source": [
    "torch.hub.set_dir('/scratch/jlaw/torch')\n",
    "model_name = \"esm2_t36_3B_UR50D\"\n",
    "model, alphabet = torch.hub.load(\"facebookresearch/esm:main\", model_name)"
   ]
  },
  {
   "cell_type": "markdown",
   "id": "7af2cd31-65d6-4539-a865-7df11c7463a3",
   "metadata": {},
   "source": [
    "### Build/get embeddings"
   ]
  },
  {
   "cell_type": "code",
   "execution_count": 11,
   "id": "1e1e06d5-1ba3-45cd-895c-2da4aa733f72",
   "metadata": {},
   "outputs": [],
   "source": [
    "def read_embeddings(embed_file, sequence_idx_file):\n",
    "    \"\"\" Read embeddings stored in an npz file\n",
    "    Get the sequences at each index from the *sequence_idx_file\n",
    "    \"\"\"\n",
    "    embeddings = np.load(embed_file, allow_pickle=True)['arr_0']\n",
    "    sequences = pd.read_csv(sequence_idx_file)\n",
    "    print(f\"{len(embeddings) = } read from {embed_file}\")\n",
    "    print(f\"{len(sequences) = } read from {sequence_idx_file}\")\n",
    "    return embeddings, sequences"
   ]
  },
  {
   "cell_type": "code",
   "execution_count": 12,
   "id": "b08c084e-afb8-4b01-8308-cc22f25a12b5",
   "metadata": {},
   "outputs": [
    {
     "name": "stdout",
     "output_type": "stream",
     "text": [
      "len(embeddings) = 32563 read from /projects/robustmicrob/jlaw/inputs/meltome/embeddings/20230125_embeddings_esm2_t33_650M_UR50D.npz\n",
      "len(sequences) = 32563 read from /projects/robustmicrob/jlaw/inputs/meltome/embeddings/20230125_embeddings_seqs.csv\n"
     ]
    }
   ],
   "source": [
    "inputs_dir = Path(\"/projects/robustmicrob/jlaw/inputs/\")\n",
    "\n",
    "embeddings, df_seq = read_embeddings(Path(inputs_dir, \"meltome/embeddings/20230125_embeddings_esm2_t33_650M_UR50D.npz\"),\n",
    "                                     Path(inputs_dir, \"meltome/embeddings/20230125_embeddings_seqs.csv\"))\n"
   ]
  },
  {
   "cell_type": "code",
   "execution_count": 13,
   "id": "b6886c13-1b51-4774-b0a1-9a0ab405de23",
   "metadata": {},
   "outputs": [
    {
     "data": {
      "text/plain": [
       "array([[ 0.0667  ,  0.0805  ,  0.02689 , ..., -0.05774 , -0.04825 ,\n",
       "        -0.0274  ],\n",
       "       [ 0.0723  ,  0.0428  ,  0.0324  , ..., -0.05963 , -0.02406 ,\n",
       "        -0.01481 ],\n",
       "       [-0.04813 , -0.04675 , -0.005882, ..., -0.1444  ,  0.02731 ,\n",
       "         0.0689  ],\n",
       "       ...,\n",
       "       [ 0.03793 , -0.06665 ,  0.032   , ..., -0.1265  ,  0.04468 ,\n",
       "         0.1527  ],\n",
       "       [-0.01697 , -0.05865 ,  0.02788 , ..., -0.132   , -0.0846  ,\n",
       "        -0.05984 ],\n",
       "       [ 0.04132 , -0.08746 ,  0.006046, ..., -0.076   ,  0.03427 ,\n",
       "         0.08185 ]], dtype=float16)"
      ]
     },
     "execution_count": 13,
     "metadata": {},
     "output_type": "execute_result"
    }
   ],
   "source": [
    "embeddings"
   ]
  },
  {
   "cell_type": "code",
   "execution_count": 14,
   "id": "72837c7e-89f0-49f1-a9e3-fe4bc1275c21",
   "metadata": {},
   "outputs": [
    {
     "data": {
      "text/html": [
       "<div>\n",
       "<style scoped>\n",
       "    .dataframe tbody tr th:only-of-type {\n",
       "        vertical-align: middle;\n",
       "    }\n",
       "\n",
       "    .dataframe tbody tr th {\n",
       "        vertical-align: top;\n",
       "    }\n",
       "\n",
       "    .dataframe thead th {\n",
       "        text-align: right;\n",
       "    }\n",
       "</style>\n",
       "<table border=\"1\" class=\"dataframe\">\n",
       "  <thead>\n",
       "    <tr style=\"text-align: right;\">\n",
       "      <th></th>\n",
       "      <th>uniprot</th>\n",
       "      <th>Tm</th>\n",
       "      <th>sequence</th>\n",
       "    </tr>\n",
       "  </thead>\n",
       "  <tbody>\n",
       "    <tr>\n",
       "      <th>0</th>\n",
       "      <td>A0A023T4K3</td>\n",
       "      <td>37.962947</td>\n",
       "      <td>MSGEEEKAADFYVRYYVGHKGKFGHEFLEFEFRPNGSLRYANNSNY...</td>\n",
       "    </tr>\n",
       "    <tr>\n",
       "      <th>1</th>\n",
       "      <td>A0A023T778</td>\n",
       "      <td>54.425342</td>\n",
       "      <td>MSMGSDFYLRYYVGHKGKFGHEFLEFEFRPDGKLRYANNSNYKNDV...</td>\n",
       "    </tr>\n",
       "    <tr>\n",
       "      <th>2</th>\n",
       "      <td>A0A061ACF5</td>\n",
       "      <td>49.459216</td>\n",
       "      <td>MRICFLLLAFLVAETFANELTRCCAGGTRHFKNSNTCSSIKSEGTS...</td>\n",
       "    </tr>\n",
       "    <tr>\n",
       "      <th>3</th>\n",
       "      <td>A0A061ACH4</td>\n",
       "      <td>42.593131</td>\n",
       "      <td>MIRVALPTTASAIPRSISTSPGETISKNHEEEVKRVWRKADAVCFD...</td>\n",
       "    </tr>\n",
       "    <tr>\n",
       "      <th>4</th>\n",
       "      <td>A0A061ACH8</td>\n",
       "      <td>37.999478</td>\n",
       "      <td>MNGDWSRAFVLSKVKNLYFFVIIDKGFSAILNDPREPVQVGGFFEV...</td>\n",
       "    </tr>\n",
       "    <tr>\n",
       "      <th>...</th>\n",
       "      <td>...</td>\n",
       "      <td>...</td>\n",
       "      <td>...</td>\n",
       "    </tr>\n",
       "    <tr>\n",
       "      <th>32558</th>\n",
       "      <td>Q9Y6X5</td>\n",
       "      <td>59.156044</td>\n",
       "      <td>MKLLVILLFSGLITGFRSDSSSSLPPKLLLVSFDGFRADYLKNYEF...</td>\n",
       "    </tr>\n",
       "    <tr>\n",
       "      <th>32559</th>\n",
       "      <td>Q9Y6X8</td>\n",
       "      <td>45.410797</td>\n",
       "      <td>MASKRKSTTPCMVRTSQVVEQDVPEEVDRAKEKGIGTPQPDVAKDS...</td>\n",
       "    </tr>\n",
       "    <tr>\n",
       "      <th>32560</th>\n",
       "      <td>Q9Y6X9</td>\n",
       "      <td>45.488338</td>\n",
       "      <td>MAFTNYSSLNRAQLTFEYLHTNSTTHEFLFGALAELVDNARDADAT...</td>\n",
       "    </tr>\n",
       "    <tr>\n",
       "      <th>32561</th>\n",
       "      <td>Q9Y6Y0</td>\n",
       "      <td>48.494270</td>\n",
       "      <td>MIPNGYLMFEDENFIESSVAKLNALRKSGQFCDVRLQVCGHEMLAH...</td>\n",
       "    </tr>\n",
       "    <tr>\n",
       "      <th>32562</th>\n",
       "      <td>Q9Y6Y8</td>\n",
       "      <td>48.578044</td>\n",
       "      <td>MAERKPNGGSGGASTSSSGTNLLFSSSATEFSFNVPFIPVTQASAS...</td>\n",
       "    </tr>\n",
       "  </tbody>\n",
       "</table>\n",
       "<p>32563 rows × 3 columns</p>\n",
       "</div>"
      ],
      "text/plain": [
       "          uniprot         Tm  \\\n",
       "0      A0A023T4K3  37.962947   \n",
       "1      A0A023T778  54.425342   \n",
       "2      A0A061ACF5  49.459216   \n",
       "3      A0A061ACH4  42.593131   \n",
       "4      A0A061ACH8  37.999478   \n",
       "...           ...        ...   \n",
       "32558      Q9Y6X5  59.156044   \n",
       "32559      Q9Y6X8  45.410797   \n",
       "32560      Q9Y6X9  45.488338   \n",
       "32561      Q9Y6Y0  48.494270   \n",
       "32562      Q9Y6Y8  48.578044   \n",
       "\n",
       "                                                sequence  \n",
       "0      MSGEEEKAADFYVRYYVGHKGKFGHEFLEFEFRPNGSLRYANNSNY...  \n",
       "1      MSMGSDFYLRYYVGHKGKFGHEFLEFEFRPDGKLRYANNSNYKNDV...  \n",
       "2      MRICFLLLAFLVAETFANELTRCCAGGTRHFKNSNTCSSIKSEGTS...  \n",
       "3      MIRVALPTTASAIPRSISTSPGETISKNHEEEVKRVWRKADAVCFD...  \n",
       "4      MNGDWSRAFVLSKVKNLYFFVIIDKGFSAILNDPREPVQVGGFFEV...  \n",
       "...                                                  ...  \n",
       "32558  MKLLVILLFSGLITGFRSDSSSSLPPKLLLVSFDGFRADYLKNYEF...  \n",
       "32559  MASKRKSTTPCMVRTSQVVEQDVPEEVDRAKEKGIGTPQPDVAKDS...  \n",
       "32560  MAFTNYSSLNRAQLTFEYLHTNSTTHEFLFGALAELVDNARDADAT...  \n",
       "32561  MIPNGYLMFEDENFIESSVAKLNALRKSGQFCDVRLQVCGHEMLAH...  \n",
       "32562  MAERKPNGGSGGASTSSSGTNLLFSSSATEFSFNVPFIPVTQASAS...  \n",
       "\n",
       "[32563 rows x 3 columns]"
      ]
     },
     "execution_count": 14,
     "metadata": {},
     "output_type": "execute_result"
    }
   ],
   "source": [
    "df_seq"
   ]
  },
  {
   "cell_type": "markdown",
   "id": "d01d4ac0-7707-4a31-bbe7-45db58041d94",
   "metadata": {},
   "source": [
    "### Baseline: logisitic regression on sequence embeddings to predict tm values"
   ]
  },
  {
   "cell_type": "code",
   "execution_count": 22,
   "id": "1e11f0a8-17df-4399-b072-500ebec5d8b2",
   "metadata": {},
   "outputs": [
    {
     "name": "stdout",
     "output_type": "stream",
     "text": [
      "27951\n"
     ]
    },
    {
     "data": {
      "text/html": [
       "<div>\n",
       "<style scoped>\n",
       "    .dataframe tbody tr th:only-of-type {\n",
       "        vertical-align: middle;\n",
       "    }\n",
       "\n",
       "    .dataframe tbody tr th {\n",
       "        vertical-align: top;\n",
       "    }\n",
       "\n",
       "    .dataframe thead th {\n",
       "        text-align: right;\n",
       "    }\n",
       "</style>\n",
       "<table border=\"1\" class=\"dataframe\">\n",
       "  <thead>\n",
       "    <tr style=\"text-align: right;\">\n",
       "      <th></th>\n",
       "      <th>sequence</th>\n",
       "      <th>target</th>\n",
       "      <th>set</th>\n",
       "      <th>validation</th>\n",
       "    </tr>\n",
       "  </thead>\n",
       "  <tbody>\n",
       "    <tr>\n",
       "      <th>0</th>\n",
       "      <td>MSGEEEKAADFYVRYYVGHKGKFGHEFLEFEFRPNGSLRYANNSNY...</td>\n",
       "      <td>37.962947</td>\n",
       "      <td>train</td>\n",
       "      <td>NaN</td>\n",
       "    </tr>\n",
       "    <tr>\n",
       "      <th>1</th>\n",
       "      <td>MSMGSDFYLRYYVGHKGKFGHEFLEFEFRPDGKLRYANNSNYKNDV...</td>\n",
       "      <td>54.425342</td>\n",
       "      <td>train</td>\n",
       "      <td>NaN</td>\n",
       "    </tr>\n",
       "  </tbody>\n",
       "</table>\n",
       "</div>"
      ],
      "text/plain": [
       "                                            sequence     target    set  \\\n",
       "0  MSGEEEKAADFYVRYYVGHKGKFGHEFLEFEFRPNGSLRYANNSNY...  37.962947  train   \n",
       "1  MSMGSDFYLRYYVGHKGKFGHEFLEFEFRPDGKLRYANNSNYKNDV...  54.425342  train   \n",
       "\n",
       "  validation  \n",
       "0        NaN  \n",
       "1        NaN  "
      ]
     },
     "execution_count": 22,
     "metadata": {},
     "output_type": "execute_result"
    }
   ],
   "source": [
    "# try using the same train/test splits that flip used\n",
    "df_split = pd.read_csv(Path(inputs_dir, \"meltome/flip/github/splits/mixed_split.csv\"))\n",
    "print(len(df_split))\n",
    "df_split.head(2)"
   ]
  },
  {
   "cell_type": "code",
   "execution_count": 35,
   "id": "366653e4-f663-4f9e-8fc7-6dd63b0d6883",
   "metadata": {},
   "outputs": [
    {
     "data": {
      "text/plain": [
       "train    24817\n",
       "test      3134\n",
       "Name: set, dtype: int64"
      ]
     },
     "execution_count": 35,
     "metadata": {},
     "output_type": "execute_result"
    }
   ],
   "source": [
    "df_split.set.value_counts()"
   ]
  },
  {
   "cell_type": "code",
   "execution_count": 40,
   "id": "a4197289-a7dc-4d2d-9121-fa440dd56eb5",
   "metadata": {},
   "outputs": [
    {
     "name": "stdout",
     "output_type": "stream",
     "text": [
      "26082\n"
     ]
    }
   ],
   "source": [
    "# df_split = df_split.set_index('sequence')\n",
    "# df_split_w_embed = df_split.loc[df_seq[df_seq.sequence.isin(df_split.index)].sequence]\n",
    "df_split_w_embed = df_split[df_split.sequence.isin(df_seq.sequence)]\n",
    "print(len(df_split_w_embed))"
   ]
  },
  {
   "cell_type": "code",
   "execution_count": 37,
   "id": "82971edf-d446-453f-a3a6-f9a100d965d6",
   "metadata": {},
   "outputs": [
    {
     "name": "stdout",
     "output_type": "stream",
     "text": [
      "[('MSGEEEKAADFYVRYYVGHKGKFGHEFLEFEFRPNGSLRYANNSNYKNDTMIRKEATVSESVLSELKRIIEDSEIMQEDDDNWPEPDKIGRQELEILYKNEHISFTTGKIGALADVNNSKDPDGLRSFYYLVQDLKCLVFSLIGLHFKIKPI', 0), ('MSMGSDFYLRYYVGHKGKFGHEFLEFEFRPDGKLRYANNSNYKNDVMIRKEAYVHKSVMEELKRIIDDSEITKEDDALWPPPDRVGRQELEIVIGDEHISFTTSKIGSLIDVNQSKDPEGLRVFYYLVQDLKCLVFSLIGLHFKIKPI', 1)]\n"
     ]
    }
   ],
   "source": [
    "# seq_idx = {seq: idx for idx, seq in df_seq.sequence.items\n",
    "seq_idx = dict(zip(df_seq.sequence, df_seq.index))\n",
    "print(list(seq_idx.items())[:2])"
   ]
  },
  {
   "cell_type": "code",
   "execution_count": 63,
   "id": "00c26c6d-47e0-4d07-b3b0-38ebab0636f2",
   "metadata": {},
   "outputs": [
    {
     "name": "stdout",
     "output_type": "stream",
     "text": [
      "23185 0.89\n",
      "2897 0.11\n"
     ]
    }
   ],
   "source": [
    "df_train = df_split_w_embed[df_split_w_embed.set == \"train\"]\n",
    "print(len(df_train), f\"{len(df_train) / len(df_split_w_embed):0.2f}\")\n",
    "\n",
    "# X_train = embeddings[df_seq[df_seq.sequence.isin(train_seq)].index]\n",
    "# y_train = df_seq[df_seq.sequence.isin(train_seq)].Tm\n",
    "# X_test = embeddings[df_seq[df_seq.sequence.isin(test)].index]\n",
    "# y_test = df_seq[df_seq.sequence.isin(test)].Tm\n",
    "# some of the sequences are repeated, so get their embeddings by index\n",
    "X_train = np.asarray([embeddings[seq_idx[seq]] for seq in df_train.sequence.values])\n",
    "y_train = df_train.target\n",
    "\n",
    "df_test = df_split_w_embed[df_split_w_embed.set == \"test\"]\n",
    "print(len(df_test), f\"{len(df_test) / len(df_split_w_embed):0.2f}\")\n",
    "X_test = np.asarray([embeddings[seq_idx[seq]] for seq in df_test.sequence.values])\n",
    "y_test = df_test.target"
   ]
  },
  {
   "cell_type": "code",
   "execution_count": 53,
   "id": "799de98b-5122-47c0-bae5-07dc3832aab7",
   "metadata": {},
   "outputs": [
    {
     "data": {
      "text/html": [
       "<style>#sk-container-id-7 {color: black;background-color: white;}#sk-container-id-7 pre{padding: 0;}#sk-container-id-7 div.sk-toggleable {background-color: white;}#sk-container-id-7 label.sk-toggleable__label {cursor: pointer;display: block;width: 100%;margin-bottom: 0;padding: 0.3em;box-sizing: border-box;text-align: center;}#sk-container-id-7 label.sk-toggleable__label-arrow:before {content: \"▸\";float: left;margin-right: 0.25em;color: #696969;}#sk-container-id-7 label.sk-toggleable__label-arrow:hover:before {color: black;}#sk-container-id-7 div.sk-estimator:hover label.sk-toggleable__label-arrow:before {color: black;}#sk-container-id-7 div.sk-toggleable__content {max-height: 0;max-width: 0;overflow: hidden;text-align: left;background-color: #f0f8ff;}#sk-container-id-7 div.sk-toggleable__content pre {margin: 0.2em;color: black;border-radius: 0.25em;background-color: #f0f8ff;}#sk-container-id-7 input.sk-toggleable__control:checked~div.sk-toggleable__content {max-height: 200px;max-width: 100%;overflow: auto;}#sk-container-id-7 input.sk-toggleable__control:checked~label.sk-toggleable__label-arrow:before {content: \"▾\";}#sk-container-id-7 div.sk-estimator input.sk-toggleable__control:checked~label.sk-toggleable__label {background-color: #d4ebff;}#sk-container-id-7 div.sk-label input.sk-toggleable__control:checked~label.sk-toggleable__label {background-color: #d4ebff;}#sk-container-id-7 input.sk-hidden--visually {border: 0;clip: rect(1px 1px 1px 1px);clip: rect(1px, 1px, 1px, 1px);height: 1px;margin: -1px;overflow: hidden;padding: 0;position: absolute;width: 1px;}#sk-container-id-7 div.sk-estimator {font-family: monospace;background-color: #f0f8ff;border: 1px dotted black;border-radius: 0.25em;box-sizing: border-box;margin-bottom: 0.5em;}#sk-container-id-7 div.sk-estimator:hover {background-color: #d4ebff;}#sk-container-id-7 div.sk-parallel-item::after {content: \"\";width: 100%;border-bottom: 1px solid gray;flex-grow: 1;}#sk-container-id-7 div.sk-label:hover label.sk-toggleable__label {background-color: #d4ebff;}#sk-container-id-7 div.sk-serial::before {content: \"\";position: absolute;border-left: 1px solid gray;box-sizing: border-box;top: 0;bottom: 0;left: 50%;z-index: 0;}#sk-container-id-7 div.sk-serial {display: flex;flex-direction: column;align-items: center;background-color: white;padding-right: 0.2em;padding-left: 0.2em;position: relative;}#sk-container-id-7 div.sk-item {position: relative;z-index: 1;}#sk-container-id-7 div.sk-parallel {display: flex;align-items: stretch;justify-content: center;background-color: white;position: relative;}#sk-container-id-7 div.sk-item::before, #sk-container-id-7 div.sk-parallel-item::before {content: \"\";position: absolute;border-left: 1px solid gray;box-sizing: border-box;top: 0;bottom: 0;left: 50%;z-index: -1;}#sk-container-id-7 div.sk-parallel-item {display: flex;flex-direction: column;z-index: 1;position: relative;background-color: white;}#sk-container-id-7 div.sk-parallel-item:first-child::after {align-self: flex-end;width: 50%;}#sk-container-id-7 div.sk-parallel-item:last-child::after {align-self: flex-start;width: 50%;}#sk-container-id-7 div.sk-parallel-item:only-child::after {width: 0;}#sk-container-id-7 div.sk-dashed-wrapped {border: 1px dashed gray;margin: 0 0.4em 0.5em 0.4em;box-sizing: border-box;padding-bottom: 0.4em;background-color: white;}#sk-container-id-7 div.sk-label label {font-family: monospace;font-weight: bold;display: inline-block;line-height: 1.2em;}#sk-container-id-7 div.sk-label-container {text-align: center;}#sk-container-id-7 div.sk-container {/* jupyter's `normalize.less` sets `[hidden] { display: none; }` but bootstrap.min.css set `[hidden] { display: none !important; }` so we also need the `!important` here to be able to override the default hidden behavior on the sphinx rendered scikit-learn.org. See: https://github.com/scikit-learn/scikit-learn/issues/21755 */display: inline-block !important;position: relative;}#sk-container-id-7 div.sk-text-repr-fallback {display: none;}</style><div id=\"sk-container-id-7\" class=\"sk-top-container\"><div class=\"sk-text-repr-fallback\"><pre>Ridge()</pre><b>In a Jupyter environment, please rerun this cell to show the HTML representation or trust the notebook. <br />On GitHub, the HTML representation is unable to render, please try loading this page with nbviewer.org.</b></div><div class=\"sk-container\" hidden><div class=\"sk-item\"><div class=\"sk-estimator sk-toggleable\"><input class=\"sk-toggleable__control sk-hidden--visually\" id=\"sk-estimator-id-7\" type=\"checkbox\" checked><label for=\"sk-estimator-id-7\" class=\"sk-toggleable__label sk-toggleable__label-arrow\">Ridge</label><div class=\"sk-toggleable__content\"><pre>Ridge()</pre></div></div></div></div></div>"
      ],
      "text/plain": [
       "Ridge()"
      ]
     },
     "execution_count": 53,
     "metadata": {},
     "output_type": "execute_result"
    }
   ],
   "source": [
    "ridge_reg = Ridge(alpha=1.0)\n",
    "# reg = KernelRidge(alpha=1.0, kernel=\"laplacian\")\n",
    "ridge_reg.fit(X_train, y_train)"
   ]
  },
  {
   "cell_type": "code",
   "execution_count": 48,
   "id": "afa6213d-bf69-4afd-b69f-dc2153c70127",
   "metadata": {},
   "outputs": [
    {
     "name": "stdout",
     "output_type": "stream",
     "text": [
      "3134\n",
      "mae = 4.8026172576558785, mse = 40.25340327158012, rho = 0.6248229292898263\n"
     ]
    }
   ],
   "source": [
    "y_pred = reg.predict(X_test)\n",
    "\n",
    "rho, _ = spearmanr(y_pred, y_test)  # spearman\n",
    "mse = mean_squared_error(y_pred, y_test)  # Mean Squared Error\n",
    "mae = (y_pred - y_test).abs().mean()  # Mean Absolute Error\n",
    "print(f\"{mae = }, {mse = }, {rho = }\")"
   ]
  },
  {
   "cell_type": "code",
   "execution_count": 72,
   "id": "919342c0-89e0-4aa0-9510-d934f9825c59",
   "metadata": {},
   "outputs": [
    {
     "name": "stdout",
     "output_type": "stream",
     "text": [
      "alpha =0.0001, mae = 5.1, mse = 44.7, rho = 0.59\n",
      "alpha =0.001, mae = 5.1, mse = 44.7, rho = 0.59\n",
      "alpha =0.01, mae = 5.1, mse = 44.7, rho = 0.59\n",
      "alpha =0.1, mae = 5.1, mse = 44.6, rho = 0.59\n",
      "alpha =1.0, mae = 5.0, mse = 43.9, rho = 0.60\n",
      "alpha =10.0, mae = 5.0, mse = 42.6, rho = 0.61\n",
      "alpha =100.0, mae = 5.1, mse = 44.4, rho = 0.59\n"
     ]
    }
   ],
   "source": [
    "alphas = [10**x for x in np.arange(-4,3).astype(float)]\n",
    "for alpha in alphas:\n",
    "    ridge_reg = Ridge(alpha=alpha)\n",
    "    ridge_reg.fit(X_train, y_train)\n",
    "    y_pred = ridge_reg.predict(X_test)\n",
    "\n",
    "    rho, _ = spearmanr(y_pred, y_test)  # spearman\n",
    "    mse = mean_squared_error(y_pred, y_test)  # Mean Squared Error\n",
    "    mae = (y_pred - y_test).abs().mean()  # Mean Absolute Error\n",
    "    print(f\"{alpha =}, {mae = :0.1f}, {mse = :0.1f}, {rho = :0.2f}\")"
   ]
  },
  {
   "cell_type": "code",
   "execution_count": 82,
   "id": "f558fb1f-66ec-4451-be7f-23a26c726795",
   "metadata": {},
   "outputs": [
    {
     "data": {
      "image/png": "[encoded data removed]",
      "text/plain": [
       "<Figure size 640x480 with 1 Axes>"
      ]
     },
     "metadata": {},
     "output_type": "display_data"
    }
   ],
   "source": [
    "df = pd.DataFrame({'y_test': y_test, 'y_pred': y_pred})\n",
    "ax = df.plot.scatter(x='y_test', y='y_pred', alpha=0.3, lw=0, s=10)\n",
    "# sns.scatter(data=df, x='y_test', y='y_pred', alpha=0.6)\n",
    "\n",
    "ax.plot([30,100], [30,100], '--', alpha=0.6)\n",
    "plt.show()"
   ]
  },
  {
   "cell_type": "code",
   "execution_count": 83,
   "id": "e426eec5-5198-403e-94fe-5e2283935f2d",
   "metadata": {},
   "outputs": [
    {
     "data": {
      "text/plain": [
       "<AxesSubplot: >"
      ]
     },
     "execution_count": 83,
     "metadata": {},
     "output_type": "execute_result"
    },
    {
     "data": {
      "image/png": "[encoded data removed]",
      "text/plain": [
       "<Figure size 640x480 with 1 Axes>"
      ]
     },
     "metadata": {},
     "output_type": "display_data"
    }
   ],
   "source": [
    "df_train.target.hist(bins=30)"
   ]
  },
  {
   "cell_type": "markdown",
   "id": "d255950d-636e-42f5-b586-3b63f9f1b3ee",
   "metadata": {},
   "source": [
    "- Ridge regerssion: spearman r: 0.6\n",
    "- Kernel ridge regression (laplacian): spearman r: 0.625\n",
    "- NN: mae = 4.7, mse = 38.4, rho = 0.67"
   ]
  },
  {
   "cell_type": "markdown",
   "id": "49a3943b-1361-4e60-8b04-34ca084a5af9",
   "metadata": {},
   "source": [
    "### Build neural net on sequence embeddings"
   ]
  },
  {
   "cell_type": "code",
   "execution_count": 49,
   "id": "3c339ceb-94d9-43bb-b257-17e996e439b4",
   "metadata": {},
   "outputs": [
    {
     "name": "stdout",
     "output_type": "stream",
     "text": [
      "Collecting pytorch_lightning\n",
      "  Downloading pytorch_lightning-1.9.0-py3-none-any.whl (825 kB)\n",
      "\u001b[2K     \u001b[90m━━━━━━━━━━━━━━━━━━━━━━━━━━━━━━━━━━━━━━━\u001b[0m \u001b[32m825.8/825.8 kB\u001b[0m \u001b[31m6.7 MB/s\u001b[0m eta \u001b[36m0:00:00\u001b[0m00:01\u001b[0m00:01\u001b[0m\n",
      "\u001b[?25hRequirement already satisfied: torchmetrics>=0.7.0 in /home/jlaw/.conda/envs/tm/lib/python3.10/site-packages (from pytorch_lightning) (0.11.0)\n",
      "Requirement already satisfied: numpy>=1.17.2 in /home/jlaw/.conda/envs/tm/lib/python3.10/site-packages (from pytorch_lightning) (1.23.5)\n",
      "Requirement already satisfied: typing-extensions>=4.0.0 in /home/jlaw/.conda/envs/tm/lib/python3.10/site-packages (from pytorch_lightning) (4.4.0)\n",
      "Collecting lightning-utilities>=0.4.2\n",
      "  Downloading lightning_utilities-0.6.0.post0-py3-none-any.whl (18 kB)\n",
      "Requirement already satisfied: torch>=1.10.0 in /home/jlaw/.conda/envs/tm/lib/python3.10/site-packages (from pytorch_lightning) (1.13.1.post200)\n",
      "Requirement already satisfied: tqdm>=4.57.0 in /home/jlaw/.conda/envs/tm/lib/python3.10/site-packages (from pytorch_lightning) (4.64.1)\n",
      "Requirement already satisfied: fsspec[http]>2021.06.0 in /home/jlaw/.conda/envs/tm/lib/python3.10/site-packages (from pytorch_lightning) (2023.1.0)\n",
      "Requirement already satisfied: PyYAML>=5.4 in /home/jlaw/.conda/envs/tm/lib/python3.10/site-packages (from pytorch_lightning) (6.0)\n",
      "Requirement already satisfied: packaging>=17.1 in /home/jlaw/.conda/envs/tm/lib/python3.10/site-packages (from pytorch_lightning) (23.0)\n",
      "Requirement already satisfied: requests in /home/jlaw/.conda/envs/tm/lib/python3.10/site-packages (from fsspec[http]>2021.06.0->pytorch_lightning) (2.28.2)\n",
      "Collecting aiohttp!=4.0.0a0,!=4.0.0a1\n",
      "  Downloading aiohttp-3.8.3-cp310-cp310-manylinux_2_17_x86_64.manylinux2014_x86_64.whl (1.0 MB)\n",
      "\u001b[2K     \u001b[90m━━━━━━━━━━━━━━━━━━━━━━━━━━━━━━━━━━━━━━━━\u001b[0m \u001b[32m1.0/1.0 MB\u001b[0m \u001b[31m23.1 MB/s\u001b[0m eta \u001b[36m0:00:00\u001b[0m00:01\u001b[0m\n",
      "\u001b[?25hCollecting async-timeout<5.0,>=4.0.0a3\n",
      "  Downloading async_timeout-4.0.2-py3-none-any.whl (5.8 kB)\n",
      "Collecting aiosignal>=1.1.2\n",
      "  Downloading aiosignal-1.3.1-py3-none-any.whl (7.6 kB)\n",
      "Collecting multidict<7.0,>=4.5\n",
      "  Downloading multidict-6.0.4-cp310-cp310-manylinux_2_17_x86_64.manylinux2014_x86_64.whl (114 kB)\n",
      "\u001b[2K     \u001b[90m━━━━━━━━━━━━━━━━━━━━━━━━━━━━━━━━━━━━━━━\u001b[0m \u001b[32m114.5/114.5 kB\u001b[0m \u001b[31m8.2 MB/s\u001b[0m eta \u001b[36m0:00:00\u001b[0m\n",
      "\u001b[?25hCollecting frozenlist>=1.1.1\n",
      "  Downloading frozenlist-1.3.3-cp310-cp310-manylinux_2_5_x86_64.manylinux1_x86_64.manylinux_2_17_x86_64.manylinux2014_x86_64.whl (149 kB)\n",
      "\u001b[2K     \u001b[90m━━━━━━━━━━━━━━━━━━━━━━━━━━━━━━━━━━━━━━\u001b[0m \u001b[32m149.6/149.6 kB\u001b[0m \u001b[31m10.6 MB/s\u001b[0m eta \u001b[36m0:00:00\u001b[0m\n",
      "\u001b[?25hCollecting yarl<2.0,>=1.0\n",
      "  Downloading yarl-1.8.2-cp310-cp310-manylinux_2_17_x86_64.manylinux2014_x86_64.whl (264 kB)\n",
      "\u001b[2K     \u001b[90m━━━━━━━━━━━━━━━━━━━━━━━━━━━━━━━━━━━━━━\u001b[0m \u001b[32m264.0/264.0 kB\u001b[0m \u001b[31m18.2 MB/s\u001b[0m eta \u001b[36m0:00:00\u001b[0m\n",
      "\u001b[?25hRequirement already satisfied: attrs>=17.3.0 in /home/jlaw/.conda/envs/tm/lib/python3.10/site-packages (from aiohttp!=4.0.0a0,!=4.0.0a1->fsspec[http]>2021.06.0->pytorch_lightning) (22.2.0)\n",
      "Requirement already satisfied: charset-normalizer<3.0,>=2.0 in /home/jlaw/.conda/envs/tm/lib/python3.10/site-packages (from aiohttp!=4.0.0a0,!=4.0.0a1->fsspec[http]>2021.06.0->pytorch_lightning) (2.1.1)\n",
      "Requirement already satisfied: certifi>=2017.4.17 in /home/jlaw/.conda/envs/tm/lib/python3.10/site-packages (from requests->fsspec[http]>2021.06.0->pytorch_lightning) (2022.12.7)\n",
      "Requirement already satisfied: idna<4,>=2.5 in /home/jlaw/.conda/envs/tm/lib/python3.10/site-packages (from requests->fsspec[http]>2021.06.0->pytorch_lightning) (3.4)\n",
      "Requirement already satisfied: urllib3<1.27,>=1.21.1 in /home/jlaw/.conda/envs/tm/lib/python3.10/site-packages (from requests->fsspec[http]>2021.06.0->pytorch_lightning) (1.26.14)\n",
      "Installing collected packages: multidict, lightning-utilities, frozenlist, async-timeout, yarl, aiosignal, aiohttp, pytorch_lightning\n",
      "Successfully installed aiohttp-3.8.3 aiosignal-1.3.1 async-timeout-4.0.2 frozenlist-1.3.3 lightning-utilities-0.6.0.post0 multidict-6.0.4 pytorch_lightning-1.9.0 yarl-1.8.2\n"
     ]
    }
   ],
   "source": [
    "!pip install pytorch_lightning"
   ]
  },
  {
   "cell_type": "code",
   "execution_count": 58,
   "id": "3ad9e381-3efe-4f75-8449-181e79c7ca1e",
   "metadata": {},
   "outputs": [],
   "source": [
    "import torch\n",
    "from torch import nn\n",
    "import pytorch_lightning as pl\n",
    "import torchmetrics"
   ]
  },
  {
   "cell_type": "code",
   "execution_count": 97,
   "id": "bbfb2ed6-cce3-4375-8935-ba8c196d9ed8",
   "metadata": {},
   "outputs": [],
   "source": [
    "class NeuralNetwork(pl.LightningModule):\n",
    "    def __init__(self, initial_layer_size=1280):\n",
    "        super(NeuralNetwork, self).__init__()\n",
    "        self.linear_relu_stack = nn.Sequential(\n",
    "            nn.Linear(initial_layer_size, 512),\n",
    "            nn.ReLU(),            \n",
    "            nn.Linear(512, 512),\n",
    "            nn.ReLU(),\n",
    "            nn.Linear(512, 1),\n",
    "        )\n",
    "\n",
    "    def forward(self, x):\n",
    "        logits = self.linear_relu_stack(x)\n",
    "        return logits    \n",
    "\n",
    "    def training_step(self, batch, batch_idx):\n",
    "        x, y = batch\n",
    "        y_pred = self(x).squeeze(1)\n",
    "        loss = nn.functional.mse_loss(y_pred, y)\n",
    "        self.log('train_loss', loss)\n",
    "        return loss\n",
    "    \n",
    "    def validation_step(self, batch, batch_idx):\n",
    "        x, y = batch\n",
    "        y_pred = self(x).squeeze(1)\n",
    "        loss = nn.functional.mse_loss(y_pred, y)        \n",
    "        self.log(\"val_loss\", loss)\n",
    "        \n",
    "    def configure_optimizers(self):\n",
    "        optimizer = torch.optim.Adam(self.parameters(), lr=1e-3)\n",
    "        return optimizer"
   ]
  },
  {
   "cell_type": "code",
   "execution_count": 109,
   "id": "f1ae9480-7fa5-4a6e-97ae-d1bcd9d5bdac",
   "metadata": {},
   "outputs": [],
   "source": [
    "def fit_model(X_train, y_train, X_valid):\n",
    "    pl.seed_everything(42)\n",
    "    model = NeuralNetwork(initial_layer_size=X_train.shape[1])\n",
    "    \n",
    "    trainer = pl.Trainer(\n",
    "        # gpus=-1,\n",
    "        # devices=0,\n",
    "        accelerator=\"gpu\",\n",
    "        max_epochs=20,\n",
    "        check_val_every_n_epoch=5)\n",
    "    \n",
    "    train_dataset = torch.utils.data.TensorDataset(torch.Tensor(X_train).to(device), torch.Tensor(y_train).to(device))\n",
    "    # valid_dataset = torch.utils.data.TensorDataset(torch.Tensor(X_valid), torch.Tensor(y_valid))\n",
    "\n",
    "    train_loader = torch.utils.data.DataLoader(train_dataset, batch_size=32, shuffle=True)\n",
    "    # valid_loader = torch.utils.data.DataLoader(valid_dataset, batch_size=16, shuffle=False)\n",
    "\n",
    "    trainer.fit(model, train_loader)\n",
    "    \n",
    "    return model"
   ]
  },
  {
   "cell_type": "code",
   "execution_count": 107,
   "id": "c22f8d7e-b87d-4cbd-9190-49b60976d75a",
   "metadata": {},
   "outputs": [
    {
     "name": "stdout",
     "output_type": "stream",
     "text": [
      "True\n"
     ]
    }
   ],
   "source": [
    "print(torch.Tensor(X_train).to(device).is_cuda)"
   ]
  },
  {
   "cell_type": "code",
   "execution_count": 85,
   "id": "bcbdd95f-7ecc-4ffb-ab19-f5193749aa89",
   "metadata": {},
   "outputs": [
    {
     "data": {
      "text/plain": [
       "(2897,)"
      ]
     },
     "execution_count": 85,
     "metadata": {},
     "output_type": "execute_result"
    }
   ],
   "source": [
    "y_pred.shape"
   ]
  },
  {
   "cell_type": "code",
   "execution_count": 95,
   "id": "90bb674b-deff-4987-9a04-ce918c4c6fad",
   "metadata": {},
   "outputs": [
    {
     "data": {
      "text/plain": [
       "'cuda:0'"
      ]
     },
     "execution_count": 95,
     "metadata": {},
     "output_type": "execute_result"
    }
   ],
   "source": [
    "device = 'cuda:0' if torch.cuda.is_available() else 'cpu'\n",
    "device"
   ]
  },
  {
   "cell_type": "code",
   "execution_count": 110,
   "id": "2449ca64-22ac-4285-a184-573fc61dc8ce",
   "metadata": {},
   "outputs": [
    {
     "name": "stderr",
     "output_type": "stream",
     "text": [
      "Global seed set to 42\n",
      "GPU available: True (cuda), used: True\n",
      "TPU available: False, using: 0 TPU cores\n",
      "IPU available: False, using: 0 IPUs\n",
      "HPU available: False, using: 0 HPUs\n",
      "LOCAL_RANK: 0 - CUDA_VISIBLE_DEVICES: [0]\n",
      "\n",
      "  | Name              | Type       | Params\n",
      "-------------------------------------------------\n",
      "0 | linear_relu_stack | Sequential | 919 K \n",
      "-------------------------------------------------\n",
      "919 K     Trainable params\n",
      "0         Non-trainable params\n",
      "919 K     Total params\n",
      "3.676     Total estimated model params size (MB)\n"
     ]
    },
    {
     "data": {
      "application/vnd.jupyter.widget-view+json": {
       "model_id": "728f9eb03cee46319475d3de769afebb",
       "version_major": 2,
       "version_minor": 0
      },
      "text/plain": [
       "Training: 0it [00:00, ?it/s]"
      ]
     },
     "metadata": {},
     "output_type": "display_data"
    },
    {
     "name": "stderr",
     "output_type": "stream",
     "text": [
      "`Trainer.fit` stopped: `max_epochs=20` reached.\n"
     ]
    }
   ],
   "source": [
    "model = fit_model(X_train, y_train, X_test)"
   ]
  },
  {
   "cell_type": "code",
   "execution_count": 112,
   "id": "ef7205db-5f68-4483-a3f5-097501d0246c",
   "metadata": {},
   "outputs": [
    {
     "data": {
      "text/plain": [
       "array([[40.97166 ],\n",
       "       [58.974392],\n",
       "       [49.53869 ],\n",
       "       ...,\n",
       "       [53.696003],\n",
       "       [48.5216  ],\n",
       "       [46.89811 ]], dtype=float32)"
      ]
     },
     "execution_count": 112,
     "metadata": {},
     "output_type": "execute_result"
    }
   ],
   "source": [
    "y_pred"
   ]
  },
  {
   "cell_type": "code",
   "execution_count": 113,
   "id": "ac89a77c-94a0-4130-98cd-fc97bdec5677",
   "metadata": {},
   "outputs": [
    {
     "name": "stdout",
     "output_type": "stream",
     "text": [
      "mae = 4.7, mse = 38.4, rho = 0.67\n"
     ]
    }
   ],
   "source": [
    "# y_pred = fit_predict(X_train, y_train, X_test).flatten()\n",
    "# y_pred = model(torch.Tensor(X_test).to('cuda')[2].unsqueeze(1).detach().cpu()\n",
    "y_pred = model(torch.Tensor(X_test)).detach().squeeze().numpy()\n",
    "\n",
    "rho, _ = spearmanr(y_pred, y_test)  # spearman\n",
    "mse = mean_squared_error(y_pred, y_test)  # Mean Squared Error\n",
    "mae = (y_pred - y_test).abs().mean()  # Mean Absolute Error\n",
    "print(f\"{mae = :0.1f}, {mse = :0.1f}, {rho = :0.2f}\")"
   ]
  },
  {
   "cell_type": "code",
   "execution_count": 114,
   "id": "339ef960-e4b5-45a2-9e8b-5771a40ffa5e",
   "metadata": {},
   "outputs": [
    {
     "data": {
      "image/png": "[encoded data removed]",
      "text/plain": [
       "<Figure size 640x480 with 1 Axes>"
      ]
     },
     "metadata": {},
     "output_type": "display_data"
    }
   ],
   "source": [
    "df = pd.DataFrame({'y_test': y_test, 'y_pred': y_pred})\n",
    "ax = df.plot.scatter(x='y_test', y='y_pred', alpha=0.3, lw=0, s=10)\n",
    "# sns.scatter(data=df, x='y_test', y='y_pred', alpha=0.6)\n",
    "\n",
    "ax.plot([30,100], [30,100], '--', alpha=0.6)\n",
    "plt.show()"
   ]
  },
  {
   "cell_type": "code",
   "execution_count": null,
   "id": "f1b82855-1105-44b8-8269-24affbb14d47",
   "metadata": {},
   "outputs": [],
   "source": []
  }
 ],
 "metadata": {
  "kernelspec": {
   "display_name": "Python 3 (ipykernel)",
   "language": "python",
   "name": "python3"
  },
  "language_info": {
   "codemirror_mode": {
    "name": "ipython",
    "version": 3
   },
   "file_extension": ".py",
   "mimetype": "text/x-python",
   "name": "python",
   "nbconvert_exporter": "python",
   "pygments_lexer": "ipython3",
   "version": "3.10.8"
  }
 },
 "nbformat": 4,
 "nbformat_minor": 5
}
