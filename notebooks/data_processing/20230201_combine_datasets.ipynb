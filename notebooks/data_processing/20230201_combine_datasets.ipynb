{
 "cells": [
  {
   "cell_type": "code",
   "execution_count": 1,
   "id": "273c3526-4b7a-4723-873f-e4042424b842",
   "metadata": {},
   "outputs": [],
   "source": [
    "import gzip\n",
    "import json\n",
    "import pandas as pd\n",
    "import numpy as np\n",
    "from pathlib import Path\n",
    "from tqdm.auto import tqdm\n",
    "\n",
    "import matplotlib.pyplot as plt\n",
    "import seaborn as sns"
   ]
  },
  {
   "cell_type": "code",
   "execution_count": 3,
   "id": "c79e56c9-c999-4cb3-a0f4-56cfcbf15619",
   "metadata": {},
   "outputs": [],
   "source": [
    "import biotite\n",
    "import biotite.database.rcsb as rcsb\n",
    "import biotite.structure.io.pdb as pdb\n",
    "import biotite.structure as struc"
   ]
  },
  {
   "cell_type": "code",
   "execution_count": 2,
   "id": "84b20956-599e-47e2-b13a-a4cf15cd1f7f",
   "metadata": {},
   "outputs": [],
   "source": [
    "dataset_path = \"/projects/robustmicrob/jlaw/inputs\""
   ]
  },
  {
   "cell_type": "code",
   "execution_count": null,
   "id": "9079d4ea-af78-46b4-b0d8-427d252a73a4",
   "metadata": {},
   "outputs": [],
   "source": [
    "# fireprotdb"
   ]
  }
 ],
 "metadata": {
  "kernelspec": {
   "display_name": "Python 3 (ipykernel)",
   "language": "python",
   "name": "python3"
  },
  "language_info": {
   "codemirror_mode": {
    "name": "ipython",
    "version": 3
   },
   "file_extension": ".py",
   "mimetype": "text/x-python",
   "name": "python",
   "nbconvert_exporter": "python",
   "pygments_lexer": "ipython3",
   "version": "3.10.8"
  }
 },
 "nbformat": 4,
 "nbformat_minor": 5
}
