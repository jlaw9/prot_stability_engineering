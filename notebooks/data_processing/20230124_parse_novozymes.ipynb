{
 "cells": [
  {
   "cell_type": "code",
   "execution_count": 20,
   "id": "05f51cd7-73a3-49ab-80dc-78c0ce4b0031",
   "metadata": {},
   "outputs": [
    {
     "ename": "AttributeError",
     "evalue": "module 'matplotlib' has no attribute 'get_data_path'",
     "output_type": "error",
     "traceback": [
      "\u001b[0;31m---------------------------------------------------------------------------\u001b[0m",
      "\u001b[0;31mAttributeError\u001b[0m                            Traceback (most recent call last)",
      "Input \u001b[0;32mIn [20]\u001b[0m, in \u001b[0;36m<cell line: 6>\u001b[0;34m()\u001b[0m\n\u001b[1;32m      3\u001b[0m \u001b[38;5;28;01mimport\u001b[39;00m \u001b[38;5;21;01mnumpy\u001b[39;00m \u001b[38;5;28;01mas\u001b[39;00m \u001b[38;5;21;01mnp\u001b[39;00m\n\u001b[1;32m      4\u001b[0m \u001b[38;5;28;01mfrom\u001b[39;00m \u001b[38;5;21;01mtqdm\u001b[39;00m\u001b[38;5;21;01m.\u001b[39;00m\u001b[38;5;21;01mauto\u001b[39;00m \u001b[38;5;28;01mimport\u001b[39;00m tqdm\n\u001b[0;32m----> 6\u001b[0m \u001b[38;5;28;01mimport\u001b[39;00m \u001b[38;5;21;01mmatplotlib\u001b[39;00m\u001b[38;5;21;01m.\u001b[39;00m\u001b[38;5;21;01mpyplot\u001b[39;00m \u001b[38;5;28;01mas\u001b[39;00m \u001b[38;5;21;01mplt\u001b[39;00m\n\u001b[1;32m      7\u001b[0m \u001b[38;5;28;01mimport\u001b[39;00m \u001b[38;5;21;01mseaborn\u001b[39;00m \u001b[38;5;28;01mas\u001b[39;00m \u001b[38;5;21;01msns\u001b[39;00m\n",
      "File \u001b[0;32m/lustre/eaglefs/projects/bpms/jlaw/envs/pyg/lib/python3.10/site-packages/matplotlib/__init__.py:887\u001b[0m, in \u001b[0;36m<module>\u001b[0;34m\u001b[0m\n\u001b[1;32m    880\u001b[0m     \u001b[38;5;28;01mreturn\u001b[39;00m config\n\u001b[1;32m    883\u001b[0m \u001b[38;5;66;03m# When constructing the global instances, we need to perform certain updates\u001b[39;00m\n\u001b[1;32m    884\u001b[0m \u001b[38;5;66;03m# by explicitly calling the superclass (dict.update, dict.items) to avoid\u001b[39;00m\n\u001b[1;32m    885\u001b[0m \u001b[38;5;66;03m# triggering resolution of _auto_backend_sentinel.\u001b[39;00m\n\u001b[1;32m    886\u001b[0m rcParamsDefault \u001b[38;5;241m=\u001b[39m _rc_params_in_file(\n\u001b[0;32m--> 887\u001b[0m     \u001b[43mcbook\u001b[49m\u001b[38;5;241;43m.\u001b[39;49m\u001b[43m_get_data_path\u001b[49m\u001b[43m(\u001b[49m\u001b[38;5;124;43m\"\u001b[39;49m\u001b[38;5;124;43mmatplotlibrc\u001b[39;49m\u001b[38;5;124;43m\"\u001b[39;49m\u001b[43m)\u001b[49m,\n\u001b[1;32m    888\u001b[0m     \u001b[38;5;66;03m# Strip leading comment.\u001b[39;00m\n\u001b[1;32m    889\u001b[0m     transform\u001b[38;5;241m=\u001b[39m\u001b[38;5;28;01mlambda\u001b[39;00m line: line[\u001b[38;5;241m1\u001b[39m:] \u001b[38;5;28;01mif\u001b[39;00m line\u001b[38;5;241m.\u001b[39mstartswith(\u001b[38;5;124m\"\u001b[39m\u001b[38;5;124m#\u001b[39m\u001b[38;5;124m\"\u001b[39m) \u001b[38;5;28;01melse\u001b[39;00m line,\n\u001b[1;32m    890\u001b[0m     fail_on_error\u001b[38;5;241m=\u001b[39m\u001b[38;5;28;01mTrue\u001b[39;00m)\n\u001b[1;32m    891\u001b[0m \u001b[38;5;28mdict\u001b[39m\u001b[38;5;241m.\u001b[39mupdate(rcParamsDefault, rcsetup\u001b[38;5;241m.\u001b[39m_hardcoded_defaults)\n\u001b[1;32m    892\u001b[0m \u001b[38;5;66;03m# Normally, the default matplotlibrc file contains *no* entry for backend (the\u001b[39;00m\n\u001b[1;32m    893\u001b[0m \u001b[38;5;66;03m# corresponding line starts with ##, not #; we fill on _auto_backend_sentinel\u001b[39;00m\n\u001b[1;32m    894\u001b[0m \u001b[38;5;66;03m# in that case.  However, packagers can set a different default backend\u001b[39;00m\n\u001b[1;32m    895\u001b[0m \u001b[38;5;66;03m# (resulting in a normal `#backend: foo` line) in which case we should *not*\u001b[39;00m\n\u001b[1;32m    896\u001b[0m \u001b[38;5;66;03m# fill in _auto_backend_sentinel.\u001b[39;00m\n",
      "File \u001b[0;32m/lustre/eaglefs/projects/bpms/jlaw/envs/pyg/lib/python3.10/site-packages/matplotlib/cbook/__init__.py:559\u001b[0m, in \u001b[0;36m_get_data_path\u001b[0;34m(*args)\u001b[0m\n\u001b[1;32m    553\u001b[0m \u001b[38;5;28;01mdef\u001b[39;00m \u001b[38;5;21m_get_data_path\u001b[39m(\u001b[38;5;241m*\u001b[39margs):\n\u001b[1;32m    554\u001b[0m     \u001b[38;5;124;03m\"\"\"\u001b[39;00m\n\u001b[1;32m    555\u001b[0m \u001b[38;5;124;03m    Return the `pathlib.Path` to a resource file provided by Matplotlib.\u001b[39;00m\n\u001b[1;32m    556\u001b[0m \n\u001b[1;32m    557\u001b[0m \u001b[38;5;124;03m    ``*args`` specify a path relative to the base data path.\u001b[39;00m\n\u001b[1;32m    558\u001b[0m \u001b[38;5;124;03m    \"\"\"\u001b[39;00m\n\u001b[0;32m--> 559\u001b[0m     \u001b[38;5;28;01mreturn\u001b[39;00m Path(\u001b[43mmatplotlib\u001b[49m\u001b[38;5;241;43m.\u001b[39;49m\u001b[43mget_data_path\u001b[49m(), \u001b[38;5;241m*\u001b[39margs)\n",
      "\u001b[0;31mAttributeError\u001b[0m: module 'matplotlib' has no attribute 'get_data_path'"
     ]
    }
   ],
   "source": [
    "import gzip\n",
    "import pandas as pd\n",
    "import numpy as np\n",
    "from tqdm.auto import tqdm\n",
    "\n",
    "import matplotlib.pyplot as plt\n",
    "import seaborn as sns"
   ]
  },
  {
   "cell_type": "markdown",
   "id": "c60e1aa1-6330-478d-a91f-d2f443eba596",
   "metadata": {},
   "source": [
    "### novozymes dataset sequences"
   ]
  },
  {
   "cell_type": "code",
   "execution_count": 2,
   "id": "77eadb28-15d8-4d70-a977-88dcaaac61e5",
   "metadata": {},
   "outputs": [
    {
     "data": {
      "text/html": [
       "<div>\n",
       "<style scoped>\n",
       "    .dataframe tbody tr th:only-of-type {\n",
       "        vertical-align: middle;\n",
       "    }\n",
       "\n",
       "    .dataframe tbody tr th {\n",
       "        vertical-align: top;\n",
       "    }\n",
       "\n",
       "    .dataframe thead th {\n",
       "        text-align: right;\n",
       "    }\n",
       "</style>\n",
       "<table border=\"1\" class=\"dataframe\">\n",
       "  <thead>\n",
       "    <tr style=\"text-align: right;\">\n",
       "      <th></th>\n",
       "      <th>WT_group</th>\n",
       "      <th>WT</th>\n",
       "      <th>position</th>\n",
       "      <th>MUT</th>\n",
       "      <th>sequence</th>\n",
       "      <th>mutant_seq</th>\n",
       "      <th>pH</th>\n",
       "      <th>df_sourse</th>\n",
       "      <th>data_source</th>\n",
       "      <th>source_df_id</th>\n",
       "      <th>tm</th>\n",
       "      <th>CIF</th>\n",
       "      <th>wt_tm</th>\n",
       "      <th>dTm</th>\n",
       "    </tr>\n",
       "  </thead>\n",
       "  <tbody>\n",
       "    <tr>\n",
       "      <th>0</th>\n",
       "      <td>GP02</td>\n",
       "      <td>S</td>\n",
       "      <td>6</td>\n",
       "      <td>K</td>\n",
       "      <td>MNQSVSSLPEKDIQYQLHPYTNARLHQELGPLIIERGEGIYVYDDQ...</td>\n",
       "      <td>MNQSVKSLPEKDIQYQLHPYTNARLHQELGPLIIERGEGIYVYDDQ...</td>\n",
       "      <td>8.0</td>\n",
       "      <td>NESP train</td>\n",
       "      <td>10.1021/acscatal.9b05223</td>\n",
       "      <td>19480.0</td>\n",
       "      <td>62.5</td>\n",
       "      <td>AF-A0A2W0F5X5-F1</td>\n",
       "      <td>62.0</td>\n",
       "      <td>0.5</td>\n",
       "    </tr>\n",
       "    <tr>\n",
       "      <th>1</th>\n",
       "      <td>GP02</td>\n",
       "      <td>P</td>\n",
       "      <td>9</td>\n",
       "      <td>A</td>\n",
       "      <td>MNQSVSSLPEKDIQYQLHPYTNARLHQELGPLIIERGEGIYVYDDQ...</td>\n",
       "      <td>MNQSVSSLAEKDIQYQLHPYTNARLHQELGPLIIERGEGIYVYDDQ...</td>\n",
       "      <td>8.0</td>\n",
       "      <td>NESP train</td>\n",
       "      <td>10.1021/acscatal.9b05223</td>\n",
       "      <td>19481.0</td>\n",
       "      <td>64.0</td>\n",
       "      <td>AF-A0A2W0F5X5-F1</td>\n",
       "      <td>62.0</td>\n",
       "      <td>2.0</td>\n",
       "    </tr>\n",
       "  </tbody>\n",
       "</table>\n",
       "</div>"
      ],
      "text/plain": [
       "  WT_group WT  position MUT  \\\n",
       "0     GP02  S         6   K   \n",
       "1     GP02  P         9   A   \n",
       "\n",
       "                                            sequence  \\\n",
       "0  MNQSVSSLPEKDIQYQLHPYTNARLHQELGPLIIERGEGIYVYDDQ...   \n",
       "1  MNQSVSSLPEKDIQYQLHPYTNARLHQELGPLIIERGEGIYVYDDQ...   \n",
       "\n",
       "                                          mutant_seq   pH   df_sourse  \\\n",
       "0  MNQSVKSLPEKDIQYQLHPYTNARLHQELGPLIIERGEGIYVYDDQ...  8.0  NESP train   \n",
       "1  MNQSVSSLAEKDIQYQLHPYTNARLHQELGPLIIERGEGIYVYDDQ...  8.0  NESP train   \n",
       "\n",
       "                data_source  source_df_id    tm               CIF  wt_tm  dTm  \n",
       "0  10.1021/acscatal.9b05223       19480.0  62.5  AF-A0A2W0F5X5-F1   62.0  0.5  \n",
       "1  10.1021/acscatal.9b05223       19481.0  64.0  AF-A0A2W0F5X5-F1   62.0  2.0  "
      ]
     },
     "execution_count": 2,
     "metadata": {},
     "output_type": "execute_result"
    }
   ],
   "source": [
    "df = pd.read_csv(\"/projects/robustmicrob/jlaw/inputs/novozymes/NOVO_train_repaired_df.csv\")\n",
    "df.head(2)"
   ]
  },
  {
   "cell_type": "code",
   "execution_count": 49,
   "id": "9d8b3911-c920-4eaa-9647-821d8e15e3a1",
   "metadata": {},
   "outputs": [
    {
     "data": {
      "text/plain": [
       "30"
      ]
     },
     "execution_count": 49,
     "metadata": {},
     "output_type": "execute_result"
    }
   ],
   "source": [
    "# reformat the dataframe so that WT and mutant sequences are on their own lines\n",
    "wt_df = df[['uniprot_id', 'WT_group', 'pH', 'wt_tm', 'data_source', 'sequence']].drop_duplicates()\n",
    "len(wt_df)"
   ]
  },
  {
   "cell_type": "code",
   "execution_count": 4,
   "id": "816bd2a5-385b-4ec2-a664-4084b4d2571a",
   "metadata": {},
   "outputs": [
    {
     "data": {
      "text/plain": [
       "8.0     269\n",
       "7.0     243\n",
       "7.5     184\n",
       "7.4      49\n",
       "7.2      44\n",
       "6.3      33\n",
       "5.0      30\n",
       "6.4      23\n",
       "11.0     22\n",
       "7.6      20\n",
       "3.2      17\n",
       "8.2      15\n",
       "2.7      14\n",
       "6.0      12\n",
       "8.5      11\n",
       "Name: pH, dtype: int64"
      ]
     },
     "execution_count": 4,
     "metadata": {},
     "output_type": "execute_result"
    }
   ],
   "source": [
    "df.pH.value_counts()"
   ]
  },
  {
   "cell_type": "markdown",
   "id": "a682083c-636c-4643-9c86-8f8a1e6e3945",
   "metadata": {},
   "source": [
    "### Map the sequence to the uniprot ID"
   ]
  },
  {
   "cell_type": "code",
   "execution_count": 5,
   "id": "1df7e581-c697-4e44-8fc2-1c1985d042c9",
   "metadata": {},
   "outputs": [],
   "source": [
    "# copied from here: https://stackoverflow.com/a/29805905/7483950\n",
    "def read_fasta(fp, gzipped=False):\n",
    "        name, seq = None, []\n",
    "        for line in fp:\n",
    "            if gzipped:\n",
    "                line = line.decode()\n",
    "            line = line.rstrip()\n",
    "            if line.startswith(\">\"):\n",
    "                if name: yield (name, ''.join(seq))\n",
    "                name, seq = line[1:], []\n",
    "            else:\n",
    "                seq.append(line)\n",
    "        if name: yield (name, ''.join(seq))"
   ]
  },
  {
   "cell_type": "code",
   "execution_count": 6,
   "id": "29f6ebb5-c8f3-4fd2-9568-1657fe6e7d63",
   "metadata": {},
   "outputs": [],
   "source": [
    "seq_set = set(wt_df.sequence.values)"
   ]
  },
  {
   "cell_type": "code",
   "execution_count": 9,
   "id": "c9af105e-4ca7-4e1c-9346-85d70f5e8e31",
   "metadata": {},
   "outputs": [
    {
     "name": "stdout",
     "output_type": "stream",
     "text": [
      "reading /projects/bpms/jlaw/inputs/uniprot/2023-01/uniprot_sprot_shortid.fasta.gz\n"
     ]
    },
    {
     "name": "stderr",
     "output_type": "stream",
     "text": [
      "568744it [00:04, 131340.38it/s]"
     ]
    },
    {
     "name": "stdout",
     "output_type": "stream",
     "text": [
      "\t26 found\n"
     ]
    },
    {
     "name": "stderr",
     "output_type": "stream",
     "text": [
      "\n"
     ]
    }
   ],
   "source": [
    "# find the uniprot IDs based on the sequences\n",
    "fasta_file = \"/projects/bpms/jlaw/inputs/uniprot/2023-01/uniprot_sprot_shortid.fasta.gz\"\n",
    "print(f\"reading {fasta_file}\")\n",
    "seq_to_uniprot = {}\n",
    "with gzip.open(fasta_file, 'r') as f:\n",
    "    for name, seq in tqdm(read_fasta(f, gzipped=True)):\n",
    "        if seq not in seq_set:\n",
    "            continue\n",
    "        seq_to_uniprot[seq] = name\n",
    "\n",
    "print(f\"\\t{len(seq_to_uniprot)} found\")"
   ]
  },
  {
   "cell_type": "code",
   "execution_count": 10,
   "id": "b724c902-c6e4-4509-bc26-44faee541b33",
   "metadata": {},
   "outputs": [
    {
     "data": {
      "text/plain": [
       "{'MKFLQVLPALIPAALAQTSCDQWATFTGNGYTVSNNLWGASAGSGFGCVTAVSLSGGASWHADWQWSGGQNNVKSYQNSQIAIPQKRTVNSISSMPTTASWSYSGSNIRANVAYDLFTAANPNHVTYSGDYELMIWLGKYGDIGPIGSSQGTVNVGGQSWTLYYGYNGAMQVYSFVAQTNTTNYSGDVKNFFNYLRDNKGYNAAGQYVLSYQFGTEPFTGSGTLNVASWTASIN',\n",
       " 'MMKMEGIALKKRLSWISVCLLVLVSAAGMLFSTAAKTETSSHKAHTEAQVINTFDGVADYLQTYHKLPDNYITKSEAQALGWVASKGNLADVAPGKSIGGDIFSNREGKLPGKSGRTWREADINYTSGFRNSDRILYSSDWLIYKTTDAYQTFTKIR',\n",
       " 'MNQSVSSLPEKDIQYQLHPYTNARLHQELGPLIIERGEGIYVYDDQGKGYIEAMAGLWSAALGFSNQRLIKAAEQQFNTLPFYHLFSHKSHRPSIELAEKLIEMAPVPMSKVFFTNSGSEANDTVVKMVWYLNNALGKPAKKKFISRVNGYHGITVASASLTGLPGNQRGFDLPLPGFLHVGCPHHYRFALAGESEEHFADRLAVELEQKILAEGPETIAAFIGEPLMGAGGVIVPPRTYWEKIQKVCRKYDILVIADEVICGFGRTGQMFGSQTFGIQPDIMVLSKQLSSSYQPIAAILINAPVFEGIADQSQALGALGHGFTGSGHPVATAVALENLKIIEEESLVEHAAQMGQLLRSGLQHFIDHPLVGEIRGCGLIAAVELVGDRVSKAPYQALGTLGRYMAGRAQEHGMITRAMGDAVAFCPPLIVNEQEVGMIVERFARALDDTTQWVG',\n",
       " 'MVNLRNAVHSFLVHLIGLLVWQCDISVSPVAAIVTDIFNTSDGGRFKFPDGVQNWPALSIVIIIIMTIGGNILVIMAVSMEKKLHNATNYFLMSLAIADMLVGLLVMPLSLLAILYDYVWPLPRYLCPVWISLDVLFSTASIMHLCAISLDRYVAIRNPIEHSRFNSRTKAIMKIAIVWAISIGVSVPIPVIGLRDEEKVFVNNTTCVLNDPNFVLIGSFVAFFIPLTIMVITYCLTIYVLRRQALMLLHGHTEEPPGLSLDFLKCCKRNTAEEENSANPNQDQNARRRKKKERRPRGTMQAINNERKASKVLGIVFFVFLIMWCPFFITNILSVLCEKSCNQKLMEKLLNVFVWIGYVCSGINPLVYTLFNKIYRRAFSNYLRCNYKVEKKPPVRQIPRVAATALSGRELNVNIYRHTNEPVIEKASDNEPGIEMQVENLELPVNPSSVVSERISSV'}"
      ]
     },
     "execution_count": 10,
     "metadata": {},
     "output_type": "execute_result"
    }
   ],
   "source": [
    "seq_set - set(seq_to_uniprot.keys())"
   ]
  },
  {
   "cell_type": "code",
   "execution_count": 35,
   "id": "5a56df78-b52e-4fac-99ec-b602e7c97fbb",
   "metadata": {},
   "outputs": [],
   "source": [
    "seq_to_uniprot.update({\n",
    "    'MKFLQVLPALIPAALAQTSCDQWATFTGNGYTVSNNLWGASAGSGFGCVTAVSLSGGASWHADWQWSGGQNNVKSYQNSQIAIPQKRTVNSISSMPTTASWSYSGSNIRANVAYDLFTAANPNHVTYSGDYELMIWLGKYGDIGPIGSSQGTVNVGGQSWTLYYGYNGAMQVYSFVAQTNTTNYSGDVKNFFNYLRDNKGYNAAGQYVLSYQFGTEPFTGSGTLNVASWTASIN': 'G0RRG8',\n",
    "    'MMKMEGIALKKRLSWISVCLLVLVSAAGMLFSTAAKTETSSHKAHTEAQVINTFDGVADYLQTYHKLPDNYITKSEAQALGWVASKGNLADVAPGKSIGGDIFSNREGKLPGKSGRTWREADINYTSGFRNSDRILYSSDWLIYKTTDAYQTFTKIR': 'P00648',\n",
    "    # 'MNQSVSSLPEKDIQYQLHPYTNARLHQELGPLIIERGEGIYVYDDQGKGYIEAMAGLWSAALGFSNQRLIKAAEQQFNTLPFYHLFSHKSHRPSIELAEKLIEMAPVPMSKVFFTNSGSEANDTVVKMVWYLNNALGKPAKKKFISRVNGYHGITVASASLTGLPGNQRGFDLPLPGFLHVGCPHHYRFALAGESEEHFADRLAVELEQKILAEGPETIAAFIGEPLMGAGGVIVPPRTYWEKIQKVCRKYDILVIADEVICGFGRTGQMFGSQTFGIQPDIMVLSKQLSSSYQPIAAILINAPVFEGIADQSQALGALGHGFTGSGHPVATAVALENLKIIEEESLVEHAAQMGQLLRSGLQHFIDHPLVGEIRGCGLIAAVELVGDRVSKAPYQALGTLGRYMAGRAQEHGMITRAMGDAVAFCPPLIVNEQEVGMIVERFARALDDTTQWVG': '',\n",
    "    'MVNLRNAVHSFLVHLIGLLVWQCDISVSPVAAIVTDIFNTSDGGRFKFPDGVQNWPALSIVIIIIMTIGGNILVIMAVSMEKKLHNATNYFLMSLAIADMLVGLLVMPLSLLAILYDYVWPLPRYLCPVWISLDVLFSTASIMHLCAISLDRYVAIRNPIEHSRFNSRTKAIMKIAIVWAISIGVSVPIPVIGLRDEEKVFVNNTTCVLNDPNFVLIGSFVAFFIPLTIMVITYCLTIYVLRRQALMLLHGHTEEPPGLSLDFLKCCKRNTAEEENSANPNQDQNARRRKKKERRPRGTMQAINNERKASKVLGIVFFVFLIMWCPFFITNILSVLCEKSCNQKLMEKLLNVFVWIGYVCSGINPLVYTLFNKIYRRAFSNYLRCNYKVEKKPPVRQIPRVAATALSGRELNVNIYRHTNEPVIEKASDNEPGIEMQVENLELPVNPSSVVSERISSV': 'Q5IS66',\n",
    "})"
   ]
  },
  {
   "cell_type": "code",
   "execution_count": 36,
   "id": "06acd040-80a1-4c61-92e8-e962ff276514",
   "metadata": {},
   "outputs": [
    {
     "data": {
      "text/html": [
       "<div>\n",
       "<style scoped>\n",
       "    .dataframe tbody tr th:only-of-type {\n",
       "        vertical-align: middle;\n",
       "    }\n",
       "\n",
       "    .dataframe tbody tr th {\n",
       "        vertical-align: top;\n",
       "    }\n",
       "\n",
       "    .dataframe thead th {\n",
       "        text-align: right;\n",
       "    }\n",
       "</style>\n",
       "<table border=\"1\" class=\"dataframe\">\n",
       "  <thead>\n",
       "    <tr style=\"text-align: right;\">\n",
       "      <th></th>\n",
       "      <th>WT_group</th>\n",
       "      <th>WT</th>\n",
       "      <th>position</th>\n",
       "      <th>MUT</th>\n",
       "      <th>sequence</th>\n",
       "      <th>mutant_seq</th>\n",
       "      <th>pH</th>\n",
       "      <th>df_sourse</th>\n",
       "      <th>data_source</th>\n",
       "      <th>source_df_id</th>\n",
       "      <th>tm</th>\n",
       "      <th>CIF</th>\n",
       "      <th>wt_tm</th>\n",
       "      <th>dTm</th>\n",
       "      <th>uniprot_id</th>\n",
       "    </tr>\n",
       "  </thead>\n",
       "  <tbody>\n",
       "    <tr>\n",
       "      <th>0</th>\n",
       "      <td>GP02</td>\n",
       "      <td>S</td>\n",
       "      <td>6</td>\n",
       "      <td>K</td>\n",
       "      <td>MNQSVSSLPEKDIQYQLHPYTNARLHQELGPLIIERGEGIYVYDDQ...</td>\n",
       "      <td>MNQSVKSLPEKDIQYQLHPYTNARLHQELGPLIIERGEGIYVYDDQ...</td>\n",
       "      <td>8.0</td>\n",
       "      <td>NESP train</td>\n",
       "      <td>10.1021/acscatal.9b05223</td>\n",
       "      <td>19480.0</td>\n",
       "      <td>62.5</td>\n",
       "      <td>AF-A0A2W0F5X5-F1</td>\n",
       "      <td>62.0</td>\n",
       "      <td>0.5</td>\n",
       "      <td>NaN</td>\n",
       "    </tr>\n",
       "    <tr>\n",
       "      <th>1</th>\n",
       "      <td>GP02</td>\n",
       "      <td>P</td>\n",
       "      <td>9</td>\n",
       "      <td>A</td>\n",
       "      <td>MNQSVSSLPEKDIQYQLHPYTNARLHQELGPLIIERGEGIYVYDDQ...</td>\n",
       "      <td>MNQSVSSLAEKDIQYQLHPYTNARLHQELGPLIIERGEGIYVYDDQ...</td>\n",
       "      <td>8.0</td>\n",
       "      <td>NESP train</td>\n",
       "      <td>10.1021/acscatal.9b05223</td>\n",
       "      <td>19481.0</td>\n",
       "      <td>64.0</td>\n",
       "      <td>AF-A0A2W0F5X5-F1</td>\n",
       "      <td>62.0</td>\n",
       "      <td>2.0</td>\n",
       "      <td>NaN</td>\n",
       "    </tr>\n",
       "  </tbody>\n",
       "</table>\n",
       "</div>"
      ],
      "text/plain": [
       "  WT_group WT  position MUT  \\\n",
       "0     GP02  S         6   K   \n",
       "1     GP02  P         9   A   \n",
       "\n",
       "                                            sequence  \\\n",
       "0  MNQSVSSLPEKDIQYQLHPYTNARLHQELGPLIIERGEGIYVYDDQ...   \n",
       "1  MNQSVSSLPEKDIQYQLHPYTNARLHQELGPLIIERGEGIYVYDDQ...   \n",
       "\n",
       "                                          mutant_seq   pH   df_sourse  \\\n",
       "0  MNQSVKSLPEKDIQYQLHPYTNARLHQELGPLIIERGEGIYVYDDQ...  8.0  NESP train   \n",
       "1  MNQSVSSLAEKDIQYQLHPYTNARLHQELGPLIIERGEGIYVYDDQ...  8.0  NESP train   \n",
       "\n",
       "                data_source  source_df_id    tm               CIF  wt_tm  dTm  \\\n",
       "0  10.1021/acscatal.9b05223       19480.0  62.5  AF-A0A2W0F5X5-F1   62.0  0.5   \n",
       "1  10.1021/acscatal.9b05223       19481.0  64.0  AF-A0A2W0F5X5-F1   62.0  2.0   \n",
       "\n",
       "  uniprot_id  \n",
       "0        NaN  \n",
       "1        NaN  "
      ]
     },
     "execution_count": 36,
     "metadata": {},
     "output_type": "execute_result"
    }
   ],
   "source": [
    "df['uniprot_id'] = df.sequence.apply(lambda x: seq_to_uniprot.get(x, np.nan))\n",
    "df.head(2)"
   ]
  },
  {
   "cell_type": "markdown",
   "id": "33393865-1326-4737-8f46-6d6a91a2cb18",
   "metadata": {},
   "source": [
    "### reformat the dataframe so that WT and mutant sequences are on their own lines"
   ]
  },
  {
   "cell_type": "code",
   "execution_count": 47,
   "id": "27ab7ece-2632-4555-95bb-b4ee4e06894e",
   "metadata": {},
   "outputs": [],
   "source": [
    "mut_df = df[['uniprot_id', 'WT_group', 'WT', 'position', 'MUT', 'pH', 'tm', 'data_source', 'mutant_seq']]"
   ]
  },
  {
   "cell_type": "code",
   "execution_count": 52,
   "id": "f39830ac-2049-4ce1-96ec-02c666d502ab",
   "metadata": {},
   "outputs": [
    {
     "name": "stderr",
     "output_type": "stream",
     "text": [
      "/tmp/ipykernel_3539/1177040168.py:1: SettingWithCopyWarning: \n",
      "A value is trying to be set on a copy of a slice from a DataFrame\n",
      "\n",
      "See the caveats in the documentation: https://pandas.pydata.org/pandas-docs/stable/user_guide/indexing.html#returning-a-view-versus-a-copy\n",
      "  mut_df.rename(columns={'mutant_seq': 'sequence'}, inplace=True)\n"
     ]
    }
   ],
   "source": [
    "mut_df.rename(columns={'mutant_seq': 'sequence'}, inplace=True)"
   ]
  },
  {
   "cell_type": "code",
   "execution_count": 50,
   "id": "48879e8a-8c81-401b-84f3-693c95811ed3",
   "metadata": {},
   "outputs": [],
   "source": [
    "wt_df['tm'] = wt_df['wt_tm']\n",
    "wt_df = wt_df.drop(columns=['wt_tm'])"
   ]
  },
  {
   "cell_type": "code",
   "execution_count": 53,
   "id": "8ce2b2d0-8ee4-438b-a139-a1f403553331",
   "metadata": {},
   "outputs": [
    {
     "data": {
      "text/html": [
       "<div>\n",
       "<style scoped>\n",
       "    .dataframe tbody tr th:only-of-type {\n",
       "        vertical-align: middle;\n",
       "    }\n",
       "\n",
       "    .dataframe tbody tr th {\n",
       "        vertical-align: top;\n",
       "    }\n",
       "\n",
       "    .dataframe thead th {\n",
       "        text-align: right;\n",
       "    }\n",
       "</style>\n",
       "<table border=\"1\" class=\"dataframe\">\n",
       "  <thead>\n",
       "    <tr style=\"text-align: right;\">\n",
       "      <th></th>\n",
       "      <th>uniprot_id</th>\n",
       "      <th>WT_group</th>\n",
       "      <th>WT</th>\n",
       "      <th>position</th>\n",
       "      <th>MUT</th>\n",
       "      <th>pH</th>\n",
       "      <th>tm</th>\n",
       "      <th>data_source</th>\n",
       "      <th>sequence</th>\n",
       "    </tr>\n",
       "  </thead>\n",
       "  <tbody>\n",
       "    <tr>\n",
       "      <th>0</th>\n",
       "      <td>NaN</td>\n",
       "      <td>GP02</td>\n",
       "      <td>S</td>\n",
       "      <td>6.0</td>\n",
       "      <td>K</td>\n",
       "      <td>8.0</td>\n",
       "      <td>62.5</td>\n",
       "      <td>10.1021/acscatal.9b05223</td>\n",
       "      <td>MNQSVKSLPEKDIQYQLHPYTNARLHQELGPLIIERGEGIYVYDDQ...</td>\n",
       "    </tr>\n",
       "    <tr>\n",
       "      <th>1</th>\n",
       "      <td>NaN</td>\n",
       "      <td>GP02</td>\n",
       "      <td>P</td>\n",
       "      <td>9.0</td>\n",
       "      <td>A</td>\n",
       "      <td>8.0</td>\n",
       "      <td>64.0</td>\n",
       "      <td>10.1021/acscatal.9b05223</td>\n",
       "      <td>MNQSVSSLAEKDIQYQLHPYTNARLHQELGPLIIERGEGIYVYDDQ...</td>\n",
       "    </tr>\n",
       "  </tbody>\n",
       "</table>\n",
       "</div>"
      ],
      "text/plain": [
       "  uniprot_id WT_group WT  position MUT   pH    tm               data_source  \\\n",
       "0        NaN     GP02  S       6.0   K  8.0  62.5  10.1021/acscatal.9b05223   \n",
       "1        NaN     GP02  P       9.0   A  8.0  64.0  10.1021/acscatal.9b05223   \n",
       "\n",
       "                                            sequence  \n",
       "0  MNQSVKSLPEKDIQYQLHPYTNARLHQELGPLIIERGEGIYVYDDQ...  \n",
       "1  MNQSVSSLAEKDIQYQLHPYTNARLHQELGPLIIERGEGIYVYDDQ...  "
      ]
     },
     "execution_count": 53,
     "metadata": {},
     "output_type": "execute_result"
    }
   ],
   "source": [
    "seq_df = pd.concat([mut_df, wt_df])\n",
    "seq_df.head(2)"
   ]
  },
  {
   "cell_type": "code",
   "execution_count": 54,
   "id": "665af667-8b9a-4aaa-b237-429c5103f9c5",
   "metadata": {},
   "outputs": [
    {
     "data": {
      "text/plain": [
       "count    1016.000000\n",
       "mean       55.018189\n",
       "std        13.090118\n",
       "min        22.000000\n",
       "25%        45.375000\n",
       "50%        54.925000\n",
       "75%        62.000000\n",
       "max        97.000000\n",
       "Name: tm, dtype: float64"
      ]
     },
     "execution_count": 54,
     "metadata": {},
     "output_type": "execute_result"
    }
   ],
   "source": [
    "seq_df.tm.describe()"
   ]
  },
  {
   "cell_type": "code",
   "execution_count": 55,
   "id": "2d0eec18-f2fe-4b37-9b17-ee40402487b6",
   "metadata": {},
   "outputs": [],
   "source": [
    "seq_df.to_csv(\"/projects/robustmicrob/jlaw/inputs/novozymes/processed/train_sequences.csv\")"
   ]
  },
  {
   "cell_type": "code",
   "execution_count": null,
   "id": "b4b29644-a816-46bd-953c-1aff40ad8f5e",
   "metadata": {},
   "outputs": [],
   "source": []
  }
 ],
 "metadata": {
  "kernelspec": {
   "display_name": "Python 3 (ipykernel)",
   "language": "python",
   "name": "python3"
  },
  "language_info": {
   "codemirror_mode": {
    "name": "ipython",
    "version": 3
   },
   "file_extension": ".py",
   "mimetype": "text/x-python",
   "name": "python",
   "nbconvert_exporter": "python",
   "pygments_lexer": "ipython3",
   "version": "3.10.8"
  }
 },
 "nbformat": 4,
 "nbformat_minor": 5
}
