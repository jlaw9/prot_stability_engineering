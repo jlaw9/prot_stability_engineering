{
 "cells": [
  {
   "cell_type": "code",
   "execution_count": 32,
   "id": "e62ff630-25ac-4c2b-b0bc-ac071053af8c",
   "metadata": {},
   "outputs": [
    {
     "name": "stderr",
     "output_type": "stream",
     "text": [
      "/home/jlaw/.conda/envs/tm/lib/python3.10/site-packages/tqdm/auto.py:22: TqdmWarning: IProgress not found. Please update jupyter and ipywidgets. See https://ipywidgets.readthedocs.io/en/stable/user_install.html\n",
      "  from .autonotebook import tqdm as notebook_tqdm\n"
     ]
    }
   ],
   "source": [
    "import json\n",
    "import gzip\n",
    "import pandas as pd\n",
    "import numpy as np\n",
    "from collections import defaultdict\n",
    "from tqdm.auto import tqdm\n",
    "\n",
    "import matplotlib.pyplot as plt\n",
    "import seaborn as sns"
   ]
  },
  {
   "cell_type": "markdown",
   "id": "896297a2-b346-4916-8569-3bc5f0d35563",
   "metadata": {},
   "source": [
    "### Download from FLIP\n",
    "https://github.com/J-SNACKKB/FLIP/tree/main/splits/meltome"
   ]
  },
  {
   "cell_type": "code",
   "execution_count": 27,
   "id": "163d6619-c3ba-4dfd-bff2-c68270327674",
   "metadata": {},
   "outputs": [],
   "source": [
    "data_file = \"/projects/robustmicrob/jlaw/inputs/meltome/flip/github/full_dataset_sequences.fasta\"\n"
   ]
  },
  {
   "cell_type": "code",
   "execution_count": 28,
   "id": "2837c37f-cbdb-4e2a-8666-7383aaa44633",
   "metadata": {},
   "outputs": [],
   "source": [
    "# copied from here: https://stackoverflow.com/a/29805905/7483950\n",
    "def read_fasta(fp, gzipped=False):\n",
    "        name, seq = None, []\n",
    "        for line in fp:\n",
    "            if gzipped:\n",
    "                line = line.decode()\n",
    "            line = line.rstrip()\n",
    "            if line.startswith(\">\"):\n",
    "                if name: yield (name, ''.join(seq))\n",
    "                name, seq = line[1:], []\n",
    "            else:\n",
    "                seq.append(line)\n",
    "        if name: yield (name, ''.join(seq))"
   ]
  },
  {
   "cell_type": "code",
   "execution_count": 35,
   "id": "a0f933d3-94a7-41e8-be8b-a4c24b33972c",
   "metadata": {},
   "outputs": [
    {
     "name": "stdout",
     "output_type": "stream",
     "text": [
      "reading /projects/robustmicrob/jlaw/inputs/meltome/flip/github/full_dataset_sequences.fasta\n",
      "\t201283 read\n"
     ]
    }
   ],
   "source": [
    "print(f\"reading {data_file}\")\n",
    "data = {}\n",
    "with open(data_file, 'r') as f:\n",
    "    for name, seq in read_fasta(f):\n",
    "        # make sure there aren't these strange AAs\n",
    "        seq = seq.replace('B', 'D').replace('Z', 'E').replace('J', 'L')\n",
    "        data[name] = seq\n",
    "\n",
    "print(f\"\\t{len(data)} read\")"
   ]
  },
  {
   "cell_type": "code",
   "execution_count": 38,
   "id": "42d1003a-c6e3-481c-af6c-bb1ea93f7f9b",
   "metadata": {},
   "outputs": [
    {
     "data": {
      "text/plain": [
       "['Q8IYH5_HepG2 MELTING_POINT=44.2372224918082',\n",
       " 'Q8IYH5_HepG2 MELTING_POINT=45.5473475301891',\n",
       " 'Q8IYH5_HepG2 MELTING_POINT=48.195259181238',\n",
       " 'Q8IYH5_Jurkat MELTING_POINT=44.5979508657712',\n",
       " 'Q8IYH5_Jurkat MELTING_POINT=44.9185958439174',\n",
       " 'Q8IYH5_Jurkat MELTING_POINT=48.9135486981963',\n",
       " 'Q8IYH5_Jurkat MELTING_POINT=50.0647547651151',\n",
       " 'Q8IYH5_Jurkat MELTING_POINT=50.9551567550975',\n",
       " 'Q8IYH5_Jurkat MELTING_POINT=54.4209813748112',\n",
       " 'Q8IYH5_colon_cancer_spheroids MELTING_POINT=50.6936083526511']"
      ]
     },
     "execution_count": 38,
     "metadata": {},
     "output_type": "execute_result"
    }
   ],
   "source": [
    "list(data.keys())[-10:]"
   ]
  },
  {
   "cell_type": "code",
   "execution_count": 43,
   "id": "3c7ca170-3510-4161-a60f-3fe6ef28a4ab",
   "metadata": {},
   "outputs": [
    {
     "data": {
      "text/html": [
       "<div>\n",
       "<style scoped>\n",
       "    .dataframe tbody tr th:only-of-type {\n",
       "        vertical-align: middle;\n",
       "    }\n",
       "\n",
       "    .dataframe tbody tr th {\n",
       "        vertical-align: top;\n",
       "    }\n",
       "\n",
       "    .dataframe thead th {\n",
       "        text-align: right;\n",
       "    }\n",
       "</style>\n",
       "<table border=\"1\" class=\"dataframe\">\n",
       "  <thead>\n",
       "    <tr style=\"text-align: right;\">\n",
       "      <th></th>\n",
       "      <th>uniprot</th>\n",
       "      <th>run_name</th>\n",
       "      <th>Tm</th>\n",
       "      <th>sequence</th>\n",
       "    </tr>\n",
       "  </thead>\n",
       "  <tbody>\n",
       "    <tr>\n",
       "      <th>0</th>\n",
       "      <td>A0A023T4K3</td>\n",
       "      <td>Caenorhabditis_elegans_lysate</td>\n",
       "      <td>37.962947</td>\n",
       "      <td>MSGEEEKAADFYVRYYVGHKGKFGHEFLEFEFRPNGSLRYANNSNY...</td>\n",
       "    </tr>\n",
       "    <tr>\n",
       "      <th>1</th>\n",
       "      <td>A0A023T778</td>\n",
       "      <td>Mus_musculus_BMDC_lysate</td>\n",
       "      <td>54.425342</td>\n",
       "      <td>MSMGSDFYLRYYVGHKGKFGHEFLEFEFRPDGKLRYANNSNYKNDV...</td>\n",
       "    </tr>\n",
       "  </tbody>\n",
       "</table>\n",
       "</div>"
      ],
      "text/plain": [
       "      uniprot                       run_name         Tm  \\\n",
       "0  A0A023T4K3  Caenorhabditis_elegans_lysate  37.962947   \n",
       "1  A0A023T778       Mus_musculus_BMDC_lysate  54.425342   \n",
       "\n",
       "                                            sequence  \n",
       "0  MSGEEEKAADFYVRYYVGHKGKFGHEFLEFEFRPNGSLRYANNSNY...  \n",
       "1  MSMGSDFYLRYYVGHKGKFGHEFLEFEFRPDGKLRYANNSNYKNDV...  "
      ]
     },
     "execution_count": 43,
     "metadata": {},
     "output_type": "execute_result"
    }
   ],
   "source": [
    "def build_df(data):\n",
    "    table = []\n",
    "    for key, seq in data.items():\n",
    "        key, tm = key.split(' ')\n",
    "        key = key.split('_')\n",
    "        u_id = key[0]\n",
    "        run_name = '_'.join(key[1:])\n",
    "        tm = float(tm.replace(\"MELTING_POINT=\",''))\n",
    "    \n",
    "        table.append((u_id, run_name, tm, seq))\n",
    "        # exp_type = key[-1]\n",
    "        # species = key[1:-1\n",
    "    df = pd.DataFrame(table, columns=['uniprot', 'run_name', 'Tm', 'sequence'])\n",
    "    return df\n",
    "    \n",
    "df = build_df(data)\n",
    "df.head(2)"
   ]
  },
  {
   "cell_type": "code",
   "execution_count": 48,
   "id": "5dcbf616-3a6d-4d98-97c8-edc5d7c36c9f",
   "metadata": {},
   "outputs": [
    {
     "data": {
      "text/html": [
       "<div>\n",
       "<style scoped>\n",
       "    .dataframe tbody tr th:only-of-type {\n",
       "        vertical-align: middle;\n",
       "    }\n",
       "\n",
       "    .dataframe tbody tr th {\n",
       "        vertical-align: top;\n",
       "    }\n",
       "\n",
       "    .dataframe thead th {\n",
       "        text-align: right;\n",
       "    }\n",
       "</style>\n",
       "<table border=\"1\" class=\"dataframe\">\n",
       "  <thead>\n",
       "    <tr style=\"text-align: right;\">\n",
       "      <th></th>\n",
       "      <th>uniprot</th>\n",
       "      <th>run_name</th>\n",
       "      <th>Tm</th>\n",
       "      <th>sequence</th>\n",
       "    </tr>\n",
       "  </thead>\n",
       "  <tbody>\n",
       "    <tr>\n",
       "      <th>201281</th>\n",
       "      <td>Q8IYH5</td>\n",
       "      <td>Jurkat</td>\n",
       "      <td>54.420981</td>\n",
       "      <td>MAASRSTRVTRSTVGLNGLDESFCGRTLRNRSIAHPEEISSNSQVR...</td>\n",
       "    </tr>\n",
       "    <tr>\n",
       "      <th>201282</th>\n",
       "      <td>Q8IYH5</td>\n",
       "      <td>colon_cancer_spheroids</td>\n",
       "      <td>50.693608</td>\n",
       "      <td>MAASRSTRVTRSTVGLNGLDESFCGRTLRNRSIAHPEEISSNSQVR...</td>\n",
       "    </tr>\n",
       "  </tbody>\n",
       "</table>\n",
       "</div>"
      ],
      "text/plain": [
       "       uniprot                run_name         Tm  \\\n",
       "201281  Q8IYH5                  Jurkat  54.420981   \n",
       "201282  Q8IYH5  colon_cancer_spheroids  50.693608   \n",
       "\n",
       "                                                 sequence  \n",
       "201281  MAASRSTRVTRSTVGLNGLDESFCGRTLRNRSIAHPEEISSNSQVR...  \n",
       "201282  MAASRSTRVTRSTVGLNGLDESFCGRTLRNRSIAHPEEISSNSQVR...  "
      ]
     },
     "execution_count": 48,
     "metadata": {},
     "output_type": "execute_result"
    }
   ],
   "source": [
    "df.tail(2)"
   ]
  },
  {
   "cell_type": "code",
   "execution_count": 49,
   "id": "bbd8e11d-ddcd-4373-8e4e-1ccd544031f3",
   "metadata": {},
   "outputs": [],
   "source": [
    "human_df = pd.read_csv(\"/projects/robustmicrob/jlaw/inputs/meltome/flip/human_sequences.tsv\", sep='\\t')\n",
    "# human_ids = set(human_df['Entry'].values)"
   ]
  },
  {
   "cell_type": "code",
   "execution_count": 51,
   "id": "c7570007-0b38-4c26-bac5-746affdad70b",
   "metadata": {},
   "outputs": [
    {
     "name": "stdout",
     "output_type": "stream",
     "text": [
      "len(data_l) =25558\n",
      "len(data_wc) =3099\n",
      "len(data_human) =172628\n"
     ]
    }
   ],
   "source": [
    "# separate into lysates, whole cells\n",
    "data_l = df[df.run_name.apply(lambda x: 'lysate' in x)]\n",
    "data_human = df[df.uniprot.isin(human_df.Entry)]\n",
    "data_wc = df[~df.run_name.isin(set(data_l.run_name.values) | set(data_human.run_name.values))]\n",
    "# data_wc = df[df.run_name.apply(lambda x: '_cells' in x)]\n",
    "\n",
    "print(f\"{len(data_l) =}\")\n",
    "print(f\"{len(data_wc) =}\")\n",
    "print(f\"{len(data_human) =}\")"
   ]
  },
  {
   "cell_type": "markdown",
   "id": "545db4ba-3ff4-46db-a443-aec914746f52",
   "metadata": {},
   "source": [
    "### Take the average Tm from different cell lines"
   ]
  },
  {
   "cell_type": "code",
   "execution_count": 64,
   "id": "97c2f72f-0f48-4bcd-b8f3-0e5b133e10ac",
   "metadata": {},
   "outputs": [
    {
     "data": {
      "text/html": [
       "<div>\n",
       "<style scoped>\n",
       "    .dataframe tbody tr th:only-of-type {\n",
       "        vertical-align: middle;\n",
       "    }\n",
       "\n",
       "    .dataframe tbody tr th {\n",
       "        vertical-align: top;\n",
       "    }\n",
       "\n",
       "    .dataframe thead th {\n",
       "        text-align: right;\n",
       "    }\n",
       "</style>\n",
       "<table border=\"1\" class=\"dataframe\">\n",
       "  <thead>\n",
       "    <tr style=\"text-align: right;\">\n",
       "      <th></th>\n",
       "      <th>Tm</th>\n",
       "      <th>sequence</th>\n",
       "    </tr>\n",
       "    <tr>\n",
       "      <th>uniprot</th>\n",
       "      <th></th>\n",
       "      <th></th>\n",
       "    </tr>\n",
       "  </thead>\n",
       "  <tbody>\n",
       "    <tr>\n",
       "      <th>A0A096LPI5</th>\n",
       "      <td>47.785112</td>\n",
       "      <td>MQYPFRKLLRPSTESCCVAQARVQWCHLGSLQPPLPGFKQFSCHSL...</td>\n",
       "    </tr>\n",
       "    <tr>\n",
       "      <th>A0AV96</th>\n",
       "      <td>48.347820</td>\n",
       "      <td>MTAEDSTAAMSSDSAAGSSAKVPEGVAGAPNEAALLALMERTGYSM...</td>\n",
       "    </tr>\n",
       "  </tbody>\n",
       "</table>\n",
       "</div>"
      ],
      "text/plain": [
       "                   Tm                                           sequence\n",
       "uniprot                                                                 \n",
       "A0A096LPI5  47.785112  MQYPFRKLLRPSTESCCVAQARVQWCHLGSLQPPLPGFKQFSCHSL...\n",
       "A0AV96      48.347820  MTAEDSTAAMSSDSAAGSSAKVPEGVAGAPNEAALLALMERTGYSM..."
      ]
     },
     "execution_count": 64,
     "metadata": {},
     "output_type": "execute_result"
    }
   ],
   "source": [
    "mean_tm = data_human[['uniprot', 'Tm']].groupby(['uniprot']).mean()\n",
    "mean_tm['sequence'] = data_human[['uniprot', 'sequence']].drop_duplicates().set_index('uniprot').sequence\n",
    "data_human = mean_tm\n",
    "data_human.head(2)"
   ]
  },
  {
   "cell_type": "code",
   "execution_count": 73,
   "id": "a8e9df7a-d2ef-4c04-8484-17bb8f165a98",
   "metadata": {},
   "outputs": [
    {
     "data": {
      "text/html": [
       "<div>\n",
       "<style scoped>\n",
       "    .dataframe tbody tr th:only-of-type {\n",
       "        vertical-align: middle;\n",
       "    }\n",
       "\n",
       "    .dataframe tbody tr th {\n",
       "        vertical-align: top;\n",
       "    }\n",
       "\n",
       "    .dataframe thead th {\n",
       "        text-align: right;\n",
       "    }\n",
       "</style>\n",
       "<table border=\"1\" class=\"dataframe\">\n",
       "  <thead>\n",
       "    <tr style=\"text-align: right;\">\n",
       "      <th></th>\n",
       "      <th>Tm</th>\n",
       "      <th>sequence</th>\n",
       "    </tr>\n",
       "    <tr>\n",
       "      <th>uniprot</th>\n",
       "      <th></th>\n",
       "      <th></th>\n",
       "    </tr>\n",
       "  </thead>\n",
       "  <tbody>\n",
       "    <tr>\n",
       "      <th>A0A023T4K3</th>\n",
       "      <td>37.962947</td>\n",
       "      <td>MSGEEEKAADFYVRYYVGHKGKFGHEFLEFEFRPNGSLRYANNSNY...</td>\n",
       "    </tr>\n",
       "    <tr>\n",
       "      <th>A0A023T778</th>\n",
       "      <td>54.425342</td>\n",
       "      <td>MSMGSDFYLRYYVGHKGKFGHEFLEFEFRPDGKLRYANNSNYKNDV...</td>\n",
       "    </tr>\n",
       "  </tbody>\n",
       "</table>\n",
       "</div>"
      ],
      "text/plain": [
       "                   Tm                                           sequence\n",
       "uniprot                                                                 \n",
       "A0A023T4K3  37.962947  MSGEEEKAADFYVRYYVGHKGKFGHEFLEFEFRPNGSLRYANNSNY...\n",
       "A0A023T778  54.425342  MSMGSDFYLRYYVGHKGKFGHEFLEFEFRPDGKLRYANNSNYKNDV..."
      ]
     },
     "execution_count": 73,
     "metadata": {},
     "output_type": "execute_result"
    }
   ],
   "source": [
    "mean_tm = data_l[['uniprot', 'Tm']].groupby(['uniprot']).mean()\n",
    "mean_tm['sequence'] = data_l[['uniprot', 'sequence']].drop_duplicates().set_index('uniprot').sequence\n",
    "data_l = mean_tm\n",
    "data_l.head(2)"
   ]
  },
  {
   "cell_type": "code",
   "execution_count": 76,
   "id": "4efbd8a3-0266-474f-8fbe-76a7f4a38d4d",
   "metadata": {},
   "outputs": [
    {
     "data": {
      "text/plain": [
       "33908"
      ]
     },
     "execution_count": 76,
     "metadata": {},
     "output_type": "execute_result"
    }
   ],
   "source": [
    "data_processed = pd.concat([data_l, data_human])\n",
    "len(data_processed)"
   ]
  },
  {
   "cell_type": "code",
   "execution_count": 80,
   "id": "6108e8ca-eaba-4578-be53-8a1435d78c7d",
   "metadata": {},
   "outputs": [],
   "source": [
    "data_processed = data_processed[data_processed.sequence.apply(lambda x: len(x) < 5000)]"
   ]
  },
  {
   "cell_type": "code",
   "execution_count": 81,
   "id": "491db401-5ec4-4d37-83f0-76fa6a7d604b",
   "metadata": {},
   "outputs": [
    {
     "data": {
      "text/plain": [
       "<AxesSubplot: >"
      ]
     },
     "execution_count": 81,
     "metadata": {},
     "output_type": "execute_result"
    },
    {
     "data": {
      "image/png": "[encoded data removed]",
      "text/plain": [
       "<Figure size 640x480 with 1 Axes>"
      ]
     },
     "metadata": {},
     "output_type": "display_data"
    }
   ],
   "source": [
    "data_processed.sequence.apply(len).hist(bins=30)"
   ]
  },
  {
   "cell_type": "code",
   "execution_count": 77,
   "id": "417f89b5-2c2a-4573-95e7-b4da5e940d5b",
   "metadata": {},
   "outputs": [],
   "source": [
    "out_file = \"/projects/robustmicrob/jlaw/inputs/meltome/20230125_meltome_flip.csv\"\n",
    "data_processed.to_csv(out_file)"
   ]
  },
  {
   "cell_type": "markdown",
   "id": "b3b287f0-ca96-4787-89f3-3ee505e5d956",
   "metadata": {},
   "source": [
    "### TODO how should non-melters be handled"
   ]
  },
  {
   "cell_type": "markdown",
   "id": "475cd55b-9dc4-43cf-9884-db4b3b3eb05b",
   "metadata": {},
   "source": [
    "### TODO how should lysates vs whole cells be handled?"
   ]
  },
  {
   "cell_type": "code",
   "execution_count": 53,
   "id": "318199ab-4292-41d2-9d15-c4a8c1a25657",
   "metadata": {},
   "outputs": [
    {
     "data": {
      "text/plain": [
       "Escherichia_coli_cells             1951\n",
       "Thermus_thermophilus_HB27_cells    1148\n",
       "Name: run_name, dtype: int64"
      ]
     },
     "execution_count": 53,
     "metadata": {},
     "output_type": "execute_result"
    }
   ],
   "source": [
    "data_wc.run_name.value_counts()"
   ]
  },
  {
   "cell_type": "code",
   "execution_count": null,
   "id": "fb1dd2d2-0525-44bb-a96d-e54ec094c6a4",
   "metadata": {},
   "outputs": [],
   "source": []
  },
  {
   "cell_type": "markdown",
   "id": "7f4895d3-cafc-4e01-a834-0577e67cfc51",
   "metadata": {},
   "source": [
    "### Backup: parsing myself"
   ]
  },
  {
   "cell_type": "code",
   "execution_count": 2,
   "id": "fa8ecd8a-bb04-4286-bb4a-01cfed041299",
   "metadata": {},
   "outputs": [
    {
     "name": "stderr",
     "output_type": "stream",
     "text": [
      "/tmp/ipykernel_3461/267470526.py:2: DtypeWarning: Columns (1,4) have mixed types. Specify dtype option on import or set low_memory=False.\n",
      "  data_sp = pd.read_csv(meltome_file)\n"
     ]
    },
    {
     "name": "stdout",
     "output_type": "stream",
     "text": [
      "1114710\n"
     ]
    },
    {
     "data": {
      "text/html": [
       "<div>\n",
       "<style scoped>\n",
       "    .dataframe tbody tr th:only-of-type {\n",
       "        vertical-align: middle;\n",
       "    }\n",
       "\n",
       "    .dataframe tbody tr th {\n",
       "        vertical-align: top;\n",
       "    }\n",
       "\n",
       "    .dataframe thead th {\n",
       "        text-align: right;\n",
       "    }\n",
       "</style>\n",
       "<table border=\"1\" class=\"dataframe\">\n",
       "  <thead>\n",
       "    <tr style=\"text-align: right;\">\n",
       "      <th></th>\n",
       "      <th>run_name</th>\n",
       "      <th>Protein_ID</th>\n",
       "      <th>gene_name</th>\n",
       "      <th>meltPoint</th>\n",
       "      <th>channel</th>\n",
       "      <th>fold_change</th>\n",
       "      <th>temperature</th>\n",
       "    </tr>\n",
       "  </thead>\n",
       "  <tbody>\n",
       "    <tr>\n",
       "      <th>0</th>\n",
       "      <td>Bacillus subtilis_168_lysate_R1</td>\n",
       "      <td>C0H3Q1_ytzI</td>\n",
       "      <td>ytzI</td>\n",
       "      <td>NaN</td>\n",
       "      <td>TMT126</td>\n",
       "      <td>0.999203</td>\n",
       "      <td>30.0</td>\n",
       "    </tr>\n",
       "    <tr>\n",
       "      <th>1</th>\n",
       "      <td>Bacillus subtilis_168_lysate_R1</td>\n",
       "      <td>C0H3V2_mtlF</td>\n",
       "      <td>mtlF</td>\n",
       "      <td>56.693844</td>\n",
       "      <td>TMT126</td>\n",
       "      <td>0.999203</td>\n",
       "      <td>30.0</td>\n",
       "    </tr>\n",
       "  </tbody>\n",
       "</table>\n",
       "</div>"
      ],
      "text/plain": [
       "                          run_name   Protein_ID gene_name  meltPoint channel  \\\n",
       "0  Bacillus subtilis_168_lysate_R1  C0H3Q1_ytzI      ytzI        NaN  TMT126   \n",
       "1  Bacillus subtilis_168_lysate_R1  C0H3V2_mtlF      mtlF  56.693844  TMT126   \n",
       "\n",
       "   fold_change  temperature  \n",
       "0     0.999203         30.0  \n",
       "1     0.999203         30.0  "
      ]
     },
     "execution_count": 2,
     "metadata": {},
     "output_type": "execute_result"
    }
   ],
   "source": [
    "meltome_file = \"/projects/robustmicrob/jlaw/inputs/meltome/flip/cross-species.csv\"\n",
    "data_sp = pd.read_csv(meltome_file)\n",
    "print(len(data_sp))\n",
    "data_sp.head(2)"
   ]
  },
  {
   "cell_type": "code",
   "execution_count": 56,
   "id": "76449026-a126-474f-bd60-8cba9f67ef43",
   "metadata": {},
   "outputs": [
    {
     "data": {
      "text/html": [
       "<div>\n",
       "<style scoped>\n",
       "    .dataframe tbody tr th:only-of-type {\n",
       "        vertical-align: middle;\n",
       "    }\n",
       "\n",
       "    .dataframe tbody tr th {\n",
       "        vertical-align: top;\n",
       "    }\n",
       "\n",
       "    .dataframe thead th {\n",
       "        text-align: right;\n",
       "    }\n",
       "</style>\n",
       "<table border=\"1\" class=\"dataframe\">\n",
       "  <thead>\n",
       "    <tr style=\"text-align: right;\">\n",
       "      <th></th>\n",
       "      <th>run_name</th>\n",
       "      <th>Protein_ID</th>\n",
       "      <th>gene_name</th>\n",
       "      <th>meltPoint</th>\n",
       "      <th>channel</th>\n",
       "      <th>fold_change</th>\n",
       "      <th>temperature</th>\n",
       "    </tr>\n",
       "  </thead>\n",
       "  <tbody>\n",
       "    <tr>\n",
       "      <th>23113</th>\n",
       "      <td>Caenorhabditis elegans lysate</td>\n",
       "      <td>A0A061AD41_B0513.5</td>\n",
       "      <td>B0513.5</td>\n",
       "      <td>NaN</td>\n",
       "      <td>TMT126</td>\n",
       "      <td>0.999270</td>\n",
       "      <td>25.0</td>\n",
       "    </tr>\n",
       "    <tr>\n",
       "      <th>68739</th>\n",
       "      <td>Caenorhabditis elegans lysate</td>\n",
       "      <td>A0A061AD41_B0513.5</td>\n",
       "      <td>B0513.5</td>\n",
       "      <td>NaN</td>\n",
       "      <td>TMT127H</td>\n",
       "      <td>1.000463</td>\n",
       "      <td>31.0</td>\n",
       "    </tr>\n",
       "    <tr>\n",
       "      <th>114365</th>\n",
       "      <td>Caenorhabditis elegans lysate</td>\n",
       "      <td>A0A061AD41_B0513.5</td>\n",
       "      <td>B0513.5</td>\n",
       "      <td>NaN</td>\n",
       "      <td>TMT127L</td>\n",
       "      <td>1.063722</td>\n",
       "      <td>27.9</td>\n",
       "    </tr>\n",
       "    <tr>\n",
       "      <th>159991</th>\n",
       "      <td>Caenorhabditis elegans lysate</td>\n",
       "      <td>A0A061AD41_B0513.5</td>\n",
       "      <td>B0513.5</td>\n",
       "      <td>NaN</td>\n",
       "      <td>TMT128H</td>\n",
       "      <td>0.913197</td>\n",
       "      <td>38.2</td>\n",
       "    </tr>\n",
       "    <tr>\n",
       "      <th>205617</th>\n",
       "      <td>Caenorhabditis elegans lysate</td>\n",
       "      <td>A0A061AD41_B0513.5</td>\n",
       "      <td>B0513.5</td>\n",
       "      <td>NaN</td>\n",
       "      <td>TMT128L</td>\n",
       "      <td>1.135860</td>\n",
       "      <td>34.6</td>\n",
       "    </tr>\n",
       "    <tr>\n",
       "      <th>251243</th>\n",
       "      <td>Caenorhabditis elegans lysate</td>\n",
       "      <td>A0A061AD41_B0513.5</td>\n",
       "      <td>B0513.5</td>\n",
       "      <td>NaN</td>\n",
       "      <td>TMT129H</td>\n",
       "      <td>0.744963</td>\n",
       "      <td>45.4</td>\n",
       "    </tr>\n",
       "    <tr>\n",
       "      <th>296869</th>\n",
       "      <td>Caenorhabditis elegans lysate</td>\n",
       "      <td>A0A061AD41_B0513.5</td>\n",
       "      <td>B0513.5</td>\n",
       "      <td>NaN</td>\n",
       "      <td>TMT129L</td>\n",
       "      <td>0.870272</td>\n",
       "      <td>41.8</td>\n",
       "    </tr>\n",
       "    <tr>\n",
       "      <th>342495</th>\n",
       "      <td>Caenorhabditis elegans lysate</td>\n",
       "      <td>A0A061AD41_B0513.5</td>\n",
       "      <td>B0513.5</td>\n",
       "      <td>NaN</td>\n",
       "      <td>TMT130H</td>\n",
       "      <td>0.945017</td>\n",
       "      <td>52.1</td>\n",
       "    </tr>\n",
       "    <tr>\n",
       "      <th>388121</th>\n",
       "      <td>Caenorhabditis elegans lysate</td>\n",
       "      <td>A0A061AD41_B0513.5</td>\n",
       "      <td>B0513.5</td>\n",
       "      <td>NaN</td>\n",
       "      <td>TMT130L</td>\n",
       "      <td>1.012457</td>\n",
       "      <td>49.0</td>\n",
       "    </tr>\n",
       "    <tr>\n",
       "      <th>433747</th>\n",
       "      <td>Caenorhabditis elegans lysate</td>\n",
       "      <td>A0A061AD41_B0513.5</td>\n",
       "      <td>B0513.5</td>\n",
       "      <td>NaN</td>\n",
       "      <td>TMT131L</td>\n",
       "      <td>0.601203</td>\n",
       "      <td>55.0</td>\n",
       "    </tr>\n",
       "  </tbody>\n",
       "</table>\n",
       "</div>"
      ],
      "text/plain": [
       "                             run_name          Protein_ID gene_name  \\\n",
       "23113   Caenorhabditis elegans lysate  A0A061AD41_B0513.5   B0513.5   \n",
       "68739   Caenorhabditis elegans lysate  A0A061AD41_B0513.5   B0513.5   \n",
       "114365  Caenorhabditis elegans lysate  A0A061AD41_B0513.5   B0513.5   \n",
       "159991  Caenorhabditis elegans lysate  A0A061AD41_B0513.5   B0513.5   \n",
       "205617  Caenorhabditis elegans lysate  A0A061AD41_B0513.5   B0513.5   \n",
       "251243  Caenorhabditis elegans lysate  A0A061AD41_B0513.5   B0513.5   \n",
       "296869  Caenorhabditis elegans lysate  A0A061AD41_B0513.5   B0513.5   \n",
       "342495  Caenorhabditis elegans lysate  A0A061AD41_B0513.5   B0513.5   \n",
       "388121  Caenorhabditis elegans lysate  A0A061AD41_B0513.5   B0513.5   \n",
       "433747  Caenorhabditis elegans lysate  A0A061AD41_B0513.5   B0513.5   \n",
       "\n",
       "        meltPoint  channel  fold_change  temperature  \n",
       "23113         NaN   TMT126     0.999270         25.0  \n",
       "68739         NaN  TMT127H     1.000463         31.0  \n",
       "114365        NaN  TMT127L     1.063722         27.9  \n",
       "159991        NaN  TMT128H     0.913197         38.2  \n",
       "205617        NaN  TMT128L     1.135860         34.6  \n",
       "251243        NaN  TMT129H     0.744963         45.4  \n",
       "296869        NaN  TMT129L     0.870272         41.8  \n",
       "342495        NaN  TMT130H     0.945017         52.1  \n",
       "388121        NaN  TMT130L     1.012457         49.0  \n",
       "433747        NaN  TMT131L     0.601203         55.0  "
      ]
     },
     "execution_count": 56,
     "metadata": {},
     "output_type": "execute_result"
    }
   ],
   "source": [
    "data_sp[data_sp.Protein_ID == \"A0A061AD41_B0513.5\"]"
   ]
  },
  {
   "cell_type": "code",
   "execution_count": 54,
   "id": "8af18edf-0700-4cc5-a284-703eaa4b6834",
   "metadata": {},
   "outputs": [
    {
     "data": {
      "text/plain": [
       "Homo sapiens Jurkat cells                      336290\n",
       "Homo sapiens K562 cells                        322160\n",
       "Mus musculus BMDC lysate                       121920\n",
       "Caenorhabditis elegans lysate                   60330\n",
       "Mus musculus liver lysate                       45930\n",
       "Arabidopsis thaliana seedling lysate            29670\n",
       "Danio rerio Zenodo lysate                       23770\n",
       "Escherichia coli cells                          22120\n",
       "Escherichia coli lysate                         21710\n",
       "Saccharomyces cerevisiae lysate                 21660\n",
       "Oleispira antarctica_RB-8_lysate_R1             19240\n",
       "Bacillus subtilis_168_lysate_R1                 19200\n",
       "Drosophila melanogaster SII lysate              17360\n",
       "Thermus thermophilus HB27 cells                 16640\n",
       "Thermus thermophilus HB27 lysate                15960\n",
       "Geobacillus stearothermophilus NCA26 lysate     10610\n",
       "Picrophilus torridus DSM9790 lysate             10140\n",
       "Name: run_name, dtype: int64"
      ]
     },
     "execution_count": 54,
     "metadata": {},
     "output_type": "execute_result"
    }
   ],
   "source": [
    "data_sp.run_name.value_counts()"
   ]
  },
  {
   "cell_type": "code",
   "execution_count": 14,
   "id": "2e10ed35-6601-4e23-a073-3e8ff15ba94e",
   "metadata": {},
   "outputs": [
    {
     "data": {
      "text/html": [
       "<div>\n",
       "<style scoped>\n",
       "    .dataframe tbody tr th:only-of-type {\n",
       "        vertical-align: middle;\n",
       "    }\n",
       "\n",
       "    .dataframe tbody tr th {\n",
       "        vertical-align: top;\n",
       "    }\n",
       "\n",
       "    .dataframe thead th {\n",
       "        text-align: right;\n",
       "    }\n",
       "</style>\n",
       "<table border=\"1\" class=\"dataframe\">\n",
       "  <thead>\n",
       "    <tr style=\"text-align: right;\">\n",
       "      <th></th>\n",
       "      <th>Entry</th>\n",
       "      <th>Gene Names</th>\n",
       "      <th>Length</th>\n",
       "      <th>Gene Names (primary)</th>\n",
       "      <th>Protein names</th>\n",
       "    </tr>\n",
       "  </thead>\n",
       "  <tbody>\n",
       "    <tr>\n",
       "      <th>0</th>\n",
       "      <td>A0A087X1C5</td>\n",
       "      <td>CYP2D7</td>\n",
       "      <td>515</td>\n",
       "      <td>CYP2D7</td>\n",
       "      <td>Putative cytochrome P450 2D7 (EC 1.14.14.1)</td>\n",
       "    </tr>\n",
       "    <tr>\n",
       "      <th>1</th>\n",
       "      <td>A0A0B4J2F0</td>\n",
       "      <td>PIGBOS1</td>\n",
       "      <td>54</td>\n",
       "      <td>PIGBOS1</td>\n",
       "      <td>Protein PIGBOS1 (PIGB opposite strand protein 1)</td>\n",
       "    </tr>\n",
       "  </tbody>\n",
       "</table>\n",
       "</div>"
      ],
      "text/plain": [
       "        Entry Gene Names  Length Gene Names (primary)  \\\n",
       "0  A0A087X1C5     CYP2D7     515               CYP2D7   \n",
       "1  A0A0B4J2F0    PIGBOS1      54              PIGBOS1   \n",
       "\n",
       "                                      Protein names  \n",
       "0       Putative cytochrome P450 2D7 (EC 1.14.14.1)  \n",
       "1  Protein PIGBOS1 (PIGB opposite strand protein 1)  "
      ]
     },
     "execution_count": 14,
     "metadata": {},
     "output_type": "execute_result"
    }
   ],
   "source": [
    "# map human gene names to uniprot IDs\n",
    "df = pd.read_csv(\"/projects/bpms/jlaw/inputs/uniprot/2023-01/human_9606_id_mapping.tab.gz\", sep='\\t')\n",
    "df.head(2)"
   ]
  },
  {
   "cell_type": "code",
   "execution_count": 20,
   "id": "9cb6c983-24cc-4ffa-a881-1509bb91c0c0",
   "metadata": {},
   "outputs": [
    {
     "data": {
      "text/html": [
       "<div>\n",
       "<style scoped>\n",
       "    .dataframe tbody tr th:only-of-type {\n",
       "        vertical-align: middle;\n",
       "    }\n",
       "\n",
       "    .dataframe tbody tr th {\n",
       "        vertical-align: top;\n",
       "    }\n",
       "\n",
       "    .dataframe thead th {\n",
       "        text-align: right;\n",
       "    }\n",
       "</style>\n",
       "<table border=\"1\" class=\"dataframe\">\n",
       "  <thead>\n",
       "    <tr style=\"text-align: right;\">\n",
       "      <th></th>\n",
       "      <th>run_name</th>\n",
       "      <th>Protein_ID</th>\n",
       "      <th>gene_name</th>\n",
       "      <th>meltPoint</th>\n",
       "      <th>channel</th>\n",
       "      <th>fold_change</th>\n",
       "      <th>temperature</th>\n",
       "    </tr>\n",
       "  </thead>\n",
       "  <tbody>\n",
       "    <tr>\n",
       "      <th>1114705</th>\n",
       "      <td>Homo sapiens Jurkat cells</td>\n",
       "      <td>P42345_mTOR</td>\n",
       "      <td>mTOR</td>\n",
       "      <td>47.997427</td>\n",
       "      <td>NaN</td>\n",
       "      <td>0.008585</td>\n",
       "      <td>67.0</td>\n",
       "    </tr>\n",
       "    <tr>\n",
       "      <th>1114706</th>\n",
       "      <td>Homo sapiens K562 cells</td>\n",
       "      <td>P42345_mTOR</td>\n",
       "      <td>mTOR</td>\n",
       "      <td>47.902475</td>\n",
       "      <td>NaN</td>\n",
       "      <td>0.015625</td>\n",
       "      <td>67.0</td>\n",
       "    </tr>\n",
       "    <tr>\n",
       "      <th>1114707</th>\n",
       "      <td>Homo sapiens K562 cells</td>\n",
       "      <td>P42345_mTOR</td>\n",
       "      <td>mTOR</td>\n",
       "      <td>47.605150</td>\n",
       "      <td>NaN</td>\n",
       "      <td>0.017599</td>\n",
       "      <td>67.0</td>\n",
       "    </tr>\n",
       "    <tr>\n",
       "      <th>1114708</th>\n",
       "      <td>Homo sapiens K562 cells</td>\n",
       "      <td>P42345_mTOR</td>\n",
       "      <td>mTOR</td>\n",
       "      <td>49.009148</td>\n",
       "      <td>NaN</td>\n",
       "      <td>0.018291</td>\n",
       "      <td>67.0</td>\n",
       "    </tr>\n",
       "    <tr>\n",
       "      <th>1114709</th>\n",
       "      <td>Homo sapiens K562 cells</td>\n",
       "      <td>P42345_mTOR</td>\n",
       "      <td>mTOR</td>\n",
       "      <td>48.890733</td>\n",
       "      <td>NaN</td>\n",
       "      <td>0.011549</td>\n",
       "      <td>67.0</td>\n",
       "    </tr>\n",
       "  </tbody>\n",
       "</table>\n",
       "</div>"
      ],
      "text/plain": [
       "                          run_name   Protein_ID gene_name  meltPoint channel  \\\n",
       "1114705  Homo sapiens Jurkat cells  P42345_mTOR      mTOR  47.997427     NaN   \n",
       "1114706    Homo sapiens K562 cells  P42345_mTOR      mTOR  47.902475     NaN   \n",
       "1114707    Homo sapiens K562 cells  P42345_mTOR      mTOR  47.605150     NaN   \n",
       "1114708    Homo sapiens K562 cells  P42345_mTOR      mTOR  49.009148     NaN   \n",
       "1114709    Homo sapiens K562 cells  P42345_mTOR      mTOR  48.890733     NaN   \n",
       "\n",
       "         fold_change  temperature  \n",
       "1114705     0.008585         67.0  \n",
       "1114706     0.015625         67.0  \n",
       "1114707     0.017599         67.0  \n",
       "1114708     0.018291         67.0  \n",
       "1114709     0.011549         67.0  "
      ]
     },
     "execution_count": 20,
     "metadata": {},
     "output_type": "execute_result"
    }
   ],
   "source": [
    "gene_to_uniprot = dict(zip(df['Gene Names'], df['Entry']))\n",
    "for gene_name, u_id in df[['Gene Names', 'Entry']].values:\n",
    "    if pd.isnull(gene_name): continue\n",
    "    for name in gene_name.split(' '):\n",
    "        gene_to_uniprot[name] = u_id\n",
    "\n",
    "data_sp.loc[pd.isnull(data_sp.Protein_ID), \"Protein_ID\"] = data_sp[pd.isnull(data_sp.Protein_ID)].gene_name.apply(\n",
    "    lambda x: f\"{gene_to_uniprot[x.upper().replace('-','')]}_{x}\" if x.upper().replace('-','') in gene_to_uniprot else np.nan)\n",
    "data_sp.tail()"
   ]
  },
  {
   "cell_type": "code",
   "execution_count": 21,
   "id": "6e97b0fe-aa1a-4ea4-a333-3930675b8e45",
   "metadata": {},
   "outputs": [
    {
     "name": "stdout",
     "output_type": "stream",
     "text": [
      "1114710 1083400\n"
     ]
    }
   ],
   "source": [
    "print(len(data_sp), len(data_sp.dropna(subset='Protein_ID')))"
   ]
  },
  {
   "cell_type": "code",
   "execution_count": 22,
   "id": "d5514cad-b8a3-497f-bf35-6a569337af4b",
   "metadata": {},
   "outputs": [
    {
     "data": {
      "text/plain": [
       "'P56211'"
      ]
     },
     "execution_count": 22,
     "metadata": {},
     "output_type": "execute_result"
    }
   ],
   "source": [
    "gene_to_uniprot['ARPP19']"
   ]
  },
  {
   "cell_type": "code",
   "execution_count": 25,
   "id": "eda5832b-df07-446c-bb71-6941444f80f7",
   "metadata": {},
   "outputs": [
    {
     "data": {
      "text/html": [
       "<div>\n",
       "<style scoped>\n",
       "    .dataframe tbody tr th:only-of-type {\n",
       "        vertical-align: middle;\n",
       "    }\n",
       "\n",
       "    .dataframe tbody tr th {\n",
       "        vertical-align: top;\n",
       "    }\n",
       "\n",
       "    .dataframe thead th {\n",
       "        text-align: right;\n",
       "    }\n",
       "</style>\n",
       "<table border=\"1\" class=\"dataframe\">\n",
       "  <thead>\n",
       "    <tr style=\"text-align: right;\">\n",
       "      <th></th>\n",
       "      <th>Entry</th>\n",
       "      <th>Gene Names</th>\n",
       "      <th>Length</th>\n",
       "      <th>Gene Names (primary)</th>\n",
       "      <th>Protein names</th>\n",
       "    </tr>\n",
       "  </thead>\n",
       "  <tbody>\n",
       "    <tr>\n",
       "      <th>13070</th>\n",
       "      <td>Q9UBB4</td>\n",
       "      <td>ATXN10 SCA10</td>\n",
       "      <td>475</td>\n",
       "      <td>ATXN10</td>\n",
       "      <td>Ataxin-10 (Brain protein E46 homolog) (Spinoce...</td>\n",
       "    </tr>\n",
       "  </tbody>\n",
       "</table>\n",
       "</div>"
      ],
      "text/plain": [
       "        Entry    Gene Names  Length Gene Names (primary)  \\\n",
       "13070  Q9UBB4  ATXN10 SCA10     475               ATXN10   \n",
       "\n",
       "                                           Protein names  \n",
       "13070  Ataxin-10 (Brain protein E46 homolog) (Spinoce...  "
      ]
     },
     "execution_count": 25,
     "metadata": {},
     "output_type": "execute_result"
    }
   ],
   "source": [
    "df[df['Entry'] == 'Q9UBB4']"
   ]
  },
  {
   "cell_type": "code",
   "execution_count": 26,
   "id": "65cbf029-df30-44c2-a4dc-9b7697ba9066",
   "metadata": {},
   "outputs": [
    {
     "data": {
      "text/plain": [
       "ch-TOG                           150\n",
       "CXORF15                          150\n",
       "EIF1AP1                          150\n",
       "DJ-1                             150\n",
       "C17ORF70                         150\n",
       "                                ... \n",
       "LOC100132499                      10\n",
       "C15ORF15                          10\n",
       "LOC100129905                      10\n",
       "C15ORF39                          10\n",
       "ALPHA-ENOLASE, LUNG SPECIFIC.     10\n",
       "Name: gene_name, Length: 450, dtype: int64"
      ]
     },
     "execution_count": 26,
     "metadata": {},
     "output_type": "execute_result"
    }
   ],
   "source": [
    "data_sp[pd.isnull(data_sp.Protein_ID)].gene_name.value_counts()"
   ]
  },
  {
   "cell_type": "code",
   "execution_count": null,
   "id": "dd840d48-deca-4fb4-9084-7d39cdd693d4",
   "metadata": {},
   "outputs": [],
   "source": [
    "data_sp = data_sp[[\"run_name\", \"Protein_ID\", \"gene_name\", \"meltPoint\", \"channel\"]]"
   ]
  },
  {
   "cell_type": "code",
   "execution_count": null,
   "id": "dace40b3-1479-4513-85af-52abc63e3770",
   "metadata": {},
   "outputs": [],
   "source": [
    "# average across the different channels\n",
    "data_sp.groupby([\"run_name\", \"Protein_ID\""
   ]
  }
 ],
 "metadata": {
  "kernelspec": {
   "display_name": "Python 3 (ipykernel)",
   "language": "python",
   "name": "python3"
  },
  "language_info": {
   "codemirror_mode": {
    "name": "ipython",
    "version": 3
   },
   "file_extension": ".py",
   "mimetype": "text/x-python",
   "name": "python",
   "nbconvert_exporter": "python",
   "pygments_lexer": "ipython3",
   "version": "3.10.8"
  }
 },
 "nbformat": 4,
 "nbformat_minor": 5
}
