{
 "cells": [
  {
   "cell_type": "markdown",
   "id": "8a928cea-89d5-45e9-bbb3-980a00e40088",
   "metadata": {},
   "source": [
    "following from here: https://stackoverflow.com/a/50200350/7483950"
   ]
  },
  {
   "cell_type": "code",
   "execution_count": 11,
   "id": "b2038dbf-40c8-4d2d-ab2c-b9a22c9fde35",
   "metadata": {},
   "outputs": [],
   "source": [
    "import numpy as np\n",
    "import torch\n",
    "X = np.random.uniform(size=300)\n",
    "Y = X + 0.25*X*np.random.normal(size=X.shape[0])"
   ]
  },
  {
   "cell_type": "code",
   "execution_count": 12,
   "id": "e731a19a-3d66-4ba7-9afa-358b00a32bab",
   "metadata": {},
   "outputs": [
    {
     "data": {
      "text/plain": [
       "0.5060476503588354"
      ]
     },
     "execution_count": 12,
     "metadata": {},
     "output_type": "execute_result"
    }
   ],
   "source": [
    "X.mean()"
   ]
  },
  {
   "cell_type": "code",
   "execution_count": 14,
   "id": "7eca7620-51a0-4c24-a40e-9e68af5b361f",
   "metadata": {},
   "outputs": [],
   "source": [
    "class Model(torch.nn.Module):\n",
    "    def __init__(self):\n",
    "        super().__init__()\n",
    "        self.mean_coeff = torch.nn.Parameter(torch.Tensor([0]))\n",
    "        self.var_coeff = torch.nn.Parameter(torch.Tensor([1]))\n",
    "\n",
    "    def forward(self, x):\n",
    "        return torch.distributions.Normal(self.mean_coeff * x, self.var_coeff * x)\n",
    "\n",
    "mdl = Model()\n",
    "optim = torch.optim.SGD(mdl.parameters(), lr=1e-3)"
   ]
  },
  {
   "cell_type": "code",
   "execution_count": 15,
   "id": "40b3445d-bdfe-4538-93a8-cfe6ee5d0710",
   "metadata": {},
   "outputs": [],
   "source": [
    "for _ in range(2000): # epochs\n",
    "    dist = mdl(torch.from_numpy(X).float())\n",
    "    obj = -dist.log_prob(torch.from_numpy(Y).float()).mean()\n",
    "    optim.zero_grad()\n",
    "    obj.backward()\n",
    "    optim.step()"
   ]
  },
  {
   "cell_type": "code",
   "execution_count": 17,
   "id": "a32e8641-43be-447f-9630-d756c2141c9e",
   "metadata": {},
   "outputs": [
    {
     "data": {
      "text/plain": [
       "Normal(loc: torch.Size([300]), scale: torch.Size([300]))"
      ]
     },
     "execution_count": 17,
     "metadata": {},
     "output_type": "execute_result"
    }
   ],
   "source": [
    "dist"
   ]
  },
  {
   "cell_type": "code",
   "execution_count": 93,
   "id": "9cd3fe7c-002c-41ea-9cff-1c47561fecd9",
   "metadata": {},
   "outputs": [],
   "source": [
    "m = torch.distributions.Normal(torch.tensor([1]), torch.tensor([1.0]))"
   ]
  },
  {
   "cell_type": "code",
   "execution_count": 84,
   "id": "94d08b27-8338-41a4-b527-617dc0ca3806",
   "metadata": {},
   "outputs": [],
   "source": [
    "m = torch.distributions.Normal(torch.tensor([2]), torch.tensor([1.0]))"
   ]
  },
  {
   "cell_type": "code",
   "execution_count": 74,
   "id": "f1bf9761-195c-44c8-b8ff-91aa3a22b019",
   "metadata": {},
   "outputs": [
    {
     "data": {
      "text/plain": [
       "torch.Size([1])"
      ]
     },
     "execution_count": 74,
     "metadata": {},
     "output_type": "execute_result"
    }
   ],
   "source": [
    "m.batch_shape"
   ]
  },
  {
   "cell_type": "code",
   "execution_count": 106,
   "id": "7ad5ed6c-9a6b-478f-9d98-1395a1fd7bb5",
   "metadata": {},
   "outputs": [
    {
     "name": "stdout",
     "output_type": "stream",
     "text": [
      "tensor([-1.0000,  0.0000,  0.8000,  1.0000,  1.2000,  1.5000,  2.0000,  3.0000])\n",
      "tensor([0.1350, 0.6049, 0.9776, 0.9974, 0.9776, 0.8802, 0.6049, 0.1350])\n",
      "tensor([0.0228, 0.1587, 0.4207, 0.5000, 0.5793, 0.6915, 0.8413, 0.9772])\n",
      "tensor([   nan,   -inf, 1.8416,    inf,    nan,    nan,    nan,    nan])\n"
     ]
    }
   ],
   "source": [
    "x = torch.Tensor([-2, -1, -0.2, 0, 0.2, 0.5, 1, 2])+1\n",
    "print(x)\n",
    "print(torch.exp(m.log_prob(x)) / 0.4)\n",
    "print(m.cdf(x))\n",
    "print(m.icdf(x))"
   ]
  },
  {
   "cell_type": "code",
   "execution_count": 104,
   "id": "7e54bd0c-961e-4fae-803d-f90245a4ed49",
   "metadata": {},
   "outputs": [
    {
     "data": {
      "text/plain": [
       "2.718281828459045"
      ]
     },
     "execution_count": 104,
     "metadata": {},
     "output_type": "execute_result"
    }
   ],
   "source": [
    "math.e"
   ]
  },
  {
   "cell_type": "code",
   "execution_count": 98,
   "id": "8b4047ee-e2eb-415a-ab7e-7ba52a9a7599",
   "metadata": {},
   "outputs": [
    {
     "data": {
      "text/plain": [
       "2.302585092994046"
      ]
     },
     "execution_count": 98,
     "metadata": {},
     "output_type": "execute_result"
    }
   ],
   "source": [
    "import math\n",
    "math.log(10)"
   ]
  },
  {
   "cell_type": "code",
   "execution_count": 101,
   "id": "58ba18b3-6699-4837-8440-86316a25d54c",
   "metadata": {},
   "outputs": [
    {
     "data": {
      "text/plain": [
       "4.605170185988092"
      ]
     },
     "execution_count": 101,
     "metadata": {},
     "output_type": "execute_result"
    }
   ],
   "source": [
    "math.log(100)"
   ]
  },
  {
   "cell_type": "code",
   "execution_count": 81,
   "id": "5da78b9a-fb29-430c-b8e6-a75eba156eeb",
   "metadata": {},
   "outputs": [
    {
     "data": {
      "text/plain": [
       "Normal(loc: torch.Size([3, 1]), scale: torch.Size([3, 1]))"
      ]
     },
     "execution_count": 81,
     "metadata": {},
     "output_type": "execute_result"
    }
   ],
   "source": [
    "m = torch.distributions.Normal(torch.tensor([[0.0],[1],[2]]), torch.tensor([[1.0],[1],[1]]))\n",
    "m"
   ]
  },
  {
   "cell_type": "code",
   "execution_count": 83,
   "id": "51b6fa07-ddb2-4092-bf8c-5ee38bcb40e2",
   "metadata": {},
   "outputs": [
    {
     "name": "stdout",
     "output_type": "stream",
     "text": [
      "tensor([-0.2000,  0.0000,  0.5000])\n"
     ]
    },
    {
     "data": {
      "text/plain": [
       "tensor([[0.4207, 0.5000, 0.6915],\n",
       "        [0.1151, 0.1587, 0.3085],\n",
       "        [0.0139, 0.0228, 0.0668]])"
      ]
     },
     "execution_count": 83,
     "metadata": {},
     "output_type": "execute_result"
    }
   ],
   "source": [
    "x = torch.Tensor([-0.2, 0, 0.5])\n",
    "print(x)\n",
    "m.cdf(x)"
   ]
  },
  {
   "cell_type": "code",
   "execution_count": 82,
   "id": "aa0b6546-e209-47b0-87b2-e141a1b042b4",
   "metadata": {},
   "outputs": [
    {
     "name": "stdout",
     "output_type": "stream",
     "text": [
      "tensor([[-0.2000],\n",
      "        [ 0.0000],\n",
      "        [ 0.5000]])\n"
     ]
    },
    {
     "data": {
      "text/plain": [
       "tensor([[0.4207],\n",
       "        [0.1587],\n",
       "        [0.0668]])"
      ]
     },
     "execution_count": 82,
     "metadata": {},
     "output_type": "execute_result"
    }
   ],
   "source": [
    "x = torch.Tensor([[-0.2],[0],[0.5]])\n",
    "print(x)\n",
    "m.cdf(x)"
   ]
  },
  {
   "cell_type": "code",
   "execution_count": null,
   "id": "0f829398-5fda-4b4a-9b7f-28c6b267bf3a",
   "metadata": {},
   "outputs": [],
   "source": [
    "# x = torch.Tensor([[-0.2, 0, 0.5],[-0.2, 0, 0.5],[-0.2, 0, 0.5]])"
   ]
  },
  {
   "cell_type": "code",
   "execution_count": 22,
   "id": "67c5e3ec-717a-47f5-b8c5-900b97e17bf0",
   "metadata": {},
   "outputs": [
    {
     "data": {
      "text/plain": [
       "tensor([0.8911])"
      ]
     },
     "execution_count": 22,
     "metadata": {},
     "output_type": "execute_result"
    }
   ],
   "source": [
    "m.sample()"
   ]
  },
  {
   "cell_type": "code",
   "execution_count": 16,
   "id": "63a7da61-c1fa-4760-b7e4-ddfc8807a89e",
   "metadata": {},
   "outputs": [
    {
     "name": "stdout",
     "output_type": "stream",
     "text": [
      "Parameter containing:\n",
      "tensor([0.9805], requires_grad=True) Parameter containing:\n",
      "tensor([0.2401], requires_grad=True)\n"
     ]
    }
   ],
   "source": [
    "print(mdl.mean_coeff, mdl.var_coeff)\n",
    "# tensor(1.0150) tensor(0.2597)"
   ]
  },
  {
   "cell_type": "code",
   "execution_count": 56,
   "id": "6f005a5b-66aa-46a0-a0c1-508d9c5454f5",
   "metadata": {},
   "outputs": [
    {
     "name": "stdout",
     "output_type": "stream",
     "text": [
      "1.13.1.post200\n",
      "probs = ...\n",
      "tensor([[[[0.1498, 0.3152, 0.2946, 0.6541, 0.3106, 0.4475, 0.3918],\n",
      "          [0.1289, 0.2494, 0.5813, 0.1555, 0.2688, 0.1649, 0.6196],\n",
      "          [0.1607, 0.7599, 0.2339, 0.3343, 0.6459, 0.7187, 0.5310],\n",
      "          [0.2014, 0.0938, 0.2341, 0.8172, 0.3617, 0.0953, 0.6246],\n",
      "          [0.8510, 0.1427, 0.0091, 0.1163, 0.2765, 0.6657, 0.2254]],\n",
      "\n",
      "         [[0.7174, 0.1177, 0.1747, 0.1609, 0.3015, 0.0444, 0.2602],\n",
      "          [0.1545, 0.5129, 0.2338, 0.4810, 0.2133, 0.6208, 0.1486],\n",
      "          [0.3673, 0.0383, 0.2041, 0.4826, 0.0756, 0.1309, 0.2405],\n",
      "          [0.4219, 0.5621, 0.0419, 0.0825, 0.4854, 0.4959, 0.0707],\n",
      "          [0.1043, 0.7390, 0.1671, 0.5642, 0.5226, 0.3112, 0.3942]],\n",
      "\n",
      "         [[0.1329, 0.5671, 0.5306, 0.1850, 0.3879, 0.5082, 0.3480],\n",
      "          [0.7167, 0.2377, 0.1849, 0.3635, 0.5179, 0.2143, 0.2318],\n",
      "          [0.4720, 0.2018, 0.5620, 0.1831, 0.2785, 0.1503, 0.2285],\n",
      "          [0.3767, 0.3441, 0.7239, 0.1003, 0.1529, 0.4088, 0.3047],\n",
      "          [0.0447, 0.1183, 0.8238, 0.3194, 0.2009, 0.0231, 0.3803]]],\n",
      "\n",
      "\n",
      "        [[[0.6440, 0.1537, 0.0505, 0.0511, 0.0996, 0.1050, 0.4653],\n",
      "          [0.1242, 0.2676, 0.6757, 0.1266, 0.6718, 0.2993, 0.0868],\n",
      "          [0.7833, 0.4048, 0.6902, 0.2550, 0.2607, 0.1759, 0.1606],\n",
      "          [0.1922, 0.3755, 0.6223, 0.2364, 0.3413, 0.9021, 0.5981],\n",
      "          [0.2017, 0.5419, 0.5284, 0.3065, 0.4233, 0.1412, 0.2183]],\n",
      "\n",
      "         [[0.3134, 0.2802, 0.6204, 0.7494, 0.3884, 0.0774, 0.4969],\n",
      "          [0.1248, 0.6669, 0.1558, 0.2342, 0.0883, 0.0252, 0.8172],\n",
      "          [0.1465, 0.3188, 0.0329, 0.6245, 0.6833, 0.2322, 0.1315],\n",
      "          [0.4668, 0.2589, 0.2702, 0.0258, 0.3919, 0.0188, 0.1836],\n",
      "          [0.3882, 0.3065, 0.2767, 0.0930, 0.1194, 0.4706, 0.0861]],\n",
      "\n",
      "         [[0.0425, 0.5662, 0.3291, 0.1995, 0.5120, 0.8176, 0.0378],\n",
      "          [0.7510, 0.0655, 0.1685, 0.6392, 0.2399, 0.6755, 0.0960],\n",
      "          [0.0702, 0.2764, 0.2768, 0.1205, 0.0560, 0.5918, 0.7079],\n",
      "          [0.3410, 0.3655, 0.1075, 0.7378, 0.2668, 0.0791, 0.2184],\n",
      "          [0.4101, 0.1517, 0.1949, 0.6006, 0.4573, 0.3881, 0.6956]]]])\n",
      "tensor([[[[0.1498, 0.7174, 0.1329],\n",
      "          [0.1289, 0.1545, 0.7167],\n",
      "          [0.1607, 0.3673, 0.4720],\n",
      "          [0.2014, 0.4219, 0.3767],\n",
      "          [0.8510, 0.1043, 0.0447]],\n",
      "\n",
      "         [[0.3152, 0.1177, 0.5671],\n",
      "          [0.2494, 0.5129, 0.2377],\n",
      "          [0.7599, 0.0383, 0.2018],\n",
      "          [0.0938, 0.5621, 0.3441],\n",
      "          [0.1427, 0.7390, 0.1183]],\n",
      "\n",
      "         [[0.2946, 0.1747, 0.5306],\n",
      "          [0.5813, 0.2338, 0.1849],\n",
      "          [0.2339, 0.2041, 0.5620],\n",
      "          [0.2341, 0.0419, 0.7239],\n",
      "          [0.0091, 0.1671, 0.8238]],\n",
      "\n",
      "         [[0.6541, 0.1609, 0.1850],\n",
      "          [0.1555, 0.4810, 0.3635],\n",
      "          [0.3343, 0.4826, 0.1831],\n",
      "          [0.8172, 0.0825, 0.1003],\n",
      "          [0.1163, 0.5642, 0.3194]],\n",
      "\n",
      "         [[0.3106, 0.3015, 0.3879],\n",
      "          [0.2688, 0.2133, 0.5179],\n",
      "          [0.6459, 0.0756, 0.2785],\n",
      "          [0.3617, 0.4854, 0.1529],\n",
      "          [0.2765, 0.5226, 0.2009]],\n",
      "\n",
      "         [[0.4475, 0.0444, 0.5082],\n",
      "          [0.1649, 0.6208, 0.2143],\n",
      "          [0.7187, 0.1309, 0.1503],\n",
      "          [0.0953, 0.4959, 0.4088],\n",
      "          [0.6657, 0.3112, 0.0231]],\n",
      "\n",
      "         [[0.3918, 0.2602, 0.3480],\n",
      "          [0.6196, 0.1486, 0.2318],\n",
      "          [0.5310, 0.2405, 0.2285],\n",
      "          [0.6246, 0.0707, 0.3047],\n",
      "          [0.2254, 0.3942, 0.3803]]],\n",
      "\n",
      "\n",
      "        [[[0.6440, 0.3134, 0.0425],\n",
      "          [0.1242, 0.1248, 0.7510],\n",
      "          [0.7833, 0.1465, 0.0702],\n",
      "          [0.1922, 0.4668, 0.3410],\n",
      "          [0.2017, 0.3882, 0.4101]],\n",
      "\n",
      "         [[0.1537, 0.2802, 0.5662],\n",
      "          [0.2676, 0.6669, 0.0655],\n",
      "          [0.4048, 0.3188, 0.2764],\n",
      "          [0.3755, 0.2589, 0.3655],\n",
      "          [0.5419, 0.3065, 0.1517]],\n",
      "\n",
      "         [[0.0505, 0.6204, 0.3291],\n",
      "          [0.6757, 0.1558, 0.1685],\n",
      "          [0.6902, 0.0329, 0.2768],\n",
      "          [0.6223, 0.2702, 0.1075],\n",
      "          [0.5284, 0.2767, 0.1949]],\n",
      "\n",
      "         [[0.0511, 0.7494, 0.1995],\n",
      "          [0.1266, 0.2342, 0.6392],\n",
      "          [0.2550, 0.6245, 0.1205],\n",
      "          [0.2364, 0.0258, 0.7378],\n",
      "          [0.3065, 0.0930, 0.6006]],\n",
      "\n",
      "         [[0.0996, 0.3884, 0.5120],\n",
      "          [0.6718, 0.0883, 0.2399],\n",
      "          [0.2607, 0.6833, 0.0560],\n",
      "          [0.3413, 0.3919, 0.2668],\n",
      "          [0.4233, 0.1194, 0.4573]],\n",
      "\n",
      "         [[0.1050, 0.0774, 0.8176],\n",
      "          [0.2993, 0.0252, 0.6755],\n",
      "          [0.1759, 0.2322, 0.5918],\n",
      "          [0.9021, 0.0188, 0.0791],\n",
      "          [0.1412, 0.4706, 0.3881]],\n",
      "\n",
      "         [[0.4653, 0.4969, 0.0378],\n",
      "          [0.0868, 0.8172, 0.0960],\n",
      "          [0.1606, 0.1315, 0.7079],\n",
      "          [0.5981, 0.1836, 0.2184],\n",
      "          [0.2183, 0.0861, 0.6956]]]])\n"
     ]
    }
   ],
   "source": [
    "import torch\n",
    "print (torch.__version__)\n",
    "\n",
    "_ = torch.random.manual_seed (2021)\n",
    "\n",
    "N = 2\n",
    "C = 3\n",
    "H = 5\n",
    "W = 7\n",
    "\n",
    "probs = torch.randn (N, C, H, W).softmax (1)\n",
    "# print ('probs = ...')\n",
    "# print (probs)\n",
    "# # print ('probs.sum (1) = ...')\n",
    "# # print (probs.sum (1))\n",
    "# print(probs.transpose(1, -1))\n",
    "\n",
    "sample = torch.distributions.Categorical (probs = probs.transpose (1, -1)).sample().transpose (-1, -2).unsqueeze (1)\n",
    "\n",
    "print ('sample.shape =', sample.shape)\n",
    "print ('sample = ...')\n",
    "print (sample)"
   ]
  },
  {
   "cell_type": "code",
   "execution_count": 62,
   "id": "eec18f2f-9bb1-4375-a803-07357c1513d3",
   "metadata": {},
   "outputs": [
    {
     "name": "stdout",
     "output_type": "stream",
     "text": [
      "1.13.1.post200\n",
      "sample.shape = torch.Size([2, 7, 5])\n",
      "sample = ...\n",
      "tensor([[[1, 1, 2, 1, 0],\n",
      "         [0, 0, 0, 1, 1],\n",
      "         [2, 2, 0, 0, 2],\n",
      "         [0, 2, 0, 0, 2],\n",
      "         [0, 2, 0, 1, 1],\n",
      "         [0, 1, 0, 2, 0],\n",
      "         [2, 2, 0, 0, 1]],\n",
      "\n",
      "        [[0, 0, 2, 2, 1],\n",
      "         [2, 1, 2, 2, 1],\n",
      "         [1, 0, 0, 0, 2],\n",
      "         [1, 2, 0, 2, 2],\n",
      "         [1, 0, 1, 1, 0],\n",
      "         [1, 0, 2, 0, 0],\n",
      "         [1, 1, 2, 0, 2]]])\n"
     ]
    }
   ],
   "source": [
    "import torch\n",
    "print (torch.__version__)\n",
    "\n",
    "_ = torch.random.manual_seed (2021)\n",
    "\n",
    "N = 2\n",
    "C = 3\n",
    "H = 5\n",
    "W = 7\n",
    "\n",
    "probs = torch.randn (N, C, H, W).softmax (1)\n",
    "# print ('probs = ...')\n",
    "# print (probs)\n",
    "# # print ('probs.sum (1) = ...')\n",
    "# # print (probs.sum (1))\n",
    "# print(probs.transpose(1, -1))\n",
    "\n",
    "sample = torch.distributions.Categorical(probs = probs.transpose (1, -1)).sample()#.transpose (-1, -2).unsqueeze (1)\n",
    "\n",
    "print ('sample.shape =', sample.shape)\n",
    "print ('sample = ...')\n",
    "print (sample)"
   ]
  }
 ],
 "metadata": {
  "kernelspec": {
   "display_name": "Python 3 (ipykernel)",
   "language": "python",
   "name": "python3"
  },
  "language_info": {
   "codemirror_mode": {
    "name": "ipython",
    "version": 3
   },
   "file_extension": ".py",
   "mimetype": "text/x-python",
   "name": "python",
   "nbconvert_exporter": "python",
   "pygments_lexer": "ipython3",
   "version": "3.10.8"
  }
 },
 "nbformat": 4,
 "nbformat_minor": 5
}
