{
 "cells": [
  {
   "cell_type": "code",
   "execution_count": 1,
   "id": "4357a627-fef9-4d7f-8bb8-3fcbc89f221f",
   "metadata": {},
   "outputs": [],
   "source": [
    "import numpy as np\n",
    "import pandas as pd\n",
    "import os\n",
    "from Bio import SeqIO\n",
    "import itertools\n",
    "from typing import List, Tuple\n",
    "import string\n",
    "from pathlib import Path\n",
    "from tqdm.auto import tqdm, trange\n",
    "\n",
    "import matplotlib.pyplot as plt\n",
    "import seaborn as sns\n",
    "\n",
    "%matplotlib inline"
   ]
  },
  {
   "cell_type": "code",
   "execution_count": 2,
   "id": "7bdf5674-a6ea-43ff-ac41-d652e562181d",
   "metadata": {},
   "outputs": [],
   "source": [
    "from sklearn.metrics import mean_squared_error\n",
    "from scipy.stats import spearmanr\n",
    "from sklearn.linear_model import LinearRegression, Ridge\n",
    "from sklearn.kernel_ridge import KernelRidge"
   ]
  },
  {
   "cell_type": "code",
   "execution_count": 3,
   "id": "5fc73247-c670-4e0c-b367-cb2f2134747a",
   "metadata": {},
   "outputs": [
    {
     "data": {
      "text/plain": [
       "True"
      ]
     },
     "execution_count": 3,
     "metadata": {},
     "output_type": "execute_result"
    }
   ],
   "source": [
    "import torch\n",
    "torch.cuda.is_available()"
   ]
  },
  {
   "cell_type": "code",
   "execution_count": 4,
   "id": "47d4213d-2ca9-4de2-896a-0d4838a60565",
   "metadata": {},
   "outputs": [],
   "source": [
    "device = 'cuda:0' if torch.cuda.is_available() else 'cpu'"
   ]
  },
  {
   "cell_type": "markdown",
   "id": "b34a17fa-9780-4468-b2ab-8fce5509b416",
   "metadata": {},
   "source": [
    "## Load the e coli sequences"
   ]
  },
  {
   "cell_type": "code",
   "execution_count": 19,
   "id": "f85e3e4e-a9f2-4749-820d-3b31e5fcc52d",
   "metadata": {},
   "outputs": [
    {
     "name": "stdout",
     "output_type": "stream",
     "text": [
      "4384\n"
     ]
    },
    {
     "data": {
      "text/html": [
       "<div>\n",
       "<style scoped>\n",
       "    .dataframe tbody tr th:only-of-type {\n",
       "        vertical-align: middle;\n",
       "    }\n",
       "\n",
       "    .dataframe tbody tr th {\n",
       "        vertical-align: top;\n",
       "    }\n",
       "\n",
       "    .dataframe thead th {\n",
       "        text-align: right;\n",
       "    }\n",
       "</style>\n",
       "<table border=\"1\" class=\"dataframe\">\n",
       "  <thead>\n",
       "    <tr style=\"text-align: right;\">\n",
       "      <th></th>\n",
       "      <th>Accession 1</th>\n",
       "      <th>Gene Name</th>\n",
       "      <th>UNIPROT</th>\n",
       "      <th>Accession 2</th>\n",
       "      <th>All Names Concat</th>\n",
       "      <th>Left End Position</th>\n",
       "      <th>Right End Position</th>\n",
       "      <th>Centisome Position</th>\n",
       "      <th>Direction</th>\n",
       "      <th>Length (bp)</th>\n",
       "      <th>...</th>\n",
       "      <th>Tm 5 (Arctic Express)</th>\n",
       "      <th>R2 5</th>\n",
       "      <th>composite proteome Tm</th>\n",
       "      <th>n used</th>\n",
       "      <th>n excluded</th>\n",
       "      <th>assay note</th>\n",
       "      <th>confidence score</th>\n",
       "      <th>composite with assay</th>\n",
       "      <th>Chaperone Interaction Protein (Protein Homeostatis Database)</th>\n",
       "      <th>composite sensitivity (TPP-ALE-CIP)</th>\n",
       "    </tr>\n",
       "  </thead>\n",
       "  <tbody>\n",
       "    <tr>\n",
       "      <th>0</th>\n",
       "      <td>b4154</td>\n",
       "      <td>frdA</td>\n",
       "      <td>P00363</td>\n",
       "      <td>ECK4150</td>\n",
       "      <td>frdA // b4154 // ECK4150 // EG10330 // ABE-001...</td>\n",
       "      <td>4380510</td>\n",
       "      <td>4382318</td>\n",
       "      <td>94.373940</td>\n",
       "      <td>&lt;-</td>\n",
       "      <td>1809</td>\n",
       "      <td>...</td>\n",
       "      <td>44.62</td>\n",
       "      <td>0.9</td>\n",
       "      <td>46.67321434</td>\n",
       "      <td>3</td>\n",
       "      <td>3 (Jarzab T4, Matheus ave, Matheus d1)</td>\n",
       "      <td>no assay data</td>\n",
       "      <td>3</td>\n",
       "      <td>46.67321434</td>\n",
       "      <td>+</td>\n",
       "      <td>+</td>\n",
       "    </tr>\n",
       "    <tr>\n",
       "      <th>1</th>\n",
       "      <td>b1109</td>\n",
       "      <td>ndh</td>\n",
       "      <td>P00393</td>\n",
       "      <td>ECK1095</td>\n",
       "      <td>ndh // b1109 // ECK1095 // EG10649 // ABE-0003746</td>\n",
       "      <td>1166085</td>\n",
       "      <td>1167389</td>\n",
       "      <td>25.122198</td>\n",
       "      <td>-&gt;</td>\n",
       "      <td>1305</td>\n",
       "      <td>...</td>\n",
       "      <td>43.48</td>\n",
       "      <td>0.96</td>\n",
       "      <td>51.35692831</td>\n",
       "      <td>4</td>\n",
       "      <td>1 (Jarzab T5)</td>\n",
       "      <td>no assay data</td>\n",
       "      <td>3</td>\n",
       "      <td>51.35692831</td>\n",
       "      <td>+</td>\n",
       "      <td>+</td>\n",
       "    </tr>\n",
       "  </tbody>\n",
       "</table>\n",
       "<p>2 rows × 97 columns</p>\n",
       "</div>"
      ],
      "text/plain": [
       "  Accession 1 Gene Name UNIPROT Accession 2  \\\n",
       "0       b4154      frdA  P00363     ECK4150   \n",
       "1       b1109       ndh  P00393     ECK1095   \n",
       "\n",
       "                                    All Names Concat  Left End Position  \\\n",
       "0  frdA // b4154 // ECK4150 // EG10330 // ABE-001...            4380510   \n",
       "1  ndh // b1109 // ECK1095 // EG10649 // ABE-0003746            1166085   \n",
       "\n",
       "   Right End Position  Centisome Position Direction Length (bp)  ...  \\\n",
       "0             4382318           94.373940        <-        1809  ...   \n",
       "1             1167389           25.122198        ->        1305  ...   \n",
       "\n",
       "  Tm 5 (Arctic Express)  R2 5 composite proteome Tm n used  \\\n",
       "0                 44.62   0.9           46.67321434      3   \n",
       "1                 43.48  0.96           51.35692831      4   \n",
       "\n",
       "                               n excluded     assay note confidence score  \\\n",
       "0  3 (Jarzab T4, Matheus ave, Matheus d1)  no assay data                3   \n",
       "1                           1 (Jarzab T5)  no assay data                3   \n",
       "\n",
       "  composite with assay  \\\n",
       "0          46.67321434   \n",
       "1          51.35692831   \n",
       "\n",
       "  Chaperone Interaction Protein (Protein Homeostatis Database)  \\\n",
       "0                                                  +             \n",
       "1                                                  +             \n",
       "\n",
       "  composite sensitivity (TPP-ALE-CIP)  \n",
       "0                                   +  \n",
       "1                                   +  \n",
       "\n",
       "[2 rows x 97 columns]"
      ]
     },
     "execution_count": 19,
     "metadata": {},
     "output_type": "execute_result"
    }
   ],
   "source": [
    "inputs_dir = \"/projects/robustmicrob/jlaw/inputs/jarboe_data\"\n",
    "df_all = pd.read_csv(f\"{inputs_dir}/20230124/master_T_data_rebuilt-TPP_ALE-analysis.csv\", \n",
    "                     header=[1])\n",
    "print(len(df_all))\n",
    "df_all.head(2)"
   ]
  },
  {
   "cell_type": "code",
   "execution_count": 20,
   "id": "ccad3c90-9898-46f5-9ee3-1bd177a950e3",
   "metadata": {},
   "outputs": [
    {
     "name": "stdout",
     "output_type": "stream",
     "text": [
      "4376\n"
     ]
    }
   ],
   "source": [
    "duplicate_locus_ids = ['b4607', 'b4416', 'b4164', 'b1910', 'b4442', 'b4556', 'b4524', 'b2856']\n",
    "df_all = df_all[~df_all['Accession 1'].isin(duplicate_locus_ids)]\n",
    "df_all = df_all.set_index('UNIPROT')\n",
    "print(len(df_all))"
   ]
  },
  {
   "cell_type": "code",
   "execution_count": 23,
   "id": "f346defb-9c75-41bd-8c72-1d2adfad99d6",
   "metadata": {},
   "outputs": [
    {
     "data": {
      "text/plain": [
       "4296"
      ]
     },
     "execution_count": 23,
     "metadata": {},
     "output_type": "execute_result"
    }
   ],
   "source": [
    "# load the fasta file\n",
    "from Bio import SeqIO\n",
    "\n",
    "u_ids = set(df_all.index.values)\n",
    "fasta_file = f\"{inputs_dir}/ecoli_prots.fasta\"\n",
    "# protr has a minimum sequence length of 30, so apply that here as well\n",
    "records = [s for s in SeqIO.parse(fasta_file, \"fasta\") if s.id in u_ids and len(s.seq) > 30]\n",
    "\n",
    "out_file = f\"{inputs_dir}/master_ecoli_prots.fasta\"\n",
    "SeqIO.write(records, out_file, \"fasta\")"
   ]
  },
  {
   "cell_type": "code",
   "execution_count": 24,
   "id": "336567ed-b7c6-4db0-ac1c-d72f419a0911",
   "metadata": {},
   "outputs": [],
   "source": [
    "df_all['sequence'] = {s.id: str(s.seq) for s in records}"
   ]
  },
  {
   "cell_type": "markdown",
   "id": "9730f370-3f69-4995-a406-294d21fc1065",
   "metadata": {},
   "source": [
    "## Load the model"
   ]
  },
  {
   "cell_type": "code",
   "execution_count": 6,
   "id": "d9e2014d-2136-437f-a63d-188a8628bf58",
   "metadata": {},
   "outputs": [],
   "source": [
    "def read_embeddings(embed_file, sequence_idx_file):\n",
    "    \"\"\" Read embeddings stored in an npz file\n",
    "    Get the sequences at each index from the *sequence_idx_file\n",
    "    \"\"\"\n",
    "    embeddings = np.load(embed_file, allow_pickle=True)['arr_0']\n",
    "    sequences = pd.read_csv(sequence_idx_file)\n",
    "    print(f\"{len(embeddings) = } read from {embed_file}\")\n",
    "    print(f\"{len(sequences) = } read from {sequence_idx_file}\")\n",
    "    return embeddings, sequences"
   ]
  },
  {
   "cell_type": "code",
   "execution_count": 7,
   "id": "ae2dba88-0c55-480f-910d-940c5bf63811",
   "metadata": {},
   "outputs": [
    {
     "name": "stdout",
     "output_type": "stream",
     "text": [
      "len(embeddings) = 32563 read from /projects/robustmicrob/jlaw/inputs/meltome/embeddings/20230206_embeddings_esm2_t33_650M_UR50D.npz\n",
      "len(sequences) = 32563 read from /projects/robustmicrob/jlaw/inputs/meltome/embeddings/20230206_embeddings_seqs.csv\n"
     ]
    }
   ],
   "source": [
    "inputs_dir = Path(\"/projects/robustmicrob/jlaw/inputs/\")\n",
    "\n",
    "embeddings, df_seq = read_embeddings(Path(inputs_dir, \"meltome/embeddings/20230206_embeddings_esm2_t33_650M_UR50D.npz\"),\n",
    "                                     Path(inputs_dir, \"meltome/embeddings/20230206_embeddings_seqs.csv\"))\n"
   ]
  },
  {
   "cell_type": "code",
   "execution_count": 8,
   "id": "467e83db-5cae-4ee2-a5e3-ea1f1af524da",
   "metadata": {},
   "outputs": [
    {
     "data": {
      "text/html": [
       "<div>\n",
       "<style scoped>\n",
       "    .dataframe tbody tr th:only-of-type {\n",
       "        vertical-align: middle;\n",
       "    }\n",
       "\n",
       "    .dataframe tbody tr th {\n",
       "        vertical-align: top;\n",
       "    }\n",
       "\n",
       "    .dataframe thead th {\n",
       "        text-align: right;\n",
       "    }\n",
       "</style>\n",
       "<table border=\"1\" class=\"dataframe\">\n",
       "  <thead>\n",
       "    <tr style=\"text-align: right;\">\n",
       "      <th></th>\n",
       "      <th>uniprot</th>\n",
       "      <th>Tm</th>\n",
       "      <th>sequence</th>\n",
       "    </tr>\n",
       "  </thead>\n",
       "  <tbody>\n",
       "    <tr>\n",
       "      <th>0</th>\n",
       "      <td>A0A023T4K3</td>\n",
       "      <td>37.962947</td>\n",
       "      <td>MSGEEEKAADFYVRYYVGHKGKFGHEFLEFEFRPNGSLRYANNSNY...</td>\n",
       "    </tr>\n",
       "    <tr>\n",
       "      <th>1</th>\n",
       "      <td>A0A023T778</td>\n",
       "      <td>54.425342</td>\n",
       "      <td>MSMGSDFYLRYYVGHKGKFGHEFLEFEFRPDGKLRYANNSNYKNDV...</td>\n",
       "    </tr>\n",
       "    <tr>\n",
       "      <th>2</th>\n",
       "      <td>A0A061ACF5</td>\n",
       "      <td>49.459216</td>\n",
       "      <td>MRICFLLLAFLVAETFANELTRCCAGGTRHFKNSNTCSSIKSEGTS...</td>\n",
       "    </tr>\n",
       "    <tr>\n",
       "      <th>3</th>\n",
       "      <td>A0A061ACH4</td>\n",
       "      <td>42.593131</td>\n",
       "      <td>MIRVALPTTASAIPRSISTSPGETISKNHEEEVKRVWRKADAVCFD...</td>\n",
       "    </tr>\n",
       "    <tr>\n",
       "      <th>4</th>\n",
       "      <td>A0A061ACH8</td>\n",
       "      <td>37.999478</td>\n",
       "      <td>MNGDWSRAFVLSKVKNLYFFVIIDKGFSAILNDPREPVQVGGFFEV...</td>\n",
       "    </tr>\n",
       "    <tr>\n",
       "      <th>...</th>\n",
       "      <td>...</td>\n",
       "      <td>...</td>\n",
       "      <td>...</td>\n",
       "    </tr>\n",
       "    <tr>\n",
       "      <th>32558</th>\n",
       "      <td>Q9Y6X5</td>\n",
       "      <td>59.156044</td>\n",
       "      <td>MKLLVILLFSGLITGFRSDSSSSLPPKLLLVSFDGFRADYLKNYEF...</td>\n",
       "    </tr>\n",
       "    <tr>\n",
       "      <th>32559</th>\n",
       "      <td>Q9Y6X8</td>\n",
       "      <td>45.410797</td>\n",
       "      <td>MASKRKSTTPCMVRTSQVVEQDVPEEVDRAKEKGIGTPQPDVAKDS...</td>\n",
       "    </tr>\n",
       "    <tr>\n",
       "      <th>32560</th>\n",
       "      <td>Q9Y6X9</td>\n",
       "      <td>45.488338</td>\n",
       "      <td>MAFTNYSSLNRAQLTFEYLHTNSTTHEFLFGALAELVDNARDADAT...</td>\n",
       "    </tr>\n",
       "    <tr>\n",
       "      <th>32561</th>\n",
       "      <td>Q9Y6Y0</td>\n",
       "      <td>48.494270</td>\n",
       "      <td>MIPNGYLMFEDENFIESSVAKLNALRKSGQFCDVRLQVCGHEMLAH...</td>\n",
       "    </tr>\n",
       "    <tr>\n",
       "      <th>32562</th>\n",
       "      <td>Q9Y6Y8</td>\n",
       "      <td>48.578044</td>\n",
       "      <td>MAERKPNGGSGGASTSSSGTNLLFSSSATEFSFNVPFIPVTQASAS...</td>\n",
       "    </tr>\n",
       "  </tbody>\n",
       "</table>\n",
       "<p>32563 rows × 3 columns</p>\n",
       "</div>"
      ],
      "text/plain": [
       "          uniprot         Tm  \\\n",
       "0      A0A023T4K3  37.962947   \n",
       "1      A0A023T778  54.425342   \n",
       "2      A0A061ACF5  49.459216   \n",
       "3      A0A061ACH4  42.593131   \n",
       "4      A0A061ACH8  37.999478   \n",
       "...           ...        ...   \n",
       "32558      Q9Y6X5  59.156044   \n",
       "32559      Q9Y6X8  45.410797   \n",
       "32560      Q9Y6X9  45.488338   \n",
       "32561      Q9Y6Y0  48.494270   \n",
       "32562      Q9Y6Y8  48.578044   \n",
       "\n",
       "                                                sequence  \n",
       "0      MSGEEEKAADFYVRYYVGHKGKFGHEFLEFEFRPNGSLRYANNSNY...  \n",
       "1      MSMGSDFYLRYYVGHKGKFGHEFLEFEFRPDGKLRYANNSNYKNDV...  \n",
       "2      MRICFLLLAFLVAETFANELTRCCAGGTRHFKNSNTCSSIKSEGTS...  \n",
       "3      MIRVALPTTASAIPRSISTSPGETISKNHEEEVKRVWRKADAVCFD...  \n",
       "4      MNGDWSRAFVLSKVKNLYFFVIIDKGFSAILNDPREPVQVGGFFEV...  \n",
       "...                                                  ...  \n",
       "32558  MKLLVILLFSGLITGFRSDSSSSLPPKLLLVSFDGFRADYLKNYEF...  \n",
       "32559  MASKRKSTTPCMVRTSQVVEQDVPEEVDRAKEKGIGTPQPDVAKDS...  \n",
       "32560  MAFTNYSSLNRAQLTFEYLHTNSTTHEFLFGALAELVDNARDADAT...  \n",
       "32561  MIPNGYLMFEDENFIESSVAKLNALRKSGQFCDVRLQVCGHEMLAH...  \n",
       "32562  MAERKPNGGSGGASTSSSGTNLLFSSSATEFSFNVPFIPVTQASAS...  \n",
       "\n",
       "[32563 rows x 3 columns]"
      ]
     },
     "execution_count": 8,
     "metadata": {},
     "output_type": "execute_result"
    }
   ],
   "source": [
    "df_seq"
   ]
  },
  {
   "cell_type": "code",
   "execution_count": 9,
   "id": "146e3cdd-5fee-4c64-b17c-2eecaecbced4",
   "metadata": {},
   "outputs": [
    {
     "name": "stdout",
     "output_type": "stream",
     "text": [
      "27951\n"
     ]
    },
    {
     "data": {
      "text/html": [
       "<div>\n",
       "<style scoped>\n",
       "    .dataframe tbody tr th:only-of-type {\n",
       "        vertical-align: middle;\n",
       "    }\n",
       "\n",
       "    .dataframe tbody tr th {\n",
       "        vertical-align: top;\n",
       "    }\n",
       "\n",
       "    .dataframe thead th {\n",
       "        text-align: right;\n",
       "    }\n",
       "</style>\n",
       "<table border=\"1\" class=\"dataframe\">\n",
       "  <thead>\n",
       "    <tr style=\"text-align: right;\">\n",
       "      <th></th>\n",
       "      <th>sequence</th>\n",
       "      <th>target</th>\n",
       "      <th>set</th>\n",
       "      <th>validation</th>\n",
       "    </tr>\n",
       "  </thead>\n",
       "  <tbody>\n",
       "    <tr>\n",
       "      <th>0</th>\n",
       "      <td>MSGEEEKAADFYVRYYVGHKGKFGHEFLEFEFRPNGSLRYANNSNY...</td>\n",
       "      <td>37.962947</td>\n",
       "      <td>train</td>\n",
       "      <td>NaN</td>\n",
       "    </tr>\n",
       "    <tr>\n",
       "      <th>1</th>\n",
       "      <td>MSMGSDFYLRYYVGHKGKFGHEFLEFEFRPDGKLRYANNSNYKNDV...</td>\n",
       "      <td>54.425342</td>\n",
       "      <td>train</td>\n",
       "      <td>NaN</td>\n",
       "    </tr>\n",
       "  </tbody>\n",
       "</table>\n",
       "</div>"
      ],
      "text/plain": [
       "                                            sequence     target    set  \\\n",
       "0  MSGEEEKAADFYVRYYVGHKGKFGHEFLEFEFRPNGSLRYANNSNY...  37.962947  train   \n",
       "1  MSMGSDFYLRYYVGHKGKFGHEFLEFEFRPDGKLRYANNSNYKNDV...  54.425342  train   \n",
       "\n",
       "  validation  \n",
       "0        NaN  \n",
       "1        NaN  "
      ]
     },
     "execution_count": 9,
     "metadata": {},
     "output_type": "execute_result"
    }
   ],
   "source": [
    "# try using the same train/test splits that flip used\n",
    "df_split = pd.read_csv(Path(inputs_dir, \"meltome/flip/github/splits/mixed_split.csv\"))\n",
    "print(len(df_split))\n",
    "df_split.head(2)"
   ]
  },
  {
   "cell_type": "code",
   "execution_count": 10,
   "id": "60d1b602-2fcf-46d6-adff-4b0cfafdf9c0",
   "metadata": {},
   "outputs": [
    {
     "data": {
      "text/plain": [
       "train    24817\n",
       "test      3134\n",
       "Name: set, dtype: int64"
      ]
     },
     "execution_count": 10,
     "metadata": {},
     "output_type": "execute_result"
    }
   ],
   "source": [
    "df_split.set.value_counts()"
   ]
  },
  {
   "cell_type": "code",
   "execution_count": 11,
   "id": "13c7f4c0-59e5-4bb5-90f7-067a14dfa55b",
   "metadata": {},
   "outputs": [
    {
     "name": "stdout",
     "output_type": "stream",
     "text": [
      "26082\n"
     ]
    }
   ],
   "source": [
    "# df_split = df_split.set_index('sequence')\n",
    "# df_split_w_embed = df_split.loc[df_seq[df_seq.sequence.isin(df_split.index)].sequence]\n",
    "df_split_w_embed = df_split[df_split.sequence.isin(df_seq.sequence)]\n",
    "print(len(df_split_w_embed))"
   ]
  },
  {
   "cell_type": "code",
   "execution_count": 12,
   "id": "1bfd9fd4-0950-4cbb-baca-9d322e2f1ff9",
   "metadata": {},
   "outputs": [
    {
     "name": "stdout",
     "output_type": "stream",
     "text": [
      "[('MSGEEEKAADFYVRYYVGHKGKFGHEFLEFEFRPNGSLRYANNSNYKNDTMIRKEATVSESVLSELKRIIEDSEIMQEDDDNWPEPDKIGRQELEILYKNEHISFTTGKIGALADVNNSKDPDGLRSFYYLVQDLKCLVFSLIGLHFKIKPI', 0), ('MSMGSDFYLRYYVGHKGKFGHEFLEFEFRPDGKLRYANNSNYKNDVMIRKEAYVHKSVMEELKRIIDDSEITKEDDALWPPPDRVGRQELEIVIGDEHISFTTSKIGSLIDVNQSKDPEGLRVFYYLVQDLKCLVFSLIGLHFKIKPI', 1)]\n"
     ]
    }
   ],
   "source": [
    "# seq_idx = {seq: idx for idx, seq in df_seq.sequence.items\n",
    "seq_idx = dict(zip(df_seq.sequence, df_seq.index))\n",
    "print(list(seq_idx.items())[:2])"
   ]
  },
  {
   "cell_type": "code",
   "execution_count": 13,
   "id": "07cccc6d-d892-40b6-9971-8a29550e38f3",
   "metadata": {},
   "outputs": [
    {
     "name": "stdout",
     "output_type": "stream",
     "text": [
      "23185 0.89\n",
      "2897 0.11\n"
     ]
    }
   ],
   "source": [
    "df_train = df_split_w_embed[df_split_w_embed.set == \"train\"]\n",
    "print(len(df_train), f\"{len(df_train) / len(df_split_w_embed):0.2f}\")\n",
    "\n",
    "# X_train = embeddings[df_seq[df_seq.sequence.isin(train_seq)].index]\n",
    "# y_train = df_seq[df_seq.sequence.isin(train_seq)].Tm\n",
    "# X_test = embeddings[df_seq[df_seq.sequence.isin(test)].index]\n",
    "# y_test = df_seq[df_seq.sequence.isin(test)].Tm\n",
    "# some of the sequences are repeated, so get their embeddings by index\n",
    "X_train = np.asarray([embeddings[seq_idx[seq]] for seq in df_train.sequence.values])\n",
    "y_train = df_train.target\n",
    "\n",
    "df_test = df_split_w_embed[df_split_w_embed.set == \"test\"]\n",
    "print(len(df_test), f\"{len(df_test) / len(df_split_w_embed):0.2f}\")\n",
    "X_test = np.asarray([embeddings[seq_idx[seq]] for seq in df_test.sequence.values])\n",
    "y_test = df_test.target"
   ]
  },
  {
   "cell_type": "markdown",
   "id": "bd0a4a76-a9c8-4f95-9a74-c830728d74d3",
   "metadata": {},
   "source": [
    "### Build neural net on sequence embeddings"
   ]
  },
  {
   "cell_type": "code",
   "execution_count": 14,
   "id": "8b410614-b791-4ca0-9855-41b25fee6f7c",
   "metadata": {},
   "outputs": [],
   "source": [
    "import torch\n",
    "from torch import nn\n",
    "import pytorch_lightning as pl\n",
    "import torchmetrics"
   ]
  },
  {
   "cell_type": "code",
   "execution_count": 15,
   "id": "e37f477d-05ed-4001-8e2c-1002ce70c3b2",
   "metadata": {},
   "outputs": [],
   "source": [
    "class NeuralNetwork(pl.LightningModule):\n",
    "    def __init__(self, initial_layer_size=1280):\n",
    "        super(NeuralNetwork, self).__init__()\n",
    "        self.linear_relu_stack = nn.Sequential(\n",
    "            nn.Linear(initial_layer_size, 512),\n",
    "            nn.ReLU(),            \n",
    "            nn.Linear(512, 512),\n",
    "            nn.ReLU(),\n",
    "            nn.Linear(512, 1),\n",
    "        )\n",
    "\n",
    "    def forward(self, x):\n",
    "        logits = self.linear_relu_stack(x)\n",
    "        return logits    \n",
    "\n",
    "    def training_step(self, batch, batch_idx):\n",
    "        x, y = batch\n",
    "        y_pred = self(x).squeeze(1)\n",
    "        loss = nn.functional.mse_loss(y_pred, y)\n",
    "        self.log('train_loss', loss)\n",
    "        return loss\n",
    "    \n",
    "    def validation_step(self, batch, batch_idx):\n",
    "        x, y = batch\n",
    "        y_pred = self(x).squeeze(1)\n",
    "        loss = nn.functional.mse_loss(y_pred, y)        \n",
    "        self.log(\"val_loss\", loss)\n",
    "        \n",
    "    def configure_optimizers(self):\n",
    "        optimizer = torch.optim.Adam(self.parameters(), lr=1e-3)\n",
    "        return optimizer"
   ]
  },
  {
   "cell_type": "code",
   "execution_count": 16,
   "id": "f93244f8-9fba-4bba-8fa1-3855514d5017",
   "metadata": {},
   "outputs": [],
   "source": [
    "def fit_model(X_train, y_train, X_valid):\n",
    "    pl.seed_everything(42)\n",
    "    model = NeuralNetwork(initial_layer_size=X_train.shape[1])\n",
    "    \n",
    "    trainer = pl.Trainer(\n",
    "        # gpus=-1,\n",
    "        # devices=0,\n",
    "        accelerator=\"gpu\",\n",
    "        max_epochs=20,\n",
    "        check_val_every_n_epoch=5)\n",
    "    \n",
    "    train_dataset = torch.utils.data.TensorDataset(torch.Tensor(X_train).to(device), torch.Tensor(y_train).to(device))\n",
    "    # valid_dataset = torch.utils.data.TensorDataset(torch.Tensor(X_valid), torch.Tensor(y_valid))\n",
    "\n",
    "    train_loader = torch.utils.data.DataLoader(train_dataset, batch_size=32, shuffle=True)\n",
    "    # valid_loader = torch.utils.data.DataLoader(valid_dataset, batch_size=16, shuffle=False)\n",
    "\n",
    "    trainer.fit(model, train_loader)\n",
    "    \n",
    "    return model"
   ]
  },
  {
   "cell_type": "code",
   "execution_count": 17,
   "id": "d771f27b-7ee9-42fe-9cbb-238136ef327d",
   "metadata": {},
   "outputs": [
    {
     "data": {
      "text/plain": [
       "'cuda:0'"
      ]
     },
     "execution_count": 17,
     "metadata": {},
     "output_type": "execute_result"
    }
   ],
   "source": [
    "device = 'cuda:0' if torch.cuda.is_available() else 'cpu'\n",
    "device"
   ]
  },
  {
   "cell_type": "code",
   "execution_count": 18,
   "id": "0b5ae184-45d5-4814-a81e-2269d4b0fc57",
   "metadata": {},
   "outputs": [
    {
     "name": "stderr",
     "output_type": "stream",
     "text": [
      "Global seed set to 42\n",
      "/home/jlaw/.conda/envs/tm/lib/python3.10/site-packages/lightning_fabric/plugins/environments/slurm.py:166: PossibleUserWarning: The `srun` command is available on your system but is not used. HINT: If your intention is to run Lightning on SLURM, prepend your python command with `srun` like so: srun python /home/jlaw/.conda/envs/tm/lib/python3.10/site-packag ...\n",
      "  rank_zero_warn(\n",
      "GPU available: True (cuda), used: True\n",
      "TPU available: False, using: 0 TPU cores\n",
      "IPU available: False, using: 0 IPUs\n",
      "HPU available: False, using: 0 HPUs\n",
      "/home/jlaw/.conda/envs/tm/lib/python3.10/site-packages/pytorch_lightning/trainer/connectors/logger_connector/logger_connector.py:67: UserWarning: Starting from v1.9.0, `tensorboardX` has been removed as a dependency of the `pytorch_lightning` package, due to potential conflicts with other packages in the ML ecosystem. For this reason, `logger=True` will use `CSVLogger` as the default logger, unless the `tensorboard` or `tensorboardX` packages are found. Please `pip install lightning[extra]` or one of them to enable TensorBoard support by default\n",
      "  warning_cache.warn(\n",
      "/home/jlaw/.conda/envs/tm/lib/python3.10/site-packages/pytorch_lightning/trainer/configuration_validator.py:108: PossibleUserWarning: You defined a `validation_step` but have no `val_dataloader`. Skipping val loop.\n",
      "  rank_zero_warn(\n",
      "Missing logger folder: /lustre/eaglefs/projects/robustmicrob/jlaw/projects/prot_stability_engineering/notebooks/ecoli/lightning_logs\n",
      "LOCAL_RANK: 0 - CUDA_VISIBLE_DEVICES: [0]\n",
      "\n",
      "  | Name              | Type       | Params\n",
      "-------------------------------------------------\n",
      "0 | linear_relu_stack | Sequential | 919 K \n",
      "-------------------------------------------------\n",
      "919 K     Trainable params\n",
      "0         Non-trainable params\n",
      "919 K     Total params\n",
      "3.676     Total estimated model params size (MB)\n",
      "/home/jlaw/.conda/envs/tm/lib/python3.10/site-packages/pytorch_lightning/trainer/connectors/data_connector.py:224: PossibleUserWarning: The dataloader, train_dataloader, does not have many workers which may be a bottleneck. Consider increasing the value of the `num_workers` argument` (try 36 which is the number of cpus on this machine) in the `DataLoader` init to improve performance.\n",
      "  rank_zero_warn(\n"
     ]
    },
    {
     "data": {
      "application/vnd.jupyter.widget-view+json": {
       "model_id": "a1185d45b3f448bf9f9929863111b975",
       "version_major": 2,
       "version_minor": 0
      },
      "text/plain": [
       "Training: 0it [00:00, ?it/s]"
      ]
     },
     "metadata": {},
     "output_type": "display_data"
    },
    {
     "name": "stderr",
     "output_type": "stream",
     "text": [
      "`Trainer.fit` stopped: `max_epochs=20` reached.\n"
     ]
    }
   ],
   "source": [
    "head_model = fit_model(X_train, y_train, X_test)"
   ]
  },
  {
   "cell_type": "code",
   "execution_count": 171,
   "id": "34e4e128-47cd-4306-8ba7-f948cf43c39f",
   "metadata": {},
   "outputs": [
    {
     "name": "stdout",
     "output_type": "stream",
     "text": [
      "mae = 4.6, mse = 36.6, rho = 0.67\n"
     ]
    }
   ],
   "source": [
    "# y_pred = fit_predict(X_train, y_train, X_test).flatten()\n",
    "# y_pred = model(torch.Tensor(X_test).to('cuda')[2].unsqueeze(1).detach().cpu()\n",
    "y_pred = head_model(torch.Tensor(X_test)).detach().squeeze().numpy()\n",
    "\n",
    "rho, _ = spearmanr(y_pred, y_test)  # spearman\n",
    "mse = mean_squared_error(y_pred, y_test)  # Mean Squared Error\n",
    "mae = (y_pred - y_test).abs().mean()  # Mean Absolute Error\n",
    "print(f\"{mae = :0.1f}, {mse = :0.1f}, {rho = :0.2f}\")"
   ]
  },
  {
   "cell_type": "code",
   "execution_count": 5,
   "id": "f29d292b-47f8-4ba2-ac2d-90859f6a85e2",
   "metadata": {},
   "outputs": [
    {
     "name": "stderr",
     "output_type": "stream",
     "text": [
      "Using cache found in /scratch/jlaw/torch/facebookresearch_esm_main\n"
     ]
    }
   ],
   "source": [
    "torch.hub.set_dir('/scratch/jlaw/torch')\n",
    "model_name = \"esm2_t33_650M_UR50D\"\n",
    "# model_name = \"esm2_t36_3B_UR50D\"\n",
    "model, alphabet = torch.hub.load(\"facebookresearch/esm:main\", model_name)"
   ]
  },
  {
   "cell_type": "code",
   "execution_count": 28,
   "id": "f94b6933-0bc3-4a35-a224-3b60ef860fb5",
   "metadata": {},
   "outputs": [],
   "source": [
    "# generate the embeddings for these sequences\n",
    "def get_seq_embeddings(model, seqs, repr_layer=33, batch_size=16):\n",
    "    \"\"\"\n",
    "    Generate an embedding for every sequence using the specified model\n",
    "    \"\"\"\n",
    "    batch_labels, batch_strs, batch_tokens = batch_converter(list(zip(np.arange(len(seqs)), seqs)))\n",
    "\n",
    "    batch_dataloader = torch.utils.data.DataLoader(batch_tokens,\n",
    "                                                   batch_size=batch_size,\n",
    "                                                   pin_memory=True,\n",
    "                                                   num_workers=8\n",
    "                                                  )\n",
    "\n",
    "    representations = []\n",
    "    with torch.no_grad():\n",
    "        for batch_idx, batch in tqdm(enumerate(batch_dataloader), total=len(batch_dataloader)):\n",
    "            out = model(batch.to(device), repr_layers=[repr_layer])  # because this is the 33-layer transformer\n",
    "            out = out['representations'][repr_layer].detach().to('cpu').numpy()\n",
    "\n",
    "            for i in range(len(batch)):\n",
    "                seq_idx = (batch_idx * batch_size) + i\n",
    "                representations += [out[i, 1:len(seqs[seq_idx]) + 1].mean(0).astype(np.float16)]\n",
    "\n",
    "            # if batch_idx == 0 or batch_idx % int(len(batch_dataloader) / 20.0) == 0:\n",
    "            #     # keep track of how much memory this script is using\n",
    "            #     print_memory_usage()\n",
    "    representations = np.vstack(representations)\n",
    "    return representations"
   ]
  },
  {
   "cell_type": "markdown",
   "id": "ee5b9a3d-72b3-484b-96a6-5d57c6a7f990",
   "metadata": {},
   "source": [
    "## Now make tm predictions"
   ]
  },
  {
   "cell_type": "code",
   "execution_count": 25,
   "id": "45b2edd9-fe57-4d38-ac49-8ec36c374193",
   "metadata": {},
   "outputs": [],
   "source": [
    "# model, alphabet = torch.hub.load(\"facebookresearch/esm:main\", model_name)\n",
    "device = 'cuda:0' if torch.cuda.is_available() else 'cpu'\n",
    "model.eval()  # disables dropout for deterministic results\n",
    "model = model.to(device)\n",
    "batch_converter = alphabet.get_batch_converter()\n",
    "# get the representations from the last layer\n",
    "repr_layer = model.num_layers"
   ]
  },
  {
   "cell_type": "code",
   "execution_count": 26,
   "id": "58dd8405-e246-41cb-9653-7ecb7153b8ef",
   "metadata": {},
   "outputs": [],
   "source": [
    "df_to_pred = df_all.dropna(subset=['sequence'])"
   ]
  },
  {
   "cell_type": "code",
   "execution_count": 31,
   "id": "2e341825-fd57-48f8-97b9-c61d5de83ead",
   "metadata": {},
   "outputs": [],
   "source": [
    "df_to_pred = df_to_pred[df_to_pred.sequence.apply(len) < 1500]"
   ]
  },
  {
   "cell_type": "code",
   "execution_count": 33,
   "id": "93317b61-5b4f-4f3a-b20d-b5d0a1e1aa04",
   "metadata": {},
   "outputs": [
    {
     "name": "stdout",
     "output_type": "stream",
     "text": [
      "building embeddings for 4291 embeddings using repr_layer = 33\n"
     ]
    },
    {
     "data": {
      "application/vnd.jupyter.widget-view+json": {
       "model_id": "a6d69cf2eacf4d01b2aba10df68ffc44",
       "version_major": 2,
       "version_minor": 0
      },
      "text/plain": [
       "  0%|          | 0/135 [00:00<?, ?it/s]"
      ]
     },
     "metadata": {},
     "output_type": "display_data"
    },
    {
     "name": "stdout",
     "output_type": "stream",
     "text": [
      "representations.shape = (4291, 1280)\n"
     ]
    }
   ],
   "source": [
    "print(f\"building embeddings for {len(df_to_pred)} embeddings using {repr_layer = }\")\n",
    "representations = get_seq_embeddings(model, df_to_pred.sequence.values, repr_layer=repr_layer, batch_size=32)\n",
    "print(f\"{representations.shape = }\")"
   ]
  },
  {
   "cell_type": "code",
   "execution_count": 34,
   "id": "f99b428c-f0a7-4f64-b24a-af9d2bf9f352",
   "metadata": {},
   "outputs": [],
   "source": [
    "y_pred = head_model(torch.Tensor(representations)).detach().squeeze().numpy()\n",
    "df_to_pred['esm2_Tm_pred'] = y_pred\n",
    "df_all['esm2_Tm_pred'] = df_to_pred['esm2_Tm_pred']"
   ]
  },
  {
   "cell_type": "code",
   "execution_count": 35,
   "id": "81ebece6-4264-49d0-93f9-43ca061804b8",
   "metadata": {},
   "outputs": [
    {
     "name": "stdout",
     "output_type": "stream",
     "text": [
      "Writing embeddings to /projects/robustmicrob/jlaw/inputs/jarboe_data/20230124/20230209_embeddings_esm2_t33_650M_UR50D.npz\n"
     ]
    }
   ],
   "source": [
    "inputs_dir = \"/projects/robustmicrob/jlaw/inputs/jarboe_data\"                     \n",
    "out_file = f\"{inputs_dir}/20230124/20230209_embeddings_{model_name}.npz\"\n",
    "print(f\"Writing embeddings to {out_file}\")\n",
    "np.savez(out_file, representations)\n",
    "\n",
    "df_to_pred.sequence.to_csv(out_file.replace('.npz','.csv'))"
   ]
  },
  {
   "cell_type": "code",
   "execution_count": 36,
   "id": "6a4f4493-7b90-488d-9743-5a62a198065b",
   "metadata": {},
   "outputs": [
    {
     "name": "stdout",
     "output_type": "stream",
     "text": [
      "147\n"
     ]
    },
    {
     "data": {
      "text/html": [
       "<div>\n",
       "<style scoped>\n",
       "    .dataframe tbody tr th:only-of-type {\n",
       "        vertical-align: middle;\n",
       "    }\n",
       "\n",
       "    .dataframe tbody tr th {\n",
       "        vertical-align: top;\n",
       "    }\n",
       "\n",
       "    .dataframe thead th {\n",
       "        text-align: right;\n",
       "    }\n",
       "</style>\n",
       "<table border=\"1\" class=\"dataframe\">\n",
       "  <thead>\n",
       "    <tr style=\"text-align: right;\">\n",
       "      <th></th>\n",
       "      <th>Topt</th>\n",
       "      <th>Tm</th>\n",
       "    </tr>\n",
       "    <tr>\n",
       "      <th>UNIPROT</th>\n",
       "      <th></th>\n",
       "      <th></th>\n",
       "    </tr>\n",
       "  </thead>\n",
       "  <tbody>\n",
       "    <tr>\n",
       "      <th>P00936</th>\n",
       "      <td>45.0</td>\n",
       "      <td>NaN</td>\n",
       "    </tr>\n",
       "    <tr>\n",
       "      <th>P04825</th>\n",
       "      <td>37.0</td>\n",
       "      <td>55.0</td>\n",
       "    </tr>\n",
       "  </tbody>\n",
       "</table>\n",
       "</div>"
      ],
      "text/plain": [
       "         Topt    Tm\n",
       "UNIPROT            \n",
       "P00936   45.0   NaN\n",
       "P04825   37.0  55.0"
      ]
     },
     "execution_count": 36,
     "metadata": {},
     "output_type": "execute_result"
    }
   ],
   "source": [
    "lit_data = df_all[['Literature ave Topt', 'Literature ave Tm']].dropna(how='all')\n",
    "lit_data.columns = ['Topt', 'Tm']\n",
    "print(len(lit_data))\n",
    "lit_data = lit_data.applymap(lambda x: x.replace(' ','').replace('>', '').replace('<', '') if not pd.isnull(x) else x)\n",
    "lit_data = lit_data.replace('varies', np.nan)\n",
    "lit_data = lit_data.astype(float)\n",
    "lit_data.head(2)"
   ]
  },
  {
   "cell_type": "code",
   "execution_count": 43,
   "id": "ce883d0a-c315-4d09-ad55-11778e61e03d",
   "metadata": {},
   "outputs": [
    {
     "data": {
      "text/html": [
       "<div>\n",
       "<style scoped>\n",
       "    .dataframe tbody tr th:only-of-type {\n",
       "        vertical-align: middle;\n",
       "    }\n",
       "\n",
       "    .dataframe tbody tr th {\n",
       "        vertical-align: top;\n",
       "    }\n",
       "\n",
       "    .dataframe thead th {\n",
       "        text-align: right;\n",
       "    }\n",
       "</style>\n",
       "<table border=\"1\" class=\"dataframe\">\n",
       "  <thead>\n",
       "    <tr style=\"text-align: right;\">\n",
       "      <th></th>\n",
       "      <th>Matheus</th>\n",
       "      <th>Leuenberger</th>\n",
       "      <th>Jarzab_l</th>\n",
       "      <th>Jarzab_wc</th>\n",
       "      <th>composite_tm</th>\n",
       "      <th>esm2_Tm_pred</th>\n",
       "    </tr>\n",
       "    <tr>\n",
       "      <th>UNIPROT</th>\n",
       "      <th></th>\n",
       "      <th></th>\n",
       "      <th></th>\n",
       "      <th></th>\n",
       "      <th></th>\n",
       "      <th></th>\n",
       "    </tr>\n",
       "  </thead>\n",
       "  <tbody>\n",
       "    <tr>\n",
       "      <th>P00363</th>\n",
       "      <td>NaN</td>\n",
       "      <td>NaN</td>\n",
       "      <td>NaN</td>\n",
       "      <td>NaN</td>\n",
       "      <td>46.67321434</td>\n",
       "      <td>55.373047</td>\n",
       "    </tr>\n",
       "    <tr>\n",
       "      <th>P00393</th>\n",
       "      <td>56.47</td>\n",
       "      <td></td>\n",
       "      <td>45.21</td>\n",
       "      <td>51.15</td>\n",
       "      <td>51.35692831</td>\n",
       "      <td>51.141495</td>\n",
       "    </tr>\n",
       "  </tbody>\n",
       "</table>\n",
       "</div>"
      ],
      "text/plain": [
       "        Matheus Leuenberger Jarzab_l Jarzab_wc composite_tm  esm2_Tm_pred\n",
       "UNIPROT                                                                  \n",
       "P00363      NaN         NaN      NaN       NaN  46.67321434     55.373047\n",
       "P00393    56.47                45.21     51.15  51.35692831     51.141495"
      ]
     },
     "execution_count": 43,
     "metadata": {},
     "output_type": "execute_result"
    }
   ],
   "source": [
    "data = df_all[['Tm (°C)-Mateus',\n",
    "       'Tm (°C)-Leuenberger', 'Tm (°C)-CellLysates-JarZab',\n",
    "       'Tm (°C)-WholeCell-Jarzab', 'composite proteome Tm', 'esm2_Tm_pred']]\n",
    "data.columns = ['Matheus', 'Leuenberger', 'Jarzab_l', 'Jarzab_wc', 'composite_tm', 'esm2_Tm_pred']\n",
    "data.head(2)"
   ]
  },
  {
   "cell_type": "code",
   "execution_count": 44,
   "id": "0d8f309c-1f17-4cc6-bc55-5f1c4bfea105",
   "metadata": {},
   "outputs": [],
   "source": [
    "data = data.replace(\"\\xa0\", np.nan)"
   ]
  },
  {
   "cell_type": "code",
   "execution_count": 45,
   "id": "34aa6107-61ea-4bc0-a2e2-dc54b27b5614",
   "metadata": {},
   "outputs": [
    {
     "data": {
      "text/html": [
       "<div>\n",
       "<style scoped>\n",
       "    .dataframe tbody tr th:only-of-type {\n",
       "        vertical-align: middle;\n",
       "    }\n",
       "\n",
       "    .dataframe tbody tr th {\n",
       "        vertical-align: top;\n",
       "    }\n",
       "\n",
       "    .dataframe thead th {\n",
       "        text-align: right;\n",
       "    }\n",
       "</style>\n",
       "<table border=\"1\" class=\"dataframe\">\n",
       "  <thead>\n",
       "    <tr style=\"text-align: right;\">\n",
       "      <th></th>\n",
       "      <th>Matheus</th>\n",
       "      <th>Leuenberger</th>\n",
       "      <th>Jarzab_l</th>\n",
       "      <th>Jarzab_wc</th>\n",
       "      <th>composite_tm</th>\n",
       "      <th>esm2_Tm_pred</th>\n",
       "    </tr>\n",
       "    <tr>\n",
       "      <th>UNIPROT</th>\n",
       "      <th></th>\n",
       "      <th></th>\n",
       "      <th></th>\n",
       "      <th></th>\n",
       "      <th></th>\n",
       "      <th></th>\n",
       "    </tr>\n",
       "  </thead>\n",
       "  <tbody>\n",
       "    <tr>\n",
       "      <th>P00363</th>\n",
       "      <td>NaN</td>\n",
       "      <td>NaN</td>\n",
       "      <td>NaN</td>\n",
       "      <td>NaN</td>\n",
       "      <td>46.673214</td>\n",
       "      <td>55.373047</td>\n",
       "    </tr>\n",
       "    <tr>\n",
       "      <th>P00393</th>\n",
       "      <td>56.47</td>\n",
       "      <td>NaN</td>\n",
       "      <td>45.21</td>\n",
       "      <td>51.15</td>\n",
       "      <td>51.356928</td>\n",
       "      <td>51.141495</td>\n",
       "    </tr>\n",
       "  </tbody>\n",
       "</table>\n",
       "</div>"
      ],
      "text/plain": [
       "         Matheus  Leuenberger  Jarzab_l  Jarzab_wc  composite_tm  esm2_Tm_pred\n",
       "UNIPROT                                                                       \n",
       "P00363       NaN          NaN       NaN        NaN     46.673214     55.373047\n",
       "P00393     56.47          NaN     45.21      51.15     51.356928     51.141495"
      ]
     },
     "execution_count": 45,
     "metadata": {},
     "output_type": "execute_result"
    }
   ],
   "source": [
    "data.replace({'x': np.nan, 'nodata': np.nan, 'non-melter': 67}, inplace=True)\n",
    "# data = data.replace('non-melter', 67)\n",
    "data['composite_tm'] = data['composite_tm'].astype('str')\n",
    "data['composite_tm'] = data['composite_tm'].apply(lambda x: x.replace(' ','').replace('>', '').replace('<', ''))\n",
    "data['composite_tm'] = data['composite_tm'].apply(\n",
    "    lambda x: np.mean([float(i) for i in x.split('-')]) if '-' in x else x)\n",
    "data = data.replace('nodata', np.nan)\n",
    "data = data.astype(float)\n",
    "data.head(2)\n"
   ]
  },
  {
   "cell_type": "code",
   "execution_count": 46,
   "id": "1f6824d8-d066-4619-a747-88dbb86496c8",
   "metadata": {},
   "outputs": [
    {
     "data": {
      "text/html": [
       "<div>\n",
       "<style scoped>\n",
       "    .dataframe tbody tr th:only-of-type {\n",
       "        vertical-align: middle;\n",
       "    }\n",
       "\n",
       "    .dataframe tbody tr th {\n",
       "        vertical-align: top;\n",
       "    }\n",
       "\n",
       "    .dataframe thead th {\n",
       "        text-align: right;\n",
       "    }\n",
       "</style>\n",
       "<table border=\"1\" class=\"dataframe\">\n",
       "  <thead>\n",
       "    <tr style=\"text-align: right;\">\n",
       "      <th></th>\n",
       "      <th>Matheus</th>\n",
       "      <th>Leuenberger</th>\n",
       "      <th>Jarzab_l</th>\n",
       "      <th>Jarzab_wc</th>\n",
       "      <th>composite_tm</th>\n",
       "      <th>esm2_Tm_pred</th>\n",
       "      <th>avg_tm</th>\n",
       "      <th>med_tm</th>\n",
       "    </tr>\n",
       "    <tr>\n",
       "      <th>UNIPROT</th>\n",
       "      <th></th>\n",
       "      <th></th>\n",
       "      <th></th>\n",
       "      <th></th>\n",
       "      <th></th>\n",
       "      <th></th>\n",
       "      <th></th>\n",
       "      <th></th>\n",
       "    </tr>\n",
       "  </thead>\n",
       "  <tbody>\n",
       "    <tr>\n",
       "      <th>P0A972</th>\n",
       "      <td>NaN</td>\n",
       "      <td>NaN</td>\n",
       "      <td>NaN</td>\n",
       "      <td>64.52</td>\n",
       "      <td>64.520000</td>\n",
       "      <td>54.988422</td>\n",
       "      <td>64.520000</td>\n",
       "      <td>64.52</td>\n",
       "    </tr>\n",
       "    <tr>\n",
       "      <th>P0A976</th>\n",
       "      <td>NaN</td>\n",
       "      <td>NaN</td>\n",
       "      <td>NaN</td>\n",
       "      <td>NaN</td>\n",
       "      <td>NaN</td>\n",
       "      <td>45.045006</td>\n",
       "      <td>NaN</td>\n",
       "      <td>NaN</td>\n",
       "    </tr>\n",
       "    <tr>\n",
       "      <th>P0A988</th>\n",
       "      <td>56.91</td>\n",
       "      <td>49.19</td>\n",
       "      <td>48.95</td>\n",
       "      <td>51.71</td>\n",
       "      <td>52.487498</td>\n",
       "      <td>51.571930</td>\n",
       "      <td>51.690000</td>\n",
       "      <td>50.45</td>\n",
       "    </tr>\n",
       "    <tr>\n",
       "      <th>P0A996</th>\n",
       "      <td>56.25</td>\n",
       "      <td>NaN</td>\n",
       "      <td>NaN</td>\n",
       "      <td>NaN</td>\n",
       "      <td>55.513923</td>\n",
       "      <td>50.892097</td>\n",
       "      <td>56.250000</td>\n",
       "      <td>56.25</td>\n",
       "    </tr>\n",
       "    <tr>\n",
       "      <th>P0A998</th>\n",
       "      <td>67.35</td>\n",
       "      <td>NaN</td>\n",
       "      <td>57.73</td>\n",
       "      <td>65.58</td>\n",
       "      <td>61.655000</td>\n",
       "      <td>50.902626</td>\n",
       "      <td>63.553333</td>\n",
       "      <td>65.58</td>\n",
       "    </tr>\n",
       "  </tbody>\n",
       "</table>\n",
       "</div>"
      ],
      "text/plain": [
       "         Matheus  Leuenberger  Jarzab_l  Jarzab_wc  composite_tm  \\\n",
       "UNIPROT                                                            \n",
       "P0A972       NaN          NaN       NaN      64.52     64.520000   \n",
       "P0A976       NaN          NaN       NaN        NaN           NaN   \n",
       "P0A988     56.91        49.19     48.95      51.71     52.487498   \n",
       "P0A996     56.25          NaN       NaN        NaN     55.513923   \n",
       "P0A998     67.35          NaN     57.73      65.58     61.655000   \n",
       "\n",
       "         esm2_Tm_pred     avg_tm  med_tm  \n",
       "UNIPROT                                   \n",
       "P0A972      54.988422  64.520000   64.52  \n",
       "P0A976      45.045006        NaN     NaN  \n",
       "P0A988      51.571930  51.690000   50.45  \n",
       "P0A996      50.892097  56.250000   56.25  \n",
       "P0A998      50.902626  63.553333   65.58  "
      ]
     },
     "execution_count": 46,
     "metadata": {},
     "output_type": "execute_result"
    }
   ],
   "source": [
    "data['avg_tm'] = data[['Matheus', 'Leuenberger', 'Jarzab_l', 'Jarzab_wc']].mean(axis=1)\n",
    "data['med_tm'] = data[['Matheus', 'Leuenberger', 'Jarzab_l', 'Jarzab_wc']].median(axis=1)\n",
    "data.head(500).tail()"
   ]
  },
  {
   "cell_type": "code",
   "execution_count": 47,
   "id": "4442d274-e622-4a2c-9d66-cfa7ed41631c",
   "metadata": {},
   "outputs": [
    {
     "data": {
      "image/png": "[encoded data removed]",
      "text/plain": [
       "<Figure size 640x480 with 1 Axes>"
      ]
     },
     "metadata": {},
     "output_type": "display_data"
    },
    {
     "data": {
      "image/png": "[encoded data removed]",
      "text/plain": [
       "<Figure size 640x480 with 1 Axes>"
      ]
     },
     "metadata": {},
     "output_type": "display_data"
    }
   ],
   "source": [
    "data['lit_tm'] = lit_data.Tm\n",
    "for col in ['composite_tm', 'esm2_Tm_pred']:\n",
    "    data.plot.scatter(x='lit_tm', y=col)"
   ]
  },
  {
   "cell_type": "code",
   "execution_count": 49,
   "id": "7d2d133e-5085-4799-96b1-278848c770a4",
   "metadata": {},
   "outputs": [
    {
     "data": {
      "text/plain": [
       "Text(0.05, 0.95, 'R^2: 0.17')"
      ]
     },
     "execution_count": 49,
     "metadata": {},
     "output_type": "execute_result"
    },
    {
     "data": {
      "image/png": "[encoded data removed]",
      "text/plain": [
       "<Figure size 500x500 with 1 Axes>"
      ]
     },
     "metadata": {},
     "output_type": "display_data"
    }
   ],
   "source": [
    "import scipy\n",
    "data2 = data[data.composite_tm != 67]\n",
    "slope, intercept, r_value, p_value, std_err = scipy.stats.linregress(data2[['composite_tm', 'esm2_Tm_pred']].dropna().values)\n",
    "g = sns.lmplot(x='composite_tm', y='esm2_Tm_pred', data=data2,\n",
    "           scatter_kws=dict(s=8, alpha=.3),\n",
    "           fit_reg=True)\n",
    "ax = g.axes[0][0]\n",
    "ax.text(0.05,0.95, f\"R^2: {r_value**2:0.2}\", transform=ax.transAxes)"
   ]
  },
  {
   "cell_type": "code",
   "execution_count": 26,
   "id": "15cb8134-07d5-444b-bf70-0ad910852427",
   "metadata": {},
   "outputs": [
    {
     "data": {
      "text/plain": [
       "Text(0.05, 0.95, 'R^2: 0.081')"
      ]
     },
     "execution_count": 26,
     "metadata": {},
     "output_type": "execute_result"
    },
    {
     "data": {
      "image/png": "[encoded data removed]",
      "text/plain": [
       "<Figure size 500x500 with 1 Axes>"
      ]
     },
     "metadata": {},
     "output_type": "display_data"
    }
   ],
   "source": [
    "import scipy\n",
    "data2 = data[data.composite_tm != 67]\n",
    "slope, intercept, r_value, p_value, std_err = scipy.stats.linregress(data2[['composite_tm', 'protstab2']].dropna().values)\n",
    "g = sns.lmplot(x='composite_tm', y='protstab2', data=data2,\n",
    "           scatter_kws=dict(s=8, alpha=.3),\n",
    "           fit_reg=True)\n",
    "ax = g.axes[0][0]\n",
    "ax.text(0.05,0.95, f\"R^2: {r_value**2:0.2}\", transform=ax.transAxes)"
   ]
  },
  {
   "cell_type": "code",
   "execution_count": 29,
   "id": "f7ff4ed6-7669-4898-a55b-1f3589b12d61",
   "metadata": {},
   "outputs": [
    {
     "data": {
      "text/html": [
       "<div>\n",
       "<style scoped>\n",
       "    .dataframe tbody tr th:only-of-type {\n",
       "        vertical-align: middle;\n",
       "    }\n",
       "\n",
       "    .dataframe tbody tr th {\n",
       "        vertical-align: top;\n",
       "    }\n",
       "\n",
       "    .dataframe thead th {\n",
       "        text-align: right;\n",
       "    }\n",
       "</style>\n",
       "<table border=\"1\" class=\"dataframe\">\n",
       "  <thead>\n",
       "    <tr style=\"text-align: right;\">\n",
       "      <th></th>\n",
       "      <th>Acc#</th>\n",
       "      <th>Alt Acc#</th>\n",
       "      <th>Swiss-Prot Entry name</th>\n",
       "      <th>Length</th>\n",
       "      <th>syn 1</th>\n",
       "      <th>syn 2</th>\n",
       "      <th>syn 3</th>\n",
       "      <th>Name</th>\n",
       "      <th>Gene name from Teams spreadsheet</th>\n",
       "      <th>Protein</th>\n",
       "      <th>...</th>\n",
       "      <th>Avg. DispH Score at pH 4.0</th>\n",
       "      <th>Lethality at pH 4.0_Nichols</th>\n",
       "      <th>ThermoProt_prediction</th>\n",
       "      <th>iThermo</th>\n",
       "      <th>SCMTTP</th>\n",
       "      <th>TPP-sensitivity analysis</th>\n",
       "      <th>ALE-identified mutant protein</th>\n",
       "      <th>Mapped PubMed ID/DOI</th>\n",
       "      <th>sequence</th>\n",
       "      <th>ProTstab2</th>\n",
       "    </tr>\n",
       "    <tr>\n",
       "      <th>AC</th>\n",
       "      <th></th>\n",
       "      <th></th>\n",
       "      <th></th>\n",
       "      <th></th>\n",
       "      <th></th>\n",
       "      <th></th>\n",
       "      <th></th>\n",
       "      <th></th>\n",
       "      <th></th>\n",
       "      <th></th>\n",
       "      <th></th>\n",
       "      <th></th>\n",
       "      <th></th>\n",
       "      <th></th>\n",
       "      <th></th>\n",
       "      <th></th>\n",
       "      <th></th>\n",
       "      <th></th>\n",
       "      <th></th>\n",
       "      <th></th>\n",
       "      <th></th>\n",
       "    </tr>\n",
       "  </thead>\n",
       "  <tbody>\n",
       "    <tr>\n",
       "      <th>P38392</th>\n",
       "      <td>b0005</td>\n",
       "      <td>JW0004</td>\n",
       "      <td>YAAX_ECOLI</td>\n",
       "      <td>162.0</td>\n",
       "      <td>NaN</td>\n",
       "      <td>NaN</td>\n",
       "      <td>NaN</td>\n",
       "      <td>sieB</td>\n",
       "      <td>NaN</td>\n",
       "      <td>NaN</td>\n",
       "      <td>...</td>\n",
       "      <td>NaN</td>\n",
       "      <td>NaN</td>\n",
       "      <td>NaN</td>\n",
       "      <td>NaN</td>\n",
       "      <td>NaN</td>\n",
       "      <td>NaN</td>\n",
       "      <td>NaN</td>\n",
       "      <td>NaN</td>\n",
       "      <td>MLDVFTPLLKLFANEPLERLMYTIIIFGLTLWLIPKEFTVAFNAYT...</td>\n",
       "      <td>47.029142</td>\n",
       "    </tr>\n",
       "    <tr>\n",
       "      <th>P32138</th>\n",
       "      <td>b0022</td>\n",
       "      <td>JW0021</td>\n",
       "      <td>INSA1_ECOLI</td>\n",
       "      <td>678.0</td>\n",
       "      <td>squQ</td>\n",
       "      <td>NaN</td>\n",
       "      <td>NaN</td>\n",
       "      <td>yihQ</td>\n",
       "      <td>yihQ</td>\n",
       "      <td>Sulfoquinovosidase (SQase) (EC 3.2.1.199)</td>\n",
       "      <td>...</td>\n",
       "      <td>0.336178</td>\n",
       "      <td>no</td>\n",
       "      <td>Meso</td>\n",
       "      <td>Mesophilic</td>\n",
       "      <td>non-TTP</td>\n",
       "      <td>-</td>\n",
       "      <td>-</td>\n",
       "      <td>15690043; 30276262</td>\n",
       "      <td>MDTPRPQLLDFQFHQNNDSFTLHFQQRLILTHSKDNPCLWIGSGIA...</td>\n",
       "      <td>49.527071</td>\n",
       "    </tr>\n",
       "  </tbody>\n",
       "</table>\n",
       "<p>2 rows × 46 columns</p>\n",
       "</div>"
      ],
      "text/plain": [
       "         Acc# Alt Acc# Swiss-Prot Entry name  Length syn 1 syn 2 syn 3  Name  \\\n",
       "AC                                                                             \n",
       "P38392  b0005   JW0004            YAAX_ECOLI   162.0   NaN   NaN   NaN  sieB   \n",
       "P32138  b0022   JW0021           INSA1_ECOLI   678.0  squQ   NaN   NaN  yihQ   \n",
       "\n",
       "       Gene name from Teams spreadsheet  \\\n",
       "AC                                        \n",
       "P38392                              NaN   \n",
       "P32138                             yihQ   \n",
       "\n",
       "                                          Protein  ...  \\\n",
       "AC                                                 ...   \n",
       "P38392                                        NaN  ...   \n",
       "P32138  Sulfoquinovosidase (SQase) (EC 3.2.1.199)  ...   \n",
       "\n",
       "       Avg. DispH Score at pH 4.0 Lethality at pH 4.0_Nichols  \\\n",
       "AC                                                              \n",
       "P38392                        NaN                         NaN   \n",
       "P32138                   0.336178                          no   \n",
       "\n",
       "       ThermoProt_prediction     iThermo   SCMTTP TPP-sensitivity analysis  \\\n",
       "AC                                                                           \n",
       "P38392                   NaN         NaN      NaN                      NaN   \n",
       "P32138                  Meso  Mesophilic  non-TTP                        -   \n",
       "\n",
       "       ALE-identified mutant protein Mapped PubMed ID/DOI  \\\n",
       "AC                                                          \n",
       "P38392                           NaN                  NaN   \n",
       "P32138                             -   15690043; 30276262   \n",
       "\n",
       "                                                 sequence  ProTstab2  \n",
       "AC                                                                    \n",
       "P38392  MLDVFTPLLKLFANEPLERLMYTIIIFGLTLWLIPKEFTVAFNAYT...  47.029142  \n",
       "P32138  MDTPRPQLLDFQFHQNNDSFTLHFQQRLILTHSKDNPCLWIGSGIA...  49.527071  \n",
       "\n",
       "[2 rows x 46 columns]"
      ]
     },
     "execution_count": 29,
     "metadata": {},
     "output_type": "execute_result"
    }
   ],
   "source": [
    "# wtrite the consolidated temperatures to file\n",
    "df_all.head(2)"
   ]
  },
  {
   "cell_type": "code",
   "execution_count": 29,
   "id": "068ac06a-aa24-4f11-aaad-a9570f357713",
   "metadata": {},
   "outputs": [
    {
     "data": {
      "text/html": [
       "<div>\n",
       "<style scoped>\n",
       "    .dataframe tbody tr th:only-of-type {\n",
       "        vertical-align: middle;\n",
       "    }\n",
       "\n",
       "    .dataframe tbody tr th {\n",
       "        vertical-align: top;\n",
       "    }\n",
       "\n",
       "    .dataframe thead th {\n",
       "        text-align: right;\n",
       "    }\n",
       "</style>\n",
       "<table border=\"1\" class=\"dataframe\">\n",
       "  <thead>\n",
       "    <tr style=\"text-align: right;\">\n",
       "      <th></th>\n",
       "      <th>Matheus</th>\n",
       "      <th>Leuenberger</th>\n",
       "      <th>Jarzab_l</th>\n",
       "      <th>Jarzab_wc</th>\n",
       "      <th>composite_tm</th>\n",
       "      <th>protstab2</th>\n",
       "      <th>avg_tm</th>\n",
       "      <th>med_tm</th>\n",
       "      <th>lit_tm</th>\n",
       "    </tr>\n",
       "    <tr>\n",
       "      <th>AC</th>\n",
       "      <th></th>\n",
       "      <th></th>\n",
       "      <th></th>\n",
       "      <th></th>\n",
       "      <th></th>\n",
       "      <th></th>\n",
       "      <th></th>\n",
       "      <th></th>\n",
       "      <th></th>\n",
       "    </tr>\n",
       "  </thead>\n",
       "  <tbody>\n",
       "    <tr>\n",
       "      <th>P38392</th>\n",
       "      <td>NaN</td>\n",
       "      <td>NaN</td>\n",
       "      <td>67.0</td>\n",
       "      <td>NaN</td>\n",
       "      <td>67.0</td>\n",
       "      <td>47.029142</td>\n",
       "      <td>67.0</td>\n",
       "      <td>67.0</td>\n",
       "      <td>NaN</td>\n",
       "    </tr>\n",
       "    <tr>\n",
       "      <th>P32138</th>\n",
       "      <td>NaN</td>\n",
       "      <td>NaN</td>\n",
       "      <td>54.0</td>\n",
       "      <td>NaN</td>\n",
       "      <td>54.0</td>\n",
       "      <td>49.527071</td>\n",
       "      <td>54.0</td>\n",
       "      <td>54.0</td>\n",
       "      <td>NaN</td>\n",
       "    </tr>\n",
       "  </tbody>\n",
       "</table>\n",
       "</div>"
      ],
      "text/plain": [
       "        Matheus  Leuenberger  Jarzab_l  Jarzab_wc  composite_tm  protstab2  \\\n",
       "AC                                                                           \n",
       "P38392      NaN          NaN      67.0        NaN          67.0  47.029142   \n",
       "P32138      NaN          NaN      54.0        NaN          54.0  49.527071   \n",
       "\n",
       "        avg_tm  med_tm  lit_tm  \n",
       "AC                              \n",
       "P38392    67.0    67.0     NaN  \n",
       "P32138    54.0    54.0     NaN  "
      ]
     },
     "execution_count": 29,
     "metadata": {},
     "output_type": "execute_result"
    }
   ],
   "source": [
    "data.head(2)"
   ]
  },
  {
   "cell_type": "code",
   "execution_count": 50,
   "id": "47bd8a61-5b3e-4526-825c-408de59676b2",
   "metadata": {},
   "outputs": [
    {
     "data": {
      "text/html": [
       "<div>\n",
       "<style scoped>\n",
       "    .dataframe tbody tr th:only-of-type {\n",
       "        vertical-align: middle;\n",
       "    }\n",
       "\n",
       "    .dataframe tbody tr th {\n",
       "        vertical-align: top;\n",
       "    }\n",
       "\n",
       "    .dataframe thead th {\n",
       "        text-align: right;\n",
       "    }\n",
       "</style>\n",
       "<table border=\"1\" class=\"dataframe\">\n",
       "  <thead>\n",
       "    <tr style=\"text-align: right;\">\n",
       "      <th></th>\n",
       "      <th>Matheus</th>\n",
       "      <th>Leuenberger</th>\n",
       "      <th>Jarzab_l</th>\n",
       "      <th>Jarzab_wc</th>\n",
       "      <th>composite_tm</th>\n",
       "      <th>protstab2</th>\n",
       "      <th>avg_tm</th>\n",
       "      <th>med_tm</th>\n",
       "      <th>lit_tm</th>\n",
       "      <th>composite_wpred_tm</th>\n",
       "    </tr>\n",
       "    <tr>\n",
       "      <th>AC</th>\n",
       "      <th></th>\n",
       "      <th></th>\n",
       "      <th></th>\n",
       "      <th></th>\n",
       "      <th></th>\n",
       "      <th></th>\n",
       "      <th></th>\n",
       "      <th></th>\n",
       "      <th></th>\n",
       "      <th></th>\n",
       "    </tr>\n",
       "  </thead>\n",
       "  <tbody>\n",
       "    <tr>\n",
       "      <th>P38392</th>\n",
       "      <td>NaN</td>\n",
       "      <td>NaN</td>\n",
       "      <td>67.00</td>\n",
       "      <td>NaN</td>\n",
       "      <td>67.00</td>\n",
       "      <td>47.029142</td>\n",
       "      <td>67.00</td>\n",
       "      <td>67.00</td>\n",
       "      <td>NaN</td>\n",
       "      <td>67.000000</td>\n",
       "    </tr>\n",
       "    <tr>\n",
       "      <th>P32138</th>\n",
       "      <td>NaN</td>\n",
       "      <td>NaN</td>\n",
       "      <td>54.00</td>\n",
       "      <td>NaN</td>\n",
       "      <td>54.00</td>\n",
       "      <td>49.527071</td>\n",
       "      <td>54.00</td>\n",
       "      <td>54.00</td>\n",
       "      <td>NaN</td>\n",
       "      <td>54.000000</td>\n",
       "    </tr>\n",
       "    <tr>\n",
       "      <th>P32675</th>\n",
       "      <td>NaN</td>\n",
       "      <td>NaN</td>\n",
       "      <td>48.13</td>\n",
       "      <td>NaN</td>\n",
       "      <td>48.13</td>\n",
       "      <td>48.807907</td>\n",
       "      <td>48.13</td>\n",
       "      <td>48.13</td>\n",
       "      <td>NaN</td>\n",
       "      <td>48.130000</td>\n",
       "    </tr>\n",
       "    <tr>\n",
       "      <th>P07000</th>\n",
       "      <td>NaN</td>\n",
       "      <td>NaN</td>\n",
       "      <td>46.27</td>\n",
       "      <td>NaN</td>\n",
       "      <td>46.27</td>\n",
       "      <td>52.928307</td>\n",
       "      <td>46.27</td>\n",
       "      <td>46.27</td>\n",
       "      <td>48.0</td>\n",
       "      <td>46.270000</td>\n",
       "    </tr>\n",
       "    <tr>\n",
       "      <th>P31545</th>\n",
       "      <td>NaN</td>\n",
       "      <td>NaN</td>\n",
       "      <td>46.17</td>\n",
       "      <td>NaN</td>\n",
       "      <td>46.17</td>\n",
       "      <td>48.935611</td>\n",
       "      <td>46.17</td>\n",
       "      <td>46.17</td>\n",
       "      <td>NaN</td>\n",
       "      <td>46.170000</td>\n",
       "    </tr>\n",
       "    <tr>\n",
       "      <th>...</th>\n",
       "      <td>...</td>\n",
       "      <td>...</td>\n",
       "      <td>...</td>\n",
       "      <td>...</td>\n",
       "      <td>...</td>\n",
       "      <td>...</td>\n",
       "      <td>...</td>\n",
       "      <td>...</td>\n",
       "      <td>...</td>\n",
       "      <td>...</td>\n",
       "    </tr>\n",
       "    <tr>\n",
       "      <th>P45795</th>\n",
       "      <td>NaN</td>\n",
       "      <td>NaN</td>\n",
       "      <td>NaN</td>\n",
       "      <td>NaN</td>\n",
       "      <td>NaN</td>\n",
       "      <td>51.928143</td>\n",
       "      <td>NaN</td>\n",
       "      <td>NaN</td>\n",
       "      <td>NaN</td>\n",
       "      <td>51.928143</td>\n",
       "    </tr>\n",
       "    <tr>\n",
       "      <th>P45550</th>\n",
       "      <td>NaN</td>\n",
       "      <td>NaN</td>\n",
       "      <td>NaN</td>\n",
       "      <td>NaN</td>\n",
       "      <td>NaN</td>\n",
       "      <td>47.960149</td>\n",
       "      <td>NaN</td>\n",
       "      <td>NaN</td>\n",
       "      <td>NaN</td>\n",
       "      <td>47.960149</td>\n",
       "    </tr>\n",
       "    <tr>\n",
       "      <th>P45551</th>\n",
       "      <td>NaN</td>\n",
       "      <td>NaN</td>\n",
       "      <td>NaN</td>\n",
       "      <td>NaN</td>\n",
       "      <td>NaN</td>\n",
       "      <td>54.712402</td>\n",
       "      <td>NaN</td>\n",
       "      <td>NaN</td>\n",
       "      <td>NaN</td>\n",
       "      <td>54.712402</td>\n",
       "    </tr>\n",
       "    <tr>\n",
       "      <th>P46857</th>\n",
       "      <td>NaN</td>\n",
       "      <td>NaN</td>\n",
       "      <td>NaN</td>\n",
       "      <td>NaN</td>\n",
       "      <td>NaN</td>\n",
       "      <td>59.054064</td>\n",
       "      <td>NaN</td>\n",
       "      <td>NaN</td>\n",
       "      <td>NaN</td>\n",
       "      <td>59.054064</td>\n",
       "    </tr>\n",
       "    <tr>\n",
       "      <th>P39398</th>\n",
       "      <td>NaN</td>\n",
       "      <td>NaN</td>\n",
       "      <td>NaN</td>\n",
       "      <td>NaN</td>\n",
       "      <td>NaN</td>\n",
       "      <td>47.917657</td>\n",
       "      <td>NaN</td>\n",
       "      <td>NaN</td>\n",
       "      <td>NaN</td>\n",
       "      <td>47.917657</td>\n",
       "    </tr>\n",
       "  </tbody>\n",
       "</table>\n",
       "<p>4388 rows × 10 columns</p>\n",
       "</div>"
      ],
      "text/plain": [
       "        Matheus  Leuenberger  Jarzab_l  Jarzab_wc  composite_tm  protstab2  \\\n",
       "AC                                                                           \n",
       "P38392      NaN          NaN     67.00        NaN         67.00  47.029142   \n",
       "P32138      NaN          NaN     54.00        NaN         54.00  49.527071   \n",
       "P32675      NaN          NaN     48.13        NaN         48.13  48.807907   \n",
       "P07000      NaN          NaN     46.27        NaN         46.27  52.928307   \n",
       "P31545      NaN          NaN     46.17        NaN         46.17  48.935611   \n",
       "...         ...          ...       ...        ...           ...        ...   \n",
       "P45795      NaN          NaN       NaN        NaN           NaN  51.928143   \n",
       "P45550      NaN          NaN       NaN        NaN           NaN  47.960149   \n",
       "P45551      NaN          NaN       NaN        NaN           NaN  54.712402   \n",
       "P46857      NaN          NaN       NaN        NaN           NaN  59.054064   \n",
       "P39398      NaN          NaN       NaN        NaN           NaN  47.917657   \n",
       "\n",
       "        avg_tm  med_tm  lit_tm  composite_wpred_tm  \n",
       "AC                                                  \n",
       "P38392   67.00   67.00     NaN           67.000000  \n",
       "P32138   54.00   54.00     NaN           54.000000  \n",
       "P32675   48.13   48.13     NaN           48.130000  \n",
       "P07000   46.27   46.27    48.0           46.270000  \n",
       "P31545   46.17   46.17     NaN           46.170000  \n",
       "...        ...     ...     ...                 ...  \n",
       "P45795     NaN     NaN     NaN           51.928143  \n",
       "P45550     NaN     NaN     NaN           47.960149  \n",
       "P45551     NaN     NaN     NaN           54.712402  \n",
       "P46857     NaN     NaN     NaN           59.054064  \n",
       "P39398     NaN     NaN     NaN           47.917657  \n",
       "\n",
       "[4388 rows x 10 columns]"
      ]
     },
     "execution_count": 50,
     "metadata": {},
     "output_type": "execute_result"
    }
   ],
   "source": [
    "def composite(row):\n",
    "    if pd.isnull(row.composite_tm):\n",
    "        return row.protstab2\n",
    "    return row.composite_tm\n",
    "\n",
    "data['composite_wpred_tm'] = data.apply(composite, axis=1)\n",
    "data"
   ]
  }
 ],
 "metadata": {
  "kernelspec": {
   "display_name": "Python 3 (ipykernel)",
   "language": "python",
   "name": "python3"
  },
  "language_info": {
   "codemirror_mode": {
    "name": "ipython",
    "version": 3
   },
   "file_extension": ".py",
   "mimetype": "text/x-python",
   "name": "python",
   "nbconvert_exporter": "python",
   "pygments_lexer": "ipython3",
   "version": "3.10.8"
  }
 },
 "nbformat": 4,
 "nbformat_minor": 5
}
