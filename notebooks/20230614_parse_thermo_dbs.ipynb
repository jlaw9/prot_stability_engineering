{
 "cells": [
  {
   "cell_type": "code",
   "execution_count": 2,
   "id": "860fca38-24fe-45c2-89f6-7e0221a09434",
   "metadata": {},
   "outputs": [],
   "source": [
    "import pandas as pd\n",
    "import numpy as np\n",
    "from pathlib import Path"
   ]
  },
  {
   "cell_type": "markdown",
   "id": "3edab2a7-e00a-4f8c-81b0-a6165858e20c",
   "metadata": {},
   "source": [
    "## Tempura"
   ]
  },
  {
   "cell_type": "code",
   "execution_count": 99,
   "id": "c4c0a4e8-0f39-492e-b125-0aa0e2777d34",
   "metadata": {},
   "outputs": [
    {
     "data": {
      "text/html": [
       "<div>\n",
       "<style scoped>\n",
       "    .dataframe tbody tr th:only-of-type {\n",
       "        vertical-align: middle;\n",
       "    }\n",
       "\n",
       "    .dataframe tbody tr th {\n",
       "        vertical-align: top;\n",
       "    }\n",
       "\n",
       "    .dataframe thead th {\n",
       "        text-align: right;\n",
       "    }\n",
       "</style>\n",
       "<table border=\"1\" class=\"dataframe\">\n",
       "  <thead>\n",
       "    <tr style=\"text-align: right;\">\n",
       "      <th></th>\n",
       "      <th>species</th>\n",
       "      <th>taxon_id</th>\n",
       "      <th>Tmax</th>\n",
       "      <th>Tmin</th>\n",
       "      <th>Topt</th>\n",
       "      <th>source</th>\n",
       "    </tr>\n",
       "  </thead>\n",
       "  <tbody>\n",
       "    <tr>\n",
       "      <th>0</th>\n",
       "      <td>Methanopyrus kandleri 116</td>\n",
       "      <td>2320</td>\n",
       "      <td>122.0</td>\n",
       "      <td>85.0</td>\n",
       "      <td>100.0</td>\n",
       "      <td>tempura</td>\n",
       "    </tr>\n",
       "    <tr>\n",
       "      <th>1</th>\n",
       "      <td>\"Geogemma barossii\" 121</td>\n",
       "      <td>1927912</td>\n",
       "      <td>121.0</td>\n",
       "      <td>85.0</td>\n",
       "      <td>106.0</td>\n",
       "      <td>tempura</td>\n",
       "    </tr>\n",
       "    <tr>\n",
       "      <th>2</th>\n",
       "      <td>Pyrolobus fumarii 1A</td>\n",
       "      <td>54252</td>\n",
       "      <td>113.0</td>\n",
       "      <td>90.0</td>\n",
       "      <td>106.0</td>\n",
       "      <td>tempura</td>\n",
       "    </tr>\n",
       "    <tr>\n",
       "      <th>3</th>\n",
       "      <td>Pyrococcus kukulkanii NCB100</td>\n",
       "      <td>1609559</td>\n",
       "      <td>112.0</td>\n",
       "      <td>70.0</td>\n",
       "      <td>105.0</td>\n",
       "      <td>tempura</td>\n",
       "    </tr>\n",
       "    <tr>\n",
       "      <th>4</th>\n",
       "      <td>Methanopyrus kandleri AV19</td>\n",
       "      <td>2320</td>\n",
       "      <td>110.0</td>\n",
       "      <td>84.0</td>\n",
       "      <td>98.0</td>\n",
       "      <td>tempura</td>\n",
       "    </tr>\n",
       "    <tr>\n",
       "      <th>5</th>\n",
       "      <td>Pyrodictium brockii S1</td>\n",
       "      <td>35616</td>\n",
       "      <td>110.0</td>\n",
       "      <td>80.0</td>\n",
       "      <td>105.0</td>\n",
       "      <td>tempura</td>\n",
       "    </tr>\n",
       "    <tr>\n",
       "      <th>6</th>\n",
       "      <td>Pyrodictium occultum PL-19</td>\n",
       "      <td>2309</td>\n",
       "      <td>110.0</td>\n",
       "      <td>82.0</td>\n",
       "      <td>105.0</td>\n",
       "      <td>tempura</td>\n",
       "    </tr>\n",
       "    <tr>\n",
       "      <th>7</th>\n",
       "      <td>Pyrodictium abyssi AV2</td>\n",
       "      <td>54256</td>\n",
       "      <td>110.0</td>\n",
       "      <td>80.0</td>\n",
       "      <td>97.0</td>\n",
       "      <td>tempura</td>\n",
       "    </tr>\n",
       "    <tr>\n",
       "      <th>8</th>\n",
       "      <td>Pyrococcus yayanosii CH1</td>\n",
       "      <td>1008460</td>\n",
       "      <td>108.0</td>\n",
       "      <td>80.0</td>\n",
       "      <td>98.0</td>\n",
       "      <td>tempura</td>\n",
       "    </tr>\n",
       "    <tr>\n",
       "      <th>9</th>\n",
       "      <td>Hyperthermus butylicus DSM 5456</td>\n",
       "      <td>54248</td>\n",
       "      <td>108.0</td>\n",
       "      <td>72.0</td>\n",
       "      <td>100.5</td>\n",
       "      <td>tempura</td>\n",
       "    </tr>\n",
       "  </tbody>\n",
       "</table>\n",
       "</div>"
      ],
      "text/plain": [
       "                           species  taxon_id   Tmax  Tmin   Topt   source\n",
       "0        Methanopyrus kandleri 116      2320  122.0  85.0  100.0  tempura\n",
       "1          \"Geogemma barossii\" 121   1927912  121.0  85.0  106.0  tempura\n",
       "2             Pyrolobus fumarii 1A     54252  113.0  90.0  106.0  tempura\n",
       "3     Pyrococcus kukulkanii NCB100   1609559  112.0  70.0  105.0  tempura\n",
       "4       Methanopyrus kandleri AV19      2320  110.0  84.0   98.0  tempura\n",
       "5           Pyrodictium brockii S1     35616  110.0  80.0  105.0  tempura\n",
       "6       Pyrodictium occultum PL-19      2309  110.0  82.0  105.0  tempura\n",
       "7           Pyrodictium abyssi AV2     54256  110.0  80.0   97.0  tempura\n",
       "8         Pyrococcus yayanosii CH1   1008460  108.0  80.0   98.0  tempura\n",
       "9  Hyperthermus butylicus DSM 5456     54248  108.0  72.0  100.5  tempura"
      ]
     },
     "execution_count": 99,
     "metadata": {},
     "output_type": "execute_result"
    }
   ],
   "source": [
    "inputs_dir = \"/projects/robustmicrob/jlaw/inputs\"\n",
    "tempura_file = Path(inputs_dir, \"ogt_sources/tempura/200617_TEMPURA.csv\")\n",
    "df_tempura = pd.read_csv(tempura_file).ffill()\n",
    "df_tempura['genus_and_species'] = df_tempura['genus_and_species'] + ' ' + df_tempura['strain'] \n",
    "df_tempura = df_tempura[['genus_and_species', 'taxonomy_id', 'Tmax', 'Tmin', 'Topt_ave']]\n",
    "df_tempura.columns = ['species', 'taxon_id', 'Tmax', 'Tmin', 'Topt']\n",
    "df_tempura['source'] = 'tempura'\n",
    "# df = df.replace('', np.nan).dropna(subset='Temperature')\n",
    "df_tempura.head(10)"
   ]
  },
  {
   "cell_type": "code",
   "execution_count": 38,
   "id": "f2b6f119-c439-4201-9b99-8ce9170176c1",
   "metadata": {},
   "outputs": [
    {
     "data": {
      "text/plain": [
       "<AxesSubplot: >"
      ]
     },
     "execution_count": 38,
     "metadata": {},
     "output_type": "execute_result"
    },
    {
     "data": {
      "image/png": "[encoded data removed]",
      "text/plain": [
       "<Figure size 640x480 with 1 Axes>"
      ]
     },
     "metadata": {},
     "output_type": "display_data"
    }
   ],
   "source": [
    "df_tempura.Tmax.hist(bins=30)"
   ]
  },
  {
   "cell_type": "markdown",
   "id": "4453d97c-91ed-4977-bcc7-7314fa6afe8f",
   "metadata": {},
   "source": [
    "## ThermoBase"
   ]
  },
  {
   "cell_type": "code",
   "execution_count": 100,
   "id": "95830d82-d5a8-4347-80b0-07c122fa2cc6",
   "metadata": {},
   "outputs": [
    {
     "data": {
      "text/html": [
       "<div>\n",
       "<style scoped>\n",
       "    .dataframe tbody tr th:only-of-type {\n",
       "        vertical-align: middle;\n",
       "    }\n",
       "\n",
       "    .dataframe tbody tr th {\n",
       "        vertical-align: top;\n",
       "    }\n",
       "\n",
       "    .dataframe thead th {\n",
       "        text-align: right;\n",
       "    }\n",
       "</style>\n",
       "<table border=\"1\" class=\"dataframe\">\n",
       "  <thead>\n",
       "    <tr style=\"text-align: right;\">\n",
       "      <th></th>\n",
       "      <th>species</th>\n",
       "      <th>Tmax</th>\n",
       "      <th>Tmin</th>\n",
       "      <th>Topt</th>\n",
       "      <th>source</th>\n",
       "    </tr>\n",
       "    <tr>\n",
       "      <th>taxon_id</th>\n",
       "      <th></th>\n",
       "      <th></th>\n",
       "      <th></th>\n",
       "      <th></th>\n",
       "      <th></th>\n",
       "    </tr>\n",
       "  </thead>\n",
       "  <tbody>\n",
       "    <tr>\n",
       "      <th>128</th>\n",
       "      <td>Isosphaera pallida</td>\n",
       "      <td>55.0</td>\n",
       "      <td>34.0</td>\n",
       "      <td>41.0</td>\n",
       "      <td>thermobase</td>\n",
       "    </tr>\n",
       "    <tr>\n",
       "      <th>271</th>\n",
       "      <td>Thermus aquaticus</td>\n",
       "      <td>79.0</td>\n",
       "      <td>40.0</td>\n",
       "      <td>70.0</td>\n",
       "      <td>thermobase</td>\n",
       "    </tr>\n",
       "    <tr>\n",
       "      <th>274</th>\n",
       "      <td>Thermus thermophilus</td>\n",
       "      <td>85.0</td>\n",
       "      <td>47.0</td>\n",
       "      <td>68.5</td>\n",
       "      <td>thermobase</td>\n",
       "    </tr>\n",
       "    <tr>\n",
       "      <th>276</th>\n",
       "      <td>Thermus filiformis</td>\n",
       "      <td>80.0</td>\n",
       "      <td>37.0</td>\n",
       "      <td>73.0</td>\n",
       "      <td>thermobase</td>\n",
       "    </tr>\n",
       "    <tr>\n",
       "      <th>405</th>\n",
       "      <td>Methylobacillus flagellatus</td>\n",
       "      <td>52.0</td>\n",
       "      <td>10.0</td>\n",
       "      <td>42.0</td>\n",
       "      <td>thermobase</td>\n",
       "    </tr>\n",
       "    <tr>\n",
       "      <th>929</th>\n",
       "      <td>Thermithiobacillus tepidarius</td>\n",
       "      <td>52.0</td>\n",
       "      <td>20.0</td>\n",
       "      <td>44.0</td>\n",
       "      <td>thermobase</td>\n",
       "    </tr>\n",
       "    <tr>\n",
       "      <th>1050</th>\n",
       "      <td>Thermochromatium tepidum</td>\n",
       "      <td>57.0</td>\n",
       "      <td>34.0</td>\n",
       "      <td>49.0</td>\n",
       "      <td>thermobase</td>\n",
       "    </tr>\n",
       "    <tr>\n",
       "      <th>1086</th>\n",
       "      <td>Rhodothalassium salexigens</td>\n",
       "      <td>45.0</td>\n",
       "      <td>20.0</td>\n",
       "      <td>40.0</td>\n",
       "      <td>thermobase</td>\n",
       "    </tr>\n",
       "    <tr>\n",
       "      <th>1087</th>\n",
       "      <td>Rhodovibrio salinarum</td>\n",
       "      <td>45.0</td>\n",
       "      <td>20.0</td>\n",
       "      <td>40.0</td>\n",
       "      <td>thermobase</td>\n",
       "    </tr>\n",
       "    <tr>\n",
       "      <th>1110</th>\n",
       "      <td>Heliothrix oregonensis</td>\n",
       "      <td>56.0</td>\n",
       "      <td>20.0</td>\n",
       "      <td>47.5</td>\n",
       "      <td>thermobase</td>\n",
       "    </tr>\n",
       "  </tbody>\n",
       "</table>\n",
       "</div>"
      ],
      "text/plain": [
       "                                species  Tmax  Tmin  Topt      source\n",
       "taxon_id                                                             \n",
       "128                  Isosphaera pallida  55.0  34.0  41.0  thermobase\n",
       "271                   Thermus aquaticus  79.0  40.0  70.0  thermobase\n",
       "274                Thermus thermophilus  85.0  47.0  68.5  thermobase\n",
       "276                  Thermus filiformis  80.0  37.0  73.0  thermobase\n",
       "405         Methylobacillus flagellatus  52.0  10.0  42.0  thermobase\n",
       "929       Thermithiobacillus tepidarius  52.0  20.0  44.0  thermobase\n",
       "1050           Thermochromatium tepidum  57.0  34.0  49.0  thermobase\n",
       "1086         Rhodothalassium salexigens  45.0  20.0  40.0  thermobase\n",
       "1087              Rhodovibrio salinarum  45.0  20.0  40.0  thermobase\n",
       "1110             Heliothrix oregonensis  56.0  20.0  47.5  thermobase"
      ]
     },
     "execution_count": 100,
     "metadata": {},
     "output_type": "execute_result"
    }
   ],
   "source": [
    "thermobase_file = Path(inputs_dir, \"ogt_sources/thermobase/ThermoBase_ver_1.0_2022.csv\")\n",
    "df_tb = pd.read_csv(thermobase_file)\n",
    "df_tb = df_tb.replace('', np.nan).dropna(subset=['Taxonomic ID', 'Max. Temp. (°C)'])\n",
    "df_tb = df_tb[['Name', 'Taxonomic ID', 'Max. Temp. (°C)', 'Min. Temp. (°C)', 'Avg. Optimum Temp (°C)']]\n",
    "df_tb.columns = ['species', 'taxon_id', 'Tmax', 'Tmin', 'Topt']\n",
    "df_tb['taxon_id'] = df_tb['taxon_id'].astype(int)\n",
    "df_tb = df_tb.groupby('taxon_id').max()\n",
    "df_tb['source'] = 'thermobase'\n",
    "df_tb.head(10)"
   ]
  },
  {
   "cell_type": "code",
   "execution_count": 7,
   "id": "94aabd26-8329-4754-a0af-27dcc8f430b0",
   "metadata": {},
   "outputs": [
    {
     "data": {
      "text/plain": [
       "Index(['Name', 'Taxonomic ID', 'Domain', 'Phylum', 'Class', 'Order', 'Family',\n",
       "       'Ecosystem', 'Environment', 'Energy Source', 'Metabolism',\n",
       "       'Extended Metabolism', 'Ion for Chemiosmosis', 'Oxygen Requirement',\n",
       "       'Min. pH', 'Max. pH', 'Avg. Opt. pH', 'Min. Temp. (°C)',\n",
       "       'Max. Temp. (°C)', 'Avg. Optimum Temp (°C)',\n",
       "       'Pressure for Opt. Temp. (kpa)', 'Optimum Pressure (Mpa) ',\n",
       "       'Avg. Opt. salinity (%)', 'Note', 'Source', 'Additional_source',\n",
       "       'Unnamed: 26', 'Unnamed: 27', 'Unnamed: 28', 'Unnamed: 29',\n",
       "       'Unnamed: 30', 'Unnamed: 31', 'Unnamed: 32', 'Unnamed: 33',\n",
       "       'Unnamed: 34', 'Unnamed: 35', 'Unnamed: 36', 'Unnamed: 37',\n",
       "       'Unnamed: 38', 'Unnamed: 39', 'Unnamed: 40', 'Unnamed: 41',\n",
       "       'Unnamed: 42', 'Unnamed: 43', 'Unnamed: 44', 'Unnamed: 45',\n",
       "       'Unnamed: 46', 'Unnamed: 47', 'Unnamed: 48', 'Unnamed: 49',\n",
       "       'Unnamed: 50', 'Unnamed: 51', 'Unnamed: 52', 'Unnamed: 53',\n",
       "       'Unnamed: 54', 'Unnamed: 55', 'Unnamed: 56', 'Unnamed: 57',\n",
       "       'Unnamed: 58', 'Unnamed: 59', 'Unnamed: 60', 'Unnamed: 61',\n",
       "       'Unnamed: 62', 'Unnamed: 63', 'Unnamed: 64', 'Unnamed: 65',\n",
       "       'Unnamed: 66', 'Unnamed: 67', 'Unnamed: 68', 'Unnamed: 69',\n",
       "       'Unnamed: 70', 'Unnamed: 71', 'Unnamed: 72', 'Unnamed: 73',\n",
       "       'Unnamed: 74', 'Unnamed: 75', 'Unnamed: 76', 'Unnamed: 77',\n",
       "       'Unnamed: 78', 'Unnamed: 79', 'Unnamed: 80', 'Unnamed: 81',\n",
       "       'Unnamed: 82', 'Unnamed: 83', 'Unnamed: 84', 'Unnamed: 85',\n",
       "       'Unnamed: 86', 'Unnamed: 87', 'Unnamed: 88', 'Unnamed: 89',\n",
       "       'Unnamed: 90', 'Unnamed: 91', 'Unnamed: 92', 'Unnamed: 93',\n",
       "       'Unnamed: 94', 'Unnamed: 95', 'Unnamed: 96', 'Unnamed: 97',\n",
       "       'Unnamed: 98'],\n",
       "      dtype='object')"
      ]
     },
     "execution_count": 7,
     "metadata": {},
     "output_type": "execute_result"
    }
   ],
   "source": [
    "df_tb.columns"
   ]
  },
  {
   "cell_type": "code",
   "execution_count": 85,
   "id": "e6339664-f478-4912-934f-8bf017049518",
   "metadata": {},
   "outputs": [
    {
     "data": {
      "text/plain": [
       "<AxesSubplot: >"
      ]
     },
     "execution_count": 85,
     "metadata": {},
     "output_type": "execute_result"
    },
    {
     "data": {
      "image/png": "[encoded data removed]",
      "text/plain": [
       "<Figure size 640x480 with 1 Axes>"
      ]
     },
     "metadata": {},
     "output_type": "display_data"
    }
   ],
   "source": [
    "df_tb['Tmax'].hist(bins=30)"
   ]
  },
  {
   "cell_type": "code",
   "execution_count": 62,
   "id": "1f78a492-fdb7-4514-ba1c-f2da10f6227e",
   "metadata": {},
   "outputs": [
    {
     "data": {
      "text/html": [
       "<div>\n",
       "<style scoped>\n",
       "    .dataframe tbody tr th:only-of-type {\n",
       "        vertical-align: middle;\n",
       "    }\n",
       "\n",
       "    .dataframe tbody tr th {\n",
       "        vertical-align: top;\n",
       "    }\n",
       "\n",
       "    .dataframe thead th {\n",
       "        text-align: right;\n",
       "    }\n",
       "</style>\n",
       "<table border=\"1\" class=\"dataframe\">\n",
       "  <thead>\n",
       "    <tr style=\"text-align: right;\">\n",
       "      <th></th>\n",
       "      <th>species</th>\n",
       "      <th>taxon_id</th>\n",
       "      <th>strain</th>\n",
       "      <th>Tmax</th>\n",
       "      <th>Tmin</th>\n",
       "      <th>Topt</th>\n",
       "    </tr>\n",
       "  </thead>\n",
       "  <tbody>\n",
       "    <tr>\n",
       "      <th>0</th>\n",
       "      <td>Methanopyrus kandleri</td>\n",
       "      <td>2320</td>\n",
       "      <td>116</td>\n",
       "      <td>122.0</td>\n",
       "      <td>85.0</td>\n",
       "      <td>100.0</td>\n",
       "    </tr>\n",
       "    <tr>\n",
       "      <th>1</th>\n",
       "      <td>\"Geogemma barossii\"</td>\n",
       "      <td>1927912</td>\n",
       "      <td>121</td>\n",
       "      <td>121.0</td>\n",
       "      <td>85.0</td>\n",
       "      <td>106.0</td>\n",
       "    </tr>\n",
       "  </tbody>\n",
       "</table>\n",
       "</div>"
      ],
      "text/plain": [
       "                 species  taxon_id strain   Tmax  Tmin   Topt\n",
       "0  Methanopyrus kandleri      2320    116  122.0  85.0  100.0\n",
       "1    \"Geogemma barossii\"   1927912    121  121.0  85.0  106.0"
      ]
     },
     "execution_count": 62,
     "metadata": {},
     "output_type": "execute_result"
    }
   ],
   "source": [
    "df_tempura.head(2)"
   ]
  },
  {
   "cell_type": "code",
   "execution_count": 63,
   "id": "17059578-e11d-46e6-80ce-bccd8c303da6",
   "metadata": {},
   "outputs": [
    {
     "data": {
      "text/html": [
       "<div>\n",
       "<style scoped>\n",
       "    .dataframe tbody tr th:only-of-type {\n",
       "        vertical-align: middle;\n",
       "    }\n",
       "\n",
       "    .dataframe tbody tr th {\n",
       "        vertical-align: top;\n",
       "    }\n",
       "\n",
       "    .dataframe thead th {\n",
       "        text-align: right;\n",
       "    }\n",
       "</style>\n",
       "<table border=\"1\" class=\"dataframe\">\n",
       "  <thead>\n",
       "    <tr style=\"text-align: right;\">\n",
       "      <th></th>\n",
       "      <th>species</th>\n",
       "      <th>taxon_id</th>\n",
       "      <th>Tmax</th>\n",
       "      <th>Tmin</th>\n",
       "      <th>Topt</th>\n",
       "    </tr>\n",
       "  </thead>\n",
       "  <tbody>\n",
       "    <tr>\n",
       "      <th>0</th>\n",
       "      <td>Methanopyrus kandleri 116</td>\n",
       "      <td>2320</td>\n",
       "      <td>122.0</td>\n",
       "      <td>90.0</td>\n",
       "      <td>105.0</td>\n",
       "    </tr>\n",
       "    <tr>\n",
       "      <th>1</th>\n",
       "      <td>Geogemma barossii 121</td>\n",
       "      <td>1927912</td>\n",
       "      <td>121.0</td>\n",
       "      <td>85.0</td>\n",
       "      <td>106.0</td>\n",
       "    </tr>\n",
       "  </tbody>\n",
       "</table>\n",
       "</div>"
      ],
      "text/plain": [
       "                     species taxon_id   Tmax  Tmin   Topt\n",
       "0  Methanopyrus kandleri 116     2320  122.0  90.0  105.0\n",
       "1      Geogemma barossii 121  1927912  121.0  85.0  106.0"
      ]
     },
     "execution_count": 63,
     "metadata": {},
     "output_type": "execute_result"
    }
   ],
   "source": [
    "df_tb.head(2)"
   ]
  },
  {
   "cell_type": "code",
   "execution_count": 87,
   "id": "6d561592-d63e-4e67-8231-b7d2f9e9d3f2",
   "metadata": {},
   "outputs": [
    {
     "name": "stdout",
     "output_type": "stream",
     "text": [
      "8638 1152 859\n",
      "293\n"
     ]
    }
   ],
   "source": [
    "# try combining them\n",
    "tempura_ids = set([int(x) for x in df_tempura.taxon_id.values])\n",
    "tb_ids = set([int(x) for x in df_tb.index.values])\n",
    "print(len(tempura_ids), len(tb_ids), len(tempura_ids & tb_ids))\n",
    "tb_unique_ids = tb_ids - tempura_ids\n",
    "print(len(tb_unique_ids))"
   ]
  },
  {
   "cell_type": "code",
   "execution_count": 259,
   "id": "cfc45982-c4b9-4689-b0e2-3f58dd4a8930",
   "metadata": {},
   "outputs": [
    {
     "data": {
      "text/html": [
       "<div>\n",
       "<style scoped>\n",
       "    .dataframe tbody tr th:only-of-type {\n",
       "        vertical-align: middle;\n",
       "    }\n",
       "\n",
       "    .dataframe tbody tr th {\n",
       "        vertical-align: top;\n",
       "    }\n",
       "\n",
       "    .dataframe thead th {\n",
       "        text-align: right;\n",
       "    }\n",
       "</style>\n",
       "<table border=\"1\" class=\"dataframe\">\n",
       "  <thead>\n",
       "    <tr style=\"text-align: right;\">\n",
       "      <th></th>\n",
       "      <th>species</th>\n",
       "      <th>Tmax</th>\n",
       "      <th>Tmin</th>\n",
       "      <th>Topt</th>\n",
       "      <th>source</th>\n",
       "    </tr>\n",
       "    <tr>\n",
       "      <th>taxon_id</th>\n",
       "      <th></th>\n",
       "      <th></th>\n",
       "      <th></th>\n",
       "      <th></th>\n",
       "      <th></th>\n",
       "    </tr>\n",
       "  </thead>\n",
       "  <tbody>\n",
       "    <tr>\n",
       "      <th>14</th>\n",
       "      <td>Dictyoglomus thermophilum H‐6‐12</td>\n",
       "      <td>80.0</td>\n",
       "      <td>50.0</td>\n",
       "      <td>78.0</td>\n",
       "      <td>tempura</td>\n",
       "    </tr>\n",
       "    <tr>\n",
       "      <th>128</th>\n",
       "      <td>Isosphaera pallida IS1B</td>\n",
       "      <td>55.0</td>\n",
       "      <td>34.0</td>\n",
       "      <td>41.0</td>\n",
       "      <td>tempura</td>\n",
       "    </tr>\n",
       "    <tr>\n",
       "      <th>154</th>\n",
       "      <td>Spirochaeta thermophila  Z-1203</td>\n",
       "      <td>73.0</td>\n",
       "      <td>40.0</td>\n",
       "      <td>67.0</td>\n",
       "      <td>tempura</td>\n",
       "    </tr>\n",
       "    <tr>\n",
       "      <th>271</th>\n",
       "      <td>Thermus aquaticus YT-1</td>\n",
       "      <td>79.0</td>\n",
       "      <td>40.0</td>\n",
       "      <td>70.0</td>\n",
       "      <td>tempura</td>\n",
       "    </tr>\n",
       "    <tr>\n",
       "      <th>274</th>\n",
       "      <td>Thermus thermophilus HB8</td>\n",
       "      <td>85.0</td>\n",
       "      <td>47.0</td>\n",
       "      <td>68.5</td>\n",
       "      <td>tempura</td>\n",
       "    </tr>\n",
       "    <tr>\n",
       "      <th>...</th>\n",
       "      <td>...</td>\n",
       "      <td>...</td>\n",
       "      <td>...</td>\n",
       "      <td>...</td>\n",
       "      <td>...</td>\n",
       "    </tr>\n",
       "    <tr>\n",
       "      <th>2758568023</th>\n",
       "      <td>Thermococcus gorgonarius W-12</td>\n",
       "      <td>95.0</td>\n",
       "      <td>68.0</td>\n",
       "      <td>84.0</td>\n",
       "      <td>thermobase</td>\n",
       "    </tr>\n",
       "    <tr>\n",
       "      <th>2758568024</th>\n",
       "      <td>Thermococcus siculi RG-20</td>\n",
       "      <td>93.0</td>\n",
       "      <td>50.0</td>\n",
       "      <td>85.0</td>\n",
       "      <td>thermobase</td>\n",
       "    </tr>\n",
       "    <tr>\n",
       "      <th>2758568025</th>\n",
       "      <td>Thermococcus pacificus P-4</td>\n",
       "      <td>95.0</td>\n",
       "      <td>70.0</td>\n",
       "      <td>84.0</td>\n",
       "      <td>thermobase</td>\n",
       "    </tr>\n",
       "    <tr>\n",
       "      <th>2758568026</th>\n",
       "      <td>Thermococcus barossii SHCK-94</td>\n",
       "      <td>92.0</td>\n",
       "      <td>60.0</td>\n",
       "      <td>82.5</td>\n",
       "      <td>thermobase</td>\n",
       "    </tr>\n",
       "    <tr>\n",
       "      <th>2758568027</th>\n",
       "      <td>Thermococcus profundus DT 5432</td>\n",
       "      <td>90.0</td>\n",
       "      <td>50.0</td>\n",
       "      <td>80.0</td>\n",
       "      <td>thermobase</td>\n",
       "    </tr>\n",
       "  </tbody>\n",
       "</table>\n",
       "<p>1292 rows × 5 columns</p>\n",
       "</div>"
      ],
      "text/plain": [
       "                                     species  Tmax  Tmin  Topt      source\n",
       "taxon_id                                                                  \n",
       "14          Dictyoglomus thermophilum H‐6‐12  80.0  50.0  78.0     tempura\n",
       "128                  Isosphaera pallida IS1B  55.0  34.0  41.0     tempura\n",
       "154          Spirochaeta thermophila  Z-1203  73.0  40.0  67.0     tempura\n",
       "271                   Thermus aquaticus YT-1  79.0  40.0  70.0     tempura\n",
       "274                 Thermus thermophilus HB8  85.0  47.0  68.5     tempura\n",
       "...                                      ...   ...   ...   ...         ...\n",
       "2758568023     Thermococcus gorgonarius W-12  95.0  68.0  84.0  thermobase\n",
       "2758568024         Thermococcus siculi RG-20  93.0  50.0  85.0  thermobase\n",
       "2758568025        Thermococcus pacificus P-4  95.0  70.0  84.0  thermobase\n",
       "2758568026     Thermococcus barossii SHCK-94  92.0  60.0  82.5  thermobase\n",
       "2758568027    Thermococcus profundus DT 5432  90.0  50.0  80.0  thermobase\n",
       "\n",
       "[1292 rows x 5 columns]"
      ]
     },
     "execution_count": 259,
     "metadata": {},
     "output_type": "execute_result"
    }
   ],
   "source": [
    "df_merged[df_merged.Tmax > 50]"
   ]
  },
  {
   "cell_type": "code",
   "execution_count": 101,
   "id": "6dd207ae-872a-4492-8f08-76b020a7b726",
   "metadata": {},
   "outputs": [
    {
     "data": {
      "text/html": [
       "<div>\n",
       "<style scoped>\n",
       "    .dataframe tbody tr th:only-of-type {\n",
       "        vertical-align: middle;\n",
       "    }\n",
       "\n",
       "    .dataframe tbody tr th {\n",
       "        vertical-align: top;\n",
       "    }\n",
       "\n",
       "    .dataframe thead th {\n",
       "        text-align: right;\n",
       "    }\n",
       "</style>\n",
       "<table border=\"1\" class=\"dataframe\">\n",
       "  <thead>\n",
       "    <tr style=\"text-align: right;\">\n",
       "      <th></th>\n",
       "      <th>species</th>\n",
       "      <th>taxon_id</th>\n",
       "      <th>Tmax</th>\n",
       "      <th>Tmin</th>\n",
       "      <th>Topt</th>\n",
       "      <th>source</th>\n",
       "    </tr>\n",
       "  </thead>\n",
       "  <tbody>\n",
       "    <tr>\n",
       "      <th>0</th>\n",
       "      <td>Methanopyrus kandleri 116</td>\n",
       "      <td>2320</td>\n",
       "      <td>122.0</td>\n",
       "      <td>85.0</td>\n",
       "      <td>100.0</td>\n",
       "      <td>tempura</td>\n",
       "    </tr>\n",
       "    <tr>\n",
       "      <th>1</th>\n",
       "      <td>\"Geogemma barossii\" 121</td>\n",
       "      <td>1927912</td>\n",
       "      <td>121.0</td>\n",
       "      <td>85.0</td>\n",
       "      <td>106.0</td>\n",
       "      <td>tempura</td>\n",
       "    </tr>\n",
       "    <tr>\n",
       "      <th>2</th>\n",
       "      <td>Pyrolobus fumarii 1A</td>\n",
       "      <td>54252</td>\n",
       "      <td>113.0</td>\n",
       "      <td>90.0</td>\n",
       "      <td>106.0</td>\n",
       "      <td>tempura</td>\n",
       "    </tr>\n",
       "    <tr>\n",
       "      <th>3</th>\n",
       "      <td>Pyrococcus kukulkanii NCB100</td>\n",
       "      <td>1609559</td>\n",
       "      <td>112.0</td>\n",
       "      <td>70.0</td>\n",
       "      <td>105.0</td>\n",
       "      <td>tempura</td>\n",
       "    </tr>\n",
       "    <tr>\n",
       "      <th>4</th>\n",
       "      <td>Methanopyrus kandleri AV19</td>\n",
       "      <td>2320</td>\n",
       "      <td>110.0</td>\n",
       "      <td>84.0</td>\n",
       "      <td>98.0</td>\n",
       "      <td>tempura</td>\n",
       "    </tr>\n",
       "    <tr>\n",
       "      <th>...</th>\n",
       "      <td>...</td>\n",
       "      <td>...</td>\n",
       "      <td>...</td>\n",
       "      <td>...</td>\n",
       "      <td>...</td>\n",
       "      <td>...</td>\n",
       "    </tr>\n",
       "    <tr>\n",
       "      <th>288</th>\n",
       "      <td>Thermococcus gorgonarius W-12</td>\n",
       "      <td>2758568023</td>\n",
       "      <td>95.0</td>\n",
       "      <td>68.0</td>\n",
       "      <td>84.0</td>\n",
       "      <td>thermobase</td>\n",
       "    </tr>\n",
       "    <tr>\n",
       "      <th>289</th>\n",
       "      <td>Thermococcus siculi RG-20</td>\n",
       "      <td>2758568024</td>\n",
       "      <td>93.0</td>\n",
       "      <td>50.0</td>\n",
       "      <td>85.0</td>\n",
       "      <td>thermobase</td>\n",
       "    </tr>\n",
       "    <tr>\n",
       "      <th>290</th>\n",
       "      <td>Thermococcus pacificus P-4</td>\n",
       "      <td>2758568025</td>\n",
       "      <td>95.0</td>\n",
       "      <td>70.0</td>\n",
       "      <td>84.0</td>\n",
       "      <td>thermobase</td>\n",
       "    </tr>\n",
       "    <tr>\n",
       "      <th>291</th>\n",
       "      <td>Thermococcus barossii SHCK-94</td>\n",
       "      <td>2758568026</td>\n",
       "      <td>92.0</td>\n",
       "      <td>60.0</td>\n",
       "      <td>82.5</td>\n",
       "      <td>thermobase</td>\n",
       "    </tr>\n",
       "    <tr>\n",
       "      <th>292</th>\n",
       "      <td>Thermococcus profundus DT 5432</td>\n",
       "      <td>2758568027</td>\n",
       "      <td>90.0</td>\n",
       "      <td>50.0</td>\n",
       "      <td>80.0</td>\n",
       "      <td>thermobase</td>\n",
       "    </tr>\n",
       "  </tbody>\n",
       "</table>\n",
       "<p>8932 rows × 6 columns</p>\n",
       "</div>"
      ],
      "text/plain": [
       "                            species    taxon_id   Tmax  Tmin   Topt  \\\n",
       "0         Methanopyrus kandleri 116        2320  122.0  85.0  100.0   \n",
       "1           \"Geogemma barossii\" 121     1927912  121.0  85.0  106.0   \n",
       "2              Pyrolobus fumarii 1A       54252  113.0  90.0  106.0   \n",
       "3      Pyrococcus kukulkanii NCB100     1609559  112.0  70.0  105.0   \n",
       "4        Methanopyrus kandleri AV19        2320  110.0  84.0   98.0   \n",
       "..                              ...         ...    ...   ...    ...   \n",
       "288   Thermococcus gorgonarius W-12  2758568023   95.0  68.0   84.0   \n",
       "289       Thermococcus siculi RG-20  2758568024   93.0  50.0   85.0   \n",
       "290      Thermococcus pacificus P-4  2758568025   95.0  70.0   84.0   \n",
       "291   Thermococcus barossii SHCK-94  2758568026   92.0  60.0   82.5   \n",
       "292  Thermococcus profundus DT 5432  2758568027   90.0  50.0   80.0   \n",
       "\n",
       "         source  \n",
       "0       tempura  \n",
       "1       tempura  \n",
       "2       tempura  \n",
       "3       tempura  \n",
       "4       tempura  \n",
       "..          ...  \n",
       "288  thermobase  \n",
       "289  thermobase  \n",
       "290  thermobase  \n",
       "291  thermobase  \n",
       "292  thermobase  \n",
       "\n",
       "[8932 rows x 6 columns]"
      ]
     },
     "execution_count": 101,
     "metadata": {},
     "output_type": "execute_result"
    }
   ],
   "source": [
    "df_merged = pd.concat([df_tempura, df_tb[df_tb.index.isin(tb_unique_ids)].reset_index()])\n",
    "df_merged"
   ]
  },
  {
   "cell_type": "code",
   "execution_count": 189,
   "id": "268209eb-a74e-4f5a-850e-e94227cf0f98",
   "metadata": {},
   "outputs": [],
   "source": [
    "df_merged = df_merged.groupby('taxon_id').min().reset_index()"
   ]
  },
  {
   "cell_type": "code",
   "execution_count": 190,
   "id": "18ee44aa-24b6-44db-9adf-a080695cc2a6",
   "metadata": {},
   "outputs": [],
   "source": [
    "df_merged.to_csv(Path(inputs_dir, \"ogt_sources/merged.csv\"), index=None)"
   ]
  },
  {
   "cell_type": "markdown",
   "id": "15a76fea-440f-4af0-b29d-62a0c21642d2",
   "metadata": {},
   "source": [
    "I downloaded the proteome IDs for these species using a script.\n",
    "\n",
    "Now download the uniprot IDs for these proteomes"
   ]
  },
  {
   "cell_type": "code",
   "execution_count": 194,
   "id": "a727cfa3-b72f-435a-87da-7a68ae5cec7f",
   "metadata": {},
   "outputs": [
    {
     "name": "stdout",
     "output_type": "stream",
     "text": [
      "840 2653\n",
      "3493\n"
     ]
    },
    {
     "data": {
      "text/html": [
       "<div>\n",
       "<style scoped>\n",
       "    .dataframe tbody tr th:only-of-type {\n",
       "        vertical-align: middle;\n",
       "    }\n",
       "\n",
       "    .dataframe tbody tr th {\n",
       "        vertical-align: top;\n",
       "    }\n",
       "\n",
       "    .dataframe thead th {\n",
       "        text-align: right;\n",
       "    }\n",
       "</style>\n",
       "<table border=\"1\" class=\"dataframe\">\n",
       "  <thead>\n",
       "    <tr style=\"text-align: right;\">\n",
       "      <th></th>\n",
       "      <th>orig_taxon_id</th>\n",
       "      <th>proteome_id</th>\n",
       "      <th>organism</th>\n",
       "      <th>taxon_id</th>\n",
       "      <th>num_prots</th>\n",
       "      <th>type</th>\n",
       "    </tr>\n",
       "  </thead>\n",
       "  <tbody>\n",
       "    <tr>\n",
       "      <th>0</th>\n",
       "      <td>2320</td>\n",
       "      <td>UP000001826</td>\n",
       "      <td>Methanopyrus kandleri (strain AV19 / DSM 6324 ...</td>\n",
       "      <td>190192</td>\n",
       "      <td>1687</td>\n",
       "      <td>reference</td>\n",
       "    </tr>\n",
       "    <tr>\n",
       "      <th>1</th>\n",
       "      <td>54252</td>\n",
       "      <td>UP000001037</td>\n",
       "      <td>Pyrolobus fumarii (strain DSM 11204 / 1A)</td>\n",
       "      <td>694429</td>\n",
       "      <td>1967</td>\n",
       "      <td>reference</td>\n",
       "    </tr>\n",
       "  </tbody>\n",
       "</table>\n",
       "</div>"
      ],
      "text/plain": [
       "   orig_taxon_id  proteome_id  \\\n",
       "0           2320  UP000001826   \n",
       "1          54252  UP000001037   \n",
       "\n",
       "                                            organism  taxon_id  num_prots  \\\n",
       "0  Methanopyrus kandleri (strain AV19 / DSM 6324 ...    190192       1687   \n",
       "1          Pyrolobus fumarii (strain DSM 11204 / 1A)    694429       1967   \n",
       "\n",
       "        type  \n",
       "0  reference  \n",
       "1  reference  "
      ]
     },
     "execution_count": 194,
     "metadata": {},
     "output_type": "execute_result"
    }
   ],
   "source": [
    "ref_prot_file = f\"{inputs_dir}/ogt_sources/merged/species_proteomes4.tsv\"\n",
    "other_prot_file = f\"{inputs_dir}/ogt_sources/merged/species_proteomes_other4.tsv\"\n",
    "proteome_data = pd.read_table(ref_prot_file, names=['orig_taxon_id', 'proteome_id', 'organism', 'taxon_id', 'num_prots'])\n",
    "proteome_data_other = pd.read_table(other_prot_file, names=['orig_taxon_id', 'proteome_id', 'organism', 'taxon_id', 'num_prots'])\n",
    "proteome_data['type'] = 'reference'\n",
    "proteome_data_other['type'] = 'other'\n",
    "print(len(proteome_data), len(proteome_data_other))\n",
    "proteome_data = pd.concat([proteome_data, proteome_data_other])\n",
    "print(len(proteome_data))\n",
    "proteome_data.head(2)"
   ]
  },
  {
   "cell_type": "code",
   "execution_count": 195,
   "id": "d3383342-5c15-4ff9-bbea-5c7c45aab25a",
   "metadata": {},
   "outputs": [],
   "source": [
    "proteome_data = proteome_data[proteome_data.num_prots > 500]"
   ]
  },
  {
   "cell_type": "code",
   "execution_count": 197,
   "id": "bc725213-3acc-4bb2-ba20-0d51994a238f",
   "metadata": {},
   "outputs": [
    {
     "data": {
      "text/plain": [
       "2209       58\n",
       "371601     19\n",
       "1890302    17\n",
       "37636      14\n",
       "488447     12\n",
       "           ..\n",
       "518766      1\n",
       "29549       1\n",
       "79269       1\n",
       "291989      1\n",
       "1344584     1\n",
       "Name: taxon_id, Length: 2825, dtype: int64"
      ]
     },
     "execution_count": 197,
     "metadata": {},
     "output_type": "execute_result"
    }
   ],
   "source": [
    "proteome_data['taxon_id'].value_counts()"
   ]
  },
  {
   "cell_type": "code",
   "execution_count": 121,
   "id": "d5b9f25c-9135-419b-a929-2d30704d9126",
   "metadata": {},
   "outputs": [
    {
     "name": "stdout",
     "output_type": "stream",
     "text": [
      "30159\n"
     ]
    }
   ],
   "source": [
    "# proteome_data = proteome_data[proteome_data.orig_taxon_id.astype(str).isin(df_merged.taxon_id.astype(str))]\n",
    "# print(len(proteome_data))"
   ]
  },
  {
   "cell_type": "code",
   "execution_count": 198,
   "id": "5dab2609-9dcb-4b6a-84c5-420a9400b157",
   "metadata": {},
   "outputs": [
    {
     "name": "stdout",
     "output_type": "stream",
     "text": [
      "2825\n",
      "2825\n"
     ]
    },
    {
     "data": {
      "text/html": [
       "<div>\n",
       "<style scoped>\n",
       "    .dataframe tbody tr th:only-of-type {\n",
       "        vertical-align: middle;\n",
       "    }\n",
       "\n",
       "    .dataframe tbody tr th {\n",
       "        vertical-align: top;\n",
       "    }\n",
       "\n",
       "    .dataframe thead th {\n",
       "        text-align: right;\n",
       "    }\n",
       "</style>\n",
       "<table border=\"1\" class=\"dataframe\">\n",
       "  <thead>\n",
       "    <tr style=\"text-align: right;\">\n",
       "      <th></th>\n",
       "      <th>orig_taxon_id</th>\n",
       "      <th>proteome_id</th>\n",
       "      <th>organism</th>\n",
       "      <th>taxon_id</th>\n",
       "      <th>num_prots</th>\n",
       "      <th>type</th>\n",
       "    </tr>\n",
       "  </thead>\n",
       "  <tbody>\n",
       "    <tr>\n",
       "      <th>810</th>\n",
       "      <td>5763</td>\n",
       "      <td>UP000444721</td>\n",
       "      <td>Naegleria fowleri (Brain eating amoeba)</td>\n",
       "      <td>5763</td>\n",
       "      <td>13596</td>\n",
       "      <td>reference</td>\n",
       "    </tr>\n",
       "    <tr>\n",
       "      <th>476</th>\n",
       "      <td>363277</td>\n",
       "      <td>UP000004508</td>\n",
       "      <td>Ktedonobacter racemifer DSM 44963</td>\n",
       "      <td>485913</td>\n",
       "      <td>11211</td>\n",
       "      <td>reference</td>\n",
       "    </tr>\n",
       "  </tbody>\n",
       "</table>\n",
       "</div>"
      ],
      "text/plain": [
       "     orig_taxon_id  proteome_id                                 organism  \\\n",
       "810           5763  UP000444721  Naegleria fowleri (Brain eating amoeba)   \n",
       "476         363277  UP000004508        Ktedonobacter racemifer DSM 44963   \n",
       "\n",
       "     taxon_id  num_prots       type  \n",
       "810      5763      13596  reference  \n",
       "476    485913      11211  reference  "
      ]
     },
     "execution_count": 198,
     "metadata": {},
     "output_type": "execute_result"
    }
   ],
   "source": [
    "# # for proteomes with duplicate species, choose a proteome with an average # proteins\n",
    "proteome_data = proteome_data.sort_values('num_prots', ascending=False)\n",
    "representatives = proteome_data[['taxon_id', 'proteome_id']].groupby(['taxon_id'])['proteome_id'].agg(lambda x: x[int(len(x) / 2)] if isinstance(x, np.ndarray) else x)\n",
    "\n",
    "representatives = representatives.apply(lambda x: x[int(len(x) / 2)] if isinstance(x, np.ndarray) else x)\n",
    "print(len(representatives))\n",
    "proteome_data = proteome_data[proteome_data['proteome_id'].isin(representatives.reset_index().proteome_id)]\n",
    "proteome_data = proteome_data.drop_duplicates(subset='proteome_id')\n",
    "print(len(proteome_data))\n",
    "proteome_data.head(2)\n",
    "# representatives"
   ]
  },
  {
   "cell_type": "code",
   "execution_count": 199,
   "id": "accc833e-97ef-4ff6-afc3-39dacbe49e23",
   "metadata": {},
   "outputs": [
    {
     "data": {
      "text/html": [
       "<div>\n",
       "<style scoped>\n",
       "    .dataframe tbody tr th:only-of-type {\n",
       "        vertical-align: middle;\n",
       "    }\n",
       "\n",
       "    .dataframe tbody tr th {\n",
       "        vertical-align: top;\n",
       "    }\n",
       "\n",
       "    .dataframe thead th {\n",
       "        text-align: right;\n",
       "    }\n",
       "</style>\n",
       "<table border=\"1\" class=\"dataframe\">\n",
       "  <thead>\n",
       "    <tr style=\"text-align: right;\">\n",
       "      <th></th>\n",
       "      <th>orig_taxon_id</th>\n",
       "      <th>proteome_id</th>\n",
       "      <th>organism</th>\n",
       "      <th>taxon_id</th>\n",
       "      <th>num_prots</th>\n",
       "      <th>type</th>\n",
       "    </tr>\n",
       "  </thead>\n",
       "  <tbody>\n",
       "    <tr>\n",
       "      <th>536</th>\n",
       "      <td>216936</td>\n",
       "      <td>UP000014983</td>\n",
       "      <td>Spiroplasma diminutum CUAS-1</td>\n",
       "      <td>1276221</td>\n",
       "      <td>858</td>\n",
       "      <td>reference</td>\n",
       "    </tr>\n",
       "    <tr>\n",
       "      <th>218</th>\n",
       "      <td>688066</td>\n",
       "      <td>UP000886129</td>\n",
       "      <td>Kosmotoga arenicorallina</td>\n",
       "      <td>688066</td>\n",
       "      <td>840</td>\n",
       "      <td>other</td>\n",
       "    </tr>\n",
       "    <tr>\n",
       "      <th>2453</th>\n",
       "      <td>81459</td>\n",
       "      <td>UP000231896</td>\n",
       "      <td>Entomoplasma melaleucae</td>\n",
       "      <td>81459</td>\n",
       "      <td>788</td>\n",
       "      <td>other</td>\n",
       "    </tr>\n",
       "    <tr>\n",
       "      <th>82</th>\n",
       "      <td>58135</td>\n",
       "      <td>UP000054111</td>\n",
       "      <td>Desulfofundulus kuznetsovii</td>\n",
       "      <td>58135</td>\n",
       "      <td>762</td>\n",
       "      <td>other</td>\n",
       "    </tr>\n",
       "    <tr>\n",
       "      <th>2316</th>\n",
       "      <td>2114</td>\n",
       "      <td>UP000239010</td>\n",
       "      <td>Entomoplasma ellychniae</td>\n",
       "      <td>2114</td>\n",
       "      <td>740</td>\n",
       "      <td>other</td>\n",
       "    </tr>\n",
       "    <tr>\n",
       "      <th>709</th>\n",
       "      <td>225999</td>\n",
       "      <td>UP000233419</td>\n",
       "      <td>Mesoplasma syrphidae</td>\n",
       "      <td>225999</td>\n",
       "      <td>740</td>\n",
       "      <td>reference</td>\n",
       "    </tr>\n",
       "    <tr>\n",
       "      <th>698</th>\n",
       "      <td>215578</td>\n",
       "      <td>UP000232230</td>\n",
       "      <td>Williamsoniiplasma somnilux</td>\n",
       "      <td>215578</td>\n",
       "      <td>725</td>\n",
       "      <td>reference</td>\n",
       "    </tr>\n",
       "    <tr>\n",
       "      <th>1618</th>\n",
       "      <td>219745</td>\n",
       "      <td>UP000232223</td>\n",
       "      <td>Mesoplasma tabanidae</td>\n",
       "      <td>219745</td>\n",
       "      <td>721</td>\n",
       "      <td>other</td>\n",
       "    </tr>\n",
       "    <tr>\n",
       "      <th>1919</th>\n",
       "      <td>216427</td>\n",
       "      <td>UP000232229</td>\n",
       "      <td>Mesoplasma chauliocola</td>\n",
       "      <td>216427</td>\n",
       "      <td>716</td>\n",
       "      <td>other</td>\n",
       "    </tr>\n",
       "    <tr>\n",
       "      <th>2315</th>\n",
       "      <td>2149</td>\n",
       "      <td>UP000232226</td>\n",
       "      <td>Mesoplasma entomophilum</td>\n",
       "      <td>2149</td>\n",
       "      <td>704</td>\n",
       "      <td>other</td>\n",
       "    </tr>\n",
       "    <tr>\n",
       "      <th>699</th>\n",
       "      <td>74700</td>\n",
       "      <td>UP000232222</td>\n",
       "      <td>Entomoplasma freundtii</td>\n",
       "      <td>74700</td>\n",
       "      <td>702</td>\n",
       "      <td>reference</td>\n",
       "    </tr>\n",
       "    <tr>\n",
       "      <th>697</th>\n",
       "      <td>216874</td>\n",
       "      <td>UP000239785</td>\n",
       "      <td>Mesoplasma corruscae</td>\n",
       "      <td>216874</td>\n",
       "      <td>701</td>\n",
       "      <td>reference</td>\n",
       "    </tr>\n",
       "    <tr>\n",
       "      <th>1930</th>\n",
       "      <td>324078</td>\n",
       "      <td>UP000232221</td>\n",
       "      <td>Mesoplasma coleopterae</td>\n",
       "      <td>324078</td>\n",
       "      <td>691</td>\n",
       "      <td>other</td>\n",
       "    </tr>\n",
       "    <tr>\n",
       "      <th>540</th>\n",
       "      <td>138853</td>\n",
       "      <td>UP000232227</td>\n",
       "      <td>Mesoplasma lactucae ATCC 49193</td>\n",
       "      <td>81460</td>\n",
       "      <td>689</td>\n",
       "      <td>reference</td>\n",
       "    </tr>\n",
       "    <tr>\n",
       "      <th>1486</th>\n",
       "      <td>2130</td>\n",
       "      <td>UP000004000</td>\n",
       "      <td>Ureaplasma urealyticum serovar 2 str. ATCC 27814</td>\n",
       "      <td>626096</td>\n",
       "      <td>663</td>\n",
       "      <td>other</td>\n",
       "    </tr>\n",
       "    <tr>\n",
       "      <th>1485</th>\n",
       "      <td>2130</td>\n",
       "      <td>UP000002018</td>\n",
       "      <td>Ureaplasma urealyticum serovar 10 (strain ATCC...</td>\n",
       "      <td>565575</td>\n",
       "      <td>646</td>\n",
       "      <td>other</td>\n",
       "    </tr>\n",
       "    <tr>\n",
       "      <th>1487</th>\n",
       "      <td>2130</td>\n",
       "      <td>UP000319386</td>\n",
       "      <td>Ureaplasma urealyticum (Ureaplasma urealyticum...</td>\n",
       "      <td>2130</td>\n",
       "      <td>645</td>\n",
       "      <td>other</td>\n",
       "    </tr>\n",
       "    <tr>\n",
       "      <th>1030</th>\n",
       "      <td>1612150</td>\n",
       "      <td>UP000514704</td>\n",
       "      <td>Mycoplasma tullyi</td>\n",
       "      <td>1612150</td>\n",
       "      <td>637</td>\n",
       "      <td>other</td>\n",
       "    </tr>\n",
       "    <tr>\n",
       "      <th>720</th>\n",
       "      <td>2118</td>\n",
       "      <td>UP000009072</td>\n",
       "      <td>Mesomycoplasma mobile (strain ATCC 43663 / 163...</td>\n",
       "      <td>267748</td>\n",
       "      <td>628</td>\n",
       "      <td>reference</td>\n",
       "    </tr>\n",
       "    <tr>\n",
       "      <th>826</th>\n",
       "      <td>638154511</td>\n",
       "      <td>UP000000578</td>\n",
       "      <td>Nanoarchaeum equitans (strain Kin4-M)</td>\n",
       "      <td>228908</td>\n",
       "      <td>536</td>\n",
       "      <td>reference</td>\n",
       "    </tr>\n",
       "  </tbody>\n",
       "</table>\n",
       "</div>"
      ],
      "text/plain": [
       "      orig_taxon_id  proteome_id  \\\n",
       "536          216936  UP000014983   \n",
       "218          688066  UP000886129   \n",
       "2453          81459  UP000231896   \n",
       "82            58135  UP000054111   \n",
       "2316           2114  UP000239010   \n",
       "709          225999  UP000233419   \n",
       "698          215578  UP000232230   \n",
       "1618         219745  UP000232223   \n",
       "1919         216427  UP000232229   \n",
       "2315           2149  UP000232226   \n",
       "699           74700  UP000232222   \n",
       "697          216874  UP000239785   \n",
       "1930         324078  UP000232221   \n",
       "540          138853  UP000232227   \n",
       "1486           2130  UP000004000   \n",
       "1485           2130  UP000002018   \n",
       "1487           2130  UP000319386   \n",
       "1030        1612150  UP000514704   \n",
       "720            2118  UP000009072   \n",
       "826       638154511  UP000000578   \n",
       "\n",
       "                                               organism  taxon_id  num_prots  \\\n",
       "536                        Spiroplasma diminutum CUAS-1   1276221        858   \n",
       "218                            Kosmotoga arenicorallina    688066        840   \n",
       "2453                            Entomoplasma melaleucae     81459        788   \n",
       "82                          Desulfofundulus kuznetsovii     58135        762   \n",
       "2316                            Entomoplasma ellychniae      2114        740   \n",
       "709                                Mesoplasma syrphidae    225999        740   \n",
       "698                         Williamsoniiplasma somnilux    215578        725   \n",
       "1618                               Mesoplasma tabanidae    219745        721   \n",
       "1919                             Mesoplasma chauliocola    216427        716   \n",
       "2315                            Mesoplasma entomophilum      2149        704   \n",
       "699                              Entomoplasma freundtii     74700        702   \n",
       "697                                Mesoplasma corruscae    216874        701   \n",
       "1930                             Mesoplasma coleopterae    324078        691   \n",
       "540                      Mesoplasma lactucae ATCC 49193     81460        689   \n",
       "1486   Ureaplasma urealyticum serovar 2 str. ATCC 27814    626096        663   \n",
       "1485  Ureaplasma urealyticum serovar 10 (strain ATCC...    565575        646   \n",
       "1487  Ureaplasma urealyticum (Ureaplasma urealyticum...      2130        645   \n",
       "1030                                  Mycoplasma tullyi   1612150        637   \n",
       "720   Mesomycoplasma mobile (strain ATCC 43663 / 163...    267748        628   \n",
       "826               Nanoarchaeum equitans (strain Kin4-M)    228908        536   \n",
       "\n",
       "           type  \n",
       "536   reference  \n",
       "218       other  \n",
       "2453      other  \n",
       "82        other  \n",
       "2316      other  \n",
       "709   reference  \n",
       "698   reference  \n",
       "1618      other  \n",
       "1919      other  \n",
       "2315      other  \n",
       "699   reference  \n",
       "697   reference  \n",
       "1930      other  \n",
       "540   reference  \n",
       "1486      other  \n",
       "1485      other  \n",
       "1487      other  \n",
       "1030      other  \n",
       "720   reference  \n",
       "826   reference  "
      ]
     },
     "execution_count": 199,
     "metadata": {},
     "output_type": "execute_result"
    }
   ],
   "source": [
    "proteome_data.tail(20)"
   ]
  },
  {
   "cell_type": "code",
   "execution_count": 200,
   "id": "237741f9-564f-4dad-88d0-128352f72f55",
   "metadata": {},
   "outputs": [
    {
     "data": {
      "text/plain": [
       "2209         8\n",
       "1767         6\n",
       "2208         5\n",
       "13373        5\n",
       "103816       4\n",
       "            ..\n",
       "553469       1\n",
       "367474       1\n",
       "29288        1\n",
       "633194       1\n",
       "638154511    1\n",
       "Name: orig_taxon_id, Length: 2669, dtype: int64"
      ]
     },
     "execution_count": 200,
     "metadata": {},
     "output_type": "execute_result"
    }
   ],
   "source": [
    "# doesn't have to be perfect since the unref50 clustering will handle redundant sequences\n",
    "proteome_data.orig_taxon_id.value_counts()"
   ]
  },
  {
   "cell_type": "code",
   "execution_count": 203,
   "id": "fd7c0752-68c4-413b-9708-d152836035ef",
   "metadata": {},
   "outputs": [
    {
     "data": {
      "text/html": [
       "<div>\n",
       "<style scoped>\n",
       "    .dataframe tbody tr th:only-of-type {\n",
       "        vertical-align: middle;\n",
       "    }\n",
       "\n",
       "    .dataframe tbody tr th {\n",
       "        vertical-align: top;\n",
       "    }\n",
       "\n",
       "    .dataframe thead th {\n",
       "        text-align: right;\n",
       "    }\n",
       "</style>\n",
       "<table border=\"1\" class=\"dataframe\">\n",
       "  <thead>\n",
       "    <tr style=\"text-align: right;\">\n",
       "      <th></th>\n",
       "      <th>species</th>\n",
       "      <th>Tmax</th>\n",
       "      <th>Tmin</th>\n",
       "      <th>Topt</th>\n",
       "      <th>source</th>\n",
       "    </tr>\n",
       "    <tr>\n",
       "      <th>taxon_id</th>\n",
       "      <th></th>\n",
       "      <th></th>\n",
       "      <th></th>\n",
       "      <th></th>\n",
       "      <th></th>\n",
       "    </tr>\n",
       "  </thead>\n",
       "  <tbody>\n",
       "    <tr>\n",
       "      <th>14</th>\n",
       "      <td>Dictyoglomus thermophilum H‐6‐12</td>\n",
       "      <td>80.0</td>\n",
       "      <td>50.0</td>\n",
       "      <td>78.0</td>\n",
       "      <td>tempura</td>\n",
       "    </tr>\n",
       "    <tr>\n",
       "      <th>19</th>\n",
       "      <td>Pelobacter carbinolicus Gra Bd 1</td>\n",
       "      <td>40.0</td>\n",
       "      <td>15.0</td>\n",
       "      <td>35.0</td>\n",
       "      <td>tempura</td>\n",
       "    </tr>\n",
       "  </tbody>\n",
       "</table>\n",
       "</div>"
      ],
      "text/plain": [
       "                                   species  Tmax  Tmin  Topt   source\n",
       "taxon_id                                                             \n",
       "14        Dictyoglomus thermophilum H‐6‐12  80.0  50.0  78.0  tempura\n",
       "19        Pelobacter carbinolicus Gra Bd 1  40.0  15.0  35.0  tempura"
      ]
     },
     "execution_count": 203,
     "metadata": {},
     "output_type": "execute_result"
    }
   ],
   "source": [
    "df_merged.head(2)"
   ]
  },
  {
   "cell_type": "code",
   "execution_count": 202,
   "id": "f938ecca-e1bc-444a-b86a-bf0ff9357666",
   "metadata": {},
   "outputs": [],
   "source": [
    "df_merged = df_merged.set_index('taxon_id')"
   ]
  },
  {
   "cell_type": "code",
   "execution_count": 204,
   "id": "86ec6bf6-3e46-40be-a02f-7dc02be7102d",
   "metadata": {},
   "outputs": [
    {
     "data": {
      "text/plain": [
       "810     10.0\n",
       "476     17.0\n",
       "1941    20.0\n",
       "809      NaN\n",
       "2157    15.0\n",
       "        ... \n",
       "1485    20.0\n",
       "1487    20.0\n",
       "1030    34.0\n",
       "720     17.0\n",
       "826     75.0\n",
       "Name: orig_taxon_id, Length: 2825, dtype: float64"
      ]
     },
     "execution_count": 204,
     "metadata": {},
     "output_type": "execute_result"
    }
   ],
   "source": [
    "proteome_data.orig_taxon_id.apply(lambda x: df_merged.loc[x][['Tmax', 'Tmin', 'Topt'][1]])"
   ]
  },
  {
   "cell_type": "code",
   "execution_count": 212,
   "id": "362f9d23-e7c4-4a8b-a77f-7db8b79e4779",
   "metadata": {},
   "outputs": [],
   "source": [
    "proteome_data['Tmax'] = proteome_data.orig_taxon_id.apply(lambda x: df_merged.loc[x][['Tmax', 'Tmin', 'Topt'][0]])\n",
    "proteome_data['Tmin'] = proteome_data.orig_taxon_id.apply(lambda x: df_merged.loc[x][['Tmax', 'Tmin', 'Topt'][1]])\n",
    "proteome_data['Topt'] = proteome_data.orig_taxon_id.apply(lambda x: df_merged.loc[x][['Tmax', 'Tmin', 'Topt'][2]])\n",
    "proteome_data['source'] = proteome_data.orig_taxon_id.apply(lambda x: df_merged.loc[x]['source'])"
   ]
  },
  {
   "cell_type": "code",
   "execution_count": 213,
   "id": "4053bd7e-fe52-4f48-999a-31524fb0aa98",
   "metadata": {},
   "outputs": [
    {
     "data": {
      "text/html": [
       "<div>\n",
       "<style scoped>\n",
       "    .dataframe tbody tr th:only-of-type {\n",
       "        vertical-align: middle;\n",
       "    }\n",
       "\n",
       "    .dataframe tbody tr th {\n",
       "        vertical-align: top;\n",
       "    }\n",
       "\n",
       "    .dataframe thead th {\n",
       "        text-align: right;\n",
       "    }\n",
       "</style>\n",
       "<table border=\"1\" class=\"dataframe\">\n",
       "  <thead>\n",
       "    <tr style=\"text-align: right;\">\n",
       "      <th></th>\n",
       "      <th>orig_taxon_id</th>\n",
       "      <th>proteome_id</th>\n",
       "      <th>organism</th>\n",
       "      <th>taxon_id</th>\n",
       "      <th>num_prots</th>\n",
       "      <th>type</th>\n",
       "      <th>Tmax</th>\n",
       "      <th>Tmin</th>\n",
       "      <th>Topt</th>\n",
       "      <th>source</th>\n",
       "    </tr>\n",
       "  </thead>\n",
       "  <tbody>\n",
       "    <tr>\n",
       "      <th>810</th>\n",
       "      <td>5763</td>\n",
       "      <td>UP000444721</td>\n",
       "      <td>Naegleria fowleri (Brain eating amoeba)</td>\n",
       "      <td>5763</td>\n",
       "      <td>13596</td>\n",
       "      <td>reference</td>\n",
       "      <td>46.0</td>\n",
       "      <td>10.0</td>\n",
       "      <td>42.0</td>\n",
       "      <td>thermobase</td>\n",
       "    </tr>\n",
       "    <tr>\n",
       "      <th>476</th>\n",
       "      <td>363277</td>\n",
       "      <td>UP000004508</td>\n",
       "      <td>Ktedonobacter racemifer DSM 44963</td>\n",
       "      <td>485913</td>\n",
       "      <td>11211</td>\n",
       "      <td>reference</td>\n",
       "      <td>40.0</td>\n",
       "      <td>17.0</td>\n",
       "      <td>30.5</td>\n",
       "      <td>tempura</td>\n",
       "    </tr>\n",
       "    <tr>\n",
       "      <th>1941</th>\n",
       "      <td>1424081</td>\n",
       "      <td>UP000642070</td>\n",
       "      <td>Dactylosporangium sucinum</td>\n",
       "      <td>1424081</td>\n",
       "      <td>11081</td>\n",
       "      <td>other</td>\n",
       "      <td>37.0</td>\n",
       "      <td>20.0</td>\n",
       "      <td>31.0</td>\n",
       "      <td>tempura</td>\n",
       "    </tr>\n",
       "    <tr>\n",
       "      <th>809</th>\n",
       "      <td>5149</td>\n",
       "      <td>UP000001056</td>\n",
       "      <td>Chaetomium globosum (strain ATCC 6205 / CBS 14...</td>\n",
       "      <td>306901</td>\n",
       "      <td>11038</td>\n",
       "      <td>reference</td>\n",
       "      <td>52.0</td>\n",
       "      <td>NaN</td>\n",
       "      <td>45.0</td>\n",
       "      <td>thermobase</td>\n",
       "    </tr>\n",
       "    <tr>\n",
       "      <th>2157</th>\n",
       "      <td>1324013</td>\n",
       "      <td>UP000653411</td>\n",
       "      <td>Streptomyces fuscichromogenes</td>\n",
       "      <td>1324013</td>\n",
       "      <td>10162</td>\n",
       "      <td>other</td>\n",
       "      <td>35.0</td>\n",
       "      <td>15.0</td>\n",
       "      <td>28.0</td>\n",
       "      <td>tempura</td>\n",
       "    </tr>\n",
       "    <tr>\n",
       "      <th>...</th>\n",
       "      <td>...</td>\n",
       "      <td>...</td>\n",
       "      <td>...</td>\n",
       "      <td>...</td>\n",
       "      <td>...</td>\n",
       "      <td>...</td>\n",
       "      <td>...</td>\n",
       "      <td>...</td>\n",
       "      <td>...</td>\n",
       "      <td>...</td>\n",
       "    </tr>\n",
       "    <tr>\n",
       "      <th>1485</th>\n",
       "      <td>2130</td>\n",
       "      <td>UP000002018</td>\n",
       "      <td>Ureaplasma urealyticum serovar 10 (strain ATCC...</td>\n",
       "      <td>565575</td>\n",
       "      <td>646</td>\n",
       "      <td>other</td>\n",
       "      <td>40.0</td>\n",
       "      <td>20.0</td>\n",
       "      <td>32.5</td>\n",
       "      <td>tempura</td>\n",
       "    </tr>\n",
       "    <tr>\n",
       "      <th>1487</th>\n",
       "      <td>2130</td>\n",
       "      <td>UP000319386</td>\n",
       "      <td>Ureaplasma urealyticum (Ureaplasma urealyticum...</td>\n",
       "      <td>2130</td>\n",
       "      <td>645</td>\n",
       "      <td>other</td>\n",
       "      <td>40.0</td>\n",
       "      <td>20.0</td>\n",
       "      <td>32.5</td>\n",
       "      <td>tempura</td>\n",
       "    </tr>\n",
       "    <tr>\n",
       "      <th>1030</th>\n",
       "      <td>1612150</td>\n",
       "      <td>UP000514704</td>\n",
       "      <td>Mycoplasma tullyi</td>\n",
       "      <td>1612150</td>\n",
       "      <td>637</td>\n",
       "      <td>other</td>\n",
       "      <td>42.0</td>\n",
       "      <td>34.0</td>\n",
       "      <td>37.0</td>\n",
       "      <td>tempura</td>\n",
       "    </tr>\n",
       "    <tr>\n",
       "      <th>720</th>\n",
       "      <td>2118</td>\n",
       "      <td>UP000009072</td>\n",
       "      <td>Mesomycoplasma mobile (strain ATCC 43663 / 163...</td>\n",
       "      <td>267748</td>\n",
       "      <td>628</td>\n",
       "      <td>reference</td>\n",
       "      <td>30.0</td>\n",
       "      <td>17.0</td>\n",
       "      <td>30.0</td>\n",
       "      <td>tempura</td>\n",
       "    </tr>\n",
       "    <tr>\n",
       "      <th>826</th>\n",
       "      <td>638154511</td>\n",
       "      <td>UP000000578</td>\n",
       "      <td>Nanoarchaeum equitans (strain Kin4-M)</td>\n",
       "      <td>228908</td>\n",
       "      <td>536</td>\n",
       "      <td>reference</td>\n",
       "      <td>98.0</td>\n",
       "      <td>75.0</td>\n",
       "      <td>87.5</td>\n",
       "      <td>thermobase</td>\n",
       "    </tr>\n",
       "  </tbody>\n",
       "</table>\n",
       "<p>2825 rows × 10 columns</p>\n",
       "</div>"
      ],
      "text/plain": [
       "      orig_taxon_id  proteome_id  \\\n",
       "810            5763  UP000444721   \n",
       "476          363277  UP000004508   \n",
       "1941        1424081  UP000642070   \n",
       "809            5149  UP000001056   \n",
       "2157        1324013  UP000653411   \n",
       "...             ...          ...   \n",
       "1485           2130  UP000002018   \n",
       "1487           2130  UP000319386   \n",
       "1030        1612150  UP000514704   \n",
       "720            2118  UP000009072   \n",
       "826       638154511  UP000000578   \n",
       "\n",
       "                                               organism  taxon_id  num_prots  \\\n",
       "810             Naegleria fowleri (Brain eating amoeba)      5763      13596   \n",
       "476                   Ktedonobacter racemifer DSM 44963    485913      11211   \n",
       "1941                          Dactylosporangium sucinum   1424081      11081   \n",
       "809   Chaetomium globosum (strain ATCC 6205 / CBS 14...    306901      11038   \n",
       "2157                      Streptomyces fuscichromogenes   1324013      10162   \n",
       "...                                                 ...       ...        ...   \n",
       "1485  Ureaplasma urealyticum serovar 10 (strain ATCC...    565575        646   \n",
       "1487  Ureaplasma urealyticum (Ureaplasma urealyticum...      2130        645   \n",
       "1030                                  Mycoplasma tullyi   1612150        637   \n",
       "720   Mesomycoplasma mobile (strain ATCC 43663 / 163...    267748        628   \n",
       "826               Nanoarchaeum equitans (strain Kin4-M)    228908        536   \n",
       "\n",
       "           type  Tmax  Tmin  Topt      source  \n",
       "810   reference  46.0  10.0  42.0  thermobase  \n",
       "476   reference  40.0  17.0  30.5     tempura  \n",
       "1941      other  37.0  20.0  31.0     tempura  \n",
       "809   reference  52.0   NaN  45.0  thermobase  \n",
       "2157      other  35.0  15.0  28.0     tempura  \n",
       "...         ...   ...   ...   ...         ...  \n",
       "1485      other  40.0  20.0  32.5     tempura  \n",
       "1487      other  40.0  20.0  32.5     tempura  \n",
       "1030      other  42.0  34.0  37.0     tempura  \n",
       "720   reference  30.0  17.0  30.0     tempura  \n",
       "826   reference  98.0  75.0  87.5  thermobase  \n",
       "\n",
       "[2825 rows x 10 columns]"
      ]
     },
     "execution_count": 213,
     "metadata": {},
     "output_type": "execute_result"
    }
   ],
   "source": [
    "proteome_data"
   ]
  },
  {
   "cell_type": "code",
   "execution_count": 214,
   "id": "b367550c-392e-4761-91c7-2ede703faa24",
   "metadata": {},
   "outputs": [
    {
     "data": {
      "text/plain": [
       "tempura       2759\n",
       "thermobase      66\n",
       "Name: source, dtype: int64"
      ]
     },
     "execution_count": 214,
     "metadata": {},
     "output_type": "execute_result"
    }
   ],
   "source": [
    "proteome_data.source.value_counts()"
   ]
  },
  {
   "cell_type": "code",
   "execution_count": 208,
   "id": "de35335c-25f9-4ee9-98c3-c19dfc8a1c1b",
   "metadata": {},
   "outputs": [
    {
     "data": {
      "text/plain": [
       "810     46.0\n",
       "476     40.0\n",
       "1941    37.0\n",
       "809     52.0\n",
       "2157    35.0\n",
       "        ... \n",
       "1485    40.0\n",
       "1487    40.0\n",
       "1030    42.0\n",
       "720     30.0\n",
       "826     98.0\n",
       "Name: Tmax, Length: 2825, dtype: float64"
      ]
     },
     "execution_count": 208,
     "metadata": {},
     "output_type": "execute_result"
    }
   ],
   "source": [
    "proteome_data.Tmax.astype(float)"
   ]
  },
  {
   "cell_type": "code",
   "execution_count": 209,
   "id": "81a26ead-21d1-49d4-8f08-f0bec5656018",
   "metadata": {},
   "outputs": [
    {
     "name": "stdout",
     "output_type": "stream",
     "text": [
      "hyperthermophillic 180\n",
      "thermophillic 505\n",
      "mesophillic 2066\n",
      "cryophillic 72\n"
     ]
    }
   ],
   "source": [
    "t_ranges = {'hyperthermophillic': (75,110),\n",
    " 'thermophillic': (45, 75),\n",
    " 'mesophillic': (25, 45),\n",
    " 'cryophillic': (0, 25)}\n",
    "for t_type, (low, high) in t_ranges.items():\n",
    "    print(t_type, len(proteome_data[(proteome_data.Tmax > low) & \n",
    "            (proteome_data.Tmax <= high)]))"
   ]
  },
  {
   "cell_type": "code",
   "execution_count": 217,
   "id": "2806c054-0c85-4cfe-8589-3812361983d7",
   "metadata": {},
   "outputs": [
    {
     "data": {
      "text/plain": [
       "<AxesSubplot: >"
      ]
     },
     "execution_count": 217,
     "metadata": {},
     "output_type": "execute_result"
    },
    {
     "data": {
      "image/png": "[encoded data removed]",
      "text/plain": [
       "<Figure size 640x480 with 1 Axes>"
      ]
     },
     "metadata": {},
     "output_type": "display_data"
    }
   ],
   "source": [
    "proteome_data.num_prots.hist()"
   ]
  },
  {
   "cell_type": "code",
   "execution_count": 215,
   "id": "f8dcc11a-288d-471a-b916-7a1536bf5e75",
   "metadata": {},
   "outputs": [],
   "source": [
    "proteome_data.to_csv(Path(inputs_dir, \"ogt_sources/merged/proteome_data.csv\"), index=None)"
   ]
  },
  {
   "cell_type": "markdown",
   "id": "b00121bc-0049-4b17-8afe-78fc924175a9",
   "metadata": {},
   "source": [
    "## IJSEM"
   ]
  },
  {
   "cell_type": "code",
   "execution_count": 25,
   "id": "93f3cc05-ab56-4506-be59-38551577c657",
   "metadata": {},
   "outputs": [
    {
     "name": "stdout",
     "output_type": "stream",
     "text": [
      "4622\n"
     ]
    },
    {
     "data": {
      "text/html": [
       "<div>\n",
       "<style scoped>\n",
       "    .dataframe tbody tr th:only-of-type {\n",
       "        vertical-align: middle;\n",
       "    }\n",
       "\n",
       "    .dataframe tbody tr th {\n",
       "        vertical-align: top;\n",
       "    }\n",
       "\n",
       "    .dataframe thead th {\n",
       "        text-align: right;\n",
       "    }\n",
       "</style>\n",
       "<table border=\"1\" class=\"dataframe\">\n",
       "  <thead>\n",
       "    <tr style=\"text-align: right;\">\n",
       "      <th></th>\n",
       "      <th>Habitat</th>\n",
       "      <th>Year</th>\n",
       "      <th>DOI</th>\n",
       "      <th>rRNA16S</th>\n",
       "      <th>GC</th>\n",
       "      <th>Oxygen</th>\n",
       "      <th>Length</th>\n",
       "      <th>Width</th>\n",
       "      <th>Motility</th>\n",
       "      <th>Spore</th>\n",
       "      <th>...</th>\n",
       "      <th>Pigment</th>\n",
       "      <th>Shape</th>\n",
       "      <th>Aggregation</th>\n",
       "      <th>FirstPage</th>\n",
       "      <th>CultureCollection</th>\n",
       "      <th>CarbonSubstrate</th>\n",
       "      <th>Genome</th>\n",
       "      <th>Gram</th>\n",
       "      <th>Subhabitat</th>\n",
       "      <th>Biolog</th>\n",
       "    </tr>\n",
       "  </thead>\n",
       "  <tbody>\n",
       "    <tr>\n",
       "      <th>0</th>\n",
       "      <td>freshwater (river, lake, pond)</td>\n",
       "      <td>2008</td>\n",
       "      <td>10.1099/ijs.0.65700-0</td>\n",
       "      <td>60.2</td>\n",
       "      <td>DQ987877</td>\n",
       "      <td>aerobic</td>\n",
       "      <td>1.05</td>\n",
       "      <td>0.7</td>\n",
       "      <td>motile, but unspecified structure</td>\n",
       "      <td>not indicated</td>\n",
       "      <td>...</td>\n",
       "      <td>yes</td>\n",
       "      <td>not indicated</td>\n",
       "      <td>not indicated</td>\n",
       "      <td>1705</td>\n",
       "      <td>CGMCC=1.6783|CECT=7303</td>\n",
       "      <td>glucose, lactose, maltose, mannitol, mannose, ...</td>\n",
       "      <td>NaN</td>\n",
       "      <td>negative</td>\n",
       "      <td>NaN</td>\n",
       "      <td>No</td>\n",
       "    </tr>\n",
       "    <tr>\n",
       "      <th>1</th>\n",
       "      <td>soil</td>\n",
       "      <td>2006</td>\n",
       "      <td>10.1099/ijs.0.63862-0</td>\n",
       "      <td>200233</td>\n",
       "      <td>71</td>\n",
       "      <td>aerobic</td>\n",
       "      <td>NaN</td>\n",
       "      <td>NaN</td>\n",
       "      <td>non-motile</td>\n",
       "      <td>yes</td>\n",
       "      <td>...</td>\n",
       "      <td>yes</td>\n",
       "      <td>rod</td>\n",
       "      <td>chain</td>\n",
       "      <td>393</td>\n",
       "      <td>JCM12949|DSM44899</td>\n",
       "      <td>arabinose, galactose, glucose, lactose, maltos...</td>\n",
       "      <td>NaN</td>\n",
       "      <td>positive</td>\n",
       "      <td>NaN</td>\n",
       "      <td>No</td>\n",
       "    </tr>\n",
       "    <tr>\n",
       "      <th>2</th>\n",
       "      <td>other</td>\n",
       "      <td>2009</td>\n",
       "      <td>10.1099/ijs.0.001123-0</td>\n",
       "      <td></td>\n",
       "      <td>67</td>\n",
       "      <td>aerobic</td>\n",
       "      <td>NaN</td>\n",
       "      <td>NaN</td>\n",
       "      <td>not indicated</td>\n",
       "      <td>no</td>\n",
       "      <td>...</td>\n",
       "      <td>yes</td>\n",
       "      <td>rod</td>\n",
       "      <td>not indicated</td>\n",
       "      <td>102</td>\n",
       "      <td>LMG23361T|CCUG55526T</td>\n",
       "      <td>adipate, adonitol, arabinose, caprate, citric ...</td>\n",
       "      <td>NaN</td>\n",
       "      <td>negative</td>\n",
       "      <td>sheep milk</td>\n",
       "      <td>No</td>\n",
       "    </tr>\n",
       "    <tr>\n",
       "      <th>3</th>\n",
       "      <td>soil</td>\n",
       "      <td>2009</td>\n",
       "      <td>10.1099/ijs.0.001123-0</td>\n",
       "      <td></td>\n",
       "      <td>67</td>\n",
       "      <td>aerobic</td>\n",
       "      <td>NaN</td>\n",
       "      <td>NaN</td>\n",
       "      <td>not indicated</td>\n",
       "      <td>no</td>\n",
       "      <td>...</td>\n",
       "      <td>yes</td>\n",
       "      <td>rod</td>\n",
       "      <td>NaN</td>\n",
       "      <td>102</td>\n",
       "      <td>ATCC17760T|LMG22485T|CCUG55525T</td>\n",
       "      <td>adipate, adonitol, arabinose, caprate, citric ...</td>\n",
       "      <td>NaN</td>\n",
       "      <td>negative</td>\n",
       "      <td>NaN</td>\n",
       "      <td>No</td>\n",
       "    </tr>\n",
       "    <tr>\n",
       "      <th>4</th>\n",
       "      <td>built environment</td>\n",
       "      <td>2005</td>\n",
       "      <td>10.1099/ijs.0.63649-0</td>\n",
       "      <td>AB043852</td>\n",
       "      <td>39.6</td>\n",
       "      <td>aerobic</td>\n",
       "      <td>2.5</td>\n",
       "      <td>0.35</td>\n",
       "      <td>flagella</td>\n",
       "      <td>yes</td>\n",
       "      <td>...</td>\n",
       "      <td>yes</td>\n",
       "      <td>rod</td>\n",
       "      <td>clump</td>\n",
       "      <td>2309</td>\n",
       "      <td>JCM9156T|DSM2522T</td>\n",
       "      <td>cellobiose, fructose, glucose, lactose, maltos...</td>\n",
       "      <td>NaN</td>\n",
       "      <td>positive</td>\n",
       "      <td>NaN</td>\n",
       "      <td>Yes</td>\n",
       "    </tr>\n",
       "    <tr>\n",
       "      <th>5</th>\n",
       "      <td>built environment</td>\n",
       "      <td>2005</td>\n",
       "      <td>10.1099/ijs.0.63649-0</td>\n",
       "      <td>AB043858</td>\n",
       "      <td>34.4</td>\n",
       "      <td>aerobic</td>\n",
       "      <td>3.5</td>\n",
       "      <td>0.7</td>\n",
       "      <td>flagella</td>\n",
       "      <td>yes</td>\n",
       "      <td>...</td>\n",
       "      <td>yes</td>\n",
       "      <td>rod</td>\n",
       "      <td>clump</td>\n",
       "      <td>2309</td>\n",
       "      <td>JCM9157T|ATCC43226T</td>\n",
       "      <td>arabinose, cellobiose, fructose, galactose, gl...</td>\n",
       "      <td>NaN</td>\n",
       "      <td>positive</td>\n",
       "      <td>NaN</td>\n",
       "      <td>Yes</td>\n",
       "    </tr>\n",
       "    <tr>\n",
       "      <th>6</th>\n",
       "      <td>other</td>\n",
       "      <td>2004</td>\n",
       "      <td>10.1099/ijs.0.03050-0</td>\n",
       "      <td>AB111849</td>\n",
       "      <td>30</td>\n",
       "      <td>NaN</td>\n",
       "      <td>18</td>\n",
       "      <td>0.24</td>\n",
       "      <td>flagella</td>\n",
       "      <td>NaN</td>\n",
       "      <td>...</td>\n",
       "      <td>NaN</td>\n",
       "      <td>rod</td>\n",
       "      <td>NaN</td>\n",
       "      <td>1649</td>\n",
       "      <td>JCM11958T|DSM16138T</td>\n",
       "      <td>NaN</td>\n",
       "      <td>NaN</td>\n",
       "      <td>NaN</td>\n",
       "      <td>hard tick</td>\n",
       "      <td>No</td>\n",
       "    </tr>\n",
       "    <tr>\n",
       "      <th>7</th>\n",
       "      <td>soil</td>\n",
       "      <td>2005</td>\n",
       "      <td>10.1099/ijs.0.02982-0</td>\n",
       "      <td>AB112081</td>\n",
       "      <td>69</td>\n",
       "      <td>aerobic</td>\n",
       "      <td>NaN</td>\n",
       "      <td>NaN</td>\n",
       "      <td>non-motile</td>\n",
       "      <td>yes</td>\n",
       "      <td>...</td>\n",
       "      <td>NaN</td>\n",
       "      <td>not indicated</td>\n",
       "      <td>chain</td>\n",
       "      <td>725</td>\n",
       "      <td>NBRC100142T|DSM44745T</td>\n",
       "      <td>arabinose, galactose, glucose, maltose, mannit...</td>\n",
       "      <td>NaN</td>\n",
       "      <td>positive</td>\n",
       "      <td>NaN</td>\n",
       "      <td>No</td>\n",
       "    </tr>\n",
       "    <tr>\n",
       "      <th>8</th>\n",
       "      <td>other</td>\n",
       "      <td>2008</td>\n",
       "      <td>10.1099/ijs.0.65314-0</td>\n",
       "      <td>AB166879</td>\n",
       "      <td>63.5</td>\n",
       "      <td>facultative anaerobe</td>\n",
       "      <td>1.2-2</td>\n",
       "      <td>0.3-0.5</td>\n",
       "      <td>non-motile</td>\n",
       "      <td>no</td>\n",
       "      <td>...</td>\n",
       "      <td>yes</td>\n",
       "      <td>rod</td>\n",
       "      <td>chain</td>\n",
       "      <td>2141</td>\n",
       "      <td>KCTC12197|LMG23411</td>\n",
       "      <td>3-hydroxybutyrate, acetate, adipate, adonitol,...</td>\n",
       "      <td>NaN</td>\n",
       "      <td>negative</td>\n",
       "      <td>sludge</td>\n",
       "      <td>No</td>\n",
       "    </tr>\n",
       "    <tr>\n",
       "      <th>9</th>\n",
       "      <td>wastewater</td>\n",
       "      <td>2005</td>\n",
       "      <td>10.1099/ijs.0.63459-0</td>\n",
       "      <td>AB180738</td>\n",
       "      <td>36.2</td>\n",
       "      <td>aerobic</td>\n",
       "      <td>3.5</td>\n",
       "      <td>0.4</td>\n",
       "      <td>non-motile</td>\n",
       "      <td>no</td>\n",
       "      <td>...</td>\n",
       "      <td>yes</td>\n",
       "      <td>rod</td>\n",
       "      <td>not indicated</td>\n",
       "      <td>747</td>\n",
       "      <td>KCTC12201T|IAM15099T</td>\n",
       "      <td>glucose, maltose, mannose, N-acetylgulcosamine...</td>\n",
       "      <td>NaN</td>\n",
       "      <td>negative</td>\n",
       "      <td>NaN</td>\n",
       "      <td>No</td>\n",
       "    </tr>\n",
       "  </tbody>\n",
       "</table>\n",
       "<p>10 rows × 30 columns</p>\n",
       "</div>"
      ],
      "text/plain": [
       "                          Habitat  Year                     DOI    rRNA16S  \\\n",
       "0  freshwater (river, lake, pond)  2008   10.1099/ijs.0.65700-0       60.2   \n",
       "1                            soil  2006   10.1099/ijs.0.63862-0     200233   \n",
       "2                           other  2009  10.1099/ijs.0.001123-0              \n",
       "3                            soil  2009  10.1099/ijs.0.001123-0              \n",
       "4               built environment  2005   10.1099/ijs.0.63649-0   AB043852   \n",
       "5               built environment  2005   10.1099/ijs.0.63649-0   AB043858   \n",
       "6                           other  2004   10.1099/ijs.0.03050-0   AB111849   \n",
       "7                            soil  2005   10.1099/ijs.0.02982-0   AB112081   \n",
       "8                           other  2008   10.1099/ijs.0.65314-0   AB166879   \n",
       "9                      wastewater  2005   10.1099/ijs.0.63459-0   AB180738   \n",
       "\n",
       "         GC                Oxygen Length    Width  \\\n",
       "0  DQ987877               aerobic   1.05      0.7   \n",
       "1        71               aerobic    NaN      NaN   \n",
       "2        67               aerobic    NaN      NaN   \n",
       "3        67               aerobic    NaN      NaN   \n",
       "4      39.6               aerobic    2.5     0.35   \n",
       "5      34.4               aerobic    3.5      0.7   \n",
       "6        30                   NaN     18     0.24   \n",
       "7        69               aerobic    NaN      NaN   \n",
       "8      63.5  facultative anaerobe  1.2-2  0.3-0.5   \n",
       "9      36.2               aerobic    3.5      0.4   \n",
       "\n",
       "                            Motility          Spore  ... Pigment  \\\n",
       "0  motile, but unspecified structure  not indicated  ...     yes   \n",
       "1                         non-motile            yes  ...     yes   \n",
       "2                      not indicated             no  ...     yes   \n",
       "3                      not indicated             no  ...     yes   \n",
       "4                           flagella            yes  ...     yes   \n",
       "5                           flagella            yes  ...     yes   \n",
       "6                           flagella            NaN  ...     NaN   \n",
       "7                         non-motile            yes  ...     NaN   \n",
       "8                         non-motile             no  ...     yes   \n",
       "9                         non-motile             no  ...     yes   \n",
       "\n",
       "           Shape    Aggregation FirstPage                CultureCollection  \\\n",
       "0  not indicated  not indicated      1705           CGMCC=1.6783|CECT=7303   \n",
       "1            rod          chain       393                JCM12949|DSM44899   \n",
       "2            rod  not indicated       102             LMG23361T|CCUG55526T   \n",
       "3            rod            NaN       102  ATCC17760T|LMG22485T|CCUG55525T   \n",
       "4            rod          clump      2309                JCM9156T|DSM2522T   \n",
       "5            rod          clump      2309              JCM9157T|ATCC43226T   \n",
       "6            rod            NaN      1649              JCM11958T|DSM16138T   \n",
       "7  not indicated          chain       725            NBRC100142T|DSM44745T   \n",
       "8            rod          chain      2141               KCTC12197|LMG23411   \n",
       "9            rod  not indicated       747             KCTC12201T|IAM15099T   \n",
       "\n",
       "                                     CarbonSubstrate Genome      Gram  \\\n",
       "0  glucose, lactose, maltose, mannitol, mannose, ...    NaN  negative   \n",
       "1  arabinose, galactose, glucose, lactose, maltos...    NaN  positive   \n",
       "2  adipate, adonitol, arabinose, caprate, citric ...    NaN  negative   \n",
       "3  adipate, adonitol, arabinose, caprate, citric ...    NaN  negative   \n",
       "4  cellobiose, fructose, glucose, lactose, maltos...    NaN  positive   \n",
       "5  arabinose, cellobiose, fructose, galactose, gl...    NaN  positive   \n",
       "6                                                NaN    NaN       NaN   \n",
       "7  arabinose, galactose, glucose, maltose, mannit...    NaN  positive   \n",
       "8  3-hydroxybutyrate, acetate, adipate, adonitol,...    NaN  negative   \n",
       "9  glucose, maltose, mannose, N-acetylgulcosamine...    NaN  negative   \n",
       "\n",
       "   Subhabitat Biolog  \n",
       "0         NaN     No  \n",
       "1         NaN     No  \n",
       "2  sheep milk     No  \n",
       "3         NaN     No  \n",
       "4         NaN    Yes  \n",
       "5         NaN    Yes  \n",
       "6   hard tick     No  \n",
       "7         NaN     No  \n",
       "8      sludge     No  \n",
       "9         NaN     No  \n",
       "\n",
       "[10 rows x 30 columns]"
      ]
     },
     "execution_count": 25,
     "metadata": {},
     "output_type": "execute_result"
    }
   ],
   "source": [
    "ijsem_file = Path(inputs_dir, \"ogt_sources/ijsem/IJSEM_pheno_db_v1.0.txt\")\n",
    "df = pd.read_csv(ijsem_file, sep='\\t')\n",
    "df.columns = [\"Habitat\", \"Year\", \"DOI\", \"rRNA16S\", \"GC\", \"Oxygen\", \"Length\", \"Width\", \"Motility\", \"Spore\", \"MetabAssays\", \"Genus\", \"Species\", \"Strain\", \"pH_optimum\", \"pH_range\", \"Temp_optimum\", \"Temp_range\", \"Salt_optimum\", \"Salt_range\", \"Pigment\", \"Shape\", \"Aggregation\", \"FirstPage\", \"CultureCollection\", \"CarbonSubstrate\", \"Genome\", \"Gram\", \"Subhabitat\", \"Biolog\"]\n",
    "# df = df.replace('', np.nan).dropna(subset='Temperature')\n",
    "df = df.replace('Not indicated', np.nan).dropna(subset=\"Temp_range\")\n",
    "print(len(df))\n",
    "df.head(10)"
   ]
  },
  {
   "cell_type": "code",
   "execution_count": 32,
   "id": "cf46c3de-a925-4419-9d4b-5d2ac0dd8b66",
   "metadata": {},
   "outputs": [],
   "source": [
    "# get the maximum growth temperature for each species\n",
    "def get_max_temp(x):\n",
    "    try:\n",
    "        if '-' in x:\n",
    "            x = float(x.split('-')[1])\n",
    "        else:\n",
    "            x = float(x.replace('<',''))\n",
    "        return x\n",
    "    except:\n",
    "        # print(\"failed for \", x)\n",
    "        return\n",
    "    \n",
    "df['Temp_max'] = df['Temp_range'].apply(get_max_temp)"
   ]
  },
  {
   "cell_type": "code",
   "execution_count": 34,
   "id": "eb945b38-f171-41b6-8344-ff9c9095b7c3",
   "metadata": {},
   "outputs": [
    {
     "name": "stdout",
     "output_type": "stream",
     "text": [
      "4519\n"
     ]
    }
   ],
   "source": [
    "# df = df.dropna(subset='Temp_max')\n",
    "print(len(df))"
   ]
  },
  {
   "cell_type": "code",
   "execution_count": 27,
   "id": "22b64fb0-4982-4792-8077-233c0ec41183",
   "metadata": {},
   "outputs": [
    {
     "data": {
      "text/plain": [
       "<AxesSubplot: >"
      ]
     },
     "execution_count": 27,
     "metadata": {},
     "output_type": "execute_result"
    },
    {
     "data": {
      "image/png": "[encoded data removed]",
      "text/plain": [
       "<Figure size 640x480 with 1 Axes>"
      ]
     },
     "metadata": {},
     "output_type": "display_data"
    }
   ],
   "source": [
    "df['Temp_max'].hist(bins=30)"
   ]
  },
  {
   "cell_type": "markdown",
   "id": "0af57a08-2d70-4df2-8372-4686853d9fc9",
   "metadata": {},
   "source": [
    "## BacDive"
   ]
  },
  {
   "cell_type": "code",
   "execution_count": 36,
   "id": "735fd443-9051-417d-9e09-4118bc9314c3",
   "metadata": {},
   "outputs": [
    {
     "name": "stdout",
     "output_type": "stream",
     "text": [
      "31428\n"
     ]
    },
    {
     "data": {
      "text/html": [
       "<div>\n",
       "<style scoped>\n",
       "    .dataframe tbody tr th:only-of-type {\n",
       "        vertical-align: middle;\n",
       "    }\n",
       "\n",
       "    .dataframe tbody tr th {\n",
       "        vertical-align: top;\n",
       "    }\n",
       "\n",
       "    .dataframe thead th {\n",
       "        text-align: right;\n",
       "    }\n",
       "</style>\n",
       "<table border=\"1\" class=\"dataframe\">\n",
       "  <thead>\n",
       "    <tr style=\"text-align: right;\">\n",
       "      <th></th>\n",
       "      <th>ID</th>\n",
       "      <th>designation_header</th>\n",
       "      <th>strain_number_header</th>\n",
       "      <th>is_type_strain_header</th>\n",
       "      <th>is_type_strain</th>\n",
       "      <th>species</th>\n",
       "      <th>Temperature</th>\n",
       "    </tr>\n",
       "  </thead>\n",
       "  <tbody>\n",
       "    <tr>\n",
       "      <th>0</th>\n",
       "      <td>159652.0</td>\n",
       "      <td>R-68213</td>\n",
       "      <td>DSM 105287, LMG 29911</td>\n",
       "      <td>1.0</td>\n",
       "      <td>1.0</td>\n",
       "      <td>Abditibacterium utsteinense</td>\n",
       "      <td>20</td>\n",
       "    </tr>\n",
       "    <tr>\n",
       "      <th>1</th>\n",
       "      <td>219.0</td>\n",
       "      <td>R-68213</td>\n",
       "      <td>DSM 9849, ATCC 49176, CIP 103242, SC 10</td>\n",
       "      <td>1.0</td>\n",
       "      <td>1.0</td>\n",
       "      <td>Abiotrophia defectiva</td>\n",
       "      <td>37</td>\n",
       "    </tr>\n",
       "    <tr>\n",
       "      <th>2</th>\n",
       "      <td>164352.0</td>\n",
       "      <td>R-68213</td>\n",
       "      <td>JCM 32769, KCTC 15747</td>\n",
       "      <td>1.0</td>\n",
       "      <td>1.0</td>\n",
       "      <td>Absicoccus porci</td>\n",
       "      <td>37</td>\n",
       "    </tr>\n",
       "    <tr>\n",
       "      <th>3</th>\n",
       "      <td>159837.0</td>\n",
       "      <td>OUC007</td>\n",
       "      <td>KCTC 52933, MCCC 1K03450, JCM 32025</td>\n",
       "      <td>1.0</td>\n",
       "      <td>1.0</td>\n",
       "      <td>Abyssibacter profundi</td>\n",
       "      <td>10-45</td>\n",
       "    </tr>\n",
       "    <tr>\n",
       "      <th>4</th>\n",
       "      <td>159837.0</td>\n",
       "      <td>OUC007</td>\n",
       "      <td>KCTC 52933, MCCC 1K03450, JCM 32025</td>\n",
       "      <td>1.0</td>\n",
       "      <td>1.0</td>\n",
       "      <td>Abyssibacter profundi</td>\n",
       "      <td>37</td>\n",
       "    </tr>\n",
       "    <tr>\n",
       "      <th>5</th>\n",
       "      <td>132558.0</td>\n",
       "      <td>OUC007</td>\n",
       "      <td>DSM 29158, CCTCC AB 2014213, YIM M12140, JCM 3...</td>\n",
       "      <td>1.0</td>\n",
       "      <td>1.0</td>\n",
       "      <td>Abyssicoccus albus</td>\n",
       "      <td>28</td>\n",
       "    </tr>\n",
       "    <tr>\n",
       "      <th>6</th>\n",
       "      <td>164056.0</td>\n",
       "      <td>OUC007</td>\n",
       "      <td>JCM 31420, KCTC 15524</td>\n",
       "      <td>1.0</td>\n",
       "      <td>1.0</td>\n",
       "      <td>Abyssisolibacter fermentans</td>\n",
       "      <td>30</td>\n",
       "    </tr>\n",
       "    <tr>\n",
       "      <th>7</th>\n",
       "      <td>132478.0</td>\n",
       "      <td>L81</td>\n",
       "      <td>DSM 29592, JCM 30920</td>\n",
       "      <td>1.0</td>\n",
       "      <td>1.0</td>\n",
       "      <td>Vallitalea guaymasensis</td>\n",
       "      <td>15-42</td>\n",
       "    </tr>\n",
       "    <tr>\n",
       "      <th>8</th>\n",
       "      <td>132478.0</td>\n",
       "      <td>L81</td>\n",
       "      <td>DSM 29592, JCM 30920</td>\n",
       "      <td>1.0</td>\n",
       "      <td>1.0</td>\n",
       "      <td>Vallitalea guaymasensis</td>\n",
       "      <td>37</td>\n",
       "    </tr>\n",
       "    <tr>\n",
       "      <th>9</th>\n",
       "      <td>24718.0</td>\n",
       "      <td>FYK2218</td>\n",
       "      <td>DSM 28897, KCTC 12899, NBRC 101209</td>\n",
       "      <td>1.0</td>\n",
       "      <td>1.0</td>\n",
       "      <td>Acanthopleuribacter pedis</td>\n",
       "      <td>15-30</td>\n",
       "    </tr>\n",
       "  </tbody>\n",
       "</table>\n",
       "</div>"
      ],
      "text/plain": [
       "         ID designation_header  \\\n",
       "0  159652.0            R-68213   \n",
       "1     219.0            R-68213   \n",
       "2  164352.0            R-68213   \n",
       "3  159837.0             OUC007   \n",
       "4  159837.0             OUC007   \n",
       "5  132558.0             OUC007   \n",
       "6  164056.0             OUC007   \n",
       "7  132478.0                L81   \n",
       "8  132478.0                L81   \n",
       "9   24718.0            FYK2218   \n",
       "\n",
       "                                strain_number_header  is_type_strain_header  \\\n",
       "0                              DSM 105287, LMG 29911                    1.0   \n",
       "1            DSM 9849, ATCC 49176, CIP 103242, SC 10                    1.0   \n",
       "2                              JCM 32769, KCTC 15747                    1.0   \n",
       "3                KCTC 52933, MCCC 1K03450, JCM 32025                    1.0   \n",
       "4                KCTC 52933, MCCC 1K03450, JCM 32025                    1.0   \n",
       "5  DSM 29158, CCTCC AB 2014213, YIM M12140, JCM 3...                    1.0   \n",
       "6                              JCM 31420, KCTC 15524                    1.0   \n",
       "7                               DSM 29592, JCM 30920                    1.0   \n",
       "8                               DSM 29592, JCM 30920                    1.0   \n",
       "9                 DSM 28897, KCTC 12899, NBRC 101209                    1.0   \n",
       "\n",
       "   is_type_strain                      species Temperature  \n",
       "0             1.0  Abditibacterium utsteinense          20  \n",
       "1             1.0        Abiotrophia defectiva          37  \n",
       "2             1.0             Absicoccus porci          37  \n",
       "3             1.0        Abyssibacter profundi       10-45  \n",
       "4             1.0        Abyssibacter profundi          37  \n",
       "5             1.0           Abyssicoccus albus          28  \n",
       "6             1.0  Abyssisolibacter fermentans          30  \n",
       "7             1.0      Vallitalea guaymasensis       15-42  \n",
       "8             1.0      Vallitalea guaymasensis          37  \n",
       "9             1.0    Acanthopleuribacter pedis       15-30  "
      ]
     },
     "execution_count": 36,
     "metadata": {},
     "output_type": "execute_result"
    }
   ],
   "source": [
    "bacdive_file = \"/projects/robustmicrob/jlaw/inputs/species/bacdive/bacdive.csv\"\n",
    "df = pd.read_csv(bacdive_file).ffill()\n",
    "df = df.replace('', np.nan).dropna(subset='Temperature')\n",
    "print(len(df))\n",
    "df.head(10)"
   ]
  },
  {
   "cell_type": "code",
   "execution_count": 20,
   "id": "9f3ef669-1ff1-485f-8e33-9693c9d6f50a",
   "metadata": {},
   "outputs": [
    {
     "data": {
      "text/html": [
       "<div>\n",
       "<style scoped>\n",
       "    .dataframe tbody tr th:only-of-type {\n",
       "        vertical-align: middle;\n",
       "    }\n",
       "\n",
       "    .dataframe tbody tr th {\n",
       "        vertical-align: top;\n",
       "    }\n",
       "\n",
       "    .dataframe thead th {\n",
       "        text-align: right;\n",
       "    }\n",
       "</style>\n",
       "<table border=\"1\" class=\"dataframe\">\n",
       "  <thead>\n",
       "    <tr style=\"text-align: right;\">\n",
       "      <th></th>\n",
       "      <th>designation_header</th>\n",
       "      <th>strain_number_header</th>\n",
       "      <th>species</th>\n",
       "      <th>Temperature</th>\n",
       "    </tr>\n",
       "  </thead>\n",
       "  <tbody>\n",
       "    <tr>\n",
       "      <th>0</th>\n",
       "      <td>R-68213</td>\n",
       "      <td>DSM 105287, LMG 29911</td>\n",
       "      <td>Abditibacterium utsteinense</td>\n",
       "      <td>20.0</td>\n",
       "    </tr>\n",
       "    <tr>\n",
       "      <th>1</th>\n",
       "      <td>R-68213</td>\n",
       "      <td>DSM 9849, ATCC 49176, CIP 103242, SC 10</td>\n",
       "      <td>Abiotrophia defectiva</td>\n",
       "      <td>37.0</td>\n",
       "    </tr>\n",
       "    <tr>\n",
       "      <th>2</th>\n",
       "      <td>R-68213</td>\n",
       "      <td>JCM 32769, KCTC 15747</td>\n",
       "      <td>Absicoccus porci</td>\n",
       "      <td>37.0</td>\n",
       "    </tr>\n",
       "    <tr>\n",
       "      <th>3</th>\n",
       "      <td>OUC007</td>\n",
       "      <td>KCTC 52933, MCCC 1K03450, JCM 32025</td>\n",
       "      <td>Abyssibacter profundi</td>\n",
       "      <td>45.0</td>\n",
       "    </tr>\n",
       "    <tr>\n",
       "      <th>4</th>\n",
       "      <td>OUC007</td>\n",
       "      <td>KCTC 52933, MCCC 1K03450, JCM 32025</td>\n",
       "      <td>Abyssibacter profundi</td>\n",
       "      <td>37.0</td>\n",
       "    </tr>\n",
       "  </tbody>\n",
       "</table>\n",
       "</div>"
      ],
      "text/plain": [
       "  designation_header                     strain_number_header  \\\n",
       "0            R-68213                    DSM 105287, LMG 29911   \n",
       "1            R-68213  DSM 9849, ATCC 49176, CIP 103242, SC 10   \n",
       "2            R-68213                    JCM 32769, KCTC 15747   \n",
       "3             OUC007      KCTC 52933, MCCC 1K03450, JCM 32025   \n",
       "4             OUC007      KCTC 52933, MCCC 1K03450, JCM 32025   \n",
       "\n",
       "                       species  Temperature  \n",
       "0  Abditibacterium utsteinense         20.0  \n",
       "1        Abiotrophia defectiva         37.0  \n",
       "2             Absicoccus porci         37.0  \n",
       "3        Abyssibacter profundi         45.0  \n",
       "4        Abyssibacter profundi         37.0  "
      ]
     },
     "execution_count": 20,
     "metadata": {},
     "output_type": "execute_result"
    }
   ],
   "source": [
    "def fix_temperature(x):\n",
    "    if '-' in x:\n",
    "        x = x.split('-')[1]\n",
    "    x = x.replace('>','').replace('<','')\n",
    "    return x\n",
    "\n",
    "df['Temperature'] = df.Temperature.apply(fix_temperature)\n",
    "df = df.replace('', np.nan).dropna(subset='Temperature')\n",
    "df['Temperature'] = df['Temperature'].astype(float)\n",
    "df = df.drop(columns=['is_type_strain_header', 'is_type_strain', 'ID'])\n",
    "df.head(5)"
   ]
  },
  {
   "cell_type": "code",
   "execution_count": 21,
   "id": "ec5da038-ce7d-4472-ab23-d1a717b8dc01",
   "metadata": {},
   "outputs": [
    {
     "data": {
      "text/html": [
       "<div>\n",
       "<style scoped>\n",
       "    .dataframe tbody tr th:only-of-type {\n",
       "        vertical-align: middle;\n",
       "    }\n",
       "\n",
       "    .dataframe tbody tr th {\n",
       "        vertical-align: top;\n",
       "    }\n",
       "\n",
       "    .dataframe thead th {\n",
       "        text-align: right;\n",
       "    }\n",
       "</style>\n",
       "<table border=\"1\" class=\"dataframe\">\n",
       "  <thead>\n",
       "    <tr style=\"text-align: right;\">\n",
       "      <th></th>\n",
       "      <th>designation_header</th>\n",
       "      <th>strain_number_header</th>\n",
       "      <th>Temperature</th>\n",
       "    </tr>\n",
       "    <tr>\n",
       "      <th>species</th>\n",
       "      <th></th>\n",
       "      <th></th>\n",
       "      <th></th>\n",
       "    </tr>\n",
       "  </thead>\n",
       "  <tbody>\n",
       "    <tr>\n",
       "      <th>Abditibacterium utsteinense</th>\n",
       "      <td>R-68213</td>\n",
       "      <td>DSM 105287, LMG 29911</td>\n",
       "      <td>20.0</td>\n",
       "    </tr>\n",
       "    <tr>\n",
       "      <th>Abiotrophia defectiva</th>\n",
       "      <td>R-68213</td>\n",
       "      <td>DSM 9849, ATCC 49176, CIP 103242, SC 10</td>\n",
       "      <td>37.0</td>\n",
       "    </tr>\n",
       "    <tr>\n",
       "      <th>Absicoccus porci</th>\n",
       "      <td>R-68213</td>\n",
       "      <td>JCM 32769, KCTC 15747</td>\n",
       "      <td>37.0</td>\n",
       "    </tr>\n",
       "    <tr>\n",
       "      <th>Abyssibacter profundi</th>\n",
       "      <td>OUC007</td>\n",
       "      <td>KCTC 52933, MCCC 1K03450, JCM 32025</td>\n",
       "      <td>45.0</td>\n",
       "    </tr>\n",
       "    <tr>\n",
       "      <th>Abyssicoccus albus</th>\n",
       "      <td>S31</td>\n",
       "      <td>DSM 29158, CCTCC AB 2014213, YIM M12140, JCM 3...</td>\n",
       "      <td>40.0</td>\n",
       "    </tr>\n",
       "  </tbody>\n",
       "</table>\n",
       "</div>"
      ],
      "text/plain": [
       "                            designation_header  \\\n",
       "species                                          \n",
       "Abditibacterium utsteinense            R-68213   \n",
       "Abiotrophia defectiva                  R-68213   \n",
       "Absicoccus porci                       R-68213   \n",
       "Abyssibacter profundi                   OUC007   \n",
       "Abyssicoccus albus                         S31   \n",
       "\n",
       "                                                          strain_number_header  \\\n",
       "species                                                                          \n",
       "Abditibacterium utsteinense                              DSM 105287, LMG 29911   \n",
       "Abiotrophia defectiva                  DSM 9849, ATCC 49176, CIP 103242, SC 10   \n",
       "Absicoccus porci                                         JCM 32769, KCTC 15747   \n",
       "Abyssibacter profundi                      KCTC 52933, MCCC 1K03450, JCM 32025   \n",
       "Abyssicoccus albus           DSM 29158, CCTCC AB 2014213, YIM M12140, JCM 3...   \n",
       "\n",
       "                             Temperature  \n",
       "species                                   \n",
       "Abditibacterium utsteinense         20.0  \n",
       "Abiotrophia defectiva               37.0  \n",
       "Absicoccus porci                    37.0  \n",
       "Abyssibacter profundi               45.0  \n",
       "Abyssicoccus albus                  40.0  "
      ]
     },
     "execution_count": 21,
     "metadata": {},
     "output_type": "execute_result"
    }
   ],
   "source": [
    "# merge species and keep the highest temperature\n",
    "df = df.groupby('species').max()\n",
    "df.head(5)"
   ]
  },
  {
   "cell_type": "code",
   "execution_count": 22,
   "id": "9285bc7c-eb13-4339-8074-b79b07778613",
   "metadata": {},
   "outputs": [
    {
     "data": {
      "text/plain": [
       "<AxesSubplot: >"
      ]
     },
     "execution_count": 22,
     "metadata": {},
     "output_type": "execute_result"
    },
    {
     "data": {
      "image/png": "[encoded data removed]",
      "text/plain": [
       "<Figure size 640x480 with 1 Axes>"
      ]
     },
     "metadata": {},
     "output_type": "display_data"
    }
   ],
   "source": [
    "df.Temperature.hist(bins=30)"
   ]
  },
  {
   "cell_type": "code",
   "execution_count": 23,
   "id": "2b44312f-bdf8-4356-8b08-d14cc64b02c9",
   "metadata": {},
   "outputs": [
    {
     "data": {
      "text/plain": [
       "173"
      ]
     },
     "execution_count": 23,
     "metadata": {},
     "output_type": "execute_result"
    }
   ],
   "source": [
    "# hotprotein has 48 hyperthermophillic species\n",
    "len(df[df.Temperature > 75])"
   ]
  },
  {
   "cell_type": "code",
   "execution_count": 24,
   "id": "f01fb1ae-2277-461d-baa2-adc6acb60bdd",
   "metadata": {},
   "outputs": [
    {
     "data": {
      "text/html": [
       "<div>\n",
       "<style scoped>\n",
       "    .dataframe tbody tr th:only-of-type {\n",
       "        vertical-align: middle;\n",
       "    }\n",
       "\n",
       "    .dataframe tbody tr th {\n",
       "        vertical-align: top;\n",
       "    }\n",
       "\n",
       "    .dataframe thead th {\n",
       "        text-align: right;\n",
       "    }\n",
       "</style>\n",
       "<table border=\"1\" class=\"dataframe\">\n",
       "  <thead>\n",
       "    <tr style=\"text-align: right;\">\n",
       "      <th></th>\n",
       "      <th>designation_header</th>\n",
       "      <th>strain_number_header</th>\n",
       "      <th>Temperature</th>\n",
       "    </tr>\n",
       "    <tr>\n",
       "      <th>species</th>\n",
       "      <th></th>\n",
       "      <th></th>\n",
       "      <th></th>\n",
       "    </tr>\n",
       "  </thead>\n",
       "  <tbody>\n",
       "    <tr>\n",
       "      <th>Acidianus ambivalens</th>\n",
       "      <td>VR4</td>\n",
       "      <td>DSM 3772, JCM 9191, LEI 10</td>\n",
       "      <td>80.0</td>\n",
       "    </tr>\n",
       "    <tr>\n",
       "      <th>Acidianus infernus</th>\n",
       "      <td>So4a</td>\n",
       "      <td>DSM 3191, NBRC 106462, JCM 8955, IFO 15270, NB...</td>\n",
       "      <td>88.0</td>\n",
       "    </tr>\n",
       "    <tr>\n",
       "      <th>Acidilobus aceticus</th>\n",
       "      <td>1904</td>\n",
       "      <td>DSM 11585, ATCC BAA 268, JCM 11320</td>\n",
       "      <td>80.0</td>\n",
       "    </tr>\n",
       "    <tr>\n",
       "      <th>Acidilobus saccharovorans</th>\n",
       "      <td>345-15</td>\n",
       "      <td>DSM 16705, JCM 18335, VKM B-2471</td>\n",
       "      <td>80.0</td>\n",
       "    </tr>\n",
       "    <tr>\n",
       "      <th>Aeropyrum camini</th>\n",
       "      <td>SY1</td>\n",
       "      <td>DSM 16960, ATCC BAA 758, JCM 12091</td>\n",
       "      <td>97.0</td>\n",
       "    </tr>\n",
       "    <tr>\n",
       "      <th>...</th>\n",
       "      <td>...</td>\n",
       "      <td>...</td>\n",
       "      <td>...</td>\n",
       "    </tr>\n",
       "    <tr>\n",
       "      <th>Thermus composti</th>\n",
       "      <td>K-39</td>\n",
       "      <td>DSM 21686, JCM 19902, NCAIM B 02340</td>\n",
       "      <td>80.0</td>\n",
       "    </tr>\n",
       "    <tr>\n",
       "      <th>Thermus islandicus</th>\n",
       "      <td>RF-4</td>\n",
       "      <td>DSM 21543, JCM 19901, PRI 3838, ATCC BAA 1677</td>\n",
       "      <td>79.0</td>\n",
       "    </tr>\n",
       "    <tr>\n",
       "      <th>Vulcanisaeta distributa</th>\n",
       "      <td>IC-017</td>\n",
       "      <td>DSM 14429, JCM 11212, NBRC 100878</td>\n",
       "      <td>90.0</td>\n",
       "    </tr>\n",
       "    <tr>\n",
       "      <th>Vulcanisaeta souniana</th>\n",
       "      <td>IC-059</td>\n",
       "      <td>DSM 14430, JCM 11219, NBRC 100879</td>\n",
       "      <td>85.0</td>\n",
       "    </tr>\n",
       "    <tr>\n",
       "      <th>Vulcanisaeta thermophila</th>\n",
       "      <td>IC-059</td>\n",
       "      <td>JCM 17228, ATCC BAA 2415</td>\n",
       "      <td>85.0</td>\n",
       "    </tr>\n",
       "  </tbody>\n",
       "</table>\n",
       "<p>173 rows × 3 columns</p>\n",
       "</div>"
      ],
      "text/plain": [
       "                          designation_header  \\\n",
       "species                                        \n",
       "Acidianus ambivalens                     VR4   \n",
       "Acidianus infernus                      So4a   \n",
       "Acidilobus aceticus                     1904   \n",
       "Acidilobus saccharovorans             345-15   \n",
       "Aeropyrum camini                         SY1   \n",
       "...                                      ...   \n",
       "Thermus composti                        K-39   \n",
       "Thermus islandicus                      RF-4   \n",
       "Vulcanisaeta distributa               IC-017   \n",
       "Vulcanisaeta souniana                 IC-059   \n",
       "Vulcanisaeta thermophila              IC-059   \n",
       "\n",
       "                                                        strain_number_header  \\\n",
       "species                                                                        \n",
       "Acidianus ambivalens                              DSM 3772, JCM 9191, LEI 10   \n",
       "Acidianus infernus         DSM 3191, NBRC 106462, JCM 8955, IFO 15270, NB...   \n",
       "Acidilobus aceticus                       DSM 11585, ATCC BAA 268, JCM 11320   \n",
       "Acidilobus saccharovorans                   DSM 16705, JCM 18335, VKM B-2471   \n",
       "Aeropyrum camini                          DSM 16960, ATCC BAA 758, JCM 12091   \n",
       "...                                                                      ...   \n",
       "Thermus composti                         DSM 21686, JCM 19902, NCAIM B 02340   \n",
       "Thermus islandicus             DSM 21543, JCM 19901, PRI 3838, ATCC BAA 1677   \n",
       "Vulcanisaeta distributa                    DSM 14429, JCM 11212, NBRC 100878   \n",
       "Vulcanisaeta souniana                      DSM 14430, JCM 11219, NBRC 100879   \n",
       "Vulcanisaeta thermophila                            JCM 17228, ATCC BAA 2415   \n",
       "\n",
       "                           Temperature  \n",
       "species                                 \n",
       "Acidianus ambivalens              80.0  \n",
       "Acidianus infernus                88.0  \n",
       "Acidilobus aceticus               80.0  \n",
       "Acidilobus saccharovorans         80.0  \n",
       "Aeropyrum camini                  97.0  \n",
       "...                                ...  \n",
       "Thermus composti                  80.0  \n",
       "Thermus islandicus                79.0  \n",
       "Vulcanisaeta distributa           90.0  \n",
       "Vulcanisaeta souniana             85.0  \n",
       "Vulcanisaeta thermophila          85.0  \n",
       "\n",
       "[173 rows x 3 columns]"
      ]
     },
     "execution_count": 24,
     "metadata": {},
     "output_type": "execute_result"
    }
   ],
   "source": [
    "df[df.Temperature > 75]"
   ]
  },
  {
   "cell_type": "code",
   "execution_count": 25,
   "id": "19e60700-cf94-414d-bea4-c8eaa7c32494",
   "metadata": {},
   "outputs": [],
   "source": [
    "df.sort_values('Temperature', ascending=False).to_csv(\"/projects/robustmicrob/jlaw/inputs/species/bacdive/bacdive_parsed.csv\")"
   ]
  },
  {
   "cell_type": "markdown",
   "id": "c0b8ff00-83ac-414e-a49a-b53c53fb88b3",
   "metadata": {},
   "source": [
    "### Down-select the species favoring those with reference proteomes\n",
    "There are too many bacteria with max growth < 40. Need to downsample those"
   ]
  },
  {
   "cell_type": "code",
   "execution_count": 82,
   "id": "ba225b43-3679-4c80-95e9-bb78fb5a5ac1",
   "metadata": {},
   "outputs": [
    {
     "name": "stdout",
     "output_type": "stream",
     "text": [
      "5202 0\n",
      "5202\n"
     ]
    },
    {
     "data": {
      "text/html": [
       "<div>\n",
       "<style scoped>\n",
       "    .dataframe tbody tr th:only-of-type {\n",
       "        vertical-align: middle;\n",
       "    }\n",
       "\n",
       "    .dataframe tbody tr th {\n",
       "        vertical-align: top;\n",
       "    }\n",
       "\n",
       "    .dataframe thead th {\n",
       "        text-align: right;\n",
       "    }\n",
       "</style>\n",
       "<table border=\"1\" class=\"dataframe\">\n",
       "  <thead>\n",
       "    <tr style=\"text-align: right;\">\n",
       "      <th></th>\n",
       "      <th>species</th>\n",
       "      <th>proteome_id</th>\n",
       "      <th>organism</th>\n",
       "      <th>taxon_id</th>\n",
       "      <th>num_prots</th>\n",
       "      <th>type</th>\n",
       "    </tr>\n",
       "  </thead>\n",
       "  <tbody>\n",
       "    <tr>\n",
       "      <th>0</th>\n",
       "      <td>Pyrolobus fumarii</td>\n",
       "      <td>UP000001037</td>\n",
       "      <td>Pyrolobus fumarii (strain DSM 11204 / 1A)</td>\n",
       "      <td>694429</td>\n",
       "      <td>1967</td>\n",
       "      <td>reference</td>\n",
       "    </tr>\n",
       "    <tr>\n",
       "      <th>1</th>\n",
       "      <td>Aeropyrum pernix</td>\n",
       "      <td>UP000002518</td>\n",
       "      <td>Aeropyrum pernix (strain ATCC 700893 / DSM 118...</td>\n",
       "      <td>272557</td>\n",
       "      <td>1700</td>\n",
       "      <td>reference</td>\n",
       "    </tr>\n",
       "  </tbody>\n",
       "</table>\n",
       "</div>"
      ],
      "text/plain": [
       "             species  proteome_id  \\\n",
       "0  Pyrolobus fumarii  UP000001037   \n",
       "1   Aeropyrum pernix  UP000002518   \n",
       "\n",
       "                                            organism taxon_id num_prots  \\\n",
       "0          Pyrolobus fumarii (strain DSM 11204 / 1A)   694429      1967   \n",
       "1  Aeropyrum pernix (strain ATCC 700893 / DSM 118...   272557      1700   \n",
       "\n",
       "        type  \n",
       "0  reference  \n",
       "1  reference  "
      ]
     },
     "execution_count": 82,
     "metadata": {},
     "output_type": "execute_result"
    }
   ],
   "source": [
    "data_dir = \"/projects/robustmicrob/jlaw/inputs/species/bacdive\"\n",
    "ref_prot_file = f\"{data_dir}/reference_out.tsv\"\n",
    "other_prot_file = f\"{data_dir}/other_out.tsv\"\n",
    "proteome_data = pd.read_table(ref_prot_file, names=['species', 'proteome_id', 'organism', 'taxon_id', 'num_prots'])\n",
    "proteome_data_other = pd.read_table(other_prot_file, names=['species', 'proteome_id', 'organism', 'taxon_id', 'num_prots'])\n",
    "proteome_data['type'] = 'reference'\n",
    "proteome_data_other['type'] = 'other'\n",
    "print(len(proteome_data), len(proteome_data_other))\n",
    "proteome_data = pd.concat([proteome_data, proteome_data_other])\n",
    "print(len(proteome_data))\n",
    "proteome_data.head(2)"
   ]
  },
  {
   "cell_type": "code",
   "execution_count": 29,
   "id": "a0ab105b-eeff-483d-bfd5-9bdd476193d3",
   "metadata": {},
   "outputs": [
    {
     "data": {
      "text/plain": [
       "Streptomyces sp.                       157\n",
       "Sphingomonas sp.                        39\n",
       "Lachnospiraceae bacterium               36\n",
       "Bacillus sp.                            36\n",
       "Prevotella sp.                          35\n",
       "                                      ... \n",
       "Sandarakinorhabdus cyanobacteriorum      1\n",
       "Lactococcus fujiensis                    1\n",
       "Salmonella enterica subsp. arizonae      1\n",
       "Lactonifactor longoviformis              1\n",
       "Octadecabacter arcticus                  1\n",
       "Name: species, Length: 4725, dtype: int64"
      ]
     },
     "execution_count": 29,
     "metadata": {},
     "output_type": "execute_result"
    }
   ],
   "source": [
    "proteome_data[proteome_data.type == 'reference'].species.value_counts()"
   ]
  },
  {
   "cell_type": "code",
   "execution_count": 83,
   "id": "4fc4c531-8c2c-40ba-8655-ab8dcecb2eae",
   "metadata": {},
   "outputs": [
    {
     "name": "stdout",
     "output_type": "stream",
     "text": [
      "4725\n",
      "4716\n"
     ]
    }
   ],
   "source": [
    "# # for proteomes with duplicate species, choose a proteome with an average # proteins\n",
    "proteome_data = proteome_data.sort_values('num_prots')\n",
    "representatives = proteome_data[['species', 'proteome_id']].groupby(['species'])['proteome_id'].agg(lambda x: x[int(len(x) / 2)] if isinstance(x, np.ndarray) else x)\n",
    "representatives = representatives.apply(lambda x: x[int(len(x) / 2)] if isinstance(x, np.ndarray) else x)\n",
    "print(len(representatives))\n",
    "proteome_data = proteome_data[proteome_data['proteome_id'].isin(representatives.reset_index().proteome_id)]\n",
    "proteome_data = proteome_data.drop_duplicates(subset='proteome_id')\n",
    "print(len(proteome_data))\n",
    "# proteome_data.head(2)\n",
    "# representatives"
   ]
  },
  {
   "cell_type": "code",
   "execution_count": null,
   "id": "9ca7334c-50d9-4570-8041-646f5f5d7346",
   "metadata": {},
   "outputs": [
    {
     "data": {
      "text/html": [
       "<div>\n",
       "<style scoped>\n",
       "    .dataframe tbody tr th:only-of-type {\n",
       "        vertical-align: middle;\n",
       "    }\n",
       "\n",
       "    .dataframe tbody tr th {\n",
       "        vertical-align: top;\n",
       "    }\n",
       "\n",
       "    .dataframe thead th {\n",
       "        text-align: right;\n",
       "    }\n",
       "</style>\n",
       "<table border=\"1\" class=\"dataframe\">\n",
       "  <thead>\n",
       "    <tr style=\"text-align: right;\">\n",
       "      <th></th>\n",
       "      <th>species</th>\n",
       "      <th>proteome_id</th>\n",
       "      <th>organism</th>\n",
       "      <th>taxon_id</th>\n",
       "      <th>num_prots</th>\n",
       "      <th>type</th>\n",
       "    </tr>\n",
       "  </thead>\n",
       "  <tbody>\n",
       "    <tr>\n",
       "      <th>4238</th>\n",
       "      <td>Streptomyces sp.</td>\n",
       "      <td>UP000035653</td>\n",
       "      <td>Streptomyces sp. Mg1</td>\n",
       "      <td>465541</td>\n",
       "      <td>7098</td>\n",
       "      <td>reference</td>\n",
       "    </tr>\n",
       "  </tbody>\n",
       "</table>\n",
       "</div>"
      ],
      "text/plain": [
       "               species  proteome_id              organism taxon_id num_prots  \\\n",
       "4238  Streptomyces sp.  UP000035653  Streptomyces sp. Mg1   465541      7098   \n",
       "\n",
       "           type  \n",
       "4238  reference  "
      ]
     },
     "execution_count": 84,
     "metadata": {},
     "output_type": "execute_result"
    }
   ],
   "source": [
    "proteome_data[proteome_data.species == \"Streptomyces sp.\"]"
   ]
  },
  {
   "cell_type": "code",
   "execution_count": 85,
   "id": "b69ea1f5-91eb-4c58-9f7f-8792c00433b8",
   "metadata": {},
   "outputs": [
    {
     "data": {
      "text/html": [
       "<div>\n",
       "<style scoped>\n",
       "    .dataframe tbody tr th:only-of-type {\n",
       "        vertical-align: middle;\n",
       "    }\n",
       "\n",
       "    .dataframe tbody tr th {\n",
       "        vertical-align: top;\n",
       "    }\n",
       "\n",
       "    .dataframe thead th {\n",
       "        text-align: right;\n",
       "    }\n",
       "</style>\n",
       "<table border=\"1\" class=\"dataframe\">\n",
       "  <thead>\n",
       "    <tr style=\"text-align: right;\">\n",
       "      <th></th>\n",
       "      <th>proteome_id</th>\n",
       "      <th>organism</th>\n",
       "      <th>taxon_id</th>\n",
       "      <th>num_prots</th>\n",
       "      <th>type</th>\n",
       "      <th>Tmax</th>\n",
       "    </tr>\n",
       "    <tr>\n",
       "      <th>species</th>\n",
       "      <th></th>\n",
       "      <th></th>\n",
       "      <th></th>\n",
       "      <th></th>\n",
       "      <th></th>\n",
       "      <th></th>\n",
       "    </tr>\n",
       "  </thead>\n",
       "  <tbody>\n",
       "    <tr>\n",
       "      <th>Photobacterium damselae</th>\n",
       "      <td>UP000242611</td>\n",
       "      <td>Photobacterium damselae subsp. piscicida DI21</td>\n",
       "      <td>1200302</td>\n",
       "      <td>110</td>\n",
       "      <td>reference</td>\n",
       "      <td>26.0</td>\n",
       "    </tr>\n",
       "    <tr>\n",
       "      <th>Actinospica robiniae</th>\n",
       "      <td>UP000019485</td>\n",
       "      <td>Actinospica robiniae DSM 44927</td>\n",
       "      <td>479430</td>\n",
       "      <td>191</td>\n",
       "      <td>reference</td>\n",
       "      <td>33.0</td>\n",
       "    </tr>\n",
       "  </tbody>\n",
       "</table>\n",
       "</div>"
      ],
      "text/plain": [
       "                         proteome_id  \\\n",
       "species                                \n",
       "Photobacterium damselae  UP000242611   \n",
       "Actinospica robiniae     UP000019485   \n",
       "\n",
       "                                                              organism  \\\n",
       "species                                                                  \n",
       "Photobacterium damselae  Photobacterium damselae subsp. piscicida DI21   \n",
       "Actinospica robiniae                    Actinospica robiniae DSM 44927   \n",
       "\n",
       "                        taxon_id num_prots       type  Tmax  \n",
       "species                                                      \n",
       "Photobacterium damselae  1200302       110  reference  26.0  \n",
       "Actinospica robiniae      479430       191  reference  33.0  "
      ]
     },
     "execution_count": 85,
     "metadata": {},
     "output_type": "execute_result"
    }
   ],
   "source": [
    "proteome_data = proteome_data.set_index('species')\n",
    "proteome_data['Tmax'] = df.Temperature\n",
    "proteome_data.head(2)"
   ]
  },
  {
   "cell_type": "code",
   "execution_count": 246,
   "id": "b07e0ad8-5ca8-4a24-96fa-878b32ba8847",
   "metadata": {},
   "outputs": [
    {
     "data": {
      "text/plain": [
       "(array([  0,   0,   3,   9,  13,  77, 313, 748, 628, 397, 139,  98,  64,\n",
       "         74,  58,  47,  40,  28,  37,  29,  18,   2,   3]),\n",
       " array([  0.,   5.,  10.,  15.,  20.,  25.,  30.,  35.,  40.,  45.,  50.,\n",
       "         55.,  60.,  65.,  70.,  75.,  80.,  85.,  90.,  95., 100., 105.,\n",
       "        110., 115.]))"
      ]
     },
     "execution_count": 246,
     "metadata": {},
     "output_type": "execute_result"
    }
   ],
   "source": [
    "# I downloaded the 'reference' and 'other' proteome IDs from uniprot.\n",
    "# First split the species into bins\n",
    "hist, bin_edges = np.histogram(proteome_data.Tmax, bins=np.arange(0,proteome_data.Tmax.max()+5,5))\n",
    "hist, bin_edges"
   ]
  },
  {
   "cell_type": "code",
   "execution_count": null,
   "id": "c8f6a53b-1549-498a-93bf-acf9dd8f8b8a",
   "metadata": {},
   "outputs": [
    {
     "data": {
      "text/plain": [
       "103.0"
      ]
     },
     "execution_count": 87,
     "metadata": {},
     "output_type": "execute_result"
    }
   ],
   "source": [
    "proteome_data.Tmax.max()"
   ]
  },
  {
   "cell_type": "code",
   "execution_count": null,
   "id": "bff3669a-5b70-4790-baab-9fdffe7d3f86",
   "metadata": {},
   "outputs": [],
   "source": [
    "df.sample("
   ]
  },
  {
   "cell_type": "code",
   "execution_count": 106,
   "id": "71915da4-5291-475a-bfe7-2c8b490bc9df",
   "metadata": {},
   "outputs": [
    {
     "name": "stdout",
     "output_type": "stream",
     "text": [
      "621\n"
     ]
    },
    {
     "data": {
      "text/html": [
       "<div>\n",
       "<style scoped>\n",
       "    .dataframe tbody tr th:only-of-type {\n",
       "        vertical-align: middle;\n",
       "    }\n",
       "\n",
       "    .dataframe tbody tr th {\n",
       "        vertical-align: top;\n",
       "    }\n",
       "\n",
       "    .dataframe thead th {\n",
       "        text-align: right;\n",
       "    }\n",
       "</style>\n",
       "<table border=\"1\" class=\"dataframe\">\n",
       "  <thead>\n",
       "    <tr style=\"text-align: right;\">\n",
       "      <th></th>\n",
       "      <th>proteome_id</th>\n",
       "      <th>organism</th>\n",
       "      <th>taxon_id</th>\n",
       "      <th>num_prots</th>\n",
       "      <th>type</th>\n",
       "      <th>Tmax</th>\n",
       "    </tr>\n",
       "    <tr>\n",
       "      <th>species</th>\n",
       "      <th></th>\n",
       "      <th></th>\n",
       "      <th></th>\n",
       "      <th></th>\n",
       "      <th></th>\n",
       "      <th></th>\n",
       "    </tr>\n",
       "  </thead>\n",
       "  <tbody>\n",
       "    <tr>\n",
       "      <th>Polaribacter irgensii</th>\n",
       "      <td>UP000003053</td>\n",
       "      <td>Polaribacter irgensii 23-P</td>\n",
       "      <td>313594</td>\n",
       "      <td>2556</td>\n",
       "      <td>reference</td>\n",
       "      <td>4.0</td>\n",
       "    </tr>\n",
       "    <tr>\n",
       "      <th>Octadecabacter arcticus</th>\n",
       "      <td>UP000004688</td>\n",
       "      <td>Octadecabacter arcticus 238</td>\n",
       "      <td>391616</td>\n",
       "      <td>4331</td>\n",
       "      <td>reference</td>\n",
       "      <td>4.0</td>\n",
       "    </tr>\n",
       "  </tbody>\n",
       "</table>\n",
       "</div>"
      ],
      "text/plain": [
       "                         proteome_id                     organism taxon_id  \\\n",
       "species                                                                      \n",
       "Polaribacter irgensii    UP000003053   Polaribacter irgensii 23-P   313594   \n",
       "Octadecabacter arcticus  UP000004688  Octadecabacter arcticus 238   391616   \n",
       "\n",
       "                        num_prots       type  Tmax  \n",
       "species                                             \n",
       "Polaribacter irgensii        2556  reference   4.0  \n",
       "Octadecabacter arcticus      4331  reference   4.0  "
      ]
     },
     "execution_count": 106,
     "metadata": {},
     "output_type": "execute_result"
    }
   ],
   "source": [
    "# randomly sample 50 species from each bin\n",
    "max_per_bin = 50\n",
    "subsampled = []\n",
    "for i in range(len(bin_edges)-1):\n",
    "    subsample = proteome_data[\n",
    "            (proteome_data.Tmax >= bin_edges[i]) & \n",
    "            (proteome_data.Tmax < bin_edges[i+1])]\n",
    "    if len(subsample) > max_per_bin:\n",
    "        subsample = subsample.sample(max_per_bin)\n",
    "    subsampled.append(subsample)\n",
    "subsampled = pd.concat(subsampled)\n",
    "print(len(subsampled))\n",
    "subsampled.head(2)"
   ]
  },
  {
   "cell_type": "code",
   "execution_count": 89,
   "id": "10c6de1e-a4a1-405e-b954-6273c6c31c6a",
   "metadata": {},
   "outputs": [
    {
     "data": {
      "text/plain": [
       "67"
      ]
     },
     "execution_count": 89,
     "metadata": {},
     "output_type": "execute_result"
    }
   ],
   "source": [
    "len(proteome_data[proteome_data.Tmax > 70])"
   ]
  },
  {
   "cell_type": "code",
   "execution_count": 272,
   "id": "e04ba98c-0419-48c6-9c81-eafe0dc1af3e",
   "metadata": {},
   "outputs": [
    {
     "data": {
      "image/png": "[encoded data removed]",
      "text/plain": [
       "<Figure size 500x400 with 1 Axes>"
      ]
     },
     "metadata": {},
     "output_type": "display_data"
    }
   ],
   "source": [
    "f, ax = plt.subplots(figsize=(5,4))\n",
    "ax = proteome_data.Tmax.hist(bins=bin_edges)\n",
    "ax.axhline(50, ls='--', c='gray')\n",
    "ax.set_xlabel(\"Bacdive Org. Growth Temperature Max (OGTmax)\")\n",
    "plt.tight_layout()"
   ]
  },
  {
   "cell_type": "code",
   "execution_count": 273,
   "id": "4dc723a6-ceb0-49a4-beeb-21725daec99c",
   "metadata": {},
   "outputs": [
    {
     "data": {
      "image/png": "[encoded data removed]",
      "text/plain": [
       "<Figure size 500x400 with 1 Axes>"
      ]
     },
     "metadata": {},
     "output_type": "display_data"
    }
   ],
   "source": [
    "f, ax = plt.subplots(figsize=(5,4))\n",
    "ax = subsampled.Tmax.hist(bins=bin_edges, ax=ax)\n",
    "ax.set_xlabel(\"Bacdive OGTmax - Max 50 species per 5'C\")\n",
    "plt.tight_layout()"
   ]
  },
  {
   "cell_type": "code",
   "execution_count": 109,
   "id": "29b725bb-73a2-48e0-b10b-9179fd417fd9",
   "metadata": {},
   "outputs": [
    {
     "name": "stdout",
     "output_type": "stream",
     "text": [
      "hyperthermophillic 56\n",
      "thermophillic 246\n",
      "mesophillic 223\n",
      "cryophillic 96\n"
     ]
    }
   ],
   "source": [
    "t_ranges = {'hyperthermophillic': (75,110),\n",
    " 'thermophillic': (45, 75),\n",
    " 'mesophillic': (25, 45),\n",
    " 'cryophillic': (0, 25)}\n",
    "for t_type, (low, high) in t_ranges.items():\n",
    "    print(t_type, len(subsampled[(subsampled.Tmax > low) & \n",
    "            (subsampled.Tmax <= high)]))"
   ]
  },
  {
   "cell_type": "code",
   "execution_count": 122,
   "id": "cfd593c8-8331-4ace-b578-ee4eed154b62",
   "metadata": {},
   "outputs": [
    {
     "name": "stdout",
     "output_type": "stream",
     "text": [
      "65.0 70.0 39 11\n",
      "70.0 75.0 37 13\n",
      "75.0 80.0 15 35\n",
      "80.0 85.0 21 29\n",
      "85.0 90.0 13 37\n",
      "90.0 95.0 4 18\n",
      "95.0 100.0 9 24\n",
      "100.0 105.0 2 3\n",
      "170\n"
     ]
    },
    {
     "data": {
      "text/html": [
       "<div>\n",
       "<style scoped>\n",
       "    .dataframe tbody tr th:only-of-type {\n",
       "        vertical-align: middle;\n",
       "    }\n",
       "\n",
       "    .dataframe tbody tr th {\n",
       "        vertical-align: top;\n",
       "    }\n",
       "\n",
       "    .dataframe thead th {\n",
       "        text-align: right;\n",
       "    }\n",
       "</style>\n",
       "<table border=\"1\" class=\"dataframe\">\n",
       "  <thead>\n",
       "    <tr style=\"text-align: right;\">\n",
       "      <th></th>\n",
       "      <th>designation_header</th>\n",
       "      <th>strain_number_header</th>\n",
       "      <th>Temperature</th>\n",
       "    </tr>\n",
       "    <tr>\n",
       "      <th>species</th>\n",
       "      <th></th>\n",
       "      <th></th>\n",
       "      <th></th>\n",
       "    </tr>\n",
       "  </thead>\n",
       "  <tbody>\n",
       "    <tr>\n",
       "      <th>Thermohalobacter berrensis</th>\n",
       "      <td>IC-189</td>\n",
       "      <td>DSM 26700, CNCM 105955, CTT 3</td>\n",
       "      <td>65.0</td>\n",
       "    </tr>\n",
       "    <tr>\n",
       "      <th>Ureibacillus composti</th>\n",
       "      <td>HC145</td>\n",
       "      <td>DSM 17951, KACC 11361</td>\n",
       "      <td>65.0</td>\n",
       "    </tr>\n",
       "  </tbody>\n",
       "</table>\n",
       "</div>"
      ],
      "text/plain": [
       "                           designation_header           strain_number_header  \\\n",
       "species                                                                        \n",
       "Thermohalobacter berrensis             IC-189  DSM 26700, CNCM 105955, CTT 3   \n",
       "Ureibacillus composti                   HC145          DSM 17951, KACC 11361   \n",
       "\n",
       "                            Temperature  \n",
       "species                                  \n",
       "Thermohalobacter berrensis         65.0  \n",
       "Ureibacillus composti              65.0  "
      ]
     },
     "execution_count": 122,
     "metadata": {},
     "output_type": "execute_result"
    }
   ],
   "source": [
    "# supplement non-full bins with 'other' proteomes\n",
    "supp_species = []\n",
    "# skip the first few bins\n",
    "for i in range(5, len(bin_edges)-1):\n",
    "    low, high = bin_edges[i:i+2]\n",
    "    num_species = len(subsampled[(subsampled.Tmax >= low) & \n",
    "            (subsampled.Tmax < high)])\n",
    "    if num_species < max_per_bin:\n",
    "        subsample = df[(df.Temperature >= low) & \n",
    "                       (df.Temperature < high)]\n",
    "        n = max_per_bin - num_species\n",
    "        n = len(subsample) if len(subsample) < n else n\n",
    "        print(low, high, num_species, n)\n",
    "        supp_species.append(subsample.sample(n))\n",
    "\n",
    "supp_species = pd.concat(supp_species)\n",
    "print(len(supp_species))\n",
    "supp_species.head(2)"
   ]
  },
  {
   "cell_type": "code",
   "execution_count": 124,
   "id": "d3afcd77-4d56-4abe-a499-ef6a28a12446",
   "metadata": {},
   "outputs": [],
   "source": [
    "supp_species.to_csv(f'{data_dir}/species_sets/supp_species.tsv', sep='\\t')"
   ]
  },
  {
   "cell_type": "code",
   "execution_count": 137,
   "id": "795a8ba8-4a4a-4803-80c7-d80ef602e68f",
   "metadata": {},
   "outputs": [
    {
     "name": "stdout",
     "output_type": "stream",
     "text": [
      "114\n"
     ]
    },
    {
     "data": {
      "text/html": [
       "<div>\n",
       "<style scoped>\n",
       "    .dataframe tbody tr th:only-of-type {\n",
       "        vertical-align: middle;\n",
       "    }\n",
       "\n",
       "    .dataframe tbody tr th {\n",
       "        vertical-align: top;\n",
       "    }\n",
       "\n",
       "    .dataframe thead th {\n",
       "        text-align: right;\n",
       "    }\n",
       "</style>\n",
       "<table border=\"1\" class=\"dataframe\">\n",
       "  <thead>\n",
       "    <tr style=\"text-align: right;\">\n",
       "      <th></th>\n",
       "      <th>species</th>\n",
       "      <th>proteome_id</th>\n",
       "      <th>organism</th>\n",
       "      <th>taxon_id</th>\n",
       "      <th>num_prots</th>\n",
       "      <th>type</th>\n",
       "    </tr>\n",
       "  </thead>\n",
       "  <tbody>\n",
       "    <tr>\n",
       "      <th>0</th>\n",
       "      <td>Spirochaeta thermophila</td>\n",
       "      <td>UP000001296</td>\n",
       "      <td>Spirochaeta thermophila (strain ATCC 49972 / D...</td>\n",
       "      <td>665571</td>\n",
       "      <td>2199</td>\n",
       "      <td>other</td>\n",
       "    </tr>\n",
       "    <tr>\n",
       "      <th>1</th>\n",
       "      <td>Thermoanaerobacter wiegelii</td>\n",
       "      <td>UP000008276</td>\n",
       "      <td>Thermoanaerobacter wiegelii Rt8.B1</td>\n",
       "      <td>697303</td>\n",
       "      <td>2487</td>\n",
       "      <td>other</td>\n",
       "    </tr>\n",
       "  </tbody>\n",
       "</table>\n",
       "</div>"
      ],
      "text/plain": [
       "                       species  proteome_id  \\\n",
       "0      Spirochaeta thermophila  UP000001296   \n",
       "1  Thermoanaerobacter wiegelii  UP000008276   \n",
       "\n",
       "                                            organism  taxon_id  num_prots  \\\n",
       "0  Spirochaeta thermophila (strain ATCC 49972 / D...    665571       2199   \n",
       "1                 Thermoanaerobacter wiegelii Rt8.B1    697303       2487   \n",
       "\n",
       "    type  \n",
       "0  other  \n",
       "1  other  "
      ]
     },
     "execution_count": 137,
     "metadata": {},
     "output_type": "execute_result"
    }
   ],
   "source": [
    "supp_ps = pd.read_table(f\"{data_dir}/species_sets/supp_species_other_proteomes.tsv\",\n",
    "                        names=['species', 'proteome_id', 'organism', 'taxon_id', 'num_prots'])\n",
    "supp_ps['type'] = 'other'\n",
    "print(len(supp_ps))\n",
    "supp_ps.head(2)"
   ]
  },
  {
   "cell_type": "code",
   "execution_count": 130,
   "id": "8931dd0c-1e60-417e-8e6a-92140c0af6a1",
   "metadata": {},
   "outputs": [
    {
     "data": {
      "text/plain": [
       "Geobacillus stearothermophilus       7\n",
       "Geobacillus thermoleovorans          3\n",
       "Geobacillus kaustophilus             3\n",
       "Thermococcus paralvinellae           3\n",
       "Thermococcus litoralis               3\n",
       "                                    ..\n",
       "Thermococcus cleftensis              1\n",
       "Dictyoglomus thermophilum            1\n",
       "Thermococcus barossii                1\n",
       "Methanocaldococcus bathoardescens    1\n",
       "Aeropyrum pernix                     1\n",
       "Name: species, Length: 81, dtype: int64"
      ]
     },
     "execution_count": 130,
     "metadata": {},
     "output_type": "execute_result"
    }
   ],
   "source": [
    "supp_ps.species.value_counts()"
   ]
  },
  {
   "cell_type": "code",
   "execution_count": 138,
   "id": "54bd54d2-7698-4fbd-a0ef-2fb251a96e5a",
   "metadata": {},
   "outputs": [
    {
     "name": "stdout",
     "output_type": "stream",
     "text": [
      "81 81\n",
      "81\n"
     ]
    }
   ],
   "source": [
    "# # for proteomes with duplicate species, choose a proteome with an average # proteins\n",
    "supp_ps = supp_ps.sort_values('num_prots')\n",
    "representatives = supp_ps[['species', 'proteome_id']].groupby(['species'])['proteome_id'].agg(lambda x: x[int(len(x) / 2)] if isinstance(x, np.ndarray) else x)\n",
    "representatives = representatives.apply(lambda x: x[int(len(x) / 2)] if isinstance(x, np.ndarray) else x)\n",
    "supp_ps = supp_ps[supp_ps['proteome_id'].isin(representatives.reset_index().proteome_id)]\n",
    "print(len(supp_ps), len(representatives))\n",
    "supp_ps = supp_ps.drop_duplicates(subset='proteome_id')\n",
    "print(len(supp_ps))\n",
    "# proteome_data.head(2)\n",
    "# representatives"
   ]
  },
  {
   "cell_type": "code",
   "execution_count": 139,
   "id": "d9b09b03-a5fa-4950-b212-c4ecf21a96fa",
   "metadata": {},
   "outputs": [
    {
     "data": {
      "text/html": [
       "<div>\n",
       "<style scoped>\n",
       "    .dataframe tbody tr th:only-of-type {\n",
       "        vertical-align: middle;\n",
       "    }\n",
       "\n",
       "    .dataframe tbody tr th {\n",
       "        vertical-align: top;\n",
       "    }\n",
       "\n",
       "    .dataframe thead th {\n",
       "        text-align: right;\n",
       "    }\n",
       "</style>\n",
       "<table border=\"1\" class=\"dataframe\">\n",
       "  <thead>\n",
       "    <tr style=\"text-align: right;\">\n",
       "      <th></th>\n",
       "      <th>proteome_id</th>\n",
       "      <th>organism</th>\n",
       "      <th>taxon_id</th>\n",
       "      <th>num_prots</th>\n",
       "      <th>type</th>\n",
       "      <th>Tmax</th>\n",
       "    </tr>\n",
       "    <tr>\n",
       "      <th>species</th>\n",
       "      <th></th>\n",
       "      <th></th>\n",
       "      <th></th>\n",
       "      <th></th>\n",
       "      <th></th>\n",
       "      <th></th>\n",
       "    </tr>\n",
       "  </thead>\n",
       "  <tbody>\n",
       "    <tr>\n",
       "      <th>Archaeoglobus veneficus</th>\n",
       "      <td>UP000885652</td>\n",
       "      <td>Archaeoglobus veneficus</td>\n",
       "      <td>58290</td>\n",
       "      <td>1040</td>\n",
       "      <td>other</td>\n",
       "      <td>75.0</td>\n",
       "    </tr>\n",
       "    <tr>\n",
       "      <th>Methanocaldococcus jannaschii</th>\n",
       "      <td>UP000645676</td>\n",
       "      <td>Methanocaldococcus jannaschii</td>\n",
       "      <td>2190</td>\n",
       "      <td>1197</td>\n",
       "      <td>other</td>\n",
       "      <td>80.0</td>\n",
       "    </tr>\n",
       "  </tbody>\n",
       "</table>\n",
       "</div>"
      ],
      "text/plain": [
       "                               proteome_id                       organism  \\\n",
       "species                                                                     \n",
       "Archaeoglobus veneficus        UP000885652        Archaeoglobus veneficus   \n",
       "Methanocaldococcus jannaschii  UP000645676  Methanocaldococcus jannaschii   \n",
       "\n",
       "                               taxon_id  num_prots   type  Tmax  \n",
       "species                                                          \n",
       "Archaeoglobus veneficus           58290       1040  other  75.0  \n",
       "Methanocaldococcus jannaschii      2190       1197  other  80.0  "
      ]
     },
     "execution_count": 139,
     "metadata": {},
     "output_type": "execute_result"
    }
   ],
   "source": [
    "supp_ps = supp_ps.set_index('species')\n",
    "supp_ps['Tmax'] = supp_species.Temperature\n",
    "supp_ps.head(2)"
   ]
  },
  {
   "cell_type": "code",
   "execution_count": 140,
   "id": "299f3cbb-cca3-4be1-87c4-f86061de6260",
   "metadata": {},
   "outputs": [
    {
     "data": {
      "text/html": [
       "<div>\n",
       "<style scoped>\n",
       "    .dataframe tbody tr th:only-of-type {\n",
       "        vertical-align: middle;\n",
       "    }\n",
       "\n",
       "    .dataframe tbody tr th {\n",
       "        vertical-align: top;\n",
       "    }\n",
       "\n",
       "    .dataframe thead th {\n",
       "        text-align: right;\n",
       "    }\n",
       "</style>\n",
       "<table border=\"1\" class=\"dataframe\">\n",
       "  <thead>\n",
       "    <tr style=\"text-align: right;\">\n",
       "      <th></th>\n",
       "      <th>proteome_id</th>\n",
       "      <th>organism</th>\n",
       "      <th>taxon_id</th>\n",
       "      <th>num_prots</th>\n",
       "      <th>type</th>\n",
       "      <th>Tmax</th>\n",
       "    </tr>\n",
       "    <tr>\n",
       "      <th>species</th>\n",
       "      <th></th>\n",
       "      <th></th>\n",
       "      <th></th>\n",
       "      <th></th>\n",
       "      <th></th>\n",
       "      <th></th>\n",
       "    </tr>\n",
       "  </thead>\n",
       "  <tbody>\n",
       "    <tr>\n",
       "      <th>Photobacterium damselae</th>\n",
       "      <td>UP000242611</td>\n",
       "      <td>Photobacterium damselae subsp. piscicida DI21</td>\n",
       "      <td>1200302</td>\n",
       "      <td>110</td>\n",
       "      <td>reference</td>\n",
       "      <td>26.0</td>\n",
       "    </tr>\n",
       "    <tr>\n",
       "      <th>Actinospica robiniae</th>\n",
       "      <td>UP000019485</td>\n",
       "      <td>Actinospica robiniae DSM 44927</td>\n",
       "      <td>479430</td>\n",
       "      <td>191</td>\n",
       "      <td>reference</td>\n",
       "      <td>33.0</td>\n",
       "    </tr>\n",
       "  </tbody>\n",
       "</table>\n",
       "</div>"
      ],
      "text/plain": [
       "                         proteome_id  \\\n",
       "species                                \n",
       "Photobacterium damselae  UP000242611   \n",
       "Actinospica robiniae     UP000019485   \n",
       "\n",
       "                                                              organism  \\\n",
       "species                                                                  \n",
       "Photobacterium damselae  Photobacterium damselae subsp. piscicida DI21   \n",
       "Actinospica robiniae                    Actinospica robiniae DSM 44927   \n",
       "\n",
       "                        taxon_id num_prots       type  Tmax  \n",
       "species                                                      \n",
       "Photobacterium damselae  1200302       110  reference  26.0  \n",
       "Actinospica robiniae      479430       191  reference  33.0  "
      ]
     },
     "execution_count": 140,
     "metadata": {},
     "output_type": "execute_result"
    }
   ],
   "source": [
    "proteome_data.head(2)"
   ]
  },
  {
   "cell_type": "code",
   "execution_count": 143,
   "id": "cfbfe167-c4aa-43fa-a8c2-33b646df753e",
   "metadata": {},
   "outputs": [],
   "source": [
    "subsampled = pd.concat([subsampled, supp_ps])"
   ]
  },
  {
   "cell_type": "code",
   "execution_count": 165,
   "id": "ad4223f9-d7ce-4315-89e6-72f5bd83ab6f",
   "metadata": {},
   "outputs": [],
   "source": [
    "subsampled = subsampled.drop_duplicates(subset='taxon_id')"
   ]
  },
  {
   "cell_type": "code",
   "execution_count": 144,
   "id": "52bb2431-a711-468a-b709-d924ff569149",
   "metadata": {},
   "outputs": [
    {
     "name": "stdout",
     "output_type": "stream",
     "text": [
      "hyperthermophillic 118\n",
      "thermophillic 265\n",
      "mesophillic 223\n",
      "cryophillic 96\n"
     ]
    }
   ],
   "source": [
    "t_ranges = {'hyperthermophillic': (75,110),\n",
    " 'thermophillic': (45, 75),\n",
    " 'mesophillic': (25, 45),\n",
    " 'cryophillic': (0, 25)}\n",
    "for t_type, (low, high) in t_ranges.items():\n",
    "    print(t_type, len(subsampled[(subsampled.Tmax > low) & \n",
    "            (subsampled.Tmax <= high)]))"
   ]
  },
  {
   "cell_type": "code",
   "execution_count": 145,
   "id": "f276ac1d-7dbc-4e42-9ad6-d45dcb95aacd",
   "metadata": {},
   "outputs": [
    {
     "data": {
      "text/plain": [
       "<AxesSubplot: >"
      ]
     },
     "execution_count": 145,
     "metadata": {},
     "output_type": "execute_result"
    },
    {
     "data": {
      "image/png": "[encoded data removed]",
      "text/plain": [
       "<Figure size 640x480 with 1 Axes>"
      ]
     },
     "metadata": {},
     "output_type": "display_data"
    }
   ],
   "source": [
    "subsampled.Tmax.hist(bins=bin_edges)"
   ]
  },
  {
   "cell_type": "markdown",
   "id": "04bf5a88-0ea4-4398-a10e-faee68d5192c",
   "metadata": {},
   "source": [
    "### Download these proteomes\n",
    "I had started downloading all the reference proteomes, but it was taking much too long"
   ]
  },
  {
   "cell_type": "code",
   "execution_count": 147,
   "id": "96c6fe5e-83e2-424c-9e6a-51dcb8b06ef6",
   "metadata": {},
   "outputs": [
    {
     "data": {
      "text/html": [
       "<div>\n",
       "<style scoped>\n",
       "    .dataframe tbody tr th:only-of-type {\n",
       "        vertical-align: middle;\n",
       "    }\n",
       "\n",
       "    .dataframe tbody tr th {\n",
       "        vertical-align: top;\n",
       "    }\n",
       "\n",
       "    .dataframe thead th {\n",
       "        text-align: right;\n",
       "    }\n",
       "</style>\n",
       "<table border=\"1\" class=\"dataframe\">\n",
       "  <thead>\n",
       "    <tr style=\"text-align: right;\">\n",
       "      <th></th>\n",
       "      <th>num_prots</th>\n",
       "      <th>taxon_id</th>\n",
       "    </tr>\n",
       "  </thead>\n",
       "  <tbody>\n",
       "    <tr>\n",
       "      <th>0</th>\n",
       "      <td>2813</td>\n",
       "      <td>1004304</td>\n",
       "    </tr>\n",
       "    <tr>\n",
       "      <th>1</th>\n",
       "      <td>1811</td>\n",
       "      <td>1006576</td>\n",
       "    </tr>\n",
       "  </tbody>\n",
       "</table>\n",
       "</div>"
      ],
      "text/plain": [
       "   num_prots  taxon_id\n",
       "0       2813   1004304\n",
       "1       1811   1006576"
      ]
     },
     "execution_count": 147,
     "metadata": {},
     "output_type": "execute_result"
    }
   ],
   "source": [
    "so_far = pd.read_csv(f\"{data_dir}/downloaded_so_far.txt\")\n",
    "so_far.head(2)"
   ]
  },
  {
   "cell_type": "code",
   "execution_count": 149,
   "id": "3c31608e-a5ec-4091-8a10-43efc41c0df5",
   "metadata": {},
   "outputs": [
    {
     "data": {
      "text/plain": [
       "573"
      ]
     },
     "execution_count": 149,
     "metadata": {},
     "output_type": "execute_result"
    }
   ],
   "source": [
    "len(so_far)"
   ]
  },
  {
   "cell_type": "code",
   "execution_count": 169,
   "id": "d9e853a4-3db0-410a-9b88-a93325ca72f5",
   "metadata": {},
   "outputs": [
    {
     "data": {
      "text/plain": [
       "326"
      ]
     },
     "execution_count": 169,
     "metadata": {},
     "output_type": "execute_result"
    }
   ],
   "source": [
    "len(subsampled[subsampled.taxon_id.isin(so_far.taxon_id)])"
   ]
  },
  {
   "cell_type": "code",
   "execution_count": 170,
   "id": "725631a4-ece8-4919-b218-793e8394150e",
   "metadata": {},
   "outputs": [
    {
     "data": {
      "text/plain": [
       "374"
      ]
     },
     "execution_count": 170,
     "metadata": {},
     "output_type": "execute_result"
    }
   ],
   "source": [
    "len(subsampled[~subsampled.taxon_id.isin(so_far.taxon_id)])"
   ]
  },
  {
   "cell_type": "code",
   "execution_count": 155,
   "id": "f4440397-8526-4250-8641-fd1c25781425",
   "metadata": {},
   "outputs": [
    {
     "data": {
      "text/html": [
       "<div>\n",
       "<style scoped>\n",
       "    .dataframe tbody tr th:only-of-type {\n",
       "        vertical-align: middle;\n",
       "    }\n",
       "\n",
       "    .dataframe tbody tr th {\n",
       "        vertical-align: top;\n",
       "    }\n",
       "\n",
       "    .dataframe thead th {\n",
       "        text-align: right;\n",
       "    }\n",
       "</style>\n",
       "<table border=\"1\" class=\"dataframe\">\n",
       "  <thead>\n",
       "    <tr style=\"text-align: right;\">\n",
       "      <th></th>\n",
       "      <th>proteome_id</th>\n",
       "      <th>organism</th>\n",
       "      <th>taxon_id</th>\n",
       "      <th>num_prots</th>\n",
       "      <th>type</th>\n",
       "      <th>Tmax</th>\n",
       "    </tr>\n",
       "    <tr>\n",
       "      <th>species</th>\n",
       "      <th></th>\n",
       "      <th></th>\n",
       "      <th></th>\n",
       "      <th></th>\n",
       "      <th></th>\n",
       "      <th></th>\n",
       "    </tr>\n",
       "  </thead>\n",
       "  <tbody>\n",
       "    <tr>\n",
       "      <th>Serratia oryzae</th>\n",
       "      <td>UP000216021</td>\n",
       "      <td>Serratia oryzae</td>\n",
       "      <td>2034155</td>\n",
       "      <td>4282</td>\n",
       "      <td>reference</td>\n",
       "      <td>45.0</td>\n",
       "    </tr>\n",
       "  </tbody>\n",
       "</table>\n",
       "</div>"
      ],
      "text/plain": [
       "                 proteome_id         organism taxon_id num_prots       type  \\\n",
       "species                                                                       \n",
       "Serratia oryzae  UP000216021  Serratia oryzae  2034155      4282  reference   \n",
       "\n",
       "                 Tmax  \n",
       "species                \n",
       "Serratia oryzae  45.0  "
      ]
     },
     "execution_count": 155,
     "metadata": {},
     "output_type": "execute_result"
    }
   ],
   "source": [
    "proteome_data[proteome_data.taxon_id == 2034155]"
   ]
  },
  {
   "cell_type": "code",
   "execution_count": 168,
   "id": "71998269-0a33-4010-8f98-ba3de4283431",
   "metadata": {},
   "outputs": [],
   "source": [
    "subsampled[~subsampled.taxon_id.isin(so_far.taxon_id)].to_csv(f\"{data_dir}/species_sets/proteomes_to_download.tsv\", sep='\\t')"
   ]
  },
  {
   "cell_type": "code",
   "execution_count": 172,
   "id": "1b8cf68f-585a-4c15-8d62-aae17c480e7b",
   "metadata": {},
   "outputs": [],
   "source": [
    "subsampled.to_csv(\"bacdive_uniprot_subsampled_by_T_bins.csv\")"
   ]
  },
  {
   "cell_type": "markdown",
   "id": "fa6cf4db-1335-42c6-a44a-9ff352fd6bcc",
   "metadata": {},
   "source": [
    "### Re-sample proteomes\n",
    "- Rather than just take the highest OGT for each uniref50 cluster, take representatives from bins"
   ]
  },
  {
   "cell_type": "code",
   "execution_count": 220,
   "id": "d14b9c85-8183-4dfa-9a3a-53875fcdf1c2",
   "metadata": {},
   "outputs": [],
   "source": [
    "subsampled = pd.read_csv(\"/projects/robustmicrob/jlaw/projects/prot_stability_engineering/notebooks/testing/bacdive_uniprot_subsampled_by_T_bins.csv\")"
   ]
  },
  {
   "cell_type": "code",
   "execution_count": 222,
   "id": "426cbb7b-3b32-45ce-8c36-9a17f2142b18",
   "metadata": {},
   "outputs": [],
   "source": [
    "data_dir = \"/projects/robustmicrob/jlaw/inputs/species/bacdive\""
   ]
  },
  {
   "cell_type": "code",
   "execution_count": 223,
   "id": "b2811dd2-40c6-40b3-bc1c-34445e78e9d0",
   "metadata": {},
   "outputs": [
    {
     "name": "stdout",
     "output_type": "stream",
     "text": [
      "3170799\n",
      "2299499\n"
     ]
    }
   ],
   "source": [
    "df_seqs = pd.read_table(f\"{data_dir}/proteomes/proteome_sequences.tsv.gz\")\n",
    "print(len(df_seqs))\n",
    "df_seqs = df_seqs[df_seqs['Organism (ID)'].isin(subsampled.taxon_id)]\n",
    "print(len(df_seqs))"
   ]
  },
  {
   "cell_type": "code",
   "execution_count": 182,
   "id": "915bc997-0dbb-4a81-990f-72e4a43cd93e",
   "metadata": {},
   "outputs": [
    {
     "data": {
      "text/html": [
       "<div>\n",
       "<style scoped>\n",
       "    .dataframe tbody tr th:only-of-type {\n",
       "        vertical-align: middle;\n",
       "    }\n",
       "\n",
       "    .dataframe tbody tr th {\n",
       "        vertical-align: top;\n",
       "    }\n",
       "\n",
       "    .dataframe thead th {\n",
       "        text-align: right;\n",
       "    }\n",
       "</style>\n",
       "<table border=\"1\" class=\"dataframe\">\n",
       "  <thead>\n",
       "    <tr style=\"text-align: right;\">\n",
       "      <th></th>\n",
       "      <th>Entry</th>\n",
       "      <th>Reviewed</th>\n",
       "      <th>Length</th>\n",
       "      <th>Organism (ID)</th>\n",
       "      <th>Sequence</th>\n",
       "    </tr>\n",
       "  </thead>\n",
       "  <tbody>\n",
       "    <tr>\n",
       "      <th>0</th>\n",
       "      <td>G0EEL0</td>\n",
       "      <td>unreviewed</td>\n",
       "      <td>1219</td>\n",
       "      <td>694429</td>\n",
       "      <td>MAKLTLLYEAGCPNCRGRIDEERLIKGLPCWECLPLLPEAERYLSG...</td>\n",
       "    </tr>\n",
       "    <tr>\n",
       "      <th>1</th>\n",
       "      <td>G0EHD7</td>\n",
       "      <td>unreviewed</td>\n",
       "      <td>535</td>\n",
       "      <td>694429</td>\n",
       "      <td>MVKYVFVTGGVLSSVGKGITTASIGLLLKSRGYNVTAIKIDPYINV...</td>\n",
       "    </tr>\n",
       "  </tbody>\n",
       "</table>\n",
       "</div>"
      ],
      "text/plain": [
       "    Entry    Reviewed  Length  Organism (ID)  \\\n",
       "0  G0EEL0  unreviewed    1219         694429   \n",
       "1  G0EHD7  unreviewed     535         694429   \n",
       "\n",
       "                                            Sequence  \n",
       "0  MAKLTLLYEAGCPNCRGRIDEERLIKGLPCWECLPLLPEAERYLSG...  \n",
       "1  MVKYVFVTGGVLSSVGKGITTASIGLLLKSRGYNVTAIKIDPYINV...  "
      ]
     },
     "execution_count": 182,
     "metadata": {},
     "output_type": "execute_result"
    }
   ],
   "source": [
    "df_seqs.head(2)"
   ]
  },
  {
   "cell_type": "code",
   "execution_count": 224,
   "id": "6e0e0547-6c64-4d20-9a14-68f0183f2d0c",
   "metadata": {},
   "outputs": [
    {
     "data": {
      "text/plain": [
       "(700, 700)"
      ]
     },
     "execution_count": 224,
     "metadata": {},
     "output_type": "execute_result"
    }
   ],
   "source": [
    "df_so_far = subsampled[subsampled.taxon_id.isin(df_seqs['Organism (ID)'].unique())]\n",
    "len(subsampled), len(df_so_far)"
   ]
  },
  {
   "cell_type": "code",
   "execution_count": 225,
   "id": "22ec8dfa-ff71-460f-b488-676c3bd08d61",
   "metadata": {},
   "outputs": [
    {
     "data": {
      "text/plain": [
       "1291556    11276\n",
       "1073253    10304\n",
       "2530368     9016\n",
       "1283301     9009\n",
       "1287878     8953\n",
       "           ...  \n",
       "1505727     1238\n",
       "334771      1235\n",
       "2190        1197\n",
       "58290       1040\n",
       "342610       402\n",
       "Name: Organism (ID), Length: 700, dtype: int64"
      ]
     },
     "execution_count": 225,
     "metadata": {},
     "output_type": "execute_result"
    }
   ],
   "source": [
    "df_seqs['Organism (ID)'].value_counts()"
   ]
  },
  {
   "cell_type": "code",
   "execution_count": 226,
   "id": "cb099850-cdc8-460f-be3b-7e4e3c9846f9",
   "metadata": {},
   "outputs": [
    {
     "name": "stdout",
     "output_type": "stream",
     "text": [
      "2260674\n"
     ]
    }
   ],
   "source": [
    "df_seqs = df_seqs[(df_seqs.Length > 50) & (df_seqs.Length < 1500)]\n",
    "print(len(df_seqs))"
   ]
  },
  {
   "cell_type": "code",
   "execution_count": 227,
   "id": "1143b1cf-0a50-4d8a-b107-0a8585c0436a",
   "metadata": {},
   "outputs": [
    {
     "name": "stdout",
     "output_type": "stream",
     "text": [
      "removing sequences with non-natural AAs: 2259681 remaining\n"
     ]
    }
   ],
   "source": [
    "import re\n",
    "aa_checker = re.compile('^[acdefghiklmnpqrstvwy]*$', re.I)\n",
    "df_seqs = df_seqs[df_seqs.Sequence.apply(lambda seq: aa_checker.search(seq) is not None)]\n",
    "print(f\"removing sequences with non-natural AAs: {len(df_seqs)} remaining\")"
   ]
  },
  {
   "cell_type": "code",
   "execution_count": 228,
   "id": "32e0abf9-667d-4760-b7ed-3e05fe669a9f",
   "metadata": {},
   "outputs": [
    {
     "name": "stdout",
     "output_type": "stream",
     "text": [
      "2257147\n"
     ]
    }
   ],
   "source": [
    "# remove duplicate rows\n",
    "df_seqs = df_seqs.drop_duplicates(subset=\"Entry\")\n",
    "print(len(df_seqs))"
   ]
  },
  {
   "cell_type": "code",
   "execution_count": 264,
   "id": "ce4b778f-1e90-49d8-9e6a-229ae2443b96",
   "metadata": {},
   "outputs": [],
   "source": [
    "df_seqs.to_csv(f\"{data_dir}/proteomes/proteome_sequences_subsampled.tsv.gz\", sep='\\t', index=None)"
   ]
  },
  {
   "cell_type": "code",
   "execution_count": 237,
   "id": "bbe73e1b-a0cb-4ac7-88aa-cd4aa8e42047",
   "metadata": {},
   "outputs": [
    {
     "data": {
      "text/plain": [
       "<AxesSubplot: >"
      ]
     },
     "execution_count": 237,
     "metadata": {},
     "output_type": "execute_result"
    },
    {
     "data": {
      "image/png": "[encoded data removed]",
      "text/plain": [
       "<Figure size 640x480 with 1 Axes>"
      ]
     },
     "metadata": {},
     "output_type": "display_data"
    }
   ],
   "source": [
    "df_seqs.Length.hist(bins=30)"
   ]
  },
  {
   "cell_type": "code",
   "execution_count": 252,
   "id": "a909e77e-f270-41a8-adae-60d24b5038f7",
   "metadata": {},
   "outputs": [
    {
     "data": {
      "text/html": [
       "<div>\n",
       "<style scoped>\n",
       "    .dataframe tbody tr th:only-of-type {\n",
       "        vertical-align: middle;\n",
       "    }\n",
       "\n",
       "    .dataframe tbody tr th {\n",
       "        vertical-align: top;\n",
       "    }\n",
       "\n",
       "    .dataframe thead th {\n",
       "        text-align: right;\n",
       "    }\n",
       "</style>\n",
       "<table border=\"1\" class=\"dataframe\">\n",
       "  <thead>\n",
       "    <tr style=\"text-align: right;\">\n",
       "      <th></th>\n",
       "      <th>Entry</th>\n",
       "      <th>Organism (ID)</th>\n",
       "      <th>Sequence</th>\n",
       "    </tr>\n",
       "  </thead>\n",
       "  <tbody>\n",
       "    <tr>\n",
       "      <th>0</th>\n",
       "      <td>Q2HEW5</td>\n",
       "      <td>306901</td>\n",
       "      <td>MSDNDDEWNGFSDDNGEDDGPPEPGRPSQIDGQPWDVPDSALLQGD...</td>\n",
       "    </tr>\n",
       "    <tr>\n",
       "      <th>1</th>\n",
       "      <td>Q2H0D3</td>\n",
       "      <td>306901</td>\n",
       "      <td>MDVVNSTARAAVTSATAVTAVTGTGDRHPNPLSSAVAAASDVANAH...</td>\n",
       "    </tr>\n",
       "  </tbody>\n",
       "</table>\n",
       "</div>"
      ],
      "text/plain": [
       "    Entry Organism (ID)                                           Sequence\n",
       "0  Q2HEW5        306901  MSDNDDEWNGFSDDNGEDDGPPEPGRPSQIDGQPWDVPDSALLQGD...\n",
       "1  Q2H0D3        306901  MDVVNSTARAAVTSATAVTAVTGTGDRHPNPLSSAVAAASDVANAH..."
      ]
     },
     "execution_count": 252,
     "metadata": {},
     "output_type": "execute_result"
    }
   ],
   "source": [
    "# combine the other databases as well\n",
    "# These are sequences with OGTmax > 50\n",
    "df_seqs_merged = pd.read_table(\"/projects/robustmicrob/jlaw/inputs/ogt_sources/merged/proteome_sequences.tsv.gz\")\n",
    "df_seqs_merged.head(2)"
   ]
  },
  {
   "cell_type": "code",
   "execution_count": 253,
   "id": "7255ec02-0e7a-4e4a-afae-9aef9ee5e2a0",
   "metadata": {},
   "outputs": [
    {
     "data": {
      "text/html": [
       "<div>\n",
       "<style scoped>\n",
       "    .dataframe tbody tr th:only-of-type {\n",
       "        vertical-align: middle;\n",
       "    }\n",
       "\n",
       "    .dataframe tbody tr th {\n",
       "        vertical-align: top;\n",
       "    }\n",
       "\n",
       "    .dataframe thead th {\n",
       "        text-align: right;\n",
       "    }\n",
       "</style>\n",
       "<table border=\"1\" class=\"dataframe\">\n",
       "  <thead>\n",
       "    <tr style=\"text-align: right;\">\n",
       "      <th></th>\n",
       "      <th>Entry</th>\n",
       "      <th>Reviewed</th>\n",
       "      <th>Length</th>\n",
       "      <th>Organism (ID)</th>\n",
       "      <th>Sequence</th>\n",
       "    </tr>\n",
       "  </thead>\n",
       "  <tbody>\n",
       "    <tr>\n",
       "      <th>0</th>\n",
       "      <td>G0EEL0</td>\n",
       "      <td>unreviewed</td>\n",
       "      <td>1219</td>\n",
       "      <td>694429</td>\n",
       "      <td>MAKLTLLYEAGCPNCRGRIDEERLIKGLPCWECLPLLPEAERYLSG...</td>\n",
       "    </tr>\n",
       "    <tr>\n",
       "      <th>1</th>\n",
       "      <td>G0EHD7</td>\n",
       "      <td>unreviewed</td>\n",
       "      <td>535</td>\n",
       "      <td>694429</td>\n",
       "      <td>MVKYVFVTGGVLSSVGKGITTASIGLLLKSRGYNVTAIKIDPYINV...</td>\n",
       "    </tr>\n",
       "  </tbody>\n",
       "</table>\n",
       "</div>"
      ],
      "text/plain": [
       "    Entry    Reviewed  Length  Organism (ID)  \\\n",
       "0  G0EEL0  unreviewed    1219         694429   \n",
       "1  G0EHD7  unreviewed     535         694429   \n",
       "\n",
       "                                            Sequence  \n",
       "0  MAKLTLLYEAGCPNCRGRIDEERLIKGLPCWECLPLLPEAERYLSG...  \n",
       "1  MVKYVFVTGGVLSSVGKGITTASIGLLLKSRGYNVTAIKIDPYINV...  "
      ]
     },
     "execution_count": 253,
     "metadata": {},
     "output_type": "execute_result"
    }
   ],
   "source": [
    "df_seqs.head(2)"
   ]
  },
  {
   "cell_type": "code",
   "execution_count": 256,
   "id": "9450f05b-435b-4150-bb9b-3789214e91ca",
   "metadata": {},
   "outputs": [],
   "source": [
    "df_seqs = pd.concat([df_seqs, df_seqs_merged])"
   ]
  },
  {
   "cell_type": "markdown",
   "id": "f955802c-2599-4f37-a6be-ac1bb2a4529b",
   "metadata": {},
   "source": [
    "### Cluster the sequences from the species using UniRef90\n",
    "- For each sequence, choose the representative sequence as the one with the highest OGTmax\n",
    "- First, plot the range of OGTmax values for each UniRef90 cluster, as well as their size"
   ]
  },
  {
   "cell_type": "code",
   "execution_count": 257,
   "id": "5c7100d7-4e8e-4264-b885-700d56025670",
   "metadata": {},
   "outputs": [
    {
     "name": "stderr",
     "output_type": "stream",
     "text": [
      "100%|████████████████████████████████████████████████████████████████████████████████████████| 249877975/249877975 [05:11<00:00, 801901.25it/s]\n"
     ]
    },
    {
     "data": {
      "text/html": [
       "<div>\n",
       "<style scoped>\n",
       "    .dataframe tbody tr th:only-of-type {\n",
       "        vertical-align: middle;\n",
       "    }\n",
       "\n",
       "    .dataframe tbody tr th {\n",
       "        vertical-align: top;\n",
       "    }\n",
       "\n",
       "    .dataframe thead th {\n",
       "        text-align: right;\n",
       "    }\n",
       "</style>\n",
       "<table border=\"1\" class=\"dataframe\">\n",
       "  <thead>\n",
       "    <tr style=\"text-align: right;\">\n",
       "      <th></th>\n",
       "      <th>accession</th>\n",
       "      <th>uniref90</th>\n",
       "      <th>uniref50</th>\n",
       "    </tr>\n",
       "  </thead>\n",
       "  <tbody>\n",
       "    <tr>\n",
       "      <th>0</th>\n",
       "      <td>Q9V2L2</td>\n",
       "      <td>UniRef90_Q9V2L2</td>\n",
       "      <td>UniRef50_Q9V2L2</td>\n",
       "    </tr>\n",
       "    <tr>\n",
       "      <th>1</th>\n",
       "      <td>Q8U4R3</td>\n",
       "      <td>UniRef90_Q8U4R3</td>\n",
       "      <td>UniRef50_Q8U4R3</td>\n",
       "    </tr>\n",
       "  </tbody>\n",
       "</table>\n",
       "</div>"
      ],
      "text/plain": [
       "  accession         uniref90         uniref50\n",
       "0    Q9V2L2  UniRef90_Q9V2L2  UniRef50_Q9V2L2\n",
       "1    Q8U4R3  UniRef90_Q8U4R3  UniRef50_Q8U4R3"
      ]
     },
     "execution_count": 257,
     "metadata": {},
     "output_type": "execute_result"
    }
   ],
   "source": [
    "import gzip\n",
    "from tqdm import tqdm\n",
    "\n",
    "uniprot_ids = set(df_seqs.Entry.values)\n",
    "mapping_file = \"/projects/robustmicrob/jlaw/inputs/uniprot/2023-05/uniref90_50_mapping.tab.gz\"\n",
    "# mapping_file = f\"{data_dir}/proteomes/uniref90_example.txt\"\n",
    "# df_mapping = pd.read_table(mapping_file, names=['accession', 'uniref90', 'uniref50'])\n",
    "mapping_rows = []\n",
    "with gzip.open(mapping_file, 'r') as f:\n",
    "    for line in tqdm(f, total=249877975):\n",
    "        line = line.decode().rstrip().split('\\t')\n",
    "        if line[0] in uniprot_ids:\n",
    "            mapping_rows.append(line)\n",
    "\n",
    "df_mapping = pd.DataFrame(mapping_rows, columns=['accession', 'uniref90', 'uniref50'])\n",
    "df_mapping.head(2)"
   ]
  },
  {
   "cell_type": "code",
   "execution_count": 247,
   "id": "d174ad6d-f39c-41df-b805-98c1bd74e425",
   "metadata": {},
   "outputs": [
    {
     "name": "stdout",
     "output_type": "stream",
     "text": [
      "2257147 2259681\n"
     ]
    }
   ],
   "source": [
    "df_mapping = df_mapping[df_mapping.accession.isin(df_seqs.Entry)]\n",
    "print(len(df_mapping), len(df_seqs))"
   ]
  },
  {
   "cell_type": "code",
   "execution_count": 232,
   "id": "091d8d83-53eb-40be-9cff-000bc2facafa",
   "metadata": {},
   "outputs": [
    {
     "data": {
      "text/html": [
       "<div>\n",
       "<style scoped>\n",
       "    .dataframe tbody tr th:only-of-type {\n",
       "        vertical-align: middle;\n",
       "    }\n",
       "\n",
       "    .dataframe tbody tr th {\n",
       "        vertical-align: top;\n",
       "    }\n",
       "\n",
       "    .dataframe thead th {\n",
       "        text-align: right;\n",
       "    }\n",
       "</style>\n",
       "<table border=\"1\" class=\"dataframe\">\n",
       "  <thead>\n",
       "    <tr style=\"text-align: right;\">\n",
       "      <th></th>\n",
       "      <th>accession</th>\n",
       "      <th>uniref90</th>\n",
       "      <th>uniref50</th>\n",
       "    </tr>\n",
       "  </thead>\n",
       "  <tbody>\n",
       "    <tr>\n",
       "      <th>0</th>\n",
       "      <td>Q9V2L2</td>\n",
       "      <td>UniRef90_Q9V2L2</td>\n",
       "      <td>UniRef50_Q9V2L2</td>\n",
       "    </tr>\n",
       "    <tr>\n",
       "      <th>1</th>\n",
       "      <td>Q8U4R3</td>\n",
       "      <td>UniRef90_Q8U4R3</td>\n",
       "      <td>UniRef50_Q8U4R3</td>\n",
       "    </tr>\n",
       "  </tbody>\n",
       "</table>\n",
       "</div>"
      ],
      "text/plain": [
       "  accession         uniref90         uniref50\n",
       "0    Q9V2L2  UniRef90_Q9V2L2  UniRef50_Q9V2L2\n",
       "1    Q8U4R3  UniRef90_Q8U4R3  UniRef50_Q8U4R3"
      ]
     },
     "execution_count": 232,
     "metadata": {},
     "output_type": "execute_result"
    }
   ],
   "source": [
    "# df_mapping.to_csv(f\"{data_dir}/proteomes/uniref90_50_mapping.csv.gz\")\n",
    "df_mapping = pd.read_csv(f\"{data_dir}/proteomes/uniref90_50_mapping.csv.gz\", index_col=0)\n",
    "df_mapping.head(2)"
   ]
  },
  {
   "cell_type": "code",
   "execution_count": 233,
   "id": "27378176-fa99-4672-b585-07599c0fff7e",
   "metadata": {},
   "outputs": [
    {
     "data": {
      "text/html": [
       "<div>\n",
       "<style scoped>\n",
       "    .dataframe tbody tr th:only-of-type {\n",
       "        vertical-align: middle;\n",
       "    }\n",
       "\n",
       "    .dataframe tbody tr th {\n",
       "        vertical-align: top;\n",
       "    }\n",
       "\n",
       "    .dataframe thead th {\n",
       "        text-align: right;\n",
       "    }\n",
       "</style>\n",
       "<table border=\"1\" class=\"dataframe\">\n",
       "  <thead>\n",
       "    <tr style=\"text-align: right;\">\n",
       "      <th></th>\n",
       "      <th>accession</th>\n",
       "      <th>uniref90</th>\n",
       "      <th>uniref50</th>\n",
       "      <th>OGTmax</th>\n",
       "    </tr>\n",
       "  </thead>\n",
       "  <tbody>\n",
       "    <tr>\n",
       "      <th>0</th>\n",
       "      <td>Q9V2L2</td>\n",
       "      <td>UniRef90_Q9V2L2</td>\n",
       "      <td>UniRef50_Q9V2L2</td>\n",
       "      <td>95.0</td>\n",
       "    </tr>\n",
       "    <tr>\n",
       "      <th>1</th>\n",
       "      <td>Q8U4R3</td>\n",
       "      <td>UniRef90_Q8U4R3</td>\n",
       "      <td>UniRef50_Q8U4R3</td>\n",
       "      <td>97.0</td>\n",
       "    </tr>\n",
       "  </tbody>\n",
       "</table>\n",
       "</div>"
      ],
      "text/plain": [
       "  accession         uniref90         uniref50  OGTmax\n",
       "0    Q9V2L2  UniRef90_Q9V2L2  UniRef50_Q9V2L2    95.0\n",
       "1    Q8U4R3  UniRef90_Q8U4R3  UniRef50_Q8U4R3    97.0"
      ]
     },
     "execution_count": 233,
     "metadata": {},
     "output_type": "execute_result"
    }
   ],
   "source": [
    "# add the temperature to df_mapping\n",
    "taxon_ogtmax = dict(zip(subsampled['taxon_id'], subsampled['Tmax']))\n",
    "uniprot_to_taxon = dict(zip(df_seqs['Entry'], df_seqs['Organism (ID)']))\n",
    "df_mapping['OGTmax'] = df_mapping.accession.apply(lambda x: taxon_ogtmax[uniprot_to_taxon[x]])\n",
    "# df_mapping['OGTmax'] = df_mapping.accession.apply(lambda x: np.random.randint(0,100))\n",
    "df_mapping.head(2)"
   ]
  },
  {
   "cell_type": "code",
   "execution_count": 217,
   "id": "60e6f2f5-6a4e-4b6f-b58e-4941afeb3eb8",
   "metadata": {},
   "outputs": [],
   "source": [
    "import matplotlib.pyplot as plt\n",
    "import seaborn as sns\n",
    "sns.set_context('notebook')"
   ]
  },
  {
   "cell_type": "code",
   "execution_count": 250,
   "id": "ce82ab01-b2b0-4a33-a277-0eb1a570e4d4",
   "metadata": {},
   "outputs": [
    {
     "data": {
      "image/png": "[encoded data removed]",
      "text/plain": [
       "<Figure size 800x400 with 2 Axes>"
      ]
     },
     "metadata": {},
     "output_type": "display_data"
    }
   ],
   "source": [
    "f, (ax1, ax2) = plt.subplots(ncols=2, sharey=True, figsize=(8,4))\n",
    "df_mapping.groupby('uniref90')['OGTmax'].count().hist(bins=30, color='gray', ax=ax1)\n",
    "ax1.set_xlabel(\"uniref90 cluster sizes\")\n",
    "\n",
    "clust_t_range = df_mapping.groupby('uniref90')['OGTmax'].agg((max, min))\n",
    "clust_t_range['OGTmax_range'] = clust_t_range['max'] - clust_t_range['min']\n",
    "clust_t_range['OGTmax_range'].hist(bins=30, color='forestgreen', ax=ax2)\n",
    "ax2.set_xlabel(\"OGTmax range for uniref90 clusters\")\n",
    "\n",
    "plt.yscale('log')\n",
    "# sns.jointplot(clust_t_range, x='max', y='min', alpha=0.5)"
   ]
  },
  {
   "cell_type": "code",
   "execution_count": 252,
   "id": "7719a3a5-6eaf-43ba-8c9a-dbdca22d628c",
   "metadata": {},
   "outputs": [
    {
     "data": {
      "image/png": "[encoded data removed]",
      "text/plain": [
       "<Figure size 800x400 with 2 Axes>"
      ]
     },
     "metadata": {},
     "output_type": "display_data"
    }
   ],
   "source": [
    "f, (ax1, ax2) = plt.subplots(ncols=2, sharey=True, figsize=(8,4))\n",
    "df_mapping.groupby('uniref50')['OGTmax'].count().hist(bins=30, color='gray', ax=ax1)\n",
    "ax1.set_xlabel(\"uniref50 cluster sizes\")\n",
    "\n",
    "clust_t_range = df_mapping.groupby('uniref50')['OGTmax'].agg((max, min))\n",
    "clust_t_range['OGTmax_range'] = clust_t_range['max'] - clust_t_range['min']\n",
    "clust_t_range['OGTmax_range'].hist(bins=30, color='forestgreen', ax=ax2)\n",
    "ax2.set_xlabel(\"OGTmax range for uniref50 clusters\")\n",
    "\n",
    "plt.yscale('log')\n",
    "# sns.jointplot(clust_t_range, x='max', y='min', alpha=0.5)"
   ]
  },
  {
   "cell_type": "code",
   "execution_count": 251,
   "id": "d1184f26-e6be-4119-8c83-9da843f6fb05",
   "metadata": {},
   "outputs": [
    {
     "name": "stdout",
     "output_type": "stream",
     "text": [
      "2257147 2146740\n"
     ]
    }
   ],
   "source": [
    "# for each uniref90 cluster, keep the sequence with the largest OGTmax\n",
    "df_clust_rep = df_mapping.loc[df_mapping.groupby('uniref90')['OGTmax'].idxmax()]\n",
    "print(len(df_mapping), len(df_clust_rep))"
   ]
  },
  {
   "cell_type": "code",
   "execution_count": 234,
   "id": "b57637b1-b1a2-43c0-af68-8d3c40da0559",
   "metadata": {},
   "outputs": [
    {
     "data": {
      "text/html": [
       "<div>\n",
       "<style scoped>\n",
       "    .dataframe tbody tr th:only-of-type {\n",
       "        vertical-align: middle;\n",
       "    }\n",
       "\n",
       "    .dataframe tbody tr th {\n",
       "        vertical-align: top;\n",
       "    }\n",
       "\n",
       "    .dataframe thead th {\n",
       "        text-align: right;\n",
       "    }\n",
       "</style>\n",
       "<table border=\"1\" class=\"dataframe\">\n",
       "  <thead>\n",
       "    <tr style=\"text-align: right;\">\n",
       "      <th></th>\n",
       "      <th>accession</th>\n",
       "      <th>uniref90</th>\n",
       "      <th>uniref50</th>\n",
       "      <th>OGTmax</th>\n",
       "    </tr>\n",
       "  </thead>\n",
       "  <tbody>\n",
       "    <tr>\n",
       "      <th>0</th>\n",
       "      <td>Q9V2L2</td>\n",
       "      <td>UniRef90_Q9V2L2</td>\n",
       "      <td>UniRef50_Q9V2L2</td>\n",
       "      <td>95.0</td>\n",
       "    </tr>\n",
       "    <tr>\n",
       "      <th>1</th>\n",
       "      <td>Q8U4R3</td>\n",
       "      <td>UniRef90_Q8U4R3</td>\n",
       "      <td>UniRef50_Q8U4R3</td>\n",
       "      <td>97.0</td>\n",
       "    </tr>\n",
       "  </tbody>\n",
       "</table>\n",
       "</div>"
      ],
      "text/plain": [
       "  accession         uniref90         uniref50  OGTmax\n",
       "0    Q9V2L2  UniRef90_Q9V2L2  UniRef50_Q9V2L2    95.0\n",
       "1    Q8U4R3  UniRef90_Q8U4R3  UniRef50_Q8U4R3    97.0"
      ]
     },
     "execution_count": 234,
     "metadata": {},
     "output_type": "execute_result"
    }
   ],
   "source": [
    "df_mapping.head(2)"
   ]
  },
  {
   "cell_type": "code",
   "execution_count": 242,
   "id": "d05c440e-4b30-46a1-9973-f7e9a53f7e4d",
   "metadata": {},
   "outputs": [
    {
     "name": "stderr",
     "output_type": "stream",
     "text": [
      "100%|██████████████████████████████████████████████████████████████████████████████████████████████████████████| 10/10 [01:52<00:00, 11.21s/it]\n"
     ]
    },
    {
     "name": "stdout",
     "output_type": "stream",
     "text": [
      "2257147 1598682\n",
      "2257147 1598682\n"
     ]
    }
   ],
   "source": [
    "df_clust50_rep = pd.DataFrame()\n",
    "# bin the prots by temperature (10C bins)\n",
    "# for each uniref50 cluster, keep the sequence with the largest OGTmax\n",
    "for tlow, thigh in tqdm(list(zip(list(range(0,100,10)), list(range(10,100,10)) + [150]))):\n",
    "    df_bin = df_mapping[(df_mapping.OGTmax > tlow) & \n",
    "                        (df_mapping.OGTmax <= thigh)]\n",
    "    # TODO choose the cluster representative if its in the bin(?)\n",
    "    df_clust50_rep = pd.concat([df_clust50_rep, \n",
    "                                df_bin.loc[df_bin.groupby('uniref50')['OGTmax'].idxmax()]\n",
    "                               ])\n",
    "print(len(df_mapping), len(df_clust50_rep))\n",
    "df_clust50_rep = df_clust50_rep.drop_duplicates(subset='accession')\n",
    "print(len(df_mapping), len(df_clust50_rep))"
   ]
  },
  {
   "cell_type": "code",
   "execution_count": 254,
   "id": "a1b00040-9937-4174-a43d-ccd52291f969",
   "metadata": {},
   "outputs": [
    {
     "data": {
      "text/plain": [
       "Text(0.5, 0, 'Sequence OGTmax after clustering')"
      ]
     },
     "execution_count": 254,
     "metadata": {},
     "output_type": "execute_result"
    },
    {
     "data": {
      "image/png": "[encoded data removed]",
      "text/plain": [
       "<Figure size 400x400 with 1 Axes>"
      ]
     },
     "metadata": {},
     "output_type": "display_data"
    }
   ],
   "source": [
    "f, ax = plt.subplots(figsize=(4,4))\n",
    "df_clust_rep.OGTmax.hist(bins=bin_edges)\n",
    "ax.set_xlabel(\"Sequence OGTmax after clustering\")"
   ]
  },
  {
   "cell_type": "code",
   "execution_count": 244,
   "id": "3e595395-3ba0-41c2-babc-05120958beb4",
   "metadata": {},
   "outputs": [],
   "source": [
    "import matplotlib.pyplot as plt"
   ]
  },
  {
   "cell_type": "code",
   "execution_count": 247,
   "id": "302382d8-228d-4c20-a24c-639486bad708",
   "metadata": {},
   "outputs": [
    {
     "data": {
      "text/plain": [
       "Text(0.5, 0, 'Sequence OGTmax after clustering')"
      ]
     },
     "execution_count": 247,
     "metadata": {},
     "output_type": "execute_result"
    },
    {
     "data": {
      "image/png": "[encoded data removed]",
      "text/plain": [
       "<Figure size 400x400 with 1 Axes>"
      ]
     },
     "metadata": {},
     "output_type": "display_data"
    }
   ],
   "source": [
    "f, ax = plt.subplots(figsize=(4,4))\n",
    "df_clust50_rep.OGTmax.hist(bins=bin_edges)\n",
    "ax.set_xlabel(\"Sequence OGTmax after clustering\")"
   ]
  },
  {
   "cell_type": "code",
   "execution_count": null,
   "id": "d6be0290-8bfe-42a7-bd02-dfee469e7ee3",
   "metadata": {},
   "outputs": [],
   "source": [
    "df_clust_rep = df_clust_rep.set_index('accession')\n",
    "df_clust_rep['sequence'] = df_seqs.set_index('Entry')['Sequence']\n",
    "df_clust_rep.to_csv(f\"{data_dir}/bacdive_clustered_seqs.csv.gz\")"
   ]
  },
  {
   "cell_type": "code",
   "execution_count": 250,
   "id": "743e25cb-93b9-49c1-b29d-01f2938e40c6",
   "metadata": {},
   "outputs": [],
   "source": [
    "df_clust50_rep = df_clust50_rep.set_index('accession')\n",
    "df_clust50_rep['sequence'] = df_seqs.set_index('Entry')['Sequence']\n",
    "df_clust50_rep.to_csv(f\"{data_dir}/bacdive_10bins_clustered50_seqs.csv.gz\")"
   ]
  },
  {
   "cell_type": "markdown",
   "id": "9e31b881-e912-41d8-af3a-cfbedf03998e",
   "metadata": {},
   "source": [
    "Now build the esm2 embeddings"
   ]
  },
  {
   "cell_type": "markdown",
   "id": "f5ade375-2b36-45f7-b0fe-7dcac59b52ea",
   "metadata": {},
   "source": [
    "## Pre-train with OGTmax (organism growth temperature - max)"
   ]
  },
  {
   "cell_type": "code",
   "execution_count": 266,
   "id": "ae7d4ced-3251-4a42-a850-3c422eef0c53",
   "metadata": {},
   "outputs": [],
   "source": [
    "def read_embeddings(embed_file, sequence_idx_file):\n",
    "    \"\"\" Read embeddings stored in an npz file\n",
    "    Get the sequences at each index from the *sequence_idx_file\n",
    "    \"\"\"\n",
    "    embeddings = np.load(embed_file, allow_pickle=True)['arr_0']\n",
    "    sequences = pd.read_csv(sequence_idx_file)\n",
    "    print(f\"{len(embeddings) = } read from {embed_file}\")\n",
    "    print(f\"{len(sequences) = } read from {sequence_idx_file}\")\n",
    "    return embeddings, sequences"
   ]
  },
  {
   "cell_type": "code",
   "execution_count": null,
   "id": "fec15f14-0d55-4c4b-9556-4ea361b86e48",
   "metadata": {},
   "outputs": [],
   "source": [
    "all_embeddings = []\n",
    "all_seqs = []\n",
    "for i in range(2):\n",
    "    embed_file = f\"{data_dir}/embeddings/20230516_embeddings_esm2_t33_650M_UR50D_{i}.npz\"\n",
    "    seq_idx_file = f\"{data_dir}/embeddings/20230516_embeddings_seqs_{i}.csv\"\n",
    "    embeddings, seqs = read_embeddings(embed_file, seq_idx_file)\n",
    "    all_embeddings.append(embeddings)\n",
    "    all_seqs.append(seqs)\n",
    "    \n",
    "all_embeddings = np.vstack(all_embeddings)\n",
    "print(all_embeddings.shape)\n",
    "seqs = pd.concat(all_seqs)\n",
    "print(seqs.shape)"
   ]
  }
 ],
 "metadata": {
  "kernelspec": {
   "display_name": "Python 3 (ipykernel)",
   "language": "python",
   "name": "python3"
  },
  "language_info": {
   "codemirror_mode": {
    "name": "ipython",
    "version": 3
   },
   "file_extension": ".py",
   "mimetype": "text/x-python",
   "name": "python",
   "nbconvert_exporter": "python",
   "pygments_lexer": "ipython3",
   "version": "3.10.8"
  }
 },
 "nbformat": 4,
 "nbformat_minor": 5
}
