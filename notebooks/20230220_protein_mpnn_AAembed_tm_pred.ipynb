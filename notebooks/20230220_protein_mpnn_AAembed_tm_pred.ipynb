{
 "cells": [
  {
   "cell_type": "markdown",
   "id": "9885fc54-add0-47e1-84de-aebcd5ae4941",
   "metadata": {},
   "source": [
    "## Predict Tm using embeddings from ProteinMPNN\n",
    "- Then see if combining esm2 embeddings with proteinMPNN will further improve things"
   ]
  },
  {
   "cell_type": "markdown",
   "id": "32cec133-5bb7-46d1-b310-376c963edc59",
   "metadata": {},
   "source": [
    "### First download structures for each protein"
   ]
  },
  {
   "cell_type": "code",
   "execution_count": null,
   "id": "aadc1577-7581-440d-8b91-0cc6b476b7b2",
   "metadata": {},
   "outputs": [],
   "source": [
    "import json, time, os, sys, glob, re\n",
    "import pickle\n",
    "import pandas as pd\n",
    "import numpy as np\n",
    "from pathlib import Path\n",
    "from tqdm.auto import tqdm, trange\n",
    "tqdm.pandas()\n",
    "\n",
    "# git clone https://github.com/dauparas/ProteinMPNN.git\"\n",
    "# add to path\n",
    "base_dir = \"/projects/bpms/jlaw/tools/ProteinMPNN\"\n",
    "sys.path.append(base_dir)\n",
    "\n",
    "import matplotlib.pyplot as plt\n",
    "import seaborn as sns\n",
    "\n",
    "%matplotlib inline"
   ]
  },
  {
   "cell_type": "code",
   "execution_count": null,
   "id": "4d50cf81-3de3-4567-a3ee-e6e065274bd5",
   "metadata": {},
   "outputs": [],
   "source": [
    "# Setup Model\n",
    "import warnings\n",
    "import torch\n",
    "from torch import optim\n",
    "from torch.utils.data import DataLoader\n",
    "from torch.utils.data.dataset import random_split, Subset\n",
    "import copy\n",
    "import torch.nn as nn\n",
    "import torch.nn.functional as F\n",
    "import random\n",
    "import os.path\n",
    "from protein_mpnn_utils import loss_nll, loss_smoothed, gather_edges, gather_nodes, gather_nodes_t, cat_neighbors_nodes, _scores, _S_to_seq, tied_featurize, parse_PDB\n",
    "from protein_mpnn_utils import StructureDataset, StructureDatasetPDB, StructureLoader, ProteinMPNN\n",
    "\n",
    "device = torch.device(\"cuda:0\" if (torch.cuda.is_available()) else \"cpu\")\n",
    "#v_48_010=version with 48 edges 0.10A noise\n",
    "model_name = \"v_48_010\" #@param [\"v_48_002\", \"v_48_010\", \"v_48_020\", \"v_48_030\"]\n",
    "\n",
    "# Standard deviation of Gaussian noise to add to backbone atoms\n",
    "backbone_noise=0.0  \n",
    "\n",
    "path_to_model_weights = f'{base_dir}/vanilla_model_weights'          \n",
    "hidden_dim = 128\n",
    "num_layers = 3 \n",
    "model_folder_path = path_to_model_weights\n",
    "if model_folder_path[-1] != '/':\n",
    "    model_folder_path = model_folder_path + '/'\n",
    "checkpoint_path = model_folder_path + f'{model_name}.pt'\n",
    "\n",
    "checkpoint = torch.load(checkpoint_path, map_location=device) \n",
    "print('Number of edges:', checkpoint['num_edges'])\n",
    "noise_level_print = checkpoint['noise_level']\n",
    "print(f'Training noise level: {noise_level_print}A')\n",
    "model = ProteinMPNN(num_letters=21, node_features=hidden_dim, edge_features=hidden_dim, hidden_dim=hidden_dim, num_encoder_layers=num_layers, num_decoder_layers=num_layers, augment_eps=backbone_noise, k_neighbors=checkpoint['num_edges'])\n",
    "model.to(device)\n",
    "model.load_state_dict(checkpoint['model_state_dict'])\n",
    "model.eval()\n",
    "print(\"Model loaded\")"
   ]
  },
  {
   "cell_type": "code",
   "execution_count": null,
   "id": "3a1e0317-574a-41ff-8b1e-8c4a24f78732",
   "metadata": {},
   "outputs": [],
   "source": [
    "inputs_dir = Path(\"/projects/robustmicrob/jlaw/inputs/\")"
   ]
  },
  {
   "cell_type": "markdown",
   "id": "1ba74c9b-dec0-43b3-8f6d-6b929b2e9776",
   "metadata": {},
   "source": [
    "### Load the meltome atlas data"
   ]
  },
  {
   "cell_type": "code",
   "execution_count": null,
   "id": "6433bcfd-66f1-4f12-a75e-75a074b1687a",
   "metadata": {},
   "outputs": [],
   "source": [
    "# try using the same train/test splits that flip used\n",
    "df_split = pd.read_csv(Path(inputs_dir, \"meltome/flip/github/splits/mixed_split.csv\"))\n",
    "print(len(df_split))\n",
    "df_split.head(2)"
   ]
  },
  {
   "cell_type": "markdown",
   "id": "cdce7356-e50b-4e9b-8bd4-7b0b940e44d7",
   "metadata": {},
   "source": [
    "### Extracting ProteinMPNN Embeddings"
   ]
  },
  {
   "cell_type": "code",
   "execution_count": null,
   "id": "ad784441-3459-44c0-a535-d49cdaec445e",
   "metadata": {},
   "outputs": [],
   "source": [
    "def read_embeddings(embed_file, sequence_idx_file):\n",
    "    \"\"\" Read embeddings stored in an npz file\n",
    "    Get the sequences at each index from the *sequence_idx_file\n",
    "    \"\"\"\n",
    "    embeddings = np.load(embed_file, allow_pickle=True)['arr_0']\n",
    "    sequences = pd.read_csv(sequence_idx_file)\n",
    "    print(f\"{len(embeddings) = } read from {embed_file}\")\n",
    "    print(f\"{len(sequences) = } read from {sequence_idx_file}\")\n",
    "    return embeddings, sequences"
   ]
  },
  {
   "cell_type": "markdown",
   "id": "c3ab1e84-4a3f-4b7c-ae05-39944595cf09",
   "metadata": {},
   "source": [
    "### Try using attention on the proteinmpnn AA embeddings"
   ]
  },
  {
   "cell_type": "code",
   "execution_count": null,
   "id": "4fd78d62-3dad-4de7-a9d6-585fc3927438",
   "metadata": {},
   "outputs": [],
   "source": [
    "from sklearn.metrics import mean_squared_error\n",
    "from scipy.stats import spearmanr\n",
    "from sklearn.linear_model import LinearRegression, Ridge\n",
    "from sklearn.kernel_ridge import KernelRidge\n",
    "\n",
    "import pytorch_lightning as pl\n",
    "import torchmetrics"
   ]
  },
  {
   "cell_type": "code",
   "execution_count": null,
   "id": "099b2634-ef8a-422a-89b1-b5bbba98ec2e",
   "metadata": {},
   "outputs": [],
   "source": [
    "import torch.nn as nn\n",
    "import torch.nn.functional as F\n",
    "from torch.utils.checkpoint import checkpoint\n",
    "\n",
    "\n",
    "# copied from here: https://github.com/microsoft/protein-sequence-models/blob/main/sequence_models/convolutional.py\n",
    "class MaskedConv1d(nn.Conv1d):\n",
    "    \"\"\" A masked 1-dimensional convolution layer.\n",
    "    Takes the same arguments as torch.nn.Conv1D, except that the padding is set automatically.\n",
    "         Shape:\n",
    "            Input: (N, L, in_channels)\n",
    "            input_mask: (N, L, 1), optional\n",
    "            Output: (N, L, out_channels)\n",
    "    \"\"\"\n",
    "\n",
    "    def __init__(self, in_channels: int, out_channels: int,\n",
    "                 kernel_size: int, stride: int=1, dilation: int=1, groups: int=1,\n",
    "                 bias: bool=True):\n",
    "        \"\"\"\n",
    "        :param in_channels: input channels\n",
    "        :param out_channels: output channels\n",
    "        :param kernel_size: the kernel width\n",
    "        :param stride: filter shift\n",
    "        :param dilation: dilation factor\n",
    "        :param groups: perform depth-wise convolutions\n",
    "        :param bias: adds learnable bias to output\n",
    "        \"\"\"\n",
    "        padding = dilation * (kernel_size - 1) // 2\n",
    "        super().__init__(in_channels, out_channels, kernel_size, stride=stride, dilation=dilation,\n",
    "                                           groups=groups, bias=bias, padding=padding)\n",
    "\n",
    "    def forward(self, x, input_mask=None):\n",
    "        if input_mask is not None:\n",
    "            x = x * input_mask\n",
    "        return super().forward(x.transpose(1, 2)).transpose(1, 2)\n",
    "    \n",
    "\n",
    "# copied from here: https://github.com/microsoft/protein-sequence-models/blob/main/sequence_models/structure.py\n",
    "class Attention1d(nn.Module):\n",
    "    \n",
    "    def __init__(self, in_dim):\n",
    "        super().__init__()\n",
    "        self.layer = MaskedConv1d(in_dim, 1, 1)\n",
    "\n",
    "    def forward(self, x, input_mask=None):\n",
    "        n, ell, _ = x.shape\n",
    "        attn = self.layer(x)\n",
    "        attn = attn.view(n, -1)\n",
    "        if input_mask is not None:\n",
    "            attn = attn.masked_fill_(~input_mask.view(n, -1).bool(), float('-inf'))\n",
    "        attn = F.softmax(attn, dim=-1).view(n, -1, 1)\n",
    "        out = (attn * x).sum(dim=1)\n",
    "        return out\n",
    "    \n",
    "    \n",
    "# copied from here: https://github.com/J-SNACKKB/FLIP/blob/main/baselines/models.py\n",
    "class ESMAttention1d(pl.LightningModule):\n",
    "    \"\"\"Outputs of the ESM model with the attention1d\"\"\"\n",
    "    def __init__(self, max_length, d_embedding): # [batch x sequence(751) x embedding (1280)] --> [batch x embedding] --> [batch x 1]\n",
    "        super(ESMAttention1d, self).__init__()\n",
    "        self.attention1d = Attention1d(in_dim=d_embedding) # ???\n",
    "        self.linear = nn.Linear(d_embedding, d_embedding)\n",
    "        self.relu = nn.ReLU()\n",
    "        self.final = nn.Linear(d_embedding, 1)\n",
    "    \n",
    "    def forward(self, x):\n",
    "        x = self.attention1d(x)\n",
    "        x = self.relu(self.linear(x))\n",
    "        x = self.final(x)\n",
    "        return x\n",
    "    \n",
    "    def training_step(self, batch, batch_idx):\n",
    "        x, y, mask = batch\n",
    "\n",
    "        y_pred = self(x).squeeze(1)\n",
    "        # y_pred = y_pred[mask]\n",
    "        # y2 = y[mask]\n",
    "        loss = nn.functional.mse_loss(y_pred, y)\n",
    "        self.log('train_loss', loss)\n",
    "        return loss\n",
    "    \n",
    "    def configure_optimizers(self):\n",
    "        optimizer = torch.optim.Adam(self.parameters(), lr=1e-3)\n",
    "        return optimizer"
   ]
  },
  {
   "cell_type": "code",
   "execution_count": null,
   "id": "17d89b91-624f-44fa-91ba-0b768ccfd121",
   "metadata": {},
   "outputs": [],
   "source": [
    "class NeuralNetwork(pl.LightningModule):\n",
    "    def __init__(self, initial_layer_size=1280):\n",
    "        super(NeuralNetwork, self).__init__()\n",
    "        second_layer_size = initial_layer_size // 2\n",
    "        self.linear_relu_stack = nn.Sequential(\n",
    "            nn.Linear(initial_layer_size, second_layer_size),\n",
    "            nn.ReLU(),            \n",
    "            nn.Linear(second_layer_size, second_layer_size),\n",
    "            nn.ReLU(),\n",
    "            nn.Linear(second_layer_size, 1),\n",
    "        )\n",
    "\n",
    "    def forward(self, x):\n",
    "        logits = self.linear_relu_stack(x)\n",
    "        return logits    \n",
    "\n",
    "    def training_step(self, batch, batch_idx):\n",
    "        x, y, mask = batch\n",
    "\n",
    "        y_pred = self(x).squeeze(1)\n",
    "        # y_pred = y_pred[mask]\n",
    "        # y2 = y[mask]\n",
    "        loss = nn.functional.mse_loss(y_pred, y)\n",
    "        self.log('train_loss', loss)\n",
    "        return loss\n",
    "    \n",
    "    def validation_step(self, batch, batch_idx):\n",
    "        x, y, mask = batch\n",
    "        y_pred = self(x).squeeze(1)\n",
    "        loss = nn.functional.mse_loss(y_pred, y)        \n",
    "        self.log(\"val_loss\", loss)\n",
    "        \n",
    "    def configure_optimizers(self):\n",
    "        optimizer = torch.optim.Adam(self.parameters(), lr=1e-3)\n",
    "        return optimizer"
   ]
  },
  {
   "cell_type": "code",
   "execution_count": null,
   "id": "a35ebc0d-dcd3-449d-a58a-aa54eec28093",
   "metadata": {},
   "outputs": [],
   "source": [
    "def fit_model_att(X_train, y_train, y_mask, X_valid):\n",
    "    pl.seed_everything(42)\n",
    "    esm_model = ESMAttention1d(1500, X_train.shape[-1])\n",
    "    \n",
    "    trainer = pl.Trainer(\n",
    "        # gpus=-1,\n",
    "        # devices=0,\n",
    "        accelerator=\"gpu\",\n",
    "        max_epochs=20,\n",
    "        check_val_every_n_epoch=5)\n",
    "\n",
    "    train_dataset = torch.utils.data.TensorDataset(torch.Tensor(X_train).to(device), \n",
    "    # train_dataset = torch.utils.data.TensorDataset(X_train.to(device), \n",
    "                                                   torch.Tensor(y_train).to(device), \n",
    "                                                   torch.BoolTensor(y_mask))\n",
    "    # valid_dataset = torch.utils.data.TensorDataset(torch.Tensor(X_valid), torch.Tensor(y_valid))\n",
    "\n",
    "    train_loader = torch.utils.data.DataLoader(train_dataset, batch_size=32, shuffle=True)\n",
    "    # valid_loader = torch.utils.data.DataLoader(valid_dataset, batch_size=16, shuffle=False)\n",
    "\n",
    "    trainer.fit(esm_model, train_loader)\n",
    "    \n",
    "    return esm_model"
   ]
  },
  {
   "cell_type": "code",
   "execution_count": null,
   "id": "e9652ea3-6019-473a-a345-591d9f3fe0c9",
   "metadata": {},
   "outputs": [],
   "source": [
    "max_seq_length = 1500"
   ]
  },
  {
   "cell_type": "code",
   "execution_count": null,
   "id": "187409e0-372f-44ca-bed7-3ccce6af5fea",
   "metadata": {},
   "outputs": [],
   "source": [
    "# These embeddings take up much more space\n",
    "protmpnn_aa_embed, df_seq = read_embeddings(Path(inputs_dir, \"structures/embeddings/20230221_aa_embeddings_v_48_010.npz\"),\n",
    "                                            Path(inputs_dir, \"structures/embeddings/20230221_aa_embeddings_v_48_010.csv\"))\n",
    "protmpnn_aa_embed = torch.Tensor(protmpnn_aa_embed)\n",
    "# mask = protmpnn_aa_embed != 0\n",
    "# protmpnn_aa_embed = torch.masked.as_masked_tensor(protmpnn_aa_embed, mask)\n",
    "protmpnn_aa_seq = df_seq.sequence.values\n",
    "# map from the sequence to the idx to access the correct row in the matrix\n",
    "seq_idx = {seq: i for i, seq in enumerate(protmpnn_aa_seq)}\n",
    "protmpnn_aa_embed.shape"
   ]
  },
  {
   "cell_type": "code",
   "execution_count": null,
   "id": "e45238e7-e283-4222-ba23-0351d60979d7",
   "metadata": {},
   "outputs": [],
   "source": [
    "df_seq.head(2)"
   ]
  },
  {
   "cell_type": "code",
   "execution_count": null,
   "id": "43f3ba8f-bb8b-410d-bd97-b4bd44565e55",
   "metadata": {},
   "outputs": [],
   "source": [
    "df_split_w_embed2 = df_split[df_split.sequence.isin(seq_idx)]\n",
    "print(len(df_split_w_embed2))"
   ]
  },
  {
   "cell_type": "code",
   "execution_count": null,
   "id": "bf3048d7-6c62-4611-885b-94c943ac16e2",
   "metadata": {},
   "outputs": [],
   "source": [
    "seqs = df_split_w_embed2.sequence.unique()\n",
    "len(seqs)"
   ]
  },
  {
   "cell_type": "code",
   "execution_count": null,
   "id": "24dc5e71-b8e4-4b31-a481-409c61ce540f",
   "metadata": {},
   "outputs": [],
   "source": [
    "# del X_train, X_test, protmpnn_aa_embed"
   ]
  },
  {
   "cell_type": "code",
   "execution_count": null,
   "id": "325e0dba-8855-4f19-8f70-8e1dff1fecb2",
   "metadata": {},
   "outputs": [],
   "source": [
    "df_train = df_split_w_embed2[df_split_w_embed2.set == \"train\"]\n",
    "print(len(df_train), f\"{len(df_train) / len(df_split_w_embed2):0.2f}\")\n",
    "\n",
    "# some of the sequences are repeated, so get their embeddings by index\n",
    "# X_train = np.asarray([protmpnn_aa_embed[seq_idx[seq]] for seq in df_train.sequence.values])\n",
    "X_train = protmpnn_aa_embed[[seq_idx[seq] for seq in df_train.sequence.values]]\n",
    "y_train = df_train.target.values\n",
    "\n",
    "df_test = df_split_w_embed2[df_split_w_embed2.set == \"test\"]\n",
    "print(len(df_test), f\"{len(df_test) / len(df_split_w_embed2):0.2f}\")\n",
    "# X_test = np.asarray([protmpnn_aa_embed[seq_idx[seq]] for seq in df_test.sequence.values])\n",
    "X_test = protmpnn_aa_embed[[seq_idx[seq] for seq in df_test.sequence.values]]\n",
    "y_test = df_test.target\n",
    "print(X_train.shape)"
   ]
  },
  {
   "cell_type": "code",
   "execution_count": null,
   "id": "9dfa21a0-47c6-4a66-aa4a-22a21c214060",
   "metadata": {},
   "outputs": [],
   "source": [
    "aa_model = fit_model_att(X_train, y_train, np.ones(len(y_train)), X_test)"
   ]
  },
  {
   "cell_type": "code",
   "execution_count": null,
   "id": "d34eb5bb-f3df-4c1c-8be0-b38694dff5b1",
   "metadata": {},
   "outputs": [],
   "source": [
    "y_pred = aa_model(torch.Tensor(X_test)).detach().squeeze().numpy()\n",
    "\n",
    "rho, _ = spearmanr(y_pred, y_test)  # spearman\n",
    "mse = mean_squared_error(y_pred, y_test)  # Mean Squared Error\n",
    "mae = (y_pred - y_test).abs().mean()  # Mean Absolute Error\n",
    "print(f\"{mae = :0.1f}, {mse = :0.1f}, {rho = :0.2f}\")"
   ]
  },
  {
   "cell_type": "code",
   "execution_count": 16,
   "id": "47ec5d8d-fdc5-4ca8-8c0e-691b5fba7c22",
   "metadata": {},
   "outputs": [
    {
     "name": "stdout",
     "output_type": "stream",
     "text": [
      "mae = 7.1, mse = 90.5, rho = 0.29\n"
     ]
    }
   ],
   "source": [
    "y_pred = aa_model(torch.Tensor(X_test)).detach().squeeze().numpy()\n",
    "\n",
    "rho, _ = spearmanr(y_pred, y_test)  # spearman\n",
    "mse = mean_squared_error(y_pred, y_test)  # Mean Squared Error\n",
    "mae = (y_pred - y_test).abs().mean()  # Mean Absolute Error\n",
    "print(f\"{mae = :0.1f}, {mse = :0.1f}, {rho = :0.2f}\")"
   ]
  },
  {
   "cell_type": "code",
   "execution_count": null,
   "id": "e704cb0f-e518-4b6a-8cdf-8f3007db297a",
   "metadata": {},
   "outputs": [],
   "source": []
  },
  {
   "cell_type": "code",
   "execution_count": 191,
   "id": "17b4d836-db99-405e-bfc8-4087b65ee0b5",
   "metadata": {},
   "outputs": [
    {
     "data": {
      "image/png": "[encoded data removed]",
      "text/plain": [
       "<Figure size 640x480 with 1 Axes>"
      ]
     },
     "metadata": {},
     "output_type": "display_data"
    }
   ],
   "source": [
    "df = pd.DataFrame({'y_test': y_test, 'y_pred': y_pred})\n",
    "ax = df.plot.scatter(x='y_test', y='y_pred', alpha=0.3, lw=0, s=10)\n",
    "# sns.scatter(data=df, x='y_test', y='y_pred', alpha=0.6)\n",
    "\n",
    "ax.plot([30,100], [30,100], '--', alpha=0.6)\n",
    "plt.show()"
   ]
  },
  {
   "cell_type": "code",
   "execution_count": null,
   "id": "f2091a4e-abf0-4742-b7e9-909801f565c0",
   "metadata": {},
   "outputs": [],
   "source": []
  }
 ],
 "metadata": {
  "kernelspec": {
   "display_name": "Python 3 (ipykernel)",
   "language": "python",
   "name": "python3"
  },
  "language_info": {
   "codemirror_mode": {
    "name": "ipython",
    "version": 3
   },
   "file_extension": ".py",
   "mimetype": "text/x-python",
   "name": "python",
   "nbconvert_exporter": "python",
   "pygments_lexer": "ipython3",
   "version": "3.10.8"
  }
 },
 "nbformat": 4,
 "nbformat_minor": 5
}
