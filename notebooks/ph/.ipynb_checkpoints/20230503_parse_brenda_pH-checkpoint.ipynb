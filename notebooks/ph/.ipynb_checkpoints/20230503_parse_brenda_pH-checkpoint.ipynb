{
 "cells": [
  {
   "cell_type": "markdown",
   "id": "610ccd59-0df6-4ef1-b0e9-4c895dc4bf01",
   "metadata": {},
   "source": [
    "## pH range Dataset\n",
    "- Try to build a model to predict the pH range of activity for a given enzyme\n",
    "- extract the data from Brenda here"
   ]
  },
  {
   "cell_type": "code",
   "execution_count": 1,
   "id": "a2771156-dab8-4dd4-9137-3aeae074b567",
   "metadata": {},
   "outputs": [],
   "source": [
    "import json\n",
    "import pandas as pd\n",
    "import numpy as np\n",
    "from collections import defaultdict"
   ]
  },
  {
   "cell_type": "code",
   "execution_count": 2,
   "id": "ee983b26-6cee-48f8-b930-177ea95bf762",
   "metadata": {},
   "outputs": [
    {
     "data": {
      "text/plain": [
       "'/lustre/eaglefs/projects/robustmicrob/jlaw/projects/prot_stability_engineering'"
      ]
     },
     "execution_count": 2,
     "metadata": {},
     "output_type": "execute_result"
    }
   ],
   "source": [
    "import os\n",
    "os.chdir(\"../../\")\n",
    "os.getcwd()"
   ]
  },
  {
   "cell_type": "code",
   "execution_count": 43,
   "id": "13e02791-667a-4d94-8981-21b619835ed3",
   "metadata": {},
   "outputs": [],
   "source": [
    "brenda_file = \"/projects/robustmicrob/jlaw/inputs/brenda/brenda_2022_2.json\"\n",
    "brenda_dict = json.load(open(brenda_file))"
   ]
  },
  {
   "cell_type": "code",
   "execution_count": 3,
   "id": "9aeadaad-0581-4511-8dd6-217d306d0792",
   "metadata": {},
   "outputs": [
    {
     "data": {
      "text/plain": [
       "['7.6.2.5', '7.6.2.6', '7.6.2.7', '7.6.2.8', '7.6.2.9']"
      ]
     },
     "execution_count": 3,
     "metadata": {},
     "output_type": "execute_result"
    }
   ],
   "source": [
    "list(brenda_dict['data'].keys())[-5:]"
   ]
  },
  {
   "cell_type": "code",
   "execution_count": 5,
   "id": "4b931c55-fa33-44a5-a6d4-7f8c24097eca",
   "metadata": {},
   "outputs": [
    {
     "data": {
      "text/plain": [
       "dict_keys(['id', 'name', 'systematic_name', 'synonyms', 'localization', 'cofactor', 'activating_compound', 'inhibitor', 'metals_ions', 'subunits', 'engineering', 'cloned', 'general_information', 'crystallization', 'purification', 'renaturation', 'general_stability', 'generic_reaction', 'natural_reaction', 'reaction', 'turnover_number', 'km_value', 'ph_optimum', 'specific_activity', 'temperature_optimum', 'molecular_weight', 'organisms', 'references', 'proteins'])"
      ]
     },
     "execution_count": 5,
     "metadata": {},
     "output_type": "execute_result"
    }
   ],
   "source": [
    "brenda_dict['data']['7.6.2.8'].keys()"
   ]
  },
  {
   "cell_type": "code",
   "execution_count": 6,
   "id": "b356826e-7ee0-4f25-bd24-464dca91d42d",
   "metadata": {},
   "outputs": [
    {
     "data": {
      "text/plain": [
       "[{'comment': '#13,34,68# discussion of mechanism <1,2,5>; #13# nonenzymatic disproportionation of 2 semiquinones to quinone and quinol <2>; #26# two site ping-pong bi-bi mechanism <89>; #76# reaction mechanism of the reduction of dioxygen to water, second-order rate constant for the reaction with dioxygen, ping-pong mechanism, kinetic model <116>; #14# catalytic reaction mechanism, modelling, overview <168>',\n",
       "  'educts': ['4 benzenediol', 'O2'],\n",
       "  'products': ['4 benzosemiquinone', '2 H2O']}]"
      ]
     },
     "execution_count": 6,
     "metadata": {},
     "output_type": "execute_result"
    }
   ],
   "source": [
    "brenda_dict['data']['1.10.3.2']['generic_reaction']"
   ]
  },
  {
   "cell_type": "code",
   "execution_count": 6,
   "id": "f0d402f8-bd52-48d4-8a66-b08cfc4b5d0c",
   "metadata": {},
   "outputs": [
    {
     "data": {
      "text/plain": [
       "{'id': '29',\n",
       " 'title': 'Mechanistic basis of vitamin B12 and cobinamide salvaging by the Vibrio species. Biochim. Biophys',\n",
       " 'authors': ['Agarwal, S.',\n",
       "  'Dey, S.',\n",
       "  'Ghosh, B.',\n",
       "  'Biswas, M.',\n",
       "  'Dasgupta, J.'],\n",
       " 'journal': 'Acta',\n",
       " 'year': 2019,\n",
       " 'pages': '140-151',\n",
       " 'vol': '1867',\n",
       " 'pmid': 30463026}"
      ]
     },
     "execution_count": 6,
     "metadata": {},
     "output_type": "execute_result"
    }
   ],
   "source": [
    "brenda_dict['data']['7.6.2.8']['references']['29']"
   ]
  },
  {
   "cell_type": "code",
   "execution_count": 7,
   "id": "b644996a-7db7-4d96-9b89-1776ee7c9b95",
   "metadata": {},
   "outputs": [
    {
     "data": {
      "text/plain": [
       "[{'comment': '#12# BtuF binding assay at <29>',\n",
       "  'proteins': ['12'],\n",
       "  'organisms': ['12'],\n",
       "  'references': ['29'],\n",
       "  'num_value': 7.0},\n",
       " {'comment': '#5,10,11# assay at <15,31,37,38>',\n",
       "  'proteins': ['11', '5', '10'],\n",
       "  'organisms': ['11', '5', '10'],\n",
       "  'references': ['15', '31', '37', '38'],\n",
       "  'num_value': 7.5},\n",
       " {'comment': '#8# assay at <34>',\n",
       "  'proteins': ['8'],\n",
       "  'organisms': ['8'],\n",
       "  'references': ['34'],\n",
       "  'num_value': 8.0},\n",
       " {'comment': '#9# assay at <28>',\n",
       "  'proteins': ['9'],\n",
       "  'organisms': ['9'],\n",
       "  'references': ['28'],\n",
       "  'num_value': 7.6}]"
      ]
     },
     "execution_count": 7,
     "metadata": {},
     "output_type": "execute_result"
    }
   ],
   "source": [
    "brenda_dict['data']['7.6.2.8']['ph_optimum']"
   ]
  },
  {
   "cell_type": "code",
   "execution_count": null,
   "id": "5dbac1b3-97c0-4446-bb0a-e920d66de0a6",
   "metadata": {},
   "outputs": [
    {
     "data": {
      "text/plain": [
       "[{'organisms': ['15'],\n",
       "  'references': ['42'],\n",
       "  'min_value': 4.0,\n",
       "  'max_value': 11.0},\n",
       " {'comment': '#27# in the biosynthetic direction <38>',\n",
       "  'proteins': ['27'],\n",
       "  'organisms': ['27'],\n",
       "  'references': ['38'],\n",
       "  'min_value': 5.0,\n",
       "  'max_value': 9.0},\n",
       " {'comment': '#27# in the degradative direction <38>',\n",
       "  'proteins': ['27'],\n",
       "  'organisms': ['27'],\n",
       "  'references': ['38'],\n",
       "  'min_value': 5.0,\n",
       "  'max_value': 7.8},\n",
       " {'comment': '#31# hydrolysis reaction <32>',\n",
       "  'proteins': ['31'],\n",
       "  'organisms': ['31'],\n",
       "  'references': ['32'],\n",
       "  'min_value': 7.8,\n",
       "  'max_value': 8.5},\n",
       " {'comment': '#31# synthesis reaction <32>',\n",
       "  'proteins': ['31'],\n",
       "  'organisms': ['31'],\n",
       "  'references': ['32'],\n",
       "  'min_value': 5.5,\n",
       "  'max_value': 6.9}]"
      ]
     },
     "execution_count": 6,
     "metadata": {},
     "output_type": "execute_result"
    }
   ],
   "source": [
    "brenda_dict['data']['3.5.2.3']['ph_range']"
   ]
  },
  {
   "cell_type": "code",
   "execution_count": 9,
   "id": "261068ab-7b00-4fbb-b2c3-14f9935d23a1",
   "metadata": {},
   "outputs": [
    {
     "data": {
      "text/plain": [
       "{'5': [{'accessions': ['P06611'],\n",
       "   'source': 'uniprot',\n",
       "   'comment': '#5# alpha-subunit of Fdh3 <12>'}],\n",
       " '6': [{'accessions': ['P37028'], 'source': 'uniprot'}],\n",
       " '7': [{'accessions': ['P06609'], 'source': 'uniprot'}],\n",
       " '8': [{'accessions': ['Q3SFD8'], 'source': 'uniprot'}],\n",
       " '9': [{'accessions': ['O14678'], 'source': 'uniprot'}],\n",
       " '10': [{'accessions': ['P06609', 'P06611', 'P37028'], 'source': 'uniprot'}],\n",
       " '11': [{'accessions': ['Q1GBI8'], 'source': 'uniprot'}],\n",
       " '12': [{'accessions': ['A0A0H3AMA6', 'A5F1V0', 'A5F5P5'],\n",
       "   'source': 'uniprot'}]}"
      ]
     },
     "execution_count": 9,
     "metadata": {},
     "output_type": "execute_result"
    }
   ],
   "source": [
    "brenda_dict['data']['7.6.2.8']['proteins']"
   ]
  },
  {
   "cell_type": "code",
   "execution_count": 4,
   "id": "88eda47f-b9b0-4882-975b-35dab156f0d7",
   "metadata": {},
   "outputs": [],
   "source": [
    "example = brenda_dict['data']['4.1.1.101']"
   ]
  },
  {
   "cell_type": "code",
   "execution_count": 8,
   "id": "ab1285c6-9c9b-4a60-85a9-16a286df84c1",
   "metadata": {},
   "outputs": [
    {
     "data": {
      "text/plain": [
       "[{'proteins': ['10'],\n",
       "  'organisms': ['10'],\n",
       "  'references': ['1'],\n",
       "  'num_value': 45.0},\n",
       " {'comment': '#5# assay at <4>',\n",
       "  'organisms': ['5'],\n",
       "  'references': ['4'],\n",
       "  'num_value': 30.0},\n",
       " {'organisms': ['5'], 'references': ['10'], 'num_value': 35.0},\n",
       " {'organisms': ['6', '5'], 'references': ['13', '14'], 'num_value': 37.0}]"
      ]
     },
     "execution_count": 8,
     "metadata": {},
     "output_type": "execute_result"
    }
   ],
   "source": [
    "example['temperature_optimum']"
   ]
  },
  {
   "cell_type": "code",
   "execution_count": 9,
   "id": "40e788f1-4bda-4685-8e14-3636d8b15c91",
   "metadata": {},
   "outputs": [
    {
     "data": {
      "text/plain": [
       "{'8': [{'accessions': ['F6LR19'], 'source': 'uniprot'}],\n",
       " '9': [{'accessions': ['Q48662'], 'source': 'uniprot'}],\n",
       " '10': [{'accessions': ['Q5S3L3'], 'source': 'uniprot'}],\n",
       " '11': [{'accessions': ['Q48796'], 'source': 'uniprot'}],\n",
       " '12': [{'accessions': ['W5XU69'], 'source': 'uniprot'}],\n",
       " '13': [{'accessions': ['Q03XG6'], 'source': 'uniprot'}]}"
      ]
     },
     "execution_count": 9,
     "metadata": {},
     "output_type": "execute_result"
    }
   ],
   "source": [
    "example['proteins']"
   ]
  },
  {
   "cell_type": "code",
   "execution_count": 11,
   "id": "2d9053dc-a867-404a-b431-34c318109a76",
   "metadata": {},
   "outputs": [
    {
     "data": {
      "text/plain": [
       "[{'proteins': ['10'],\n",
       "  'organisms': ['10'],\n",
       "  'references': ['1'],\n",
       "  'num_value': 45.0},\n",
       " {'comment': '#5# assay at <4>',\n",
       "  'organisms': ['5'],\n",
       "  'references': ['4'],\n",
       "  'num_value': 30.0},\n",
       " {'organisms': ['5'], 'references': ['10'], 'num_value': 35.0},\n",
       " {'organisms': ['6', '5'], 'references': ['13', '14'], 'num_value': 37.0}]"
      ]
     },
     "execution_count": 11,
     "metadata": {},
     "output_type": "execute_result"
    }
   ],
   "source": [
    "example['temperature_optimum']"
   ]
  },
  {
   "cell_type": "code",
   "execution_count": 8,
   "id": "1e17dbf0-b481-44c3-99ea-dbd79f195226",
   "metadata": {},
   "outputs": [
    {
     "data": {
      "text/plain": [
       "defaultdict(list,\n",
       "            {'27': ['Q86ZV0'],\n",
       "             '28': ['Q8GR61'],\n",
       "             '30': ['Q6KAV2'],\n",
       "             '31': ['Q2K0Q7'],\n",
       "             '32': ['P22144'],\n",
       "             '33': ['S6BFC0'],\n",
       "             '35': ['A0A1B4XTS0'],\n",
       "             '36': ['A0A141BGH5'],\n",
       "             '37': ['Q07993'],\n",
       "             '38': ['G3AIB3'],\n",
       "             '39': ['G3AIP8'],\n",
       "             '40': ['A0A3S7PMB5'],\n",
       "             '41': ['A0A3S7PMC4']})"
      ]
     },
     "execution_count": 8,
     "metadata": {},
     "output_type": "execute_result"
    }
   ],
   "source": [
    "def get_proteins(ec_dict):\n",
    "    uniprot_ids = defaultdict(list)\n",
    "    for prot_id, sources in ec_dict['proteins'].items():\n",
    "        for source in sources:\n",
    "            if source['source'] == 'uniprot':\n",
    "                uniprot_ids[prot_id] += source['accessions']\n",
    "    if len(uniprot_ids) == 0:\n",
    "        print(\"Warning: no uniprot ids\")\n",
    "    return uniprot_ids\n",
    "get_proteins(example)"
   ]
  },
  {
   "cell_type": "code",
   "execution_count": 9,
   "id": "75979757-de14-4853-9f6a-a48a239766aa",
   "metadata": {},
   "outputs": [
    {
     "data": {
      "text/plain": [
       "{'1': 'Cavia porcellus',\n",
       " '2': 'Saccharomyces cerevisiae',\n",
       " '3': 'Ovis aries',\n",
       " '4': 'Penicillium chrysogenum',\n",
       " '5': 'Klebsiella aerogenes',\n",
       " '6': 'Serratia marcescens',\n",
       " '7': 'Ogataea angusta',\n",
       " '8': 'Meyerozyma guilliermondii',\n",
       " '9': 'Candida tropicalis',\n",
       " '10': 'Kluyveromyces marxianus',\n",
       " '11': 'Pachysolen tannophilus',\n",
       " '12': 'Aspergillus oryzae',\n",
       " '13': 'Morganella morganii',\n",
       " '14': 'Gluconobacter oxydans',\n",
       " '15': 'Candida parapsilosis',\n",
       " '16': 'Fusarium oxysporum',\n",
       " '17': 'Aspergillus carbonarius',\n",
       " '18': 'Scheffersomyces stipitis',\n",
       " '19': 'Providencia stuartii',\n",
       " '20': 'Aeribacillus pallidus',\n",
       " '21': 'Scheffersomyces shehatae',\n",
       " '22': 'Yamadazyma tenuis',\n",
       " '23': '[Candida] intermedia',\n",
       " '24': '[Candida] diddensiae',\n",
       " '25': '[Candida] silvanorum',\n",
       " '26': 'Candida sp. HA 167',\n",
       " '27': 'Aspergillus oryzae',\n",
       " '28': 'Gluconobacter oxydans',\n",
       " '29': '[Candida] mogii',\n",
       " '30': 'Blastobotrys adeninivorans',\n",
       " '31': 'Rhizobium etli',\n",
       " '32': 'Scheffersomyces stipitis',\n",
       " '33': 'Rhizomucor pusillus',\n",
       " '34': 'Meyerozyma caribbica',\n",
       " '35': 'Meyerozyma caribbica',\n",
       " '36': 'Gluconobacter oxydans',\n",
       " '37': 'Saccharomyces cerevisiae',\n",
       " '38': 'Spathaspora passalidarum',\n",
       " '39': 'Spathaspora passalidarum',\n",
       " '40': 'Pichia kudriavzevii',\n",
       " '41': 'Torulaspora delbrueckii',\n",
       " '42': 'Spathaspora passalidarum'}"
      ]
     },
     "execution_count": 9,
     "metadata": {},
     "output_type": "execute_result"
    }
   ],
   "source": [
    "def get_organisms(ec_dict):\n",
    "    organisms = {}\n",
    "    for o_id, organism in ec_dict['organisms'].items():\n",
    "        organisms[o_id] = organism['value']\n",
    "    return organisms\n",
    "get_organisms(example)"
   ]
  },
  {
   "cell_type": "code",
   "execution_count": 10,
   "id": "b88d2466-f620-4cb3-99a0-9a27cd6cb637",
   "metadata": {},
   "outputs": [
    {
     "data": {
      "text/plain": [
       "{'1': '13654257',\n",
       " '2': '13789254',\n",
       " '3': '13692998',\n",
       " '5': '16347161',\n",
       " '6': '8339',\n",
       " '7': '3886639',\n",
       " '9': '8504864',\n",
       " '10': '10957958',\n",
       " '11': '9103975',\n",
       " '12': '1482390',\n",
       " '13': '10779871',\n",
       " '14': '1393828',\n",
       " '15': '10486580',\n",
       " '16': '12721451',\n",
       " '17': '12018268',\n",
       " '18': '12018283',\n",
       " '19': '15107950',\n",
       " '20': '12723607',\n",
       " '22': '12604239',\n",
       " '23': '12111747',\n",
       " '24': '16233653',\n",
       " '25': '15177159',\n",
       " '27': '15806613',\n",
       " '28': '15803389',\n",
       " '29': '16751533',\n",
       " '30': '16505992',\n",
       " '31': '16775788',\n",
       " '32': '15623532',\n",
       " '34': '16531240',\n",
       " '35': '17662053',\n",
       " '36': '17630301',\n",
       " '37': '16977466',\n",
       " '38': '17216457',\n",
       " '39': '17343568',\n",
       " '41': '17350704',\n",
       " '42': '17651216',\n",
       " '43': '19452479',\n",
       " '45': '18830730',\n",
       " '46': '18346277',\n",
       " '47': '20177886',\n",
       " '48': '23436125',\n",
       " '49': '23398717',\n",
       " '51': '21903144',\n",
       " '52': '25082263',\n",
       " '53': '27245615',\n",
       " '54': '26975753',\n",
       " '55': '27506274',\n",
       " '56': '24570325',\n",
       " '57': '25363139',\n",
       " '58': '23287496',\n",
       " '59': '23578809',\n",
       " '60': '25082263',\n",
       " '61': '23432201',\n",
       " '62': '23287496',\n",
       " '63': '26975753',\n",
       " '64': '28126230',\n",
       " '65': '24570325',\n",
       " '66': '28070721',\n",
       " '67': '31552350',\n",
       " '68': '28550778',\n",
       " '69': '30705706',\n",
       " '70': '32388928',\n",
       " '72': '27506274',\n",
       " '73': '32171656',\n",
       " '74': '29712559'}"
      ]
     },
     "execution_count": 10,
     "metadata": {},
     "output_type": "execute_result"
    }
   ],
   "source": [
    "# TODO not all entries have pmid\n",
    "def get_references(ec_dict):\n",
    "    references = {}\n",
    "    for ref_id, data in ec_dict['references'].items():\n",
    "        if 'pmid' not in data:\n",
    "            continue\n",
    "        # print(data)\n",
    "        references[ref_id] = str(data['pmid'])\n",
    "    return references\n",
    "get_references(example)"
   ]
  },
  {
   "cell_type": "code",
   "execution_count": 8,
   "id": "ef61b837-fa74-4553-b617-cc5b17eead1f",
   "metadata": {},
   "outputs": [
    {
     "data": {
      "text/plain": [
       "defaultdict(list, {'Q5S3L3': [(6.0, 'Oenococcus oeni', ['22452826'], None)]})"
      ]
     },
     "execution_count": 8,
     "metadata": {},
     "output_type": "execute_result"
    }
   ],
   "source": [
    "def get_opt(ec_dict, proteins_dict, organism_dict, ref_dict, sec='temperature_optimum'):\n",
    "    uniprot_opt = defaultdict(list)\n",
    "    # extra_data = {}\n",
    "    for data in ec_dict[sec]:\n",
    "        if 'proteins' not in data:\n",
    "            continue\n",
    "        for i, prot_id in enumerate(data['proteins']):\n",
    "            org = organism_dict[prot_id]\n",
    "            refs = [ref_dict[r] for r in data['references'] if r in ref_dict]\n",
    "            for u_id in proteins_dict[prot_id]:\n",
    "                if 'num_value' in data:\n",
    "                    val = data['num_value']\n",
    "                elif 'min_value' in data:\n",
    "                    val = f\"{data['min_value']}-{data['max_value']}\"\n",
    "                # if u_id in uniprot_topt and uniprot_topt[u_id][0] != val:\n",
    "                #     print(f\"WARNING: {u_id} present twice. \"\n",
    "                #           f\"Orig topt: {uniprot_topt[u_id][0]}; New topt: {val}\")\n",
    "                uniprot_opt[u_id].append((val, org, refs, data.get('comment')))\n",
    "    return uniprot_opt\n",
    "get_opt(example, get_proteins(example), get_organisms(example), get_references(example), sec='ph_optimum')"
   ]
  },
  {
   "cell_type": "code",
   "execution_count": 20,
   "id": "becadae3-c043-489b-afe6-fd3bac17c01a",
   "metadata": {},
   "outputs": [
    {
     "data": {
      "text/plain": [
       "7754"
      ]
     },
     "execution_count": 20,
     "metadata": {},
     "output_type": "execute_result"
    }
   ],
   "source": [
    "len(brenda_dict['data'])"
   ]
  },
  {
   "cell_type": "code",
   "execution_count": 26,
   "id": "ec80a7a4-bc0e-42de-b1f4-9481fe4f2187",
   "metadata": {},
   "outputs": [
    {
     "data": {
      "text/plain": [
       "10545"
      ]
     },
     "execution_count": 26,
     "metadata": {},
     "output_type": "execute_result"
    }
   ],
   "source": [
    "len(uniprot_opts)"
   ]
  },
  {
   "cell_type": "code",
   "execution_count": 27,
   "id": "a622d4ac-7ac4-4773-b722-084345f1dbb9",
   "metadata": {},
   "outputs": [
    {
     "data": {
      "text/plain": [
       "3125"
      ]
     },
     "execution_count": 27,
     "metadata": {},
     "output_type": "execute_result"
    }
   ],
   "source": [
    "len(set(ec_num for ec_nums in uniprot_ec_num.values() for ec_num in ec_nums))"
   ]
  },
  {
   "cell_type": "code",
   "execution_count": 25,
   "id": "01436b27-6b08-4aa5-902e-672986264f0d",
   "metadata": {},
   "outputs": [],
   "source": [
    "uniprot_opts = defaultdict(list)\n",
    "uniprot_ec_num = defaultdict(list)\n",
    "for ec_num, ec_data in brenda_dict['data'].items():\n",
    "    if ec_num == \"spontaneous\" or 'proteins' not in ec_data:\n",
    "        continue\n",
    "    # print(ec_num)\n",
    "    section = 'ph_optimum'\n",
    "    if section in ec_data:\n",
    "        opt_data = get_opt(ec_data, \n",
    "                            get_proteins(ec_data),\n",
    "                            get_organisms(ec_data),\n",
    "                            get_references(ec_data),\n",
    "                            sec=section,\n",
    "                           )\n",
    "        for u_id, data in opt_data.items():\n",
    "            data = [tuple(list(d) + [ec_num]) for d in data]\n",
    "            # if u_id in uniprot_opts:\n",
    "                # print(f\"u_id: {u_id} already in uniprot_topts\")\n",
    "            uniprot_opts[u_id] += data\n",
    "            uniprot_ec_num[u_id] += [ec_num]"
   ]
  },
  {
   "cell_type": "code",
   "execution_count": 76,
   "id": "0f954d7c-d9dc-4026-9f30-4fee1e1636d2",
   "metadata": {},
   "outputs": [
    {
     "data": {
      "text/plain": [
       "[(40.0, ['22'], '#16# recombinant enzyme <22>'),\n",
       " (40.0, ['17', '25'], '#20# recombinant enzyme <25>')]"
      ]
     },
     "execution_count": 76,
     "metadata": {},
     "output_type": "execute_result"
    }
   ],
   "source": [
    "uniprot_topts['M9UYB0']"
   ]
  },
  {
   "cell_type": "code",
   "execution_count": 29,
   "id": "850fb512-3129-447b-a7af-2599d37b906f",
   "metadata": {},
   "outputs": [
    {
     "data": {
      "text/plain": [
       "['1.1.1.1']"
      ]
     },
     "execution_count": 29,
     "metadata": {},
     "output_type": "execute_result"
    }
   ],
   "source": [
    "uniprot_ec_num['Q6L0S1']"
   ]
  },
  {
   "cell_type": "code",
   "execution_count": 30,
   "id": "d728406a-1fa9-4aad-8d85-7b7a6362468d",
   "metadata": {},
   "outputs": [],
   "source": [
    "import os"
   ]
  },
  {
   "cell_type": "code",
   "execution_count": 36,
   "id": "fa7ef0f9-3436-4bc2-8f54-2c6b06889421",
   "metadata": {},
   "outputs": [],
   "source": [
    "out_file = \"inputs/brenda/ph_opt_data.tsv\"\n",
    "os.makedirs(\"inputs/brenda\", exist_ok=True)\n",
    "with open(out_file, 'w') as out:\n",
    "    out.write(f\"ec_num,uniprot_id,species,ph_opt,references,comments\\n\")\n",
    "    for u_id, rows in uniprot_opts.items():\n",
    "        for row in rows:\n",
    "            # print(row)\n",
    "            opt, sp, refs, comments, ec_num = row\n",
    "            out.write(f\"{ec_num}\\t{u_id}\\t{sp}\\t{opt}\\t{','.join(refs)}\\t{comments}\\n\")"
   ]
  },
  {
   "cell_type": "code",
   "execution_count": 39,
   "id": "71de7f64-f820-465d-9887-51662b8d0733",
   "metadata": {},
   "outputs": [],
   "source": [
    "# remove the \"assay at\" entries\n",
    "out_file = \"inputs/brenda/ph_opt_data_no_assay_at_no_mutant.tsv\"\n",
    "os.makedirs(\"inputs/brenda\", exist_ok=True)\n",
    "with open(out_file, 'w') as out:\n",
    "    out.write(f\"ec_num\\tuniprot_id\\topt\\tspecies\\treferences\\tcomments\\n\")\n",
    "    for u_id, rows in uniprot_opts.items():\n",
    "        for row in rows:\n",
    "            opt, org, refs, comments, ec_num = row\n",
    "            if comments:\n",
    "                # skip the assay at comments\n",
    "                comments = '; '.join(c for c in comments.split('; ') if 'assay at' not in c and 'mutant' not in c)\n",
    "                # if there are no comments left, then skip this entry\n",
    "                if len(comments) == 0:\n",
    "                    continue\n",
    "            else:\n",
    "                # TODO what if there are no comments at all\n",
    "                pass\n",
    "            out.write(f\"{ec_num}\\t{u_id}\\t{opt}\\t{org}\\t{','.join(refs)}\\t{comments}\\n\")"
   ]
  },
  {
   "cell_type": "code",
   "execution_count": 3,
   "id": "1d0888b3-b12c-4056-a192-a987311978dc",
   "metadata": {},
   "outputs": [],
   "source": [
    "out_file = \"inputs/brenda/ph_opt_data_no_assay_at_no_mutant.tsv\""
   ]
  },
  {
   "cell_type": "code",
   "execution_count": 6,
   "id": "32400e13-6857-4007-bf53-e8facbfe5a67",
   "metadata": {},
   "outputs": [
    {
     "data": {
      "text/html": [
       "<div>\n",
       "<style scoped>\n",
       "    .dataframe tbody tr th:only-of-type {\n",
       "        vertical-align: middle;\n",
       "    }\n",
       "\n",
       "    .dataframe tbody tr th {\n",
       "        vertical-align: top;\n",
       "    }\n",
       "\n",
       "    .dataframe thead th {\n",
       "        text-align: right;\n",
       "    }\n",
       "</style>\n",
       "<table border=\"1\" class=\"dataframe\">\n",
       "  <thead>\n",
       "    <tr style=\"text-align: right;\">\n",
       "      <th></th>\n",
       "      <th>ec_num</th>\n",
       "      <th>uniprot_id</th>\n",
       "      <th>opt</th>\n",
       "      <th>species</th>\n",
       "      <th>references</th>\n",
       "      <th>comments</th>\n",
       "    </tr>\n",
       "  </thead>\n",
       "  <tbody>\n",
       "    <tr>\n",
       "      <th>0</th>\n",
       "      <td>1.1.1.1</td>\n",
       "      <td>D4GSN2</td>\n",
       "      <td>11.0</td>\n",
       "      <td>Haloferax volcanii</td>\n",
       "      <td>7011375,3816781,2789998,22526808</td>\n",
       "      <td>#82# oxidation of ethanol, pyrazole-insensitiv...</td>\n",
       "    </tr>\n",
       "    <tr>\n",
       "      <th>1</th>\n",
       "      <td>1.1.1.1</td>\n",
       "      <td>D4GSN2</td>\n",
       "      <td>6.0</td>\n",
       "      <td>Haloferax volcanii</td>\n",
       "      <td>12834271,16000771,17072683,16390205,16243283,1...</td>\n",
       "      <td>#96,122# reduction of acetaldehyde &lt;144,255&gt;; ...</td>\n",
       "    </tr>\n",
       "  </tbody>\n",
       "</table>\n",
       "</div>"
      ],
      "text/plain": [
       "    ec_num uniprot_id   opt             species  \\\n",
       "0  1.1.1.1     D4GSN2  11.0  Haloferax volcanii   \n",
       "1  1.1.1.1     D4GSN2   6.0  Haloferax volcanii   \n",
       "\n",
       "                                          references  \\\n",
       "0                   7011375,3816781,2789998,22526808   \n",
       "1  12834271,16000771,17072683,16390205,16243283,1...   \n",
       "\n",
       "                                            comments  \n",
       "0  #82# oxidation of ethanol, pyrazole-insensitiv...  \n",
       "1  #96,122# reduction of acetaldehyde <144,255>; ...  "
      ]
     },
     "execution_count": 6,
     "metadata": {},
     "output_type": "execute_result"
    }
   ],
   "source": [
    "df = pd.read_csv(out_file, sep='\\t')\n",
    "df.head(2)"
   ]
  },
  {
   "cell_type": "code",
   "execution_count": 41,
   "id": "5abd96e3-4998-4217-b350-87364f1430f6",
   "metadata": {},
   "outputs": [
    {
     "data": {
      "text/plain": [
       "3.2.1.8      125\n",
       "3.2.1.4      102\n",
       "1.10.3.2      80\n",
       "3.2.1.1       76\n",
       "3.2.1.14      74\n",
       "            ... \n",
       "2.1.1.116      1\n",
       "3.2.2.1        1\n",
       "3.2.2.2        1\n",
       "3.2.2.16       1\n",
       "7.6.2.9        1\n",
       "Name: ec_num, Length: 2015, dtype: int64"
      ]
     },
     "execution_count": 41,
     "metadata": {},
     "output_type": "execute_result"
    }
   ],
   "source": [
    "df.ec_num.value_counts()"
   ]
  },
  {
   "cell_type": "code",
   "execution_count": 43,
   "id": "ce4d7c4f-c83a-44fc-bce3-3beffb299f7f",
   "metadata": {},
   "outputs": [
    {
     "data": {
      "text/plain": [
       "Homo sapiens            565\n",
       "Arabidopsis thaliana    258\n",
       "Escherichia coli        207\n",
       "Mus musculus            132\n",
       "Bacillus subtilis       115\n",
       "                       ... \n",
       "Sphingobium sp. TCM1      1\n",
       "Variovorax sp.            1\n",
       "Arthrobacter agilis       1\n",
       "Nelumbo nucifera          1\n",
       "Acyrthosiphon pisum       1\n",
       "Name: species, Length: 2053, dtype: int64"
      ]
     },
     "execution_count": 43,
     "metadata": {},
     "output_type": "execute_result"
    }
   ],
   "source": [
    "df.species.value_counts()"
   ]
  },
  {
   "cell_type": "code",
   "execution_count": 44,
   "id": "f456fdda-58ea-4f7a-9dcf-f7b8e67f07fe",
   "metadata": {},
   "outputs": [
    {
     "data": {
      "text/plain": [
       "P08659    9\n",
       "P13006    8\n",
       "Q9YBQ2    8\n",
       "P07102    7\n",
       "P00784    7\n",
       "         ..\n",
       "P19938    1\n",
       "Q9P9M8    1\n",
       "P24298    1\n",
       "Q8NT48    1\n",
       "Q0PCR9    1\n",
       "Name: uniprot_id, Length: 6777, dtype: int64"
      ]
     },
     "execution_count": 44,
     "metadata": {},
     "output_type": "execute_result"
    }
   ],
   "source": [
    "df.uniprot_id.value_counts()"
   ]
  },
  {
   "cell_type": "code",
   "execution_count": 49,
   "id": "890b623d-ba32-4769-8101-24d8de20c74a",
   "metadata": {},
   "outputs": [
    {
     "data": {
      "text/plain": [
       "8.0         1089\n",
       "7.5          918\n",
       "7.0          879\n",
       "6.0          648\n",
       "5.0          397\n",
       "            ... \n",
       "8.5-8.7        1\n",
       "5.8-6.5        1\n",
       "6.2-6.6        1\n",
       "4.0-10.0       1\n",
       "6.1-6.5        1\n",
       "Name: opt, Length: 344, dtype: int64"
      ]
     },
     "execution_count": 49,
     "metadata": {},
     "output_type": "execute_result"
    }
   ],
   "source": [
    "df.opt.value_counts()"
   ]
  },
  {
   "cell_type": "code",
   "execution_count": 48,
   "id": "1d1bb66f-5563-40a8-922a-76d6c7b3bf41",
   "metadata": {},
   "outputs": [
    {
     "data": {
      "text/plain": [
       "array(['8.0', '7.5', '7.0', '6.0', '5.0', '6.5', '8.5', '9.0', '5.5',\n",
       "       '7.4', '4.5', '9.5', '10.0', '4.0', '7.8', '7.6', '7.2', '7.0-7.5',\n",
       "       '6.8', '7.5-8.0', '7.0-8.0', '6.5-7.0', '3.0', '8.0-9.0',\n",
       "       '7.5-8.5', '8.2', '8.5-9.0', '6.0-7.0', '3.5', '10.5', '7.3',\n",
       "       '6.5-7.5', '8.4', '8.8', '6.0-6.5', '5.5-6.0', '5.4', '8.0-8.5',\n",
       "       '5.0-6.0', '6.4', '6.7', '5.0-5.5', '8.3', '6.0-8.0', '4.5-5.0',\n",
       "       '8.6', '6.6', '5.2', '11.0', '5.8', '6.2', '6.3', '5.6', '8.7',\n",
       "       '7.7', '5.5-6.5', '2.0', '8.1', '5.3', '7.9', '7.1', '7.0-8.5',\n",
       "       '6.0-7.5', '4.0-4.5', '7.0-9.0', '9.0-10.0', '6.0-9.0', '9.2',\n",
       "       '5.5-7.0', '6.9', '8.0-10.0', '6.1', '4.6', '8.5-9.5', '7.5-9.0',\n",
       "       '9.0-9.5', '2.5', '5.7', '4.8', '7.6-8.5', '9.8', '6.4-6.9',\n",
       "       '4.5-5.5', '7.2-7.5', '6.5-8.0', '4.0-5.0', '5.0-7.0', '9.5-10.0',\n",
       "       '6.5-8.5', '4.0-6.0', '10.0-11.0', '4.2', '8.0-9.5', '7.5-7.8',\n",
       "       '3.5-4.0', '3.8', '6.8-8.0', '11.5', '10.0-10.5', '4.7', '7.0-7.4',\n",
       "       '9.6', '3.0-3.5', '5.9', '9.4', '4.4', '5.0-6.5', '6.8-7.2',\n",
       "       '9.4-9.8', '7.5-9.5', '7.6-8.0', '8.5-10.0', '4.5-6.5', '5.5-8.0',\n",
       "       '7.0-9.5', '5.1', '12.0', '7.2-7.4', '6.75', '3.6', '9.3',\n",
       "       '6.0-10.0', '3.8-4.5', '6.2-7.8', '3.0-4.0', '8.2-8.8', '6.3-6.5',\n",
       "       '7.6-9.0', '8.5-10.5', '1.5', '6.0-8.5', '4.5-6.0', '7.5-10.0',\n",
       "       '7.0-10.0', '6.5-7.25', '6.5-9.0', '7.0-8.3', '5.5-7.5',\n",
       "       '9.0-11.0', '9.7', '9.1', '8.3-8.6', '6.7-7.0', '6.8-7.5', '10.14',\n",
       "       '6.5-7.8', '7.2-7.8', '7.5-8.8', '7.8-8.2', '5.7-6.3', '1.8',\n",
       "       '4.0-7.0', '8.1-8.4', '5.0-8.0', '3.8-4.2', '6.8-7.8', '5.75',\n",
       "       '6.9-7.6', '4.9', '2.3', '5.7-6.5', '7.4-7.6', '5.0-7.5',\n",
       "       '4.0-8.0', '7.8-8.0', '7.0-11.0', '3.2', '5.0-10.0', '9.9',\n",
       "       '6.7-8.0', '7.6-8.2', '4.5-8.5', '2.5-3.0', '5.8-6.3', '8.0-9.2',\n",
       "       '14.0', '8.0-8.2', '7.2-8.0', '7.5-7.6', '6.8-7.0', '2.8',\n",
       "       '5.5-10.5', '8.8-9.0', '6.5-6.8', '8.2-8.4', '10.2', '2.6', '8.9',\n",
       "       '8.0-8.3', '4.75', '4.3', '2.0-4.0', '11.2', '4.8-6.2', '7.4-8.6',\n",
       "       '6.6-8.4', '8.25', '4.0-6.5', '10.0-12.0', '2.0-5.5', '3.0-3.3',\n",
       "       '2.4-3.5', '5.3-8.0', '3.6-4.5', '2.4', '6.7-7.7', '7.31',\n",
       "       '3.9-4.5', '5.6-6.2', '5.4-6.7', '2.0-2.4', '5.0-6.9', '3.9-4.9',\n",
       "       '7.0-9.3', '7.2-7.3', '2.7', '5.9-8.0', '5.6-7.5', '5.8-6.0',\n",
       "       '6.2-8.0', '4.25', '5.3-5.7', '1.5-3.0', '7.5-8.2', '9.5-10.5',\n",
       "       '5.5-8.5', '3.8-4.6', '7.8-9.0', '7.0-10.5', '8.0-8.6', '6.8-8.7',\n",
       "       '6.8-7.6', '4.1', '7.0-8.2', '7.8-8.4', '4.2-4.6', '6.3-6.7',\n",
       "       '1.7', '8.8-9.5', '9.0-9.6', '4.4-5.5', '6.6-7.0', '2.9',\n",
       "       '5.2-6.8', '9.4-10.2', '2.2', '6.6-7.4', '4.7-5.5', '7.7-10.4',\n",
       "       '4.7-6.5', '7.2-9.1', '7.7-7.9', '5.5-9.0', '6.0-6.4', '7.0-7.2',\n",
       "       '10.3', '8.75', '9.0-10.5', '7.8-8.5', '5.5-5.8', '9.35',\n",
       "       '3.5-6.5', '6.5-9.5', '6.25', '8.3-8.8', '9.0-11.5', '10.0-10.3',\n",
       "       '8.3-8.7', '6.9-7.4', '6.2-6.8', '6.0-6.6', '7.2-7.6', '7.0-7.8',\n",
       "       '6.6-7.8', '5.5-6.1', '7.1-7.3', '8.0-8.8', '7.4-10.0', '6.6-7.7',\n",
       "       '11.7', '3.5-4.5', '4.0-4.4', '2.0-3.5', '10.1', '10.3-10.5',\n",
       "       '5.8-7.2', '7.8-8.3', '6.8-7.4', '9.25', '11.3', '6.9-7.8',\n",
       "       '7.0-8.4', '5.5-9.5', '6.86', '4.5-7.5', '5.4-6.4', '2.5-5.5',\n",
       "       '3.0-9.0', '3.0-5.0', '3.0-6.5', '7.0-9.2', '5.8-6.6', '3.5-5.0',\n",
       "       '9.5-10.3', '6.5-10.5', '5.7-6.0', '8.4-8.5', '8.09', '4.7-5.2',\n",
       "       '4.1-4.6', '3.5-6.0', '7.6-7.8', '7.3-7.4', '6.0-7.3', '8.9-9.0',\n",
       "       '2.8-4.8', '8.7-9.0', '6.7-6.8', '6.35', '4.7-4.8', '3.9',\n",
       "       '6.5-7.7', '7.4-9.0', '5.6-8.5', '5.8-7.8', '7.4-8.0', '7.0-7.7',\n",
       "       '4.5-7.0', '7.5-11.0', '7.0-11.5', '5.0-8.5', '4.8-6.4', '5.2-7.2',\n",
       "       '4.0-9.0', '7.8-8.15', '7.9-8.4', '6.8-8.2', '8.1-8.2', '8.46',\n",
       "       '8.5-8.7', '5.8-6.5', '6.2-6.6', '4.0-10.0', '6.1-6.5'],\n",
       "      dtype=object)"
      ]
     },
     "execution_count": 48,
     "metadata": {},
     "output_type": "execute_result"
    }
   ],
   "source": [
    "df.opt.value_counts().index.values"
   ]
  },
  {
   "cell_type": "code",
   "execution_count": 59,
   "id": "59ba821b-802d-4170-85bf-0d103a080ece",
   "metadata": {},
   "outputs": [],
   "source": [
    "# for each uniprot ID, take the average pH as the optimum\n",
    "df['opt_min'] = df.opt.apply(lambda x: np.min([float(x.split('-')[0]), float(x.split('-')[1])])  if '-' in x else x)\n",
    "df['opt_min'] = df['opt_min'].astype(float)"
   ]
  },
  {
   "cell_type": "code",
   "execution_count": 77,
   "id": "e11ce986-5b11-4fe3-9c0b-26ae075f353e",
   "metadata": {},
   "outputs": [],
   "source": [
    "# now for each repeated uniprot_id, keep the one with the smallest pH_opt \n",
    "# Since many duplicate protein rows catalyze different reactions e.g., oxidation vs reduction\n",
    "df_min = df.sort_values('opt_mean').drop_duplicates(subset='uniprot_id', keep='first')"
   ]
  },
  {
   "cell_type": "code",
   "execution_count": 78,
   "id": "606ed05f-7ceb-4947-a07e-90c1854f7faf",
   "metadata": {},
   "outputs": [
    {
     "name": "stdout",
     "output_type": "stream",
     "text": [
      "8367 6777\n"
     ]
    }
   ],
   "source": [
    "print(len(df), len(df_min))"
   ]
  },
  {
   "cell_type": "code",
   "execution_count": 72,
   "id": "de2ec02a-c31a-4daa-8fe0-99ad1fc3a041",
   "metadata": {},
   "outputs": [],
   "source": [
    "import matplotlib.pyplot as plt"
   ]
  },
  {
   "cell_type": "code",
   "execution_count": 73,
   "id": "c38646a6-ae01-482e-87ce-5ed53098b850",
   "metadata": {},
   "outputs": [
    {
     "data": {
      "text/plain": [
       "(1.0, 12.0)"
      ]
     },
     "execution_count": 73,
     "metadata": {},
     "output_type": "execute_result"
    },
    {
     "data": {
      "image/png": "[encoded data removed]",
      "text/plain": [
       "<Figure size 640x480 with 1 Axes>"
      ]
     },
     "metadata": {},
     "output_type": "display_data"
    }
   ],
   "source": [
    "df.opt_mean.hist(bins=30)\n",
    "plt.xlim(1,12)"
   ]
  },
  {
   "cell_type": "code",
   "execution_count": 74,
   "id": "2de96bfd-6d1a-424a-962f-4280f0bb014e",
   "metadata": {},
   "outputs": [
    {
     "data": {
      "text/plain": [
       "(1.0, 12.0)"
      ]
     },
     "execution_count": 74,
     "metadata": {},
     "output_type": "execute_result"
    },
    {
     "data": {
      "image/png": "[encoded data removed]",
      "text/plain": [
       "<Figure size 640x480 with 1 Axes>"
      ]
     },
     "metadata": {},
     "output_type": "display_data"
    }
   ],
   "source": [
    "df.opt_min.hist(bins=30)\n",
    "plt.xlim(1,12)"
   ]
  },
  {
   "cell_type": "code",
   "execution_count": 85,
   "id": "e5c64513-b603-45e5-8baf-0c58f9ae1a11",
   "metadata": {},
   "outputs": [
    {
     "data": {
      "text/plain": [
       "(1.0, 12.0)"
      ]
     },
     "execution_count": 85,
     "metadata": {},
     "output_type": "execute_result"
    },
    {
     "data": {
      "image/png": "[encoded data removed]",
      "text/plain": [
       "<Figure size 640x480 with 1 Axes>"
      ]
     },
     "metadata": {},
     "output_type": "display_data"
    }
   ],
   "source": [
    "df_min.opt_mean.hist(bins=30)\n",
    "plt.xlim(1,12)"
   ]
  },
  {
   "cell_type": "code",
   "execution_count": 88,
   "id": "26d5857f-2d22-411e-8c1f-ffa9f7771317",
   "metadata": {},
   "outputs": [],
   "source": [
    "# first build a predictor on the ph_opt to see how well it does\n",
    "df_min.drop(columns=['opt_min']).to_csv(\"inputs/brenda/ph_opt_processed.tsv\", sep='\\t', index=False)"
   ]
  },
  {
   "cell_type": "code",
   "execution_count": 90,
   "id": "cde5017a-3387-4a79-a76a-22f79d31c533",
   "metadata": {},
   "outputs": [
    {
     "data": {
      "text/html": [
       "<div>\n",
       "<style scoped>\n",
       "    .dataframe tbody tr th:only-of-type {\n",
       "        vertical-align: middle;\n",
       "    }\n",
       "\n",
       "    .dataframe tbody tr th {\n",
       "        vertical-align: top;\n",
       "    }\n",
       "\n",
       "    .dataframe thead th {\n",
       "        text-align: right;\n",
       "    }\n",
       "</style>\n",
       "<table border=\"1\" class=\"dataframe\">\n",
       "  <thead>\n",
       "    <tr style=\"text-align: right;\">\n",
       "      <th></th>\n",
       "      <th>ec_num</th>\n",
       "      <th>uniprot_id</th>\n",
       "      <th>opt</th>\n",
       "      <th>species</th>\n",
       "      <th>references</th>\n",
       "      <th>comments</th>\n",
       "      <th>opt_mean</th>\n",
       "      <th>opt_min</th>\n",
       "    </tr>\n",
       "  </thead>\n",
       "  <tbody>\n",
       "    <tr>\n",
       "      <th>3842</th>\n",
       "      <td>3.1.1.1</td>\n",
       "      <td>Q2PCE5</td>\n",
       "      <td>1.5</td>\n",
       "      <td>Ferroplasma acidiphilum</td>\n",
       "      <td>16478448</td>\n",
       "      <td>None</td>\n",
       "      <td>1.5</td>\n",
       "      <td>1.5</td>\n",
       "    </tr>\n",
       "    <tr>\n",
       "      <th>5274</th>\n",
       "      <td>3.2.1.23</td>\n",
       "      <td>C7SLY9</td>\n",
       "      <td>1.5</td>\n",
       "      <td>Bispora sp.</td>\n",
       "      <td>19453169</td>\n",
       "      <td>None</td>\n",
       "      <td>1.5</td>\n",
       "      <td>1.5</td>\n",
       "    </tr>\n",
       "  </tbody>\n",
       "</table>\n",
       "</div>"
      ],
      "text/plain": [
       "        ec_num uniprot_id  opt                  species references comments  \\\n",
       "3842   3.1.1.1     Q2PCE5  1.5  Ferroplasma acidiphilum   16478448     None   \n",
       "5274  3.2.1.23     C7SLY9  1.5              Bispora sp.   19453169     None   \n",
       "\n",
       "      opt_mean  opt_min  \n",
       "3842       1.5      1.5  \n",
       "5274       1.5      1.5  "
      ]
     },
     "execution_count": 90,
     "metadata": {},
     "output_type": "execute_result"
    }
   ],
   "source": [
    "df_min.head(2)"
   ]
  },
  {
   "cell_type": "markdown",
   "id": "660a1709-ad56-405f-bd10-2532aaf94364",
   "metadata": {},
   "source": [
    "### Get the sequences from the uniprot IDs"
   ]
  },
  {
   "cell_type": "code",
   "execution_count": 89,
   "id": "61e4b6f0-dbb4-4b99-a05b-c512869e98e2",
   "metadata": {},
   "outputs": [],
   "source": [
    "# copied from here: https://stackoverflow.com/a/29805905/7483950\n",
    "def read_fasta(fp, gzipped=False):\n",
    "        name, seq = None, []\n",
    "        for line in fp:\n",
    "            if gzipped:\n",
    "                line = line.decode()\n",
    "            line = line.rstrip()\n",
    "            if line.startswith(\">\"):\n",
    "                if name: yield (name, ''.join(seq))\n",
    "                name, seq = line[1:], []\n",
    "            else:\n",
    "                seq.append(line)\n",
    "        if name: yield (name, ''.join(seq))"
   ]
  },
  {
   "cell_type": "code",
   "execution_count": 91,
   "id": "e81a5345-53f1-4fa4-9a9c-f1e099d321e2",
   "metadata": {},
   "outputs": [
    {
     "name": "stdout",
     "output_type": "stream",
     "text": [
      "6777\n"
     ]
    }
   ],
   "source": [
    "u_ids = set(df_min.uniprot_id.unique())\n",
    "print(len(u_ids))"
   ]
  },
  {
   "cell_type": "code",
   "execution_count": 95,
   "id": "10a21b92-00d5-452d-88a6-735693b6869d",
   "metadata": {},
   "outputs": [
    {
     "name": "stdout",
     "output_type": "stream",
     "text": [
      "reading /projects/bpms/jlaw/inputs/uniprot/2023-01/uniprot_sprot_shortid.fasta.gz\n"
     ]
    },
    {
     "name": "stderr",
     "output_type": "stream",
     "text": [
      "568744it [00:04, 118899.89it/s]"
     ]
    },
    {
     "name": "stdout",
     "output_type": "stream",
     "text": [
      "\t2933 found\n"
     ]
    },
    {
     "name": "stderr",
     "output_type": "stream",
     "text": [
      "\n"
     ]
    }
   ],
   "source": [
    "import gzip\n",
    "from tqdm import tqdm\n",
    "# find the sequences based on the uniprot IDs\n",
    "fasta_file = \"/projects/bpms/jlaw/inputs/uniprot/2023-01/uniprot_sprot_shortid.fasta.gz\"\n",
    "print(f\"reading {fasta_file}\")\n",
    "uniprot_to_seq = {}\n",
    "with gzip.open(fasta_file, 'r') as f:\n",
    "    for name, seq in tqdm(read_fasta(f, gzipped=True)):\n",
    "        if name not in u_ids:\n",
    "            continue\n",
    "        uniprot_to_seq[name] = seq\n",
    "\n",
    "print(f\"\\t{len(uniprot_to_seq)} found\")"
   ]
  },
  {
   "cell_type": "code",
   "execution_count": 97,
   "id": "a91f4be7-d0d4-4c70-9d79-00f8d2474a84",
   "metadata": {},
   "outputs": [
    {
     "name": "stderr",
     "output_type": "stream",
     "text": [
      "0it [00:00, ?it/s]"
     ]
    },
    {
     "name": "stdout",
     "output_type": "stream",
     "text": [
      "tr|Q2PCE5|Q2PCE5_9ARCH Carboxylesterase OS=Ferroplasma acidiphilum OX=74969 GN=est PE=1 SV=1 MHLMNMVDPDFNSLIELSKSAGDMTKIEPAMLRNFLDESSLSSRGAPVEIKEIKDYKIKLDGRTLNARMYDDNNAKSAILYYHGGGFLFGNIETYDNYCRFLAKESGVKIISIEYRLAPEHKFPDAFNDAYDSFHYIAKKKKDFGIEGRIGVAGDSAGANLAAALCLKCRDGKTEMPAVQVLFYPSLAPDNFSRSFIEYSDNYVLTGKMIRYFGNMYSKNMQDLINPYFSPLVADDFSNLPPAIMVTNEYDPLRDPEETYVKKLREAGVRAVGIRGIGMIHGSATDFEVSDGARNIVKMVARIIPDYL\n"
     ]
    },
    {
     "name": "stderr",
     "output_type": "stream",
     "text": [
      "\n"
     ]
    }
   ],
   "source": [
    "uniprot_download_seqs_file = \"inputs/brenda/uniprot/20230504-uniprot-download.fasta.gz\"\n",
    "with gzip.open(uniprot_download_seqs_file, 'r') as f:\n",
    "    for name, seq in tqdm(read_fasta(f, gzipped=True)):\n",
    "        print(name, seq)\n",
    "        break"
   ]
  },
  {
   "cell_type": "code",
   "execution_count": 98,
   "id": "0c049047-c5c7-4432-8473-3fbc9584900c",
   "metadata": {},
   "outputs": [
    {
     "name": "stdout",
     "output_type": "stream",
     "text": [
      "6748\n"
     ]
    },
    {
     "data": {
      "text/html": [
       "<div>\n",
       "<style scoped>\n",
       "    .dataframe tbody tr th:only-of-type {\n",
       "        vertical-align: middle;\n",
       "    }\n",
       "\n",
       "    .dataframe tbody tr th {\n",
       "        vertical-align: top;\n",
       "    }\n",
       "\n",
       "    .dataframe thead th {\n",
       "        text-align: right;\n",
       "    }\n",
       "</style>\n",
       "<table border=\"1\" class=\"dataframe\">\n",
       "  <thead>\n",
       "    <tr style=\"text-align: right;\">\n",
       "      <th></th>\n",
       "      <th>From</th>\n",
       "      <th>Entry</th>\n",
       "      <th>Reviewed</th>\n",
       "      <th>Gene Names</th>\n",
       "      <th>Length</th>\n",
       "      <th>Protein names</th>\n",
       "      <th>Organism</th>\n",
       "      <th>Entry Name</th>\n",
       "      <th>Sequence</th>\n",
       "    </tr>\n",
       "  </thead>\n",
       "  <tbody>\n",
       "    <tr>\n",
       "      <th>0</th>\n",
       "      <td>Q2PCE5</td>\n",
       "      <td>Q2PCE5</td>\n",
       "      <td>unreviewed</td>\n",
       "      <td>est</td>\n",
       "      <td>308</td>\n",
       "      <td>Carboxylesterase (EC 3.1.1.1)</td>\n",
       "      <td>Ferroplasma acidiphilum</td>\n",
       "      <td>Q2PCE5_9ARCH</td>\n",
       "      <td>MHLMNMVDPDFNSLIELSKSAGDMTKIEPAMLRNFLDESSLSSRGA...</td>\n",
       "    </tr>\n",
       "    <tr>\n",
       "      <th>1</th>\n",
       "      <td>C7SLY9</td>\n",
       "      <td>C7SLY9</td>\n",
       "      <td>unreviewed</td>\n",
       "      <td>BgalA</td>\n",
       "      <td>1002</td>\n",
       "      <td>Beta-galactosidase (EC 3.2.1.23)</td>\n",
       "      <td>Bispora sp. MEY-1</td>\n",
       "      <td>C7SLY9_9HELO</td>\n",
       "      <td>MLLSRSFAAGVVGCLTISSLAASIGPKVTNLKIREQDRLQDIVTWD...</td>\n",
       "    </tr>\n",
       "  </tbody>\n",
       "</table>\n",
       "</div>"
      ],
      "text/plain": [
       "     From   Entry    Reviewed Gene Names  Length  \\\n",
       "0  Q2PCE5  Q2PCE5  unreviewed        est     308   \n",
       "1  C7SLY9  C7SLY9  unreviewed      BgalA    1002   \n",
       "\n",
       "                      Protein names                 Organism    Entry Name  \\\n",
       "0     Carboxylesterase (EC 3.1.1.1)  Ferroplasma acidiphilum  Q2PCE5_9ARCH   \n",
       "1  Beta-galactosidase (EC 3.2.1.23)        Bispora sp. MEY-1  C7SLY9_9HELO   \n",
       "\n",
       "                                            Sequence  \n",
       "0  MHLMNMVDPDFNSLIELSKSAGDMTKIEPAMLRNFLDESSLSSRGA...  \n",
       "1  MLLSRSFAAGVVGCLTISSLAASIGPKVTNLKIREQDRLQDIVTWD...  "
      ]
     },
     "execution_count": 98,
     "metadata": {},
     "output_type": "execute_result"
    }
   ],
   "source": [
    "uniprot_download_seqs_file = \"inputs/brenda/uniprot/20230504-uniprot-download.tsv.gz\"\n",
    "df_seq = pd.read_csv(uniprot_download_seqs_file, sep='\\t')\n",
    "print(len(df_seq))\n",
    "df_seq.head(2)"
   ]
  },
  {
   "cell_type": "code",
   "execution_count": 107,
   "id": "3ce02ff1-6387-4284-bacd-6aad714f315d",
   "metadata": {},
   "outputs": [
    {
     "data": {
      "text/plain": [
       "P04745        3\n",
       "P10845        2\n",
       "P19805        2\n",
       "Q5W7F1        1\n",
       "Q6KF36        1\n",
       "             ..\n",
       "B3XZQ2        1\n",
       "A0A386YJ14    1\n",
       "P9WIN5        1\n",
       "Q75PK6        1\n",
       "D9YT79        1\n",
       "Name: From, Length: 6697, dtype: int64"
      ]
     },
     "execution_count": 107,
     "metadata": {},
     "output_type": "execute_result"
    }
   ],
   "source": [
    "df_seq.From.value_counts()"
   ]
  },
  {
   "cell_type": "code",
   "execution_count": 108,
   "id": "169d5deb-1b02-41a2-abcf-d4513b8119a9",
   "metadata": {},
   "outputs": [
    {
     "data": {
      "text/html": [
       "<div>\n",
       "<style scoped>\n",
       "    .dataframe tbody tr th:only-of-type {\n",
       "        vertical-align: middle;\n",
       "    }\n",
       "\n",
       "    .dataframe tbody tr th {\n",
       "        vertical-align: top;\n",
       "    }\n",
       "\n",
       "    .dataframe thead th {\n",
       "        text-align: right;\n",
       "    }\n",
       "</style>\n",
       "<table border=\"1\" class=\"dataframe\">\n",
       "  <thead>\n",
       "    <tr style=\"text-align: right;\">\n",
       "      <th></th>\n",
       "      <th>From</th>\n",
       "      <th>Entry</th>\n",
       "      <th>Reviewed</th>\n",
       "      <th>Gene Names</th>\n",
       "      <th>Length</th>\n",
       "      <th>Protein names</th>\n",
       "      <th>Organism</th>\n",
       "      <th>Entry Name</th>\n",
       "      <th>Sequence</th>\n",
       "    </tr>\n",
       "  </thead>\n",
       "  <tbody>\n",
       "    <tr>\n",
       "      <th>2438</th>\n",
       "      <td>P04745</td>\n",
       "      <td>P0DUB6</td>\n",
       "      <td>reviewed</td>\n",
       "      <td>AMY1A AMY1</td>\n",
       "      <td>511</td>\n",
       "      <td>Alpha-amylase 1A (EC 3.2.1.1) (1,4-alpha-D-glu...</td>\n",
       "      <td>Homo sapiens (Human)</td>\n",
       "      <td>AMY1A_HUMAN</td>\n",
       "      <td>MKLFWLLFTIGFCWAQYSSNTQQGRTSIVHLFEWRWVDIALECERY...</td>\n",
       "    </tr>\n",
       "    <tr>\n",
       "      <th>2439</th>\n",
       "      <td>P04745</td>\n",
       "      <td>P0DTE7</td>\n",
       "      <td>reviewed</td>\n",
       "      <td>AMY1B AMY1</td>\n",
       "      <td>511</td>\n",
       "      <td>Alpha-amylase 1B (EC 3.2.1.1)</td>\n",
       "      <td>Homo sapiens (Human)</td>\n",
       "      <td>AMY1B_HUMAN</td>\n",
       "      <td>MKLFWLLFTIGFCWAQYSSNTQQGRTSIVHLFEWRWVDIALECERY...</td>\n",
       "    </tr>\n",
       "    <tr>\n",
       "      <th>2440</th>\n",
       "      <td>P04745</td>\n",
       "      <td>P0DTE8</td>\n",
       "      <td>reviewed</td>\n",
       "      <td>AMY1C AMY1</td>\n",
       "      <td>511</td>\n",
       "      <td>Alpha-amylase 1C (EC 3.2.1.1)</td>\n",
       "      <td>Homo sapiens (Human)</td>\n",
       "      <td>AMY1C_HUMAN</td>\n",
       "      <td>MKLFWLLFTIGFCWAQYSSNTQQGRTSIVHLFEWRWVDIALECERY...</td>\n",
       "    </tr>\n",
       "  </tbody>\n",
       "</table>\n",
       "</div>"
      ],
      "text/plain": [
       "        From   Entry  Reviewed  Gene Names  Length  \\\n",
       "2438  P04745  P0DUB6  reviewed  AMY1A AMY1     511   \n",
       "2439  P04745  P0DTE7  reviewed  AMY1B AMY1     511   \n",
       "2440  P04745  P0DTE8  reviewed  AMY1C AMY1     511   \n",
       "\n",
       "                                          Protein names              Organism  \\\n",
       "2438  Alpha-amylase 1A (EC 3.2.1.1) (1,4-alpha-D-glu...  Homo sapiens (Human)   \n",
       "2439                      Alpha-amylase 1B (EC 3.2.1.1)  Homo sapiens (Human)   \n",
       "2440                      Alpha-amylase 1C (EC 3.2.1.1)  Homo sapiens (Human)   \n",
       "\n",
       "       Entry Name                                           Sequence  \n",
       "2438  AMY1A_HUMAN  MKLFWLLFTIGFCWAQYSSNTQQGRTSIVHLFEWRWVDIALECERY...  \n",
       "2439  AMY1B_HUMAN  MKLFWLLFTIGFCWAQYSSNTQQGRTSIVHLFEWRWVDIALECERY...  \n",
       "2440  AMY1C_HUMAN  MKLFWLLFTIGFCWAQYSSNTQQGRTSIVHLFEWRWVDIALECERY...  "
      ]
     },
     "execution_count": 108,
     "metadata": {},
     "output_type": "execute_result"
    }
   ],
   "source": [
    "df_seq[df_seq.From == \"P04745\"]"
   ]
  },
  {
   "cell_type": "code",
   "execution_count": 109,
   "id": "c303510f-48bb-425c-8012-88780cb31ca7",
   "metadata": {},
   "outputs": [
    {
     "data": {
      "text/plain": [
       "80"
      ]
     },
     "execution_count": 109,
     "metadata": {},
     "output_type": "execute_result"
    }
   ],
   "source": [
    "# TODO these uniprot IDs have been deleted. \n",
    "# Retrieve their sequences from uniparc\n",
    "len(u_ids - set(df_seq.From.unique()))"
   ]
  },
  {
   "cell_type": "code",
   "execution_count": 114,
   "id": "c212a058-1d9e-40b6-bf24-78fccd703c8c",
   "metadata": {},
   "outputs": [
    {
     "name": "stderr",
     "output_type": "stream",
     "text": [
      "/tmp/ipykernel_7675/2514609278.py:2: SettingWithCopyWarning: \n",
      "A value is trying to be set on a copy of a slice from a DataFrame\n",
      "\n",
      "See the caveats in the documentation: https://pandas.pydata.org/pandas-docs/stable/user_guide/indexing.html#returning-a-view-versus-a-copy\n",
      "  df_seq.rename(columns={'entry': 'uniprot_id'}, inplace=True)\n"
     ]
    }
   ],
   "source": [
    "df_seq.columns = [c.lower() for c in df_seq.columns]\n",
    "df_seq.rename(columns={'entry': 'uniprot_id'}, inplace=True)"
   ]
  },
  {
   "cell_type": "code",
   "execution_count": 115,
   "id": "0a5f9ea1-543f-4590-b72e-bbd74e78a83e",
   "metadata": {},
   "outputs": [],
   "source": [
    "df_seq.to_csv(\"inputs/brenda/uniprot/20230504_uniprot_seqs.csv\")"
   ]
  },
  {
   "cell_type": "markdown",
   "id": "ecf153a6-6cfc-4dc9-b00b-c357a99a096f",
   "metadata": {},
   "source": [
    "### Map the pH opt to the sequence"
   ]
  },
  {
   "cell_type": "code",
   "execution_count": 117,
   "id": "8c1e4b41-22ba-4b89-a3e1-588d08dc1b99",
   "metadata": {},
   "outputs": [],
   "source": [
    "df_min = df_min.set_index('uniprot_id')"
   ]
  },
  {
   "cell_type": "code",
   "execution_count": null,
   "id": "c63d3526-1c47-4202-aff2-98a29b87610a",
   "metadata": {},
   "outputs": [],
   "source": [
    "df_min['sequence'] = "
   ]
  },
  {
   "cell_type": "code",
   "execution_count": 119,
   "id": "0cb086d4-d88c-4571-9867-5e26b9aa734c",
   "metadata": {},
   "outputs": [
    {
     "data": {
      "text/html": [
       "<div>\n",
       "<style scoped>\n",
       "    .dataframe tbody tr th:only-of-type {\n",
       "        vertical-align: middle;\n",
       "    }\n",
       "\n",
       "    .dataframe tbody tr th {\n",
       "        vertical-align: top;\n",
       "    }\n",
       "\n",
       "    .dataframe thead th {\n",
       "        text-align: right;\n",
       "    }\n",
       "</style>\n",
       "<table border=\"1\" class=\"dataframe\">\n",
       "  <thead>\n",
       "    <tr style=\"text-align: right;\">\n",
       "      <th></th>\n",
       "      <th>ec_num</th>\n",
       "      <th>opt</th>\n",
       "      <th>species</th>\n",
       "      <th>references</th>\n",
       "      <th>comments</th>\n",
       "      <th>opt_mean</th>\n",
       "      <th>opt_min</th>\n",
       "      <th>sequence</th>\n",
       "    </tr>\n",
       "    <tr>\n",
       "      <th>uniprot_id</th>\n",
       "      <th></th>\n",
       "      <th></th>\n",
       "      <th></th>\n",
       "      <th></th>\n",
       "      <th></th>\n",
       "      <th></th>\n",
       "      <th></th>\n",
       "      <th></th>\n",
       "    </tr>\n",
       "  </thead>\n",
       "  <tbody>\n",
       "    <tr>\n",
       "      <th>Q2PCE5</th>\n",
       "      <td>3.1.1.1</td>\n",
       "      <td>1.5</td>\n",
       "      <td>Ferroplasma acidiphilum</td>\n",
       "      <td>16478448</td>\n",
       "      <td>None</td>\n",
       "      <td>1.5</td>\n",
       "      <td>1.5</td>\n",
       "      <td>MHLMNMVDPDFNSLIELSKSAGDMTKIEPAMLRNFLDESSLSSRGA...</td>\n",
       "    </tr>\n",
       "    <tr>\n",
       "      <th>C7SLY9</th>\n",
       "      <td>3.2.1.23</td>\n",
       "      <td>1.5</td>\n",
       "      <td>Bispora sp.</td>\n",
       "      <td>19453169</td>\n",
       "      <td>None</td>\n",
       "      <td>1.5</td>\n",
       "      <td>1.5</td>\n",
       "      <td>MLLSRSFAAGVVGCLTISSLAASIGPKVTNLKIREQDRLQDIVTWD...</td>\n",
       "    </tr>\n",
       "  </tbody>\n",
       "</table>\n",
       "</div>"
      ],
      "text/plain": [
       "              ec_num  opt                  species references comments  \\\n",
       "uniprot_id                                                               \n",
       "Q2PCE5       3.1.1.1  1.5  Ferroplasma acidiphilum   16478448     None   \n",
       "C7SLY9      3.2.1.23  1.5              Bispora sp.   19453169     None   \n",
       "\n",
       "            opt_mean  opt_min  \\\n",
       "uniprot_id                      \n",
       "Q2PCE5           1.5      1.5   \n",
       "C7SLY9           1.5      1.5   \n",
       "\n",
       "                                                     sequence  \n",
       "uniprot_id                                                     \n",
       "Q2PCE5      MHLMNMVDPDFNSLIELSKSAGDMTKIEPAMLRNFLDESSLSSRGA...  \n",
       "C7SLY9      MLLSRSFAAGVVGCLTISSLAASIGPKVTNLKIREQDRLQDIVTWD...  "
      ]
     },
     "execution_count": 119,
     "metadata": {},
     "output_type": "execute_result"
    }
   ],
   "source": [
    "df_seq2 = df_seq.drop_duplicates(subset='from')\n",
    "df_min['sequence'] = df_seq2.set_index('from').sequence\n",
    "df_min.head(2)"
   ]
  },
  {
   "cell_type": "code",
   "execution_count": 121,
   "id": "35912051-1ce9-44f7-a1fc-249b1571977b",
   "metadata": {},
   "outputs": [
    {
     "data": {
      "text/plain": [
       "Q2PCE5    1\n",
       "Q5F6P7    1\n",
       "Q6KF36    1\n",
       "Q8YZ99    1\n",
       "A8WEG5    1\n",
       "         ..\n",
       "Q9I4V0    1\n",
       "Q1JU59    1\n",
       "Q21JW4    1\n",
       "B5BLP0    1\n",
       "D9YT79    1\n",
       "Name: uniprot_id, Length: 6777, dtype: int64"
      ]
     },
     "execution_count": 121,
     "metadata": {},
     "output_type": "execute_result"
    }
   ],
   "source": [
    "df_min.reset_index().uniprot_id.value_counts()"
   ]
  },
  {
   "cell_type": "code",
   "execution_count": 120,
   "id": "ab87de2a-7e40-42bd-b205-86a21ac393a0",
   "metadata": {},
   "outputs": [
    {
     "data": {
      "text/plain": [
       "MVKLTHLLARAWLVPLAYGASQSLLSTTAPSQPQFTIPASADVGAQLIANIDDPQAADAQSVCPGYKASKVQHNSRGFTASLQLAGRPCNVYGTDVESLTLSVEYQDSDRLNIQILPTHVDSTNASWYFLSENLVPRPKASLNASVSQSDLFVSWSNEPSFNFKVIRKATGDALFSTEGTVLVYENQFIEFVTALPEEYNLYGLGEHITQFRLQRNANLTIYPSDDGTPIDQNLYGQHPFYLDTRYYKGDRQNGSYIPVKSSEADASQDYISLSHGVFLRNSHGLEILLRSQKLIWRTLGGGIDLTFYSGPAPADVTRQYLTSTVGLPAMQQYNTLGFHQCRWGYNNWSDLADVVANFEKFEIPLEYIWTDIDYMHGYRNFDNDQHRFSYSEGDEFLSKLHESGRYYVPIVDAALYIPNPENASDAYATYDRGAADDVFLKNPDGSLYIGAVWPGYTVFPDWHHPKAVDFWANELVIWSKKVAFDGVWYDMSEVSSFCVGSCGTGNLTLNPAHPSFLLPGEPGDIIYDYPEAFNITNATEAASASAGASSQAAATATTTSTSVSYLRTTPTPGVRNVEHPPYVINHDQEGHDLSVHAVSPNATHVDGVEEYDVHGLYGHQGLNATYQGLLEVWSHKRRPFIIGRSTFAGSGKWAGHWGGDNYSKWWSMYYSISQALSFSLFGIPMFGADTCGFNGNSDEELCNRWMQLSAFFPFYRNHNELSTIPQEPYRWASVIEATKSAMRIRYAILPYFYTLFDLAHTTGSTVMRALSWEFPNDPTLAAVETQFMVGPAIMVVPVLEPLVNTVKGVFPGVGHGEVWYDWYTQAAVDAKPGVNTTISAPLGHIPVYVRGGNILPMQEPALTTREARQTPWALLAALGSNGTASGQLYLDDGESIYPNATLHVDFTASRSSLRSSAQGRWKERNPLANVTVLGVNKEPSAVTLNGQAVFPGSVTYNSTSQVLFVGGLQNLTKGGAWAENWVLEW    3\n",
       "MLKRHQASRKVSSSLVALLKPSAIAVLATVALASGANAANYTASNASQLSARLQDAANNGTGVDVITIQGSIFTDQQIDIQTPVTIQGAAGFRVSRIIRTSDDGFQPLFNIQSSNVTIRNLLLIDEKGQNTNTQVASEAGNDHSNARLINIPYEDAYQQIANITIENNTFENTAVGVASSGLIPRNLSITNNDFIKVNRSVELLRDVGRVYNVWNVSANNVVLNGGTLNISNNRIRGNRVRLGISVDAGNDGVYVPPSFTNIPFFDAAARAQFSDKPVVFANGSQVNSNTVEGANEFGIALATVANVTVAGNTVSTTEDDINSSDDIENNFTAGINVEHNSRDIVVDSNTITVGASGNFATGINVLAFQDHHAPLNHAQASSNITLVRNIFKGTGENTILAFGFSNLVVEDNNASQFTTRNPYQVTASFYNVPCGLSTSTARGTNNNIRYNQSSFNGTGNAPQYYDKNGNVVSGYTCQ                                                                                                                                                                                                                                                                                                                                                                                                                                                                                                                               3\n",
       "MLTKNLLLCFAAAKAVLAVPHDSVVERSDALHKLSERSTPSSTGENNGFYYSFWTDGGGDVTYTNGDAGSYTVEWSNVGNFVGGKGWNPGSAQDITYSGTFTPSGNGYLSVYGWTTDPLIEYYIVESYGDYNPGSGGTYKGTVTSDGSVYDIYTATRTNAASIQGTATFTQYWSVRQNKRVGGTVTTSNHFNAWAKLGMNLGTHNYQIVATEGYQSSGSSSITVQ                                                                                                                                                                                                                                                                                                                                                                                                                                                                                                                                                                                                                                                                                                                                                                                            3\n",
       "MTTNYIFVTGGVVSSLGKGIAAASLAAILEARGLNVTIMKLDPYINVDPGTMSPIQHGEVFVTEDGAETDLDLGHYERFIRTKMSRRNNFTTGRIYSDVLRKERRGDYLGATVQVIPHITNAIKERVLEGGEGHDVVLVEIGGTVGDIESLPFLEAIRQMAVEIGREHTLFMHLTLVPYMAASGEVKTKPTQHSVKELLSIGIQPDILICRSDRAVPANERAKIALFCNVPEKAVISLKDVDSIYKIPGLLKSQGLDDYICKRFSLNCPEANLSEWEQVIFEEANPVSEVTIGMVGKYIELPDAYKSVIEALKHGGLKNRVSVNIKLIDSQDVETRGVEILKGLDAILVPGGFGYRGVEGMITTARFARENNIPYLGICLGMQVALIDYARHVANMENANSTEFVPDCKYPVVALITEWRDENGNVEVRSEKSDLGGTMRLGAQQCQLVDDSLVRQLYNAPTIVERHRHRYEVNNMLLKQIEDAGLRVAGRSGDDQLVEIIEVPNHPWFVACQFHPEFTSTPRDGHPLFAGFVKAASEFQKRQAK                                                                                                                                                                                                                                                                                                                                                                                                                                                            2\n",
       "MKYAASGLLSVALNSFLLLGSNTAFAATQDTAPVWHSIAFGQSTDVNFATNVLPDKVGVNDVTINGKKLTVNDKVDLSAPITIESRGGKIANTHDGLTFFYTQLPANVNFTLQSDVTVDQFGPESDAKPNAQEGAGLLVRDILGVPRQEPLKEGYEEFPAASNMVMNAIMTQDKKSKTDVKMQLISRDGVTQPWGNTNAQITRTSYQEKINLEQTPTFRLKLERTDDGFITSYAPKGSDQWVSKTVKGADLVTHQDKNHYYVGFFASRNAKITISNASLTTSPANTKPSAPFKAEVNAPLLQVASSPLSASDTYPVQARVNYNGTIEVFQNGKSLGKPQQIRAGDYFSLTAKLTQPKSDFKLVYVPGEGEDKTAKETSFSVEKIKLADAKNLYVSPEGKADNNGSKNAPLDIKTAINALQAGGTLRLMDGDYSATVIPVSASGNANGIKTLMPAGKKAIFHGLQLNASYWKVKGVEITEKSFRIEGSYNQIERVLAHHCDNTGIQVSSNDSVGRPLWASHNLILNSESHSNQDPSKKDADGFAIKMRVGEGNVIRGAFSHDNVDDGFDLFNKIEDGPNGVVVIGNSISVNNTSNGFKLGGEGQPVAHQVKNSIAIGNHMDGFSDNFNPGALQVTNNIALDNVRFNFIFRPSPYYGPEKQGIFKNNVSLRTQPGKYDDAVVGRVDASNYFIKNNRALNSQGKEITTANYKSVTVPAVFNRDEKGNLQLGDFLKKK                                                                                                                                                                                                                                                               2\n",
       "                                                                                                                                                                                                                                                                                                                                                                                                                                                                                                                                                                                                                                                                                                                                                                                                                                                                                                                                                                                                                            ..\n",
       "MKLAILGAGCYRTHAASGITNFSRACEVAEMVGKPEIAMTHSTITMGAELKELAGVDEVVVADPVFDNQFTVIDDFAYEDVIEAHKEDPEKIMPQIREKVNEVAKELPKPPEGAIHFTHPEDLGFEITTDDREAVADADFIMTWFPKGDMQPDIINKFIDDIKPGAIVTHACTIPTTKFYKIFEQKHGDLVTKPETLNVTSYHPGAVPEMKGQVYIAEGYASEDAIETLFELGQKARGNAYRLPAELLGPVCDMCSALTAITYAGILSYRDSVTQVLGAPASFAQMMAKESLEQITALMEKVGIDKMEENLDPGALLGTADSMNFGASAEILPTVFEILEKRKK                                                                                                                                                                                                                                                                                                                                                                                                                                                                                                                                                                                                                                                                     1\n",
       "MTALSPDHSISSSSTHTLDIARQEYQYNYNHIPSIAMVDRLSITEEFTTNWYFLLAQQLRVLFINTLIVNRGNQDSKSIRDDVERFILEALLKGAVPARISILARILQIIPQLLLKEISKDFRELDDLFHSILKENGLAILRDALKRIITLLYEGQPTGHATSLKDYENLFPVISLPAIAKTYQEDEVFAYMRVAGYNPVTIKRVTTLSDRFPVTDEHYQAVMGTDDSLAAAGIEGRLYLADYKILDGAINGTFPHEQKYLYAPLALFALPKGSDPTRLLRPVAIQCGQTPGPDYPIVTPNSGKYAWLFAKTIVQIADANIHEAVTHLARTHLLVGVFAIATARQLPLTHPLRILLRPHFDSTLAINDAAQRILIAPGGGVDRLLSSSIDNSRVLAVLGLQSYSFNSTILPNQFQQRGVDDPNLLPIYPYRDDALLIWNAIHQWVWDYLNLYYTTDEDIQKDRALQAWAAEIPAYDGGRIPDFGEDGGIKTLNYLIDATTLIIFTASAQHAAVNFPQKDLMGYAAAIPLAGYLPASTLKREVTEQDYLNLLPPLDQAQRQYNLLSLLGSVYYNKLGEYEQGYFTDEKVKPLLQAFQSHLQQVENTIKQRNLHRPPYEYLLPSKIPQSINI                                                                                                                                                                                                                                                                                                                                                                       1\n",
       "MVRISIAGGNEIDPGSMGLTLFHEHLRLITEVVRWNWPHLYNEDEELKRAIDAVNAAKKYGVKTIIDLTVAGIGCDVRFNEKVAKATGVNIIMGTGFYTYTEIPFYFKNRGIDSLVDAFVHDITIGIQGTNTRAAFVKAVIDSSGLTKDVEMAIRAAAKAHIKTDVPIITHSFVGNKSSLDLIRIFKEEGVDLARTVIGHVGDTDDISFIEQILREGAFIGLDRFGLDIYLPLDKRVKTAIELIKRGWIDQLLLSHDYCPTIDWYPPEVVRSTVPDWTMTLIFEKVIPRMRSEGITEEQINRVLIDNPRRLFTGR                                                                                                                                                                                                                                                                                                                                                                                                                                                                                                                                                                                                                                                                                                  1\n",
       "MMPNGYEMCWLDYKKHCDVDKNELSKWFSYICLFDPTDEFQVVKEELAIFVTDFLGFRPRFFKVFPKQGRHVLIGKLSDLPVEVNLDEQLSEEGFVLKYVKKQDAEFVIITGISAAGVLYGTFEFINRVRVGEDLRKLNVVSNPKIKLRFLNHWDNLDGTIERGYAGKSIFFSNNKILLNQRTKDYTRLIASIGINSVVINNVNVRHAALKLIEPAYLKRLSQLAQLFQRYGIKLFLSVSFASPIHLGGLDTADPLDERVKKWWKEKVKQIYDYIPNFGGFLIKADSEFNPGPHMYGRTQADGANMLAEALEPFGGLVIWRAFVYNCQQDWRDYKIDRAKAAYDIFKPLDGQFADNVAIQIKYGPMDFQIREPVSPLFGGMEKTNQILELQITQEYTGQQIHLCYLGTMWKEILDFDTFSKGNNSFVKRIIDGTLYGRKNNGIAGVANIGDDPNWTSHDLAQANLWTFGKLAWDPDEDVKKIVEEWIKLTFGDDELVVRNISYMLLNSREVYESYTTPFGLGWMVNPGHHYGPNPEGYEYSHWGTYHRANWEAIGVDRTSRGTGFTLQYHEPWRSIYDDIHKCPEELLLFFHRVPYNFKMKNGKTLLQNIYDLHFEGVEKVQEFIKLWDELEGKIDAVRFSRVKKKLQLQLEHAIEWRDVINTYFYRRTGIKDEKGRKIYP                                                                                                                                                                                                                                                                                                                    1\n",
       "MAAPPISGHPHSSVDSPLPTDALLAHPQLPSAPAPQAPTASRFLIILTAALAVSTSYLLLLRPPFSAVSAAASTSSFARPLSKLPKPVVLLISSDGFRFGYHHKAPTPHIRRLIANGTSAAEGLIPVFPTLTFPNHYSIVTGLHPSSHGIINNFFPDPISGDNFNMGSHEPKWWLGEPLWVTAADQGVQASTFFWPGSEVKKGSWDCPDKYCRHYNGSVPFEDRVDAVLGYFDLPVDEMPQFLTLYFEDPDHQGHQVGPDDPAITDAVTHIDEMIGRLIAGLEARGVFEDVNIILVGDHGMVGTCDQKLLFLEELAPWIEVKADWVLSRTPLLAIRPPDGISPSEVVAKMNEGLSSGKVKNGQYLKMYLKEDLPSRLHYSESYRIPPIIGLVAEGYKVEMKVSKKNECGGAHGYDNAFFSMRTIFIAHGPRFEEGKIVPSFVNVEIYNAIASILSLKPAPNNGSSSFPETVLLPSE                                                                                                                                                                                                                                                                                                                                                                                                                                                                                                                                 1\n",
       "Name: sequence, Length: 6657, dtype: int64"
      ]
     },
     "execution_count": 120,
     "metadata": {},
     "output_type": "execute_result"
    }
   ],
   "source": [
    "df_min.sequence.value_counts()"
   ]
  },
  {
   "cell_type": "markdown",
   "id": "af4e397e-7118-461b-810d-7a72d0a5e2b4",
   "metadata": {},
   "source": [
    "## pH Range"
   ]
  },
  {
   "cell_type": "markdown",
   "id": "155ca3a8-b7e7-4bc3-ac58-22b7f8dabd13",
   "metadata": {},
   "source": [
    "### Check how much pH range data there is"
   ]
  },
  {
   "cell_type": "code",
   "execution_count": 29,
   "id": "1abbf526-8740-42af-87c9-72fb6201f9a6",
   "metadata": {},
   "outputs": [
    {
     "data": {
      "text/plain": [
       "[{'organisms': ['15'],\n",
       "  'references': ['42'],\n",
       "  'min_value': 4.0,\n",
       "  'max_value': 11.0},\n",
       " {'comment': '#27# in the biosynthetic direction <38>',\n",
       "  'proteins': ['27'],\n",
       "  'organisms': ['27'],\n",
       "  'references': ['38'],\n",
       "  'min_value': 5.0,\n",
       "  'max_value': 9.0},\n",
       " {'comment': '#27# in the degradative direction <38>',\n",
       "  'proteins': ['27'],\n",
       "  'organisms': ['27'],\n",
       "  'references': ['38'],\n",
       "  'min_value': 5.0,\n",
       "  'max_value': 7.8},\n",
       " {'comment': '#31# hydrolysis reaction <32>',\n",
       "  'proteins': ['31'],\n",
       "  'organisms': ['31'],\n",
       "  'references': ['32'],\n",
       "  'min_value': 7.8,\n",
       "  'max_value': 8.5},\n",
       " {'comment': '#31# synthesis reaction <32>',\n",
       "  'proteins': ['31'],\n",
       "  'organisms': ['31'],\n",
       "  'references': ['32'],\n",
       "  'min_value': 5.5,\n",
       "  'max_value': 6.9}]"
      ]
     },
     "execution_count": 29,
     "metadata": {},
     "output_type": "execute_result"
    }
   ],
   "source": [
    "brenda_dict['data']['3.5.2.3']['ph_range']"
   ]
  },
  {
   "cell_type": "code",
   "execution_count": 11,
   "id": "5e43ba4e-3d60-4ab8-87ca-4d136805f21a",
   "metadata": {},
   "outputs": [
    {
     "name": "stdout",
     "output_type": "stream",
     "text": [
      "1540\n"
     ]
    }
   ],
   "source": [
    "ph_range_data = defaultdict(list)\n",
    "ph_max_data = defaultdict(list)\n",
    "comments = defaultdict(list)\n",
    "for ec_number, ec_data in brenda_dict['data'].items():\n",
    "    # if '4.1.1.' not in ec_number:\n",
    "        # continue\n",
    "    if 'ph_range' not in ec_data:\n",
    "        continue\n",
    "    seen_prots = set()\n",
    "    for entry in ec_data['ph_range']:\n",
    "        if 'proteins' not in entry:\n",
    "            continue\n",
    "        prot = entry['proteins'][0]\n",
    "            # if prot in seen_prots:\n",
    "                # continue\n",
    "            # seen_prots.add(prot)\n",
    "        # if 'num_value' in entry:\n",
    "            # val = entry['num_value']\n",
    "        if 'min_value' in entry:\n",
    "            # print(entry)\n",
    "            val = entry['min_value']\n",
    "            ph_range_data[ec_number].append(val)\n",
    "        if 'max_value' in entry:\n",
    "            ph_max_data[ec_number].append(entry['max_value'])\n",
    "        if 'comment' in entry:\n",
    "            comments[ec_number].append(entry['comment'])\n",
    "        # match up the protein with the min, max and comment values\n",
    "            \n",
    "print(len(ph_range_data))"
   ]
  },
  {
   "cell_type": "code",
   "execution_count": 41,
   "id": "640fc96d-1b6b-47a3-a0d1-c0b54d0f953b",
   "metadata": {},
   "outputs": [
    {
     "data": {
      "text/plain": [
       "[{'comment': '#11# oxidation of L-arabinitol with NAD+, recombinant enzyme, assay at <26>',\n",
       "  'proteins': ['11'],\n",
       "  'organisms': ['11'],\n",
       "  'references': ['26'],\n",
       "  'min_value': 8.0,\n",
       "  'max_value': 9.5},\n",
       " {'comment': '#15# recombinant enzyme <19>',\n",
       "  'proteins': ['13', '15'],\n",
       "  'organisms': ['13', '15'],\n",
       "  'references': ['14', '19'],\n",
       "  'num_value': 9.0},\n",
       " {'comment': '#16,17# assay at <22>',\n",
       "  'proteins': ['16'],\n",
       "  'organisms': ['17', '16'],\n",
       "  'references': ['22'],\n",
       "  'num_value': 9.6},\n",
       " {'comment': '#11# assay at <20>; #15# native enzyme <19>',\n",
       "  'proteins': ['11', '15'],\n",
       "  'organisms': ['11', '2', '15'],\n",
       "  'references': ['9', '19', '20', '21', '25'],\n",
       "  'num_value': 9.5}]"
      ]
     },
     "execution_count": 41,
     "metadata": {},
     "output_type": "execute_result"
    }
   ],
   "source": [
    "brenda_dict['data']['1.1.1.12']['ph_optimum']"
   ]
  },
  {
   "cell_type": "code",
   "execution_count": 42,
   "id": "36c1fdfd-7507-4fc1-b698-d54eefa0a9a9",
   "metadata": {},
   "outputs": [
    {
     "data": {
      "text/plain": [
       "[{'comment': '#13# 92% of maximal activity at pH 6.0, 70% at pH 8.0, 60% at pH 9.0, and maximal activity at pH 8.0 <35>',\n",
       "  'organisms': ['13'],\n",
       "  'references': ['35'],\n",
       "  'min_value': 6.0,\n",
       "  'max_value': 8.0},\n",
       " {'comment': '#7# pH 4.5: about 55% of maximal activity, pH 8.5: about 70% of maximal activity, reductase activity <21>',\n",
       "  'organisms': ['7'],\n",
       "  'references': ['21'],\n",
       "  'min_value': 4.5,\n",
       "  'max_value': 8.5},\n",
       " {'comment': '#7# pH 7.0: about 40% of maximal activity, pH 10.5: about 60% of maximal activity, oxidase activity <21>',\n",
       "  'organisms': ['7'],\n",
       "  'references': ['21'],\n",
       "  'min_value': 7.0,\n",
       "  'max_value': 10.5},\n",
       " {'comment': '#8# reduction of L-xylulose <8>',\n",
       "  'organisms': ['8'],\n",
       "  'references': ['8'],\n",
       "  'min_value': 5.0,\n",
       "  'max_value': 8.5},\n",
       " {'comment': '#8# oxidation of xylitol <8>',\n",
       "  'organisms': ['8'],\n",
       "  'references': ['8'],\n",
       "  'min_value': 8.0,\n",
       "  'max_value': 11.5}]"
      ]
     },
     "execution_count": 42,
     "metadata": {},
     "output_type": "execute_result"
    }
   ],
   "source": [
    "brenda_dict['data']['1.1.1.10']['ph_range']"
   ]
  },
  {
   "cell_type": "code",
   "execution_count": 15,
   "id": "3bf3807c-dcbc-4eb1-964d-c933b72d6749",
   "metadata": {},
   "outputs": [
    {
     "data": {
      "text/plain": [
       "[{'comment': '#1# stable to precipitation with 50% v/v <1>',\n",
       "  'organisms': ['1'],\n",
       "  'references': ['1'],\n",
       "  'value': 'Acetone'}]"
      ]
     },
     "execution_count": 15,
     "metadata": {},
     "output_type": "execute_result"
    }
   ],
   "source": [
    "brenda_dict['data']['1.1.1.9']['organic_solvent_stability']"
   ]
  },
  {
   "cell_type": "code",
   "execution_count": 17,
   "id": "5675b060-d5ee-426a-9296-968e3ea7f43c",
   "metadata": {},
   "outputs": [
    {
     "data": {
      "text/plain": [
       "dict_keys(['id', 'name', 'systematic_name', 'synonyms', 'localization', 'tissue', 'cofactor', 'activating_compound', 'inhibitor', 'metals_ions', 'posttranslational_modification', 'subunits', 'engineering', 'cloned', 'organic_solvent_stability', 'expression', 'general_information', 'crystallization', 'purification', 'renaturation', 'general_stability', 'oxygen_stability', 'storage_stability', 'generic_reaction', 'natural_reaction', 'reaction', 'turnover_number', 'km_value', 'ph_optimum', 'ph_range', 'ph_stability', 'specific_activity', 'temperature_optimum', 'temperature_range', 'temperature_stability', 'molecular_weight', 'isoelectric_point', 'ki_value', 'ic50', 'kcat_km', 'organisms', 'references', 'proteins'])"
      ]
     },
     "execution_count": 17,
     "metadata": {},
     "output_type": "execute_result"
    }
   ],
   "source": [
    "brenda_dict['data']['1.1.1.1'].keys()"
   ]
  },
  {
   "cell_type": "code",
   "execution_count": 30,
   "id": "097a3002-778b-41f3-8bff-b71a59077ede",
   "metadata": {},
   "outputs": [],
   "source": [
    "example = brenda_dict['data']['1.1.1.9']"
   ]
  },
  {
   "cell_type": "code",
   "execution_count": 13,
   "id": "1776fa48-b750-4195-81e8-dc1c50b01320",
   "metadata": {},
   "outputs": [],
   "source": [
    "example = brenda_dict['data']['4.1.1.101']"
   ]
  },
  {
   "cell_type": "markdown",
   "id": "e1b1912f-39b5-4e1a-bb4a-a790d1b64c14",
   "metadata": {},
   "source": [
    "### Extract proteins"
   ]
  },
  {
   "cell_type": "code",
   "execution_count": 12,
   "id": "dc6f65d2-ddcb-4a8c-87c1-f4106d1ec722",
   "metadata": {},
   "outputs": [
    {
     "data": {
      "text/plain": [
       "defaultdict(list,\n",
       "            {'A0A141BGH5': [(4.0,\n",
       "               8.0,\n",
       "               'Gluconobacter oxydans',\n",
       "               ['13654257', '26975753'],\n",
       "               ' #36# over 60% of maximal activity within this range for oxidation of xylitol, profile overview <63>'),\n",
       "              (10.0,\n",
       "               12.0,\n",
       "               'Gluconobacter oxydans',\n",
       "               ['26975753'],\n",
       "               '#36# over 60% of maximal activity within this range for reduction of D-xylulose, profile overview <63>')],\n",
       "             'P22144': [(5.5,\n",
       "               9.0,\n",
       "               'Scheffersomyces stipitis',\n",
       "               ['32171656'],\n",
       "               '#32# over 50% of maximal activity within this range, profile overview <73>')],\n",
       "             'S6BFC0': [(4.5,\n",
       "               10.5,\n",
       "               'Rhizomucor pusillus',\n",
       "               ['25082263'],\n",
       "               '#33# activity range, profile overview <60>'),\n",
       "              (4.0,\n",
       "               11.0,\n",
       "               'Rhizomucor pusillus',\n",
       "               ['25082263', '27506274'],\n",
       "               '#33# the enzyme loses its activity at pH higher than 11.0 and lower than 4.0 <52>')],\n",
       "             'A0A1B4XTS0': [(4.0,\n",
       "               11.0,\n",
       "               'Meyerozyma caribbica',\n",
       "               ['25082263', '27506274'],\n",
       "               ' #35# activity range, inactive above or below <55>')],\n",
       "             'A0A3S7PMB5': [(6.0,\n",
       "               9.0,\n",
       "               'Pichia kudriavzevii',\n",
       "               ['32171656'],\n",
       "               '#40# over 50% of maximal activity within this range, profile overview <73>')],\n",
       "             'A0A3S7PMC4': [(6.5,\n",
       "               9.0,\n",
       "               'Torulaspora delbrueckii',\n",
       "               ['32171656'],\n",
       "               '#41# over 50% of maximal activity within this range, profile overview <73>')]})"
      ]
     },
     "execution_count": 12,
     "metadata": {},
     "output_type": "execute_result"
    }
   ],
   "source": [
    "def get_ph_range(ec_dict, proteins_dict, organism_dict, ref_dict, sec='ph_range'):\n",
    "    uniprot_range = defaultdict(list)\n",
    "    # extra_data = {}\n",
    "    for data in ec_dict[sec]:\n",
    "        if 'proteins' not in data:\n",
    "            continue\n",
    "        for i, prot_id in enumerate(data['proteins']):\n",
    "            org = organism_dict[prot_id]\n",
    "            refs = [ref_dict[r] for r in data['references'] if r in ref_dict]\n",
    "            for u_id in proteins_dict[prot_id]:\n",
    "                prot_comment = data.get('comment')\n",
    "                # some entries have the multiple comments smushed together.\n",
    "                # only get this protein's comment\n",
    "                if prot_comment and ';' in prot_comment:\n",
    "                    comments = prot_comment.split(';')\n",
    "                    prot_comment = None\n",
    "                    for c in comments:\n",
    "                        if f\"#{prot_id}\" in c or f\"{prot_id}#\" in c:\n",
    "                            prot_comment = c\n",
    "\n",
    "                min_val = data['min_value'] if 'min_value' in data else data.get('num_value')\n",
    "                uniprot_range[u_id].append((min_val,\n",
    "                                            data.get('max_value'), \n",
    "                                            org, refs,\n",
    "                                            prot_comment,\n",
    "                                           ))\n",
    "                # if u_id in uniprot_topt and uniprot_topt[u_id][0] != val:\n",
    "                #     print(f\"WARNING: {u_id} present twice. \"\n",
    "                #           f\"Orig topt: {uniprot_topt[u_id][0]}; New topt: {val}\")\n",
    "    return uniprot_range\n",
    "get_ph_range(example, get_proteins(example), get_organisms(example), get_references(example), sec='ph_range')"
   ]
  },
  {
   "cell_type": "code",
   "execution_count": 20,
   "id": "a8ef5d1d-073d-4d05-966f-5b5fd728167a",
   "metadata": {},
   "outputs": [
    {
     "name": "stdout",
     "output_type": "stream",
     "text": [
      "2693\n"
     ]
    }
   ],
   "source": [
    "uniprot_ph_range = defaultdict(list)\n",
    "# uniprot_ec_num = defaultdict(list)\n",
    "for ec_num, ec_data in brenda_dict['data'].items():\n",
    "    if ec_num == \"spontaneous\" or 'proteins' not in ec_data:\n",
    "        continue\n",
    "    # print(ec_num)\n",
    "    section = 'ph_range'\n",
    "    if section in ec_data:\n",
    "        range_data = get_ph_range(ec_data, \n",
    "                            get_proteins(ec_data),\n",
    "                            get_organisms(ec_data),\n",
    "                            get_references(ec_data),\n",
    "                            sec=section,\n",
    "                           )\n",
    "        for u_id, data in range_data.items():\n",
    "            # data = [tuple(list(d) + [ec_num]) for d in data]\n",
    "            # if u_id in uniprot_opts:\n",
    "                # print(f\"u_id: {u_id} already in uniprot_topts\")\n",
    "            uniprot_ph_range[(u_id, ec_num)] += data\n",
    "            # uniprot_ec_num[u_id] += [ec_num]\n",
    "    # break\n",
    "# print(uniprot_ph_range)\n",
    "print(len(uniprot_ph_range))"
   ]
  },
  {
   "cell_type": "code",
   "execution_count": 20,
   "id": "e6c8ab87-0abd-4386-88b7-25b91e18e5f6",
   "metadata": {},
   "outputs": [],
   "source": [
    "import os"
   ]
  },
  {
   "cell_type": "code",
   "execution_count": 22,
   "id": "76492148-1e96-4a37-8151-1636a43c3173",
   "metadata": {},
   "outputs": [],
   "source": [
    "out_dir = \"inputs/brenda/ph_range\"\n",
    "out_file = f\"{out_dir}/ph_range_data.tsv\"\n",
    "os.makedirs(os.path.dirname(out_file), exist_ok=True)\n",
    "with open(out_file, 'w') as out:\n",
    "    out.write(f\"ec_num\\tuniprot_id\\tspecies\\tph_min\\tph_max\\treferences\\tcomments\\n\")\n",
    "    for (u_id, ec_num), rows in uniprot_ph_range.items():\n",
    "        for row in rows:\n",
    "            # print(row)\n",
    "            min_val, max_val, org, refs, comments = row\n",
    "            out.write(f\"{ec_num}\\t{u_id}\\t{org}\\t{min_val}\\t{max_val}\\t{','.join(refs)}\\t{comments}\\n\")"
   ]
  },
  {
   "cell_type": "code",
   "execution_count": 23,
   "id": "0c937c0b-2376-40ab-b79f-668fc20f25bc",
   "metadata": {},
   "outputs": [],
   "source": [
    "out_file = f\"{out_dir}/ph_range_data.tsv\"\n",
    "data = pd.read_table(out_file)"
   ]
  },
  {
   "cell_type": "markdown",
   "id": "1c40f129-57c3-4c03-b894-dcea70671bec",
   "metadata": {},
   "source": [
    "### Find a uniprot ID\n",
    "See if we can use the mapping from the uniprot ID's ec numbers to get a protein"
   ]
  },
  {
   "cell_type": "code",
   "execution_count": 24,
   "id": "590295f6-0e5e-4579-9471-17289b89b416",
   "metadata": {},
   "outputs": [
    {
     "data": {
      "text/html": [
       "<div>\n",
       "<style scoped>\n",
       "    .dataframe tbody tr th:only-of-type {\n",
       "        vertical-align: middle;\n",
       "    }\n",
       "\n",
       "    .dataframe tbody tr th {\n",
       "        vertical-align: top;\n",
       "    }\n",
       "\n",
       "    .dataframe thead th {\n",
       "        text-align: right;\n",
       "    }\n",
       "</style>\n",
       "<table border=\"1\" class=\"dataframe\">\n",
       "  <thead>\n",
       "    <tr style=\"text-align: right;\">\n",
       "      <th></th>\n",
       "      <th>Entry</th>\n",
       "      <th>Reviewed</th>\n",
       "      <th>Entry Name</th>\n",
       "      <th>Protein names</th>\n",
       "      <th>Gene Names</th>\n",
       "      <th>Organism</th>\n",
       "      <th>Length</th>\n",
       "      <th>EC number</th>\n",
       "    </tr>\n",
       "  </thead>\n",
       "  <tbody>\n",
       "    <tr>\n",
       "      <th>0</th>\n",
       "      <td>A0A009IHW8</td>\n",
       "      <td>reviewed</td>\n",
       "      <td>ABTIR_ACIB9</td>\n",
       "      <td>2' cyclic ADP-D-ribose synthase AbTIR (2'cADPR...</td>\n",
       "      <td>J512_3302</td>\n",
       "      <td>Acinetobacter baumannii (strain 1295743)</td>\n",
       "      <td>269</td>\n",
       "      <td>3.2.2.-; 3.2.2.6</td>\n",
       "    </tr>\n",
       "    <tr>\n",
       "      <th>1</th>\n",
       "      <td>A0A023I7E1</td>\n",
       "      <td>reviewed</td>\n",
       "      <td>ENG1_RHIMI</td>\n",
       "      <td>Glucan endo-1,3-beta-D-glucosidase 1 (Endo-1,3...</td>\n",
       "      <td>ENG1 LAM81A</td>\n",
       "      <td>Rhizomucor miehei</td>\n",
       "      <td>796</td>\n",
       "      <td>3.2.1.39</td>\n",
       "    </tr>\n",
       "    <tr>\n",
       "      <th>2</th>\n",
       "      <td>A0A024B7W1</td>\n",
       "      <td>reviewed</td>\n",
       "      <td>POLG_ZIKVF</td>\n",
       "      <td>Genome polyprotein [Cleaved into: Capsid prote...</td>\n",
       "      <td>NaN</td>\n",
       "      <td>Zika virus (isolate ZIKV/Human/French Polynesi...</td>\n",
       "      <td>3423</td>\n",
       "      <td>2.1.1.56; 2.1.1.57; 2.7.7.48; 3.4.21.91; 3.6.1...</td>\n",
       "    </tr>\n",
       "    <tr>\n",
       "      <th>3</th>\n",
       "      <td>A0A024SC78</td>\n",
       "      <td>reviewed</td>\n",
       "      <td>CUTI1_HYPJR</td>\n",
       "      <td>Cutinase (EC 3.1.1.74)</td>\n",
       "      <td>M419DRAFT_76732</td>\n",
       "      <td>Hypocrea jecorina (strain ATCC 56765 / BCRC 32...</td>\n",
       "      <td>248</td>\n",
       "      <td>3.1.1.74</td>\n",
       "    </tr>\n",
       "    <tr>\n",
       "      <th>4</th>\n",
       "      <td>A0A024SH76</td>\n",
       "      <td>reviewed</td>\n",
       "      <td>GUX2_HYPJR</td>\n",
       "      <td>Exoglucanase 2 (EC 3.2.1.91) (1,4-beta-cellobi...</td>\n",
       "      <td>cbh2 M419DRAFT_122470</td>\n",
       "      <td>Hypocrea jecorina (strain ATCC 56765 / BCRC 32...</td>\n",
       "      <td>471</td>\n",
       "      <td>3.2.1.91</td>\n",
       "    </tr>\n",
       "    <tr>\n",
       "      <th>...</th>\n",
       "      <td>...</td>\n",
       "      <td>...</td>\n",
       "      <td>...</td>\n",
       "      <td>...</td>\n",
       "      <td>...</td>\n",
       "      <td>...</td>\n",
       "      <td>...</td>\n",
       "      <td>...</td>\n",
       "    </tr>\n",
       "    <tr>\n",
       "      <th>274739</th>\n",
       "      <td>Q9Z3S3</td>\n",
       "      <td>reviewed</td>\n",
       "      <td>ORDL_RHIME</td>\n",
       "      <td>Probable oxidoreductase OrdL (EC 1.-.-.-)</td>\n",
       "      <td>ordL R00705 SMc00761</td>\n",
       "      <td>Rhizobium meliloti (strain 1021) (Ensifer meli...</td>\n",
       "      <td>428</td>\n",
       "      <td>1.-.-.-</td>\n",
       "    </tr>\n",
       "    <tr>\n",
       "      <th>274740</th>\n",
       "      <td>Q9Z7Q0</td>\n",
       "      <td>reviewed</td>\n",
       "      <td>Y654_CHLPN</td>\n",
       "      <td>Uncharacterized acyl-CoA thioester hydrolase C...</td>\n",
       "      <td>CPn_0654 CP_0093 CPj0654 CpB0680</td>\n",
       "      <td>Chlamydia pneumoniae (Chlamydophila pneumoniae)</td>\n",
       "      <td>155</td>\n",
       "      <td>3.1.2.-</td>\n",
       "    </tr>\n",
       "    <tr>\n",
       "      <th>274741</th>\n",
       "      <td>Q9ZD84</td>\n",
       "      <td>reviewed</td>\n",
       "      <td>Y459_RICPR</td>\n",
       "      <td>Putative methyltransferase RP459 (EC 2.1.1.-)</td>\n",
       "      <td>RP459</td>\n",
       "      <td>Rickettsia prowazekii (strain Madrid E)</td>\n",
       "      <td>226</td>\n",
       "      <td>2.1.1.-</td>\n",
       "    </tr>\n",
       "    <tr>\n",
       "      <th>274742</th>\n",
       "      <td>Q9ZDI9</td>\n",
       "      <td>reviewed</td>\n",
       "      <td>Y339_RICPR</td>\n",
       "      <td>Uncharacterized glycosyltransferase RP339 (EC ...</td>\n",
       "      <td>RP339</td>\n",
       "      <td>Rickettsia prowazekii (strain Madrid E)</td>\n",
       "      <td>318</td>\n",
       "      <td>2.4.-.-</td>\n",
       "    </tr>\n",
       "    <tr>\n",
       "      <th>274743</th>\n",
       "      <td>Q9ZLA7</td>\n",
       "      <td>reviewed</td>\n",
       "      <td>Y736_HELPJ</td>\n",
       "      <td>Uncharacterized aminotransferase jhp_0673 (EC ...</td>\n",
       "      <td>jhp_0673</td>\n",
       "      <td>Helicobacter pylori (strain J99 / ATCC 700824)...</td>\n",
       "      <td>369</td>\n",
       "      <td>2.6.1.-</td>\n",
       "    </tr>\n",
       "  </tbody>\n",
       "</table>\n",
       "<p>274744 rows × 8 columns</p>\n",
       "</div>"
      ],
      "text/plain": [
       "             Entry  Reviewed   Entry Name  \\\n",
       "0       A0A009IHW8  reviewed  ABTIR_ACIB9   \n",
       "1       A0A023I7E1  reviewed   ENG1_RHIMI   \n",
       "2       A0A024B7W1  reviewed   POLG_ZIKVF   \n",
       "3       A0A024SC78  reviewed  CUTI1_HYPJR   \n",
       "4       A0A024SH76  reviewed   GUX2_HYPJR   \n",
       "...            ...       ...          ...   \n",
       "274739      Q9Z3S3  reviewed   ORDL_RHIME   \n",
       "274740      Q9Z7Q0  reviewed   Y654_CHLPN   \n",
       "274741      Q9ZD84  reviewed   Y459_RICPR   \n",
       "274742      Q9ZDI9  reviewed   Y339_RICPR   \n",
       "274743      Q9ZLA7  reviewed   Y736_HELPJ   \n",
       "\n",
       "                                            Protein names  \\\n",
       "0       2' cyclic ADP-D-ribose synthase AbTIR (2'cADPR...   \n",
       "1       Glucan endo-1,3-beta-D-glucosidase 1 (Endo-1,3...   \n",
       "2       Genome polyprotein [Cleaved into: Capsid prote...   \n",
       "3                                  Cutinase (EC 3.1.1.74)   \n",
       "4       Exoglucanase 2 (EC 3.2.1.91) (1,4-beta-cellobi...   \n",
       "...                                                   ...   \n",
       "274739          Probable oxidoreductase OrdL (EC 1.-.-.-)   \n",
       "274740  Uncharacterized acyl-CoA thioester hydrolase C...   \n",
       "274741      Putative methyltransferase RP459 (EC 2.1.1.-)   \n",
       "274742  Uncharacterized glycosyltransferase RP339 (EC ...   \n",
       "274743  Uncharacterized aminotransferase jhp_0673 (EC ...   \n",
       "\n",
       "                              Gene Names  \\\n",
       "0                              J512_3302   \n",
       "1                            ENG1 LAM81A   \n",
       "2                                    NaN   \n",
       "3                        M419DRAFT_76732   \n",
       "4                  cbh2 M419DRAFT_122470   \n",
       "...                                  ...   \n",
       "274739              ordL R00705 SMc00761   \n",
       "274740  CPn_0654 CP_0093 CPj0654 CpB0680   \n",
       "274741                             RP459   \n",
       "274742                             RP339   \n",
       "274743                          jhp_0673   \n",
       "\n",
       "                                                 Organism  Length  \\\n",
       "0                Acinetobacter baumannii (strain 1295743)     269   \n",
       "1                                       Rhizomucor miehei     796   \n",
       "2       Zika virus (isolate ZIKV/Human/French Polynesi...    3423   \n",
       "3       Hypocrea jecorina (strain ATCC 56765 / BCRC 32...     248   \n",
       "4       Hypocrea jecorina (strain ATCC 56765 / BCRC 32...     471   \n",
       "...                                                   ...     ...   \n",
       "274739  Rhizobium meliloti (strain 1021) (Ensifer meli...     428   \n",
       "274740    Chlamydia pneumoniae (Chlamydophila pneumoniae)     155   \n",
       "274741            Rickettsia prowazekii (strain Madrid E)     226   \n",
       "274742            Rickettsia prowazekii (strain Madrid E)     318   \n",
       "274743  Helicobacter pylori (strain J99 / ATCC 700824)...     369   \n",
       "\n",
       "                                                EC number  \n",
       "0                                        3.2.2.-; 3.2.2.6  \n",
       "1                                                3.2.1.39  \n",
       "2       2.1.1.56; 2.1.1.57; 2.7.7.48; 3.4.21.91; 3.6.1...  \n",
       "3                                                3.1.1.74  \n",
       "4                                                3.2.1.91  \n",
       "...                                                   ...  \n",
       "274739                                            1.-.-.-  \n",
       "274740                                            3.1.2.-  \n",
       "274741                                            2.1.1.-  \n",
       "274742                                            2.4.-.-  \n",
       "274743                                            2.6.1.-  \n",
       "\n",
       "[274744 rows x 8 columns]"
      ]
     },
     "execution_count": 24,
     "metadata": {},
     "output_type": "execute_result"
    }
   ],
   "source": [
    "uniprot_ec_file = f\"{out_dir}/../uniprot/uniprotkb_ec_AND_reviewed_true_2023_07_06.tsv.gz\"\n",
    "uniprot_ec_df = pd.read_table(uniprot_ec_file)\n",
    "uniprot_ec_df"
   ]
  },
  {
   "cell_type": "code",
   "execution_count": 25,
   "id": "1c9eb4d7-2b6b-49b8-bd20-0c061fc516d1",
   "metadata": {},
   "outputs": [
    {
     "data": {
      "text/plain": [
       "defaultdict(list,\n",
       "            {'G3YG17': [(5.0,\n",
       "               8.5,\n",
       "               'Aspergillus niger',\n",
       "               [],\n",
       "               '#8# reduction of L-xylulose <8>'),\n",
       "              (8.0,\n",
       "               11.5,\n",
       "               'Aspergillus niger',\n",
       "               [],\n",
       "               '#8# oxidation of xylitol <8>')]})"
      ]
     },
     "execution_count": 25,
     "metadata": {},
     "output_type": "execute_result"
    }
   ],
   "source": [
    "def get_ph_range_uniprot_ec(ec_num, ec_dict, organism_dict, ref_dict, sec='ph_range'):\n",
    "    uniprot_range = defaultdict(list)\n",
    "    # see if there are any uniprot IDs for this ec number from uniprot\n",
    "    uniprot_ec_rows = uniprot_ec_df[uniprot_ec_df['EC number'].apply(lambda x: ec_num in x.split('; '))]\n",
    "    if len(uniprot_ec_rows) == 0:\n",
    "        return uniprot_range\n",
    "    # extra_data = {}\n",
    "    org_id_count = defaultdict(int)\n",
    "    for data in ec_dict[sec]:\n",
    "        for org_id in data['organisms']:\n",
    "            org_id_count[org_id] += 1\n",
    "            \n",
    "    for data in ec_dict[sec]:\n",
    "        for i, org_id in enumerate(data['organisms']):\n",
    "            # only try and automatically match for brenda entries that have fewer than 3 entries for the same enzyme\n",
    "            if org_id_count[org_id] > 2:\n",
    "                continue\n",
    "            # we'll try matching all organisms to find places where there's disagreement\n",
    "            org = organism_dict[org_id]\n",
    "            matching_rows = uniprot_ec_rows[uniprot_ec_rows.Organism.apply(lambda x: org in x)]\n",
    "            if len(matching_rows) > 2:\n",
    "                continue\n",
    "            # print(org, matching_rows.Organism)\n",
    "            refs = [ref_dict[r] for r in data['references'] if r in ref_dict]\n",
    "            for u_id in matching_rows.Entry:\n",
    "                prot_comment = data.get('comment')\n",
    "                # only get this protein's comment\n",
    "                if prot_comment and ';' in prot_comment:\n",
    "                    comments = prot_comment.split(';')\n",
    "                    prot_comment = None\n",
    "                    for c in comments:\n",
    "                        if f\"#{org_id}\" in c or f\"{org_id}#\" in c:\n",
    "                            prot_comment = c\n",
    "\n",
    "                min_val = data['min_value'] if 'min_value' in data else data.get('num_value')\n",
    "                uniprot_range[u_id].append((min_val,\n",
    "                                            data.get('max_value'), \n",
    "                                            org, refs,\n",
    "                                            prot_comment,\n",
    "                                           ))\n",
    "                # if u_id in uniprot_topt and uniprot_topt[u_id][0] != val:\n",
    "                #     print(f\"WARNING: {u_id} present twice. \"\n",
    "                #           f\"Orig topt: {uniprot_topt[u_id][0]}; New topt: {val}\")\n",
    "    return uniprot_range\n",
    "example2 = brenda_dict['data']['1.1.1.10']\n",
    "get_ph_range_uniprot_ec('1.1.1.10', example2, get_organisms(example2), get_references(example2), sec='ph_range')"
   ]
  },
  {
   "cell_type": "code",
   "execution_count": 26,
   "id": "5f95c677-3466-459a-992a-b4f7d43a6899",
   "metadata": {},
   "outputs": [],
   "source": [
    "from tqdm.auto import tqdm"
   ]
  },
  {
   "cell_type": "code",
   "execution_count": 27,
   "id": "acc3ec91-de0d-4c20-8012-527fb2f16260",
   "metadata": {},
   "outputs": [
    {
     "data": {
      "application/vnd.jupyter.widget-view+json": {
       "model_id": "9a9123f224224e2aa58d83f33d720e96",
       "version_major": 2,
       "version_minor": 0
      },
      "text/plain": [
       "  0%|          | 0/7754 [00:00<?, ?it/s]"
      ]
     },
     "metadata": {},
     "output_type": "display_data"
    },
    {
     "name": "stdout",
     "output_type": "stream",
     "text": [
      "2905\n"
     ]
    }
   ],
   "source": [
    "uniprot_ph_range = defaultdict(list)\n",
    "# uniprot_ec_num = defaultdict(list)\n",
    "for ec_num, ec_data in tqdm(brenda_dict['data'].items()):\n",
    "    if ec_num == \"spontaneous\" or 'proteins' not in ec_data:\n",
    "        continue\n",
    "    # print(ec_num)\n",
    "    section = 'ph_range'\n",
    "    if section in ec_data:\n",
    "        range_data = get_ph_range_uniprot_ec(ec_num,\n",
    "                            ec_data, \n",
    "                            # get_proteins(ec_data),\n",
    "                            get_organisms(ec_data),\n",
    "                            get_references(ec_data),\n",
    "                            sec=section,\n",
    "                           )\n",
    "        for u_id, data in range_data.items():\n",
    "            # data = [tuple(list(d) + [ec_num]) for d in data]\n",
    "            # if u_id in uniprot_opts:\n",
    "                # print(f\"u_id: {u_id} already in uniprot_topts\")\n",
    "            uniprot_ph_range[(u_id, ec_num)] += data\n",
    "            # uniprot_ec_num[u_id] += [ec_num]\n",
    "    # break\n",
    "# print(uniprot_ph_range)\n",
    "print(len(uniprot_ph_range))"
   ]
  },
  {
   "cell_type": "code",
   "execution_count": 28,
   "id": "e36c9895-5197-4d26-b777-c822547c777a",
   "metadata": {},
   "outputs": [],
   "source": [
    "out_file = f\"{out_dir}/ph_range_data_uniprot_ec.tsv\"\n",
    "os.makedirs(os.path.dirname(out_file), exist_ok=True)\n",
    "with open(out_file, 'w') as out:\n",
    "    out.write(f\"ec_num\\tuniprot_id\\tspecies\\tph_min\\tph_max\\treferences\\tcomments\\n\")\n",
    "    for (u_id, ec_num), rows in uniprot_ph_range.items():\n",
    "        for row in rows:\n",
    "            # print(row)\n",
    "            min_val, max_val, org, refs, comments = row\n",
    "            out.write(f\"{ec_num}\\t{u_id}\\t{org}\\t{min_val}\\t{max_val}\\t{','.join(refs)}\\t{comments}\\n\")"
   ]
  },
  {
   "cell_type": "code",
   "execution_count": 29,
   "id": "32c56247-4f98-4224-8d59-15cde644cfb5",
   "metadata": {},
   "outputs": [
    {
     "data": {
      "text/plain": [
       "ec_num     species                  \n",
       "1.1.1.145  Homo sapiens                 8\n",
       "5.4.99.30  Oryza sativa                 8\n",
       "3.2.1.73   Acetivibrio thermocellus     8\n",
       "3.2.1.78   Aspergillus niger            6\n",
       "2.3.1.24   Bos taurus                   6\n",
       "                                       ..\n",
       "2.7.1.185  Thermoplasma acidophilum     1\n",
       "2.7.1.174  Saccharomyces cerevisiae     1\n",
       "2.7.1.17   Bos taurus                   1\n",
       "2.7.1.169  Methanospirillum hungatei    1\n",
       "7.3.2.1    Pseudomonas aeruginosa       1\n",
       "Length: 2379, dtype: int64"
      ]
     },
     "execution_count": 29,
     "metadata": {},
     "output_type": "execute_result"
    }
   ],
   "source": [
    "df_u_ec = pd.read_table(out_file)\n",
    "df_u_ec[['ec_num', 'species']].value_counts()"
   ]
  },
  {
   "cell_type": "markdown",
   "id": "6dbf1cb5-faa1-4ff4-a1f2-0cf71d14b942",
   "metadata": {},
   "source": [
    "### Get the reaction information for each ec number"
   ]
  },
  {
   "cell_type": "code",
   "execution_count": 47,
   "id": "a2848ac3-1b04-4f52-8519-6b248c7fdeb1",
   "metadata": {},
   "outputs": [],
   "source": [
    "example = brenda_dict['data']['4.1.1.101']"
   ]
  },
  {
   "cell_type": "code",
   "execution_count": 32,
   "id": "6e7e056e-dd31-4c81-9056-a16d24001a80",
   "metadata": {},
   "outputs": [],
   "source": [
    "example = brenda_dict['data']['1.1.1.9']"
   ]
  },
  {
   "cell_type": "code",
   "execution_count": 48,
   "id": "3ef0337d-b154-4f36-b9b0-791d81f52fc4",
   "metadata": {},
   "outputs": [
    {
     "data": {
      "text/plain": [
       "[{'organisms': ['7', '4', '3', '1', '5'],\n",
       "  'references': ['3', '4', '6', '8', '14', '15'],\n",
       "  'educts': ['L-malate'],\n",
       "  'products': ['L-lactate', 'CO2']},\n",
       " {'organisms': ['6', '5'],\n",
       "  'references': ['10', '13'],\n",
       "  'educts': ['(S)-malate'],\n",
       "  'products': ['(S)-lactate', 'CO2']},\n",
       " {'organisms': ['7'],\n",
       "  'references': ['6'],\n",
       "  'educts': ['D-malate'],\n",
       "  'products': ['D-lactate', 'CO2']},\n",
       " {'organisms': ['7'],\n",
       "  'references': ['6'],\n",
       "  'educts': ['DL-malate'],\n",
       "  'products': ['DL-lactate', 'CO2']}]"
      ]
     },
     "execution_count": 48,
     "metadata": {},
     "output_type": "execute_result"
    }
   ],
   "source": [
    "example['reaction']"
   ]
  },
  {
   "cell_type": "code",
   "execution_count": 39,
   "id": "392c00dd-b3ba-44e4-9d9b-d4da153ca116",
   "metadata": {},
   "outputs": [],
   "source": [
    "from copy import deepcopy"
   ]
  },
  {
   "cell_type": "code",
   "execution_count": 74,
   "id": "95d1a0c5-feff-42de-8f6e-0a67318a3457",
   "metadata": {},
   "outputs": [
    {
     "data": {
      "text/plain": [
       "[{'organisms': ['Secundilactobacillus collinoides',\n",
       "   'Leuconostoc mesenteroides',\n",
       "   'Lacticaseibacillus casei',\n",
       "   'Lactiplantibacillus plantarum',\n",
       "   'Oenococcus oeni'],\n",
       "  'references': ['16345941', '16346657', '10427020', '2097345', '6833282'],\n",
       "  'educts': ['L-malate'],\n",
       "  'products': ['L-lactate', 'CO2'],\n",
       "  'substrates': ['L-malate'],\n",
       "  'proteins': nan,\n",
       "  'protein_mapping': nan},\n",
       " {'organisms': ['Ligilactobacillus murinus', 'Oenococcus oeni'],\n",
       "  'references': '6536648',\n",
       "  'educts': ['(S)-malate'],\n",
       "  'products': ['(S)-lactate', 'CO2'],\n",
       "  'substrates': ['(S)-malate'],\n",
       "  'proteins': nan,\n",
       "  'protein_mapping': nan},\n",
       " {'organisms': 'Secundilactobacillus collinoides',\n",
       "  'references': '10427020',\n",
       "  'educts': ['D-malate'],\n",
       "  'products': ['D-lactate', 'CO2'],\n",
       "  'substrates': ['D-malate'],\n",
       "  'proteins': nan,\n",
       "  'protein_mapping': nan},\n",
       " {'organisms': 'Secundilactobacillus collinoides',\n",
       "  'references': '10427020',\n",
       "  'educts': ['DL-malate'],\n",
       "  'products': ['DL-lactate', 'CO2'],\n",
       "  'substrates': ['DL-malate'],\n",
       "  'proteins': nan,\n",
       "  'protein_mapping': nan}]"
      ]
     },
     "execution_count": 74,
     "metadata": {},
     "output_type": "execute_result"
    }
   ],
   "source": [
    "def get_reactions(ec_dict, proteins_dict, organism_dict, ref_dict, sec=\"reaction\"):\n",
    "    \"\"\" get the reactions and natural reactions for this ec number\n",
    "    \"\"\"\n",
    "    reactions = []\n",
    "    for data in ec_dict[sec]:\n",
    "        reaction = deepcopy(data)\n",
    "        reaction['substrates'] = data['educts'] if 'educts' in data else np.nan\n",
    "        reaction['products'] = data['products'] if 'products' in data else np.nan\n",
    "\n",
    "        reaction['organisms'] = np.nan\n",
    "        if 'organisms' in data:\n",
    "            orgs = [organism_dict[org_id] for org_id in data['organisms'] if org_id in organism_dict]\n",
    "            reaction['organisms'] = orgs[0] if len(orgs) == 1 else orgs\n",
    "\n",
    "        reaction['references'] = np.nan\n",
    "        if 'references' in data:\n",
    "            refs = [ref_dict[r] for r in data['references'] if r in ref_dict]\n",
    "            reaction['references'] = refs[0] if len(refs) == 1 else refs\n",
    "\n",
    "        reaction['proteins'] = np.nan\n",
    "        # keep track of the protein mapping in case we want to parse the comments field later\n",
    "        reaction['protein_mapping'] = np.nan\n",
    "        if 'proteins' in data:\n",
    "            # print(data['proteins'])\n",
    "            prots = [proteins_dict[p] for p in data['proteins'] if p in proteins_dict]\n",
    "            reaction['proteins'] = prots[0] if len(prots) == 1 else prots\n",
    "            reaction['protein_mapping'] = {p: proteins_dict[p] for p in data['proteins'] if p in proteins_dict}\n",
    "\n",
    "        reactions.append(reaction)\n",
    "        \n",
    "    return reactions\n",
    "get_reactions(example, get_proteins(example),\n",
    "                            get_organisms(example),\n",
    "                            get_references(example))"
   ]
  },
  {
   "cell_type": "code",
   "execution_count": null,
   "id": "e7190ed0-9c47-46e8-8b22-d6da8eb328fd",
   "metadata": {},
   "outputs": [
    {
     "data": {
      "application/vnd.jupyter.widget-view+json": {
       "model_id": "ba980043254b4533ac6ab0fc63e3147b",
       "version_major": 2,
       "version_minor": 0
      },
      "text/plain": [
       "  0%|          | 0/7754 [00:00<?, ?it/s]"
      ]
     },
     "metadata": {},
     "output_type": "display_data"
    }
   ],
   "source": [
    "df_rxns = pd.DataFrame()\n",
    "# uniprot_ec_num = defaultdict(list)\n",
    "for ec_num, ec_data in tqdm(brenda_dict['data'].items()):\n",
    "    if ec_num == \"spontaneous\":\n",
    "        continue\n",
    "    # print(ec_num)\n",
    "    section = 'reaction'\n",
    "    if section in ec_data:\n",
    "        prot_dict = get_proteins(ec_data) if 'proteins' in ec_data else {}\n",
    "        reactions = get_reactions(ec_data, \n",
    "                            prot_dict,\n",
    "                            get_organisms(ec_data),\n",
    "                            get_references(ec_data),\n",
    "                            sec=section,\n",
    "                           )\n",
    "        df = pd.DataFrame(reactions)\n",
    "        df['ec_num'] = ec_num\n",
    "        df_rxns = pd.concat([df_rxns, df])\n",
    "\n",
    "print(len(df_rxns))"
   ]
  },
  {
   "cell_type": "code",
   "execution_count": null,
   "id": "f47e4e70-22e5-448e-a5c5-da71f4837cb6",
   "metadata": {},
   "outputs": [],
   "source": [
    "df_rxns.head(2)"
   ]
  },
  {
   "cell_type": "code",
   "execution_count": null,
   "id": "35c71b39-1a17-4759-8b77-e011056f1ffc",
   "metadata": {},
   "outputs": [],
   "source": []
  }
 ],
 "metadata": {
  "kernelspec": {
   "display_name": "Python 3 (ipykernel)",
   "language": "python",
   "name": "python3"
  },
  "language_info": {
   "codemirror_mode": {
    "name": "ipython",
    "version": 3
   },
   "file_extension": ".py",
   "mimetype": "text/x-python",
   "name": "python",
   "nbconvert_exporter": "python",
   "pygments_lexer": "ipython3",
   "version": "3.10.8"
  }
 },
 "nbformat": 4,
 "nbformat_minor": 5
}
