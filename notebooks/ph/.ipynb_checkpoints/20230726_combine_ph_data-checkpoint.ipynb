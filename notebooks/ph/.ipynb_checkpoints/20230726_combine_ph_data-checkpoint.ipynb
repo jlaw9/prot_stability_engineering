{
 "cells": [
  {
   "cell_type": "code",
   "execution_count": 1,
   "id": "bc301361-67cd-48d3-9f47-b4c66de09ff1",
   "metadata": {},
   "outputs": [],
   "source": [
    "import numpy as np\n",
    "import pandas as pd\n",
    "import os\n",
    "from Bio import SeqIO\n",
    "import itertools\n",
    "from typing import List, Tuple\n",
    "import string\n",
    "from pathlib import Path\n",
    "from tqdm.auto import tqdm, trange\n",
    "\n",
    "import matplotlib.pyplot as plt\n",
    "import seaborn as sns\n",
    "\n",
    "%matplotlib inline"
   ]
  },
  {
   "cell_type": "code",
   "execution_count": 2,
   "id": "61c7e96e-04ce-4144-b826-4a201626dff5",
   "metadata": {},
   "outputs": [
    {
     "data": {
      "text/plain": [
       "'/lustre/eaglefs/projects/robustmicrob/jlaw/projects/prot_stability_engineering'"
      ]
     },
     "execution_count": 2,
     "metadata": {},
     "output_type": "execute_result"
    }
   ],
   "source": [
    "os.chdir(\"../../\")\n",
    "os.getcwd()"
   ]
  },
  {
   "cell_type": "markdown",
   "id": "c208dc3b-c6d4-410c-b89e-614801d032fa",
   "metadata": {},
   "source": [
    "### Load and combine the ph range and ph opt datasets\n",
    "1. Brenda ph range\n",
    "2. E coli manual parsing\n",
    "3. Brenda ph opt"
   ]
  },
  {
   "cell_type": "code",
   "execution_count": 8,
   "id": "d32905f4-327d-44b7-a4d0-007eeee1dd32",
   "metadata": {},
   "outputs": [],
   "source": [
    "def check_ph_act(df):\n",
    "    \"\"\" check to make sure the ph and activity values are within the expected range\n",
    "    \"\"\"\n",
    "    out_of_range = df[(df.ph > 13) | (df.ph < 1) | (df.activity > 1) | (df.activity < 0)]\n",
    "    print(f\"{len(out_of_range) = }\")\n",
    "    if len(out_of_range) > 0:\n",
    "        print(out_of_range)"
   ]
  },
  {
   "cell_type": "code",
   "execution_count": 14,
   "id": "802b976b-382e-43f0-bbb0-bbc33d4806f1",
   "metadata": {},
   "outputs": [
    {
     "name": "stdout",
     "output_type": "stream",
     "text": [
      "inputs/brenda/ph_range/20230719_ph_range_processed.csv\n",
      "5842\n",
      "inputs/brenda/ph_range/20230719_ph_range_processed_act_wopt.csv\n",
      "6341\n"
     ]
    },
    {
     "data": {
      "text/html": [
       "<div>\n",
       "<style scoped>\n",
       "    .dataframe tbody tr th:only-of-type {\n",
       "        vertical-align: middle;\n",
       "    }\n",
       "\n",
       "    .dataframe tbody tr th {\n",
       "        vertical-align: top;\n",
       "    }\n",
       "\n",
       "    .dataframe thead th {\n",
       "        text-align: right;\n",
       "    }\n",
       "</style>\n",
       "<table border=\"1\" class=\"dataframe\">\n",
       "  <thead>\n",
       "    <tr style=\"text-align: right;\">\n",
       "      <th></th>\n",
       "      <th>exp_index</th>\n",
       "      <th>ph</th>\n",
       "      <th>activity</th>\n",
       "      <th>note</th>\n",
       "      <th>ph_range_comment</th>\n",
       "      <th>uniprot_id</th>\n",
       "    </tr>\n",
       "  </thead>\n",
       "  <tbody>\n",
       "    <tr>\n",
       "      <th>0</th>\n",
       "      <td>0</td>\n",
       "      <td>4.0</td>\n",
       "      <td>0.8</td>\n",
       "      <td>NaN</td>\n",
       "      <td>pH 4.0: about 80% of maximal activity, pH 7.5...</td>\n",
       "      <td>B2KJ46</td>\n",
       "    </tr>\n",
       "    <tr>\n",
       "      <th>1</th>\n",
       "      <td>0</td>\n",
       "      <td>4.5</td>\n",
       "      <td>1.0</td>\n",
       "      <td>NaN</td>\n",
       "      <td>NaN</td>\n",
       "      <td>B2KJ46</td>\n",
       "    </tr>\n",
       "  </tbody>\n",
       "</table>\n",
       "</div>"
      ],
      "text/plain": [
       "   exp_index   ph  activity note  \\\n",
       "0          0  4.0       0.8  NaN   \n",
       "1          0  4.5       1.0  NaN   \n",
       "\n",
       "                                    ph_range_comment uniprot_id  \n",
       "0   pH 4.0: about 80% of maximal activity, pH 7.5...     B2KJ46  \n",
       "1                                                NaN     B2KJ46  "
      ]
     },
     "execution_count": 14,
     "metadata": {},
     "output_type": "execute_result"
    }
   ],
   "source": [
    "# load the pH range and opt values\n",
    "data_file = Path(inputs_dir, \"ph_range/20230719_ph_range_processed.csv\")\n",
    "print(data_file)\n",
    "data = pd.read_csv(data_file, index_col=0)\n",
    "print(len(data))\n",
    "\n",
    "act_file = Path(inputs_dir, \"ph_range/20230719_ph_range_processed_act_wopt.csv\")\n",
    "print(act_file)\n",
    "data_act = pd.read_csv(act_file)\n",
    "data_act['uniprot_id'] = data_act.exp_index.apply(lambda x: data.loc[x].uniprot_id)\n",
    "print(len(data_act))\n",
    "data_act.head(2)"
   ]
  },
  {
   "cell_type": "code",
   "execution_count": 10,
   "id": "9386fc09-2ebd-4cfb-ad75-b3b9be5893bb",
   "metadata": {},
   "outputs": [
    {
     "name": "stdout",
     "output_type": "stream",
     "text": [
      "len(out_of_range) = 0\n"
     ]
    }
   ],
   "source": [
    "check_ph_act(data_act)"
   ]
  },
  {
   "cell_type": "code",
   "execution_count": 15,
   "id": "9678b0c3-c071-47e6-8bdc-64fe81954556",
   "metadata": {},
   "outputs": [
    {
     "data": {
      "text/plain": [
       "P00784    33\n",
       "Q9UKK9    20\n",
       "Q9UHL4    17\n",
       "Q6LXQ3    16\n",
       "Q8H8T0    16\n",
       "          ..\n",
       "P19791     1\n",
       "P10281     1\n",
       "Q43153     1\n",
       "Q9ZTK5     1\n",
       "Q9ZH77     1\n",
       "Name: uniprot_id, Length: 2125, dtype: int64"
      ]
     },
     "execution_count": 15,
     "metadata": {},
     "output_type": "execute_result"
    }
   ],
   "source": [
    "data_act.uniprot_id.value_counts()"
   ]
  },
  {
   "cell_type": "code",
   "execution_count": 13,
   "id": "eff3cdaf-948f-4d98-a260-49cec2e37dd8",
   "metadata": {},
   "outputs": [
    {
     "name": "stdout",
     "output_type": "stream",
     "text": [
      "inputs/brenda/ph_range/ecoli/20230712_ph_curve_data_processed.csv\n",
      "282\n",
      "inputs/brenda/ph_range/ecoli/20230712_ph_curve_data_processed_activities.csv\n",
      "3165\n"
     ]
    },
    {
     "data": {
      "text/html": [
       "<div>\n",
       "<style scoped>\n",
       "    .dataframe tbody tr th:only-of-type {\n",
       "        vertical-align: middle;\n",
       "    }\n",
       "\n",
       "    .dataframe tbody tr th {\n",
       "        vertical-align: top;\n",
       "    }\n",
       "\n",
       "    .dataframe thead th {\n",
       "        text-align: right;\n",
       "    }\n",
       "</style>\n",
       "<table border=\"1\" class=\"dataframe\">\n",
       "  <thead>\n",
       "    <tr style=\"text-align: right;\">\n",
       "      <th></th>\n",
       "      <th>exp_index</th>\n",
       "      <th>pH</th>\n",
       "      <th>activity</th>\n",
       "      <th>uniprot_id</th>\n",
       "    </tr>\n",
       "  </thead>\n",
       "  <tbody>\n",
       "    <tr>\n",
       "      <th>0</th>\n",
       "      <td>0</td>\n",
       "      <td>7.2</td>\n",
       "      <td>0.012428</td>\n",
       "      <td>P21515</td>\n",
       "    </tr>\n",
       "    <tr>\n",
       "      <th>1</th>\n",
       "      <td>0</td>\n",
       "      <td>7.5</td>\n",
       "      <td>0.090313</td>\n",
       "      <td>P21515</td>\n",
       "    </tr>\n",
       "  </tbody>\n",
       "</table>\n",
       "</div>"
      ],
      "text/plain": [
       "   exp_index   pH  activity uniprot_id\n",
       "0          0  7.2  0.012428     P21515\n",
       "1          0  7.5  0.090313     P21515"
      ]
     },
     "execution_count": 16,
     "metadata": {},
     "output_type": "execute_result"
    }
   ],
   "source": [
    "# also load the manual E coli dataset\n",
    "data_file = Path(inputs_dir, \"ph_range/ecoli/20230712_ph_curve_data_processed.csv\")\n",
    "print(data_file)\n",
    "data_ecoli = pd.read_csv(data_file, index_col=0)\n",
    "print(len(data_ecoli))\n",
    "\n",
    "act_file = Path(inputs_dir, \"ph_range/ecoli/20230712_ph_curve_data_processed_activities.csv\")\n",
    "print(act_file)\n",
    "data_act_ecoli = pd.read_csv(act_file)\n",
    "data_act_ecoli['uniprot_id'] = data_act_ecoli.exp_index.apply(lambda x: data_ecoli.loc[x].uniprot_id)\n",
    "print(len(data_act_ecoli))\n",
    "data_act_ecoli.head(2)"
   ]
  },
  {
   "cell_type": "code",
   "execution_count": 30,
   "id": "b2189a0f-86dc-446c-bd66-001b6dbc3f96",
   "metadata": {},
   "outputs": [
    {
     "data": {
      "text/html": [
       "<div>\n",
       "<style scoped>\n",
       "    .dataframe tbody tr th:only-of-type {\n",
       "        vertical-align: middle;\n",
       "    }\n",
       "\n",
       "    .dataframe tbody tr th {\n",
       "        vertical-align: top;\n",
       "    }\n",
       "\n",
       "    .dataframe thead th {\n",
       "        text-align: right;\n",
       "    }\n",
       "</style>\n",
       "<table border=\"1\" class=\"dataframe\">\n",
       "  <thead>\n",
       "    <tr style=\"text-align: right;\">\n",
       "      <th></th>\n",
       "      <th>gene</th>\n",
       "      <th>uniprot_id</th>\n",
       "      <th>b_number</th>\n",
       "      <th>data_type</th>\n",
       "      <th>mutation</th>\n",
       "      <th>doi</th>\n",
       "      <th>figure_id</th>\n",
       "      <th>time</th>\n",
       "      <th>condition</th>\n",
       "      <th>reaction_note</th>\n",
       "      <th>curator</th>\n",
       "    </tr>\n",
       "    <tr>\n",
       "      <th>exp_index</th>\n",
       "      <th></th>\n",
       "      <th></th>\n",
       "      <th></th>\n",
       "      <th></th>\n",
       "      <th></th>\n",
       "      <th></th>\n",
       "      <th></th>\n",
       "      <th></th>\n",
       "      <th></th>\n",
       "      <th></th>\n",
       "      <th></th>\n",
       "    </tr>\n",
       "  </thead>\n",
       "  <tbody>\n",
       "    <tr>\n",
       "      <th>0</th>\n",
       "      <td>acpH</td>\n",
       "      <td>P21515</td>\n",
       "      <td>b0404</td>\n",
       "      <td>ph</td>\n",
       "      <td>NaN</td>\n",
       "      <td>10.1016/S0021-9258(18)96069-2</td>\n",
       "      <td>fig4</td>\n",
       "      <td>30</td>\n",
       "      <td>33</td>\n",
       "      <td>NaN</td>\n",
       "      <td>JL</td>\n",
       "    </tr>\n",
       "    <tr>\n",
       "      <th>3</th>\n",
       "      <td>speA</td>\n",
       "      <td>P21170</td>\n",
       "      <td>b2938</td>\n",
       "      <td>ph</td>\n",
       "      <td>wt</td>\n",
       "      <td>10.1016/j.molcatb.2015.06.008</td>\n",
       "      <td>NaN</td>\n",
       "      <td>15</td>\n",
       "      <td>4</td>\n",
       "      <td>NaN</td>\n",
       "      <td>JL</td>\n",
       "    </tr>\n",
       "  </tbody>\n",
       "</table>\n",
       "</div>"
      ],
      "text/plain": [
       "           gene uniprot_id b_number data_type mutation  \\\n",
       "exp_index                                                \n",
       "0          acpH     P21515    b0404        ph      NaN   \n",
       "3          speA     P21170    b2938        ph       wt   \n",
       "\n",
       "                                     doi figure_id time condition  \\\n",
       "exp_index                                                           \n",
       "0          10.1016/S0021-9258(18)96069-2      fig4   30        33   \n",
       "3          10.1016/j.molcatb.2015.06.008       NaN   15         4   \n",
       "\n",
       "          reaction_note curator  \n",
       "exp_index                        \n",
       "0                   NaN      JL  \n",
       "3                   NaN      JL  "
      ]
     },
     "execution_count": 30,
     "metadata": {},
     "output_type": "execute_result"
    }
   ],
   "source": [
    "data_ecoli.head(2)"
   ]
  },
  {
   "cell_type": "code",
   "execution_count": 17,
   "id": "4379c202-ae54-43cf-ac75-bdd6ef647142",
   "metadata": {},
   "outputs": [
    {
     "data": {
      "text/plain": [
       "P25524    96\n",
       "P19926    84\n",
       "P06721    70\n",
       "P00864    53\n",
       "P10902    53\n",
       "          ..\n",
       "P17444     5\n",
       "P37197     5\n",
       "P0A9T0     4\n",
       "P0A725     3\n",
       "P45568     2\n",
       "Name: uniprot_id, Length: 195, dtype: int64"
      ]
     },
     "execution_count": 17,
     "metadata": {},
     "output_type": "execute_result"
    }
   ],
   "source": [
    "data_act_ecoli.uniprot_id.value_counts()"
   ]
  },
  {
   "cell_type": "code",
   "execution_count": 18,
   "id": "8243201b-471d-4606-9262-f0263cf821a6",
   "metadata": {},
   "outputs": [
    {
     "name": "stdout",
     "output_type": "stream",
     "text": [
      "6777 8367\n"
     ]
    },
    {
     "data": {
      "text/html": [
       "<div>\n",
       "<style scoped>\n",
       "    .dataframe tbody tr th:only-of-type {\n",
       "        vertical-align: middle;\n",
       "    }\n",
       "\n",
       "    .dataframe tbody tr th {\n",
       "        vertical-align: top;\n",
       "    }\n",
       "\n",
       "    .dataframe thead th {\n",
       "        text-align: right;\n",
       "    }\n",
       "</style>\n",
       "<table border=\"1\" class=\"dataframe\">\n",
       "  <thead>\n",
       "    <tr style=\"text-align: right;\">\n",
       "      <th></th>\n",
       "      <th>ec_num</th>\n",
       "      <th>uniprot_id</th>\n",
       "      <th>opt</th>\n",
       "      <th>species</th>\n",
       "      <th>references</th>\n",
       "      <th>comments</th>\n",
       "    </tr>\n",
       "  </thead>\n",
       "  <tbody>\n",
       "    <tr>\n",
       "      <th>0</th>\n",
       "      <td>1.1.1.1</td>\n",
       "      <td>D4GSN2</td>\n",
       "      <td>11.0</td>\n",
       "      <td>Haloferax volcanii</td>\n",
       "      <td>7011375,3816781,2789998,22526808</td>\n",
       "      <td>#82# oxidation of ethanol, pyrazole-insensitiv...</td>\n",
       "    </tr>\n",
       "    <tr>\n",
       "      <th>1</th>\n",
       "      <td>1.1.1.1</td>\n",
       "      <td>D4GSN2</td>\n",
       "      <td>6.0</td>\n",
       "      <td>Haloferax volcanii</td>\n",
       "      <td>12834271,16000771,17072683,16390205,16243283,1...</td>\n",
       "      <td>#96,122# reduction of acetaldehyde &lt;144,255&gt;; ...</td>\n",
       "    </tr>\n",
       "  </tbody>\n",
       "</table>\n",
       "</div>"
      ],
      "text/plain": [
       "    ec_num uniprot_id   opt             species  \\\n",
       "0  1.1.1.1     D4GSN2  11.0  Haloferax volcanii   \n",
       "1  1.1.1.1     D4GSN2   6.0  Haloferax volcanii   \n",
       "\n",
       "                                          references  \\\n",
       "0                   7011375,3816781,2789998,22526808   \n",
       "1  12834271,16000771,17072683,16390205,16243283,1...   \n",
       "\n",
       "                                            comments  \n",
       "0  #82# oxidation of ethanol, pyrazole-insensitiv...  \n",
       "1  #96,122# reduction of acetaldehyde <144,255>; ...  "
      ]
     },
     "execution_count": 18,
     "metadata": {},
     "output_type": "execute_result"
    }
   ],
   "source": [
    "# load the pHopt values\n",
    "data_opt = pd.read_csv(\"inputs/brenda/ph_opt_data_no_assay_at_no_mutant.tsv\", sep='\\t')\n",
    "print(data_opt.uniprot_id.nunique(), len(data_opt))\n",
    "data_opt.head(2)"
   ]
  },
  {
   "cell_type": "code",
   "execution_count": 19,
   "id": "050e17b0-80f9-4fb6-9f36-d8fefcea2e1a",
   "metadata": {},
   "outputs": [
    {
     "data": {
      "text/plain": [
       "P08659    9\n",
       "P13006    8\n",
       "Q9YBQ2    8\n",
       "P07102    7\n",
       "P00784    7\n",
       "         ..\n",
       "P19938    1\n",
       "Q9P9M8    1\n",
       "P24298    1\n",
       "Q8NT48    1\n",
       "Q0PCR9    1\n",
       "Name: uniprot_id, Length: 6777, dtype: int64"
      ]
     },
     "execution_count": 19,
     "metadata": {},
     "output_type": "execute_result"
    }
   ],
   "source": [
    "data_opt.uniprot_id.value_counts()"
   ]
  },
  {
   "cell_type": "code",
   "execution_count": 20,
   "id": "cf489677-2dc2-4aaf-9442-4808d9cfd0cc",
   "metadata": {},
   "outputs": [
    {
     "data": {
      "text/html": [
       "<div>\n",
       "<style scoped>\n",
       "    .dataframe tbody tr th:only-of-type {\n",
       "        vertical-align: middle;\n",
       "    }\n",
       "\n",
       "    .dataframe tbody tr th {\n",
       "        vertical-align: top;\n",
       "    }\n",
       "\n",
       "    .dataframe thead th {\n",
       "        text-align: right;\n",
       "    }\n",
       "</style>\n",
       "<table border=\"1\" class=\"dataframe\">\n",
       "  <thead>\n",
       "    <tr style=\"text-align: right;\">\n",
       "      <th></th>\n",
       "      <th>ec_num</th>\n",
       "      <th>uniprot_id</th>\n",
       "      <th>opt</th>\n",
       "      <th>species</th>\n",
       "      <th>references</th>\n",
       "      <th>comments</th>\n",
       "    </tr>\n",
       "  </thead>\n",
       "  <tbody>\n",
       "    <tr>\n",
       "      <th>726</th>\n",
       "      <td>1.1.3.4</td>\n",
       "      <td>P13006</td>\n",
       "      <td>5.8</td>\n",
       "      <td>Aspergillus niger</td>\n",
       "      <td>18584742</td>\n",
       "      <td>#13# immobilized and free form of the enzyme &lt;8&gt;</td>\n",
       "    </tr>\n",
       "    <tr>\n",
       "      <th>727</th>\n",
       "      <td>1.1.3.4</td>\n",
       "      <td>P13006</td>\n",
       "      <td>4.0</td>\n",
       "      <td>Aspergillus niger</td>\n",
       "      <td>NaN</td>\n",
       "      <td>None</td>\n",
       "    </tr>\n",
       "    <tr>\n",
       "      <th>728</th>\n",
       "      <td>1.1.3.4</td>\n",
       "      <td>P13006</td>\n",
       "      <td>5.0-7.0</td>\n",
       "      <td>Aspergillus niger</td>\n",
       "      <td>30197862</td>\n",
       "      <td>#29# recombinant enzyme &lt;160&gt;</td>\n",
       "    </tr>\n",
       "    <tr>\n",
       "      <th>729</th>\n",
       "      <td>1.1.3.4</td>\n",
       "      <td>P13006</td>\n",
       "      <td>6.86</td>\n",
       "      <td>Aspergillus niger</td>\n",
       "      <td>18421724</td>\n",
       "      <td>#29# glucose oxidase-immobilized polypyrrole/a...</td>\n",
       "    </tr>\n",
       "    <tr>\n",
       "      <th>730</th>\n",
       "      <td>1.1.3.4</td>\n",
       "      <td>P13006</td>\n",
       "      <td>5.5-6.0</td>\n",
       "      <td>Aspergillus niger</td>\n",
       "      <td>2342102,8354282,1932088</td>\n",
       "      <td>None</td>\n",
       "    </tr>\n",
       "    <tr>\n",
       "      <th>731</th>\n",
       "      <td>1.1.3.4</td>\n",
       "      <td>P13006</td>\n",
       "      <td>5.5</td>\n",
       "      <td>Aspergillus niger</td>\n",
       "      <td>3592653,16788719,23096254,23682574,33329498,28...</td>\n",
       "      <td>#3# free enzyme &lt;16&gt;; #29,44# recombinant enzy...</td>\n",
       "    </tr>\n",
       "    <tr>\n",
       "      <th>732</th>\n",
       "      <td>1.1.3.4</td>\n",
       "      <td>P13006</td>\n",
       "      <td>5.0</td>\n",
       "      <td>Aspergillus niger</td>\n",
       "      <td>19549540,25061935,23562736,27869125</td>\n",
       "      <td>#3# enzyme immobilized onto alumina &lt;14&gt;; #9# ...</td>\n",
       "    </tr>\n",
       "    <tr>\n",
       "      <th>733</th>\n",
       "      <td>1.1.3.4</td>\n",
       "      <td>P13006</td>\n",
       "      <td>6.0</td>\n",
       "      <td>Aspergillus niger</td>\n",
       "      <td>12182830,15932267,19784554,21040747,10749686,1...</td>\n",
       "      <td>#26# native and recombinant enzyme &lt;72&gt;; #37# ...</td>\n",
       "    </tr>\n",
       "    <tr>\n",
       "      <th>1151</th>\n",
       "      <td>1.13.12.7</td>\n",
       "      <td>P08659</td>\n",
       "      <td>8.0</td>\n",
       "      <td>Photinus pyralis</td>\n",
       "      <td>18465021,18251715,19661129,22155276,26049097,2...</td>\n",
       "      <td>#1# wild-type &lt;111&gt;; #17# wild-type enzyme &lt;125&gt;</td>\n",
       "    </tr>\n",
       "    <tr>\n",
       "      <th>1152</th>\n",
       "      <td>1.13.12.7</td>\n",
       "      <td>P08659</td>\n",
       "      <td>7.6</td>\n",
       "      <td>Photinus pyralis</td>\n",
       "      <td>7191217,19859663</td>\n",
       "      <td>#1# tricine buffer &lt;22&gt;; #17# yellow-green emi...</td>\n",
       "    </tr>\n",
       "    <tr>\n",
       "      <th>1153</th>\n",
       "      <td>1.13.12.7</td>\n",
       "      <td>P08659</td>\n",
       "      <td>7.8</td>\n",
       "      <td>Photinus pyralis</td>\n",
       "      <td>3821551,7304931,10529195,16551268,16732736,164...</td>\n",
       "      <td>#1# phosphate buffer &lt;14&gt;; #1# purified enzyme...</td>\n",
       "    </tr>\n",
       "    <tr>\n",
       "      <th>1154</th>\n",
       "      <td>1.13.12.7</td>\n",
       "      <td>P08659</td>\n",
       "      <td>8.1</td>\n",
       "      <td>Photinus pyralis</td>\n",
       "      <td>9228050</td>\n",
       "      <td>None</td>\n",
       "    </tr>\n",
       "    <tr>\n",
       "      <th>1155</th>\n",
       "      <td>1.13.12.7</td>\n",
       "      <td>P08659</td>\n",
       "      <td>7.5-7.8</td>\n",
       "      <td>Photinus pyralis</td>\n",
       "      <td>18949818</td>\n",
       "      <td>#17# yellow-green emitted light &lt;99&gt;</td>\n",
       "    </tr>\n",
       "    <tr>\n",
       "      <th>1156</th>\n",
       "      <td>1.13.12.7</td>\n",
       "      <td>P08659</td>\n",
       "      <td>9.0</td>\n",
       "      <td>Photinus pyralis</td>\n",
       "      <td>27658030</td>\n",
       "      <td>#17# recombinant circular enzyme &lt;125&gt;</td>\n",
       "    </tr>\n",
       "    <tr>\n",
       "      <th>1157</th>\n",
       "      <td>1.13.12.7</td>\n",
       "      <td>P08659</td>\n",
       "      <td>5.5</td>\n",
       "      <td>Photinus pyralis</td>\n",
       "      <td>19119851</td>\n",
       "      <td>#17# shift of emission spectra to red region &lt;94&gt;</td>\n",
       "    </tr>\n",
       "    <tr>\n",
       "      <th>1158</th>\n",
       "      <td>1.13.12.7</td>\n",
       "      <td>P08659</td>\n",
       "      <td>5.0-6.0</td>\n",
       "      <td>Photinus pyralis</td>\n",
       "      <td>18949818</td>\n",
       "      <td>#17# red emitted light &lt;99&gt;</td>\n",
       "    </tr>\n",
       "    <tr>\n",
       "      <th>1159</th>\n",
       "      <td>1.13.12.7</td>\n",
       "      <td>P08659</td>\n",
       "      <td>5.4</td>\n",
       "      <td>Photinus pyralis</td>\n",
       "      <td>19859663</td>\n",
       "      <td>#17# red emitted light &lt;96&gt;</td>\n",
       "    </tr>\n",
       "  </tbody>\n",
       "</table>\n",
       "</div>"
      ],
      "text/plain": [
       "         ec_num uniprot_id      opt            species  \\\n",
       "726     1.1.3.4     P13006      5.8  Aspergillus niger   \n",
       "727     1.1.3.4     P13006      4.0  Aspergillus niger   \n",
       "728     1.1.3.4     P13006  5.0-7.0  Aspergillus niger   \n",
       "729     1.1.3.4     P13006     6.86  Aspergillus niger   \n",
       "730     1.1.3.4     P13006  5.5-6.0  Aspergillus niger   \n",
       "731     1.1.3.4     P13006      5.5  Aspergillus niger   \n",
       "732     1.1.3.4     P13006      5.0  Aspergillus niger   \n",
       "733     1.1.3.4     P13006      6.0  Aspergillus niger   \n",
       "1151  1.13.12.7     P08659      8.0   Photinus pyralis   \n",
       "1152  1.13.12.7     P08659      7.6   Photinus pyralis   \n",
       "1153  1.13.12.7     P08659      7.8   Photinus pyralis   \n",
       "1154  1.13.12.7     P08659      8.1   Photinus pyralis   \n",
       "1155  1.13.12.7     P08659  7.5-7.8   Photinus pyralis   \n",
       "1156  1.13.12.7     P08659      9.0   Photinus pyralis   \n",
       "1157  1.13.12.7     P08659      5.5   Photinus pyralis   \n",
       "1158  1.13.12.7     P08659  5.0-6.0   Photinus pyralis   \n",
       "1159  1.13.12.7     P08659      5.4   Photinus pyralis   \n",
       "\n",
       "                                             references  \\\n",
       "726                                            18584742   \n",
       "727                                                 NaN   \n",
       "728                                            30197862   \n",
       "729                                            18421724   \n",
       "730                             2342102,8354282,1932088   \n",
       "731   3592653,16788719,23096254,23682574,33329498,28...   \n",
       "732                 19549540,25061935,23562736,27869125   \n",
       "733   12182830,15932267,19784554,21040747,10749686,1...   \n",
       "1151  18465021,18251715,19661129,22155276,26049097,2...   \n",
       "1152                                   7191217,19859663   \n",
       "1153  3821551,7304931,10529195,16551268,16732736,164...   \n",
       "1154                                            9228050   \n",
       "1155                                           18949818   \n",
       "1156                                           27658030   \n",
       "1157                                           19119851   \n",
       "1158                                           18949818   \n",
       "1159                                           19859663   \n",
       "\n",
       "                                               comments  \n",
       "726    #13# immobilized and free form of the enzyme <8>  \n",
       "727                                                None  \n",
       "728                       #29# recombinant enzyme <160>  \n",
       "729   #29# glucose oxidase-immobilized polypyrrole/a...  \n",
       "730                                                None  \n",
       "731   #3# free enzyme <16>; #29,44# recombinant enzy...  \n",
       "732   #3# enzyme immobilized onto alumina <14>; #9# ...  \n",
       "733   #26# native and recombinant enzyme <72>; #37# ...  \n",
       "1151   #1# wild-type <111>; #17# wild-type enzyme <125>  \n",
       "1152  #1# tricine buffer <22>; #17# yellow-green emi...  \n",
       "1153  #1# phosphate buffer <14>; #1# purified enzyme...  \n",
       "1154                                               None  \n",
       "1155               #17# yellow-green emitted light <99>  \n",
       "1156             #17# recombinant circular enzyme <125>  \n",
       "1157  #17# shift of emission spectra to red region <94>  \n",
       "1158                        #17# red emitted light <99>  \n",
       "1159                        #17# red emitted light <96>  "
      ]
     },
     "execution_count": 20,
     "metadata": {},
     "output_type": "execute_result"
    }
   ],
   "source": [
    "data_opt[data_opt.uniprot_id.isin(data_opt.uniprot_id.value_counts().head(2).index)]"
   ]
  },
  {
   "cell_type": "code",
   "execution_count": 21,
   "id": "069a931f-d58f-4108-b1bb-e17efcd01f17",
   "metadata": {},
   "outputs": [],
   "source": [
    "# for each uniprot ID, take the average pH as the optimum\n",
    "data_opt['opt_mean'] = data_opt.opt.apply(lambda x: np.mean([float(x.split('-')[0]), float(x.split('-')[1])])  if '-' in x else x)\n",
    "data_opt['opt_mean'] = data_opt['opt_mean'].astype(float)"
   ]
  },
  {
   "cell_type": "code",
   "execution_count": 22,
   "id": "74748c1a-b657-4d85-a70e-9bd3cbed0ee9",
   "metadata": {},
   "outputs": [
    {
     "data": {
      "text/html": [
       "<div>\n",
       "<style scoped>\n",
       "    .dataframe tbody tr th:only-of-type {\n",
       "        vertical-align: middle;\n",
       "    }\n",
       "\n",
       "    .dataframe tbody tr th {\n",
       "        vertical-align: top;\n",
       "    }\n",
       "\n",
       "    .dataframe thead th {\n",
       "        text-align: right;\n",
       "    }\n",
       "</style>\n",
       "<table border=\"1\" class=\"dataframe\">\n",
       "  <thead>\n",
       "    <tr style=\"text-align: right;\">\n",
       "      <th></th>\n",
       "      <th>opt_mean</th>\n",
       "    </tr>\n",
       "    <tr>\n",
       "      <th>uniprot_id</th>\n",
       "      <th></th>\n",
       "    </tr>\n",
       "  </thead>\n",
       "  <tbody>\n",
       "    <tr>\n",
       "      <th>A0A016VAH2</th>\n",
       "      <td>7.500000</td>\n",
       "    </tr>\n",
       "    <tr>\n",
       "      <th>A0A023I760</th>\n",
       "      <td>8.000000</td>\n",
       "    </tr>\n",
       "    <tr>\n",
       "      <th>A0A023J5W7</th>\n",
       "      <td>4.250000</td>\n",
       "    </tr>\n",
       "    <tr>\n",
       "      <th>A0A023MIF8</th>\n",
       "      <td>4.650000</td>\n",
       "    </tr>\n",
       "    <tr>\n",
       "      <th>A0A023UHK6</th>\n",
       "      <td>11.000000</td>\n",
       "    </tr>\n",
       "    <tr>\n",
       "      <th>...</th>\n",
       "      <td>...</td>\n",
       "    </tr>\n",
       "    <tr>\n",
       "      <th>X5DTB0</th>\n",
       "      <td>5.000000</td>\n",
       "    </tr>\n",
       "    <tr>\n",
       "      <th>X5I0R2</th>\n",
       "      <td>6.000000</td>\n",
       "    </tr>\n",
       "    <tr>\n",
       "      <th>X5IDD2</th>\n",
       "      <td>7.500000</td>\n",
       "    </tr>\n",
       "    <tr>\n",
       "      <th>X5JA14</th>\n",
       "      <td>4.500000</td>\n",
       "    </tr>\n",
       "    <tr>\n",
       "      <th>X5JAK9</th>\n",
       "      <td>4.833333</td>\n",
       "    </tr>\n",
       "  </tbody>\n",
       "</table>\n",
       "<p>6777 rows × 1 columns</p>\n",
       "</div>"
      ],
      "text/plain": [
       "             opt_mean\n",
       "uniprot_id           \n",
       "A0A016VAH2   7.500000\n",
       "A0A023I760   8.000000\n",
       "A0A023J5W7   4.250000\n",
       "A0A023MIF8   4.650000\n",
       "A0A023UHK6  11.000000\n",
       "...               ...\n",
       "X5DTB0       5.000000\n",
       "X5I0R2       6.000000\n",
       "X5IDD2       7.500000\n",
       "X5JA14       4.500000\n",
       "X5JAK9       4.833333\n",
       "\n",
       "[6777 rows x 1 columns]"
      ]
     },
     "execution_count": 22,
     "metadata": {},
     "output_type": "execute_result"
    }
   ],
   "source": [
    "data_opt_mean = data_opt[['uniprot_id', 'opt_mean']].groupby('uniprot_id').mean()\n",
    "data_opt_mean"
   ]
  },
  {
   "cell_type": "code",
   "execution_count": 23,
   "id": "e4265132-e78d-41a1-985c-76c2064430e9",
   "metadata": {},
   "outputs": [
    {
     "name": "stdout",
     "output_type": "stream",
     "text": [
      "5729\n"
     ]
    },
    {
     "data": {
      "text/html": [
       "<div>\n",
       "<style scoped>\n",
       "    .dataframe tbody tr th:only-of-type {\n",
       "        vertical-align: middle;\n",
       "    }\n",
       "\n",
       "    .dataframe tbody tr th {\n",
       "        vertical-align: top;\n",
       "    }\n",
       "\n",
       "    .dataframe thead th {\n",
       "        text-align: right;\n",
       "    }\n",
       "</style>\n",
       "<table border=\"1\" class=\"dataframe\">\n",
       "  <thead>\n",
       "    <tr style=\"text-align: right;\">\n",
       "      <th></th>\n",
       "      <th>uniprot_id</th>\n",
       "      <th>ph</th>\n",
       "      <th>activity</th>\n",
       "    </tr>\n",
       "  </thead>\n",
       "  <tbody>\n",
       "    <tr>\n",
       "      <th>0</th>\n",
       "      <td>A0A016VAH2</td>\n",
       "      <td>7.5</td>\n",
       "      <td>1</td>\n",
       "    </tr>\n",
       "    <tr>\n",
       "      <th>1</th>\n",
       "      <td>A0A023I760</td>\n",
       "      <td>8.0</td>\n",
       "      <td>1</td>\n",
       "    </tr>\n",
       "  </tbody>\n",
       "</table>\n",
       "</div>"
      ],
      "text/plain": [
       "   uniprot_id   ph  activity\n",
       "0  A0A016VAH2  7.5         1\n",
       "1  A0A023I760  8.0         1"
      ]
     },
     "execution_count": 23,
     "metadata": {},
     "output_type": "execute_result"
    }
   ],
   "source": [
    "# we already matched the ph_opt data to the ph_range, so just keep the unique uniprot IDs here\n",
    "data_opt_mean_uniq = data_opt_mean[~data_opt_mean.index.isin(data_act.uniprot_id.unique())]\n",
    "data_opt_mean_uniq = data_opt_mean_uniq.reset_index()\n",
    "data_opt_mean_uniq = data_opt_mean_uniq.rename(columns={'opt_mean': 'ph'})\n",
    "data_opt_mean_uniq['activity'] = 1\n",
    "print(len(data_opt_mean_uniq))\n",
    "data_opt_mean_uniq.head(2)"
   ]
  },
  {
   "cell_type": "code",
   "execution_count": 24,
   "id": "31e4af27-5674-4bc9-9fa6-dc9c7a59445a",
   "metadata": {},
   "outputs": [
    {
     "name": "stdout",
     "output_type": "stream",
     "text": [
      "len(out_of_range) = 0\n"
     ]
    }
   ],
   "source": [
    "check_ph_act(data_opt_mean_uniq)"
   ]
  },
  {
   "cell_type": "code",
   "execution_count": 28,
   "id": "0077770d-6204-4905-b34a-4e6c6ec1d7de",
   "metadata": {},
   "outputs": [],
   "source": [
    "data_act_ecoli['note'] = 'ecoli_man'\n",
    "data_act_ecoli.rename(columns={'pH': 'ph'}, inplace=True)\n",
    "# Fix the activities just below 0\n",
    "data_act_ecoli.loc[data_act_ecoli.activity < 0, 'activity'] = 0"
   ]
  },
  {
   "cell_type": "code",
   "execution_count": 29,
   "id": "5506e0a2-54ce-4e35-a611-24a2a57df5e0",
   "metadata": {},
   "outputs": [
    {
     "name": "stdout",
     "output_type": "stream",
     "text": [
      "len(out_of_range) = 14\n",
      "      exp_index    ph  activity uniprot_id       note\n",
      "75           16   9.1  1.005900     P21514  ecoli_man\n",
      "196          37  10.0  1.001300     P0A6C5  ecoli_man\n",
      "197          37  10.5  1.004000     P0A6C5  ecoli_man\n",
      "205          38   7.0  1.050000     P0A6C5  ecoli_man\n",
      "335          48   8.0  1.001639     P0AC88  ecoli_man\n",
      "359          50   7.9  1.001270     P09126  ecoli_man\n",
      "525          66   7.5  1.001060     P27306  ecoli_man\n",
      "545          68   5.3  1.002049     P07658  ecoli_man\n",
      "546          68   5.8  1.016393     P07658  ecoli_man\n",
      "547          68   6.2  1.057377     P07658  ecoli_man\n",
      "1180        133   4.5  1.002179     P19926  ecoli_man\n",
      "1207        134   6.5  1.002179     P19926  ecoli_man\n",
      "1223        135   3.5  1.002179     P19926  ecoli_man\n",
      "1783        230  13.5  0.002390     P21179  ecoli_man\n"
     ]
    }
   ],
   "source": [
    "check_ph_act(data_act_ecoli)"
   ]
  },
  {
   "cell_type": "code",
   "execution_count": 30,
   "id": "d9eaccc3-c584-4d5b-bc10-00941a4c41c4",
   "metadata": {},
   "outputs": [
    {
     "data": {
      "text/html": [
       "<div>\n",
       "<style scoped>\n",
       "    .dataframe tbody tr th:only-of-type {\n",
       "        vertical-align: middle;\n",
       "    }\n",
       "\n",
       "    .dataframe tbody tr th {\n",
       "        vertical-align: top;\n",
       "    }\n",
       "\n",
       "    .dataframe thead th {\n",
       "        text-align: right;\n",
       "    }\n",
       "</style>\n",
       "<table border=\"1\" class=\"dataframe\">\n",
       "  <thead>\n",
       "    <tr style=\"text-align: right;\">\n",
       "      <th></th>\n",
       "      <th>exp_index</th>\n",
       "      <th>ph</th>\n",
       "      <th>activity</th>\n",
       "      <th>uniprot_id</th>\n",
       "      <th>note</th>\n",
       "    </tr>\n",
       "  </thead>\n",
       "  <tbody>\n",
       "    <tr>\n",
       "      <th>0</th>\n",
       "      <td>0</td>\n",
       "      <td>7.2</td>\n",
       "      <td>0.012428</td>\n",
       "      <td>P21515</td>\n",
       "      <td>ecoli_man</td>\n",
       "    </tr>\n",
       "    <tr>\n",
       "      <th>1</th>\n",
       "      <td>0</td>\n",
       "      <td>7.5</td>\n",
       "      <td>0.090313</td>\n",
       "      <td>P21515</td>\n",
       "      <td>ecoli_man</td>\n",
       "    </tr>\n",
       "  </tbody>\n",
       "</table>\n",
       "</div>"
      ],
      "text/plain": [
       "   exp_index   ph  activity uniprot_id       note\n",
       "0          0  7.2  0.012428     P21515  ecoli_man\n",
       "1          0  7.5  0.090313     P21515  ecoli_man"
      ]
     },
     "execution_count": 30,
     "metadata": {},
     "output_type": "execute_result"
    }
   ],
   "source": [
    "data_act_ecoli.head(2)"
   ]
  },
  {
   "cell_type": "code",
   "execution_count": 31,
   "id": "f7ae6f32-c236-4de9-9497-977b1ea68656",
   "metadata": {},
   "outputs": [
    {
     "name": "stdout",
     "output_type": "stream",
     "text": [
      "7999 15235\n"
     ]
    },
    {
     "data": {
      "text/html": [
       "<div>\n",
       "<style scoped>\n",
       "    .dataframe tbody tr th:only-of-type {\n",
       "        vertical-align: middle;\n",
       "    }\n",
       "\n",
       "    .dataframe tbody tr th {\n",
       "        vertical-align: top;\n",
       "    }\n",
       "\n",
       "    .dataframe thead th {\n",
       "        text-align: right;\n",
       "    }\n",
       "</style>\n",
       "<table border=\"1\" class=\"dataframe\">\n",
       "  <thead>\n",
       "    <tr style=\"text-align: right;\">\n",
       "      <th></th>\n",
       "      <th>exp_index</th>\n",
       "      <th>ph</th>\n",
       "      <th>activity</th>\n",
       "      <th>note</th>\n",
       "      <th>ph_range_comment</th>\n",
       "      <th>uniprot_id</th>\n",
       "    </tr>\n",
       "  </thead>\n",
       "  <tbody>\n",
       "    <tr>\n",
       "      <th>0</th>\n",
       "      <td>0.0</td>\n",
       "      <td>4.0</td>\n",
       "      <td>0.8</td>\n",
       "      <td>NaN</td>\n",
       "      <td>pH 4.0: about 80% of maximal activity, pH 7.5...</td>\n",
       "      <td>B2KJ46</td>\n",
       "    </tr>\n",
       "    <tr>\n",
       "      <th>1</th>\n",
       "      <td>0.0</td>\n",
       "      <td>4.5</td>\n",
       "      <td>1.0</td>\n",
       "      <td>NaN</td>\n",
       "      <td>NaN</td>\n",
       "      <td>B2KJ46</td>\n",
       "    </tr>\n",
       "  </tbody>\n",
       "</table>\n",
       "</div>"
      ],
      "text/plain": [
       "   exp_index   ph  activity note  \\\n",
       "0        0.0  4.0       0.8  NaN   \n",
       "1        0.0  4.5       1.0  NaN   \n",
       "\n",
       "                                    ph_range_comment uniprot_id  \n",
       "0   pH 4.0: about 80% of maximal activity, pH 7.5...     B2KJ46  \n",
       "1                                                NaN     B2KJ46  "
      ]
     },
     "execution_count": 31,
     "metadata": {},
     "output_type": "execute_result"
    }
   ],
   "source": [
    "data_act_merged = pd.concat([data_act, data_act_ecoli, data_opt_mean_uniq], ignore_index=True).reset_index(drop=True)\n",
    "print(data_act_merged.uniprot_id.nunique(), len(data_act_merged))\n",
    "data_act_merged.head(2)"
   ]
  }
 ],
 "metadata": {
  "kernelspec": {
   "display_name": "Python 3 (ipykernel)",
   "language": "python",
   "name": "python3"
  },
  "language_info": {
   "codemirror_mode": {
    "name": "ipython",
    "version": 3
   },
   "file_extension": ".py",
   "mimetype": "text/x-python",
   "name": "python",
   "nbconvert_exporter": "python",
   "pygments_lexer": "ipython3",
   "version": "3.10.8"
  }
 },
 "nbformat": 4,
 "nbformat_minor": 5
}
