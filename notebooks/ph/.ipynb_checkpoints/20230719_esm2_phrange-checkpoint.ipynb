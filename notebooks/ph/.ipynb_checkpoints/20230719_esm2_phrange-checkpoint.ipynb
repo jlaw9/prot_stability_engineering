{
 "cells": [
  {
   "cell_type": "code",
   "execution_count": 1,
   "id": "6c939252-6652-4577-914c-349f03376a17",
   "metadata": {},
   "outputs": [],
   "source": [
    "import numpy as np\n",
    "import pandas as pd\n",
    "import os\n",
    "from Bio import SeqIO\n",
    "import itertools\n",
    "from typing import List, Tuple\n",
    "import string\n",
    "from pathlib import Path\n",
    "from tqdm.auto import tqdm, trange\n",
    "\n",
    "import matplotlib.pyplot as plt\n",
    "import seaborn as sns\n",
    "\n",
    "%matplotlib inline"
   ]
  },
  {
   "cell_type": "code",
   "execution_count": 2,
   "id": "f203ac03-82c5-495d-aaa8-89a67f756bc4",
   "metadata": {},
   "outputs": [],
   "source": [
    "from sklearn.metrics import mean_squared_error\n",
    "from scipy.stats import spearmanr\n",
    "from sklearn.linear_model import LinearRegression, Ridge\n",
    "from sklearn.kernel_ridge import KernelRidge"
   ]
  },
  {
   "cell_type": "code",
   "execution_count": 3,
   "id": "6dca5874-4b73-4fe3-a03a-f99b711259a6",
   "metadata": {},
   "outputs": [
    {
     "data": {
      "text/plain": [
       "True"
      ]
     },
     "execution_count": 3,
     "metadata": {},
     "output_type": "execute_result"
    }
   ],
   "source": [
    "import torch\n",
    "torch.cuda.is_available()"
   ]
  },
  {
   "cell_type": "code",
   "execution_count": 9,
   "id": "61c7e96e-04ce-4144-b826-4a201626dff5",
   "metadata": {},
   "outputs": [
    {
     "data": {
      "text/plain": [
       "'/lustre/eaglefs/projects/robustmicrob/jlaw/projects/prot_stability_engineering'"
      ]
     },
     "execution_count": 9,
     "metadata": {},
     "output_type": "execute_result"
    }
   ],
   "source": [
    "os.chdir(\"../../\")\n",
    "os.getcwd()"
   ]
  },
  {
   "cell_type": "code",
   "execution_count": 5,
   "id": "772fed3e-23c9-4877-b444-c78169f12d98",
   "metadata": {},
   "outputs": [
    {
     "name": "stderr",
     "output_type": "stream",
     "text": [
      "Using cache found in /scratch/jlaw/torch/facebookresearch_esm_main\n"
     ]
    }
   ],
   "source": [
    "torch.hub.set_dir('/scratch/jlaw/torch')\n",
    "model_name = \"esm2_t33_650M_UR50D\"\n",
    "# model_name = \"esm2_t36_3B_UR50D\"\n",
    "model, alphabet = torch.hub.load(\"facebookresearch/esm:main\", model_name)"
   ]
  },
  {
   "cell_type": "markdown",
   "id": "7af2cd31-65d6-4539-a865-7df11c7463a3",
   "metadata": {},
   "source": [
    "### Build/get embeddings"
   ]
  },
  {
   "cell_type": "code",
   "execution_count": 6,
   "id": "1e1e06d5-1ba3-45cd-895c-2da4aa733f72",
   "metadata": {},
   "outputs": [],
   "source": [
    "def read_embeddings(embed_file, sequence_idx_file):\n",
    "    \"\"\" Read embeddings stored in an npz file\n",
    "    Get the sequences at each index from the *sequence_idx_file\n",
    "    \"\"\"\n",
    "    embeddings = np.load(embed_file, allow_pickle=True)['arr_0']\n",
    "    sequences = pd.read_csv(sequence_idx_file)\n",
    "    print(f\"{len(embeddings) = } read from {embed_file}\")\n",
    "    print(f\"{len(sequences) = } read from {sequence_idx_file}\")\n",
    "    return embeddings, sequences"
   ]
  },
  {
   "cell_type": "code",
   "execution_count": 11,
   "id": "b08c084e-afb8-4b01-8308-cc22f25a12b5",
   "metadata": {},
   "outputs": [
    {
     "name": "stdout",
     "output_type": "stream",
     "text": [
      "len(embeddings) = 6668 read from inputs/brenda/uniprot/embeddings/20230504_embeddings_esm2_t33_650M_UR50D.npz\n",
      "len(sequences) = 6668 read from inputs/brenda/uniprot/embeddings/20230504_embeddings_seqs.csv\n"
     ]
    }
   ],
   "source": [
    "# inputs_dir = Path(\"/projects/robustmicrob/jlaw/inputs/\")\n",
    "inputs_dir = \"inputs/brenda/uniprot\"\n",
    "\n",
    "embeddings, df_seq = read_embeddings(Path(inputs_dir, \"embeddings/20230504_embeddings_esm2_t33_650M_UR50D.npz\"),\n",
    "                                     Path(inputs_dir, \"embeddings/20230504_embeddings_seqs.csv\"))\n",
    "\n",
    "embembeddings, df_seq = read_embeddings(Path(inputs_dir, \"embeddings/20230504_embeddings_esm2_t33_650M_UR50D.npz\"),\n",
    "                                     Path(inputs_dir, \"embeddings/20230504_embeddings_seqs.csv\"))\n"
   ]
  },
  {
   "cell_type": "code",
   "execution_count": 11,
   "id": "8f93415a",
   "metadata": {},
   "outputs": [
    {
     "name": "stdout",
     "output_type": "stream",
     "text": [
      "len(embeddings) = 6668 read from inputs/brenda/uniprot/embeddings/20230504_embeddings_esm2_t33_650M_UR50D.npz\n",
      "len(sequences) = 6668 read from inputs/brenda/uniprot/embeddings/20230504_embeddings_seqs.csv\n"
     ]
    }
   ],
   "source": [
    "# inputs_dir = Path(\"/projects/robustmicrob/jlaw/inputs/\")\n",
    "inputs_dir = \"inputs/brenda/uniprot\"\n",
    "\n",
    "embeddings, df_seq = read_embeddings(Path(inputs_dir, \"embeddings/20230504_embeddings_esm2_t33_650M_UR50D.npz\"),\n",
    "                                     Path(inputs_dir, \"embeddings/20230504_embeddings_seqs.csv\"))\n",
    "\n",
    "embembeddings, df_seq = read_embeddings(Path(inputs_dir, \"embeddings/20230504_embeddings_esm2_t33_650M_UR50D.npz\"),\n",
    "                                     Path(inputs_dir, \"embeddings/20230504_embeddings_seqs.csv\"))\n"
   ]
  },
  {
   "cell_type": "code",
   "execution_count": 11,
   "id": "b6886c13-1b51-4774-b0a1-9a0ab405de23",
   "metadata": {},
   "outputs": [
    {
     "data": {
      "text/plain": [
       "array([[-0.01015 , -0.08075 , -0.07086 , ..., -0.2336  ,  0.0362  ,\n",
       "         0.05096 ],\n",
       "       [ 0.03967 , -0.00853 , -0.01449 , ..., -0.1277  , -0.06235 ,\n",
       "        -0.03894 ],\n",
       "       [ 0.0838  , -0.0635  ,  0.003283, ..., -0.1378  , -0.01497 ,\n",
       "        -0.03973 ],\n",
       "       ...,\n",
       "       [-0.01321 , -0.01046 ,  0.005497, ..., -0.148   ,  0.03625 ,\n",
       "         0.0199  ],\n",
       "       [ 0.00199 , -0.05246 ,  0.05182 , ..., -0.167   ,  0.03516 ,\n",
       "         0.08356 ],\n",
       "       [ 0.00416 , -0.0526  , -0.04715 , ..., -0.235   ,  0.002731,\n",
       "         0.1219  ]], dtype=float16)"
      ]
     },
     "execution_count": 11,
     "metadata": {},
     "output_type": "execute_result"
    }
   ],
   "source": [
    "embeddings"
   ]
  },
  {
   "cell_type": "code",
   "execution_count": 12,
   "id": "72837c7e-89f0-49f1-a9e3-fe4bc1275c21",
   "metadata": {},
   "outputs": [
    {
     "data": {
      "text/html": [
       "<div>\n",
       "<style scoped>\n",
       "    .dataframe tbody tr th:only-of-type {\n",
       "        vertical-align: middle;\n",
       "    }\n",
       "\n",
       "    .dataframe tbody tr th {\n",
       "        vertical-align: top;\n",
       "    }\n",
       "\n",
       "    .dataframe thead th {\n",
       "        text-align: right;\n",
       "    }\n",
       "</style>\n",
       "<table border=\"1\" class=\"dataframe\">\n",
       "  <thead>\n",
       "    <tr style=\"text-align: right;\">\n",
       "      <th></th>\n",
       "      <th>Unnamed: 0</th>\n",
       "      <th>uniprot_id</th>\n",
       "      <th>sequence</th>\n",
       "    </tr>\n",
       "  </thead>\n",
       "  <tbody>\n",
       "    <tr>\n",
       "      <th>0</th>\n",
       "      <td>0</td>\n",
       "      <td>B2KJ46</td>\n",
       "      <td>MGEIESYCNKELGPLPTKAPTLSKNVLDLFSLKGKVASVTGSSGGI...</td>\n",
       "    </tr>\n",
       "    <tr>\n",
       "      <th>1</th>\n",
       "      <td>1</td>\n",
       "      <td>Q6L0S1</td>\n",
       "      <td>MRAIVLERFGIENIKIEDIDDESPGIPVKITMAGLNPVDYSTVNGN...</td>\n",
       "    </tr>\n",
       "    <tr>\n",
       "      <th>2</th>\n",
       "      <td>2</td>\n",
       "      <td>F9VMI9</td>\n",
       "      <td>MKAMLIKEFGKPLKLEDVDVPKLKQNQVLIRVRSAGVCHTDVSVRS...</td>\n",
       "    </tr>\n",
       "    <tr>\n",
       "      <th>3</th>\n",
       "      <td>3</td>\n",
       "      <td>Q4J702</td>\n",
       "      <td>MDIDRLFSVKGMNAVVLGASSGIGKAIAEMFSEMGGKVVLSDIDEE...</td>\n",
       "    </tr>\n",
       "    <tr>\n",
       "      <th>4</th>\n",
       "      <td>4</td>\n",
       "      <td>Q9Y9P9</td>\n",
       "      <td>MKAARLHEYNKPLRIEDVDYPRLEGRFDVIVRIAGAGVCHTDLHLV...</td>\n",
       "    </tr>\n",
       "    <tr>\n",
       "      <th>...</th>\n",
       "      <td>...</td>\n",
       "      <td>...</td>\n",
       "      <td>...</td>\n",
       "    </tr>\n",
       "    <tr>\n",
       "      <th>2268</th>\n",
       "      <td>2315</td>\n",
       "      <td>P77671</td>\n",
       "      <td>MSFDLIIKNGTVILENEARVVDIAVKGGKIAAIGQDLGDAKEVMDA...</td>\n",
       "    </tr>\n",
       "    <tr>\n",
       "      <th>2269</th>\n",
       "      <td>2316</td>\n",
       "      <td>P77781</td>\n",
       "      <td>MIWKRKITLEALNAMGEGNMVGFLDIRFEHIGDDTLEATMPVDSRT...</td>\n",
       "    </tr>\n",
       "    <tr>\n",
       "      <th>2270</th>\n",
       "      <td>2317</td>\n",
       "      <td>Q46851</td>\n",
       "      <td>MVWLANPERYGQMQYRYCGKSGLRLPALSLGLWHNFGHVNALESQR...</td>\n",
       "    </tr>\n",
       "    <tr>\n",
       "      <th>2271</th>\n",
       "      <td>2318</td>\n",
       "      <td>Q46920</td>\n",
       "      <td>MSSYANHQALAGLTLGKSTDYRDTYDASLLQGVPRSLNRDPLGLKA...</td>\n",
       "    </tr>\n",
       "    <tr>\n",
       "      <th>2272</th>\n",
       "      <td>2319</td>\n",
       "      <td>Q46938</td>\n",
       "      <td>MDVRQSIHSAHAKTLDTQGLRNEFLVEKVFVADEYTMVYSHIDRII...</td>\n",
       "    </tr>\n",
       "  </tbody>\n",
       "</table>\n",
       "<p>2273 rows × 3 columns</p>\n",
       "</div>"
      ],
      "text/plain": [
       "      Unnamed: 0 uniprot_id                                           sequence\n",
       "0              0     B2KJ46  MGEIESYCNKELGPLPTKAPTLSKNVLDLFSLKGKVASVTGSSGGI...\n",
       "1              1     Q6L0S1  MRAIVLERFGIENIKIEDIDDESPGIPVKITMAGLNPVDYSTVNGN...\n",
       "2              2     F9VMI9  MKAMLIKEFGKPLKLEDVDVPKLKQNQVLIRVRSAGVCHTDVSVRS...\n",
       "3              3     Q4J702  MDIDRLFSVKGMNAVVLGASSGIGKAIAEMFSEMGGKVVLSDIDEE...\n",
       "4              4     Q9Y9P9  MKAARLHEYNKPLRIEDVDYPRLEGRFDVIVRIAGAGVCHTDLHLV...\n",
       "...          ...        ...                                                ...\n",
       "2268        2315     P77671  MSFDLIIKNGTVILENEARVVDIAVKGGKIAAIGQDLGDAKEVMDA...\n",
       "2269        2316     P77781  MIWKRKITLEALNAMGEGNMVGFLDIRFEHIGDDTLEATMPVDSRT...\n",
       "2270        2317     Q46851  MVWLANPERYGQMQYRYCGKSGLRLPALSLGLWHNFGHVNALESQR...\n",
       "2271        2318     Q46920  MSSYANHQALAGLTLGKSTDYRDTYDASLLQGVPRSLNRDPLGLKA...\n",
       "2272        2319     Q46938  MDVRQSIHSAHAKTLDTQGLRNEFLVEKVFVADEYTMVYSHIDRII...\n",
       "\n",
       "[2273 rows x 3 columns]"
      ]
     },
     "execution_count": 12,
     "metadata": {},
     "output_type": "execute_result"
    }
   ],
   "source": [
    "df_seq"
   ]
  },
  {
   "cell_type": "markdown",
   "id": "8589c2d1-c1cb-4a3b-bf71-32cf4f664667",
   "metadata": {},
   "source": [
    "### Load and combine the ph range and ph opt datasets\n",
    "1. Brenda ph range\n",
    "2. E coli manual parsing\n",
    "3. Brenda ph opt"
   ]
  },
  {
   "cell_type": "code",
   "execution_count": 18,
   "id": "7aaaf9e3-ff61-433f-8798-84de0375d8e1",
   "metadata": {},
   "outputs": [
    {
     "name": "stdout",
     "output_type": "stream",
     "text": [
      "inputs/brenda/ph_range/20230719_ph_range_processed.csv\n",
      "5842\n",
      "inputs/brenda/ph_range/20230719_ph_range_processed_act_wopt.csv\n",
      "6341\n"
     ]
    },
    {
     "data": {
      "text/html": [
       "<div>\n",
       "<style scoped>\n",
       "    .dataframe tbody tr th:only-of-type {\n",
       "        vertical-align: middle;\n",
       "    }\n",
       "\n",
       "    .dataframe tbody tr th {\n",
       "        vertical-align: top;\n",
       "    }\n",
       "\n",
       "    .dataframe thead th {\n",
       "        text-align: right;\n",
       "    }\n",
       "</style>\n",
       "<table border=\"1\" class=\"dataframe\">\n",
       "  <thead>\n",
       "    <tr style=\"text-align: right;\">\n",
       "      <th></th>\n",
       "      <th>exp_index</th>\n",
       "      <th>ph</th>\n",
       "      <th>activity</th>\n",
       "      <th>note</th>\n",
       "      <th>ph_range_comment</th>\n",
       "    </tr>\n",
       "  </thead>\n",
       "  <tbody>\n",
       "    <tr>\n",
       "      <th>0</th>\n",
       "      <td>0</td>\n",
       "      <td>4.0</td>\n",
       "      <td>0.8</td>\n",
       "      <td>NaN</td>\n",
       "      <td>pH 4.0: about 80% of maximal activity, pH 7.5...</td>\n",
       "    </tr>\n",
       "    <tr>\n",
       "      <th>1</th>\n",
       "      <td>0</td>\n",
       "      <td>4.5</td>\n",
       "      <td>1.0</td>\n",
       "      <td>NaN</td>\n",
       "      <td>NaN</td>\n",
       "    </tr>\n",
       "  </tbody>\n",
       "</table>\n",
       "</div>"
      ],
      "text/plain": [
       "   exp_index   ph  activity note  \\\n",
       "0          0  4.0       0.8  NaN   \n",
       "1          0  4.5       1.0  NaN   \n",
       "\n",
       "                                    ph_range_comment  \n",
       "0   pH 4.0: about 80% of maximal activity, pH 7.5...  \n",
       "1                                                NaN  "
      ]
     },
     "execution_count": 18,
     "metadata": {},
     "output_type": "execute_result"
    }
   ],
   "source": [
    "# load the pH range and opt values\n",
    "data_file = Path(inputs_dir, \"ph_range/20230719_ph_range_processed.csv\")\n",
    "print(data_file)\n",
    "data = pd.read_csv(data_file, index_col=0)\n",
    "print(len(data))\n",
    "\n",
    "act_file = Path(inputs_dir, \"ph_range/20230719_ph_range_processed_act_wopt.csv\")\n",
    "print(act_file)\n",
    "data_act = pd.read_csv(act_file)\n",
    "print(len(data_act))\n",
    "data_act.head(2)"
   ]
  },
  {
   "cell_type": "code",
   "execution_count": 19,
   "id": "00b99780-8cac-4959-ae85-5ec9ed302eb7",
   "metadata": {},
   "outputs": [],
   "source": [
    "data_act['uniprot_id'] = data_act.exp_index.apply(lambda x: data.loc[x].uniprot_id)"
   ]
  },
  {
   "cell_type": "code",
   "execution_count": 20,
   "id": "3a4a9b19-4014-485b-91f1-673c8acb2370",
   "metadata": {},
   "outputs": [
    {
     "data": {
      "text/plain": [
       "P00784    33\n",
       "Q9UKK9    20\n",
       "Q9UHL4    17\n",
       "Q6LXQ3    16\n",
       "Q8H8T0    16\n",
       "          ..\n",
       "P19791     1\n",
       "P10281     1\n",
       "Q43153     1\n",
       "Q9ZTK5     1\n",
       "Q9ZH77     1\n",
       "Name: uniprot_id, Length: 2125, dtype: int64"
      ]
     },
     "execution_count": 20,
     "metadata": {},
     "output_type": "execute_result"
    }
   ],
   "source": [
    "data_act.uniprot_id.value_counts()"
   ]
  },
  {
   "cell_type": "code",
   "execution_count": 29,
   "id": "a070024b-38e0-4599-938e-6f748c1c72ca",
   "metadata": {},
   "outputs": [
    {
     "name": "stdout",
     "output_type": "stream",
     "text": [
      "inputs/brenda/ph_range/ecoli/20230712_ph_curve_data_processed.csv\n",
      "282\n",
      "inputs/brenda/ph_range/ecoli/20230712_ph_curve_data_processed_activities.csv\n",
      "3165\n"
     ]
    },
    {
     "data": {
      "text/html": [
       "<div>\n",
       "<style scoped>\n",
       "    .dataframe tbody tr th:only-of-type {\n",
       "        vertical-align: middle;\n",
       "    }\n",
       "\n",
       "    .dataframe tbody tr th {\n",
       "        vertical-align: top;\n",
       "    }\n",
       "\n",
       "    .dataframe thead th {\n",
       "        text-align: right;\n",
       "    }\n",
       "</style>\n",
       "<table border=\"1\" class=\"dataframe\">\n",
       "  <thead>\n",
       "    <tr style=\"text-align: right;\">\n",
       "      <th></th>\n",
       "      <th>exp_index</th>\n",
       "      <th>pH</th>\n",
       "      <th>activity</th>\n",
       "    </tr>\n",
       "  </thead>\n",
       "  <tbody>\n",
       "    <tr>\n",
       "      <th>0</th>\n",
       "      <td>0</td>\n",
       "      <td>7.2</td>\n",
       "      <td>0.012428</td>\n",
       "    </tr>\n",
       "    <tr>\n",
       "      <th>1</th>\n",
       "      <td>0</td>\n",
       "      <td>7.5</td>\n",
       "      <td>0.090313</td>\n",
       "    </tr>\n",
       "  </tbody>\n",
       "</table>\n",
       "</div>"
      ],
      "text/plain": [
       "   exp_index   pH  activity\n",
       "0          0  7.2  0.012428\n",
       "1          0  7.5  0.090313"
      ]
     },
     "execution_count": 29,
     "metadata": {},
     "output_type": "execute_result"
    }
   ],
   "source": [
    "# also load the manual E coli dataset\n",
    "data_file = Path(inputs_dir, \"ph_range/ecoli/20230712_ph_curve_data_processed.csv\")\n",
    "print(data_file)\n",
    "data_ecoli = pd.read_csv(data_file, index_col=0)\n",
    "print(len(data_ecoli))\n",
    "\n",
    "act_file = Path(inputs_dir, \"ph_range/ecoli/20230712_ph_curve_data_processed_activities.csv\")\n",
    "print(act_file)\n",
    "data_act_ecoli = pd.read_csv(act_file)\n",
    "print(len(data_act_ecoli))\n",
    "data_act_ecoli.head(2)"
   ]
  },
  {
   "cell_type": "code",
   "execution_count": 30,
   "id": "5e4bbf7e-1d5d-44d1-849c-6c716a03ec20",
   "metadata": {},
   "outputs": [
    {
     "data": {
      "text/html": [
       "<div>\n",
       "<style scoped>\n",
       "    .dataframe tbody tr th:only-of-type {\n",
       "        vertical-align: middle;\n",
       "    }\n",
       "\n",
       "    .dataframe tbody tr th {\n",
       "        vertical-align: top;\n",
       "    }\n",
       "\n",
       "    .dataframe thead th {\n",
       "        text-align: right;\n",
       "    }\n",
       "</style>\n",
       "<table border=\"1\" class=\"dataframe\">\n",
       "  <thead>\n",
       "    <tr style=\"text-align: right;\">\n",
       "      <th></th>\n",
       "      <th>gene</th>\n",
       "      <th>uniprot_id</th>\n",
       "      <th>b_number</th>\n",
       "      <th>data_type</th>\n",
       "      <th>mutation</th>\n",
       "      <th>doi</th>\n",
       "      <th>figure_id</th>\n",
       "      <th>time</th>\n",
       "      <th>condition</th>\n",
       "      <th>reaction_note</th>\n",
       "      <th>curator</th>\n",
       "    </tr>\n",
       "    <tr>\n",
       "      <th>exp_index</th>\n",
       "      <th></th>\n",
       "      <th></th>\n",
       "      <th></th>\n",
       "      <th></th>\n",
       "      <th></th>\n",
       "      <th></th>\n",
       "      <th></th>\n",
       "      <th></th>\n",
       "      <th></th>\n",
       "      <th></th>\n",
       "      <th></th>\n",
       "    </tr>\n",
       "  </thead>\n",
       "  <tbody>\n",
       "    <tr>\n",
       "      <th>0</th>\n",
       "      <td>acpH</td>\n",
       "      <td>P21515</td>\n",
       "      <td>b0404</td>\n",
       "      <td>ph</td>\n",
       "      <td>NaN</td>\n",
       "      <td>10.1016/S0021-9258(18)96069-2</td>\n",
       "      <td>fig4</td>\n",
       "      <td>30</td>\n",
       "      <td>33</td>\n",
       "      <td>NaN</td>\n",
       "      <td>JL</td>\n",
       "    </tr>\n",
       "    <tr>\n",
       "      <th>3</th>\n",
       "      <td>speA</td>\n",
       "      <td>P21170</td>\n",
       "      <td>b2938</td>\n",
       "      <td>ph</td>\n",
       "      <td>wt</td>\n",
       "      <td>10.1016/j.molcatb.2015.06.008</td>\n",
       "      <td>NaN</td>\n",
       "      <td>15</td>\n",
       "      <td>4</td>\n",
       "      <td>NaN</td>\n",
       "      <td>JL</td>\n",
       "    </tr>\n",
       "  </tbody>\n",
       "</table>\n",
       "</div>"
      ],
      "text/plain": [
       "           gene uniprot_id b_number data_type mutation  \\\n",
       "exp_index                                                \n",
       "0          acpH     P21515    b0404        ph      NaN   \n",
       "3          speA     P21170    b2938        ph       wt   \n",
       "\n",
       "                                     doi figure_id time condition  \\\n",
       "exp_index                                                           \n",
       "0          10.1016/S0021-9258(18)96069-2      fig4   30        33   \n",
       "3          10.1016/j.molcatb.2015.06.008       NaN   15         4   \n",
       "\n",
       "          reaction_note curator  \n",
       "exp_index                        \n",
       "0                   NaN      JL  \n",
       "3                   NaN      JL  "
      ]
     },
     "execution_count": 30,
     "metadata": {},
     "output_type": "execute_result"
    }
   ],
   "source": [
    "data_ecoli.head(2)"
   ]
  },
  {
   "cell_type": "code",
   "execution_count": 31,
   "id": "834b3ca3-76fd-4beb-9d92-c01d511ea17c",
   "metadata": {},
   "outputs": [],
   "source": [
    "data_act_ecoli['uniprot_id'] = data_act_ecoli.exp_index.apply(lambda x: data_ecoli.loc[x].uniprot_id)"
   ]
  },
  {
   "cell_type": "code",
   "execution_count": 32,
   "id": "34fc30a5-3ec7-4da3-a678-d1e6682a1093",
   "metadata": {},
   "outputs": [
    {
     "data": {
      "text/plain": [
       "P25524    96\n",
       "P19926    84\n",
       "P06721    70\n",
       "P00864    53\n",
       "P10902    53\n",
       "          ..\n",
       "P17444     5\n",
       "P37197     5\n",
       "P0A9T0     4\n",
       "P0A725     3\n",
       "P45568     2\n",
       "Name: uniprot_id, Length: 195, dtype: int64"
      ]
     },
     "execution_count": 32,
     "metadata": {},
     "output_type": "execute_result"
    }
   ],
   "source": [
    "data_act_ecoli.uniprot_id.value_counts()"
   ]
  },
  {
   "cell_type": "code",
   "execution_count": 23,
   "id": "d2a82355-5d7e-4795-a2d3-54e92d3ef55b",
   "metadata": {},
   "outputs": [
    {
     "name": "stdout",
     "output_type": "stream",
     "text": [
      "6777 8367\n"
     ]
    },
    {
     "data": {
      "text/html": [
       "<div>\n",
       "<style scoped>\n",
       "    .dataframe tbody tr th:only-of-type {\n",
       "        vertical-align: middle;\n",
       "    }\n",
       "\n",
       "    .dataframe tbody tr th {\n",
       "        vertical-align: top;\n",
       "    }\n",
       "\n",
       "    .dataframe thead th {\n",
       "        text-align: right;\n",
       "    }\n",
       "</style>\n",
       "<table border=\"1\" class=\"dataframe\">\n",
       "  <thead>\n",
       "    <tr style=\"text-align: right;\">\n",
       "      <th></th>\n",
       "      <th>ec_num</th>\n",
       "      <th>uniprot_id</th>\n",
       "      <th>opt</th>\n",
       "      <th>species</th>\n",
       "      <th>references</th>\n",
       "      <th>comments</th>\n",
       "    </tr>\n",
       "  </thead>\n",
       "  <tbody>\n",
       "    <tr>\n",
       "      <th>0</th>\n",
       "      <td>1.1.1.1</td>\n",
       "      <td>D4GSN2</td>\n",
       "      <td>11.0</td>\n",
       "      <td>Haloferax volcanii</td>\n",
       "      <td>7011375,3816781,2789998,22526808</td>\n",
       "      <td>#82# oxidation of ethanol, pyrazole-insensitiv...</td>\n",
       "    </tr>\n",
       "    <tr>\n",
       "      <th>1</th>\n",
       "      <td>1.1.1.1</td>\n",
       "      <td>D4GSN2</td>\n",
       "      <td>6.0</td>\n",
       "      <td>Haloferax volcanii</td>\n",
       "      <td>12834271,16000771,17072683,16390205,16243283,1...</td>\n",
       "      <td>#96,122# reduction of acetaldehyde &lt;144,255&gt;; ...</td>\n",
       "    </tr>\n",
       "  </tbody>\n",
       "</table>\n",
       "</div>"
      ],
      "text/plain": [
       "    ec_num uniprot_id   opt             species  \\\n",
       "0  1.1.1.1     D4GSN2  11.0  Haloferax volcanii   \n",
       "1  1.1.1.1     D4GSN2   6.0  Haloferax volcanii   \n",
       "\n",
       "                                          references  \\\n",
       "0                   7011375,3816781,2789998,22526808   \n",
       "1  12834271,16000771,17072683,16390205,16243283,1...   \n",
       "\n",
       "                                            comments  \n",
       "0  #82# oxidation of ethanol, pyrazole-insensitiv...  \n",
       "1  #96,122# reduction of acetaldehyde <144,255>; ...  "
      ]
     },
     "execution_count": 23,
     "metadata": {},
     "output_type": "execute_result"
    }
   ],
   "source": [
    "# load the pHopt values\n",
    "data_opt = pd.read_csv(\"inputs/brenda/ph_opt_data_no_assay_at_no_mutant.tsv\", sep='\\t')\n",
    "print(data_opt.uniprot_id.nunique(), len(data_opt))\n",
    "data_opt.head(2)"
   ]
  },
  {
   "cell_type": "code",
   "execution_count": 22,
   "id": "9472829e-cdec-49f9-8efb-a16e14892b57",
   "metadata": {},
   "outputs": [
    {
     "data": {
      "text/plain": [
       "P08659    9\n",
       "P13006    8\n",
       "Q9YBQ2    8\n",
       "P07102    7\n",
       "P00784    7\n",
       "         ..\n",
       "P19938    1\n",
       "Q9P9M8    1\n",
       "P24298    1\n",
       "Q8NT48    1\n",
       "Q0PCR9    1\n",
       "Name: uniprot_id, Length: 6777, dtype: int64"
      ]
     },
     "execution_count": 22,
     "metadata": {},
     "output_type": "execute_result"
    }
   ],
   "source": [
    "data_opt.uniprot_id.value_counts()"
   ]
  },
  {
   "cell_type": "code",
   "execution_count": 25,
   "id": "06910dba-f8f5-4e7e-bfbc-df8c666fb21c",
   "metadata": {},
   "outputs": [
    {
     "data": {
      "text/html": [
       "<div>\n",
       "<style scoped>\n",
       "    .dataframe tbody tr th:only-of-type {\n",
       "        vertical-align: middle;\n",
       "    }\n",
       "\n",
       "    .dataframe tbody tr th {\n",
       "        vertical-align: top;\n",
       "    }\n",
       "\n",
       "    .dataframe thead th {\n",
       "        text-align: right;\n",
       "    }\n",
       "</style>\n",
       "<table border=\"1\" class=\"dataframe\">\n",
       "  <thead>\n",
       "    <tr style=\"text-align: right;\">\n",
       "      <th></th>\n",
       "      <th>ec_num</th>\n",
       "      <th>uniprot_id</th>\n",
       "      <th>opt</th>\n",
       "      <th>species</th>\n",
       "      <th>references</th>\n",
       "      <th>comments</th>\n",
       "    </tr>\n",
       "  </thead>\n",
       "  <tbody>\n",
       "    <tr>\n",
       "      <th>726</th>\n",
       "      <td>1.1.3.4</td>\n",
       "      <td>P13006</td>\n",
       "      <td>5.8</td>\n",
       "      <td>Aspergillus niger</td>\n",
       "      <td>18584742</td>\n",
       "      <td>#13# immobilized and free form of the enzyme &lt;8&gt;</td>\n",
       "    </tr>\n",
       "    <tr>\n",
       "      <th>727</th>\n",
       "      <td>1.1.3.4</td>\n",
       "      <td>P13006</td>\n",
       "      <td>4.0</td>\n",
       "      <td>Aspergillus niger</td>\n",
       "      <td>NaN</td>\n",
       "      <td>None</td>\n",
       "    </tr>\n",
       "    <tr>\n",
       "      <th>728</th>\n",
       "      <td>1.1.3.4</td>\n",
       "      <td>P13006</td>\n",
       "      <td>5.0-7.0</td>\n",
       "      <td>Aspergillus niger</td>\n",
       "      <td>30197862</td>\n",
       "      <td>#29# recombinant enzyme &lt;160&gt;</td>\n",
       "    </tr>\n",
       "    <tr>\n",
       "      <th>729</th>\n",
       "      <td>1.1.3.4</td>\n",
       "      <td>P13006</td>\n",
       "      <td>6.86</td>\n",
       "      <td>Aspergillus niger</td>\n",
       "      <td>18421724</td>\n",
       "      <td>#29# glucose oxidase-immobilized polypyrrole/a...</td>\n",
       "    </tr>\n",
       "    <tr>\n",
       "      <th>730</th>\n",
       "      <td>1.1.3.4</td>\n",
       "      <td>P13006</td>\n",
       "      <td>5.5-6.0</td>\n",
       "      <td>Aspergillus niger</td>\n",
       "      <td>2342102,8354282,1932088</td>\n",
       "      <td>None</td>\n",
       "    </tr>\n",
       "    <tr>\n",
       "      <th>731</th>\n",
       "      <td>1.1.3.4</td>\n",
       "      <td>P13006</td>\n",
       "      <td>5.5</td>\n",
       "      <td>Aspergillus niger</td>\n",
       "      <td>3592653,16788719,23096254,23682574,33329498,28...</td>\n",
       "      <td>#3# free enzyme &lt;16&gt;; #29,44# recombinant enzy...</td>\n",
       "    </tr>\n",
       "    <tr>\n",
       "      <th>732</th>\n",
       "      <td>1.1.3.4</td>\n",
       "      <td>P13006</td>\n",
       "      <td>5.0</td>\n",
       "      <td>Aspergillus niger</td>\n",
       "      <td>19549540,25061935,23562736,27869125</td>\n",
       "      <td>#3# enzyme immobilized onto alumina &lt;14&gt;; #9# ...</td>\n",
       "    </tr>\n",
       "    <tr>\n",
       "      <th>733</th>\n",
       "      <td>1.1.3.4</td>\n",
       "      <td>P13006</td>\n",
       "      <td>6.0</td>\n",
       "      <td>Aspergillus niger</td>\n",
       "      <td>12182830,15932267,19784554,21040747,10749686,1...</td>\n",
       "      <td>#26# native and recombinant enzyme &lt;72&gt;; #37# ...</td>\n",
       "    </tr>\n",
       "    <tr>\n",
       "      <th>1151</th>\n",
       "      <td>1.13.12.7</td>\n",
       "      <td>P08659</td>\n",
       "      <td>8.0</td>\n",
       "      <td>Photinus pyralis</td>\n",
       "      <td>18465021,18251715,19661129,22155276,26049097,2...</td>\n",
       "      <td>#1# wild-type &lt;111&gt;; #17# wild-type enzyme &lt;125&gt;</td>\n",
       "    </tr>\n",
       "    <tr>\n",
       "      <th>1152</th>\n",
       "      <td>1.13.12.7</td>\n",
       "      <td>P08659</td>\n",
       "      <td>7.6</td>\n",
       "      <td>Photinus pyralis</td>\n",
       "      <td>7191217,19859663</td>\n",
       "      <td>#1# tricine buffer &lt;22&gt;; #17# yellow-green emi...</td>\n",
       "    </tr>\n",
       "    <tr>\n",
       "      <th>1153</th>\n",
       "      <td>1.13.12.7</td>\n",
       "      <td>P08659</td>\n",
       "      <td>7.8</td>\n",
       "      <td>Photinus pyralis</td>\n",
       "      <td>3821551,7304931,10529195,16551268,16732736,164...</td>\n",
       "      <td>#1# phosphate buffer &lt;14&gt;; #1# purified enzyme...</td>\n",
       "    </tr>\n",
       "    <tr>\n",
       "      <th>1154</th>\n",
       "      <td>1.13.12.7</td>\n",
       "      <td>P08659</td>\n",
       "      <td>8.1</td>\n",
       "      <td>Photinus pyralis</td>\n",
       "      <td>9228050</td>\n",
       "      <td>None</td>\n",
       "    </tr>\n",
       "    <tr>\n",
       "      <th>1155</th>\n",
       "      <td>1.13.12.7</td>\n",
       "      <td>P08659</td>\n",
       "      <td>7.5-7.8</td>\n",
       "      <td>Photinus pyralis</td>\n",
       "      <td>18949818</td>\n",
       "      <td>#17# yellow-green emitted light &lt;99&gt;</td>\n",
       "    </tr>\n",
       "    <tr>\n",
       "      <th>1156</th>\n",
       "      <td>1.13.12.7</td>\n",
       "      <td>P08659</td>\n",
       "      <td>9.0</td>\n",
       "      <td>Photinus pyralis</td>\n",
       "      <td>27658030</td>\n",
       "      <td>#17# recombinant circular enzyme &lt;125&gt;</td>\n",
       "    </tr>\n",
       "    <tr>\n",
       "      <th>1157</th>\n",
       "      <td>1.13.12.7</td>\n",
       "      <td>P08659</td>\n",
       "      <td>5.5</td>\n",
       "      <td>Photinus pyralis</td>\n",
       "      <td>19119851</td>\n",
       "      <td>#17# shift of emission spectra to red region &lt;94&gt;</td>\n",
       "    </tr>\n",
       "    <tr>\n",
       "      <th>1158</th>\n",
       "      <td>1.13.12.7</td>\n",
       "      <td>P08659</td>\n",
       "      <td>5.0-6.0</td>\n",
       "      <td>Photinus pyralis</td>\n",
       "      <td>18949818</td>\n",
       "      <td>#17# red emitted light &lt;99&gt;</td>\n",
       "    </tr>\n",
       "    <tr>\n",
       "      <th>1159</th>\n",
       "      <td>1.13.12.7</td>\n",
       "      <td>P08659</td>\n",
       "      <td>5.4</td>\n",
       "      <td>Photinus pyralis</td>\n",
       "      <td>19859663</td>\n",
       "      <td>#17# red emitted light &lt;96&gt;</td>\n",
       "    </tr>\n",
       "  </tbody>\n",
       "</table>\n",
       "</div>"
      ],
      "text/plain": [
       "         ec_num uniprot_id      opt            species  \\\n",
       "726     1.1.3.4     P13006      5.8  Aspergillus niger   \n",
       "727     1.1.3.4     P13006      4.0  Aspergillus niger   \n",
       "728     1.1.3.4     P13006  5.0-7.0  Aspergillus niger   \n",
       "729     1.1.3.4     P13006     6.86  Aspergillus niger   \n",
       "730     1.1.3.4     P13006  5.5-6.0  Aspergillus niger   \n",
       "731     1.1.3.4     P13006      5.5  Aspergillus niger   \n",
       "732     1.1.3.4     P13006      5.0  Aspergillus niger   \n",
       "733     1.1.3.4     P13006      6.0  Aspergillus niger   \n",
       "1151  1.13.12.7     P08659      8.0   Photinus pyralis   \n",
       "1152  1.13.12.7     P08659      7.6   Photinus pyralis   \n",
       "1153  1.13.12.7     P08659      7.8   Photinus pyralis   \n",
       "1154  1.13.12.7     P08659      8.1   Photinus pyralis   \n",
       "1155  1.13.12.7     P08659  7.5-7.8   Photinus pyralis   \n",
       "1156  1.13.12.7     P08659      9.0   Photinus pyralis   \n",
       "1157  1.13.12.7     P08659      5.5   Photinus pyralis   \n",
       "1158  1.13.12.7     P08659  5.0-6.0   Photinus pyralis   \n",
       "1159  1.13.12.7     P08659      5.4   Photinus pyralis   \n",
       "\n",
       "                                             references  \\\n",
       "726                                            18584742   \n",
       "727                                                 NaN   \n",
       "728                                            30197862   \n",
       "729                                            18421724   \n",
       "730                             2342102,8354282,1932088   \n",
       "731   3592653,16788719,23096254,23682574,33329498,28...   \n",
       "732                 19549540,25061935,23562736,27869125   \n",
       "733   12182830,15932267,19784554,21040747,10749686,1...   \n",
       "1151  18465021,18251715,19661129,22155276,26049097,2...   \n",
       "1152                                   7191217,19859663   \n",
       "1153  3821551,7304931,10529195,16551268,16732736,164...   \n",
       "1154                                            9228050   \n",
       "1155                                           18949818   \n",
       "1156                                           27658030   \n",
       "1157                                           19119851   \n",
       "1158                                           18949818   \n",
       "1159                                           19859663   \n",
       "\n",
       "                                               comments  \n",
       "726    #13# immobilized and free form of the enzyme <8>  \n",
       "727                                                None  \n",
       "728                       #29# recombinant enzyme <160>  \n",
       "729   #29# glucose oxidase-immobilized polypyrrole/a...  \n",
       "730                                                None  \n",
       "731   #3# free enzyme <16>; #29,44# recombinant enzy...  \n",
       "732   #3# enzyme immobilized onto alumina <14>; #9# ...  \n",
       "733   #26# native and recombinant enzyme <72>; #37# ...  \n",
       "1151   #1# wild-type <111>; #17# wild-type enzyme <125>  \n",
       "1152  #1# tricine buffer <22>; #17# yellow-green emi...  \n",
       "1153  #1# phosphate buffer <14>; #1# purified enzyme...  \n",
       "1154                                               None  \n",
       "1155               #17# yellow-green emitted light <99>  \n",
       "1156             #17# recombinant circular enzyme <125>  \n",
       "1157  #17# shift of emission spectra to red region <94>  \n",
       "1158                        #17# red emitted light <99>  \n",
       "1159                        #17# red emitted light <96>  "
      ]
     },
     "execution_count": 25,
     "metadata": {},
     "output_type": "execute_result"
    }
   ],
   "source": [
    "data_opt[data_opt.uniprot_id.isin(data_opt.uniprot_id.value_counts().head(2).index)]"
   ]
  },
  {
   "cell_type": "code",
   "execution_count": 26,
   "id": "59ba821b-802d-4170-85bf-0d103a080ece",
   "metadata": {},
   "outputs": [],
   "source": [
    "# for each uniprot ID, take the average pH as the optimum\n",
    "data_opt['opt_mean'] = data_opt.opt.apply(lambda x: np.mean([float(x.split('-')[0]), float(x.split('-')[1])])  if '-' in x else x)\n",
    "data_opt['opt_mean'] = data_opt['opt_mean'].astype(float)"
   ]
  },
  {
   "cell_type": "code",
   "execution_count": 27,
   "id": "ee435180-6f9c-4482-9687-c9e4cbaca74f",
   "metadata": {},
   "outputs": [
    {
     "data": {
      "text/html": [
       "<div>\n",
       "<style scoped>\n",
       "    .dataframe tbody tr th:only-of-type {\n",
       "        vertical-align: middle;\n",
       "    }\n",
       "\n",
       "    .dataframe tbody tr th {\n",
       "        vertical-align: top;\n",
       "    }\n",
       "\n",
       "    .dataframe thead th {\n",
       "        text-align: right;\n",
       "    }\n",
       "</style>\n",
       "<table border=\"1\" class=\"dataframe\">\n",
       "  <thead>\n",
       "    <tr style=\"text-align: right;\">\n",
       "      <th></th>\n",
       "      <th>opt_mean</th>\n",
       "    </tr>\n",
       "    <tr>\n",
       "      <th>uniprot_id</th>\n",
       "      <th></th>\n",
       "    </tr>\n",
       "  </thead>\n",
       "  <tbody>\n",
       "    <tr>\n",
       "      <th>A0A016VAH2</th>\n",
       "      <td>7.500000</td>\n",
       "    </tr>\n",
       "    <tr>\n",
       "      <th>A0A023I760</th>\n",
       "      <td>8.000000</td>\n",
       "    </tr>\n",
       "    <tr>\n",
       "      <th>A0A023J5W7</th>\n",
       "      <td>4.250000</td>\n",
       "    </tr>\n",
       "    <tr>\n",
       "      <th>A0A023MIF8</th>\n",
       "      <td>4.650000</td>\n",
       "    </tr>\n",
       "    <tr>\n",
       "      <th>A0A023UHK6</th>\n",
       "      <td>11.000000</td>\n",
       "    </tr>\n",
       "    <tr>\n",
       "      <th>...</th>\n",
       "      <td>...</td>\n",
       "    </tr>\n",
       "    <tr>\n",
       "      <th>X5DTB0</th>\n",
       "      <td>5.000000</td>\n",
       "    </tr>\n",
       "    <tr>\n",
       "      <th>X5I0R2</th>\n",
       "      <td>6.000000</td>\n",
       "    </tr>\n",
       "    <tr>\n",
       "      <th>X5IDD2</th>\n",
       "      <td>7.500000</td>\n",
       "    </tr>\n",
       "    <tr>\n",
       "      <th>X5JA14</th>\n",
       "      <td>4.500000</td>\n",
       "    </tr>\n",
       "    <tr>\n",
       "      <th>X5JAK9</th>\n",
       "      <td>4.833333</td>\n",
       "    </tr>\n",
       "  </tbody>\n",
       "</table>\n",
       "<p>6777 rows × 1 columns</p>\n",
       "</div>"
      ],
      "text/plain": [
       "             opt_mean\n",
       "uniprot_id           \n",
       "A0A016VAH2   7.500000\n",
       "A0A023I760   8.000000\n",
       "A0A023J5W7   4.250000\n",
       "A0A023MIF8   4.650000\n",
       "A0A023UHK6  11.000000\n",
       "...               ...\n",
       "X5DTB0       5.000000\n",
       "X5I0R2       6.000000\n",
       "X5IDD2       7.500000\n",
       "X5JA14       4.500000\n",
       "X5JAK9       4.833333\n",
       "\n",
       "[6777 rows x 1 columns]"
      ]
     },
     "execution_count": 27,
     "metadata": {},
     "output_type": "execute_result"
    }
   ],
   "source": [
    "data_opt_mean = data_opt[['uniprot_id', 'opt_mean']].groupby('uniprot_id').mean()\n",
    "data_opt_mean"
   ]
  },
  {
   "cell_type": "code",
   "execution_count": 39,
   "id": "a3eb86b1-e16e-45e1-a6ac-f34da51b3956",
   "metadata": {},
   "outputs": [
    {
     "name": "stdout",
     "output_type": "stream",
     "text": [
      "5729\n"
     ]
    },
    {
     "data": {
      "text/html": [
       "<div>\n",
       "<style scoped>\n",
       "    .dataframe tbody tr th:only-of-type {\n",
       "        vertical-align: middle;\n",
       "    }\n",
       "\n",
       "    .dataframe tbody tr th {\n",
       "        vertical-align: top;\n",
       "    }\n",
       "\n",
       "    .dataframe thead th {\n",
       "        text-align: right;\n",
       "    }\n",
       "</style>\n",
       "<table border=\"1\" class=\"dataframe\">\n",
       "  <thead>\n",
       "    <tr style=\"text-align: right;\">\n",
       "      <th></th>\n",
       "      <th>uniprot_id</th>\n",
       "      <th>ph</th>\n",
       "      <th>activity</th>\n",
       "    </tr>\n",
       "  </thead>\n",
       "  <tbody>\n",
       "    <tr>\n",
       "      <th>0</th>\n",
       "      <td>A0A016VAH2</td>\n",
       "      <td>7.5</td>\n",
       "      <td>1</td>\n",
       "    </tr>\n",
       "    <tr>\n",
       "      <th>1</th>\n",
       "      <td>A0A023I760</td>\n",
       "      <td>8.0</td>\n",
       "      <td>1</td>\n",
       "    </tr>\n",
       "  </tbody>\n",
       "</table>\n",
       "</div>"
      ],
      "text/plain": [
       "   uniprot_id   ph  activity\n",
       "0  A0A016VAH2  7.5         1\n",
       "1  A0A023I760  8.0         1"
      ]
     },
     "execution_count": 39,
     "metadata": {},
     "output_type": "execute_result"
    }
   ],
   "source": [
    "# we already matched the ph_opt data to the ph_range, so just keep the unique uniprot IDs here\n",
    "data_opt_mean_uniq = data_opt_mean[~data_opt_mean.index.isin(data_act.uniprot_id.unique())]\n",
    "data_opt_mean_uniq = data_opt_mean_uniq.reset_index()\n",
    "data_opt_mean_uniq = data_opt_mean_uniq.rename(columns={'opt_mean': 'ph'})\n",
    "data_opt_mean_uniq['activity'] = 1\n",
    "print(len(data_opt_mean_uniq))\n",
    "data_opt_mean_uniq.head(2)"
   ]
  },
  {
   "cell_type": "code",
   "execution_count": 44,
   "id": "86ef0b34-eb2c-48b7-9cee-a95b6ad48d78",
   "metadata": {},
   "outputs": [],
   "source": [
    "data_act_ecoli['note'] = 'ecoli_man'\n",
    "data_act_ecoli.rename(columns={'pH': 'ph'}, inplace=True)"
   ]
  },
  {
   "cell_type": "code",
   "execution_count": 45,
   "id": "2f1d90d1-8b43-44e8-a5ec-78eecdf56784",
   "metadata": {},
   "outputs": [
    {
     "data": {
      "text/html": [
       "<div>\n",
       "<style scoped>\n",
       "    .dataframe tbody tr th:only-of-type {\n",
       "        vertical-align: middle;\n",
       "    }\n",
       "\n",
       "    .dataframe tbody tr th {\n",
       "        vertical-align: top;\n",
       "    }\n",
       "\n",
       "    .dataframe thead th {\n",
       "        text-align: right;\n",
       "    }\n",
       "</style>\n",
       "<table border=\"1\" class=\"dataframe\">\n",
       "  <thead>\n",
       "    <tr style=\"text-align: right;\">\n",
       "      <th></th>\n",
       "      <th>exp_index</th>\n",
       "      <th>ph</th>\n",
       "      <th>activity</th>\n",
       "      <th>uniprot_id</th>\n",
       "      <th>note</th>\n",
       "    </tr>\n",
       "  </thead>\n",
       "  <tbody>\n",
       "    <tr>\n",
       "      <th>0</th>\n",
       "      <td>0</td>\n",
       "      <td>7.2</td>\n",
       "      <td>0.012428</td>\n",
       "      <td>P21515</td>\n",
       "      <td>ecoli_man</td>\n",
       "    </tr>\n",
       "    <tr>\n",
       "      <th>1</th>\n",
       "      <td>0</td>\n",
       "      <td>7.5</td>\n",
       "      <td>0.090313</td>\n",
       "      <td>P21515</td>\n",
       "      <td>ecoli_man</td>\n",
       "    </tr>\n",
       "  </tbody>\n",
       "</table>\n",
       "</div>"
      ],
      "text/plain": [
       "   exp_index   ph  activity uniprot_id       note\n",
       "0          0  7.2  0.012428     P21515  ecoli_man\n",
       "1          0  7.5  0.090313     P21515  ecoli_man"
      ]
     },
     "execution_count": 45,
     "metadata": {},
     "output_type": "execute_result"
    }
   ],
   "source": [
    "data_act_ecoli.head(2)"
   ]
  },
  {
   "cell_type": "code",
   "execution_count": 46,
   "id": "957e4940-c7a6-43db-a304-ba34fd2ff678",
   "metadata": {},
   "outputs": [
    {
     "name": "stdout",
     "output_type": "stream",
     "text": [
      "7999 15235\n"
     ]
    },
    {
     "data": {
      "text/html": [
       "<div>\n",
       "<style scoped>\n",
       "    .dataframe tbody tr th:only-of-type {\n",
       "        vertical-align: middle;\n",
       "    }\n",
       "\n",
       "    .dataframe tbody tr th {\n",
       "        vertical-align: top;\n",
       "    }\n",
       "\n",
       "    .dataframe thead th {\n",
       "        text-align: right;\n",
       "    }\n",
       "</style>\n",
       "<table border=\"1\" class=\"dataframe\">\n",
       "  <thead>\n",
       "    <tr style=\"text-align: right;\">\n",
       "      <th></th>\n",
       "      <th>exp_index</th>\n",
       "      <th>ph</th>\n",
       "      <th>activity</th>\n",
       "      <th>note</th>\n",
       "      <th>ph_range_comment</th>\n",
       "      <th>uniprot_id</th>\n",
       "    </tr>\n",
       "  </thead>\n",
       "  <tbody>\n",
       "    <tr>\n",
       "      <th>0</th>\n",
       "      <td>0.0</td>\n",
       "      <td>4.0</td>\n",
       "      <td>0.8</td>\n",
       "      <td>NaN</td>\n",
       "      <td>pH 4.0: about 80% of maximal activity, pH 7.5...</td>\n",
       "      <td>B2KJ46</td>\n",
       "    </tr>\n",
       "    <tr>\n",
       "      <th>1</th>\n",
       "      <td>0.0</td>\n",
       "      <td>4.5</td>\n",
       "      <td>1.0</td>\n",
       "      <td>NaN</td>\n",
       "      <td>NaN</td>\n",
       "      <td>B2KJ46</td>\n",
       "    </tr>\n",
       "  </tbody>\n",
       "</table>\n",
       "</div>"
      ],
      "text/plain": [
       "   exp_index   ph  activity note  \\\n",
       "0        0.0  4.0       0.8  NaN   \n",
       "1        0.0  4.5       1.0  NaN   \n",
       "\n",
       "                                    ph_range_comment uniprot_id  \n",
       "0   pH 4.0: about 80% of maximal activity, pH 7.5...     B2KJ46  \n",
       "1                                                NaN     B2KJ46  "
      ]
     },
     "execution_count": 46,
     "metadata": {},
     "output_type": "execute_result"
    }
   ],
   "source": [
    "data_act_merged = pd.concat([data_act, data_act_ecoli, data_opt_mean_uniq], ignore_index=True).reset_index(drop=True)\n",
    "print(data_act_merged.uniprot_id.nunique(), len(data_act_merged))\n",
    "data_act_merged.head(2)"
   ]
  },
  {
   "cell_type": "code",
   "execution_count": 47,
   "id": "0f839d37-6d0c-4679-86fd-2adc60f9fc82",
   "metadata": {},
   "outputs": [
    {
     "data": {
      "text/html": [
       "<div>\n",
       "<style scoped>\n",
       "    .dataframe tbody tr th:only-of-type {\n",
       "        vertical-align: middle;\n",
       "    }\n",
       "\n",
       "    .dataframe tbody tr th {\n",
       "        vertical-align: top;\n",
       "    }\n",
       "\n",
       "    .dataframe thead th {\n",
       "        text-align: right;\n",
       "    }\n",
       "</style>\n",
       "<table border=\"1\" class=\"dataframe\">\n",
       "  <thead>\n",
       "    <tr style=\"text-align: right;\">\n",
       "      <th></th>\n",
       "      <th>exp_index</th>\n",
       "      <th>ph</th>\n",
       "      <th>activity</th>\n",
       "      <th>note</th>\n",
       "      <th>ph_range_comment</th>\n",
       "      <th>uniprot_id</th>\n",
       "    </tr>\n",
       "  </thead>\n",
       "  <tbody>\n",
       "    <tr>\n",
       "      <th>15233</th>\n",
       "      <td>NaN</td>\n",
       "      <td>4.500000</td>\n",
       "      <td>1.0</td>\n",
       "      <td>NaN</td>\n",
       "      <td>NaN</td>\n",
       "      <td>X5JA14</td>\n",
       "    </tr>\n",
       "    <tr>\n",
       "      <th>15234</th>\n",
       "      <td>NaN</td>\n",
       "      <td>4.833333</td>\n",
       "      <td>1.0</td>\n",
       "      <td>NaN</td>\n",
       "      <td>NaN</td>\n",
       "      <td>X5JAK9</td>\n",
       "    </tr>\n",
       "  </tbody>\n",
       "</table>\n",
       "</div>"
      ],
      "text/plain": [
       "       exp_index        ph  activity note ph_range_comment uniprot_id\n",
       "15233        NaN  4.500000       1.0  NaN              NaN     X5JA14\n",
       "15234        NaN  4.833333       1.0  NaN              NaN     X5JAK9"
      ]
     },
     "execution_count": 47,
     "metadata": {},
     "output_type": "execute_result"
    }
   ],
   "source": [
    "data_act_merged.tail(2)"
   ]
  },
  {
   "cell_type": "code",
   "execution_count": null,
   "id": "2e25fb31-d2a7-4eff-9fe1-02528d9e2c6f",
   "metadata": {},
   "outputs": [],
   "source": [
    "# TODO add weights to the loss function\n",
    "# weights = \n",
    "# data_act_merged['weight'] = data_act_merged"
   ]
  },
  {
   "cell_type": "code",
   "execution_count": null,
   "id": "0cb086d4-d88c-4571-9867-5e26b9aa734c",
   "metadata": {},
   "outputs": [
    {
     "data": {
      "text/html": [
       "<div>\n",
       "<style scoped>\n",
       "    .dataframe tbody tr th:only-of-type {\n",
       "        vertical-align: middle;\n",
       "    }\n",
       "\n",
       "    .dataframe tbody tr th {\n",
       "        vertical-align: top;\n",
       "    }\n",
       "\n",
       "    .dataframe thead th {\n",
       "        text-align: right;\n",
       "    }\n",
       "</style>\n",
       "<table border=\"1\" class=\"dataframe\">\n",
       "  <thead>\n",
       "    <tr style=\"text-align: right;\">\n",
       "      <th></th>\n",
       "      <th>uniprot_id</th>\n",
       "      <th>Unnamed: 0</th>\n",
       "      <th>reviewed</th>\n",
       "      <th>gene names</th>\n",
       "      <th>length</th>\n",
       "      <th>protein names</th>\n",
       "      <th>organism</th>\n",
       "      <th>entry name</th>\n",
       "      <th>sequence</th>\n",
       "      <th>opt</th>\n",
       "    </tr>\n",
       "    <tr>\n",
       "      <th>from</th>\n",
       "      <th></th>\n",
       "      <th></th>\n",
       "      <th></th>\n",
       "      <th></th>\n",
       "      <th></th>\n",
       "      <th></th>\n",
       "      <th></th>\n",
       "      <th></th>\n",
       "      <th></th>\n",
       "      <th></th>\n",
       "    </tr>\n",
       "  </thead>\n",
       "  <tbody>\n",
       "    <tr>\n",
       "      <th>Q2PCE5</th>\n",
       "      <td>Q2PCE5</td>\n",
       "      <td>0</td>\n",
       "      <td>unreviewed</td>\n",
       "      <td>est</td>\n",
       "      <td>308</td>\n",
       "      <td>Carboxylesterase (EC 3.1.1.1)</td>\n",
       "      <td>Ferroplasma acidiphilum</td>\n",
       "      <td>Q2PCE5_9ARCH</td>\n",
       "      <td>MHLMNMVDPDFNSLIELSKSAGDMTKIEPAMLRNFLDESSLSSRGA...</td>\n",
       "      <td>1.5</td>\n",
       "    </tr>\n",
       "    <tr>\n",
       "      <th>C7SLY9</th>\n",
       "      <td>C7SLY9</td>\n",
       "      <td>1</td>\n",
       "      <td>unreviewed</td>\n",
       "      <td>BgalA</td>\n",
       "      <td>1002</td>\n",
       "      <td>Beta-galactosidase (EC 3.2.1.23)</td>\n",
       "      <td>Bispora sp. MEY-1</td>\n",
       "      <td>C7SLY9_9HELO</td>\n",
       "      <td>MLLSRSFAAGVVGCLTISSLAASIGPKVTNLKIREQDRLQDIVTWD...</td>\n",
       "      <td>1.5</td>\n",
       "    </tr>\n",
       "  </tbody>\n",
       "</table>\n",
       "</div>"
      ],
      "text/plain": [
       "       uniprot_id  Unnamed: 0    reviewed gene names  length  \\\n",
       "from                                                           \n",
       "Q2PCE5     Q2PCE5           0  unreviewed        est     308   \n",
       "C7SLY9     C7SLY9           1  unreviewed      BgalA    1002   \n",
       "\n",
       "                           protein names                 organism  \\\n",
       "from                                                                \n",
       "Q2PCE5     Carboxylesterase (EC 3.1.1.1)  Ferroplasma acidiphilum   \n",
       "C7SLY9  Beta-galactosidase (EC 3.2.1.23)        Bispora sp. MEY-1   \n",
       "\n",
       "          entry name                                           sequence  opt  \n",
       "from                                                                          \n",
       "Q2PCE5  Q2PCE5_9ARCH  MHLMNMVDPDFNSLIELSKSAGDMTKIEPAMLRNFLDESSLSSRGA...  1.5  \n",
       "C7SLY9  C7SLY9_9HELO  MLLSRSFAAGVVGCLTISSLAASIGPKVTNLKIREQDRLQDIVTWD...  1.5  "
      ]
     },
     "execution_count": 18,
     "metadata": {},
     "output_type": "execute_result"
    }
   ],
   "source": [
    "df_seq2 = df_seq.drop_duplicates(subset='from').set_index('from')\n",
    "df_seq2['opt'] = df_min.opt_mean\n",
    "# df_min['sequence'] = df_seq2.set_index('from').sequence\n",
    "df_seq = df_seq2\n",
    "df_seq.head(2)"
   ]
  },
  {
   "cell_type": "code",
   "execution_count": 21,
   "id": "d8a126d5-c087-4e99-8ace-036232919cf6",
   "metadata": {},
   "outputs": [
    {
     "name": "stdout",
     "output_type": "stream",
     "text": [
      "5997 667\n"
     ]
    }
   ],
   "source": [
    "# just to a random split for now\n",
    "from sklearn.model_selection import train_test_split\n",
    "train, test = train_test_split(df_seq, test_size=0.1)\n",
    "print(len(train), len(test))"
   ]
  },
  {
   "cell_type": "code",
   "execution_count": 24,
   "id": "016c7eb8-0311-461d-8ecf-b1fa3f656ffc",
   "metadata": {},
   "outputs": [
    {
     "data": {
      "text/plain": [
       "Index(['A0A0H3W535', 'A0A0H3BY05', 'Q2PCE5', 'P45723', 'P24228', 'Q57ZS7',\n",
       "       'Q6R3F4', 'Q9LEL5', 'A0A1X9Y2Y6', 'C7F8M0',\n",
       "       ...\n",
       "       'A0A193DXP2', 'Q9U4Y0', 'P80189', 'Q8J0Q0', 'Q9LLY2', 'A1XM14',\n",
       "       'Q92SA6', 'Q8TZM9', 'Q94C06', 'E0D7I2'],\n",
       "      dtype='object', name='from', length=5997)"
      ]
     },
     "execution_count": 24,
     "metadata": {},
     "output_type": "execute_result"
    }
   ],
   "source": [
    "train.index"
   ]
  },
  {
   "cell_type": "code",
   "execution_count": 26,
   "id": "974006f1-3ee4-411e-a232-bd47b0a03111",
   "metadata": {},
   "outputs": [
    {
     "data": {
      "text/plain": [
       "array([ True,  True, False, ...,  True,  True,  True])"
      ]
     },
     "execution_count": 26,
     "metadata": {},
     "output_type": "execute_result"
    }
   ],
   "source": [
    "df_seq.index.isin(list(train.index))"
   ]
  },
  {
   "cell_type": "code",
   "execution_count": 28,
   "id": "05b0acd2-7d2d-48b1-9f3c-fc5210802af7",
   "metadata": {},
   "outputs": [
    {
     "data": {
      "text/html": [
       "<div>\n",
       "<style scoped>\n",
       "    .dataframe tbody tr th:only-of-type {\n",
       "        vertical-align: middle;\n",
       "    }\n",
       "\n",
       "    .dataframe tbody tr th {\n",
       "        vertical-align: top;\n",
       "    }\n",
       "\n",
       "    .dataframe thead th {\n",
       "        text-align: right;\n",
       "    }\n",
       "</style>\n",
       "<table border=\"1\" class=\"dataframe\">\n",
       "  <thead>\n",
       "    <tr style=\"text-align: right;\">\n",
       "      <th></th>\n",
       "      <th>uniprot_id</th>\n",
       "      <th>reviewed</th>\n",
       "      <th>gene names</th>\n",
       "      <th>length</th>\n",
       "      <th>protein names</th>\n",
       "      <th>organism</th>\n",
       "      <th>entry name</th>\n",
       "      <th>sequence</th>\n",
       "      <th>opt</th>\n",
       "      <th>set</th>\n",
       "    </tr>\n",
       "    <tr>\n",
       "      <th>from</th>\n",
       "      <th></th>\n",
       "      <th></th>\n",
       "      <th></th>\n",
       "      <th></th>\n",
       "      <th></th>\n",
       "      <th></th>\n",
       "      <th></th>\n",
       "      <th></th>\n",
       "      <th></th>\n",
       "      <th></th>\n",
       "    </tr>\n",
       "  </thead>\n",
       "  <tbody>\n",
       "    <tr>\n",
       "      <th>Q2PCE5</th>\n",
       "      <td>Q2PCE5</td>\n",
       "      <td>unreviewed</td>\n",
       "      <td>est</td>\n",
       "      <td>308</td>\n",
       "      <td>Carboxylesterase (EC 3.1.1.1)</td>\n",
       "      <td>Ferroplasma acidiphilum</td>\n",
       "      <td>Q2PCE5_9ARCH</td>\n",
       "      <td>MHLMNMVDPDFNSLIELSKSAGDMTKIEPAMLRNFLDESSLSSRGA...</td>\n",
       "      <td>1.5</td>\n",
       "      <td>train</td>\n",
       "    </tr>\n",
       "    <tr>\n",
       "      <th>C7SLY9</th>\n",
       "      <td>C7SLY9</td>\n",
       "      <td>unreviewed</td>\n",
       "      <td>BgalA</td>\n",
       "      <td>1002</td>\n",
       "      <td>Beta-galactosidase (EC 3.2.1.23)</td>\n",
       "      <td>Bispora sp. MEY-1</td>\n",
       "      <td>C7SLY9_9HELO</td>\n",
       "      <td>MLLSRSFAAGVVGCLTISSLAASIGPKVTNLKIREQDRLQDIVTWD...</td>\n",
       "      <td>1.5</td>\n",
       "      <td>train</td>\n",
       "    </tr>\n",
       "  </tbody>\n",
       "</table>\n",
       "</div>"
      ],
      "text/plain": [
       "       uniprot_id    reviewed gene names  length  \\\n",
       "from                                               \n",
       "Q2PCE5     Q2PCE5  unreviewed        est     308   \n",
       "C7SLY9     C7SLY9  unreviewed      BgalA    1002   \n",
       "\n",
       "                           protein names                 organism  \\\n",
       "from                                                                \n",
       "Q2PCE5     Carboxylesterase (EC 3.1.1.1)  Ferroplasma acidiphilum   \n",
       "C7SLY9  Beta-galactosidase (EC 3.2.1.23)        Bispora sp. MEY-1   \n",
       "\n",
       "          entry name                                           sequence  opt  \\\n",
       "from                                                                           \n",
       "Q2PCE5  Q2PCE5_9ARCH  MHLMNMVDPDFNSLIELSKSAGDMTKIEPAMLRNFLDESSLSSRGA...  1.5   \n",
       "C7SLY9  C7SLY9_9HELO  MLLSRSFAAGVVGCLTISSLAASIGPKVTNLKIREQDRLQDIVTWD...  1.5   \n",
       "\n",
       "          set  \n",
       "from           \n",
       "Q2PCE5  train  \n",
       "C7SLY9  train  "
      ]
     },
     "execution_count": 28,
     "metadata": {},
     "output_type": "execute_result"
    }
   ],
   "source": [
    "df_seq.loc[df_seq.index.isin(list(train.index)), 'set'] = 'train'\n",
    "df_seq.loc[df_seq.index.isin(test.index), 'set'] = 'test'\n",
    "# df_seq.drop(columns=['Unnamed: 0'], inplace=True)\n",
    "df_seq.head(2)"
   ]
  },
  {
   "cell_type": "code",
   "execution_count": 32,
   "id": "eb650086-302e-40ec-a868-1bee29242e7c",
   "metadata": {},
   "outputs": [],
   "source": [
    "df_seq = df_seq.reset_index()"
   ]
  },
  {
   "cell_type": "code",
   "execution_count": 29,
   "id": "2053b45d-e30b-494d-bca0-7e527a84478c",
   "metadata": {},
   "outputs": [],
   "source": [
    "df_split = df_seq"
   ]
  },
  {
   "cell_type": "markdown",
   "id": "d01d4ac0-7707-4a31-bbe7-45db58041d94",
   "metadata": {},
   "source": [
    "### Baseline: logisitic regression on sequence embeddings to predict tm values"
   ]
  },
  {
   "cell_type": "code",
   "execution_count": 9,
   "id": "1e11f0a8-17df-4399-b072-500ebec5d8b2",
   "metadata": {},
   "outputs": [
    {
     "name": "stdout",
     "output_type": "stream",
     "text": [
      "27951\n"
     ]
    },
    {
     "data": {
      "text/html": [
       "<div>\n",
       "<style scoped>\n",
       "    .dataframe tbody tr th:only-of-type {\n",
       "        vertical-align: middle;\n",
       "    }\n",
       "\n",
       "    .dataframe tbody tr th {\n",
       "        vertical-align: top;\n",
       "    }\n",
       "\n",
       "    .dataframe thead th {\n",
       "        text-align: right;\n",
       "    }\n",
       "</style>\n",
       "<table border=\"1\" class=\"dataframe\">\n",
       "  <thead>\n",
       "    <tr style=\"text-align: right;\">\n",
       "      <th></th>\n",
       "      <th>sequence</th>\n",
       "      <th>target</th>\n",
       "      <th>set</th>\n",
       "      <th>validation</th>\n",
       "    </tr>\n",
       "  </thead>\n",
       "  <tbody>\n",
       "    <tr>\n",
       "      <th>0</th>\n",
       "      <td>MSGEEEKAADFYVRYYVGHKGKFGHEFLEFEFRPNGSLRYANNSNY...</td>\n",
       "      <td>37.962947</td>\n",
       "      <td>train</td>\n",
       "      <td>NaN</td>\n",
       "    </tr>\n",
       "    <tr>\n",
       "      <th>1</th>\n",
       "      <td>MSMGSDFYLRYYVGHKGKFGHEFLEFEFRPDGKLRYANNSNYKNDV...</td>\n",
       "      <td>54.425342</td>\n",
       "      <td>train</td>\n",
       "      <td>NaN</td>\n",
       "    </tr>\n",
       "  </tbody>\n",
       "</table>\n",
       "</div>"
      ],
      "text/plain": [
       "                                            sequence     target    set  \\\n",
       "0  MSGEEEKAADFYVRYYVGHKGKFGHEFLEFEFRPNGSLRYANNSNY...  37.962947  train   \n",
       "1  MSMGSDFYLRYYVGHKGKFGHEFLEFEFRPDGKLRYANNSNYKNDV...  54.425342  train   \n",
       "\n",
       "  validation  \n",
       "0        NaN  \n",
       "1        NaN  "
      ]
     },
     "execution_count": 9,
     "metadata": {},
     "output_type": "execute_result"
    }
   ],
   "source": [
    "# # try using the same train/test splits that flip used\n",
    "# df_split = pd.read_csv(Path(inputs_dir, \"meltome/flip/github/splits/mixed_split.csv\"))\n",
    "# print(len(df_split))\n",
    "# df_split.head(2)"
   ]
  },
  {
   "cell_type": "code",
   "execution_count": 30,
   "id": "366653e4-f663-4f9e-8fc7-6dd63b0d6883",
   "metadata": {},
   "outputs": [
    {
     "data": {
      "text/plain": [
       "train    5997\n",
       "test      667\n",
       "Name: set, dtype: int64"
      ]
     },
     "execution_count": 30,
     "metadata": {},
     "output_type": "execute_result"
    }
   ],
   "source": [
    "df_split.set.value_counts()"
   ]
  },
  {
   "cell_type": "code",
   "execution_count": 11,
   "id": "a4197289-a7dc-4d2d-9121-fa440dd56eb5",
   "metadata": {},
   "outputs": [
    {
     "name": "stdout",
     "output_type": "stream",
     "text": [
      "26082\n"
     ]
    }
   ],
   "source": [
    "# # df_split = df_split.set_index('sequence')\n",
    "# # df_split_w_embed = df_split.loc[df_seq[df_seq.sequence.isin(df_split.index)].sequence]\n",
    "# df_split_w_embed = df_split[df_split.sequence.isin(df_seq.sequence)]\n",
    "# print(len(df_split_w_embed))"
   ]
  },
  {
   "cell_type": "code",
   "execution_count": 34,
   "id": "82971edf-d446-453f-a3a6-f9a100d965d6",
   "metadata": {},
   "outputs": [
    {
     "name": "stdout",
     "output_type": "stream",
     "text": [
      "[('MHLMNMVDPDFNSLIELSKSAGDMTKIEPAMLRNFLDESSLSSRGAPVEIKEIKDYKIKLDGRTLNARMYDDNNAKSAILYYHGGGFLFGNIETYDNYCRFLAKESGVKIISIEYRLAPEHKFPDAFNDAYDSFHYIAKKKKDFGIEGRIGVAGDSAGANLAAALCLKCRDGKTEMPAVQVLFYPSLAPDNFSRSFIEYSDNYVLTGKMIRYFGNMYSKNMQDLINPYFSPLVADDFSNLPPAIMVTNEYDPLRDPEETYVKKLREAGVRAVGIRGIGMIHGSATDFEVSDGARNIVKMVARIIPDYL', 0), ('MLLSRSFAAGVVGCLTISSLAASIGPKVTNLKIREQDRLQDIVTWDNYTLLVRGERILFYSGEFHPFRLPVASLYLDVFQKIKALGYTGVSFYVDWALLEGTPGVYDDSGIFNLQPFFDAASEAGIYLVARPGPYINAEASGGGFPGWLQLVNGTLRALDAPYLDATSLYTAKVGEAIAKNQITEGGPIILLQPENEYIPPNNVLTQTDREYFAYVEKQFRDAGVVVPTIINDASGKGIFAPGSGLGAVDIYGFDQYPLGFDCANPYIWPAGDLQTDYREIHLDFSPTTPQAIPEFQGGSFDPWGGPGFNACAILLNEEFERVFYKNNFAAGLTIFNIYMTYGGTNWGNLGHPGGYTSYDYGAVIKEDRTVTREKYSEAKLEAVFVKTSLAYYTATPQNMSIAGQFVNTDEISVTQSVGEYGTNFYFIRHTNYSSLASTSYMLTVPTSRGNVTIPQLGGTLTLNGRDSKISVTDYKLGRINMLYSSSDIFTWQEFDGRTVVLLYGGAGETHELAFTGNLPPQPSCTGNPVVKDKDGYTIIHWSVTPERQMVDFGYLTIYLLWRNDAYNYWSIEMPAAAPLGNFTSLTKTSVIMKAGYLMRTASVSGDILYLTGDVNATTPLEIISGASFEGTKAIYFNGKPLSFERTSYGTFISTVEFSPPSISVPNLSKLDWKSIDSLPEIQPDYSDAAWPSCDKPYTNDTYRALTTPTSLYSSDYGFVTGTLLYRGHFIATGKETTFFIETEGGFAFGHSVWLNSTYIGSWTGIAADQTYNQTFTLPSLTAGKAYVFTIVIDTMGLSENYNIPDDAMKQPRGILDYQLAGRPQSAITWKMTGNLGGFNYADKARGPLNEGGLYAERQGFYLPNPPSYSWPSSSPMTGFNSSGVRFYTASFTLDLPHGYDIPLSFTFTNASTTPYRAQLYVNGYQFGKYVNNIGPQKAFPVPEGILNYHGTNWVALTLWAQDEGGAKVDGLALTVDLVALSGIETVVNSPMPGYSPRPGAY', 1)]\n"
     ]
    }
   ],
   "source": [
    "# seq_idx = {seq: idx for idx, seq in df_seq.sequence.items\n",
    "seq_idx = dict(zip(df_seq.sequence, df_seq.index))\n",
    "print(list(seq_idx.items())[:2])"
   ]
  },
  {
   "cell_type": "code",
   "execution_count": 37,
   "id": "00c26c6d-47e0-4d07-b3b0-38ebab0636f2",
   "metadata": {},
   "outputs": [
    {
     "name": "stdout",
     "output_type": "stream",
     "text": [
      "5997 0.90\n",
      "667 0.10\n"
     ]
    }
   ],
   "source": [
    "df_train = df_seq[df_seq.set == \"train\"]\n",
    "print(len(df_train), f\"{len(df_train) / len(df_seq):0.2f}\")\n",
    "\n",
    "# X_train = embeddings[df_seq[df_seq.sequence.isin(train_seq)].index]\n",
    "# y_train = df_seq[df_seq.sequence.isin(train_seq)].Tm\n",
    "# X_test = embeddings[df_seq[df_seq.sequence.isin(test)].index]\n",
    "# y_test = df_seq[df_seq.sequence.isin(test)].Tm\n",
    "# some of the sequences are repeated, so get their embeddings by index\n",
    "X_train = np.asarray([embeddings[seq_idx[seq]] for seq in df_train.sequence.values])\n",
    "y_train = df_train.opt\n",
    "\n",
    "df_test = df_seq[df_seq.set == \"test\"]\n",
    "print(len(df_test), f\"{len(df_test) / len(df_seq):0.2f}\")\n",
    "X_test = np.asarray([embeddings[seq_idx[seq]] for seq in df_test.sequence.values])\n",
    "y_test = df_test.opt"
   ]
  },
  {
   "cell_type": "code",
   "execution_count": 67,
   "id": "799de98b-5122-47c0-bae5-07dc3832aab7",
   "metadata": {},
   "outputs": [
    {
     "data": {
      "text/html": [
       "<style>#sk-container-id-3 {color: black;background-color: white;}#sk-container-id-3 pre{padding: 0;}#sk-container-id-3 div.sk-toggleable {background-color: white;}#sk-container-id-3 label.sk-toggleable__label {cursor: pointer;display: block;width: 100%;margin-bottom: 0;padding: 0.3em;box-sizing: border-box;text-align: center;}#sk-container-id-3 label.sk-toggleable__label-arrow:before {content: \"▸\";float: left;margin-right: 0.25em;color: #696969;}#sk-container-id-3 label.sk-toggleable__label-arrow:hover:before {color: black;}#sk-container-id-3 div.sk-estimator:hover label.sk-toggleable__label-arrow:before {color: black;}#sk-container-id-3 div.sk-toggleable__content {max-height: 0;max-width: 0;overflow: hidden;text-align: left;background-color: #f0f8ff;}#sk-container-id-3 div.sk-toggleable__content pre {margin: 0.2em;color: black;border-radius: 0.25em;background-color: #f0f8ff;}#sk-container-id-3 input.sk-toggleable__control:checked~div.sk-toggleable__content {max-height: 200px;max-width: 100%;overflow: auto;}#sk-container-id-3 input.sk-toggleable__control:checked~label.sk-toggleable__label-arrow:before {content: \"▾\";}#sk-container-id-3 div.sk-estimator input.sk-toggleable__control:checked~label.sk-toggleable__label {background-color: #d4ebff;}#sk-container-id-3 div.sk-label input.sk-toggleable__control:checked~label.sk-toggleable__label {background-color: #d4ebff;}#sk-container-id-3 input.sk-hidden--visually {border: 0;clip: rect(1px 1px 1px 1px);clip: rect(1px, 1px, 1px, 1px);height: 1px;margin: -1px;overflow: hidden;padding: 0;position: absolute;width: 1px;}#sk-container-id-3 div.sk-estimator {font-family: monospace;background-color: #f0f8ff;border: 1px dotted black;border-radius: 0.25em;box-sizing: border-box;margin-bottom: 0.5em;}#sk-container-id-3 div.sk-estimator:hover {background-color: #d4ebff;}#sk-container-id-3 div.sk-parallel-item::after {content: \"\";width: 100%;border-bottom: 1px solid gray;flex-grow: 1;}#sk-container-id-3 div.sk-label:hover label.sk-toggleable__label {background-color: #d4ebff;}#sk-container-id-3 div.sk-serial::before {content: \"\";position: absolute;border-left: 1px solid gray;box-sizing: border-box;top: 0;bottom: 0;left: 50%;z-index: 0;}#sk-container-id-3 div.sk-serial {display: flex;flex-direction: column;align-items: center;background-color: white;padding-right: 0.2em;padding-left: 0.2em;position: relative;}#sk-container-id-3 div.sk-item {position: relative;z-index: 1;}#sk-container-id-3 div.sk-parallel {display: flex;align-items: stretch;justify-content: center;background-color: white;position: relative;}#sk-container-id-3 div.sk-item::before, #sk-container-id-3 div.sk-parallel-item::before {content: \"\";position: absolute;border-left: 1px solid gray;box-sizing: border-box;top: 0;bottom: 0;left: 50%;z-index: -1;}#sk-container-id-3 div.sk-parallel-item {display: flex;flex-direction: column;z-index: 1;position: relative;background-color: white;}#sk-container-id-3 div.sk-parallel-item:first-child::after {align-self: flex-end;width: 50%;}#sk-container-id-3 div.sk-parallel-item:last-child::after {align-self: flex-start;width: 50%;}#sk-container-id-3 div.sk-parallel-item:only-child::after {width: 0;}#sk-container-id-3 div.sk-dashed-wrapped {border: 1px dashed gray;margin: 0 0.4em 0.5em 0.4em;box-sizing: border-box;padding-bottom: 0.4em;background-color: white;}#sk-container-id-3 div.sk-label label {font-family: monospace;font-weight: bold;display: inline-block;line-height: 1.2em;}#sk-container-id-3 div.sk-label-container {text-align: center;}#sk-container-id-3 div.sk-container {/* jupyter's `normalize.less` sets `[hidden] { display: none; }` but bootstrap.min.css set `[hidden] { display: none !important; }` so we also need the `!important` here to be able to override the default hidden behavior on the sphinx rendered scikit-learn.org. See: https://github.com/scikit-learn/scikit-learn/issues/21755 */display: inline-block !important;position: relative;}#sk-container-id-3 div.sk-text-repr-fallback {display: none;}</style><div id=\"sk-container-id-3\" class=\"sk-top-container\"><div class=\"sk-text-repr-fallback\"><pre>Ridge()</pre><b>In a Jupyter environment, please rerun this cell to show the HTML representation or trust the notebook. <br />On GitHub, the HTML representation is unable to render, please try loading this page with nbviewer.org.</b></div><div class=\"sk-container\" hidden><div class=\"sk-item\"><div class=\"sk-estimator sk-toggleable\"><input class=\"sk-toggleable__control sk-hidden--visually\" id=\"sk-estimator-id-3\" type=\"checkbox\" checked><label for=\"sk-estimator-id-3\" class=\"sk-toggleable__label sk-toggleable__label-arrow\">Ridge</label><div class=\"sk-toggleable__content\"><pre>Ridge()</pre></div></div></div></div></div>"
      ],
      "text/plain": [
       "Ridge()"
      ]
     },
     "execution_count": 67,
     "metadata": {},
     "output_type": "execute_result"
    }
   ],
   "source": [
    "ridge_reg = Ridge(alpha=1.0)\n",
    "# reg = KernelRidge(alpha=1.0, kernel=\"laplacian\")\n",
    "ridge_reg.fit(X_train, y_train)"
   ]
  },
  {
   "cell_type": "code",
   "execution_count": 68,
   "id": "afa6213d-bf69-4afd-b69f-dc2153c70127",
   "metadata": {},
   "outputs": [
    {
     "name": "stdout",
     "output_type": "stream",
     "text": [
      "mae = 0.7448051686532143, mse = 0.9779689572868628, rho = 0.6469456482070054\n"
     ]
    }
   ],
   "source": [
    "y_pred = ridge_reg.predict(X_test)\n",
    "\n",
    "rho, _ = spearmanr(y_pred, y_test)  # spearman\n",
    "mse = mean_squared_error(y_pred, y_test)  # Mean Squared Error\n",
    "mae = (y_pred - y_test).abs().mean()  # Mean Absolute Error\n",
    "print(f\"{mae = }, {mse = }, {rho = }\")"
   ]
  },
  {
   "cell_type": "code",
   "execution_count": 40,
   "id": "919342c0-89e0-4aa0-9510-d934f9825c59",
   "metadata": {},
   "outputs": [
    {
     "name": "stdout",
     "output_type": "stream",
     "text": [
      "alpha =0.0001, mae = 0.8, mse = 1.2, rho = 0.60\n",
      "alpha =0.001, mae = 0.8, mse = 1.2, rho = 0.60\n",
      "alpha =0.01, mae = 0.8, mse = 1.2, rho = 0.60\n",
      "alpha =0.1, mae = 0.8, mse = 1.1, rho = 0.63\n",
      "alpha =1.0, mae = 0.7, mse = 1.0, rho = 0.65\n",
      "alpha =10.0, mae = 0.8, mse = 1.0, rho = 0.63\n",
      "alpha =100.0, mae = 0.8, mse = 1.2, rho = 0.55\n"
     ]
    }
   ],
   "source": [
    "alphas = [10**x for x in np.arange(-4,3).astype(float)]\n",
    "for alpha in alphas:\n",
    "    ridge_reg = Ridge(alpha=alpha)\n",
    "    ridge_reg.fit(X_train, y_train)\n",
    "    y_pred = ridge_reg.predict(X_test)\n",
    "\n",
    "    rho, _ = spearmanr(y_pred, y_test)  # spearman\n",
    "    mse = mean_squared_error(y_pred, y_test)  # Mean Squared Error\n",
    "    mae = (y_pred - y_test).abs().mean()  # Mean Absolute Error\n",
    "    print(f\"{alpha =}, {mae = :0.1f}, {mse = :0.1f}, {rho = :0.2f}\")"
   ]
  },
  {
   "cell_type": "code",
   "execution_count": 70,
   "id": "f558fb1f-66ec-4451-be7f-23a26c726795",
   "metadata": {},
   "outputs": [
    {
     "data": {
      "image/png": "[encoded data removed]",
      "text/plain": [
       "<Figure size 640x480 with 1 Axes>"
      ]
     },
     "metadata": {},
     "output_type": "display_data"
    }
   ],
   "source": [
    "df = pd.DataFrame({'y_test': y_test, 'y_pred': y_pred})\n",
    "ax = df.plot.scatter(x='y_test', y='y_pred', alpha=0.3, lw=0, s=10)\n",
    "# sns.scatter(data=df, x='y_test', y='y_pred', alpha=0.6)\n",
    "\n",
    "ax.plot([2,11], [2,11], '--', alpha=0.6)\n",
    "ax.set_xlabel(\"Brenda pH opt\")\n",
    "ax.set_ylabel(\"Predicted pH opt\")\n",
    "ax.set_title(f\"Ridge Regression n={len(df_seq)}\")\n",
    "ax.text(x=1.5, y=10.75, s=\"mae = 0.75, mse = 1.0, rho = 0.65\")\n",
    "plt.show()"
   ]
  },
  {
   "cell_type": "code",
   "execution_count": 47,
   "id": "e426eec5-5198-403e-94fe-5e2283935f2d",
   "metadata": {},
   "outputs": [
    {
     "data": {
      "text/plain": [
       "<AxesSubplot: >"
      ]
     },
     "execution_count": 47,
     "metadata": {},
     "output_type": "execute_result"
    },
    {
     "data": {
      "image/png": "[encoded data removed]",
      "text/plain": [
       "<Figure size 640x480 with 1 Axes>"
      ]
     },
     "metadata": {},
     "output_type": "display_data"
    }
   ],
   "source": [
    "df_train.opt.hist(bins=30)"
   ]
  },
  {
   "cell_type": "code",
   "execution_count": 74,
   "id": "7f9ca53b-fa58-4bba-93d6-23f960626467",
   "metadata": {},
   "outputs": [],
   "source": [
    "import seaborn as sns\n",
    "sns.set_context(\"talk\")"
   ]
  },
  {
   "cell_type": "code",
   "execution_count": 75,
   "id": "d980b868-bda9-46d9-8ad9-4564295ecebf",
   "metadata": {},
   "outputs": [
    {
     "data": {
      "text/plain": [
       "Text(0.5, 0, 'pH Opt')"
      ]
     },
     "execution_count": 75,
     "metadata": {},
     "output_type": "execute_result"
    },
    {
     "data": {
      "image/png": "[encoded data removed]",
      "text/plain": [
       "<Figure size 640x480 with 1 Axes>"
      ]
     },
     "metadata": {},
     "output_type": "display_data"
    }
   ],
   "source": [
    "ax = df_seq.opt.hist(bins=30)\n",
    "ax.set_xlabel(\"pH Opt\")"
   ]
  },
  {
   "cell_type": "markdown",
   "id": "d255950d-636e-42f5-b586-3b63f9f1b3ee",
   "metadata": {},
   "source": [
    "- Ridge regerssion: spearman r: 0.6\n",
    "- Kernel ridge regression (laplacian): spearman r: 0.625\n",
    "- NN: mae = 4.7, mse = 38.4, rho = 0.67"
   ]
  },
  {
   "cell_type": "markdown",
   "id": "49a3943b-1361-4e60-8b04-34ca084a5af9",
   "metadata": {},
   "source": [
    "### Build neural net on sequence embeddings"
   ]
  },
  {
   "cell_type": "code",
   "execution_count": 48,
   "id": "3ad9e381-3efe-4f75-8449-181e79c7ca1e",
   "metadata": {},
   "outputs": [],
   "source": [
    "import torch\n",
    "from torch import nn\n",
    "import pytorch_lightning as pl\n",
    "import torchmetrics"
   ]
  },
  {
   "cell_type": "code",
   "execution_count": 49,
   "id": "bbfb2ed6-cce3-4375-8935-ba8c196d9ed8",
   "metadata": {},
   "outputs": [],
   "source": [
    "class NeuralNetwork(pl.LightningModule):\n",
    "    def __init__(self, initial_layer_size=1280):\n",
    "        super(NeuralNetwork, self).__init__()\n",
    "        self.linear_relu_stack = nn.Sequential(\n",
    "            nn.Linear(initial_layer_size, 512),\n",
    "            nn.ReLU(),            \n",
    "            nn.Linear(512, 512),\n",
    "            nn.ReLU(),\n",
    "            nn.Linear(512, 1),\n",
    "        )\n",
    "\n",
    "    def forward(self, x):\n",
    "        logits = self.linear_relu_stack(x)\n",
    "        return logits    \n",
    "\n",
    "    def training_step(self, batch, batch_idx):\n",
    "        x, y = batch\n",
    "        y_pred = self(x).squeeze(1)\n",
    "        loss = nn.functional.mse_loss(y_pred, y)\n",
    "        self.log('train_loss', loss)\n",
    "        return loss\n",
    "    \n",
    "    def validation_step(self, batch, batch_idx):\n",
    "        x, y = batch\n",
    "        y_pred = self(x).squeeze(1)\n",
    "        loss = nn.functional.mse_loss(y_pred, y)        \n",
    "        self.log(\"val_loss\", loss)\n",
    "        \n",
    "    def configure_optimizers(self):\n",
    "        optimizer = torch.optim.Adam(self.parameters(), lr=1e-3)\n",
    "        return optimizer"
   ]
  },
  {
   "cell_type": "code",
   "execution_count": 50,
   "id": "f1ae9480-7fa5-4a6e-97ae-d1bcd9d5bdac",
   "metadata": {},
   "outputs": [],
   "source": [
    "def fit_model(X_train, y_train, X_valid):\n",
    "    pl.seed_everything(42)\n",
    "    model = NeuralNetwork(initial_layer_size=X_train.shape[1])\n",
    "    \n",
    "    trainer = pl.Trainer(\n",
    "        # gpus=-1,\n",
    "        # devices=0,\n",
    "        accelerator=\"gpu\",\n",
    "        max_epochs=20,\n",
    "        check_val_every_n_epoch=5)\n",
    "    \n",
    "    train_dataset = torch.utils.data.TensorDataset(torch.Tensor(X_train).to(device), torch.Tensor(y_train).to(device))\n",
    "    # valid_dataset = torch.utils.data.TensorDataset(torch.Tensor(X_valid), torch.Tensor(y_valid))\n",
    "\n",
    "    train_loader = torch.utils.data.DataLoader(train_dataset, batch_size=32, shuffle=True)\n",
    "    # valid_loader = torch.utils.data.DataLoader(valid_dataset, batch_size=16, shuffle=False)\n",
    "\n",
    "    trainer.fit(model, train_loader)\n",
    "    \n",
    "    return model"
   ]
  },
  {
   "cell_type": "code",
   "execution_count": 51,
   "id": "90bb674b-deff-4987-9a04-ce918c4c6fad",
   "metadata": {},
   "outputs": [
    {
     "data": {
      "text/plain": [
       "'cuda:0'"
      ]
     },
     "execution_count": 51,
     "metadata": {},
     "output_type": "execute_result"
    }
   ],
   "source": [
    "device = 'cuda:0' if torch.cuda.is_available() else 'cpu'\n",
    "device"
   ]
  },
  {
   "cell_type": "code",
   "execution_count": 52,
   "id": "2449ca64-22ac-4285-a184-573fc61dc8ce",
   "metadata": {},
   "outputs": [
    {
     "name": "stderr",
     "output_type": "stream",
     "text": [
      "Global seed set to 42\n",
      "/home/jlaw/.conda/envs/tm/lib/python3.10/site-packages/lightning_fabric/plugins/environments/slurm.py:166: PossibleUserWarning: The `srun` command is available on your system but is not used. HINT: If your intention is to run Lightning on SLURM, prepend your python command with `srun` like so: srun python /home/jlaw/.conda/envs/tm/lib/python3.10/site-packag ...\n",
      "  rank_zero_warn(\n",
      "GPU available: True (cuda), used: True\n",
      "TPU available: False, using: 0 TPU cores\n",
      "IPU available: False, using: 0 IPUs\n",
      "HPU available: False, using: 0 HPUs\n",
      "/home/jlaw/.conda/envs/tm/lib/python3.10/site-packages/pytorch_lightning/trainer/connectors/logger_connector/logger_connector.py:67: UserWarning: Starting from v1.9.0, `tensorboardX` has been removed as a dependency of the `pytorch_lightning` package, due to potential conflicts with other packages in the ML ecosystem. For this reason, `logger=True` will use `CSVLogger` as the default logger, unless the `tensorboard` or `tensorboardX` packages are found. Please `pip install lightning[extra]` or one of them to enable TensorBoard support by default\n",
      "  warning_cache.warn(\n",
      "/home/jlaw/.conda/envs/tm/lib/python3.10/site-packages/pytorch_lightning/trainer/configuration_validator.py:108: PossibleUserWarning: You defined a `validation_step` but have no `val_dataloader`. Skipping val loop.\n",
      "  rank_zero_warn(\n",
      "LOCAL_RANK: 0 - CUDA_VISIBLE_DEVICES: [0]\n",
      "\n",
      "  | Name              | Type       | Params\n",
      "-------------------------------------------------\n",
      "0 | linear_relu_stack | Sequential | 919 K \n",
      "-------------------------------------------------\n",
      "919 K     Trainable params\n",
      "0         Non-trainable params\n",
      "919 K     Total params\n",
      "3.676     Total estimated model params size (MB)\n",
      "/home/jlaw/.conda/envs/tm/lib/python3.10/site-packages/pytorch_lightning/trainer/connectors/data_connector.py:224: PossibleUserWarning: The dataloader, train_dataloader, does not have many workers which may be a bottleneck. Consider increasing the value of the `num_workers` argument` (try 36 which is the number of cpus on this machine) in the `DataLoader` init to improve performance.\n",
      "  rank_zero_warn(\n"
     ]
    },
    {
     "data": {
      "application/vnd.jupyter.widget-view+json": {
       "model_id": "92efec46978f427b99ab5db3d700c6b9",
       "version_major": 2,
       "version_minor": 0
      },
      "text/plain": [
       "Training: 0it [00:00, ?it/s]"
      ]
     },
     "metadata": {},
     "output_type": "display_data"
    },
    {
     "name": "stderr",
     "output_type": "stream",
     "text": [
      "IOPub message rate exceeded.\n",
      "The Jupyter server will temporarily stop sending output\n",
      "to the client in order to avoid crashing it.\n",
      "To change this limit, set the config variable\n",
      "`--ServerApp.iopub_msg_rate_limit`.\n",
      "\n",
      "Current values:\n",
      "ServerApp.iopub_msg_rate_limit=1000.0 (msgs/sec)\n",
      "ServerApp.rate_limit_window=3.0 (secs)\n",
      "\n",
      "IOPub message rate exceeded.\n",
      "The Jupyter server will temporarily stop sending output\n",
      "to the client in order to avoid crashing it.\n",
      "To change this limit, set the config variable\n",
      "`--ServerApp.iopub_msg_rate_limit`.\n",
      "\n",
      "Current values:\n",
      "ServerApp.iopub_msg_rate_limit=1000.0 (msgs/sec)\n",
      "ServerApp.rate_limit_window=3.0 (secs)\n",
      "\n",
      "IOPub message rate exceeded.\n",
      "The Jupyter server will temporarily stop sending output\n",
      "to the client in order to avoid crashing it.\n",
      "To change this limit, set the config variable\n",
      "`--ServerApp.iopub_msg_rate_limit`.\n",
      "\n",
      "Current values:\n",
      "ServerApp.iopub_msg_rate_limit=1000.0 (msgs/sec)\n",
      "ServerApp.rate_limit_window=3.0 (secs)\n",
      "\n",
      "`Trainer.fit` stopped: `max_epochs=20` reached.\n"
     ]
    }
   ],
   "source": [
    "head_model = fit_model(X_train, y_train, X_test)"
   ]
  },
  {
   "cell_type": "code",
   "execution_count": 54,
   "id": "ac89a77c-94a0-4130-98cd-fc97bdec5677",
   "metadata": {},
   "outputs": [
    {
     "name": "stdout",
     "output_type": "stream",
     "text": [
      "mae = 0.8, mse = 1.2, rho = 0.62\n"
     ]
    }
   ],
   "source": [
    "# y_pred = fit_predict(X_train, y_train, X_test).flatten()\n",
    "# y_pred = model(torch.Tensor(X_test).to('cuda')[2].unsqueeze(1).detach().cpu()\n",
    "y_pred = head_model(torch.Tensor(X_test)).detach().squeeze().numpy()\n",
    "\n",
    "rho, _ = spearmanr(y_pred, y_test)  # spearman\n",
    "mse = mean_squared_error(y_pred, y_test)  # Mean Squared Error\n",
    "mae = (y_pred - y_test).abs().mean()  # Mean Absolute Error\n",
    "print(f\"{mae = :0.1f}, {mse = :0.1f}, {rho = :0.2f}\")"
   ]
  },
  {
   "cell_type": "code",
   "execution_count": 55,
   "id": "5330975e-31e5-49bb-8fb5-e55f2ffa982e",
   "metadata": {},
   "outputs": [
    {
     "data": {
      "image/png": "[encoded data removed]",
      "text/plain": [
       "<Figure size 640x480 with 1 Axes>"
      ]
     },
     "metadata": {},
     "output_type": "display_data"
    }
   ],
   "source": [
    "df = pd.DataFrame({'y_test': y_test, 'y_pred': y_pred})\n",
    "ax = df.plot.scatter(x='y_test', y='y_pred', alpha=0.3, lw=0, s=10)\n",
    "# sns.scatter(data=df, x='y_test', y='y_pred', alpha=0.6)\n",
    "\n",
    "ax.plot([2,11], [2,11], '--', alpha=0.6)\n",
    "plt.show()"
   ]
  },
  {
   "cell_type": "code",
   "execution_count": 56,
   "id": "2335c16a-8987-4cd0-beaa-a335d32190be",
   "metadata": {},
   "outputs": [
    {
     "data": {
      "text/plain": [
       "NeuralNetwork(\n",
       "  (linear_relu_stack): Sequential(\n",
       "    (0): Linear(in_features=1280, out_features=512, bias=True)\n",
       "    (1): ReLU()\n",
       "    (2): Linear(in_features=512, out_features=512, bias=True)\n",
       "    (3): ReLU()\n",
       "    (4): Linear(in_features=512, out_features=1, bias=True)\n",
       "  )\n",
       ")"
      ]
     },
     "execution_count": 56,
     "metadata": {},
     "output_type": "execute_result"
    }
   ],
   "source": [
    "head_model"
   ]
  },
  {
   "cell_type": "code",
   "execution_count": 174,
   "id": "f67676b7-e3d5-44e0-9c32-75372702afe4",
   "metadata": {},
   "outputs": [
    {
     "name": "stdout",
     "output_type": "stream",
     "text": [
      "/projects/robustmicrob/jlaw/inputs/meltome/embeddings/20230127_meltome_esm2_t33_650M_UR50D.pt\n"
     ]
    },
    {
     "ename": "ReferenceError",
     "evalue": "weakly-referenced object no longer exists",
     "output_type": "error",
     "traceback": [
      "\u001b[0;31m---------------------------------------------------------------------------\u001b[0m",
      "\u001b[0;31mReferenceError\u001b[0m                            Traceback (most recent call last)",
      "Input \u001b[0;32mIn [174]\u001b[0m, in \u001b[0;36m<cell line: 1>\u001b[0;34m()\u001b[0m\n\u001b[1;32m      2\u001b[0m out_file \u001b[38;5;241m=\u001b[39m Path(inputs_dir, \u001b[38;5;124mf\u001b[39m\u001b[38;5;124m\"\u001b[39m\u001b[38;5;124mmeltome/embeddings/20230127_meltome_\u001b[39m\u001b[38;5;132;01m{\u001b[39;00mmodel_name\u001b[38;5;132;01m}\u001b[39;00m\u001b[38;5;124m.pt\u001b[39m\u001b[38;5;124m\"\u001b[39m)\n\u001b[1;32m      3\u001b[0m \u001b[38;5;28mprint\u001b[39m(out_file)\n\u001b[0;32m----> 4\u001b[0m \u001b[43mtorch\u001b[49m\u001b[38;5;241;43m.\u001b[39;49m\u001b[43msave\u001b[49m\u001b[43m(\u001b[49m\u001b[43mhead_model\u001b[49m\u001b[43m,\u001b[49m\u001b[43m \u001b[49m\u001b[43mout_file\u001b[49m\u001b[43m)\u001b[49m\n",
      "File \u001b[0;32m~/.conda/envs/tm/lib/python3.10/site-packages/torch/serialization.py:423\u001b[0m, in \u001b[0;36msave\u001b[0;34m(obj, f, pickle_module, pickle_protocol, _use_new_zipfile_serialization)\u001b[0m\n\u001b[1;32m    421\u001b[0m \u001b[38;5;28;01mif\u001b[39;00m _use_new_zipfile_serialization:\n\u001b[1;32m    422\u001b[0m     \u001b[38;5;28;01mwith\u001b[39;00m _open_zipfile_writer(f) \u001b[38;5;28;01mas\u001b[39;00m opened_zipfile:\n\u001b[0;32m--> 423\u001b[0m         \u001b[43m_save\u001b[49m\u001b[43m(\u001b[49m\u001b[43mobj\u001b[49m\u001b[43m,\u001b[49m\u001b[43m \u001b[49m\u001b[43mopened_zipfile\u001b[49m\u001b[43m,\u001b[49m\u001b[43m \u001b[49m\u001b[43mpickle_module\u001b[49m\u001b[43m,\u001b[49m\u001b[43m \u001b[49m\u001b[43mpickle_protocol\u001b[49m\u001b[43m)\u001b[49m\n\u001b[1;32m    424\u001b[0m         \u001b[38;5;28;01mreturn\u001b[39;00m\n\u001b[1;32m    425\u001b[0m \u001b[38;5;28;01melse\u001b[39;00m:\n",
      "File \u001b[0;32m~/.conda/envs/tm/lib/python3.10/site-packages/torch/serialization.py:635\u001b[0m, in \u001b[0;36m_save\u001b[0;34m(obj, zip_file, pickle_module, pickle_protocol)\u001b[0m\n\u001b[1;32m    633\u001b[0m pickler \u001b[38;5;241m=\u001b[39m pickle_module\u001b[38;5;241m.\u001b[39mPickler(data_buf, protocol\u001b[38;5;241m=\u001b[39mpickle_protocol)\n\u001b[1;32m    634\u001b[0m pickler\u001b[38;5;241m.\u001b[39mpersistent_id \u001b[38;5;241m=\u001b[39m persistent_id\n\u001b[0;32m--> 635\u001b[0m \u001b[43mpickler\u001b[49m\u001b[38;5;241;43m.\u001b[39;49m\u001b[43mdump\u001b[49m\u001b[43m(\u001b[49m\u001b[43mobj\u001b[49m\u001b[43m)\u001b[49m\n\u001b[1;32m    636\u001b[0m data_value \u001b[38;5;241m=\u001b[39m data_buf\u001b[38;5;241m.\u001b[39mgetvalue()\n\u001b[1;32m    637\u001b[0m zip_file\u001b[38;5;241m.\u001b[39mwrite_record(\u001b[38;5;124m'\u001b[39m\u001b[38;5;124mdata.pkl\u001b[39m\u001b[38;5;124m'\u001b[39m, data_value, \u001b[38;5;28mlen\u001b[39m(data_value))\n",
      "File \u001b[0;32m~/.conda/envs/tm/lib/python3.10/site-packages/torch/serialization.py:590\u001b[0m, in \u001b[0;36m_save.<locals>.persistent_id\u001b[0;34m(obj)\u001b[0m\n\u001b[1;32m    584\u001b[0m \u001b[38;5;28;01mdef\u001b[39;00m \u001b[38;5;21mpersistent_id\u001b[39m(obj):\n\u001b[1;32m    585\u001b[0m     \u001b[38;5;66;03m# FIXME: the docs say that persistent_id should only return a string\u001b[39;00m\n\u001b[1;32m    586\u001b[0m     \u001b[38;5;66;03m# but torch store returns tuples. This works only in the binary protocol\u001b[39;00m\n\u001b[1;32m    587\u001b[0m     \u001b[38;5;66;03m# see\u001b[39;00m\n\u001b[1;32m    588\u001b[0m     \u001b[38;5;66;03m# https://docs.python.org/2/library/pickle.html#pickling-and-unpickling-external-objects\u001b[39;00m\n\u001b[1;32m    589\u001b[0m     \u001b[38;5;66;03m# https://github.com/python/cpython/blob/master/Lib/pickle.py#L527-L537\u001b[39;00m\n\u001b[0;32m--> 590\u001b[0m     \u001b[38;5;28;01mif\u001b[39;00m \u001b[38;5;28;43misinstance\u001b[39;49m\u001b[43m(\u001b[49m\u001b[43mobj\u001b[49m\u001b[43m,\u001b[49m\u001b[43m \u001b[49m\u001b[43mtorch\u001b[49m\u001b[38;5;241;43m.\u001b[39;49m\u001b[43mstorage\u001b[49m\u001b[38;5;241;43m.\u001b[39;49m\u001b[43mTypedStorage\u001b[49m\u001b[43m)\u001b[49m \u001b[38;5;129;01mor\u001b[39;00m torch\u001b[38;5;241m.\u001b[39mis_storage(obj):\n\u001b[1;32m    592\u001b[0m         \u001b[38;5;28;01mif\u001b[39;00m \u001b[38;5;28misinstance\u001b[39m(obj, torch\u001b[38;5;241m.\u001b[39mstorage\u001b[38;5;241m.\u001b[39mTypedStorage):\n\u001b[1;32m    593\u001b[0m             \u001b[38;5;66;03m# TODO: Once we decide to break serialization FC, this case\u001b[39;00m\n\u001b[1;32m    594\u001b[0m             \u001b[38;5;66;03m# can be deleted\u001b[39;00m\n\u001b[1;32m    595\u001b[0m             storage \u001b[38;5;241m=\u001b[39m obj\u001b[38;5;241m.\u001b[39m_storage\n",
      "\u001b[0;31mReferenceError\u001b[0m: weakly-referenced object no longer exists"
     ]
    }
   ],
   "source": [
    "# if __name__ == \"__main__\":\n",
    "    out_file = Path(inputs_dir, f\"meltome/embeddings/20230127_meltome_{model_name}.pt\")\n",
    "    print(out_file)\n",
    "    torch.save(head_model, out_file)"
   ]
  },
  {
   "cell_type": "code",
   "execution_count": null,
   "id": "f1b82855-1105-44b8-8269-24affbb14d47",
   "metadata": {},
   "outputs": [],
   "source": []
  },
  {
   "cell_type": "markdown",
   "id": "22522a60-369e-4cc1-8249-7a79b475a295",
   "metadata": {},
   "source": [
    "### Also try predicting for specific sequences"
   ]
  },
  {
   "cell_type": "code",
   "execution_count": 25,
   "id": "f88bfa08-2ace-4efb-9659-2d09f7bab1ee",
   "metadata": {},
   "outputs": [
    {
     "data": {
      "text/plain": [
       "NeuralNetwork(\n",
       "  (linear_relu_stack): Sequential(\n",
       "    (0): Linear(in_features=1280, out_features=512, bias=True)\n",
       "    (1): ReLU()\n",
       "    (2): Linear(in_features=512, out_features=512, bias=True)\n",
       "    (3): ReLU()\n",
       "    (4): Linear(in_features=512, out_features=1, bias=True)\n",
       "  )\n",
       ")"
      ]
     },
     "execution_count": 25,
     "metadata": {},
     "output_type": "execute_result"
    }
   ],
   "source": [
    "model"
   ]
  },
  {
   "cell_type": "code",
   "execution_count": 29,
   "id": "6444c40d-a851-4f57-b352-abc39bb21deb",
   "metadata": {},
   "outputs": [],
   "source": [
    "head_model = model"
   ]
  },
  {
   "cell_type": "code",
   "execution_count": 54,
   "id": "51c35214-bb7a-429a-8494-9c4aa50d8e85",
   "metadata": {},
   "outputs": [
    {
     "data": {
      "text/html": [
       "<div>\n",
       "<style scoped>\n",
       "    .dataframe tbody tr th:only-of-type {\n",
       "        vertical-align: middle;\n",
       "    }\n",
       "\n",
       "    .dataframe tbody tr th {\n",
       "        vertical-align: top;\n",
       "    }\n",
       "\n",
       "    .dataframe thead th {\n",
       "        text-align: right;\n",
       "    }\n",
       "</style>\n",
       "<table border=\"1\" class=\"dataframe\">\n",
       "  <thead>\n",
       "    <tr style=\"text-align: right;\">\n",
       "      <th></th>\n",
       "      <th>seq_id</th>\n",
       "      <th>mutation</th>\n",
       "      <th>sequence</th>\n",
       "    </tr>\n",
       "  </thead>\n",
       "  <tbody>\n",
       "    <tr>\n",
       "      <th>0</th>\n",
       "      <td>WT</td>\n",
       "      <td>NaN</td>\n",
       "      <td>MTYTVGMYLAERLVQIGLKHHFAVAGDYNLVLLDQLLLNKDMKQIY...</td>\n",
       "    </tr>\n",
       "    <tr>\n",
       "      <th>1</th>\n",
       "      <td>&gt;pCB131</td>\n",
       "      <td>M296</td>\n",
       "      <td>MTYTVGMYLAERLVQIGLKHHFAVAGDYNLVLLDQLLLNKDMKQIY...</td>\n",
       "    </tr>\n",
       "    <tr>\n",
       "      <th>2</th>\n",
       "      <td>&gt;pCB139</td>\n",
       "      <td>M297</td>\n",
       "      <td>MYTVGMYLAERLAQIGLKHHFAVAGDYNLVLLDQLLLNKDMEQVYC...</td>\n",
       "    </tr>\n",
       "    <tr>\n",
       "      <th>3</th>\n",
       "      <td>&gt;pCB140</td>\n",
       "      <td>M298</td>\n",
       "      <td>MTYTVGHYLAERLTQIGLKHHFAVAGDYNLVLLDQLIEQGGTKQIY...</td>\n",
       "    </tr>\n",
       "    <tr>\n",
       "      <th>4</th>\n",
       "      <td>&gt;pCB141</td>\n",
       "      <td>M299</td>\n",
       "      <td>MTYTVGMYLAERLSQIGLKHHFAVAGDFNLVLLDQLLVNKEMEQVY...</td>\n",
       "    </tr>\n",
       "  </tbody>\n",
       "</table>\n",
       "</div>"
      ],
      "text/plain": [
       "    seq_id mutation                                           sequence\n",
       "0       WT      NaN  MTYTVGMYLAERLVQIGLKHHFAVAGDYNLVLLDQLLLNKDMKQIY...\n",
       "1  >pCB131     M296  MTYTVGMYLAERLVQIGLKHHFAVAGDYNLVLLDQLLLNKDMKQIY...\n",
       "2  >pCB139     M297  MYTVGMYLAERLAQIGLKHHFAVAGDYNLVLLDQLLLNKDMEQVYC...\n",
       "3  >pCB140     M298  MTYTVGHYLAERLTQIGLKHHFAVAGDYNLVLLDQLIEQGGTKQIY...\n",
       "4  >pCB141     M299  MTYTVGMYLAERLSQIGLKHHFAVAGDFNLVLLDQLLVNKEMEQVY..."
      ]
     },
     "execution_count": 54,
     "metadata": {},
     "output_type": "execute_result"
    }
   ],
   "source": [
    "seqs_file = \"/projects/bpms/jlaw/projects/pyruvate_decarboxylase_engineering/pdc_seqs.txt\"\n",
    "df_pdc = pd.read_csv(seqs_file, header=None, names=['seq_id', 'mutation', 'sequence'])\n",
    "df_pdc['sequence'] = df_pdc.sequence.str.replace('HHHHHH-','')\n",
    "df_pdc"
   ]
  },
  {
   "cell_type": "code",
   "execution_count": 56,
   "id": "38a5a40c-7057-4d99-af5d-834972f74cb1",
   "metadata": {},
   "outputs": [
    {
     "data": {
      "text/plain": [
       "0    558\n",
       "1    558\n",
       "2    556\n",
       "3    563\n",
       "4    558\n",
       "Name: sequence, dtype: int64"
      ]
     },
     "execution_count": 56,
     "metadata": {},
     "output_type": "execute_result"
    }
   ],
   "source": [
    "df_pdc.sequence.apply(len)"
   ]
  },
  {
   "cell_type": "code",
   "execution_count": 5,
   "id": "0cabb146-2939-4bbc-b80d-0eace3808217",
   "metadata": {},
   "outputs": [
    {
     "data": {
      "text/plain": [
       "'MTYTVGMYLAERLVQIGLKHHFAVAGDYNLVLLDQLLLNKDMKQIYCCNELNCGFSAEGYARSNGAAAAVVTFSVGAISAMNAIGGAYAENLPVILISGSPNTNDYGTGHILHHTIGTTDYNYQLEMVKHVTCAAESIVSAEEAPAKIDHVIRTALRERKPAYLDIACNIASEPCVRPGPVSSLLSEPEIDHTSLKAAVDATVALLEKSASPVMLLGSKLRAANALAATETLADKLQCAVTIMAAAKGFFPEDHAGFRGLYWGEVSNPGVQELVETSDALLCIAPVFNDYSTVGWSAWPKGPNVILAEPDRVTVDGRAYDGFTLRAFLQALAEKAPARPASAQKSSVPTCSLTATSDEAGLTNDEIVRHINALLTSNTTLVAETGDSWFNAMRMTLPRGARVELEMQWGHIGWSVPSAFGNAMGSQDRQHVVMVGDGSFQVTAQEVAQMVRYELPVIIFLINNRGYVIEIAIHDGPYNYIKNWDYAGLMEVFNAGEGHGLGLKATTPKELTEAIARAKANTRGPTLIECQIDRTDCTDMLVQWGRKVASTNARKTTLA'"
      ]
     },
     "execution_count": 5,
     "metadata": {},
     "output_type": "execute_result"
    }
   ],
   "source": [
    "wt = df.sequence.values[0]\n",
    "wt"
   ]
  },
  {
   "cell_type": "code",
   "execution_count": 55,
   "id": "75d3b9fb-3a91-49a0-834c-1342ef77aaf1",
   "metadata": {},
   "outputs": [
    {
     "data": {
      "text/plain": [
       "array(['MTYTVGMYLAERLVQIGLKHHFAVAGDYNLVLLDQLLLNKDMKQIYCCNELNCGFSAEGYARSNGAAAAVVTFSVGAISAMNAIGGAYAENLPVILISGSPNTNDYGTGHILHHTIGTTDYNYQLEMVKHVTCAAESIVSAEEAPAKIDHVIRTALRERKPAYLDIACNIASEPCVRPGPVSSLLSEPEIDHTSLKAAVDATVALLEKSASPVMLLGSKLRAANALAATETLADKLQCAVTIMAAAKGFFPEDHAGFRGLYWGEVSNPGVQELVETSDALLCIAPVFNDYSTVGWSAWPKGPNVILAEPDRVTVDGRAYDGFTLRAFLQALAEKAPARPASAQKSSVPTCSLTATSDEAGLTNDEIVRHINALLTSNTTLVAETGDSWFNAMRMTLPRGARVELEMQWGHIGWSVPSAFGNAMGSQDRQHVVMVGDGSFQVTAQEVAQMVRYELPVIIFLINNRGYVIEIAIHDGPYNYIKNWDYAGLMEVFNAGEGHGLGLKATTPKELTEAIARAKANTRGPTLIECQIDRTDCTDMLVQWGRKVASTNARKTTLA',\n",
       "       'MTYTVGMYLAERLVQIGLKHHFAVAGDYNLVLLDQLLLNKDMKQIYCCNELNCGFSAEGYARSNGAAAAVVTFSVGAISAMNAIGGAYAENLPVILISGSPNTNDYGTGHILHHTIGTTDYNYQLEMVKHVTCAAESIVSAEEAPAKIDHVIRTALRERKPAYLDIACNIASEPCVRPGPVSSLLSEPEIDHTSLKAAVDATVALLEKSASPVMLLGSKLRAANALAATETLADKLQCAVTIMAAAKGFFPEDHAGFRGLYWGEVSNPGVQELVETSDALLCIAPVFNDYSTVGWSAWPKGPNVILAEPDRVTVDGRAYDGFTLRAFLQALAEKAPARPASAQKSSVPTCSLTATSDEAGLTNDEIVRHINALLTSNTTLVAETGDSWFNAMRMTLPRGARVELEMQWGHIGWSVPSAFGNAMGSQDRQHVVMVGDGSFQVTAQEVAQMVRYELPVIIFLINNRGYVIEIAIHDGPYNYIKNWDYAGLMEVFNAGEGHGLGLKATTPKELTEAIARAKANTRGPTLIECQIDRTDCTDMLVQWGRKVASTNARKTTLA',\n",
       "       'MYTVGMYLAERLAQIGLKHHFAVAGDYNLVLLDQLLLNKDMEQVYCCNELNCGFSAEGYARARGAAAAIVTFSVGAISAMNAIGGAYAENLPVILISGSPNTNDYGTGHILHHTIGTTDYNYQLEMVKHVTCAAESIVSAEEAPAKIDHVIRTALRERKPAYLEIACNVAGAECVRPGPINSLLRELEVDQTSVTAAVDAAVEWLQDRQNVVMLVGSKLRAAAAEKQAVALADRLGCAVTIMAAAKGFFPEDHPNFRGLYWGEVSSEGAQELVENADAILCLAPVFNDYATVGWNSWPKGDNVMVMDTDRVTFAGQSFEGLSLSTFAAALAEKAPSRPATTQGTQAPVLGIEAAEPNAPLTNDEMTRQIQSLITSDTTLTAETGDSWFNASRMPIPGGARVELEMQWGHIGWSVPSAFGNAVGSPERRHIMMVGDGSFQLTAQEVAQMIRYEIPVIIFLINNRGYVIEIAIHDGPYNYIKNWNYAGLIDVFNDEDGHGLGLKASTGAELEGAIKKALDNRRGPTLIECNIAQDDCTETLIAWGKRVAATNSRKPQA',\n",
       "       'MTYTVGHYLAERLTQIGLKHHFAVAGDYNLVLLDQLIEQGGTKQIYDCNELNCSFAAEGYARANGAAAAVITFSVGAISAMNGLGGAYAENLPILVISGAPNSNDHGSGHVLHHTIGTTDYSYQMEMAKHVTCAAESITSAETAPAKIDHVIRTMLREKKPAFLEIACNISAAPCVRPGPVSSLHAHPRPDEASLKAALDESLSFLNKTNKVAILVGTKLRAAEALKETVELADKLGCPVTVMAAAKSYFPETHPGFRGVYWGDVSSPGAQEIIEGADAVICLAPVWNDYSSGGWKSVVRGEKVLEVDPNRVTVNGKTFEGFRLKEFVKALTEKAPKKSAALTGEYKPVMLPKADPSKPLSNDEMTRQINELVDGNTTLFAETGDSWFNAVRMHLPEGAKVETEMQWGHIGWSVPSMFGNATASPERKHVLMVGDGSFQLTAQEVAQMVRYELPVIIFLVNNHGYVIEMAIHDGPYNYIQNWDYAALMQCFNQGVPGEESGKYGLGLHATTGAELAEAIAKAKKNTRGPTLIECKLDRTDCTKTLVEWGKAVAAANSRKPQSV',\n",
       "       'MTYTVGMYLAERLSQIGLKHHFAVAGDFNLVLLDQLLVNKEMEQVYCCNELNCGFSAEGYARAHGAAAAVVTFSVGAISAMNAIAGAYAENLPVILISGSPNSNDYGTGHILHHTLGTNDYTYQLEMMRHVTCAAESITDAASAPAKIDHVIRTALRERKPAYVEIACNVSDAECVRPGPVSSLLAELRADDVSLKAAVEASLALLEKSQRVTMIVGSKVRAAHAQTQTEHLADKLGCAVTIMAAAKSFFPEDHKGFRGLYWGDVSSPGAQELVEKSDALICVAPVFNDYSTVGWTAWPKGDNVLLAEPNRVTVGGKTYEGFTLREFLEELAKKAPSRPLTAQESKKHTPVIEASKGDARLTNDEMTRQINAMLTSDTTLVAETGDSWFNATRMDLPRGARVELEMQWGHIGWSVPSAFGNAMGSQERQHILMVGDGSFQLTAQEMAQMVRYKLPVIIFLVNNRGYVIEIAIHDGPYNYIKNWDYAGLMEVFNAEDGHGLGLKATTAGELEEAIKKAKTNREGPTIIECQIERSDCTKTLVEWGKKVAAANSRKPQVS'],\n",
       "      dtype=object)"
      ]
     },
     "execution_count": 55,
     "metadata": {},
     "output_type": "execute_result"
    }
   ],
   "source": [
    "df_pdc.sequence.values"
   ]
  },
  {
   "cell_type": "code",
   "execution_count": 156,
   "id": "45b2edd9-fe57-4d38-ac49-8ec36c374193",
   "metadata": {},
   "outputs": [],
   "source": [
    "# model, alphabet = torch.hub.load(\"facebookresearch/esm:main\", model_name)\n",
    "device = 'cuda:0' if torch.cuda.is_available() else 'cpu'\n",
    "model.eval()  # disables dropout for deterministic results\n",
    "model = model.to(device)\n",
    "batch_converter = alphabet.get_batch_converter()\n",
    "# get the representations from the last layer\n",
    "repr_layer = model.num_layers"
   ]
  },
  {
   "cell_type": "code",
   "execution_count": 57,
   "id": "93317b61-5b4f-4f3a-b20d-b5d0a1e1aa04",
   "metadata": {},
   "outputs": [
    {
     "name": "stdout",
     "output_type": "stream",
     "text": [
      "building embeddings for 5 embeddings using repr_layer = 33\n"
     ]
    },
    {
     "data": {
      "application/vnd.jupyter.widget-view+json": {
       "model_id": "74880722baf848f9b02ef77ff2af3503",
       "version_major": 2,
       "version_minor": 0
      },
      "text/plain": [
       "  0%|          | 0/5 [00:00<?, ?it/s]"
      ]
     },
     "metadata": {},
     "output_type": "display_data"
    },
    {
     "name": "stdout",
     "output_type": "stream",
     "text": [
      "pd_reps.shape = (5, 1280)\n"
     ]
    }
   ],
   "source": [
    "print(f\"building embeddings for {len(df_pdc)} embeddings using {repr_layer = }\")\n",
    "# print(\"current memory usage:\")\n",
    "# print_memory_usage()\n",
    "# with autocast():\n",
    "pdc_reps = get_seq_embeddings(model, df_pdc.sequence.values, repr_layer=repr_layer, batch_size=1)\n",
    "print(f\"{pdc_reps.shape = }\")"
   ]
  },
  {
   "cell_type": "code",
   "execution_count": 58,
   "id": "96c2611f-b99d-4536-90e8-e383d3130f97",
   "metadata": {},
   "outputs": [
    {
     "data": {
      "text/plain": [
       "array([48.356644, 48.356644, 47.259327, 48.632538, 47.968735],\n",
       "      dtype=float32)"
      ]
     },
     "execution_count": 58,
     "metadata": {},
     "output_type": "execute_result"
    }
   ],
   "source": [
    "y_pred = head_model(torch.Tensor(pdc_reps)).detach().squeeze().numpy()\n",
    "y_pred"
   ]
  },
  {
   "cell_type": "markdown",
   "id": "d077185e-85ee-4c52-b2d8-4ce6534655d0",
   "metadata": {},
   "source": [
    "### Predict for pyuvate decarboxylase\n",
    "- wt_tm = 62\n",
    "- pdc_202 = ? - should be > wt_tm, but < pdc_203\n",
    "- pdc_203 = 90"
   ]
  },
  {
   "cell_type": "code",
   "execution_count": 44,
   "id": "f596f19b-7d77-4db7-adb8-7c4b50b25f18",
   "metadata": {},
   "outputs": [
    {
     "data": {
      "text/plain": [
       "'AFCDE'"
      ]
     },
     "execution_count": 44,
     "metadata": {},
     "output_type": "execute_result"
    }
   ],
   "source": [
    "def apply_mutations(seq, muts):\n",
    "    mut_seq = list(seq)\n",
    "    for mut in muts:\n",
    "        wt_aa, idx, mut_aa = mut[0], mut[1:-1], mut[-1]\n",
    "        seq_idx = int(idx) - 1\n",
    "        if wt_aa != seq[seq_idx]:\n",
    "            print(f\"WARNING: {wt_aa = } != {seq[seq_idx] = }\")\n",
    "        mut_seq[seq_idx] = mut_aa\n",
    "    return ''.join(mut_seq)\n",
    "\n",
    "apply_mutations(\"ABCDE\", [\"B2F\"])"
   ]
  },
  {
   "cell_type": "code",
   "execution_count": 63,
   "id": "b4e98f39-0e87-48ed-b1ac-10291422ed0d",
   "metadata": {},
   "outputs": [
    {
     "data": {
      "text/plain": [
       "['B2F']"
      ]
     },
     "execution_count": 63,
     "metadata": {},
     "output_type": "execute_result"
    }
   ],
   "source": [
    "def get_mutations(wt_seq, mut_seq):\n",
    "    mutations = []\n",
    "    for i, aa in enumerate(wt_seq):\n",
    "        if aa != mut_seq[i]:\n",
    "            mut = f\"{aa}{i + 1}{mut_seq[i]}\"\n",
    "            mutations.append(mut)\n",
    "    return mutations\n",
    "\n",
    "get_mutations(\"ABCDE\", \"AFCDE\")"
   ]
  },
  {
   "cell_type": "code",
   "execution_count": null,
   "id": "30a6162b-bbb2-46a0-a636-3c7f2626042a",
   "metadata": {},
   "outputs": [],
   "source": [
    "A397P"
   ]
  },
  {
   "cell_type": "code",
   "execution_count": 70,
   "id": "aa4e5f4c-4dae-4956-a885-27c84cd6b2a9",
   "metadata": {},
   "outputs": [],
   "source": [
    "test = [1,2,3].insert(0,5)\n",
    "test"
   ]
  },
  {
   "cell_type": "code",
   "execution_count": 85,
   "id": "93fa6aaa-d8ae-406a-851f-0c8cdcc010f8",
   "metadata": {},
   "outputs": [
    {
     "name": "stdout",
     "output_type": "stream",
     "text": [
      "558 558 558\n"
     ]
    }
   ],
   "source": [
    "wt_seq = \"MTYTVGMYLAERLVQIGLKHHFAVGGDYNLVLLDQLLLNKDMKQIYCCNELNCGFSAEGYARSNGAAAAVVTFSVGAISAMNALGGAYAENLPVILISGAPNSNDQGTGHILHHTIGKTDYSYQLEMARQVTCAAESITDAHSAPAKIDHVIRTALRERKPAYLDIACNIASEPCVRPGPVSSLLSEPEIDHTSLKAAVDATVALLKNRPAPVMLLGSKLRAANALAATETLADKLQCAVTIMAAAKGFFPEDHAGFRGLYWGEVSNPGVQELVETSDALLCIAPVFNDYSTVGWSGMPKGPNVILAEPDRVTVDGRAYDGFTLRAFLQALAEKAPARPASAQKSSVPTCSLTATSDEAGLTNDEIVRHINALLTSNTTLVAETGDSWFNAMRMTLAGARVELEMQWGHIGWSVPSAFGNAMGSQDRQHVVMVGDGSFQLTAQEVAQMVRYELPVIIFLINNRGYVIEIAIHDGPYNYIKNWDYAGLMEVFNAGEGHGLGLKATTPKELTEAIARAKANTRGPTLIECQIDRTDCTDMLVQWGRKVASTNARKTTLA\"\n",
    "wt_seq = list(wt_seq)\n",
    "wt_seq.insert(397, 'A')\n",
    "wt_seq = ''.join(wt_seq)\n",
    "# wt_seq\n",
    "# wt_seq2 = \"MTYTVGMYLAERLSQIGLKHHFAVAGDFNLVLLDQLLANKEMEQVYCCNELNCGFSAEGYARAHGAAAAVVTFSVGAISAMNAIAGAYAENLPVILISGSPNSNDYGTGHILHHTLGTNDYTYQLEMMRHVTCAAESITDAASAPAKIDHVIRTALRERKPAYVEIACNISDAECVRPGPVSSLLAELRVDDVSLKAAVEASLALLEKSQRVTMIVGSKVRAAHAQTQTEHLADKLGCAVTIMAAAKSFFPEDHKGFRGLYWGDVSSPGAQELVEKSDALICVAPVFNDYSTVGWTAWPKGDNVLLAEPNRVTVGGKTYEGFTLREFLEELAKKAPSRPLTAQESKKHTPVIEAYKADARLTNDEMTRQINAMLTSDTTLVAETGDSWFNATRMDLPRGARVELEMQWGHIGWSVPSAFGNAMGSQERQHILMVGDGSFQLTAQEMAQMVRYKLPVIIFLVNNRGYVIEIAIHDGPYNYIKNWDYAGLMEVFNAEDGHGLGLKATTAGELEEAIKKAKANREGPTIIECQIERSDCTKTLVEWGKKVAAANSRKPQVS\"\n",
    "pdc_var2 = \"MTYTVGMYLAERLVQIGLKHHFAVAGDYNLVLLDQLLLNKDMKQIYCCNELNCGFSAEGYARSNGAAAAVVTFSVGAISAMNAIGGAYAENLPVILISGSPNTNDYGTGHILHHTIGTTDYNYQLEMVKHVTCAAESIVSAEEAPAKIDHVIRTALRERKPAYLDIACNIASEPCVRPGPVSSLLSEPEIDHTSLKAAVDATVALLEKSASPVMLLGSKLRAANALAATETLADKLQCAVTIMAAAKGFFPEDHAGFRGLYWGEVSNPGVQELVETSDALLCIAPVFNDYSTVGWSAWPKGPNVILAEPDRVTVDGRAYDGFTLRAFLQALAEKAPARPASAQKSSVPTCSLTATSDEAGLTNDEIVRHINALLTSNTTLVAETGDSWFNAMRMTLPRGARVELEMQWGHIGWSVPSAFGNAMGSQDRQHVVMVGDGSFQVTAQEVAQMVRYELPVIIFLINNRGYVIEIAIHDGPYNYIKNWDYAGLMEVFNAGEGHGLGLKATTPKELTEAIARAKANTRGPTLIECQIDRTDCTDMLVQWGRKVASTNARKTTLA\"\n",
    "print(len(wt_seq), len(wt_seq2), len(pdc_var2))\n",
    "pdc_var2_muts = get_mutations(wt_seq, pdc_var2)"
   ]
  },
  {
   "cell_type": "code",
   "execution_count": 75,
   "id": "1906447f-0b68-482c-8e4c-dd7dae435e8f",
   "metadata": {},
   "outputs": [
    {
     "data": {
      "text/plain": [
       "24"
      ]
     },
     "execution_count": 75,
     "metadata": {},
     "output_type": "execute_result"
    }
   ],
   "source": [
    "len(pdc_var2_muts)"
   ]
  },
  {
   "cell_type": "code",
   "execution_count": 91,
   "id": "594e20fa-8e74-47bc-9632-c83af85a905d",
   "metadata": {},
   "outputs": [
    {
     "name": "stdout",
     "output_type": "stream",
     "text": [
      "WARNING: wt_aa = 'G' != seq[seq_idx] = 'A'\n",
      "WARNING: wt_aa = 'N' != seq[seq_idx] = 'K'\n",
      "WARNING: wt_aa = 'R' != seq[seq_idx] = 'S'\n",
      "WARNING: wt_aa = 'P' != seq[seq_idx] = 'A'\n",
      "WARNING: wt_aa = 'A' != seq[seq_idx] = 'S'\n",
      "WARNING: wt_aa = 'G' != seq[seq_idx] = 'A'\n",
      "WARNING: wt_aa = 'M' != seq[seq_idx] = 'W'\n",
      "WARNING: wt_aa = 'A' != seq[seq_idx] = 'P'\n",
      "WARNING: wt_aa = 'A' != seq[seq_idx] = 'R'\n"
     ]
    },
    {
     "data": {
      "text/plain": [
       "15"
      ]
     },
     "execution_count": 91,
     "metadata": {},
     "output_type": "execute_result"
    }
   ],
   "source": [
    "# should have 13 mutations\n",
    "corrected_wt_seq = list(wt_seq)\n",
    "corrections = ['G25A','N208K','R209S','P210A', 'A211S', 'G297A', 'M298W', 'A397P', 'A398R']\n",
    "apply_corrections = [f\"{mut[-1]}{mut[1:-1]}{mut[0]}\" for mut in corrections]\n",
    "wt_seq = apply_mutations(wt_seq, corrections)\n",
    "pdc_var2_muts = get_mutations(wt_seq, pdc_var2)\n",
    "len(pdc_var2_muts)"
   ]
  },
  {
   "cell_type": "code",
   "execution_count": 90,
   "id": "b2380022-0657-4e7f-908d-51ad3ffcb6bf",
   "metadata": {},
   "outputs": [
    {
     "name": "stdout",
     "output_type": "stream",
     "text": [
      "L84I, A100S, S103T, Q106Y, K118T, S122N, A128V, R129K, Q130H, T139V, D140S, H142E, S143E, K207E, L441V\n"
     ]
    }
   ],
   "source": [
    "print(', '.join(apply_mutations(wt_seq, pdc_var2_muts)))"
   ]
  },
  {
   "cell_type": "code",
   "execution_count": 94,
   "id": "0abc9b40-fbe5-488a-963b-d31df3586975",
   "metadata": {},
   "outputs": [],
   "source": [
    "pdc_var1 = apply_mutations(wt_seq, pdc_var2_muts[:-1])"
   ]
  },
  {
   "cell_type": "code",
   "execution_count": 97,
   "id": "95333875-1061-4e7c-8884-9190d695ed55",
   "metadata": {},
   "outputs": [
    {
     "name": "stdout",
     "output_type": "stream",
     "text": [
      "L84I, A100S, S103T, Q106Y, K118T, S122N, A128V, R129K, Q130H, T139V, D140S, H142E, S143E, K207E\n"
     ]
    }
   ],
   "source": [
    "print(', '.join(get_mutations(wt_seq, pdc_var1)))"
   ]
  },
  {
   "cell_type": "code",
   "execution_count": 88,
   "id": "7c2408d0-b01b-4ccd-b658-98fe7ab1a2d7",
   "metadata": {},
   "outputs": [
    {
     "data": {
      "text/plain": [
       "'MTYTVGMYLAERLVQIGLKHHFAVAGDYNLVLLDQLLLNKDMKQIYCCNELNCGFSAEGYARSNGAAAAVVTFSVGAISAMNALGGAYAENLPVILISGAPNSNDQGTGHILHHTIGKTDYSYQLEMARQVTCAAESITDAHSAPAKIDHVIRTALRERKPAYLDIACNIASEPCVRPGPVSSLLSEPEIDHTSLKAAVDATVALLKKSASPVMLLGSKLRAANALAATETLADKLQCAVTIMAAAKGFFPEDHAGFRGLYWGEVSNPGVQELVETSDALLCIAPVFNDYSTVGWSAWPKGPNVILAEPDRVTVDGRAYDGFTLRAFLQALAEKAPARPASAQKSSVPTCSLTATSDEAGLTNDEIVRHINALLTSNTTLVAETGDSWFNAMRMTLPRGARVELEMQWGHIGWSVPSAFGNAMGSQDRQHVVMVGDGSFQLTAQEVAQMVRYELPVIIFLINNRGYVIEIAIHDGPYNYIKNWDYAGLMEVFNAGEGHGLGLKATTPKELTEAIARAKANTRGPTLIECQIDRTDCTDMLVQWGRKVASTNARKTTLA'"
      ]
     },
     "execution_count": 88,
     "metadata": {},
     "output_type": "execute_result"
    }
   ],
   "source": [
    "wt_seq"
   ]
  },
  {
   "cell_type": "code",
   "execution_count": 80,
   "id": "40a68e8e-be12-4427-88be-073d447d3892",
   "metadata": {},
   "outputs": [
    {
     "name": "stdout",
     "output_type": "stream",
     "text": [
      "558 123\n",
      "558 123\n",
      "558 121\n",
      "558 120\n",
      "558 121\n",
      "558 122\n",
      "558 120\n"
     ]
    }
   ],
   "source": [
    "test_seqs = {'A0A368AB54': 'MTYTVGMYLAERLSQIGLKHHFAVAGDFNLVLLDQLLANKEMEQVYCCNELNCGFSAEGYARAHGAAAAVVTFSVGAISAMNAIAGAYAENLPVILISGSPNSNDYGTGHILHHTLGTNDYTYQLEMMRHVTCAAESITDAASAPAKIDHVIRTALRERKPAYVEIACNVSDAECVRPGPVSSLLAELRVDDVSLKAAVEASLALLEKSQRVTVIVGSKVRAAHAQTQTEHLADKLGCAVTIMAAAKSFFPEDHKGFRGLYWGDVSSPGAQELVEKSDALICVAPVFNDYSTVGWTAWPKGDNVLLAEPNRVTVGGKTYEGFTLREFLEELAKKAPSRPLTAQESKKHTPVIEVSKADARLTNDEMTRQINAMLTSDTTLVAETGDSWFNATRMDLPRGARVELEMQWGHIGWSVPSAFGNAMGSQERQHILMVGDGSFQLTAQEMAQMVRYKLPVIIFLVNNRGYVIEIAIHDGPYNYIKNWDYAGLMEVFNAEDGHGLGLKATTAGELEEAIKKAKANREGPTIIECQIERSDCTKTLVEWGKKVAAANSRKPQVS',\n",
    "'A0A401WMT0': 'MTYTVGMYLAERLSQIGLKHHFAVAGDFNLVLLDQLLANKEMEQVYCCNELNCGFSAEGYARAHGAAAAVVTFSVGAISAMNAIAGAYAENLPVILISGSPNSNDYGTGHILHHTLGTNDYTYQLEMMRHVTCAAESITDAASAPAKIDHVIRTALRERKPAYVEIACNVSDAECVRPGPVSSLLAELRVDDVSLKAAVEASLALLEKSQRVTVIVGSKVRAAHAQTQTEHLADKLGCAVTIMAAAKSFFPEDHKGFRGLYWGDVSSPGAQELVEKSDALICVAPVFNDYSTVGWTAWPKGDNVLLAEPNRVTVGGKTYEGFTLREFLEELAKKAPSRPLTAQESKKHTPVIEVSKADARLTNDEMTRQINAMLTSDTTLVAETGDSWFNATRMDLPRGARVELEMQWGHIGWSVPSAFGNAMGSQERQHILMVGDGSFQLTAQEMAQMVRYKLPVIIFLVNNRGYVIEIAIHDGPYNYIKNWDYAGLMEVFNAEDGHGLGLKATTAGELEEAIKKAKANREGPTIIECQIERSDCTKTLVEWGKKVAAANSRKPQVS',\n",
    "'A0A401WW73': 'MTYTVGMYLAERLSQIGLKHHFAVAGDFNLVLLDQLLANKEMEQVYCCNELNCGFSAEGYARAHGAAAAVVTFSVGAISAMNAIAGAYAENLPVILISGSPNSNDYGTGHILHHTLGTNDYTYQLEMMRHVTCAAESITDAASAPAKIDHVIRTALRERKPAYVEIACNVSDAECVRPGPVSSLLAELRVDDVSLKAAVEASLALLEKSQRVTMIVGSKVRAAHAQTQTEHLADKLGCAVTIMAAAKSFFPEDHKGFRGLYWGDVSSPGAQELVEKSDALICVAPVFNDYSTVGWTAWPKGDNVLLAEPNRVTVGGKTYEGFTLREFLEELAKKAPSRPLTAQESKKHTPVIEASKADARLTNDEMTRQINAMLTSDTTLVAETGDSWFNATRMDLPRGARVELEMQWGHIGWSVPSAFGNAMGSQERQHILMVGDGSFQLTAQEMAQMVRYKLPVIIFLVNNRGYVIEIAIHDGPYNYIKNWDYAGLMEVFNAEDGHGLGLKATTAGELEEAIKKAKANREGPTIIECQIERSDCTKTLVEWGKKVAAANSRKPQVS',\n",
    "'A0A401XFT9': 'MTYTVGMYLAERLSQIGLKHHFAVAGDFNLVLLDQLLANKEMEQVYCCNELNCGFSAEGYARAHGAAAAVVTFSVGAISAMNAIAGAYAENLPVILISGSPNSNDYGTGHILHHTLGTNDYTYQLEMMRHVTCAAESITDAASAPAKIDHVIRTALRERKPAYVEIACNISDAECVRPGPVSSLLAELRVDDVSLKAAVEASLALLEKSQRVTMIVGSKVRAAHAQTQTEHLADKLGCAVTIMAAAKSFFPEDHKGFRGLYWGDVSSPGAQELVEKSDALICVAPVFNDYSTVGWTAWPKGDNVLLAEPNRVTVGGKTYEGFTLREFLEELAKKAPSRPLTAQESKKHTPVIEASKADARLTNDEMTRQINAMLTSDTTLVAETGDSWFNATRMDLPRGARVELEMQWGHIGWSVPSAFGNAMGSQERQHILMVGDGSFQLTAQEMAQMVRYKLPVIIFLVNNRGYVIEIAIHDGPYNYIKNWDYAGLMEVFNAEDGHGLGLKATTAGELEEAIKKAKANREGPTIIECQIERSDCTKTLVEWGKKVAAANSRKPQVS',\n",
    "'A0A6P1QD67': 'MTYTVGMYLAERLSQIGLKHHFAVAGDFNLVLLDQLLANKEMEQVYCCNELNCGFSAEGYARAHGAAAAVVTFSVGAISAMNAIAGAYAENLPVILISGSPNSNDYGTGHILHHTLGTNDYTYQLEMMRHVTCAAESITDAASAPAKIDHVIRTALRERKPAYVEIACNISDAECVRPGPVSSLLAELRVDDVSLKAAVEASLALLEKSQRVTMIVGSKVRAAHAQTQTEHLANKLGCAVTIMAAAKSFFPEDHKGFRGLYWGDVSSPGAQELVEKSDALICVAPVFNDYSTVGWTAWPKGDNVLLAEPNRVTVGGKTYEGFTLREFLEELAKKAPSRPLTAQESKKHTPVIEASKADARLTNDEMTRQINAMLTSDTTLVAETGDSWFNATRMDLPRGARVELEMQWGHIGWSVPSAFGNAMGSQERQHILMVGDGSFQLTAQEMAQMVRYKLPVIIFLVNNRGYVIEIAIHDGPYNYIKNWDYAGLMEVFNAEDGHGLGLKATTAGELEEAIKKAKANREGPTIIECQIERSDCTKTLVEWGKKVAAANSRKPQVS',\n",
    "'C7JF72': 'MTYTVGMYLAERLSQIGLKHHFAVAGDFNLVLLDQLLVNKEMEQVYCCNELNCGFSAEGYARAHGAAAAVVTFSVGAISAMNAIAGAYAENLPVILISGSPNSNDYGTGHILHHTLGTNDYTYQLEMMRHVTCAAESITDAASAPAKIDHVIRTALRERKPAYVEIACNVSDAECVRPGPVSSLLAELRADDVSLKAAVEASLALLEKSQRVTMIVGSKVRAAHAQTQTEHLADKLGCAVTIMAAAKSFFPEDHKGFRGLYWGDVSSPGAQELVEKSDALICVAPVFNDYSTVGWTAWPKGDNVLLAEPNRVTVGGKTYEGFTLREFLEELAKKAPSRPLTAQESKKHTPVIEASKGDARLTNDEMTRQINAMLTSDTTLVAETGDSWFNATRMDLPRGARVELEMQWGHIGWSVPSAFGNAMGSQERQHILMVGDGSFQLTAQEMAQMVRYKLPVIIFLVNNRGYVIEIAIHDGPYNYIKNWDYAGLMEVFNAEDGHGLGLKATTAGELEEAIKKAKTNREGPTIIECQIERSDCTKTLVEWGKKVAAANSRKPQVS',\n",
    "'S6DAL0': 'MTYTVGMYLAERLSQIGLKHHFAVAGDFNLVLLDQLLANKEMEQVYCCNELNCGFSAEGYARAHGAAAAVVTFSVGAISAMNAIAGAYAENLPVILISGSPNSNDYGTGHILHHTLGTNDYTYQLEMMRHVTCAAESITDAASAPAKIDHVIRTALRERKPAYVEIACNISDAECVRPGPVSSLLAELRVDDVSLKAAVEASLALLEKSQRVTMIVGSKVRAAHAQTQTEHLADKLGCAVTIMAAAKSFFPEDHKGFRGLYWGDVSSPGAQELVEKSDALICVAPVFNDYSTVGWTAWPKGDNVLLAEPNRVTVGGKTYEGFTLREFLEELAKKAPSRPLTAQESKKHTPVIEAYKADARLTNDEMTRQINAMLTSDTTLVAETGDSWFNATRMDLPRGARVELEMQWGHIGWSVPSAFGNAMGSQERQHILMVGDGSFQLTAQEMAQMVRYKLPVIIFLVNNRGYVIEIAIHDGPYNYIKNWDYAGLMEVFNAEDGHGLGLKATTAGELEEAIKKAKANREGPTIIECQIERSDCTKTLVEWGKKVAAANSRKPQVS',\n",
    "}\n",
    "for u_id, test_seq in test_seqs.items():\n",
    "    # test_seq = list(test_seq)\n",
    "    # test_seq.insert(397, 'A')\n",
    "    # test_seq = ''.join(test_seq)\n",
    "    print(len(test_seq), len(get_mutations(test_seq, pdc_var2)))"
   ]
  },
  {
   "cell_type": "code",
   "execution_count": 45,
   "id": "7b18280a-5f04-4144-ae4f-18ddc05e3c25",
   "metadata": {},
   "outputs": [],
   "source": [
    "wt_seq = \"MSYTVGTYLAERLVQIGLKHHFAVAGDYNLVLLDNLLLNKNMEQVYCCNELNCGFSAEGYARAKGAAAAVVTYSVGALSAFDAIGGAYAENLPVILISGAPNNNDHAAGHVLHHALGKTDYHYQLEMAKNITAAAEAIYTPEEAPAKIDHVIKTALREKKPVYLEIACNIASMPCAAPGPASALFNDEASDEASLNAAVEETLKFIANRDKVAVLVGSKLRAAGAEEAAVKFADALGGAVATMAAAKSFFPEENPHYIGTSWGEVSYPGVEKTMKEADAVIALAPVFNDYSTTGWTDIPDPKKLVLAEPRSVVVNGIRFPSVHLKDYLTRLAQKVSKKTGALDFFKSLNAGELKKAAPADPSAPLVNAEIARQVEALLTPNTTVIAETGDSWFNAQRMKLPNGARVEYEMQWGHIGWSVPAAFGYAVGAPERRNILMVGDGSFQLTAQEVAQMVRLKLPVIIFLINNYGYTIEVMIHDGPYNNIKNWDYAGLMEVFNGNGGYDSGAGKGLKAKTGGELAEAIKVALANTDGPTLIECFIGREDCTEELVKWGKRVAAANSRKPVNKLL\"\n",
    "pdc_202_muts = [\"S2D\", \"L38D\", \"A207E\", \"G224A\", \"Q333E\", \"A357D\", \"V374I\", \"A376D\", \"A519E\", \"A527D\", \"G540A\", \"K553E\"]\n",
    "pdc_203_muts = [\"S2D\", \"L38D\", \"G109A\", \"A207E\", \"G224A\", \"Q333E\", \"A357D\", \"V374I\", \"A376D\", \"G491A\", \"G515A\", \"G516A\", \"A519E\", \"A527D\", \"K553E\", \"G540A\"]\n",
    "pdc_202 = apply_mutations(wt_seq, pdc_202_muts)\n",
    "pdc_203 = apply_mutations(wt_seq, pdc_203_muts)"
   ]
  },
  {
   "cell_type": "code",
   "execution_count": 59,
   "id": "e1814d9c-521f-4018-b979-5c2a3acd0df2",
   "metadata": {},
   "outputs": [
    {
     "data": {
      "text/plain": [
       "'MDYTVGTYLAERLVQIGLKHHFAVAGDYNLVLLDNLLDNKNMEQVYCCNELNCGFSAEGYARAKGAAAAVVTYSVGALSAFDAIGGAYAENLPVILISGAPNNNDHAAAHVLHHALGKTDYHYQLEMAKNITAAAEAIYTPEEAPAKIDHVIKTALREKKPVYLEIACNIASMPCAAPGPASALFNDEASDEASLNAAVEETLKFIENRDKVAVLVGSKLRAAAAEEAAVKFADALGGAVATMAAAKSFFPEENPHYIGTSWGEVSYPGVEKTMKEADAVIALAPVFNDYSTTGWTDIPDPKKLVLAEPRSVVVNGIRFPSVHLKDYLTRLAEKVSKKTGALDFFKSLNAGELKKADPADPSAPLVNAEIARQIEDLLTPNTTVIAETGDSWFNAQRMKLPNGARVEYEMQWGHIGWSVPAAFGYAVGAPERRNILMVGDGSFQLTAQEVAQMVRLKLPVIIFLINNYGYTIEVMIHDGPYNNIKNWDYAALMEVFNGNGGYDSGAGKGLKAKTAAELEEAIKVALDNTDGPTLIECFIAREDCTEELVKWGERVAAANSRKPVNKLL'"
      ]
     },
     "execution_count": 59,
     "metadata": {},
     "output_type": "execute_result"
    }
   ],
   "source": [
    "pdc_203"
   ]
  },
  {
   "cell_type": "code",
   "execution_count": 46,
   "id": "526503c2-a73e-40ba-9649-92cdee5a1864",
   "metadata": {},
   "outputs": [
    {
     "name": "stdout",
     "output_type": "stream",
     "text": [
      "building embeddings for 3 embeddings using repr_layer = 33\n"
     ]
    },
    {
     "data": {
      "application/vnd.jupyter.widget-view+json": {
       "model_id": "3a52f78f36024bc6bb97f24c7cf44570",
       "version_major": 2,
       "version_minor": 0
      },
      "text/plain": [
       "  0%|          | 0/3 [00:00<?, ?it/s]"
      ]
     },
     "metadata": {},
     "output_type": "display_data"
    },
    {
     "name": "stdout",
     "output_type": "stream",
     "text": [
      "pdc_reps.shape = (3, 1280)\n"
     ]
    }
   ],
   "source": [
    "seqs = [wt_seq, pdc_202, pdc_203]\n",
    "print(f\"building embeddings for {len(seqs)} sequences using {repr_layer = }\")\n",
    "pdc_reps = get_seq_embeddings(model, seqs, repr_layer=repr_layer, batch_size=1)\n",
    "print(f\"{pdc_reps.shape = }\")"
   ]
  },
  {
   "cell_type": "code",
   "execution_count": 47,
   "id": "904c50bf-31cd-40e2-a6db-c383e8e02dac",
   "metadata": {},
   "outputs": [
    {
     "data": {
      "text/plain": [
       "array([50.107574, 49.430996, 49.747066], dtype=float32)"
      ]
     },
     "execution_count": 47,
     "metadata": {},
     "output_type": "execute_result"
    }
   ],
   "source": [
    "y_pred = head_model(torch.Tensor(pdc_reps)).detach().squeeze().numpy()\n",
    "y_pred"
   ]
  },
  {
   "cell_type": "markdown",
   "id": "476ef4d3-932e-4a93-9bc1-0115eb3b9c86",
   "metadata": {},
   "source": [
    "### Sutiono etal Table 1"
   ]
  },
  {
   "cell_type": "code",
   "execution_count": 99,
   "id": "ce16d111-b0ef-4fa5-9bba-87387565ef09",
   "metadata": {},
   "outputs": [
    {
     "data": {
      "text/html": [
       "<div>\n",
       "<style scoped>\n",
       "    .dataframe tbody tr th:only-of-type {\n",
       "        vertical-align: middle;\n",
       "    }\n",
       "\n",
       "    .dataframe tbody tr th {\n",
       "        vertical-align: top;\n",
       "    }\n",
       "\n",
       "    .dataframe thead th {\n",
       "        text-align: right;\n",
       "    }\n",
       "</style>\n",
       "<table border=\"1\" class=\"dataframe\">\n",
       "  <thead>\n",
       "    <tr style=\"text-align: right;\">\n",
       "      <th></th>\n",
       "      <th>enzyme</th>\n",
       "      <th>Tm</th>\n",
       "      <th>uniprot_id</th>\n",
       "      <th>mutations</th>\n",
       "      <th>sequence</th>\n",
       "    </tr>\n",
       "  </thead>\n",
       "  <tbody>\n",
       "    <tr>\n",
       "      <th>0</th>\n",
       "      <td>CgPDC</td>\n",
       "      <td>55.5</td>\n",
       "      <td>Q6FJA3</td>\n",
       "      <td>-</td>\n",
       "      <td>MSEITLGRYLFERLNQVDVKTIFGLPGDFNLSLLDKIYEVEGMRWA...</td>\n",
       "    </tr>\n",
       "    <tr>\n",
       "      <th>1</th>\n",
       "      <td>ZrPDC</td>\n",
       "      <td>50.5</td>\n",
       "      <td>A0A1Q2ZTD3(?)</td>\n",
       "      <td>-</td>\n",
       "      <td>MYVDTTSMGPTITIADYFFHRLKQLEVLTIFGLPGEFNAPLIDKLY...</td>\n",
       "    </tr>\n",
       "  </tbody>\n",
       "</table>\n",
       "</div>"
      ],
      "text/plain": [
       "  enzyme    Tm     uniprot_id mutations  \\\n",
       "0  CgPDC  55.5         Q6FJA3         -   \n",
       "1  ZrPDC  50.5  A0A1Q2ZTD3(?)         -   \n",
       "\n",
       "                                            sequence  \n",
       "0  MSEITLGRYLFERLNQVDVKTIFGLPGDFNLSLLDKIYEVEGMRWA...  \n",
       "1  MYVDTTSMGPTITIADYFFHRLKQLEVLTIFGLPGEFNAPLIDKLY...  "
      ]
     },
     "execution_count": 99,
     "metadata": {},
     "output_type": "execute_result"
    }
   ],
   "source": [
    "df_pdc_sutiono = pd.read_csv(\"/projects/robustmicrob/jlaw/projects/prot_stability_engineering/inputs/lit/pyruvate_decarboxylase_examples.csv\")\n",
    "df_pdc_sutiono.head(2)"
   ]
  },
  {
   "cell_type": "code",
   "execution_count": 148,
   "id": "64fb4b61-378d-499f-a0bf-e9fbef0753be",
   "metadata": {},
   "outputs": [],
   "source": [
    "# generate the embeddings for these sequences\n",
    "def get_seq_embeddings(model, seqs, repr_layer=33, batch_size=16):\n",
    "    \"\"\"\n",
    "    Generate an embedding for every sequence using the specified model\n",
    "    \"\"\"\n",
    "    batch_labels, batch_strs, batch_tokens = batch_converter(list(zip(np.arange(len(seqs)), seqs)))\n",
    "\n",
    "    batch_dataloader = torch.utils.data.DataLoader(batch_tokens,\n",
    "                                                   batch_size=batch_size,\n",
    "                                                   pin_memory=True,\n",
    "                                                   num_workers=8\n",
    "                                                  )\n",
    "\n",
    "    representations = []\n",
    "    with torch.no_grad():\n",
    "        for batch_idx, batch in tqdm(enumerate(batch_dataloader), total=len(batch_dataloader)):\n",
    "            out = model(batch.to(device), repr_layers=[repr_layer])  # because this is the 33-layer transformer\n",
    "            out = out['representations'][repr_layer].detach().to('cpu').numpy()\n",
    "\n",
    "            for i in range(len(batch)):\n",
    "                seq_idx = (batch_idx * batch_size) + i\n",
    "                representations += [out[i, 1:len(seqs[seq_idx]) + 1].mean(0).astype(np.float16)]\n",
    "\n",
    "            # if batch_idx == 0 or batch_idx % int(len(batch_dataloader) / 20.0) == 0:\n",
    "            #     # keep track of how much memory this script is using\n",
    "            #     print_memory_usage()\n",
    "    representations = np.vstack(representations)\n",
    "    return representations"
   ]
  },
  {
   "cell_type": "code",
   "execution_count": 157,
   "id": "be24a9c9-3a92-4be1-96e1-1b4b303262ba",
   "metadata": {},
   "outputs": [
    {
     "name": "stdout",
     "output_type": "stream",
     "text": [
      "building embeddings for 10 sequences using repr_layer = 33\n"
     ]
    },
    {
     "data": {
      "application/vnd.jupyter.widget-view+json": {
       "model_id": "cc0a858ba9354dfc80f5a0e57408e58f",
       "version_major": 2,
       "version_minor": 0
      },
      "text/plain": [
       "  0%|          | 0/2 [00:00<?, ?it/s]"
      ]
     },
     "metadata": {},
     "output_type": "display_data"
    },
    {
     "name": "stdout",
     "output_type": "stream",
     "text": [
      "pdc_reps.shape = (10, 1280)\n"
     ]
    }
   ],
   "source": [
    "print(f\"building embeddings for {len(df_pdc_sutiono)} sequences using {repr_layer = }\")\n",
    "pdc_reps = get_seq_embeddings(model, df_pdc_sutiono.sequence.values, repr_layer=repr_layer, batch_size=8)\n",
    "print(f\"{pdc_reps.shape = }\")"
   ]
  },
  {
   "cell_type": "code",
   "execution_count": 158,
   "id": "4fcb3b55-e830-4e36-b61e-2069d1e91907",
   "metadata": {},
   "outputs": [
    {
     "data": {
      "text/html": [
       "<div>\n",
       "<style scoped>\n",
       "    .dataframe tbody tr th:only-of-type {\n",
       "        vertical-align: middle;\n",
       "    }\n",
       "\n",
       "    .dataframe tbody tr th {\n",
       "        vertical-align: top;\n",
       "    }\n",
       "\n",
       "    .dataframe thead th {\n",
       "        text-align: right;\n",
       "    }\n",
       "</style>\n",
       "<table border=\"1\" class=\"dataframe\">\n",
       "  <thead>\n",
       "    <tr style=\"text-align: right;\">\n",
       "      <th></th>\n",
       "      <th>enzyme</th>\n",
       "      <th>Tm</th>\n",
       "      <th>uniprot_id</th>\n",
       "      <th>mutations</th>\n",
       "      <th>sequence</th>\n",
       "      <th>Tm_pred</th>\n",
       "    </tr>\n",
       "  </thead>\n",
       "  <tbody>\n",
       "    <tr>\n",
       "      <th>0</th>\n",
       "      <td>CgPDC</td>\n",
       "      <td>55.5</td>\n",
       "      <td>Q6FJA3</td>\n",
       "      <td>-</td>\n",
       "      <td>MSEITLGRYLFERLNQVDVKTIFGLPGDFNLSLLDKIYEVEGMRWA...</td>\n",
       "      <td>46.859035</td>\n",
       "    </tr>\n",
       "    <tr>\n",
       "      <th>1</th>\n",
       "      <td>ZrPDC</td>\n",
       "      <td>50.5</td>\n",
       "      <td>A0A1Q2ZTD3(?)</td>\n",
       "      <td>-</td>\n",
       "      <td>MYVDTTSMGPTITIADYFFHRLKQLEVLTIFGLPGEFNAPLIDKLY...</td>\n",
       "      <td>46.277348</td>\n",
       "    </tr>\n",
       "    <tr>\n",
       "      <th>2</th>\n",
       "      <td>ApPDC</td>\n",
       "      <td>-</td>\n",
       "      <td>Q8L388</td>\n",
       "      <td>-</td>\n",
       "      <td>MTYTVGMYLAERLVQIGLKHHFAVGGDYNLVLLDQLLLNKDMKQIY...</td>\n",
       "      <td>46.973988</td>\n",
       "    </tr>\n",
       "    <tr>\n",
       "      <th>3</th>\n",
       "      <td>ZmPDC</td>\n",
       "      <td>66.5</td>\n",
       "      <td>P06672</td>\n",
       "      <td>-</td>\n",
       "      <td>MSYTVGTYLAERLVQIGLKHHFAVAGDYNLVLLDNLLLNKNMEQVY...</td>\n",
       "      <td>46.564384</td>\n",
       "    </tr>\n",
       "    <tr>\n",
       "      <th>4</th>\n",
       "      <td>ZpPDC</td>\n",
       "      <td>65</td>\n",
       "      <td>Q8KTX6</td>\n",
       "      <td>-</td>\n",
       "      <td>MYTVGMYLAERLAQIGLKHHFAVAGDYNLVLLDQLLLNKDMEQVYC...</td>\n",
       "      <td>46.444767</td>\n",
       "    </tr>\n",
       "    <tr>\n",
       "      <th>5</th>\n",
       "      <td>5NPU7</td>\n",
       "      <td>55.5</td>\n",
       "      <td>-</td>\n",
       "      <td>-</td>\n",
       "      <td>-</td>\n",
       "      <td>51.594395</td>\n",
       "    </tr>\n",
       "    <tr>\n",
       "      <th>6</th>\n",
       "      <td>5TMA8</td>\n",
       "      <td>59.5</td>\n",
       "      <td>P06672</td>\n",
       "      <td>S2D, L38D, G109A, A207E, G224A, Q333E, A357D, ...</td>\n",
       "      <td>MDYTVGTYLAERLVQIGLKHHFAVAGDYNLVLLDNLLDNKNMEQVY...</td>\n",
       "      <td>46.487659</td>\n",
       "    </tr>\n",
       "    <tr>\n",
       "      <th>7</th>\n",
       "      <td>ApPDC</td>\n",
       "      <td>70</td>\n",
       "      <td>wt_seq</td>\n",
       "      <td>-</td>\n",
       "      <td>MTYTVGMYLAERLVQIGLKHHFAVAGDYNLVLLDQLLLNKDMKQIY...</td>\n",
       "      <td>47.094990</td>\n",
       "    </tr>\n",
       "    <tr>\n",
       "      <th>8</th>\n",
       "      <td>PDC-Var. 1</td>\n",
       "      <td>77</td>\n",
       "      <td>wt_seq</td>\n",
       "      <td>L84I, A100S, S103T, Q106Y, K118T, S122N, A128V...</td>\n",
       "      <td>MTYTVGMYLAERLVQIGLKHHFAVAGDYNLVLLDQLLLNKDMKQIY...</td>\n",
       "      <td>46.744820</td>\n",
       "    </tr>\n",
       "    <tr>\n",
       "      <th>9</th>\n",
       "      <td>PDC-Var. 2</td>\n",
       "      <td>82</td>\n",
       "      <td>wt_seq</td>\n",
       "      <td>L84I, A100S, S103T, Q106Y, K118T, S122N, A128V...</td>\n",
       "      <td>MTYTVGMYLAERLVQIGLKHHFAVAGDYNLVLLDQLLLNKDMKQIY...</td>\n",
       "      <td>46.855122</td>\n",
       "    </tr>\n",
       "  </tbody>\n",
       "</table>\n",
       "</div>"
      ],
      "text/plain": [
       "       enzyme    Tm     uniprot_id  \\\n",
       "0       CgPDC  55.5         Q6FJA3   \n",
       "1       ZrPDC  50.5  A0A1Q2ZTD3(?)   \n",
       "2       ApPDC     -         Q8L388   \n",
       "3       ZmPDC  66.5         P06672   \n",
       "4       ZpPDC    65         Q8KTX6   \n",
       "5       5NPU7  55.5              -   \n",
       "6       5TMA8  59.5         P06672   \n",
       "7       ApPDC    70         wt_seq   \n",
       "8  PDC-Var. 1    77         wt_seq   \n",
       "9  PDC-Var. 2    82         wt_seq   \n",
       "\n",
       "                                           mutations  \\\n",
       "0                                                  -   \n",
       "1                                                  -   \n",
       "2                                                  -   \n",
       "3                                                  -   \n",
       "4                                                  -   \n",
       "5                                                  -   \n",
       "6  S2D, L38D, G109A, A207E, G224A, Q333E, A357D, ...   \n",
       "7                                                 -    \n",
       "8  L84I, A100S, S103T, Q106Y, K118T, S122N, A128V...   \n",
       "9  L84I, A100S, S103T, Q106Y, K118T, S122N, A128V...   \n",
       "\n",
       "                                            sequence    Tm_pred  \n",
       "0  MSEITLGRYLFERLNQVDVKTIFGLPGDFNLSLLDKIYEVEGMRWA...  46.859035  \n",
       "1  MYVDTTSMGPTITIADYFFHRLKQLEVLTIFGLPGEFNAPLIDKLY...  46.277348  \n",
       "2  MTYTVGMYLAERLVQIGLKHHFAVGGDYNLVLLDQLLLNKDMKQIY...  46.973988  \n",
       "3  MSYTVGTYLAERLVQIGLKHHFAVAGDYNLVLLDNLLLNKNMEQVY...  46.564384  \n",
       "4  MYTVGMYLAERLAQIGLKHHFAVAGDYNLVLLDQLLLNKDMEQVYC...  46.444767  \n",
       "5                                                  -  51.594395  \n",
       "6  MDYTVGTYLAERLVQIGLKHHFAVAGDYNLVLLDNLLDNKNMEQVY...  46.487659  \n",
       "7  MTYTVGMYLAERLVQIGLKHHFAVAGDYNLVLLDQLLLNKDMKQIY...  47.094990  \n",
       "8  MTYTVGMYLAERLVQIGLKHHFAVAGDYNLVLLDQLLLNKDMKQIY...  46.744820  \n",
       "9  MTYTVGMYLAERLVQIGLKHHFAVAGDYNLVLLDQLLLNKDMKQIY...  46.855122  "
      ]
     },
     "execution_count": 158,
     "metadata": {},
     "output_type": "execute_result"
    }
   ],
   "source": [
    "y_pred = head_model(torch.Tensor(pdc_reps)).detach().squeeze().numpy()\n",
    "df_pdc_sutiono['Tm_pred'] = y_pred\n",
    "df_pdc_sutiono"
   ]
  },
  {
   "cell_type": "code",
   "execution_count": 166,
   "id": "5085fd0c-044d-4b80-a97d-387afb93496e",
   "metadata": {},
   "outputs": [
    {
     "data": {
      "text/html": [
       "<div>\n",
       "<style scoped>\n",
       "    .dataframe tbody tr th:only-of-type {\n",
       "        vertical-align: middle;\n",
       "    }\n",
       "\n",
       "    .dataframe tbody tr th {\n",
       "        vertical-align: top;\n",
       "    }\n",
       "\n",
       "    .dataframe thead th {\n",
       "        text-align: right;\n",
       "    }\n",
       "</style>\n",
       "<table border=\"1\" class=\"dataframe\">\n",
       "  <thead>\n",
       "    <tr style=\"text-align: right;\">\n",
       "      <th></th>\n",
       "      <th>Tm</th>\n",
       "      <th>Tm_pred</th>\n",
       "    </tr>\n",
       "    <tr>\n",
       "      <th>enzyme</th>\n",
       "      <th></th>\n",
       "      <th></th>\n",
       "    </tr>\n",
       "  </thead>\n",
       "  <tbody>\n",
       "    <tr>\n",
       "      <th>CgPDC</th>\n",
       "      <td>55.5</td>\n",
       "      <td>46.9</td>\n",
       "    </tr>\n",
       "    <tr>\n",
       "      <th>ZrPDC</th>\n",
       "      <td>50.5</td>\n",
       "      <td>46.3</td>\n",
       "    </tr>\n",
       "    <tr>\n",
       "      <th>ZmPDC</th>\n",
       "      <td>66.5</td>\n",
       "      <td>46.6</td>\n",
       "    </tr>\n",
       "    <tr>\n",
       "      <th>ZpPDC</th>\n",
       "      <td>65.0</td>\n",
       "      <td>46.4</td>\n",
       "    </tr>\n",
       "    <tr>\n",
       "      <th>5NPU7</th>\n",
       "      <td>55.5</td>\n",
       "      <td>51.6</td>\n",
       "    </tr>\n",
       "    <tr>\n",
       "      <th>5TMA8</th>\n",
       "      <td>59.5</td>\n",
       "      <td>46.5</td>\n",
       "    </tr>\n",
       "    <tr>\n",
       "      <th>ApPDC</th>\n",
       "      <td>70.0</td>\n",
       "      <td>47.1</td>\n",
       "    </tr>\n",
       "    <tr>\n",
       "      <th>PDC-Var. 1</th>\n",
       "      <td>77.0</td>\n",
       "      <td>46.7</td>\n",
       "    </tr>\n",
       "    <tr>\n",
       "      <th>PDC-Var. 2</th>\n",
       "      <td>82.0</td>\n",
       "      <td>46.9</td>\n",
       "    </tr>\n",
       "  </tbody>\n",
       "</table>\n",
       "</div>"
      ],
      "text/plain": [
       "              Tm  Tm_pred\n",
       "enzyme                   \n",
       "CgPDC       55.5     46.9\n",
       "ZrPDC       50.5     46.3\n",
       "ZmPDC       66.5     46.6\n",
       "ZpPDC       65.0     46.4\n",
       "5NPU7       55.5     51.6\n",
       "5TMA8       59.5     46.5\n",
       "ApPDC       70.0     47.1\n",
       "PDC-Var. 1  77.0     46.7\n",
       "PDC-Var. 2  82.0     46.9"
      ]
     },
     "execution_count": 166,
     "metadata": {},
     "output_type": "execute_result"
    }
   ],
   "source": [
    "df_pdc_sutiono[df_pdc_sutiono.Tm != '-'].set_index('enzyme')[['Tm', 'Tm_pred']].astype(float).round(1)"
   ]
  },
  {
   "cell_type": "code",
   "execution_count": 160,
   "id": "7d29147c-8276-401d-8b65-74b92b438c72",
   "metadata": {},
   "outputs": [
    {
     "data": {
      "text/plain": [
       "<AxesSubplot: xlabel='Tm', ylabel='Tm_pred'>"
      ]
     },
     "execution_count": 160,
     "metadata": {},
     "output_type": "execute_result"
    },
    {
     "data": {
      "image/png": "[encoded data removed]",
      "text/plain": [
       "<Figure size 640x480 with 1 Axes>"
      ]
     },
     "metadata": {},
     "output_type": "display_data"
    }
   ],
   "source": [
    "df_pdc_sutiono[['Tm', 'Tm_pred']].plot.scatter(x='Tm', y='Tm_pred')"
   ]
  },
  {
   "cell_type": "code",
   "execution_count": null,
   "id": "57f1c0d9-5b27-48a7-a1d4-af3c73071d52",
   "metadata": {},
   "outputs": [],
   "source": []
  }
 ],
 "metadata": {
  "kernelspec": {
   "display_name": "Python 3 (ipykernel)",
   "language": "python",
   "name": "python3"
  },
  "language_info": {
   "codemirror_mode": {
    "name": "ipython",
    "version": 3
   },
   "file_extension": ".py",
   "mimetype": "text/x-python",
   "name": "python",
   "nbconvert_exporter": "python",
   "pygments_lexer": "ipython3",
   "version": "3.10.8"
  }
 },
 "nbformat": 4,
 "nbformat_minor": 5
}
