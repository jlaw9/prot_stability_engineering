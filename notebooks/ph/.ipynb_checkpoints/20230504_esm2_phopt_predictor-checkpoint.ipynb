{
 "cells": [
  {
   "cell_type": "code",
   "execution_count": 2,
   "id": "6c939252-6652-4577-914c-349f03376a17",
   "metadata": {},
   "outputs": [],
   "source": [
    "import numpy as np\n",
    "import pandas as pd\n",
    "import os\n",
    "from Bio import SeqIO\n",
    "import itertools\n",
    "from typing import List, Tuple\n",
    "import string\n",
    "from pathlib import Path\n",
    "from tqdm.auto import tqdm, trange\n",
    "\n",
    "import matplotlib.pyplot as plt\n",
    "import seaborn as sns\n",
    "\n",
    "%matplotlib inline"
   ]
  },
  {
   "cell_type": "code",
   "execution_count": 3,
   "id": "f203ac03-82c5-495d-aaa8-89a67f756bc4",
   "metadata": {},
   "outputs": [],
   "source": [
    "from sklearn.metrics import mean_squared_error\n",
    "from scipy.stats import spearmanr\n",
    "from sklearn.linear_model import LinearRegression, Ridge\n",
    "from sklearn.kernel_ridge import KernelRidge"
   ]
  },
  {
   "cell_type": "code",
   "execution_count": 4,
   "id": "6dca5874-4b73-4fe3-a03a-f99b711259a6",
   "metadata": {},
   "outputs": [
    {
     "data": {
      "text/plain": [
       "True"
      ]
     },
     "execution_count": 4,
     "metadata": {},
     "output_type": "execute_result"
    }
   ],
   "source": [
    "import torch\n",
    "torch.cuda.is_available()"
   ]
  },
  {
   "cell_type": "code",
   "execution_count": 152,
   "id": "772fed3e-23c9-4877-b444-c78169f12d98",
   "metadata": {},
   "outputs": [
    {
     "name": "stderr",
     "output_type": "stream",
     "text": [
      "Using cache found in /scratch/jlaw/torch/facebookresearch_esm_main\n"
     ]
    }
   ],
   "source": [
    "torch.hub.set_dir('/scratch/jlaw/torch')\n",
    "model_name = \"esm2_t33_650M_UR50D\"\n",
    "# model_name = \"esm2_t36_3B_UR50D\"\n",
    "model, alphabet = torch.hub.load(\"facebookresearch/esm:main\", model_name)"
   ]
  },
  {
   "cell_type": "markdown",
   "id": "7af2cd31-65d6-4539-a865-7df11c7463a3",
   "metadata": {},
   "source": [
    "### Build/get embeddings"
   ]
  },
  {
   "cell_type": "code",
   "execution_count": 7,
   "id": "1e1e06d5-1ba3-45cd-895c-2da4aa733f72",
   "metadata": {},
   "outputs": [],
   "source": [
    "def read_embeddings(embed_file, sequence_idx_file):\n",
    "    \"\"\" Read embeddings stored in an npz file\n",
    "    Get the sequences at each index from the *sequence_idx_file\n",
    "    \"\"\"\n",
    "    embeddings = np.load(embed_file, allow_pickle=True)['arr_0']\n",
    "    sequences = pd.read_csv(sequence_idx_file)\n",
    "    print(f\"{len(embeddings) = } read from {embed_file}\")\n",
    "    print(f\"{len(sequences) = } read from {sequence_idx_file}\")\n",
    "    return embeddings, sequences"
   ]
  },
  {
   "cell_type": "code",
   "execution_count": 137,
   "id": "b08c084e-afb8-4b01-8308-cc22f25a12b5",
   "metadata": {},
   "outputs": [
    {
     "name": "stdout",
     "output_type": "stream",
     "text": [
      "len(embeddings) = 32563 read from /projects/robustmicrob/jlaw/inputs/meltome/embeddings/20230206_embeddings_esm2_t33_650M_UR50D.npz\n",
      "len(sequences) = 32563 read from /projects/robustmicrob/jlaw/inputs/meltome/embeddings/20230206_embeddings_seqs.csv\n"
     ]
    }
   ],
   "source": [
    "inputs_dir = Path(\"/projects/robustmicrob/jlaw/inputs/\")\n",
    "\n",
    "embeddings, df_seq = read_embeddings(Path(inputs_dir, \"meltome/embeddings/20230206_embeddings_esm2_t33_650M_UR50D.npz\"),\n",
    "                                     Path(inputs_dir, \"meltome/embeddings/20230206_embeddings_seqs.csv\"))\n"
   ]
  },
  {
   "cell_type": "code",
   "execution_count": 138,
   "id": "b6886c13-1b51-4774-b0a1-9a0ab405de23",
   "metadata": {},
   "outputs": [
    {
     "data": {
      "text/plain": [
       "array([[ 0.0489  ,  0.03082 ,  0.01162 , ..., -0.05386 , -0.066   ,\n",
       "         0.0444  ],\n",
       "       [ 0.05273 , -0.00738 ,  0.0226  , ..., -0.0486  , -0.03156 ,\n",
       "         0.05276 ],\n",
       "       [-0.0445  , -0.02527 ,  0.007755, ..., -0.1576  , -0.0394  ,\n",
       "         0.1561  ],\n",
       "       ...,\n",
       "       [ 0.0379  , -0.06665 ,  0.03192 , ..., -0.1265  ,  0.04446 ,\n",
       "         0.1527  ],\n",
       "       [-0.014   , -0.04172 ,  0.05765 , ..., -0.11554 , -0.0746  ,\n",
       "         0.05164 ],\n",
       "       [ 0.04132 , -0.08856 ,  0.005123, ..., -0.0745  ,  0.0307  ,\n",
       "         0.0845  ]], dtype=float16)"
      ]
     },
     "execution_count": 138,
     "metadata": {},
     "output_type": "execute_result"
    }
   ],
   "source": [
    "embeddings"
   ]
  },
  {
   "cell_type": "code",
   "execution_count": 139,
   "id": "72837c7e-89f0-49f1-a9e3-fe4bc1275c21",
   "metadata": {},
   "outputs": [
    {
     "data": {
      "text/html": [
       "<div>\n",
       "<style scoped>\n",
       "    .dataframe tbody tr th:only-of-type {\n",
       "        vertical-align: middle;\n",
       "    }\n",
       "\n",
       "    .dataframe tbody tr th {\n",
       "        vertical-align: top;\n",
       "    }\n",
       "\n",
       "    .dataframe thead th {\n",
       "        text-align: right;\n",
       "    }\n",
       "</style>\n",
       "<table border=\"1\" class=\"dataframe\">\n",
       "  <thead>\n",
       "    <tr style=\"text-align: right;\">\n",
       "      <th></th>\n",
       "      <th>uniprot</th>\n",
       "      <th>Tm</th>\n",
       "      <th>sequence</th>\n",
       "    </tr>\n",
       "  </thead>\n",
       "  <tbody>\n",
       "    <tr>\n",
       "      <th>0</th>\n",
       "      <td>A0A023T4K3</td>\n",
       "      <td>37.962947</td>\n",
       "      <td>MSGEEEKAADFYVRYYVGHKGKFGHEFLEFEFRPNGSLRYANNSNY...</td>\n",
       "    </tr>\n",
       "    <tr>\n",
       "      <th>1</th>\n",
       "      <td>A0A023T778</td>\n",
       "      <td>54.425342</td>\n",
       "      <td>MSMGSDFYLRYYVGHKGKFGHEFLEFEFRPDGKLRYANNSNYKNDV...</td>\n",
       "    </tr>\n",
       "    <tr>\n",
       "      <th>2</th>\n",
       "      <td>A0A061ACF5</td>\n",
       "      <td>49.459216</td>\n",
       "      <td>MRICFLLLAFLVAETFANELTRCCAGGTRHFKNSNTCSSIKSEGTS...</td>\n",
       "    </tr>\n",
       "    <tr>\n",
       "      <th>3</th>\n",
       "      <td>A0A061ACH4</td>\n",
       "      <td>42.593131</td>\n",
       "      <td>MIRVALPTTASAIPRSISTSPGETISKNHEEEVKRVWRKADAVCFD...</td>\n",
       "    </tr>\n",
       "    <tr>\n",
       "      <th>4</th>\n",
       "      <td>A0A061ACH8</td>\n",
       "      <td>37.999478</td>\n",
       "      <td>MNGDWSRAFVLSKVKNLYFFVIIDKGFSAILNDPREPVQVGGFFEV...</td>\n",
       "    </tr>\n",
       "    <tr>\n",
       "      <th>...</th>\n",
       "      <td>...</td>\n",
       "      <td>...</td>\n",
       "      <td>...</td>\n",
       "    </tr>\n",
       "    <tr>\n",
       "      <th>32558</th>\n",
       "      <td>Q9Y6X5</td>\n",
       "      <td>59.156044</td>\n",
       "      <td>MKLLVILLFSGLITGFRSDSSSSLPPKLLLVSFDGFRADYLKNYEF...</td>\n",
       "    </tr>\n",
       "    <tr>\n",
       "      <th>32559</th>\n",
       "      <td>Q9Y6X8</td>\n",
       "      <td>45.410797</td>\n",
       "      <td>MASKRKSTTPCMVRTSQVVEQDVPEEVDRAKEKGIGTPQPDVAKDS...</td>\n",
       "    </tr>\n",
       "    <tr>\n",
       "      <th>32560</th>\n",
       "      <td>Q9Y6X9</td>\n",
       "      <td>45.488338</td>\n",
       "      <td>MAFTNYSSLNRAQLTFEYLHTNSTTHEFLFGALAELVDNARDADAT...</td>\n",
       "    </tr>\n",
       "    <tr>\n",
       "      <th>32561</th>\n",
       "      <td>Q9Y6Y0</td>\n",
       "      <td>48.494270</td>\n",
       "      <td>MIPNGYLMFEDENFIESSVAKLNALRKSGQFCDVRLQVCGHEMLAH...</td>\n",
       "    </tr>\n",
       "    <tr>\n",
       "      <th>32562</th>\n",
       "      <td>Q9Y6Y8</td>\n",
       "      <td>48.578044</td>\n",
       "      <td>MAERKPNGGSGGASTSSSGTNLLFSSSATEFSFNVPFIPVTQASAS...</td>\n",
       "    </tr>\n",
       "  </tbody>\n",
       "</table>\n",
       "<p>32563 rows × 3 columns</p>\n",
       "</div>"
      ],
      "text/plain": [
       "          uniprot         Tm  \\\n",
       "0      A0A023T4K3  37.962947   \n",
       "1      A0A023T778  54.425342   \n",
       "2      A0A061ACF5  49.459216   \n",
       "3      A0A061ACH4  42.593131   \n",
       "4      A0A061ACH8  37.999478   \n",
       "...           ...        ...   \n",
       "32558      Q9Y6X5  59.156044   \n",
       "32559      Q9Y6X8  45.410797   \n",
       "32560      Q9Y6X9  45.488338   \n",
       "32561      Q9Y6Y0  48.494270   \n",
       "32562      Q9Y6Y8  48.578044   \n",
       "\n",
       "                                                sequence  \n",
       "0      MSGEEEKAADFYVRYYVGHKGKFGHEFLEFEFRPNGSLRYANNSNY...  \n",
       "1      MSMGSDFYLRYYVGHKGKFGHEFLEFEFRPDGKLRYANNSNYKNDV...  \n",
       "2      MRICFLLLAFLVAETFANELTRCCAGGTRHFKNSNTCSSIKSEGTS...  \n",
       "3      MIRVALPTTASAIPRSISTSPGETISKNHEEEVKRVWRKADAVCFD...  \n",
       "4      MNGDWSRAFVLSKVKNLYFFVIIDKGFSAILNDPREPVQVGGFFEV...  \n",
       "...                                                  ...  \n",
       "32558  MKLLVILLFSGLITGFRSDSSSSLPPKLLLVSFDGFRADYLKNYEF...  \n",
       "32559  MASKRKSTTPCMVRTSQVVEQDVPEEVDRAKEKGIGTPQPDVAKDS...  \n",
       "32560  MAFTNYSSLNRAQLTFEYLHTNSTTHEFLFGALAELVDNARDADAT...  \n",
       "32561  MIPNGYLMFEDENFIESSVAKLNALRKSGQFCDVRLQVCGHEMLAH...  \n",
       "32562  MAERKPNGGSGGASTSSSGTNLLFSSSATEFSFNVPFIPVTQASAS...  \n",
       "\n",
       "[32563 rows x 3 columns]"
      ]
     },
     "execution_count": 139,
     "metadata": {},
     "output_type": "execute_result"
    }
   ],
   "source": [
    "df_seq"
   ]
  },
  {
   "cell_type": "markdown",
   "id": "d01d4ac0-7707-4a31-bbe7-45db58041d94",
   "metadata": {},
   "source": [
    "### Baseline: logisitic regression on sequence embeddings to predict tm values"
   ]
  },
  {
   "cell_type": "code",
   "execution_count": 9,
   "id": "1e11f0a8-17df-4399-b072-500ebec5d8b2",
   "metadata": {},
   "outputs": [
    {
     "name": "stdout",
     "output_type": "stream",
     "text": [
      "27951\n"
     ]
    },
    {
     "data": {
      "text/html": [
       "<div>\n",
       "<style scoped>\n",
       "    .dataframe tbody tr th:only-of-type {\n",
       "        vertical-align: middle;\n",
       "    }\n",
       "\n",
       "    .dataframe tbody tr th {\n",
       "        vertical-align: top;\n",
       "    }\n",
       "\n",
       "    .dataframe thead th {\n",
       "        text-align: right;\n",
       "    }\n",
       "</style>\n",
       "<table border=\"1\" class=\"dataframe\">\n",
       "  <thead>\n",
       "    <tr style=\"text-align: right;\">\n",
       "      <th></th>\n",
       "      <th>sequence</th>\n",
       "      <th>target</th>\n",
       "      <th>set</th>\n",
       "      <th>validation</th>\n",
       "    </tr>\n",
       "  </thead>\n",
       "  <tbody>\n",
       "    <tr>\n",
       "      <th>0</th>\n",
       "      <td>MSGEEEKAADFYVRYYVGHKGKFGHEFLEFEFRPNGSLRYANNSNY...</td>\n",
       "      <td>37.962947</td>\n",
       "      <td>train</td>\n",
       "      <td>NaN</td>\n",
       "    </tr>\n",
       "    <tr>\n",
       "      <th>1</th>\n",
       "      <td>MSMGSDFYLRYYVGHKGKFGHEFLEFEFRPDGKLRYANNSNYKNDV...</td>\n",
       "      <td>54.425342</td>\n",
       "      <td>train</td>\n",
       "      <td>NaN</td>\n",
       "    </tr>\n",
       "  </tbody>\n",
       "</table>\n",
       "</div>"
      ],
      "text/plain": [
       "                                            sequence     target    set  \\\n",
       "0  MSGEEEKAADFYVRYYVGHKGKFGHEFLEFEFRPNGSLRYANNSNY...  37.962947  train   \n",
       "1  MSMGSDFYLRYYVGHKGKFGHEFLEFEFRPDGKLRYANNSNYKNDV...  54.425342  train   \n",
       "\n",
       "  validation  \n",
       "0        NaN  \n",
       "1        NaN  "
      ]
     },
     "execution_count": 9,
     "metadata": {},
     "output_type": "execute_result"
    }
   ],
   "source": [
    "# try using the same train/test splits that flip used\n",
    "df_split = pd.read_csv(Path(inputs_dir, \"meltome/flip/github/splits/mixed_split.csv\"))\n",
    "print(len(df_split))\n",
    "df_split.head(2)"
   ]
  },
  {
   "cell_type": "code",
   "execution_count": 10,
   "id": "366653e4-f663-4f9e-8fc7-6dd63b0d6883",
   "metadata": {},
   "outputs": [
    {
     "data": {
      "text/plain": [
       "train    24817\n",
       "test      3134\n",
       "Name: set, dtype: int64"
      ]
     },
     "execution_count": 10,
     "metadata": {},
     "output_type": "execute_result"
    }
   ],
   "source": [
    "df_split.set.value_counts()"
   ]
  },
  {
   "cell_type": "code",
   "execution_count": 11,
   "id": "a4197289-a7dc-4d2d-9121-fa440dd56eb5",
   "metadata": {},
   "outputs": [
    {
     "name": "stdout",
     "output_type": "stream",
     "text": [
      "26082\n"
     ]
    }
   ],
   "source": [
    "# df_split = df_split.set_index('sequence')\n",
    "# df_split_w_embed = df_split.loc[df_seq[df_seq.sequence.isin(df_split.index)].sequence]\n",
    "df_split_w_embed = df_split[df_split.sequence.isin(df_seq.sequence)]\n",
    "print(len(df_split_w_embed))"
   ]
  },
  {
   "cell_type": "code",
   "execution_count": 12,
   "id": "82971edf-d446-453f-a3a6-f9a100d965d6",
   "metadata": {},
   "outputs": [
    {
     "name": "stdout",
     "output_type": "stream",
     "text": [
      "[('MSGEEEKAADFYVRYYVGHKGKFGHEFLEFEFRPNGSLRYANNSNYKNDTMIRKEATVSESVLSELKRIIEDSEIMQEDDDNWPEPDKIGRQELEILYKNEHISFTTGKIGALADVNNSKDPDGLRSFYYLVQDLKCLVFSLIGLHFKIKPI', 0), ('MSMGSDFYLRYYVGHKGKFGHEFLEFEFRPDGKLRYANNSNYKNDVMIRKEAYVHKSVMEELKRIIDDSEITKEDDALWPPPDRVGRQELEIVIGDEHISFTTSKIGSLIDVNQSKDPEGLRVFYYLVQDLKCLVFSLIGLHFKIKPI', 1)]\n"
     ]
    }
   ],
   "source": [
    "# seq_idx = {seq: idx for idx, seq in df_seq.sequence.items\n",
    "seq_idx = dict(zip(df_seq.sequence, df_seq.index))\n",
    "print(list(seq_idx.items())[:2])"
   ]
  },
  {
   "cell_type": "code",
   "execution_count": 140,
   "id": "00c26c6d-47e0-4d07-b3b0-38ebab0636f2",
   "metadata": {},
   "outputs": [
    {
     "name": "stdout",
     "output_type": "stream",
     "text": [
      "23185 0.89\n",
      "2897 0.11\n"
     ]
    }
   ],
   "source": [
    "df_train = df_split_w_embed[df_split_w_embed.set == \"train\"]\n",
    "print(len(df_train), f\"{len(df_train) / len(df_split_w_embed):0.2f}\")\n",
    "\n",
    "# X_train = embeddings[df_seq[df_seq.sequence.isin(train_seq)].index]\n",
    "# y_train = df_seq[df_seq.sequence.isin(train_seq)].Tm\n",
    "# X_test = embeddings[df_seq[df_seq.sequence.isin(test)].index]\n",
    "# y_test = df_seq[df_seq.sequence.isin(test)].Tm\n",
    "# some of the sequences are repeated, so get their embeddings by index\n",
    "X_train = np.asarray([embeddings[seq_idx[seq]] for seq in df_train.sequence.values])\n",
    "y_train = df_train.target\n",
    "\n",
    "df_test = df_split_w_embed[df_split_w_embed.set == \"test\"]\n",
    "print(len(df_test), f\"{len(df_test) / len(df_split_w_embed):0.2f}\")\n",
    "X_test = np.asarray([embeddings[seq_idx[seq]] for seq in df_test.sequence.values])\n",
    "y_test = df_test.target"
   ]
  },
  {
   "cell_type": "code",
   "execution_count": 141,
   "id": "799de98b-5122-47c0-bae5-07dc3832aab7",
   "metadata": {},
   "outputs": [
    {
     "data": {
      "text/html": [
       "<style>#sk-container-id-2 {color: black;background-color: white;}#sk-container-id-2 pre{padding: 0;}#sk-container-id-2 div.sk-toggleable {background-color: white;}#sk-container-id-2 label.sk-toggleable__label {cursor: pointer;display: block;width: 100%;margin-bottom: 0;padding: 0.3em;box-sizing: border-box;text-align: center;}#sk-container-id-2 label.sk-toggleable__label-arrow:before {content: \"▸\";float: left;margin-right: 0.25em;color: #696969;}#sk-container-id-2 label.sk-toggleable__label-arrow:hover:before {color: black;}#sk-container-id-2 div.sk-estimator:hover label.sk-toggleable__label-arrow:before {color: black;}#sk-container-id-2 div.sk-toggleable__content {max-height: 0;max-width: 0;overflow: hidden;text-align: left;background-color: #f0f8ff;}#sk-container-id-2 div.sk-toggleable__content pre {margin: 0.2em;color: black;border-radius: 0.25em;background-color: #f0f8ff;}#sk-container-id-2 input.sk-toggleable__control:checked~div.sk-toggleable__content {max-height: 200px;max-width: 100%;overflow: auto;}#sk-container-id-2 input.sk-toggleable__control:checked~label.sk-toggleable__label-arrow:before {content: \"▾\";}#sk-container-id-2 div.sk-estimator input.sk-toggleable__control:checked~label.sk-toggleable__label {background-color: #d4ebff;}#sk-container-id-2 div.sk-label input.sk-toggleable__control:checked~label.sk-toggleable__label {background-color: #d4ebff;}#sk-container-id-2 input.sk-hidden--visually {border: 0;clip: rect(1px 1px 1px 1px);clip: rect(1px, 1px, 1px, 1px);height: 1px;margin: -1px;overflow: hidden;padding: 0;position: absolute;width: 1px;}#sk-container-id-2 div.sk-estimator {font-family: monospace;background-color: #f0f8ff;border: 1px dotted black;border-radius: 0.25em;box-sizing: border-box;margin-bottom: 0.5em;}#sk-container-id-2 div.sk-estimator:hover {background-color: #d4ebff;}#sk-container-id-2 div.sk-parallel-item::after {content: \"\";width: 100%;border-bottom: 1px solid gray;flex-grow: 1;}#sk-container-id-2 div.sk-label:hover label.sk-toggleable__label {background-color: #d4ebff;}#sk-container-id-2 div.sk-serial::before {content: \"\";position: absolute;border-left: 1px solid gray;box-sizing: border-box;top: 0;bottom: 0;left: 50%;z-index: 0;}#sk-container-id-2 div.sk-serial {display: flex;flex-direction: column;align-items: center;background-color: white;padding-right: 0.2em;padding-left: 0.2em;position: relative;}#sk-container-id-2 div.sk-item {position: relative;z-index: 1;}#sk-container-id-2 div.sk-parallel {display: flex;align-items: stretch;justify-content: center;background-color: white;position: relative;}#sk-container-id-2 div.sk-item::before, #sk-container-id-2 div.sk-parallel-item::before {content: \"\";position: absolute;border-left: 1px solid gray;box-sizing: border-box;top: 0;bottom: 0;left: 50%;z-index: -1;}#sk-container-id-2 div.sk-parallel-item {display: flex;flex-direction: column;z-index: 1;position: relative;background-color: white;}#sk-container-id-2 div.sk-parallel-item:first-child::after {align-self: flex-end;width: 50%;}#sk-container-id-2 div.sk-parallel-item:last-child::after {align-self: flex-start;width: 50%;}#sk-container-id-2 div.sk-parallel-item:only-child::after {width: 0;}#sk-container-id-2 div.sk-dashed-wrapped {border: 1px dashed gray;margin: 0 0.4em 0.5em 0.4em;box-sizing: border-box;padding-bottom: 0.4em;background-color: white;}#sk-container-id-2 div.sk-label label {font-family: monospace;font-weight: bold;display: inline-block;line-height: 1.2em;}#sk-container-id-2 div.sk-label-container {text-align: center;}#sk-container-id-2 div.sk-container {/* jupyter's `normalize.less` sets `[hidden] { display: none; }` but bootstrap.min.css set `[hidden] { display: none !important; }` so we also need the `!important` here to be able to override the default hidden behavior on the sphinx rendered scikit-learn.org. See: https://github.com/scikit-learn/scikit-learn/issues/21755 */display: inline-block !important;position: relative;}#sk-container-id-2 div.sk-text-repr-fallback {display: none;}</style><div id=\"sk-container-id-2\" class=\"sk-top-container\"><div class=\"sk-text-repr-fallback\"><pre>Ridge()</pre><b>In a Jupyter environment, please rerun this cell to show the HTML representation or trust the notebook. <br />On GitHub, the HTML representation is unable to render, please try loading this page with nbviewer.org.</b></div><div class=\"sk-container\" hidden><div class=\"sk-item\"><div class=\"sk-estimator sk-toggleable\"><input class=\"sk-toggleable__control sk-hidden--visually\" id=\"sk-estimator-id-2\" type=\"checkbox\" checked><label for=\"sk-estimator-id-2\" class=\"sk-toggleable__label sk-toggleable__label-arrow\">Ridge</label><div class=\"sk-toggleable__content\"><pre>Ridge()</pre></div></div></div></div></div>"
      ],
      "text/plain": [
       "Ridge()"
      ]
     },
     "execution_count": 141,
     "metadata": {},
     "output_type": "execute_result"
    }
   ],
   "source": [
    "ridge_reg = Ridge(alpha=1.0)\n",
    "# reg = KernelRidge(alpha=1.0, kernel=\"laplacian\")\n",
    "ridge_reg.fit(X_train, y_train)"
   ]
  },
  {
   "cell_type": "code",
   "execution_count": 142,
   "id": "afa6213d-bf69-4afd-b69f-dc2153c70127",
   "metadata": {},
   "outputs": [
    {
     "name": "stdout",
     "output_type": "stream",
     "text": [
      "mae = 4.948374698110976, mse = 42.31050298837661, rho = 0.6142133718137467\n"
     ]
    }
   ],
   "source": [
    "y_pred = ridge_reg.predict(X_test)\n",
    "\n",
    "rho, _ = spearmanr(y_pred, y_test)  # spearman\n",
    "mse = mean_squared_error(y_pred, y_test)  # Mean Squared Error\n",
    "mae = (y_pred - y_test).abs().mean()  # Mean Absolute Error\n",
    "print(f\"{mae = }, {mse = }, {rho = }\")"
   ]
  },
  {
   "cell_type": "code",
   "execution_count": 72,
   "id": "919342c0-89e0-4aa0-9510-d934f9825c59",
   "metadata": {},
   "outputs": [
    {
     "name": "stdout",
     "output_type": "stream",
     "text": [
      "alpha =0.0001, mae = 5.1, mse = 44.7, rho = 0.59\n",
      "alpha =0.001, mae = 5.1, mse = 44.7, rho = 0.59\n",
      "alpha =0.01, mae = 5.1, mse = 44.7, rho = 0.59\n",
      "alpha =0.1, mae = 5.1, mse = 44.6, rho = 0.59\n",
      "alpha =1.0, mae = 5.0, mse = 43.9, rho = 0.60\n",
      "alpha =10.0, mae = 5.0, mse = 42.6, rho = 0.61\n",
      "alpha =100.0, mae = 5.1, mse = 44.4, rho = 0.59\n"
     ]
    }
   ],
   "source": [
    "alphas = [10**x for x in np.arange(-4,3).astype(float)]\n",
    "for alpha in alphas:\n",
    "    ridge_reg = Ridge(alpha=alpha)\n",
    "    ridge_reg.fit(X_train, y_train)\n",
    "    y_pred = ridge_reg.predict(X_test)\n",
    "\n",
    "    rho, _ = spearmanr(y_pred, y_test)  # spearman\n",
    "    mse = mean_squared_error(y_pred, y_test)  # Mean Squared Error\n",
    "    mae = (y_pred - y_test).abs().mean()  # Mean Absolute Error\n",
    "    print(f\"{alpha =}, {mae = :0.1f}, {mse = :0.1f}, {rho = :0.2f}\")"
   ]
  },
  {
   "cell_type": "code",
   "execution_count": 82,
   "id": "f558fb1f-66ec-4451-be7f-23a26c726795",
   "metadata": {},
   "outputs": [
    {
     "data": {
      "image/png": "[encoded data removed]",
      "text/plain": [
       "<Figure size 640x480 with 1 Axes>"
      ]
     },
     "metadata": {},
     "output_type": "display_data"
    }
   ],
   "source": [
    "df = pd.DataFrame({'y_test': y_test, 'y_pred': y_pred})\n",
    "ax = df.plot.scatter(x='y_test', y='y_pred', alpha=0.3, lw=0, s=10)\n",
    "# sns.scatter(data=df, x='y_test', y='y_pred', alpha=0.6)\n",
    "\n",
    "ax.plot([30,100], [30,100], '--', alpha=0.6)\n",
    "plt.show()"
   ]
  },
  {
   "cell_type": "code",
   "execution_count": 83,
   "id": "e426eec5-5198-403e-94fe-5e2283935f2d",
   "metadata": {},
   "outputs": [
    {
     "data": {
      "text/plain": [
       "<AxesSubplot: >"
      ]
     },
     "execution_count": 83,
     "metadata": {},
     "output_type": "execute_result"
    },
    {
     "data": {
      "image/png": "[encoded data removed]",
      "text/plain": [
       "<Figure size 640x480 with 1 Axes>"
      ]
     },
     "metadata": {},
     "output_type": "display_data"
    }
   ],
   "source": [
    "df_train.target.hist(bins=30)"
   ]
  },
  {
   "cell_type": "markdown",
   "id": "d255950d-636e-42f5-b586-3b63f9f1b3ee",
   "metadata": {},
   "source": [
    "- Ridge regerssion: spearman r: 0.6\n",
    "- Kernel ridge regression (laplacian): spearman r: 0.625\n",
    "- NN: mae = 4.7, mse = 38.4, rho = 0.67"
   ]
  },
  {
   "cell_type": "markdown",
   "id": "49a3943b-1361-4e60-8b04-34ca084a5af9",
   "metadata": {},
   "source": [
    "### Build neural net on sequence embeddings"
   ]
  },
  {
   "cell_type": "code",
   "execution_count": 49,
   "id": "3c339ceb-94d9-43bb-b257-17e996e439b4",
   "metadata": {},
   "outputs": [
    {
     "name": "stdout",
     "output_type": "stream",
     "text": [
      "Collecting pytorch_lightning\n",
      "  Downloading pytorch_lightning-1.9.0-py3-none-any.whl (825 kB)\n",
      "\u001b[2K     \u001b[90m━━━━━━━━━━━━━━━━━━━━━━━━━━━━━━━━━━━━━━━\u001b[0m \u001b[32m825.8/825.8 kB\u001b[0m \u001b[31m6.7 MB/s\u001b[0m eta \u001b[36m0:00:00\u001b[0m00:01\u001b[0m00:01\u001b[0m\n",
      "\u001b[?25hRequirement already satisfied: torchmetrics>=0.7.0 in /home/jlaw/.conda/envs/tm/lib/python3.10/site-packages (from pytorch_lightning) (0.11.0)\n",
      "Requirement already satisfied: numpy>=1.17.2 in /home/jlaw/.conda/envs/tm/lib/python3.10/site-packages (from pytorch_lightning) (1.23.5)\n",
      "Requirement already satisfied: typing-extensions>=4.0.0 in /home/jlaw/.conda/envs/tm/lib/python3.10/site-packages (from pytorch_lightning) (4.4.0)\n",
      "Collecting lightning-utilities>=0.4.2\n",
      "  Downloading lightning_utilities-0.6.0.post0-py3-none-any.whl (18 kB)\n",
      "Requirement already satisfied: torch>=1.10.0 in /home/jlaw/.conda/envs/tm/lib/python3.10/site-packages (from pytorch_lightning) (1.13.1.post200)\n",
      "Requirement already satisfied: tqdm>=4.57.0 in /home/jlaw/.conda/envs/tm/lib/python3.10/site-packages (from pytorch_lightning) (4.64.1)\n",
      "Requirement already satisfied: fsspec[http]>2021.06.0 in /home/jlaw/.conda/envs/tm/lib/python3.10/site-packages (from pytorch_lightning) (2023.1.0)\n",
      "Requirement already satisfied: PyYAML>=5.4 in /home/jlaw/.conda/envs/tm/lib/python3.10/site-packages (from pytorch_lightning) (6.0)\n",
      "Requirement already satisfied: packaging>=17.1 in /home/jlaw/.conda/envs/tm/lib/python3.10/site-packages (from pytorch_lightning) (23.0)\n",
      "Requirement already satisfied: requests in /home/jlaw/.conda/envs/tm/lib/python3.10/site-packages (from fsspec[http]>2021.06.0->pytorch_lightning) (2.28.2)\n",
      "Collecting aiohttp!=4.0.0a0,!=4.0.0a1\n",
      "  Downloading aiohttp-3.8.3-cp310-cp310-manylinux_2_17_x86_64.manylinux2014_x86_64.whl (1.0 MB)\n",
      "\u001b[2K     \u001b[90m━━━━━━━━━━━━━━━━━━━━━━━━━━━━━━━━━━━━━━━━\u001b[0m \u001b[32m1.0/1.0 MB\u001b[0m \u001b[31m23.1 MB/s\u001b[0m eta \u001b[36m0:00:00\u001b[0m00:01\u001b[0m\n",
      "\u001b[?25hCollecting async-timeout<5.0,>=4.0.0a3\n",
      "  Downloading async_timeout-4.0.2-py3-none-any.whl (5.8 kB)\n",
      "Collecting aiosignal>=1.1.2\n",
      "  Downloading aiosignal-1.3.1-py3-none-any.whl (7.6 kB)\n",
      "Collecting multidict<7.0,>=4.5\n",
      "  Downloading multidict-6.0.4-cp310-cp310-manylinux_2_17_x86_64.manylinux2014_x86_64.whl (114 kB)\n",
      "\u001b[2K     \u001b[90m━━━━━━━━━━━━━━━━━━━━━━━━━━━━━━━━━━━━━━━\u001b[0m \u001b[32m114.5/114.5 kB\u001b[0m \u001b[31m8.2 MB/s\u001b[0m eta \u001b[36m0:00:00\u001b[0m\n",
      "\u001b[?25hCollecting frozenlist>=1.1.1\n",
      "  Downloading frozenlist-1.3.3-cp310-cp310-manylinux_2_5_x86_64.manylinux1_x86_64.manylinux_2_17_x86_64.manylinux2014_x86_64.whl (149 kB)\n",
      "\u001b[2K     \u001b[90m━━━━━━━━━━━━━━━━━━━━━━━━━━━━━━━━━━━━━━\u001b[0m \u001b[32m149.6/149.6 kB\u001b[0m \u001b[31m10.6 MB/s\u001b[0m eta \u001b[36m0:00:00\u001b[0m\n",
      "\u001b[?25hCollecting yarl<2.0,>=1.0\n",
      "  Downloading yarl-1.8.2-cp310-cp310-manylinux_2_17_x86_64.manylinux2014_x86_64.whl (264 kB)\n",
      "\u001b[2K     \u001b[90m━━━━━━━━━━━━━━━━━━━━━━━━━━━━━━━━━━━━━━\u001b[0m \u001b[32m264.0/264.0 kB\u001b[0m \u001b[31m18.2 MB/s\u001b[0m eta \u001b[36m0:00:00\u001b[0m\n",
      "\u001b[?25hRequirement already satisfied: attrs>=17.3.0 in /home/jlaw/.conda/envs/tm/lib/python3.10/site-packages (from aiohttp!=4.0.0a0,!=4.0.0a1->fsspec[http]>2021.06.0->pytorch_lightning) (22.2.0)\n",
      "Requirement already satisfied: charset-normalizer<3.0,>=2.0 in /home/jlaw/.conda/envs/tm/lib/python3.10/site-packages (from aiohttp!=4.0.0a0,!=4.0.0a1->fsspec[http]>2021.06.0->pytorch_lightning) (2.1.1)\n",
      "Requirement already satisfied: certifi>=2017.4.17 in /home/jlaw/.conda/envs/tm/lib/python3.10/site-packages (from requests->fsspec[http]>2021.06.0->pytorch_lightning) (2022.12.7)\n",
      "Requirement already satisfied: idna<4,>=2.5 in /home/jlaw/.conda/envs/tm/lib/python3.10/site-packages (from requests->fsspec[http]>2021.06.0->pytorch_lightning) (3.4)\n",
      "Requirement already satisfied: urllib3<1.27,>=1.21.1 in /home/jlaw/.conda/envs/tm/lib/python3.10/site-packages (from requests->fsspec[http]>2021.06.0->pytorch_lightning) (1.26.14)\n",
      "Installing collected packages: multidict, lightning-utilities, frozenlist, async-timeout, yarl, aiosignal, aiohttp, pytorch_lightning\n",
      "Successfully installed aiohttp-3.8.3 aiosignal-1.3.1 async-timeout-4.0.2 frozenlist-1.3.3 lightning-utilities-0.6.0.post0 multidict-6.0.4 pytorch_lightning-1.9.0 yarl-1.8.2\n"
     ]
    }
   ],
   "source": [
    "!pip install pytorch_lightning"
   ]
  },
  {
   "cell_type": "code",
   "execution_count": 17,
   "id": "3ad9e381-3efe-4f75-8449-181e79c7ca1e",
   "metadata": {},
   "outputs": [],
   "source": [
    "import torch\n",
    "from torch import nn\n",
    "import pytorch_lightning as pl\n",
    "import torchmetrics"
   ]
  },
  {
   "cell_type": "code",
   "execution_count": 18,
   "id": "bbfb2ed6-cce3-4375-8935-ba8c196d9ed8",
   "metadata": {},
   "outputs": [],
   "source": [
    "class NeuralNetwork(pl.LightningModule):\n",
    "    def __init__(self, initial_layer_size=1280):\n",
    "        super(NeuralNetwork, self).__init__()\n",
    "        self.linear_relu_stack = nn.Sequential(\n",
    "            nn.Linear(initial_layer_size, 512),\n",
    "            nn.ReLU(),            \n",
    "            nn.Linear(512, 512),\n",
    "            nn.ReLU(),\n",
    "            nn.Linear(512, 1),\n",
    "        )\n",
    "\n",
    "    def forward(self, x):\n",
    "        logits = self.linear_relu_stack(x)\n",
    "        return logits    \n",
    "\n",
    "    def training_step(self, batch, batch_idx):\n",
    "        x, y = batch\n",
    "        y_pred = self(x).squeeze(1)\n",
    "        loss = nn.functional.mse_loss(y_pred, y)\n",
    "        self.log('train_loss', loss)\n",
    "        return loss\n",
    "    \n",
    "    def validation_step(self, batch, batch_idx):\n",
    "        x, y = batch\n",
    "        y_pred = self(x).squeeze(1)\n",
    "        loss = nn.functional.mse_loss(y_pred, y)        \n",
    "        self.log(\"val_loss\", loss)\n",
    "        \n",
    "    def configure_optimizers(self):\n",
    "        optimizer = torch.optim.Adam(self.parameters(), lr=1e-3)\n",
    "        return optimizer"
   ]
  },
  {
   "cell_type": "code",
   "execution_count": 19,
   "id": "f1ae9480-7fa5-4a6e-97ae-d1bcd9d5bdac",
   "metadata": {},
   "outputs": [],
   "source": [
    "def fit_model(X_train, y_train, X_valid):\n",
    "    pl.seed_everything(42)\n",
    "    model = NeuralNetwork(initial_layer_size=X_train.shape[1])\n",
    "    \n",
    "    trainer = pl.Trainer(\n",
    "        # gpus=-1,\n",
    "        # devices=0,\n",
    "        accelerator=\"gpu\",\n",
    "        max_epochs=20,\n",
    "        check_val_every_n_epoch=5)\n",
    "    \n",
    "    train_dataset = torch.utils.data.TensorDataset(torch.Tensor(X_train).to(device), torch.Tensor(y_train).to(device))\n",
    "    # valid_dataset = torch.utils.data.TensorDataset(torch.Tensor(X_valid), torch.Tensor(y_valid))\n",
    "\n",
    "    train_loader = torch.utils.data.DataLoader(train_dataset, batch_size=32, shuffle=True)\n",
    "    # valid_loader = torch.utils.data.DataLoader(valid_dataset, batch_size=16, shuffle=False)\n",
    "\n",
    "    trainer.fit(model, train_loader)\n",
    "    \n",
    "    return model"
   ]
  },
  {
   "cell_type": "code",
   "execution_count": 21,
   "id": "90bb674b-deff-4987-9a04-ce918c4c6fad",
   "metadata": {},
   "outputs": [
    {
     "data": {
      "text/plain": [
       "'cuda:0'"
      ]
     },
     "execution_count": 21,
     "metadata": {},
     "output_type": "execute_result"
    }
   ],
   "source": [
    "device = 'cuda:0' if torch.cuda.is_available() else 'cpu'\n",
    "device"
   ]
  },
  {
   "cell_type": "code",
   "execution_count": 170,
   "id": "2449ca64-22ac-4285-a184-573fc61dc8ce",
   "metadata": {},
   "outputs": [
    {
     "name": "stderr",
     "output_type": "stream",
     "text": [
      "Global seed set to 42\n",
      "/home/jlaw/.conda/envs/tm/lib/python3.10/site-packages/lightning_fabric/plugins/environments/slurm.py:166: PossibleUserWarning: The `srun` command is available on your system but is not used. HINT: If your intention is to run Lightning on SLURM, prepend your python command with `srun` like so: srun python /home/jlaw/.conda/envs/tm/lib/python3.10/site-packag ...\n",
      "  rank_zero_warn(\n",
      "GPU available: True (cuda), used: True\n",
      "TPU available: False, using: 0 TPU cores\n",
      "IPU available: False, using: 0 IPUs\n",
      "HPU available: False, using: 0 HPUs\n",
      "/home/jlaw/.conda/envs/tm/lib/python3.10/site-packages/pytorch_lightning/trainer/configuration_validator.py:108: PossibleUserWarning: You defined a `validation_step` but have no `val_dataloader`. Skipping val loop.\n",
      "  rank_zero_warn(\n",
      "LOCAL_RANK: 0 - CUDA_VISIBLE_DEVICES: [0]\n",
      "\n",
      "  | Name              | Type       | Params\n",
      "-------------------------------------------------\n",
      "0 | linear_relu_stack | Sequential | 919 K \n",
      "-------------------------------------------------\n",
      "919 K     Trainable params\n",
      "0         Non-trainable params\n",
      "919 K     Total params\n",
      "3.676     Total estimated model params size (MB)\n",
      "/home/jlaw/.conda/envs/tm/lib/python3.10/site-packages/pytorch_lightning/trainer/connectors/data_connector.py:224: PossibleUserWarning: The dataloader, train_dataloader, does not have many workers which may be a bottleneck. Consider increasing the value of the `num_workers` argument` (try 36 which is the number of cpus on this machine) in the `DataLoader` init to improve performance.\n",
      "  rank_zero_warn(\n"
     ]
    },
    {
     "data": {
      "application/vnd.jupyter.widget-view+json": {
       "model_id": "816661fb9bb040e0be67f55ad061d5aa",
       "version_major": 2,
       "version_minor": 0
      },
      "text/plain": [
       "Training: 0it [00:00, ?it/s]"
      ]
     },
     "metadata": {},
     "output_type": "display_data"
    },
    {
     "name": "stderr",
     "output_type": "stream",
     "text": [
      "`Trainer.fit` stopped: `max_epochs=20` reached.\n"
     ]
    }
   ],
   "source": [
    "head_model = fit_model(X_train, y_train, X_test)"
   ]
  },
  {
   "cell_type": "code",
   "execution_count": 144,
   "id": "ef7205db-5f68-4483-a3f5-097501d0246c",
   "metadata": {},
   "outputs": [
    {
     "data": {
      "text/plain": [
       "array([43.2577996 , 56.2676989 , 51.51986719, ..., 52.37921963,\n",
       "       51.90910343, 48.13909514])"
      ]
     },
     "execution_count": 144,
     "metadata": {},
     "output_type": "execute_result"
    }
   ],
   "source": [
    "y_pred"
   ]
  },
  {
   "cell_type": "code",
   "execution_count": 171,
   "id": "ac89a77c-94a0-4130-98cd-fc97bdec5677",
   "metadata": {},
   "outputs": [
    {
     "name": "stdout",
     "output_type": "stream",
     "text": [
      "mae = 4.6, mse = 36.6, rho = 0.67\n"
     ]
    }
   ],
   "source": [
    "# y_pred = fit_predict(X_train, y_train, X_test).flatten()\n",
    "# y_pred = model(torch.Tensor(X_test).to('cuda')[2].unsqueeze(1).detach().cpu()\n",
    "y_pred = head_model(torch.Tensor(X_test)).detach().squeeze().numpy()\n",
    "\n",
    "rho, _ = spearmanr(y_pred, y_test)  # spearman\n",
    "mse = mean_squared_error(y_pred, y_test)  # Mean Squared Error\n",
    "mae = (y_pred - y_test).abs().mean()  # Mean Absolute Error\n",
    "print(f\"{mae = :0.1f}, {mse = :0.1f}, {rho = :0.2f}\")"
   ]
  },
  {
   "cell_type": "code",
   "execution_count": 172,
   "id": "339ef960-e4b5-45a2-9e8b-5771a40ffa5e",
   "metadata": {},
   "outputs": [
    {
     "data": {
      "image/png": "[encoded data removed]",
      "text/plain": [
       "<Figure size 640x480 with 1 Axes>"
      ]
     },
     "metadata": {},
     "output_type": "display_data"
    }
   ],
   "source": [
    "df = pd.DataFrame({'y_test': y_test, 'y_pred': y_pred})\n",
    "ax = df.plot.scatter(x='y_test', y='y_pred', alpha=0.3, lw=0, s=10)\n",
    "# sns.scatter(data=df, x='y_test', y='y_pred', alpha=0.6)\n",
    "\n",
    "ax.plot([30,100], [30,100], '--', alpha=0.6)\n",
    "plt.show()"
   ]
  },
  {
   "cell_type": "code",
   "execution_count": 167,
   "id": "2335c16a-8987-4cd0-beaa-a335d32190be",
   "metadata": {},
   "outputs": [
    {
     "data": {
      "text/plain": [
       "NeuralNetwork(\n",
       "  (linear_relu_stack): Sequential(\n",
       "    (0): Linear(in_features=1280, out_features=512, bias=True)\n",
       "    (1): ReLU()\n",
       "    (2): Linear(in_features=512, out_features=512, bias=True)\n",
       "    (3): ReLU()\n",
       "    (4): Linear(in_features=512, out_features=1, bias=True)\n",
       "  )\n",
       ")"
      ]
     },
     "execution_count": 167,
     "metadata": {},
     "output_type": "execute_result"
    }
   ],
   "source": [
    "head_model"
   ]
  },
  {
   "cell_type": "code",
   "execution_count": 174,
   "id": "f67676b7-e3d5-44e0-9c32-75372702afe4",
   "metadata": {},
   "outputs": [
    {
     "name": "stdout",
     "output_type": "stream",
     "text": [
      "/projects/robustmicrob/jlaw/inputs/meltome/embeddings/20230127_meltome_esm2_t33_650M_UR50D.pt\n"
     ]
    },
    {
     "ename": "ReferenceError",
     "evalue": "weakly-referenced object no longer exists",
     "output_type": "error",
     "traceback": [
      "\u001b[0;31m---------------------------------------------------------------------------\u001b[0m",
      "\u001b[0;31mReferenceError\u001b[0m                            Traceback (most recent call last)",
      "Input \u001b[0;32mIn [174]\u001b[0m, in \u001b[0;36m<cell line: 1>\u001b[0;34m()\u001b[0m\n\u001b[1;32m      2\u001b[0m out_file \u001b[38;5;241m=\u001b[39m Path(inputs_dir, \u001b[38;5;124mf\u001b[39m\u001b[38;5;124m\"\u001b[39m\u001b[38;5;124mmeltome/embeddings/20230127_meltome_\u001b[39m\u001b[38;5;132;01m{\u001b[39;00mmodel_name\u001b[38;5;132;01m}\u001b[39;00m\u001b[38;5;124m.pt\u001b[39m\u001b[38;5;124m\"\u001b[39m)\n\u001b[1;32m      3\u001b[0m \u001b[38;5;28mprint\u001b[39m(out_file)\n\u001b[0;32m----> 4\u001b[0m \u001b[43mtorch\u001b[49m\u001b[38;5;241;43m.\u001b[39;49m\u001b[43msave\u001b[49m\u001b[43m(\u001b[49m\u001b[43mhead_model\u001b[49m\u001b[43m,\u001b[49m\u001b[43m \u001b[49m\u001b[43mout_file\u001b[49m\u001b[43m)\u001b[49m\n",
      "File \u001b[0;32m~/.conda/envs/tm/lib/python3.10/site-packages/torch/serialization.py:423\u001b[0m, in \u001b[0;36msave\u001b[0;34m(obj, f, pickle_module, pickle_protocol, _use_new_zipfile_serialization)\u001b[0m\n\u001b[1;32m    421\u001b[0m \u001b[38;5;28;01mif\u001b[39;00m _use_new_zipfile_serialization:\n\u001b[1;32m    422\u001b[0m     \u001b[38;5;28;01mwith\u001b[39;00m _open_zipfile_writer(f) \u001b[38;5;28;01mas\u001b[39;00m opened_zipfile:\n\u001b[0;32m--> 423\u001b[0m         \u001b[43m_save\u001b[49m\u001b[43m(\u001b[49m\u001b[43mobj\u001b[49m\u001b[43m,\u001b[49m\u001b[43m \u001b[49m\u001b[43mopened_zipfile\u001b[49m\u001b[43m,\u001b[49m\u001b[43m \u001b[49m\u001b[43mpickle_module\u001b[49m\u001b[43m,\u001b[49m\u001b[43m \u001b[49m\u001b[43mpickle_protocol\u001b[49m\u001b[43m)\u001b[49m\n\u001b[1;32m    424\u001b[0m         \u001b[38;5;28;01mreturn\u001b[39;00m\n\u001b[1;32m    425\u001b[0m \u001b[38;5;28;01melse\u001b[39;00m:\n",
      "File \u001b[0;32m~/.conda/envs/tm/lib/python3.10/site-packages/torch/serialization.py:635\u001b[0m, in \u001b[0;36m_save\u001b[0;34m(obj, zip_file, pickle_module, pickle_protocol)\u001b[0m\n\u001b[1;32m    633\u001b[0m pickler \u001b[38;5;241m=\u001b[39m pickle_module\u001b[38;5;241m.\u001b[39mPickler(data_buf, protocol\u001b[38;5;241m=\u001b[39mpickle_protocol)\n\u001b[1;32m    634\u001b[0m pickler\u001b[38;5;241m.\u001b[39mpersistent_id \u001b[38;5;241m=\u001b[39m persistent_id\n\u001b[0;32m--> 635\u001b[0m \u001b[43mpickler\u001b[49m\u001b[38;5;241;43m.\u001b[39;49m\u001b[43mdump\u001b[49m\u001b[43m(\u001b[49m\u001b[43mobj\u001b[49m\u001b[43m)\u001b[49m\n\u001b[1;32m    636\u001b[0m data_value \u001b[38;5;241m=\u001b[39m data_buf\u001b[38;5;241m.\u001b[39mgetvalue()\n\u001b[1;32m    637\u001b[0m zip_file\u001b[38;5;241m.\u001b[39mwrite_record(\u001b[38;5;124m'\u001b[39m\u001b[38;5;124mdata.pkl\u001b[39m\u001b[38;5;124m'\u001b[39m, data_value, \u001b[38;5;28mlen\u001b[39m(data_value))\n",
      "File \u001b[0;32m~/.conda/envs/tm/lib/python3.10/site-packages/torch/serialization.py:590\u001b[0m, in \u001b[0;36m_save.<locals>.persistent_id\u001b[0;34m(obj)\u001b[0m\n\u001b[1;32m    584\u001b[0m \u001b[38;5;28;01mdef\u001b[39;00m \u001b[38;5;21mpersistent_id\u001b[39m(obj):\n\u001b[1;32m    585\u001b[0m     \u001b[38;5;66;03m# FIXME: the docs say that persistent_id should only return a string\u001b[39;00m\n\u001b[1;32m    586\u001b[0m     \u001b[38;5;66;03m# but torch store returns tuples. This works only in the binary protocol\u001b[39;00m\n\u001b[1;32m    587\u001b[0m     \u001b[38;5;66;03m# see\u001b[39;00m\n\u001b[1;32m    588\u001b[0m     \u001b[38;5;66;03m# https://docs.python.org/2/library/pickle.html#pickling-and-unpickling-external-objects\u001b[39;00m\n\u001b[1;32m    589\u001b[0m     \u001b[38;5;66;03m# https://github.com/python/cpython/blob/master/Lib/pickle.py#L527-L537\u001b[39;00m\n\u001b[0;32m--> 590\u001b[0m     \u001b[38;5;28;01mif\u001b[39;00m \u001b[38;5;28;43misinstance\u001b[39;49m\u001b[43m(\u001b[49m\u001b[43mobj\u001b[49m\u001b[43m,\u001b[49m\u001b[43m \u001b[49m\u001b[43mtorch\u001b[49m\u001b[38;5;241;43m.\u001b[39;49m\u001b[43mstorage\u001b[49m\u001b[38;5;241;43m.\u001b[39;49m\u001b[43mTypedStorage\u001b[49m\u001b[43m)\u001b[49m \u001b[38;5;129;01mor\u001b[39;00m torch\u001b[38;5;241m.\u001b[39mis_storage(obj):\n\u001b[1;32m    592\u001b[0m         \u001b[38;5;28;01mif\u001b[39;00m \u001b[38;5;28misinstance\u001b[39m(obj, torch\u001b[38;5;241m.\u001b[39mstorage\u001b[38;5;241m.\u001b[39mTypedStorage):\n\u001b[1;32m    593\u001b[0m             \u001b[38;5;66;03m# TODO: Once we decide to break serialization FC, this case\u001b[39;00m\n\u001b[1;32m    594\u001b[0m             \u001b[38;5;66;03m# can be deleted\u001b[39;00m\n\u001b[1;32m    595\u001b[0m             storage \u001b[38;5;241m=\u001b[39m obj\u001b[38;5;241m.\u001b[39m_storage\n",
      "\u001b[0;31mReferenceError\u001b[0m: weakly-referenced object no longer exists"
     ]
    }
   ],
   "source": [
    "# if __name__ == \"__main__\":\n",
    "    out_file = Path(inputs_dir, f\"meltome/embeddings/20230127_meltome_{model_name}.pt\")\n",
    "    print(out_file)\n",
    "    torch.save(head_model, out_file)"
   ]
  },
  {
   "cell_type": "code",
   "execution_count": null,
   "id": "f1b82855-1105-44b8-8269-24affbb14d47",
   "metadata": {},
   "outputs": [],
   "source": []
  },
  {
   "cell_type": "markdown",
   "id": "22522a60-369e-4cc1-8249-7a79b475a295",
   "metadata": {},
   "source": [
    "### Also try predicting for specific sequences"
   ]
  },
  {
   "cell_type": "code",
   "execution_count": 25,
   "id": "f88bfa08-2ace-4efb-9659-2d09f7bab1ee",
   "metadata": {},
   "outputs": [
    {
     "data": {
      "text/plain": [
       "NeuralNetwork(\n",
       "  (linear_relu_stack): Sequential(\n",
       "    (0): Linear(in_features=1280, out_features=512, bias=True)\n",
       "    (1): ReLU()\n",
       "    (2): Linear(in_features=512, out_features=512, bias=True)\n",
       "    (3): ReLU()\n",
       "    (4): Linear(in_features=512, out_features=1, bias=True)\n",
       "  )\n",
       ")"
      ]
     },
     "execution_count": 25,
     "metadata": {},
     "output_type": "execute_result"
    }
   ],
   "source": [
    "model"
   ]
  },
  {
   "cell_type": "code",
   "execution_count": 29,
   "id": "6444c40d-a851-4f57-b352-abc39bb21deb",
   "metadata": {},
   "outputs": [],
   "source": [
    "head_model = model"
   ]
  },
  {
   "cell_type": "code",
   "execution_count": 54,
   "id": "51c35214-bb7a-429a-8494-9c4aa50d8e85",
   "metadata": {},
   "outputs": [
    {
     "data": {
      "text/html": [
       "<div>\n",
       "<style scoped>\n",
       "    .dataframe tbody tr th:only-of-type {\n",
       "        vertical-align: middle;\n",
       "    }\n",
       "\n",
       "    .dataframe tbody tr th {\n",
       "        vertical-align: top;\n",
       "    }\n",
       "\n",
       "    .dataframe thead th {\n",
       "        text-align: right;\n",
       "    }\n",
       "</style>\n",
       "<table border=\"1\" class=\"dataframe\">\n",
       "  <thead>\n",
       "    <tr style=\"text-align: right;\">\n",
       "      <th></th>\n",
       "      <th>seq_id</th>\n",
       "      <th>mutation</th>\n",
       "      <th>sequence</th>\n",
       "    </tr>\n",
       "  </thead>\n",
       "  <tbody>\n",
       "    <tr>\n",
       "      <th>0</th>\n",
       "      <td>WT</td>\n",
       "      <td>NaN</td>\n",
       "      <td>MTYTVGMYLAERLVQIGLKHHFAVAGDYNLVLLDQLLLNKDMKQIY...</td>\n",
       "    </tr>\n",
       "    <tr>\n",
       "      <th>1</th>\n",
       "      <td>&gt;pCB131</td>\n",
       "      <td>M296</td>\n",
       "      <td>MTYTVGMYLAERLVQIGLKHHFAVAGDYNLVLLDQLLLNKDMKQIY...</td>\n",
       "    </tr>\n",
       "    <tr>\n",
       "      <th>2</th>\n",
       "      <td>&gt;pCB139</td>\n",
       "      <td>M297</td>\n",
       "      <td>MYTVGMYLAERLAQIGLKHHFAVAGDYNLVLLDQLLLNKDMEQVYC...</td>\n",
       "    </tr>\n",
       "    <tr>\n",
       "      <th>3</th>\n",
       "      <td>&gt;pCB140</td>\n",
       "      <td>M298</td>\n",
       "      <td>MTYTVGHYLAERLTQIGLKHHFAVAGDYNLVLLDQLIEQGGTKQIY...</td>\n",
       "    </tr>\n",
       "    <tr>\n",
       "      <th>4</th>\n",
       "      <td>&gt;pCB141</td>\n",
       "      <td>M299</td>\n",
       "      <td>MTYTVGMYLAERLSQIGLKHHFAVAGDFNLVLLDQLLVNKEMEQVY...</td>\n",
       "    </tr>\n",
       "  </tbody>\n",
       "</table>\n",
       "</div>"
      ],
      "text/plain": [
       "    seq_id mutation                                           sequence\n",
       "0       WT      NaN  MTYTVGMYLAERLVQIGLKHHFAVAGDYNLVLLDQLLLNKDMKQIY...\n",
       "1  >pCB131     M296  MTYTVGMYLAERLVQIGLKHHFAVAGDYNLVLLDQLLLNKDMKQIY...\n",
       "2  >pCB139     M297  MYTVGMYLAERLAQIGLKHHFAVAGDYNLVLLDQLLLNKDMEQVYC...\n",
       "3  >pCB140     M298  MTYTVGHYLAERLTQIGLKHHFAVAGDYNLVLLDQLIEQGGTKQIY...\n",
       "4  >pCB141     M299  MTYTVGMYLAERLSQIGLKHHFAVAGDFNLVLLDQLLVNKEMEQVY..."
      ]
     },
     "execution_count": 54,
     "metadata": {},
     "output_type": "execute_result"
    }
   ],
   "source": [
    "seqs_file = \"/projects/bpms/jlaw/projects/pyruvate_decarboxylase_engineering/pdc_seqs.txt\"\n",
    "df_pdc = pd.read_csv(seqs_file, header=None, names=['seq_id', 'mutation', 'sequence'])\n",
    "df_pdc['sequence'] = df_pdc.sequence.str.replace('HHHHHH-','')\n",
    "df_pdc"
   ]
  },
  {
   "cell_type": "code",
   "execution_count": 56,
   "id": "38a5a40c-7057-4d99-af5d-834972f74cb1",
   "metadata": {},
   "outputs": [
    {
     "data": {
      "text/plain": [
       "0    558\n",
       "1    558\n",
       "2    556\n",
       "3    563\n",
       "4    558\n",
       "Name: sequence, dtype: int64"
      ]
     },
     "execution_count": 56,
     "metadata": {},
     "output_type": "execute_result"
    }
   ],
   "source": [
    "df_pdc.sequence.apply(len)"
   ]
  },
  {
   "cell_type": "code",
   "execution_count": 5,
   "id": "0cabb146-2939-4bbc-b80d-0eace3808217",
   "metadata": {},
   "outputs": [
    {
     "data": {
      "text/plain": [
       "'MTYTVGMYLAERLVQIGLKHHFAVAGDYNLVLLDQLLLNKDMKQIYCCNELNCGFSAEGYARSNGAAAAVVTFSVGAISAMNAIGGAYAENLPVILISGSPNTNDYGTGHILHHTIGTTDYNYQLEMVKHVTCAAESIVSAEEAPAKIDHVIRTALRERKPAYLDIACNIASEPCVRPGPVSSLLSEPEIDHTSLKAAVDATVALLEKSASPVMLLGSKLRAANALAATETLADKLQCAVTIMAAAKGFFPEDHAGFRGLYWGEVSNPGVQELVETSDALLCIAPVFNDYSTVGWSAWPKGPNVILAEPDRVTVDGRAYDGFTLRAFLQALAEKAPARPASAQKSSVPTCSLTATSDEAGLTNDEIVRHINALLTSNTTLVAETGDSWFNAMRMTLPRGARVELEMQWGHIGWSVPSAFGNAMGSQDRQHVVMVGDGSFQVTAQEVAQMVRYELPVIIFLINNRGYVIEIAIHDGPYNYIKNWDYAGLMEVFNAGEGHGLGLKATTPKELTEAIARAKANTRGPTLIECQIDRTDCTDMLVQWGRKVASTNARKTTLA'"
      ]
     },
     "execution_count": 5,
     "metadata": {},
     "output_type": "execute_result"
    }
   ],
   "source": [
    "wt = df.sequence.values[0]\n",
    "wt"
   ]
  },
  {
   "cell_type": "code",
   "execution_count": 55,
   "id": "75d3b9fb-3a91-49a0-834c-1342ef77aaf1",
   "metadata": {},
   "outputs": [
    {
     "data": {
      "text/plain": [
       "array(['MTYTVGMYLAERLVQIGLKHHFAVAGDYNLVLLDQLLLNKDMKQIYCCNELNCGFSAEGYARSNGAAAAVVTFSVGAISAMNAIGGAYAENLPVILISGSPNTNDYGTGHILHHTIGTTDYNYQLEMVKHVTCAAESIVSAEEAPAKIDHVIRTALRERKPAYLDIACNIASEPCVRPGPVSSLLSEPEIDHTSLKAAVDATVALLEKSASPVMLLGSKLRAANALAATETLADKLQCAVTIMAAAKGFFPEDHAGFRGLYWGEVSNPGVQELVETSDALLCIAPVFNDYSTVGWSAWPKGPNVILAEPDRVTVDGRAYDGFTLRAFLQALAEKAPARPASAQKSSVPTCSLTATSDEAGLTNDEIVRHINALLTSNTTLVAETGDSWFNAMRMTLPRGARVELEMQWGHIGWSVPSAFGNAMGSQDRQHVVMVGDGSFQVTAQEVAQMVRYELPVIIFLINNRGYVIEIAIHDGPYNYIKNWDYAGLMEVFNAGEGHGLGLKATTPKELTEAIARAKANTRGPTLIECQIDRTDCTDMLVQWGRKVASTNARKTTLA',\n",
       "       'MTYTVGMYLAERLVQIGLKHHFAVAGDYNLVLLDQLLLNKDMKQIYCCNELNCGFSAEGYARSNGAAAAVVTFSVGAISAMNAIGGAYAENLPVILISGSPNTNDYGTGHILHHTIGTTDYNYQLEMVKHVTCAAESIVSAEEAPAKIDHVIRTALRERKPAYLDIACNIASEPCVRPGPVSSLLSEPEIDHTSLKAAVDATVALLEKSASPVMLLGSKLRAANALAATETLADKLQCAVTIMAAAKGFFPEDHAGFRGLYWGEVSNPGVQELVETSDALLCIAPVFNDYSTVGWSAWPKGPNVILAEPDRVTVDGRAYDGFTLRAFLQALAEKAPARPASAQKSSVPTCSLTATSDEAGLTNDEIVRHINALLTSNTTLVAETGDSWFNAMRMTLPRGARVELEMQWGHIGWSVPSAFGNAMGSQDRQHVVMVGDGSFQVTAQEVAQMVRYELPVIIFLINNRGYVIEIAIHDGPYNYIKNWDYAGLMEVFNAGEGHGLGLKATTPKELTEAIARAKANTRGPTLIECQIDRTDCTDMLVQWGRKVASTNARKTTLA',\n",
       "       'MYTVGMYLAERLAQIGLKHHFAVAGDYNLVLLDQLLLNKDMEQVYCCNELNCGFSAEGYARARGAAAAIVTFSVGAISAMNAIGGAYAENLPVILISGSPNTNDYGTGHILHHTIGTTDYNYQLEMVKHVTCAAESIVSAEEAPAKIDHVIRTALRERKPAYLEIACNVAGAECVRPGPINSLLRELEVDQTSVTAAVDAAVEWLQDRQNVVMLVGSKLRAAAAEKQAVALADRLGCAVTIMAAAKGFFPEDHPNFRGLYWGEVSSEGAQELVENADAILCLAPVFNDYATVGWNSWPKGDNVMVMDTDRVTFAGQSFEGLSLSTFAAALAEKAPSRPATTQGTQAPVLGIEAAEPNAPLTNDEMTRQIQSLITSDTTLTAETGDSWFNASRMPIPGGARVELEMQWGHIGWSVPSAFGNAVGSPERRHIMMVGDGSFQLTAQEVAQMIRYEIPVIIFLINNRGYVIEIAIHDGPYNYIKNWNYAGLIDVFNDEDGHGLGLKASTGAELEGAIKKALDNRRGPTLIECNIAQDDCTETLIAWGKRVAATNSRKPQA',\n",
       "       'MTYTVGHYLAERLTQIGLKHHFAVAGDYNLVLLDQLIEQGGTKQIYDCNELNCSFAAEGYARANGAAAAVITFSVGAISAMNGLGGAYAENLPILVISGAPNSNDHGSGHVLHHTIGTTDYSYQMEMAKHVTCAAESITSAETAPAKIDHVIRTMLREKKPAFLEIACNISAAPCVRPGPVSSLHAHPRPDEASLKAALDESLSFLNKTNKVAILVGTKLRAAEALKETVELADKLGCPVTVMAAAKSYFPETHPGFRGVYWGDVSSPGAQEIIEGADAVICLAPVWNDYSSGGWKSVVRGEKVLEVDPNRVTVNGKTFEGFRLKEFVKALTEKAPKKSAALTGEYKPVMLPKADPSKPLSNDEMTRQINELVDGNTTLFAETGDSWFNAVRMHLPEGAKVETEMQWGHIGWSVPSMFGNATASPERKHVLMVGDGSFQLTAQEVAQMVRYELPVIIFLVNNHGYVIEMAIHDGPYNYIQNWDYAALMQCFNQGVPGEESGKYGLGLHATTGAELAEAIAKAKKNTRGPTLIECKLDRTDCTKTLVEWGKAVAAANSRKPQSV',\n",
       "       'MTYTVGMYLAERLSQIGLKHHFAVAGDFNLVLLDQLLVNKEMEQVYCCNELNCGFSAEGYARAHGAAAAVVTFSVGAISAMNAIAGAYAENLPVILISGSPNSNDYGTGHILHHTLGTNDYTYQLEMMRHVTCAAESITDAASAPAKIDHVIRTALRERKPAYVEIACNVSDAECVRPGPVSSLLAELRADDVSLKAAVEASLALLEKSQRVTMIVGSKVRAAHAQTQTEHLADKLGCAVTIMAAAKSFFPEDHKGFRGLYWGDVSSPGAQELVEKSDALICVAPVFNDYSTVGWTAWPKGDNVLLAEPNRVTVGGKTYEGFTLREFLEELAKKAPSRPLTAQESKKHTPVIEASKGDARLTNDEMTRQINAMLTSDTTLVAETGDSWFNATRMDLPRGARVELEMQWGHIGWSVPSAFGNAMGSQERQHILMVGDGSFQLTAQEMAQMVRYKLPVIIFLVNNRGYVIEIAIHDGPYNYIKNWDYAGLMEVFNAEDGHGLGLKATTAGELEEAIKKAKTNREGPTIIECQIERSDCTKTLVEWGKKVAAANSRKPQVS'],\n",
       "      dtype=object)"
      ]
     },
     "execution_count": 55,
     "metadata": {},
     "output_type": "execute_result"
    }
   ],
   "source": [
    "df_pdc.sequence.values"
   ]
  },
  {
   "cell_type": "code",
   "execution_count": 156,
   "id": "45b2edd9-fe57-4d38-ac49-8ec36c374193",
   "metadata": {},
   "outputs": [],
   "source": [
    "# model, alphabet = torch.hub.load(\"facebookresearch/esm:main\", model_name)\n",
    "device = 'cuda:0' if torch.cuda.is_available() else 'cpu'\n",
    "model.eval()  # disables dropout for deterministic results\n",
    "model = model.to(device)\n",
    "batch_converter = alphabet.get_batch_converter()\n",
    "# get the representations from the last layer\n",
    "repr_layer = model.num_layers"
   ]
  },
  {
   "cell_type": "code",
   "execution_count": 57,
   "id": "93317b61-5b4f-4f3a-b20d-b5d0a1e1aa04",
   "metadata": {},
   "outputs": [
    {
     "name": "stdout",
     "output_type": "stream",
     "text": [
      "building embeddings for 5 embeddings using repr_layer = 33\n"
     ]
    },
    {
     "data": {
      "application/vnd.jupyter.widget-view+json": {
       "model_id": "74880722baf848f9b02ef77ff2af3503",
       "version_major": 2,
       "version_minor": 0
      },
      "text/plain": [
       "  0%|          | 0/5 [00:00<?, ?it/s]"
      ]
     },
     "metadata": {},
     "output_type": "display_data"
    },
    {
     "name": "stdout",
     "output_type": "stream",
     "text": [
      "pd_reps.shape = (5, 1280)\n"
     ]
    }
   ],
   "source": [
    "print(f\"building embeddings for {len(df_pdc)} embeddings using {repr_layer = }\")\n",
    "# print(\"current memory usage:\")\n",
    "# print_memory_usage()\n",
    "# with autocast():\n",
    "pdc_reps = get_seq_embeddings(model, df_pdc.sequence.values, repr_layer=repr_layer, batch_size=1)\n",
    "print(f\"{pdc_reps.shape = }\")"
   ]
  },
  {
   "cell_type": "code",
   "execution_count": 58,
   "id": "96c2611f-b99d-4536-90e8-e383d3130f97",
   "metadata": {},
   "outputs": [
    {
     "data": {
      "text/plain": [
       "array([48.356644, 48.356644, 47.259327, 48.632538, 47.968735],\n",
       "      dtype=float32)"
      ]
     },
     "execution_count": 58,
     "metadata": {},
     "output_type": "execute_result"
    }
   ],
   "source": [
    "y_pred = head_model(torch.Tensor(pdc_reps)).detach().squeeze().numpy()\n",
    "y_pred"
   ]
  },
  {
   "cell_type": "markdown",
   "id": "d077185e-85ee-4c52-b2d8-4ce6534655d0",
   "metadata": {},
   "source": [
    "### Predict for pyuvate decarboxylase\n",
    "- wt_tm = 62\n",
    "- pdc_202 = ? - should be > wt_tm, but < pdc_203\n",
    "- pdc_203 = 90"
   ]
  },
  {
   "cell_type": "code",
   "execution_count": 44,
   "id": "f596f19b-7d77-4db7-adb8-7c4b50b25f18",
   "metadata": {},
   "outputs": [
    {
     "data": {
      "text/plain": [
       "'AFCDE'"
      ]
     },
     "execution_count": 44,
     "metadata": {},
     "output_type": "execute_result"
    }
   ],
   "source": [
    "def apply_mutations(seq, muts):\n",
    "    mut_seq = list(seq)\n",
    "    for mut in muts:\n",
    "        wt_aa, idx, mut_aa = mut[0], mut[1:-1], mut[-1]\n",
    "        seq_idx = int(idx) - 1\n",
    "        if wt_aa != seq[seq_idx]:\n",
    "            print(f\"WARNING: {wt_aa = } != {seq[seq_idx] = }\")\n",
    "        mut_seq[seq_idx] = mut_aa\n",
    "    return ''.join(mut_seq)\n",
    "\n",
    "apply_mutations(\"ABCDE\", [\"B2F\"])"
   ]
  },
  {
   "cell_type": "code",
   "execution_count": 63,
   "id": "b4e98f39-0e87-48ed-b1ac-10291422ed0d",
   "metadata": {},
   "outputs": [
    {
     "data": {
      "text/plain": [
       "['B2F']"
      ]
     },
     "execution_count": 63,
     "metadata": {},
     "output_type": "execute_result"
    }
   ],
   "source": [
    "def get_mutations(wt_seq, mut_seq):\n",
    "    mutations = []\n",
    "    for i, aa in enumerate(wt_seq):\n",
    "        if aa != mut_seq[i]:\n",
    "            mut = f\"{aa}{i + 1}{mut_seq[i]}\"\n",
    "            mutations.append(mut)\n",
    "    return mutations\n",
    "\n",
    "get_mutations(\"ABCDE\", \"AFCDE\")"
   ]
  },
  {
   "cell_type": "code",
   "execution_count": null,
   "id": "30a6162b-bbb2-46a0-a636-3c7f2626042a",
   "metadata": {},
   "outputs": [],
   "source": [
    "A397P"
   ]
  },
  {
   "cell_type": "code",
   "execution_count": 70,
   "id": "aa4e5f4c-4dae-4956-a885-27c84cd6b2a9",
   "metadata": {},
   "outputs": [],
   "source": [
    "test = [1,2,3].insert(0,5)\n",
    "test"
   ]
  },
  {
   "cell_type": "code",
   "execution_count": 85,
   "id": "93fa6aaa-d8ae-406a-851f-0c8cdcc010f8",
   "metadata": {},
   "outputs": [
    {
     "name": "stdout",
     "output_type": "stream",
     "text": [
      "558 558 558\n"
     ]
    }
   ],
   "source": [
    "wt_seq = \"MTYTVGMYLAERLVQIGLKHHFAVGGDYNLVLLDQLLLNKDMKQIYCCNELNCGFSAEGYARSNGAAAAVVTFSVGAISAMNALGGAYAENLPVILISGAPNSNDQGTGHILHHTIGKTDYSYQLEMARQVTCAAESITDAHSAPAKIDHVIRTALRERKPAYLDIACNIASEPCVRPGPVSSLLSEPEIDHTSLKAAVDATVALLKNRPAPVMLLGSKLRAANALAATETLADKLQCAVTIMAAAKGFFPEDHAGFRGLYWGEVSNPGVQELVETSDALLCIAPVFNDYSTVGWSGMPKGPNVILAEPDRVTVDGRAYDGFTLRAFLQALAEKAPARPASAQKSSVPTCSLTATSDEAGLTNDEIVRHINALLTSNTTLVAETGDSWFNAMRMTLAGARVELEMQWGHIGWSVPSAFGNAMGSQDRQHVVMVGDGSFQLTAQEVAQMVRYELPVIIFLINNRGYVIEIAIHDGPYNYIKNWDYAGLMEVFNAGEGHGLGLKATTPKELTEAIARAKANTRGPTLIECQIDRTDCTDMLVQWGRKVASTNARKTTLA\"\n",
    "wt_seq = list(wt_seq)\n",
    "wt_seq.insert(397, 'A')\n",
    "wt_seq = ''.join(wt_seq)\n",
    "# wt_seq\n",
    "# wt_seq2 = \"MTYTVGMYLAERLSQIGLKHHFAVAGDFNLVLLDQLLANKEMEQVYCCNELNCGFSAEGYARAHGAAAAVVTFSVGAISAMNAIAGAYAENLPVILISGSPNSNDYGTGHILHHTLGTNDYTYQLEMMRHVTCAAESITDAASAPAKIDHVIRTALRERKPAYVEIACNISDAECVRPGPVSSLLAELRVDDVSLKAAVEASLALLEKSQRVTMIVGSKVRAAHAQTQTEHLADKLGCAVTIMAAAKSFFPEDHKGFRGLYWGDVSSPGAQELVEKSDALICVAPVFNDYSTVGWTAWPKGDNVLLAEPNRVTVGGKTYEGFTLREFLEELAKKAPSRPLTAQESKKHTPVIEAYKADARLTNDEMTRQINAMLTSDTTLVAETGDSWFNATRMDLPRGARVELEMQWGHIGWSVPSAFGNAMGSQERQHILMVGDGSFQLTAQEMAQMVRYKLPVIIFLVNNRGYVIEIAIHDGPYNYIKNWDYAGLMEVFNAEDGHGLGLKATTAGELEEAIKKAKANREGPTIIECQIERSDCTKTLVEWGKKVAAANSRKPQVS\"\n",
    "pdc_var2 = \"MTYTVGMYLAERLVQIGLKHHFAVAGDYNLVLLDQLLLNKDMKQIYCCNELNCGFSAEGYARSNGAAAAVVTFSVGAISAMNAIGGAYAENLPVILISGSPNTNDYGTGHILHHTIGTTDYNYQLEMVKHVTCAAESIVSAEEAPAKIDHVIRTALRERKPAYLDIACNIASEPCVRPGPVSSLLSEPEIDHTSLKAAVDATVALLEKSASPVMLLGSKLRAANALAATETLADKLQCAVTIMAAAKGFFPEDHAGFRGLYWGEVSNPGVQELVETSDALLCIAPVFNDYSTVGWSAWPKGPNVILAEPDRVTVDGRAYDGFTLRAFLQALAEKAPARPASAQKSSVPTCSLTATSDEAGLTNDEIVRHINALLTSNTTLVAETGDSWFNAMRMTLPRGARVELEMQWGHIGWSVPSAFGNAMGSQDRQHVVMVGDGSFQVTAQEVAQMVRYELPVIIFLINNRGYVIEIAIHDGPYNYIKNWDYAGLMEVFNAGEGHGLGLKATTPKELTEAIARAKANTRGPTLIECQIDRTDCTDMLVQWGRKVASTNARKTTLA\"\n",
    "print(len(wt_seq), len(wt_seq2), len(pdc_var2))\n",
    "pdc_var2_muts = get_mutations(wt_seq, pdc_var2)"
   ]
  },
  {
   "cell_type": "code",
   "execution_count": 75,
   "id": "1906447f-0b68-482c-8e4c-dd7dae435e8f",
   "metadata": {},
   "outputs": [
    {
     "data": {
      "text/plain": [
       "24"
      ]
     },
     "execution_count": 75,
     "metadata": {},
     "output_type": "execute_result"
    }
   ],
   "source": [
    "len(pdc_var2_muts)"
   ]
  },
  {
   "cell_type": "code",
   "execution_count": 91,
   "id": "594e20fa-8e74-47bc-9632-c83af85a905d",
   "metadata": {},
   "outputs": [
    {
     "name": "stdout",
     "output_type": "stream",
     "text": [
      "WARNING: wt_aa = 'G' != seq[seq_idx] = 'A'\n",
      "WARNING: wt_aa = 'N' != seq[seq_idx] = 'K'\n",
      "WARNING: wt_aa = 'R' != seq[seq_idx] = 'S'\n",
      "WARNING: wt_aa = 'P' != seq[seq_idx] = 'A'\n",
      "WARNING: wt_aa = 'A' != seq[seq_idx] = 'S'\n",
      "WARNING: wt_aa = 'G' != seq[seq_idx] = 'A'\n",
      "WARNING: wt_aa = 'M' != seq[seq_idx] = 'W'\n",
      "WARNING: wt_aa = 'A' != seq[seq_idx] = 'P'\n",
      "WARNING: wt_aa = 'A' != seq[seq_idx] = 'R'\n"
     ]
    },
    {
     "data": {
      "text/plain": [
       "15"
      ]
     },
     "execution_count": 91,
     "metadata": {},
     "output_type": "execute_result"
    }
   ],
   "source": [
    "# should have 13 mutations\n",
    "corrected_wt_seq = list(wt_seq)\n",
    "corrections = ['G25A','N208K','R209S','P210A', 'A211S', 'G297A', 'M298W', 'A397P', 'A398R']\n",
    "apply_corrections = [f\"{mut[-1]}{mut[1:-1]}{mut[0]}\" for mut in corrections]\n",
    "wt_seq = apply_mutations(wt_seq, corrections)\n",
    "pdc_var2_muts = get_mutations(wt_seq, pdc_var2)\n",
    "len(pdc_var2_muts)"
   ]
  },
  {
   "cell_type": "code",
   "execution_count": 90,
   "id": "b2380022-0657-4e7f-908d-51ad3ffcb6bf",
   "metadata": {},
   "outputs": [
    {
     "name": "stdout",
     "output_type": "stream",
     "text": [
      "L84I, A100S, S103T, Q106Y, K118T, S122N, A128V, R129K, Q130H, T139V, D140S, H142E, S143E, K207E, L441V\n"
     ]
    }
   ],
   "source": [
    "print(', '.join(apply_mutations(wt_seq, pdc_var2_muts)))"
   ]
  },
  {
   "cell_type": "code",
   "execution_count": 94,
   "id": "0abc9b40-fbe5-488a-963b-d31df3586975",
   "metadata": {},
   "outputs": [],
   "source": [
    "pdc_var1 = apply_mutations(wt_seq, pdc_var2_muts[:-1])"
   ]
  },
  {
   "cell_type": "code",
   "execution_count": 97,
   "id": "95333875-1061-4e7c-8884-9190d695ed55",
   "metadata": {},
   "outputs": [
    {
     "name": "stdout",
     "output_type": "stream",
     "text": [
      "L84I, A100S, S103T, Q106Y, K118T, S122N, A128V, R129K, Q130H, T139V, D140S, H142E, S143E, K207E\n"
     ]
    }
   ],
   "source": [
    "print(', '.join(get_mutations(wt_seq, pdc_var1)))"
   ]
  },
  {
   "cell_type": "code",
   "execution_count": 88,
   "id": "7c2408d0-b01b-4ccd-b658-98fe7ab1a2d7",
   "metadata": {},
   "outputs": [
    {
     "data": {
      "text/plain": [
       "'MTYTVGMYLAERLVQIGLKHHFAVAGDYNLVLLDQLLLNKDMKQIYCCNELNCGFSAEGYARSNGAAAAVVTFSVGAISAMNALGGAYAENLPVILISGAPNSNDQGTGHILHHTIGKTDYSYQLEMARQVTCAAESITDAHSAPAKIDHVIRTALRERKPAYLDIACNIASEPCVRPGPVSSLLSEPEIDHTSLKAAVDATVALLKKSASPVMLLGSKLRAANALAATETLADKLQCAVTIMAAAKGFFPEDHAGFRGLYWGEVSNPGVQELVETSDALLCIAPVFNDYSTVGWSAWPKGPNVILAEPDRVTVDGRAYDGFTLRAFLQALAEKAPARPASAQKSSVPTCSLTATSDEAGLTNDEIVRHINALLTSNTTLVAETGDSWFNAMRMTLPRGARVELEMQWGHIGWSVPSAFGNAMGSQDRQHVVMVGDGSFQLTAQEVAQMVRYELPVIIFLINNRGYVIEIAIHDGPYNYIKNWDYAGLMEVFNAGEGHGLGLKATTPKELTEAIARAKANTRGPTLIECQIDRTDCTDMLVQWGRKVASTNARKTTLA'"
      ]
     },
     "execution_count": 88,
     "metadata": {},
     "output_type": "execute_result"
    }
   ],
   "source": [
    "wt_seq"
   ]
  },
  {
   "cell_type": "code",
   "execution_count": 80,
   "id": "40a68e8e-be12-4427-88be-073d447d3892",
   "metadata": {},
   "outputs": [
    {
     "name": "stdout",
     "output_type": "stream",
     "text": [
      "558 123\n",
      "558 123\n",
      "558 121\n",
      "558 120\n",
      "558 121\n",
      "558 122\n",
      "558 120\n"
     ]
    }
   ],
   "source": [
    "test_seqs = {'A0A368AB54': 'MTYTVGMYLAERLSQIGLKHHFAVAGDFNLVLLDQLLANKEMEQVYCCNELNCGFSAEGYARAHGAAAAVVTFSVGAISAMNAIAGAYAENLPVILISGSPNSNDYGTGHILHHTLGTNDYTYQLEMMRHVTCAAESITDAASAPAKIDHVIRTALRERKPAYVEIACNVSDAECVRPGPVSSLLAELRVDDVSLKAAVEASLALLEKSQRVTVIVGSKVRAAHAQTQTEHLADKLGCAVTIMAAAKSFFPEDHKGFRGLYWGDVSSPGAQELVEKSDALICVAPVFNDYSTVGWTAWPKGDNVLLAEPNRVTVGGKTYEGFTLREFLEELAKKAPSRPLTAQESKKHTPVIEVSKADARLTNDEMTRQINAMLTSDTTLVAETGDSWFNATRMDLPRGARVELEMQWGHIGWSVPSAFGNAMGSQERQHILMVGDGSFQLTAQEMAQMVRYKLPVIIFLVNNRGYVIEIAIHDGPYNYIKNWDYAGLMEVFNAEDGHGLGLKATTAGELEEAIKKAKANREGPTIIECQIERSDCTKTLVEWGKKVAAANSRKPQVS',\n",
    "'A0A401WMT0': 'MTYTVGMYLAERLSQIGLKHHFAVAGDFNLVLLDQLLANKEMEQVYCCNELNCGFSAEGYARAHGAAAAVVTFSVGAISAMNAIAGAYAENLPVILISGSPNSNDYGTGHILHHTLGTNDYTYQLEMMRHVTCAAESITDAASAPAKIDHVIRTALRERKPAYVEIACNVSDAECVRPGPVSSLLAELRVDDVSLKAAVEASLALLEKSQRVTVIVGSKVRAAHAQTQTEHLADKLGCAVTIMAAAKSFFPEDHKGFRGLYWGDVSSPGAQELVEKSDALICVAPVFNDYSTVGWTAWPKGDNVLLAEPNRVTVGGKTYEGFTLREFLEELAKKAPSRPLTAQESKKHTPVIEVSKADARLTNDEMTRQINAMLTSDTTLVAETGDSWFNATRMDLPRGARVELEMQWGHIGWSVPSAFGNAMGSQERQHILMVGDGSFQLTAQEMAQMVRYKLPVIIFLVNNRGYVIEIAIHDGPYNYIKNWDYAGLMEVFNAEDGHGLGLKATTAGELEEAIKKAKANREGPTIIECQIERSDCTKTLVEWGKKVAAANSRKPQVS',\n",
    "'A0A401WW73': 'MTYTVGMYLAERLSQIGLKHHFAVAGDFNLVLLDQLLANKEMEQVYCCNELNCGFSAEGYARAHGAAAAVVTFSVGAISAMNAIAGAYAENLPVILISGSPNSNDYGTGHILHHTLGTNDYTYQLEMMRHVTCAAESITDAASAPAKIDHVIRTALRERKPAYVEIACNVSDAECVRPGPVSSLLAELRVDDVSLKAAVEASLALLEKSQRVTMIVGSKVRAAHAQTQTEHLADKLGCAVTIMAAAKSFFPEDHKGFRGLYWGDVSSPGAQELVEKSDALICVAPVFNDYSTVGWTAWPKGDNVLLAEPNRVTVGGKTYEGFTLREFLEELAKKAPSRPLTAQESKKHTPVIEASKADARLTNDEMTRQINAMLTSDTTLVAETGDSWFNATRMDLPRGARVELEMQWGHIGWSVPSAFGNAMGSQERQHILMVGDGSFQLTAQEMAQMVRYKLPVIIFLVNNRGYVIEIAIHDGPYNYIKNWDYAGLMEVFNAEDGHGLGLKATTAGELEEAIKKAKANREGPTIIECQIERSDCTKTLVEWGKKVAAANSRKPQVS',\n",
    "'A0A401XFT9': 'MTYTVGMYLAERLSQIGLKHHFAVAGDFNLVLLDQLLANKEMEQVYCCNELNCGFSAEGYARAHGAAAAVVTFSVGAISAMNAIAGAYAENLPVILISGSPNSNDYGTGHILHHTLGTNDYTYQLEMMRHVTCAAESITDAASAPAKIDHVIRTALRERKPAYVEIACNISDAECVRPGPVSSLLAELRVDDVSLKAAVEASLALLEKSQRVTMIVGSKVRAAHAQTQTEHLADKLGCAVTIMAAAKSFFPEDHKGFRGLYWGDVSSPGAQELVEKSDALICVAPVFNDYSTVGWTAWPKGDNVLLAEPNRVTVGGKTYEGFTLREFLEELAKKAPSRPLTAQESKKHTPVIEASKADARLTNDEMTRQINAMLTSDTTLVAETGDSWFNATRMDLPRGARVELEMQWGHIGWSVPSAFGNAMGSQERQHILMVGDGSFQLTAQEMAQMVRYKLPVIIFLVNNRGYVIEIAIHDGPYNYIKNWDYAGLMEVFNAEDGHGLGLKATTAGELEEAIKKAKANREGPTIIECQIERSDCTKTLVEWGKKVAAANSRKPQVS',\n",
    "'A0A6P1QD67': 'MTYTVGMYLAERLSQIGLKHHFAVAGDFNLVLLDQLLANKEMEQVYCCNELNCGFSAEGYARAHGAAAAVVTFSVGAISAMNAIAGAYAENLPVILISGSPNSNDYGTGHILHHTLGTNDYTYQLEMMRHVTCAAESITDAASAPAKIDHVIRTALRERKPAYVEIACNISDAECVRPGPVSSLLAELRVDDVSLKAAVEASLALLEKSQRVTMIVGSKVRAAHAQTQTEHLANKLGCAVTIMAAAKSFFPEDHKGFRGLYWGDVSSPGAQELVEKSDALICVAPVFNDYSTVGWTAWPKGDNVLLAEPNRVTVGGKTYEGFTLREFLEELAKKAPSRPLTAQESKKHTPVIEASKADARLTNDEMTRQINAMLTSDTTLVAETGDSWFNATRMDLPRGARVELEMQWGHIGWSVPSAFGNAMGSQERQHILMVGDGSFQLTAQEMAQMVRYKLPVIIFLVNNRGYVIEIAIHDGPYNYIKNWDYAGLMEVFNAEDGHGLGLKATTAGELEEAIKKAKANREGPTIIECQIERSDCTKTLVEWGKKVAAANSRKPQVS',\n",
    "'C7JF72': 'MTYTVGMYLAERLSQIGLKHHFAVAGDFNLVLLDQLLVNKEMEQVYCCNELNCGFSAEGYARAHGAAAAVVTFSVGAISAMNAIAGAYAENLPVILISGSPNSNDYGTGHILHHTLGTNDYTYQLEMMRHVTCAAESITDAASAPAKIDHVIRTALRERKPAYVEIACNVSDAECVRPGPVSSLLAELRADDVSLKAAVEASLALLEKSQRVTMIVGSKVRAAHAQTQTEHLADKLGCAVTIMAAAKSFFPEDHKGFRGLYWGDVSSPGAQELVEKSDALICVAPVFNDYSTVGWTAWPKGDNVLLAEPNRVTVGGKTYEGFTLREFLEELAKKAPSRPLTAQESKKHTPVIEASKGDARLTNDEMTRQINAMLTSDTTLVAETGDSWFNATRMDLPRGARVELEMQWGHIGWSVPSAFGNAMGSQERQHILMVGDGSFQLTAQEMAQMVRYKLPVIIFLVNNRGYVIEIAIHDGPYNYIKNWDYAGLMEVFNAEDGHGLGLKATTAGELEEAIKKAKTNREGPTIIECQIERSDCTKTLVEWGKKVAAANSRKPQVS',\n",
    "'S6DAL0': 'MTYTVGMYLAERLSQIGLKHHFAVAGDFNLVLLDQLLANKEMEQVYCCNELNCGFSAEGYARAHGAAAAVVTFSVGAISAMNAIAGAYAENLPVILISGSPNSNDYGTGHILHHTLGTNDYTYQLEMMRHVTCAAESITDAASAPAKIDHVIRTALRERKPAYVEIACNISDAECVRPGPVSSLLAELRVDDVSLKAAVEASLALLEKSQRVTMIVGSKVRAAHAQTQTEHLADKLGCAVTIMAAAKSFFPEDHKGFRGLYWGDVSSPGAQELVEKSDALICVAPVFNDYSTVGWTAWPKGDNVLLAEPNRVTVGGKTYEGFTLREFLEELAKKAPSRPLTAQESKKHTPVIEAYKADARLTNDEMTRQINAMLTSDTTLVAETGDSWFNATRMDLPRGARVELEMQWGHIGWSVPSAFGNAMGSQERQHILMVGDGSFQLTAQEMAQMVRYKLPVIIFLVNNRGYVIEIAIHDGPYNYIKNWDYAGLMEVFNAEDGHGLGLKATTAGELEEAIKKAKANREGPTIIECQIERSDCTKTLVEWGKKVAAANSRKPQVS',\n",
    "}\n",
    "for u_id, test_seq in test_seqs.items():\n",
    "    # test_seq = list(test_seq)\n",
    "    # test_seq.insert(397, 'A')\n",
    "    # test_seq = ''.join(test_seq)\n",
    "    print(len(test_seq), len(get_mutations(test_seq, pdc_var2)))"
   ]
  },
  {
   "cell_type": "code",
   "execution_count": 45,
   "id": "7b18280a-5f04-4144-ae4f-18ddc05e3c25",
   "metadata": {},
   "outputs": [],
   "source": [
    "wt_seq = \"MSYTVGTYLAERLVQIGLKHHFAVAGDYNLVLLDNLLLNKNMEQVYCCNELNCGFSAEGYARAKGAAAAVVTYSVGALSAFDAIGGAYAENLPVILISGAPNNNDHAAGHVLHHALGKTDYHYQLEMAKNITAAAEAIYTPEEAPAKIDHVIKTALREKKPVYLEIACNIASMPCAAPGPASALFNDEASDEASLNAAVEETLKFIANRDKVAVLVGSKLRAAGAEEAAVKFADALGGAVATMAAAKSFFPEENPHYIGTSWGEVSYPGVEKTMKEADAVIALAPVFNDYSTTGWTDIPDPKKLVLAEPRSVVVNGIRFPSVHLKDYLTRLAQKVSKKTGALDFFKSLNAGELKKAAPADPSAPLVNAEIARQVEALLTPNTTVIAETGDSWFNAQRMKLPNGARVEYEMQWGHIGWSVPAAFGYAVGAPERRNILMVGDGSFQLTAQEVAQMVRLKLPVIIFLINNYGYTIEVMIHDGPYNNIKNWDYAGLMEVFNGNGGYDSGAGKGLKAKTGGELAEAIKVALANTDGPTLIECFIGREDCTEELVKWGKRVAAANSRKPVNKLL\"\n",
    "pdc_202_muts = [\"S2D\", \"L38D\", \"A207E\", \"G224A\", \"Q333E\", \"A357D\", \"V374I\", \"A376D\", \"A519E\", \"A527D\", \"G540A\", \"K553E\"]\n",
    "pdc_203_muts = [\"S2D\", \"L38D\", \"G109A\", \"A207E\", \"G224A\", \"Q333E\", \"A357D\", \"V374I\", \"A376D\", \"G491A\", \"G515A\", \"G516A\", \"A519E\", \"A527D\", \"K553E\", \"G540A\"]\n",
    "pdc_202 = apply_mutations(wt_seq, pdc_202_muts)\n",
    "pdc_203 = apply_mutations(wt_seq, pdc_203_muts)"
   ]
  },
  {
   "cell_type": "code",
   "execution_count": 59,
   "id": "e1814d9c-521f-4018-b979-5c2a3acd0df2",
   "metadata": {},
   "outputs": [
    {
     "data": {
      "text/plain": [
       "'MDYTVGTYLAERLVQIGLKHHFAVAGDYNLVLLDNLLDNKNMEQVYCCNELNCGFSAEGYARAKGAAAAVVTYSVGALSAFDAIGGAYAENLPVILISGAPNNNDHAAAHVLHHALGKTDYHYQLEMAKNITAAAEAIYTPEEAPAKIDHVIKTALREKKPVYLEIACNIASMPCAAPGPASALFNDEASDEASLNAAVEETLKFIENRDKVAVLVGSKLRAAAAEEAAVKFADALGGAVATMAAAKSFFPEENPHYIGTSWGEVSYPGVEKTMKEADAVIALAPVFNDYSTTGWTDIPDPKKLVLAEPRSVVVNGIRFPSVHLKDYLTRLAEKVSKKTGALDFFKSLNAGELKKADPADPSAPLVNAEIARQIEDLLTPNTTVIAETGDSWFNAQRMKLPNGARVEYEMQWGHIGWSVPAAFGYAVGAPERRNILMVGDGSFQLTAQEVAQMVRLKLPVIIFLINNYGYTIEVMIHDGPYNNIKNWDYAALMEVFNGNGGYDSGAGKGLKAKTAAELEEAIKVALDNTDGPTLIECFIAREDCTEELVKWGERVAAANSRKPVNKLL'"
      ]
     },
     "execution_count": 59,
     "metadata": {},
     "output_type": "execute_result"
    }
   ],
   "source": [
    "pdc_203"
   ]
  },
  {
   "cell_type": "code",
   "execution_count": 46,
   "id": "526503c2-a73e-40ba-9649-92cdee5a1864",
   "metadata": {},
   "outputs": [
    {
     "name": "stdout",
     "output_type": "stream",
     "text": [
      "building embeddings for 3 embeddings using repr_layer = 33\n"
     ]
    },
    {
     "data": {
      "application/vnd.jupyter.widget-view+json": {
       "model_id": "3a52f78f36024bc6bb97f24c7cf44570",
       "version_major": 2,
       "version_minor": 0
      },
      "text/plain": [
       "  0%|          | 0/3 [00:00<?, ?it/s]"
      ]
     },
     "metadata": {},
     "output_type": "display_data"
    },
    {
     "name": "stdout",
     "output_type": "stream",
     "text": [
      "pdc_reps.shape = (3, 1280)\n"
     ]
    }
   ],
   "source": [
    "seqs = [wt_seq, pdc_202, pdc_203]\n",
    "print(f\"building embeddings for {len(seqs)} sequences using {repr_layer = }\")\n",
    "pdc_reps = get_seq_embeddings(model, seqs, repr_layer=repr_layer, batch_size=1)\n",
    "print(f\"{pdc_reps.shape = }\")"
   ]
  },
  {
   "cell_type": "code",
   "execution_count": 47,
   "id": "904c50bf-31cd-40e2-a6db-c383e8e02dac",
   "metadata": {},
   "outputs": [
    {
     "data": {
      "text/plain": [
       "array([50.107574, 49.430996, 49.747066], dtype=float32)"
      ]
     },
     "execution_count": 47,
     "metadata": {},
     "output_type": "execute_result"
    }
   ],
   "source": [
    "y_pred = head_model(torch.Tensor(pdc_reps)).detach().squeeze().numpy()\n",
    "y_pred"
   ]
  },
  {
   "cell_type": "markdown",
   "id": "476ef4d3-932e-4a93-9bc1-0115eb3b9c86",
   "metadata": {},
   "source": [
    "### Sutiono etal Table 1"
   ]
  },
  {
   "cell_type": "code",
   "execution_count": 99,
   "id": "ce16d111-b0ef-4fa5-9bba-87387565ef09",
   "metadata": {},
   "outputs": [
    {
     "data": {
      "text/html": [
       "<div>\n",
       "<style scoped>\n",
       "    .dataframe tbody tr th:only-of-type {\n",
       "        vertical-align: middle;\n",
       "    }\n",
       "\n",
       "    .dataframe tbody tr th {\n",
       "        vertical-align: top;\n",
       "    }\n",
       "\n",
       "    .dataframe thead th {\n",
       "        text-align: right;\n",
       "    }\n",
       "</style>\n",
       "<table border=\"1\" class=\"dataframe\">\n",
       "  <thead>\n",
       "    <tr style=\"text-align: right;\">\n",
       "      <th></th>\n",
       "      <th>enzyme</th>\n",
       "      <th>Tm</th>\n",
       "      <th>uniprot_id</th>\n",
       "      <th>mutations</th>\n",
       "      <th>sequence</th>\n",
       "    </tr>\n",
       "  </thead>\n",
       "  <tbody>\n",
       "    <tr>\n",
       "      <th>0</th>\n",
       "      <td>CgPDC</td>\n",
       "      <td>55.5</td>\n",
       "      <td>Q6FJA3</td>\n",
       "      <td>-</td>\n",
       "      <td>MSEITLGRYLFERLNQVDVKTIFGLPGDFNLSLLDKIYEVEGMRWA...</td>\n",
       "    </tr>\n",
       "    <tr>\n",
       "      <th>1</th>\n",
       "      <td>ZrPDC</td>\n",
       "      <td>50.5</td>\n",
       "      <td>A0A1Q2ZTD3(?)</td>\n",
       "      <td>-</td>\n",
       "      <td>MYVDTTSMGPTITIADYFFHRLKQLEVLTIFGLPGEFNAPLIDKLY...</td>\n",
       "    </tr>\n",
       "  </tbody>\n",
       "</table>\n",
       "</div>"
      ],
      "text/plain": [
       "  enzyme    Tm     uniprot_id mutations  \\\n",
       "0  CgPDC  55.5         Q6FJA3         -   \n",
       "1  ZrPDC  50.5  A0A1Q2ZTD3(?)         -   \n",
       "\n",
       "                                            sequence  \n",
       "0  MSEITLGRYLFERLNQVDVKTIFGLPGDFNLSLLDKIYEVEGMRWA...  \n",
       "1  MYVDTTSMGPTITIADYFFHRLKQLEVLTIFGLPGEFNAPLIDKLY...  "
      ]
     },
     "execution_count": 99,
     "metadata": {},
     "output_type": "execute_result"
    }
   ],
   "source": [
    "df_pdc_sutiono = pd.read_csv(\"/projects/robustmicrob/jlaw/projects/prot_stability_engineering/inputs/lit/pyruvate_decarboxylase_examples.csv\")\n",
    "df_pdc_sutiono.head(2)"
   ]
  },
  {
   "cell_type": "code",
   "execution_count": 148,
   "id": "64fb4b61-378d-499f-a0bf-e9fbef0753be",
   "metadata": {},
   "outputs": [],
   "source": [
    "# generate the embeddings for these sequences\n",
    "def get_seq_embeddings(model, seqs, repr_layer=33, batch_size=16):\n",
    "    \"\"\"\n",
    "    Generate an embedding for every sequence using the specified model\n",
    "    \"\"\"\n",
    "    batch_labels, batch_strs, batch_tokens = batch_converter(list(zip(np.arange(len(seqs)), seqs)))\n",
    "\n",
    "    batch_dataloader = torch.utils.data.DataLoader(batch_tokens,\n",
    "                                                   batch_size=batch_size,\n",
    "                                                   pin_memory=True,\n",
    "                                                   num_workers=8\n",
    "                                                  )\n",
    "\n",
    "    representations = []\n",
    "    with torch.no_grad():\n",
    "        for batch_idx, batch in tqdm(enumerate(batch_dataloader), total=len(batch_dataloader)):\n",
    "            out = model(batch.to(device), repr_layers=[repr_layer])  # because this is the 33-layer transformer\n",
    "            out = out['representations'][repr_layer].detach().to('cpu').numpy()\n",
    "\n",
    "            for i in range(len(batch)):\n",
    "                seq_idx = (batch_idx * batch_size) + i\n",
    "                representations += [out[i, 1:len(seqs[seq_idx]) + 1].mean(0).astype(np.float16)]\n",
    "\n",
    "            # if batch_idx == 0 or batch_idx % int(len(batch_dataloader) / 20.0) == 0:\n",
    "            #     # keep track of how much memory this script is using\n",
    "            #     print_memory_usage()\n",
    "    representations = np.vstack(representations)\n",
    "    return representations"
   ]
  },
  {
   "cell_type": "code",
   "execution_count": 157,
   "id": "be24a9c9-3a92-4be1-96e1-1b4b303262ba",
   "metadata": {},
   "outputs": [
    {
     "name": "stdout",
     "output_type": "stream",
     "text": [
      "building embeddings for 10 sequences using repr_layer = 33\n"
     ]
    },
    {
     "data": {
      "application/vnd.jupyter.widget-view+json": {
       "model_id": "cc0a858ba9354dfc80f5a0e57408e58f",
       "version_major": 2,
       "version_minor": 0
      },
      "text/plain": [
       "  0%|          | 0/2 [00:00<?, ?it/s]"
      ]
     },
     "metadata": {},
     "output_type": "display_data"
    },
    {
     "name": "stdout",
     "output_type": "stream",
     "text": [
      "pdc_reps.shape = (10, 1280)\n"
     ]
    }
   ],
   "source": [
    "print(f\"building embeddings for {len(df_pdc_sutiono)} sequences using {repr_layer = }\")\n",
    "pdc_reps = get_seq_embeddings(model, df_pdc_sutiono.sequence.values, repr_layer=repr_layer, batch_size=8)\n",
    "print(f\"{pdc_reps.shape = }\")"
   ]
  },
  {
   "cell_type": "code",
   "execution_count": 158,
   "id": "4fcb3b55-e830-4e36-b61e-2069d1e91907",
   "metadata": {},
   "outputs": [
    {
     "data": {
      "text/html": [
       "<div>\n",
       "<style scoped>\n",
       "    .dataframe tbody tr th:only-of-type {\n",
       "        vertical-align: middle;\n",
       "    }\n",
       "\n",
       "    .dataframe tbody tr th {\n",
       "        vertical-align: top;\n",
       "    }\n",
       "\n",
       "    .dataframe thead th {\n",
       "        text-align: right;\n",
       "    }\n",
       "</style>\n",
       "<table border=\"1\" class=\"dataframe\">\n",
       "  <thead>\n",
       "    <tr style=\"text-align: right;\">\n",
       "      <th></th>\n",
       "      <th>enzyme</th>\n",
       "      <th>Tm</th>\n",
       "      <th>uniprot_id</th>\n",
       "      <th>mutations</th>\n",
       "      <th>sequence</th>\n",
       "      <th>Tm_pred</th>\n",
       "    </tr>\n",
       "  </thead>\n",
       "  <tbody>\n",
       "    <tr>\n",
       "      <th>0</th>\n",
       "      <td>CgPDC</td>\n",
       "      <td>55.5</td>\n",
       "      <td>Q6FJA3</td>\n",
       "      <td>-</td>\n",
       "      <td>MSEITLGRYLFERLNQVDVKTIFGLPGDFNLSLLDKIYEVEGMRWA...</td>\n",
       "      <td>46.859035</td>\n",
       "    </tr>\n",
       "    <tr>\n",
       "      <th>1</th>\n",
       "      <td>ZrPDC</td>\n",
       "      <td>50.5</td>\n",
       "      <td>A0A1Q2ZTD3(?)</td>\n",
       "      <td>-</td>\n",
       "      <td>MYVDTTSMGPTITIADYFFHRLKQLEVLTIFGLPGEFNAPLIDKLY...</td>\n",
       "      <td>46.277348</td>\n",
       "    </tr>\n",
       "    <tr>\n",
       "      <th>2</th>\n",
       "      <td>ApPDC</td>\n",
       "      <td>-</td>\n",
       "      <td>Q8L388</td>\n",
       "      <td>-</td>\n",
       "      <td>MTYTVGMYLAERLVQIGLKHHFAVGGDYNLVLLDQLLLNKDMKQIY...</td>\n",
       "      <td>46.973988</td>\n",
       "    </tr>\n",
       "    <tr>\n",
       "      <th>3</th>\n",
       "      <td>ZmPDC</td>\n",
       "      <td>66.5</td>\n",
       "      <td>P06672</td>\n",
       "      <td>-</td>\n",
       "      <td>MSYTVGTYLAERLVQIGLKHHFAVAGDYNLVLLDNLLLNKNMEQVY...</td>\n",
       "      <td>46.564384</td>\n",
       "    </tr>\n",
       "    <tr>\n",
       "      <th>4</th>\n",
       "      <td>ZpPDC</td>\n",
       "      <td>65</td>\n",
       "      <td>Q8KTX6</td>\n",
       "      <td>-</td>\n",
       "      <td>MYTVGMYLAERLAQIGLKHHFAVAGDYNLVLLDQLLLNKDMEQVYC...</td>\n",
       "      <td>46.444767</td>\n",
       "    </tr>\n",
       "    <tr>\n",
       "      <th>5</th>\n",
       "      <td>5NPU7</td>\n",
       "      <td>55.5</td>\n",
       "      <td>-</td>\n",
       "      <td>-</td>\n",
       "      <td>-</td>\n",
       "      <td>51.594395</td>\n",
       "    </tr>\n",
       "    <tr>\n",
       "      <th>6</th>\n",
       "      <td>5TMA8</td>\n",
       "      <td>59.5</td>\n",
       "      <td>P06672</td>\n",
       "      <td>S2D, L38D, G109A, A207E, G224A, Q333E, A357D, ...</td>\n",
       "      <td>MDYTVGTYLAERLVQIGLKHHFAVAGDYNLVLLDNLLDNKNMEQVY...</td>\n",
       "      <td>46.487659</td>\n",
       "    </tr>\n",
       "    <tr>\n",
       "      <th>7</th>\n",
       "      <td>ApPDC</td>\n",
       "      <td>70</td>\n",
       "      <td>wt_seq</td>\n",
       "      <td>-</td>\n",
       "      <td>MTYTVGMYLAERLVQIGLKHHFAVAGDYNLVLLDQLLLNKDMKQIY...</td>\n",
       "      <td>47.094990</td>\n",
       "    </tr>\n",
       "    <tr>\n",
       "      <th>8</th>\n",
       "      <td>PDC-Var. 1</td>\n",
       "      <td>77</td>\n",
       "      <td>wt_seq</td>\n",
       "      <td>L84I, A100S, S103T, Q106Y, K118T, S122N, A128V...</td>\n",
       "      <td>MTYTVGMYLAERLVQIGLKHHFAVAGDYNLVLLDQLLLNKDMKQIY...</td>\n",
       "      <td>46.744820</td>\n",
       "    </tr>\n",
       "    <tr>\n",
       "      <th>9</th>\n",
       "      <td>PDC-Var. 2</td>\n",
       "      <td>82</td>\n",
       "      <td>wt_seq</td>\n",
       "      <td>L84I, A100S, S103T, Q106Y, K118T, S122N, A128V...</td>\n",
       "      <td>MTYTVGMYLAERLVQIGLKHHFAVAGDYNLVLLDQLLLNKDMKQIY...</td>\n",
       "      <td>46.855122</td>\n",
       "    </tr>\n",
       "  </tbody>\n",
       "</table>\n",
       "</div>"
      ],
      "text/plain": [
       "       enzyme    Tm     uniprot_id  \\\n",
       "0       CgPDC  55.5         Q6FJA3   \n",
       "1       ZrPDC  50.5  A0A1Q2ZTD3(?)   \n",
       "2       ApPDC     -         Q8L388   \n",
       "3       ZmPDC  66.5         P06672   \n",
       "4       ZpPDC    65         Q8KTX6   \n",
       "5       5NPU7  55.5              -   \n",
       "6       5TMA8  59.5         P06672   \n",
       "7       ApPDC    70         wt_seq   \n",
       "8  PDC-Var. 1    77         wt_seq   \n",
       "9  PDC-Var. 2    82         wt_seq   \n",
       "\n",
       "                                           mutations  \\\n",
       "0                                                  -   \n",
       "1                                                  -   \n",
       "2                                                  -   \n",
       "3                                                  -   \n",
       "4                                                  -   \n",
       "5                                                  -   \n",
       "6  S2D, L38D, G109A, A207E, G224A, Q333E, A357D, ...   \n",
       "7                                                 -    \n",
       "8  L84I, A100S, S103T, Q106Y, K118T, S122N, A128V...   \n",
       "9  L84I, A100S, S103T, Q106Y, K118T, S122N, A128V...   \n",
       "\n",
       "                                            sequence    Tm_pred  \n",
       "0  MSEITLGRYLFERLNQVDVKTIFGLPGDFNLSLLDKIYEVEGMRWA...  46.859035  \n",
       "1  MYVDTTSMGPTITIADYFFHRLKQLEVLTIFGLPGEFNAPLIDKLY...  46.277348  \n",
       "2  MTYTVGMYLAERLVQIGLKHHFAVGGDYNLVLLDQLLLNKDMKQIY...  46.973988  \n",
       "3  MSYTVGTYLAERLVQIGLKHHFAVAGDYNLVLLDNLLLNKNMEQVY...  46.564384  \n",
       "4  MYTVGMYLAERLAQIGLKHHFAVAGDYNLVLLDQLLLNKDMEQVYC...  46.444767  \n",
       "5                                                  -  51.594395  \n",
       "6  MDYTVGTYLAERLVQIGLKHHFAVAGDYNLVLLDNLLDNKNMEQVY...  46.487659  \n",
       "7  MTYTVGMYLAERLVQIGLKHHFAVAGDYNLVLLDQLLLNKDMKQIY...  47.094990  \n",
       "8  MTYTVGMYLAERLVQIGLKHHFAVAGDYNLVLLDQLLLNKDMKQIY...  46.744820  \n",
       "9  MTYTVGMYLAERLVQIGLKHHFAVAGDYNLVLLDQLLLNKDMKQIY...  46.855122  "
      ]
     },
     "execution_count": 158,
     "metadata": {},
     "output_type": "execute_result"
    }
   ],
   "source": [
    "y_pred = head_model(torch.Tensor(pdc_reps)).detach().squeeze().numpy()\n",
    "df_pdc_sutiono['Tm_pred'] = y_pred\n",
    "df_pdc_sutiono"
   ]
  },
  {
   "cell_type": "code",
   "execution_count": 166,
   "id": "5085fd0c-044d-4b80-a97d-387afb93496e",
   "metadata": {},
   "outputs": [
    {
     "data": {
      "text/html": [
       "<div>\n",
       "<style scoped>\n",
       "    .dataframe tbody tr th:only-of-type {\n",
       "        vertical-align: middle;\n",
       "    }\n",
       "\n",
       "    .dataframe tbody tr th {\n",
       "        vertical-align: top;\n",
       "    }\n",
       "\n",
       "    .dataframe thead th {\n",
       "        text-align: right;\n",
       "    }\n",
       "</style>\n",
       "<table border=\"1\" class=\"dataframe\">\n",
       "  <thead>\n",
       "    <tr style=\"text-align: right;\">\n",
       "      <th></th>\n",
       "      <th>Tm</th>\n",
       "      <th>Tm_pred</th>\n",
       "    </tr>\n",
       "    <tr>\n",
       "      <th>enzyme</th>\n",
       "      <th></th>\n",
       "      <th></th>\n",
       "    </tr>\n",
       "  </thead>\n",
       "  <tbody>\n",
       "    <tr>\n",
       "      <th>CgPDC</th>\n",
       "      <td>55.5</td>\n",
       "      <td>46.9</td>\n",
       "    </tr>\n",
       "    <tr>\n",
       "      <th>ZrPDC</th>\n",
       "      <td>50.5</td>\n",
       "      <td>46.3</td>\n",
       "    </tr>\n",
       "    <tr>\n",
       "      <th>ZmPDC</th>\n",
       "      <td>66.5</td>\n",
       "      <td>46.6</td>\n",
       "    </tr>\n",
       "    <tr>\n",
       "      <th>ZpPDC</th>\n",
       "      <td>65.0</td>\n",
       "      <td>46.4</td>\n",
       "    </tr>\n",
       "    <tr>\n",
       "      <th>5NPU7</th>\n",
       "      <td>55.5</td>\n",
       "      <td>51.6</td>\n",
       "    </tr>\n",
       "    <tr>\n",
       "      <th>5TMA8</th>\n",
       "      <td>59.5</td>\n",
       "      <td>46.5</td>\n",
       "    </tr>\n",
       "    <tr>\n",
       "      <th>ApPDC</th>\n",
       "      <td>70.0</td>\n",
       "      <td>47.1</td>\n",
       "    </tr>\n",
       "    <tr>\n",
       "      <th>PDC-Var. 1</th>\n",
       "      <td>77.0</td>\n",
       "      <td>46.7</td>\n",
       "    </tr>\n",
       "    <tr>\n",
       "      <th>PDC-Var. 2</th>\n",
       "      <td>82.0</td>\n",
       "      <td>46.9</td>\n",
       "    </tr>\n",
       "  </tbody>\n",
       "</table>\n",
       "</div>"
      ],
      "text/plain": [
       "              Tm  Tm_pred\n",
       "enzyme                   \n",
       "CgPDC       55.5     46.9\n",
       "ZrPDC       50.5     46.3\n",
       "ZmPDC       66.5     46.6\n",
       "ZpPDC       65.0     46.4\n",
       "5NPU7       55.5     51.6\n",
       "5TMA8       59.5     46.5\n",
       "ApPDC       70.0     47.1\n",
       "PDC-Var. 1  77.0     46.7\n",
       "PDC-Var. 2  82.0     46.9"
      ]
     },
     "execution_count": 166,
     "metadata": {},
     "output_type": "execute_result"
    }
   ],
   "source": [
    "df_pdc_sutiono[df_pdc_sutiono.Tm != '-'].set_index('enzyme')[['Tm', 'Tm_pred']].astype(float).round(1)"
   ]
  },
  {
   "cell_type": "code",
   "execution_count": 160,
   "id": "7d29147c-8276-401d-8b65-74b92b438c72",
   "metadata": {},
   "outputs": [
    {
     "data": {
      "text/plain": [
       "<AxesSubplot: xlabel='Tm', ylabel='Tm_pred'>"
      ]
     },
     "execution_count": 160,
     "metadata": {},
     "output_type": "execute_result"
    },
    {
     "data": {
      "image/png": "[encoded data removed]",
      "text/plain": [
       "<Figure size 640x480 with 1 Axes>"
      ]
     },
     "metadata": {},
     "output_type": "display_data"
    }
   ],
   "source": [
    "df_pdc_sutiono[['Tm', 'Tm_pred']].plot.scatter(x='Tm', y='Tm_pred')"
   ]
  },
  {
   "cell_type": "code",
   "execution_count": null,
   "id": "57f1c0d9-5b27-48a7-a1d4-af3c73071d52",
   "metadata": {},
   "outputs": [],
   "source": []
  }
 ],
 "metadata": {
  "kernelspec": {
   "display_name": "Python 3 (ipykernel)",
   "language": "python",
   "name": "python3"
  },
  "language_info": {
   "codemirror_mode": {
    "name": "ipython",
    "version": 3
   },
   "file_extension": ".py",
   "mimetype": "text/x-python",
   "name": "python",
   "nbconvert_exporter": "python",
   "pygments_lexer": "ipython3",
   "version": "3.10.8"
  }
 },
 "nbformat": 4,
 "nbformat_minor": 5
}
