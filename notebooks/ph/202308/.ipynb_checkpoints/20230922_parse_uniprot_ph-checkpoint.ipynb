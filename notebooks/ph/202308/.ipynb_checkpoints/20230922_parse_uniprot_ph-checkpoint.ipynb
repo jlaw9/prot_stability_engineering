{
 "cells": [
  {
   "cell_type": "markdown",
   "id": "7cd17829-9ea7-46e7-a4cb-069c3131f7c6",
   "metadata": {},
   "source": [
    "## Uniprot pH optimum\n",
    "- Uniprot also has pH optimum data \"pH dependence\"\n",
    "  - It's in text format so requires some parsing e.g., \"Optimum pH is 5.5\"\n",
    "- Most of the time it has just the optimum, but it also has pH range, forward/reverse, different cofactors occasionally"
   ]
  },
  {
   "cell_type": "code",
   "execution_count": 2,
   "id": "667fb58f-6059-4409-b021-2adcc94cf6a8",
   "metadata": {},
   "outputs": [],
   "source": [
    "import numpy as np\n",
    "import pandas as pd\n",
    "import os\n",
    "from Bio import SeqIO\n",
    "import itertools\n",
    "from typing import List, Tuple\n",
    "import string\n",
    "from pathlib import Path\n",
    "from tqdm.auto import tqdm, trange\n",
    "import re\n",
    "import regex\n",
    "\n",
    "import matplotlib.pyplot as plt\n",
    "import seaborn as sns\n",
    "\n",
    "%matplotlib inline"
   ]
  },
  {
   "cell_type": "code",
   "execution_count": 3,
   "id": "50e2c2b3-47a0-45b2-98a8-884200f7fae5",
   "metadata": {},
   "outputs": [
    {
     "data": {
      "text/plain": [
       "'/lustre/eaglefs/projects/robustmicrob/jlaw/projects/prot_stability_engineering'"
      ]
     },
     "execution_count": 3,
     "metadata": {},
     "output_type": "execute_result"
    }
   ],
   "source": [
    "os.chdir(\"../../../\")\n",
    "os.getcwd()"
   ]
  },
  {
   "cell_type": "code",
   "execution_count": 58,
   "id": "802b976b-382e-43f0-bbb0-bbc33d4806f1",
   "metadata": {},
   "outputs": [
    {
     "name": "stdout",
     "output_type": "stream",
     "text": [
      "inputs/uniprot/uniprotkb_cc_bpcp_ph_dependence_2023_09_22.tsv.gz\n",
      "5021\n"
     ]
    },
    {
     "data": {
      "text/html": [
       "<div>\n",
       "<style scoped>\n",
       "    .dataframe tbody tr th:only-of-type {\n",
       "        vertical-align: middle;\n",
       "    }\n",
       "\n",
       "    .dataframe tbody tr th {\n",
       "        vertical-align: top;\n",
       "    }\n",
       "\n",
       "    .dataframe thead th {\n",
       "        text-align: right;\n",
       "    }\n",
       "</style>\n",
       "<table border=\"1\" class=\"dataframe\">\n",
       "  <thead>\n",
       "    <tr style=\"text-align: right;\">\n",
       "      <th></th>\n",
       "      <th>uniprot_id</th>\n",
       "      <th>Reviewed</th>\n",
       "      <th>Protein names</th>\n",
       "      <th>Gene Names</th>\n",
       "      <th>Organism</th>\n",
       "      <th>Organism (ID)</th>\n",
       "      <th>Length</th>\n",
       "      <th>ph_dependence</th>\n",
       "      <th>sequence</th>\n",
       "    </tr>\n",
       "  </thead>\n",
       "  <tbody>\n",
       "    <tr>\n",
       "      <th>0</th>\n",
       "      <td>A0A023I7E1</td>\n",
       "      <td>reviewed</td>\n",
       "      <td>Glucan endo-1,3-beta-D-glucosidase 1 (Endo-1,3...</td>\n",
       "      <td>ENG1 LAM81A</td>\n",
       "      <td>Rhizomucor miehei</td>\n",
       "      <td>4839</td>\n",
       "      <td>796</td>\n",
       "      <td>BIOPHYSICOCHEMICAL PROPERTIES:  pH dependence:...</td>\n",
       "      <td>MRFQVIVAAATITMITSYIPGVASQSTSDGDDLFVPVSNFDPKSIF...</td>\n",
       "    </tr>\n",
       "    <tr>\n",
       "      <th>1</th>\n",
       "      <td>A0A024SC78</td>\n",
       "      <td>reviewed</td>\n",
       "      <td>Cutinase (EC 3.1.1.74)</td>\n",
       "      <td>M419DRAFT_76732</td>\n",
       "      <td>Hypocrea jecorina (strain ATCC 56765 / BCRC 32...</td>\n",
       "      <td>1344414</td>\n",
       "      <td>248</td>\n",
       "      <td>BIOPHYSICOCHEMICAL PROPERTIES:  pH dependence:...</td>\n",
       "      <td>MRSLAILTTLLAGHAFAYPKPAPQSVNRRDWPSINEFLSELAKVMP...</td>\n",
       "    </tr>\n",
       "  </tbody>\n",
       "</table>\n",
       "</div>"
      ],
      "text/plain": [
       "   uniprot_id  Reviewed                                      Protein names  \\\n",
       "0  A0A023I7E1  reviewed  Glucan endo-1,3-beta-D-glucosidase 1 (Endo-1,3...   \n",
       "1  A0A024SC78  reviewed                             Cutinase (EC 3.1.1.74)   \n",
       "\n",
       "        Gene Names                                           Organism  \\\n",
       "0      ENG1 LAM81A                                  Rhizomucor miehei   \n",
       "1  M419DRAFT_76732  Hypocrea jecorina (strain ATCC 56765 / BCRC 32...   \n",
       "\n",
       "   Organism (ID)  Length                                      ph_dependence  \\\n",
       "0           4839     796  BIOPHYSICOCHEMICAL PROPERTIES:  pH dependence:...   \n",
       "1        1344414     248  BIOPHYSICOCHEMICAL PROPERTIES:  pH dependence:...   \n",
       "\n",
       "                                            sequence  \n",
       "0  MRFQVIVAAATITMITSYIPGVASQSTSDGDDLFVPVSNFDPKSIF...  \n",
       "1  MRSLAILTTLLAGHAFAYPKPAPQSVNRRDWPSINEFLSELAKVMP...  "
      ]
     },
     "execution_count": 58,
     "metadata": {},
     "output_type": "execute_result"
    }
   ],
   "source": [
    "inputs_dir = \"inputs/uniprot\"\n",
    "# load the pH range and opt values\n",
    "data_file = Path(inputs_dir, \"uniprotkb_cc_bpcp_ph_dependence_2023_09_22.tsv.gz\")\n",
    "print(data_file)\n",
    "data = pd.read_table(data_file)\n",
    "data = data.rename(columns={\"Entry\": \"uniprot_id\", \"Sequence\": \"sequence\", \"pH dependence\": \"ph_dependence\"})\n",
    "print(len(data))\n",
    "data.head(2)"
   ]
  },
  {
   "cell_type": "code",
   "execution_count": 5,
   "id": "1261872d-fb28-42ac-8992-5c8cd4331c6e",
   "metadata": {},
   "outputs": [
    {
     "name": "stdout",
     "output_type": "stream",
     "text": [
      "inputs/uniprot/uniprotkb_cc_bpcp_2023_09_22.tsv.gz\n",
      "11217\n"
     ]
    },
    {
     "data": {
      "text/html": [
       "<div>\n",
       "<style scoped>\n",
       "    .dataframe tbody tr th:only-of-type {\n",
       "        vertical-align: middle;\n",
       "    }\n",
       "\n",
       "    .dataframe tbody tr th {\n",
       "        vertical-align: top;\n",
       "    }\n",
       "\n",
       "    .dataframe thead th {\n",
       "        text-align: right;\n",
       "    }\n",
       "</style>\n",
       "<table border=\"1\" class=\"dataframe\">\n",
       "  <thead>\n",
       "    <tr style=\"text-align: right;\">\n",
       "      <th></th>\n",
       "      <th>uniprot_id</th>\n",
       "      <th>Reviewed</th>\n",
       "      <th>Protein names</th>\n",
       "      <th>Gene Names</th>\n",
       "      <th>Organism</th>\n",
       "      <th>Organism (ID)</th>\n",
       "      <th>Length</th>\n",
       "      <th>ph_dependence</th>\n",
       "      <th>sequence</th>\n",
       "      <th>Kinetics</th>\n",
       "      <th>...</th>\n",
       "      <th>Temperature dependence</th>\n",
       "      <th>EC number</th>\n",
       "      <th>Catalytic activity</th>\n",
       "      <th>Cofactor</th>\n",
       "      <th>Activity regulation</th>\n",
       "      <th>Binding site</th>\n",
       "      <th>Active site</th>\n",
       "      <th>Site</th>\n",
       "      <th>Pathway</th>\n",
       "      <th>Absorption</th>\n",
       "    </tr>\n",
       "  </thead>\n",
       "  <tbody>\n",
       "    <tr>\n",
       "      <th>0</th>\n",
       "      <td>A0A023I7E1</td>\n",
       "      <td>reviewed</td>\n",
       "      <td>Glucan endo-1,3-beta-D-glucosidase 1 (Endo-1,3...</td>\n",
       "      <td>ENG1 LAM81A</td>\n",
       "      <td>Rhizomucor miehei</td>\n",
       "      <td>4839</td>\n",
       "      <td>796</td>\n",
       "      <td>BIOPHYSICOCHEMICAL PROPERTIES:  pH dependence:...</td>\n",
       "      <td>MRFQVIVAAATITMITSYIPGVASQSTSDGDDLFVPVSNFDPKSIF...</td>\n",
       "      <td>NaN</td>\n",
       "      <td>...</td>\n",
       "      <td>BIOPHYSICOCHEMICAL PROPERTIES:  Temperature de...</td>\n",
       "      <td>3.2.1.39</td>\n",
       "      <td>CATALYTIC ACTIVITY: Reaction=Hydrolysis of (1-...</td>\n",
       "      <td>NaN</td>\n",
       "      <td>ACTIVITY REGULATION: Tris binds the active sit...</td>\n",
       "      <td>BINDING 504; /ligand=\"(1,3-beta-D-glucosyl)n\";...</td>\n",
       "      <td>ACT_SITE 500; /evidence=\"ECO:0000255|PROSITE-P...</td>\n",
       "      <td>NaN</td>\n",
       "      <td>NaN</td>\n",
       "      <td>NaN</td>\n",
       "    </tr>\n",
       "    <tr>\n",
       "      <th>1</th>\n",
       "      <td>A0A024SC78</td>\n",
       "      <td>reviewed</td>\n",
       "      <td>Cutinase (EC 3.1.1.74)</td>\n",
       "      <td>M419DRAFT_76732</td>\n",
       "      <td>Hypocrea jecorina (strain ATCC 56765 / BCRC 32...</td>\n",
       "      <td>1344414</td>\n",
       "      <td>248</td>\n",
       "      <td>BIOPHYSICOCHEMICAL PROPERTIES:  pH dependence:...</td>\n",
       "      <td>MRSLAILTTLLAGHAFAYPKPAPQSVNRRDWPSINEFLSELAKVMP...</td>\n",
       "      <td>NaN</td>\n",
       "      <td>...</td>\n",
       "      <td>NaN</td>\n",
       "      <td>3.1.1.74</td>\n",
       "      <td>CATALYTIC ACTIVITY: Reaction=cutin + H2O = cut...</td>\n",
       "      <td>NaN</td>\n",
       "      <td>ACTIVITY REGULATION: Weakly inhibited by n-und...</td>\n",
       "      <td>NaN</td>\n",
       "      <td>ACT_SITE 164; /note=\"Nucleophile\"; /evidence=\"...</td>\n",
       "      <td>SITE 90; /note=\"Transition state stabilizer\"; ...</td>\n",
       "      <td>NaN</td>\n",
       "      <td>NaN</td>\n",
       "    </tr>\n",
       "  </tbody>\n",
       "</table>\n",
       "<p>2 rows × 22 columns</p>\n",
       "</div>"
      ],
      "text/plain": [
       "   uniprot_id  Reviewed                                      Protein names  \\\n",
       "0  A0A023I7E1  reviewed  Glucan endo-1,3-beta-D-glucosidase 1 (Endo-1,3...   \n",
       "1  A0A024SC78  reviewed                             Cutinase (EC 3.1.1.74)   \n",
       "\n",
       "        Gene Names                                           Organism  \\\n",
       "0      ENG1 LAM81A                                  Rhizomucor miehei   \n",
       "1  M419DRAFT_76732  Hypocrea jecorina (strain ATCC 56765 / BCRC 32...   \n",
       "\n",
       "   Organism (ID)  Length                                      ph_dependence  \\\n",
       "0           4839     796  BIOPHYSICOCHEMICAL PROPERTIES:  pH dependence:...   \n",
       "1        1344414     248  BIOPHYSICOCHEMICAL PROPERTIES:  pH dependence:...   \n",
       "\n",
       "                                            sequence Kinetics  ...  \\\n",
       "0  MRFQVIVAAATITMITSYIPGVASQSTSDGDDLFVPVSNFDPKSIF...      NaN  ...   \n",
       "1  MRSLAILTTLLAGHAFAYPKPAPQSVNRRDWPSINEFLSELAKVMP...      NaN  ...   \n",
       "\n",
       "                              Temperature dependence EC number  \\\n",
       "0  BIOPHYSICOCHEMICAL PROPERTIES:  Temperature de...  3.2.1.39   \n",
       "1                                                NaN  3.1.1.74   \n",
       "\n",
       "                                  Catalytic activity Cofactor  \\\n",
       "0  CATALYTIC ACTIVITY: Reaction=Hydrolysis of (1-...      NaN   \n",
       "1  CATALYTIC ACTIVITY: Reaction=cutin + H2O = cut...      NaN   \n",
       "\n",
       "                                 Activity regulation  \\\n",
       "0  ACTIVITY REGULATION: Tris binds the active sit...   \n",
       "1  ACTIVITY REGULATION: Weakly inhibited by n-und...   \n",
       "\n",
       "                                        Binding site  \\\n",
       "0  BINDING 504; /ligand=\"(1,3-beta-D-glucosyl)n\";...   \n",
       "1                                                NaN   \n",
       "\n",
       "                                         Active site  \\\n",
       "0  ACT_SITE 500; /evidence=\"ECO:0000255|PROSITE-P...   \n",
       "1  ACT_SITE 164; /note=\"Nucleophile\"; /evidence=\"...   \n",
       "\n",
       "                                                Site Pathway Absorption  \n",
       "0                                                NaN     NaN        NaN  \n",
       "1  SITE 90; /note=\"Transition state stabilizer\"; ...     NaN        NaN  \n",
       "\n",
       "[2 rows x 22 columns]"
      ]
     },
     "execution_count": 5,
     "metadata": {},
     "output_type": "execute_result"
    }
   ],
   "source": [
    "inputs_dir = \"inputs/uniprot\"\n",
    "# load the pH range and opt values\n",
    "data_file = Path(inputs_dir, \"uniprotkb_cc_bpcp_2023_09_22.tsv.gz\")\n",
    "print(data_file)\n",
    "data2 = pd.read_table(data_file)\n",
    "data2 = data2.rename(columns={\"Entry\": \"uniprot_id\", \"Sequence\": \"sequence\", \"pH dependence\": \"ph_dependence\"})\n",
    "print(len(data2))\n",
    "data2.head(2)"
   ]
  },
  {
   "cell_type": "code",
   "execution_count": null,
   "id": "64270e5e-ed2e-4b1e-8c68-3501231ea256",
   "metadata": {},
   "outputs": [
    {
     "data": {
      "text/plain": [
       "['BIOPHYSICOCHEMICAL PROPERTIES:  Kinetic parameters: KM=106 uM for choloyl-CoA (at pH 8.7 and 37 degrees Celsius) {ECO:0000269|PubMed:23836456}',\n",
       " ' KM=53 uM for chenodeoxycholoyl-CoA (at pH 8.7 and 37 degrees Celsius) {ECO:0000269|PubMed:23836456}',\n",
       " ' KM=22 uM for lithocholoyl-CoA (at pH 8.7 and 37 degrees Celsius) {ECO:0000269|PubMed:23836456}',\n",
       " ' KM=16 uM for deoxycholoyl-CoA (at pH 8.7 and 37 degrees Celsius) {ECO:0000269|PubMed:23836456}',\n",
       " ' KM=9.1 uM for 3-oxocholoyl-CoA (at pH 8.7 and 37 degrees Celsius) {ECO:0000269|PubMed:23836456}',\n",
       " ' KM=3.3 uM for 3-oxochenodeoxycholoyl-CoA (at pH 8.7 and 37 degrees Celsius) {ECO:0000269|PubMed:23836456}',\n",
       " ' KM=8.3 uM for 3-oxolithocholoyl-CoA (at pH 8.7 and 37 degrees Celsius) {ECO:0000269|PubMed:23836456}',\n",
       " ' KM=5.6 uM for 3-oxodeoxycholoyl-CoA (at pH 8.7 and 37 degrees Celsius) {ECO:0000269|PubMed:23836456}',\n",
       " ' KM=17 uM for NAD(+) (at pH 8.7 and 37 degrees Celsius) {ECO:0000269|PubMed:23836456}',\n",
       " ' KM=883 uM for NADP(+) (at pH 8.7 and 37 degrees Celsius) {ECO:0000269|PubMed:23836456}',\n",
       " ' Note=kcat is 74 min(-1) with choloyl-CoA as substrate. kcat is 49 min(-1) with chenodeoxycholoyl-CoA as substrate. kcat is 44 min(-1) with lithocholoyl-CoA as substrate. kcat is 52 min(-1) with deoxycholoyl-CoA as substrate. kcat is 33 min(-1) with 3-oxocholoyl-CoA as substrate. kcat is 24 min(-1) with 3-oxochenodeoxycholoyl-CoA as substrate. kcat is 42 min(-1) with 3-oxolithocholoyl-CoA as substrate. kcat is 44 min(-1) with 3-oxodeoxycholoyl-CoA as substrate (at pH 8.7 and 37 degrees Celsius). {ECO:0000269|PubMed:23836456}',\n",
       " '']"
      ]
     },
     "execution_count": 9,
     "metadata": {},
     "output_type": "execute_result"
    }
   ],
   "source": [
    "data2[data2.uniprot_id == \"P07914\"].Kinetics.values[0].split(\";\")"
   ]
  },
  {
   "cell_type": "code",
   "execution_count": 59,
   "id": "0417b5eb-8d63-4690-934b-e232762d1920",
   "metadata": {},
   "outputs": [
    {
     "data": {
      "text/plain": [
       "Arabidopsis thaliana (Mouse-ear cress)                                   382\n",
       "Homo sapiens (Human)                                                     314\n",
       "Escherichia coli (strain K12)                                            290\n",
       "Saccharomyces cerevisiae (strain ATCC 204508 / S288c) (Baker's yeast)    152\n",
       "Mycobacterium tuberculosis (strain ATCC 25618 / H37Rv)                   129\n",
       "                                                                        ... \n",
       "Leishmania mexicana                                                        1\n",
       "Dictyoglomus thermophilum                                                  1\n",
       "Planococcus sp. (strain 'SOS Orange')                                      1\n",
       "Streptomyces sp. (strain IKD472 / FERM P-14339)                            1\n",
       "Phaseolus angularis (Azuki bean) (Vigna angularis)                         1\n",
       "Name: Organism, Length: 1394, dtype: int64"
      ]
     },
     "execution_count": 59,
     "metadata": {},
     "output_type": "execute_result"
    }
   ],
   "source": [
    "data.Organism.value_counts()"
   ]
  },
  {
   "cell_type": "code",
   "execution_count": 61,
   "id": "a06a139d-9a19-4bf8-a5f7-e0ba1fa3933d",
   "metadata": {},
   "outputs": [],
   "source": [
    "data[\"ph_dependence\"] = data[\"ph_dependence\"].str.replace(\"BIOPHYSICOCHEMICAL PROPERTIES:  pH dependence: \", \"\")"
   ]
  },
  {
   "cell_type": "code",
   "execution_count": 62,
   "id": "875aaa07-e218-4a8b-a896-403505377b28",
   "metadata": {},
   "outputs": [
    {
     "data": {
      "text/plain": [
       "array(['Optimum pH is 5.5. {ECO:0000269|PubMed:34801773};',\n",
       "       'Optimum pH is 4-7. {ECO:0000269|PubMed:25219509};',\n",
       "       'Optimum pH is 7.0. Active from pH 7.0 to 8.5. {ECO:0000269|PubMed:12855702};',\n",
       "       'Optimum pH is 6. {ECO:0000269|PubMed:25217505};',\n",
       "       'Optimum pH is between 5-6. Activity decreases sharply when the pH is lowered from 5 to 4. {ECO:0000269|PubMed:27242828};',\n",
       "       'Optimum pH is around 6. Highly active between pH range 4.5-6.5. {ECO:0000269|PubMed:27242828};',\n",
       "       'Optimum pH is around 6. Activity decreases sharply when the pH is lowered from 5 to 4. {ECO:0000269|PubMed:27966647};',\n",
       "       'Optimum pH is 7.0. Stable between pH 6.0 and 9.8. {ECO:0000269|PubMed:25002425};',\n",
       "       'Optimum pH is 7.5. {ECO:0000269|PubMed:26848097};',\n",
       "       'Optimum pH is 7. {ECO:0000269|PubMed:26848097};'], dtype=object)"
      ]
     },
     "execution_count": 62,
     "metadata": {},
     "output_type": "execute_result"
    }
   ],
   "source": [
    "data[\"ph_dependence\"].head(10).values"
   ]
  },
  {
   "cell_type": "code",
   "execution_count": 55,
   "id": "ab90f642-f5d0-412e-9441-f6a4bcd795c3",
   "metadata": {},
   "outputs": [
    {
     "data": {
      "text/plain": [
       "([7.0], '')"
      ]
     },
     "execution_count": 55,
     "metadata": {},
     "output_type": "execute_result"
    }
   ],
   "source": [
    "def extract_ph_range_from_comment(comment, pattern):\n",
    "    \"\"\" Extract the pH activity info from the comment\n",
    "    Return in table format for cases where more than one pH are given\n",
    "    \"\"\"\n",
    "    real_pattern = re.compile(pattern)\n",
    "    extracted_vals = real_pattern.findall(comment)\n",
    "    texts = [x.group() for x in real_pattern.finditer(comment)]\n",
    "    matches = [[t] + (list(e) if isinstance(e, tuple) else [e])  for t, e in zip(texts, extracted_vals)]\n",
    "    \n",
    "    if len(matches) > 1:\n",
    "        return [\"more than 1 match\"], \"\"\n",
    "    elif len(matches) == 0:\n",
    "        return [\"no match\"], \"\"\n",
    "    \n",
    "    ph_vals = []\n",
    "    # keep track of how much of the comment isn't captured by the regex\n",
    "    leftover_comment = comment\n",
    "    for match in matches:\n",
    "        text = match[0]\n",
    "        leftover_comment = leftover_comment.replace(text, \"\")\n",
    "        for ph in match[1:]:\n",
    "            ph_vals += [float(ph)]\n",
    "    return ph_vals, leftover_comment\n",
    "\n",
    "    \n",
    "comment = \"Optimum pH is 7\"\n",
    "# comment = \"Optimum pH is between 5-6\"\n",
    "pattern = r\"Optimum pH is (\\d+\\.?\\d*)\\.?\"\n",
    "# pattern = r\"Optimum pH is [between ]*(\\d+\\.?\\d*)-(\\d+\\.?\\d*)\\.?\"\n",
    "\n",
    "extract_ph_range_from_comment(comment, pattern)"
   ]
  },
  {
   "cell_type": "code",
   "execution_count": 64,
   "id": "4b158772-3c7c-40e0-91d0-83aa9614a838",
   "metadata": {},
   "outputs": [
    {
     "name": "stdout",
     "output_type": "stream",
     "text": [
      "Optimum pH is 6. {ECO:0000269|PubMed:25217505};\n"
     ]
    },
    {
     "data": {
      "text/plain": [
       "([6.0], ' {ECO:0000269|PubMed:25217505};')"
      ]
     },
     "execution_count": 64,
     "metadata": {},
     "output_type": "execute_result"
    }
   ],
   "source": [
    "comment = data.loc[3].ph_dependence\n",
    "print(comment)\n",
    "extract_ph_range_from_comment(comment, pattern)"
   ]
  },
  {
   "cell_type": "code",
   "execution_count": 69,
   "id": "655d722f-5a65-460d-bce3-e38ed462cd5b",
   "metadata": {},
   "outputs": [
    {
     "data": {
      "text/plain": [
       "2"
      ]
     },
     "execution_count": 69,
     "metadata": {},
     "output_type": "execute_result"
    }
   ],
   "source": [
    "data.iloc[2].name"
   ]
  },
  {
   "cell_type": "code",
   "execution_count": 94,
   "id": "55c32bba-6244-434d-8394-fab04cd4d9df",
   "metadata": {},
   "outputs": [],
   "source": [
    "patterns = [\n",
    "    r\"Optimum pH is (?:around)?(?:about)?(?:between)? ?(\\d+\\.?\\d*)-(\\d+\\.?\\d*)\\.? ?\",\n",
    "    r\"Optimum pH is (?:around)?(?:about)?(?:between)? ?(\\d+\\.?\\d*)\\.? ?\",\n",
    "]"
   ]
  },
  {
   "cell_type": "code",
   "execution_count": 96,
   "id": "60202fee-3925-41bd-a9e7-eedb864d6072",
   "metadata": {},
   "outputs": [
    {
     "name": "stdout",
     "output_type": "stream",
     "text": [
      "\n",
      "Optimum pH is (?:around)?(?:about)?(?:between)? ?(\\d+\\.?\\d*)-(\\d+\\.?\\d*)\\.? ?\n",
      "3829  data remaining\n",
      "\n",
      "Optimum pH is (?:around)?(?:about)?(?:between)? ?(\\d+\\.?\\d*)\\.? ?\n",
      "463  data remaining\n",
      "5734 463\n"
     ]
    },
    {
     "data": {
      "text/html": [
       "<div>\n",
       "<style scoped>\n",
       "    .dataframe tbody tr th:only-of-type {\n",
       "        vertical-align: middle;\n",
       "    }\n",
       "\n",
       "    .dataframe tbody tr th {\n",
       "        vertical-align: top;\n",
       "    }\n",
       "\n",
       "    .dataframe thead th {\n",
       "        text-align: right;\n",
       "    }\n",
       "</style>\n",
       "<table border=\"1\" class=\"dataframe\">\n",
       "  <thead>\n",
       "    <tr style=\"text-align: right;\">\n",
       "      <th></th>\n",
       "      <th>uniprot_id</th>\n",
       "      <th>Reviewed</th>\n",
       "      <th>Protein names</th>\n",
       "      <th>Gene Names</th>\n",
       "      <th>Organism</th>\n",
       "      <th>Organism (ID)</th>\n",
       "      <th>Length</th>\n",
       "      <th>ph_dependence</th>\n",
       "      <th>sequence</th>\n",
       "    </tr>\n",
       "  </thead>\n",
       "  <tbody>\n",
       "    <tr>\n",
       "      <th>31</th>\n",
       "      <td>A0A0S4FKT4</td>\n",
       "      <td>reviewed</td>\n",
       "      <td>Thrombin-like enzyme collinein-1 (SVTLE collin...</td>\n",
       "      <td>NaN</td>\n",
       "      <td>Crotalus durissus collilineatus (Brazilian rat...</td>\n",
       "      <td>221569</td>\n",
       "      <td>238</td>\n",
       "      <td>Activity is stable from pH 3.5 and 10.5. {ECO:...</td>\n",
       "      <td>VIGGDECNINEHNFLVALYEYWSQSFLCGGTLINGEWVLTAAHCDR...</td>\n",
       "    </tr>\n",
       "    <tr>\n",
       "      <th>46</th>\n",
       "      <td>A0A3Q0KDV9</td>\n",
       "      <td>reviewed</td>\n",
       "      <td>Septin-10 (SmSEPT10)</td>\n",
       "      <td>SEPT10 Smp_029890</td>\n",
       "      <td>Schistosoma mansoni (Blood fluke)</td>\n",
       "      <td>6183</td>\n",
       "      <td>412</td>\n",
       "      <td>Stable at wide pH range from 4 to 9. {ECO:0000...</td>\n",
       "      <td>MTADVLKALPPDVRTLKLSGHVGFDSLPDQLVNKAISQGFVFNILC...</td>\n",
       "    </tr>\n",
       "  </tbody>\n",
       "</table>\n",
       "</div>"
      ],
      "text/plain": [
       "    uniprot_id  Reviewed                                      Protein names  \\\n",
       "31  A0A0S4FKT4  reviewed  Thrombin-like enzyme collinein-1 (SVTLE collin...   \n",
       "46  A0A3Q0KDV9  reviewed                               Septin-10 (SmSEPT10)   \n",
       "\n",
       "           Gene Names                                           Organism  \\\n",
       "31                NaN  Crotalus durissus collilineatus (Brazilian rat...   \n",
       "46  SEPT10 Smp_029890                  Schistosoma mansoni (Blood fluke)   \n",
       "\n",
       "    Organism (ID)  Length                                      ph_dependence  \\\n",
       "31         221569     238  Activity is stable from pH 3.5 and 10.5. {ECO:...   \n",
       "46           6183     412  Stable at wide pH range from 4 to 9. {ECO:0000...   \n",
       "\n",
       "                                             sequence  \n",
       "31  VIGGDECNINEHNFLVALYEYWSQSFLCGGTLINGEWVLTAAHCDR...  \n",
       "46  MTADVLKALPPDVRTLKLSGHVGFDSLPDQLVNKAISQGFVFNILC...  "
      ]
     },
     "execution_count": 96,
     "metadata": {},
     "output_type": "execute_result"
    }
   ],
   "source": [
    "def get_ph_act_from_comments(patterns, data, error_limit=1):\n",
    "    \"\"\" Function to extract the pH activity from the Brenda comments fields \n",
    "    *patterns*: list of tuples with 1) regex pattern, 2) capture labels (e.g., ('ph', 'act'))\n",
    "    *data*: dataframe with a 'comments' column\n",
    "    \"\"\"\n",
    "    data_remaining = data.copy()\n",
    "    all_results = []\n",
    "    for pattern in patterns:\n",
    "        print('\\n' + pattern)\n",
    "        results = data_remaining[\"ph_dependence\"].apply(lambda x: extract_ph_range_from_comment(x, pattern))\n",
    "        \n",
    "        table = []\n",
    "        for i, (ph_vals, leftover) in enumerate(results):\n",
    "            idx = data_remaining.iloc[i].name\n",
    "            # if there are multiple matches, or a lot more information, then skip this row\n",
    "            if \"Optimum pH is\" in leftover or len(leftover) > 150:\n",
    "                continue\n",
    "            for ph in ph_vals:\n",
    "                if ph == \"no match\":\n",
    "                    continue\n",
    "                table.append([idx, ph, leftover])\n",
    "        \n",
    "        # data_act = pd.DataFrame(table, columns=['exp_index', 'ph', 'activity', 'note'])\n",
    "        data_act = pd.DataFrame(table, columns=['prot_index', 'ph', 'note'])\n",
    "        # print(data_act)\n",
    "        data_act = data_act.replace(\"None\", np.nan).dropna(subset=['ph'])\n",
    "        all_results += [data_act]\n",
    "        \n",
    "        data_remaining = data_remaining[~data_remaining.index.isin(data_act.prot_index.astype(int))]\n",
    "        print(len(data_remaining), \" data remaining\")\n",
    "    return pd.concat(all_results), data_remaining\n",
    "\n",
    "data_act, data_remaining = get_ph_act_from_comments(patterns, data)\n",
    "print(len(data_act), len(data_remaining))\n",
    "data_remaining.head(2)"
   ]
  },
  {
   "cell_type": "code",
   "execution_count": 97,
   "id": "4ad2ce2a-0129-4719-9444-3b6955f17d5c",
   "metadata": {},
   "outputs": [],
   "source": [
    "data_act[\"ph_dependence\"] = data_act.prot_index.apply(lambda x: data.loc[x].ph_dependence)\n",
    "data_act[\"uniprot_id\"] = data_act.prot_index.apply(lambda x: data.loc[x].uniprot_id)"
   ]
  },
  {
   "cell_type": "code",
   "execution_count": 98,
   "id": "1185e9d9-0ce4-43d9-8343-763f2deed013",
   "metadata": {},
   "outputs": [
    {
     "name": "stdout",
     "output_type": "stream",
     "text": [
      "5622 575 112\n"
     ]
    },
    {
     "name": "stderr",
     "output_type": "stream",
     "text": [
      "/tmp/ipykernel_4233/1701430802.py:2: SettingWithCopyWarning: \n",
      "A value is trying to be set on a copy of a slice from a DataFrame.\n",
      "Try using .loc[row_indexer,col_indexer] = value instead\n",
      "\n",
      "See the caveats in the documentation: https://pandas.pydata.org/pandas-docs/stable/user_guide/indexing.html#returning-a-view-versus-a-copy\n",
      "  multi_match[\"note\"] = \"more than 1 match\"\n"
     ]
    }
   ],
   "source": [
    "multi_match = data_act[data_act.ph == \"more than 1 match\"]\n",
    "multi_match[\"note\"] = \"more than 1 match\"\n",
    "multi_match = multi_match.drop(columns='ph')\n",
    "data_act = data_act[data_act.ph != \"more than 1 match\"]\n",
    "\n",
    "data_remaining = data_remaining[[\"uniprot_id\", \"ph_dependence\"]].reset_index(names=['prot_index'])\n",
    "data_remaining = pd.concat([data_remaining, multi_match])\n",
    "print(len(data_act), len(data_remaining), len(multi_match))"
   ]
  },
  {
   "cell_type": "code",
   "execution_count": 99,
   "id": "3de640fc-b749-4c25-abf5-952853d001c8",
   "metadata": {},
   "outputs": [
    {
     "data": {
      "text/html": [
       "<div>\n",
       "<style scoped>\n",
       "    .dataframe tbody tr th:only-of-type {\n",
       "        vertical-align: middle;\n",
       "    }\n",
       "\n",
       "    .dataframe tbody tr th {\n",
       "        vertical-align: top;\n",
       "    }\n",
       "\n",
       "    .dataframe thead th {\n",
       "        text-align: right;\n",
       "    }\n",
       "</style>\n",
       "<table border=\"1\" class=\"dataframe\">\n",
       "  <thead>\n",
       "    <tr style=\"text-align: right;\">\n",
       "      <th></th>\n",
       "      <th>prot_index</th>\n",
       "      <th>uniprot_id</th>\n",
       "      <th>ph_dependence</th>\n",
       "      <th>note</th>\n",
       "    </tr>\n",
       "  </thead>\n",
       "  <tbody>\n",
       "    <tr>\n",
       "      <th>0</th>\n",
       "      <td>31</td>\n",
       "      <td>A0A0S4FKT4</td>\n",
       "      <td>Activity is stable from pH 3.5 and 10.5. {ECO:...</td>\n",
       "      <td>NaN</td>\n",
       "    </tr>\n",
       "    <tr>\n",
       "      <th>1</th>\n",
       "      <td>46</td>\n",
       "      <td>A0A3Q0KDV9</td>\n",
       "      <td>Stable at wide pH range from 4 to 9. {ECO:0000...</td>\n",
       "      <td>NaN</td>\n",
       "    </tr>\n",
       "    <tr>\n",
       "      <th>2</th>\n",
       "      <td>48</td>\n",
       "      <td>A0A411MR89</td>\n",
       "      <td>Stable and active at pH 3-8, but loses its act...</td>\n",
       "      <td>NaN</td>\n",
       "    </tr>\n",
       "    <tr>\n",
       "      <th>3</th>\n",
       "      <td>50</td>\n",
       "      <td>A0A6B7FMR5</td>\n",
       "      <td>Structurally relatively unstable in pure water...</td>\n",
       "      <td>NaN</td>\n",
       "    </tr>\n",
       "    <tr>\n",
       "      <th>4</th>\n",
       "      <td>54</td>\n",
       "      <td>A0FKE6</td>\n",
       "      <td>Active at alkaline pH. {ECO:0000269|PubMed:214...</td>\n",
       "      <td>NaN</td>\n",
       "    </tr>\n",
       "    <tr>\n",
       "      <th>...</th>\n",
       "      <td>...</td>\n",
       "      <td>...</td>\n",
       "      <td>...</td>\n",
       "      <td>...</td>\n",
       "    </tr>\n",
       "    <tr>\n",
       "      <th>2935</th>\n",
       "      <td>4367</td>\n",
       "      <td>B0K2C2</td>\n",
       "      <td>Optimum pH is 6.0 for phosphorolytic activity....</td>\n",
       "      <td>more than 1 match</td>\n",
       "    </tr>\n",
       "    <tr>\n",
       "      <th>2936</th>\n",
       "      <td>4368</td>\n",
       "      <td>B0K2C3</td>\n",
       "      <td>Optimum pH is 6.0 for phosphorolytic activity....</td>\n",
       "      <td>more than 1 match</td>\n",
       "    </tr>\n",
       "    <tr>\n",
       "      <th>2939</th>\n",
       "      <td>4378</td>\n",
       "      <td>B3EWI3</td>\n",
       "      <td>Optimum pH is 5.2 with ABTS as substrate. Opti...</td>\n",
       "      <td>more than 1 match</td>\n",
       "    </tr>\n",
       "    <tr>\n",
       "      <th>3281</th>\n",
       "      <td>4883</td>\n",
       "      <td>Q92DF6</td>\n",
       "      <td>Optimum pH is 7.0 for phosphorolytic activity....</td>\n",
       "      <td>more than 1 match</td>\n",
       "    </tr>\n",
       "    <tr>\n",
       "      <th>3320</th>\n",
       "      <td>4942</td>\n",
       "      <td>Q9ZW19</td>\n",
       "      <td>Optimum pH is 7.5 for quinuclidinone reduction...</td>\n",
       "      <td>more than 1 match</td>\n",
       "    </tr>\n",
       "  </tbody>\n",
       "</table>\n",
       "<p>575 rows × 4 columns</p>\n",
       "</div>"
      ],
      "text/plain": [
       "      prot_index  uniprot_id  \\\n",
       "0             31  A0A0S4FKT4   \n",
       "1             46  A0A3Q0KDV9   \n",
       "2             48  A0A411MR89   \n",
       "3             50  A0A6B7FMR5   \n",
       "4             54      A0FKE6   \n",
       "...          ...         ...   \n",
       "2935        4367      B0K2C2   \n",
       "2936        4368      B0K2C3   \n",
       "2939        4378      B3EWI3   \n",
       "3281        4883      Q92DF6   \n",
       "3320        4942      Q9ZW19   \n",
       "\n",
       "                                          ph_dependence               note  \n",
       "0     Activity is stable from pH 3.5 and 10.5. {ECO:...                NaN  \n",
       "1     Stable at wide pH range from 4 to 9. {ECO:0000...                NaN  \n",
       "2     Stable and active at pH 3-8, but loses its act...                NaN  \n",
       "3     Structurally relatively unstable in pure water...                NaN  \n",
       "4     Active at alkaline pH. {ECO:0000269|PubMed:214...                NaN  \n",
       "...                                                 ...                ...  \n",
       "2935  Optimum pH is 6.0 for phosphorolytic activity....  more than 1 match  \n",
       "2936  Optimum pH is 6.0 for phosphorolytic activity....  more than 1 match  \n",
       "2939  Optimum pH is 5.2 with ABTS as substrate. Opti...  more than 1 match  \n",
       "3281  Optimum pH is 7.0 for phosphorolytic activity....  more than 1 match  \n",
       "3320  Optimum pH is 7.5 for quinuclidinone reduction...  more than 1 match  \n",
       "\n",
       "[575 rows x 4 columns]"
      ]
     },
     "execution_count": 99,
     "metadata": {},
     "output_type": "execute_result"
    }
   ],
   "source": [
    "data_remaining"
   ]
  },
  {
   "cell_type": "code",
   "execution_count": 100,
   "id": "228e6932-6712-40bd-9760-c48304104b11",
   "metadata": {},
   "outputs": [],
   "source": [
    "out_file = Path(inputs_dir, \"parsed/20230922_ph_opt.csv\")\n",
    "data_act.to_csv(out_file, index=None)"
   ]
  },
  {
   "cell_type": "code",
   "execution_count": 101,
   "id": "538cb637-d70d-4e99-83d2-5cbdf06619ff",
   "metadata": {},
   "outputs": [],
   "source": [
    "out_file = Path(inputs_dir, \"parsed/20230922_ph_opt_remaining.csv\")\n",
    "data_remaining.to_csv(out_file, index=None)"
   ]
  },
  {
   "cell_type": "markdown",
   "id": "dc37504f-82cd-46a7-a214-aff5f68d67e3",
   "metadata": {},
   "source": [
    "I manually parsed/annotated many of the data_remaining rows\n",
    "- [20230922_ph_opt](https://docs.google.com/spreadsheets/d/1YeMUyLrA3cT1lBjfM61Dg9gPB7r7z5cu30ZtJKa08x4/edit?usp=sharing)"
   ]
  },
  {
   "cell_type": "code",
   "execution_count": 130,
   "id": "c7e54f3b-8fac-4fdb-a113-66f652f71710",
   "metadata": {},
   "outputs": [
    {
     "name": "stdout",
     "output_type": "stream",
     "text": [
      "777\n"
     ]
    },
    {
     "data": {
      "text/html": [
       "<div>\n",
       "<style scoped>\n",
       "    .dataframe tbody tr th:only-of-type {\n",
       "        vertical-align: middle;\n",
       "    }\n",
       "\n",
       "    .dataframe tbody tr th {\n",
       "        vertical-align: top;\n",
       "    }\n",
       "\n",
       "    .dataframe thead th {\n",
       "        text-align: right;\n",
       "    }\n",
       "</style>\n",
       "<table border=\"1\" class=\"dataframe\">\n",
       "  <thead>\n",
       "    <tr style=\"text-align: right;\">\n",
       "      <th></th>\n",
       "      <th>prot_index</th>\n",
       "      <th>uniprot_id</th>\n",
       "      <th>ph</th>\n",
       "      <th>activity</th>\n",
       "      <th>note</th>\n",
       "      <th>reaction_type</th>\n",
       "      <th>ph_dependence</th>\n",
       "    </tr>\n",
       "  </thead>\n",
       "  <tbody>\n",
       "    <tr>\n",
       "      <th>0</th>\n",
       "      <td>31</td>\n",
       "      <td>A0A0S4FKT4</td>\n",
       "      <td>NaN</td>\n",
       "      <td>NaN</td>\n",
       "      <td>NaN</td>\n",
       "      <td>NaN</td>\n",
       "      <td>Activity is stable from pH 3.5 and 10.5. {ECO:...</td>\n",
       "    </tr>\n",
       "    <tr>\n",
       "      <th>1</th>\n",
       "      <td>46</td>\n",
       "      <td>A0A3Q0KDV9</td>\n",
       "      <td>NaN</td>\n",
       "      <td>NaN</td>\n",
       "      <td>NaN</td>\n",
       "      <td>NaN</td>\n",
       "      <td>Stable at wide pH range from 4 to 9. {ECO:0000...</td>\n",
       "    </tr>\n",
       "  </tbody>\n",
       "</table>\n",
       "</div>"
      ],
      "text/plain": [
       "   prot_index  uniprot_id  ph  activity note reaction_type  \\\n",
       "0          31  A0A0S4FKT4 NaN       NaN  NaN           NaN   \n",
       "1          46  A0A3Q0KDV9 NaN       NaN  NaN           NaN   \n",
       "\n",
       "                                       ph_dependence  \n",
       "0  Activity is stable from pH 3.5 and 10.5. {ECO:...  \n",
       "1  Stable at wide pH range from 4 to 9. {ECO:0000...  "
      ]
     },
     "execution_count": 130,
     "metadata": {},
     "output_type": "execute_result"
    }
   ],
   "source": [
    "out_file = Path(inputs_dir, \"parsed/20230922_ph_opt_remaining_ann.csv\")\n",
    "data_rem_ann = pd.read_csv(out_file)\n",
    "print(len(data_rem_ann))\n",
    "data_rem_ann.head(2)"
   ]
  },
  {
   "cell_type": "code",
   "execution_count": 131,
   "id": "2decf1cb-f28d-4faf-ac9e-6f4643f02bb3",
   "metadata": {},
   "outputs": [
    {
     "name": "stdout",
     "output_type": "stream",
     "text": [
      "513 311\n"
     ]
    }
   ],
   "source": [
    "data_rem_ann = data_rem_ann.dropna(subset=\"ph\")\n",
    "print(len(data_rem_ann), data_rem_ann.uniprot_id.nunique())"
   ]
  },
  {
   "cell_type": "code",
   "execution_count": 109,
   "id": "b97efaa4-82ee-444b-a8c4-3c7486c9fef0",
   "metadata": {},
   "outputs": [
    {
     "data": {
      "text/html": [
       "<div>\n",
       "<style scoped>\n",
       "    .dataframe tbody tr th:only-of-type {\n",
       "        vertical-align: middle;\n",
       "    }\n",
       "\n",
       "    .dataframe tbody tr th {\n",
       "        vertical-align: top;\n",
       "    }\n",
       "\n",
       "    .dataframe thead th {\n",
       "        text-align: right;\n",
       "    }\n",
       "</style>\n",
       "<table border=\"1\" class=\"dataframe\">\n",
       "  <thead>\n",
       "    <tr style=\"text-align: right;\">\n",
       "      <th></th>\n",
       "      <th>prot_index</th>\n",
       "      <th>ph</th>\n",
       "      <th>note</th>\n",
       "      <th>ph_dependence</th>\n",
       "      <th>uniprot_id</th>\n",
       "    </tr>\n",
       "  </thead>\n",
       "  <tbody>\n",
       "    <tr>\n",
       "      <th>0</th>\n",
       "      <td>1</td>\n",
       "      <td>4.0</td>\n",
       "      <td>{ECO:0000269|PubMed:25219509};</td>\n",
       "      <td>Optimum pH is 4-7. {ECO:0000269|PubMed:25219509};</td>\n",
       "      <td>A0A024SC78</td>\n",
       "    </tr>\n",
       "    <tr>\n",
       "      <th>1</th>\n",
       "      <td>1</td>\n",
       "      <td>7.0</td>\n",
       "      <td>{ECO:0000269|PubMed:25219509};</td>\n",
       "      <td>Optimum pH is 4-7. {ECO:0000269|PubMed:25219509};</td>\n",
       "      <td>A0A024SC78</td>\n",
       "    </tr>\n",
       "  </tbody>\n",
       "</table>\n",
       "</div>"
      ],
      "text/plain": [
       "   prot_index   ph                            note  \\\n",
       "0           1  4.0  {ECO:0000269|PubMed:25219509};   \n",
       "1           1  7.0  {ECO:0000269|PubMed:25219509};   \n",
       "\n",
       "                                       ph_dependence  uniprot_id  \n",
       "0  Optimum pH is 4-7. {ECO:0000269|PubMed:25219509};  A0A024SC78  \n",
       "1  Optimum pH is 4-7. {ECO:0000269|PubMed:25219509};  A0A024SC78  "
      ]
     },
     "execution_count": 109,
     "metadata": {},
     "output_type": "execute_result"
    }
   ],
   "source": [
    "data_act.head(2)"
   ]
  },
  {
   "cell_type": "code",
   "execution_count": 112,
   "id": "7c66f523-4e2b-4ad7-94e8-d7b0fa74452f",
   "metadata": {},
   "outputs": [],
   "source": [
    "pd.options.mode.chained_assignment = None"
   ]
  },
  {
   "cell_type": "code",
   "execution_count": 113,
   "id": "6b5d0860-c8b4-4cb7-a0d3-a52b96038d02",
   "metadata": {},
   "outputs": [
    {
     "name": "stdout",
     "output_type": "stream",
     "text": [
      "5622 4429\n"
     ]
    },
    {
     "data": {
      "text/html": [
       "<div>\n",
       "<style scoped>\n",
       "    .dataframe tbody tr th:only-of-type {\n",
       "        vertical-align: middle;\n",
       "    }\n",
       "\n",
       "    .dataframe tbody tr th {\n",
       "        vertical-align: top;\n",
       "    }\n",
       "\n",
       "    .dataframe thead th {\n",
       "        text-align: right;\n",
       "    }\n",
       "</style>\n",
       "<table border=\"1\" class=\"dataframe\">\n",
       "  <thead>\n",
       "    <tr style=\"text-align: right;\">\n",
       "      <th></th>\n",
       "      <th>prot_index</th>\n",
       "      <th>ph</th>\n",
       "      <th>note</th>\n",
       "      <th>ph_dependence</th>\n",
       "      <th>uniprot_id</th>\n",
       "      <th>min_max_diff</th>\n",
       "    </tr>\n",
       "  </thead>\n",
       "  <tbody>\n",
       "    <tr>\n",
       "      <th>0</th>\n",
       "      <td>0</td>\n",
       "      <td>5.5</td>\n",
       "      <td>{ECO:0000269|PubMed:34801773};</td>\n",
       "      <td>Optimum pH is 5.5. {ECO:0000269|PubMed:34801773};</td>\n",
       "      <td>A0A023I7E1</td>\n",
       "      <td>NaN</td>\n",
       "    </tr>\n",
       "    <tr>\n",
       "      <th>2898</th>\n",
       "      <td>4323</td>\n",
       "      <td>4.5</td>\n",
       "      <td>with CMC as substrate. {ECO:0000269|PubMed:335...</td>\n",
       "      <td>Optimum pH is 4.5 with CMC as substrate. {ECO:...</td>\n",
       "      <td>A0A023VXA2</td>\n",
       "      <td>NaN</td>\n",
       "    </tr>\n",
       "  </tbody>\n",
       "</table>\n",
       "</div>"
      ],
      "text/plain": [
       "      prot_index   ph                                               note  \\\n",
       "0              0  5.5                     {ECO:0000269|PubMed:34801773};   \n",
       "2898        4323  4.5  with CMC as substrate. {ECO:0000269|PubMed:335...   \n",
       "\n",
       "                                          ph_dependence  uniprot_id  \\\n",
       "0     Optimum pH is 5.5. {ECO:0000269|PubMed:34801773};  A0A023I7E1   \n",
       "2898  Optimum pH is 4.5 with CMC as substrate. {ECO:...  A0A023VXA2   \n",
       "\n",
       "      min_max_diff  \n",
       "0              NaN  \n",
       "2898           NaN  "
      ]
     },
     "execution_count": 113,
     "metadata": {},
     "output_type": "execute_result"
    }
   ],
   "source": [
    "data_act_mean = []\n",
    "for u_id, df in data_act.groupby(\"uniprot_id\"):\n",
    "    if len(df) == 1:\n",
    "        data_act_mean += [df]\n",
    "        continue\n",
    "        \n",
    "    min_max_diff = df.ph.max() - df.ph.min()\n",
    "    if min_max_diff > 4:\n",
    "        continue\n",
    "    df2 = df.head(1)\n",
    "    df2['ph'] = [df.ph.mean()]\n",
    "    df2['min_max_diff'] = min_max_diff\n",
    "    data_act_mean += [df2]\n",
    "    \n",
    "data_act_mean = pd.concat(data_act_mean)\n",
    "print(len(data_act), len(data_act_mean))\n",
    "data_act_mean.head(2)"
   ]
  },
  {
   "cell_type": "code",
   "execution_count": 114,
   "id": "553f0f75-5ef3-4104-aa5f-ed17e6aa1893",
   "metadata": {},
   "outputs": [
    {
     "data": {
      "text/html": [
       "<div>\n",
       "<style scoped>\n",
       "    .dataframe tbody tr th:only-of-type {\n",
       "        vertical-align: middle;\n",
       "    }\n",
       "\n",
       "    .dataframe tbody tr th {\n",
       "        vertical-align: top;\n",
       "    }\n",
       "\n",
       "    .dataframe thead th {\n",
       "        text-align: right;\n",
       "    }\n",
       "</style>\n",
       "<table border=\"1\" class=\"dataframe\">\n",
       "  <thead>\n",
       "    <tr style=\"text-align: right;\">\n",
       "      <th></th>\n",
       "      <th>prot_index</th>\n",
       "      <th>uniprot_id</th>\n",
       "      <th>ph</th>\n",
       "      <th>activity</th>\n",
       "      <th>note</th>\n",
       "      <th>reaction_type</th>\n",
       "      <th>ph_dependence</th>\n",
       "    </tr>\n",
       "  </thead>\n",
       "  <tbody>\n",
       "    <tr>\n",
       "      <th>5</th>\n",
       "      <td>57</td>\n",
       "      <td>A0QQJ4</td>\n",
       "      <td>5.5</td>\n",
       "      <td>1.0</td>\n",
       "      <td>NaN</td>\n",
       "      <td>NaN</td>\n",
       "      <td>Optimum pHs are 5.5 and 8.0. {ECO:0000269|PubM...</td>\n",
       "    </tr>\n",
       "    <tr>\n",
       "      <th>6</th>\n",
       "      <td>57</td>\n",
       "      <td>A0QQJ4</td>\n",
       "      <td>8.0</td>\n",
       "      <td>1.0</td>\n",
       "      <td>NaN</td>\n",
       "      <td>NaN</td>\n",
       "      <td>Optimum pHs are 5.5 and 8.0. {ECO:0000269|PubM...</td>\n",
       "    </tr>\n",
       "  </tbody>\n",
       "</table>\n",
       "</div>"
      ],
      "text/plain": [
       "   prot_index uniprot_id   ph  activity note reaction_type  \\\n",
       "5          57     A0QQJ4  5.5       1.0  NaN           NaN   \n",
       "6          57     A0QQJ4  8.0       1.0  NaN           NaN   \n",
       "\n",
       "                                       ph_dependence  \n",
       "5  Optimum pHs are 5.5 and 8.0. {ECO:0000269|PubM...  \n",
       "6  Optimum pHs are 5.5 and 8.0. {ECO:0000269|PubM...  "
      ]
     },
     "execution_count": 114,
     "metadata": {},
     "output_type": "execute_result"
    }
   ],
   "source": [
    "data_rem_ann.head(2)"
   ]
  },
  {
   "cell_type": "code",
   "execution_count": 121,
   "id": "6a41d25e-a6c8-461d-85aa-5cd3064642a0",
   "metadata": {},
   "outputs": [
    {
     "data": {
      "text/html": [
       "<div>\n",
       "<style scoped>\n",
       "    .dataframe tbody tr th:only-of-type {\n",
       "        vertical-align: middle;\n",
       "    }\n",
       "\n",
       "    .dataframe tbody tr th {\n",
       "        vertical-align: top;\n",
       "    }\n",
       "\n",
       "    .dataframe thead th {\n",
       "        text-align: right;\n",
       "    }\n",
       "</style>\n",
       "<table border=\"1\" class=\"dataframe\">\n",
       "  <thead>\n",
       "    <tr style=\"text-align: right;\">\n",
       "      <th></th>\n",
       "      <th>prot_index</th>\n",
       "      <th>ph</th>\n",
       "      <th>note</th>\n",
       "      <th>ph_dependence</th>\n",
       "      <th>uniprot_id</th>\n",
       "      <th>min_max_diff</th>\n",
       "      <th>activity</th>\n",
       "      <th>reaction_type</th>\n",
       "    </tr>\n",
       "  </thead>\n",
       "  <tbody>\n",
       "    <tr>\n",
       "      <th>2985</th>\n",
       "      <td>4441</td>\n",
       "      <td>70.0</td>\n",
       "      <td>{ECO:0000269|PubMed:17981969};</td>\n",
       "      <td>Optimum pH is 70. {ECO:0000269|PubMed:17981969};</td>\n",
       "      <td>D7REY3</td>\n",
       "      <td>NaN</td>\n",
       "      <td>1.0</td>\n",
       "      <td>NaN</td>\n",
       "    </tr>\n",
       "    <tr>\n",
       "      <th>2986</th>\n",
       "      <td>4442</td>\n",
       "      <td>70.0</td>\n",
       "      <td>{ECO:0000269|PubMed:17981969};</td>\n",
       "      <td>Optimum pH is 70. {ECO:0000269|PubMed:17981969};</td>\n",
       "      <td>D7REY4</td>\n",
       "      <td>NaN</td>\n",
       "      <td>1.0</td>\n",
       "      <td>NaN</td>\n",
       "    </tr>\n",
       "    <tr>\n",
       "      <th>2987</th>\n",
       "      <td>4443</td>\n",
       "      <td>70.0</td>\n",
       "      <td>{ECO:0000269|PubMed:17981969};</td>\n",
       "      <td>Optimum pH is 70. {ECO:0000269|PubMed:17981969};</td>\n",
       "      <td>D7REY5</td>\n",
       "      <td>NaN</td>\n",
       "      <td>1.0</td>\n",
       "      <td>NaN</td>\n",
       "    </tr>\n",
       "  </tbody>\n",
       "</table>\n",
       "</div>"
      ],
      "text/plain": [
       "      prot_index    ph                            note  \\\n",
       "2985        4441  70.0  {ECO:0000269|PubMed:17981969};   \n",
       "2986        4442  70.0  {ECO:0000269|PubMed:17981969};   \n",
       "2987        4443  70.0  {ECO:0000269|PubMed:17981969};   \n",
       "\n",
       "                                         ph_dependence uniprot_id  \\\n",
       "2985  Optimum pH is 70. {ECO:0000269|PubMed:17981969};     D7REY3   \n",
       "2986  Optimum pH is 70. {ECO:0000269|PubMed:17981969};     D7REY4   \n",
       "2987  Optimum pH is 70. {ECO:0000269|PubMed:17981969};     D7REY5   \n",
       "\n",
       "      min_max_diff  activity reaction_type  \n",
       "2985           NaN       1.0           NaN  \n",
       "2986           NaN       1.0           NaN  \n",
       "2987           NaN       1.0           NaN  "
      ]
     },
     "execution_count": 121,
     "metadata": {},
     "output_type": "execute_result"
    }
   ],
   "source": [
    "# these should be 7\n",
    "data_act_mean[data_act_mean.ph > 13]"
   ]
  },
  {
   "cell_type": "code",
   "execution_count": 125,
   "id": "3fab1885-dbd0-427b-9644-11d2636d7f7d",
   "metadata": {},
   "outputs": [],
   "source": [
    "data_act_mean.loc[data_act_mean.ph > 13, \"ph\"] = 7"
   ]
  },
  {
   "cell_type": "code",
   "execution_count": 132,
   "id": "37597880-d9d1-4807-a83d-8f2eb57a91b7",
   "metadata": {},
   "outputs": [
    {
     "name": "stdout",
     "output_type": "stream",
     "text": [
      "4942 4740\n"
     ]
    }
   ],
   "source": [
    "data_act_mean[\"activity\"] = 1\n",
    "data_merged = pd.concat([data_act_mean, data_rem_ann])\n",
    "print(len(data_merged), data_merged.uniprot_id.nunique())"
   ]
  },
  {
   "cell_type": "code",
   "execution_count": 127,
   "id": "533e366a-bd61-4389-860b-7277c15d5d6f",
   "metadata": {},
   "outputs": [
    {
     "data": {
      "text/html": [
       "<div>\n",
       "<style scoped>\n",
       "    .dataframe tbody tr th:only-of-type {\n",
       "        vertical-align: middle;\n",
       "    }\n",
       "\n",
       "    .dataframe tbody tr th {\n",
       "        vertical-align: top;\n",
       "    }\n",
       "\n",
       "    .dataframe thead th {\n",
       "        text-align: right;\n",
       "    }\n",
       "</style>\n",
       "<table border=\"1\" class=\"dataframe\">\n",
       "  <thead>\n",
       "    <tr style=\"text-align: right;\">\n",
       "      <th></th>\n",
       "      <th>prot_index</th>\n",
       "      <th>ph</th>\n",
       "      <th>note</th>\n",
       "      <th>ph_dependence</th>\n",
       "      <th>uniprot_id</th>\n",
       "      <th>min_max_diff</th>\n",
       "      <th>activity</th>\n",
       "      <th>reaction_type</th>\n",
       "    </tr>\n",
       "  </thead>\n",
       "  <tbody>\n",
       "    <tr>\n",
       "      <th>0</th>\n",
       "      <td>0</td>\n",
       "      <td>5.5</td>\n",
       "      <td>{ECO:0000269|PubMed:34801773};</td>\n",
       "      <td>Optimum pH is 5.5. {ECO:0000269|PubMed:34801773};</td>\n",
       "      <td>A0A023I7E1</td>\n",
       "      <td>NaN</td>\n",
       "      <td>1.0</td>\n",
       "      <td>NaN</td>\n",
       "    </tr>\n",
       "    <tr>\n",
       "      <th>2898</th>\n",
       "      <td>4323</td>\n",
       "      <td>4.5</td>\n",
       "      <td>with CMC as substrate. {ECO:0000269|PubMed:335...</td>\n",
       "      <td>Optimum pH is 4.5 with CMC as substrate. {ECO:...</td>\n",
       "      <td>A0A023VXA2</td>\n",
       "      <td>NaN</td>\n",
       "      <td>1.0</td>\n",
       "      <td>NaN</td>\n",
       "    </tr>\n",
       "  </tbody>\n",
       "</table>\n",
       "</div>"
      ],
      "text/plain": [
       "      prot_index   ph                                               note  \\\n",
       "0              0  5.5                     {ECO:0000269|PubMed:34801773};   \n",
       "2898        4323  4.5  with CMC as substrate. {ECO:0000269|PubMed:335...   \n",
       "\n",
       "                                          ph_dependence  uniprot_id  \\\n",
       "0     Optimum pH is 5.5. {ECO:0000269|PubMed:34801773};  A0A023I7E1   \n",
       "2898  Optimum pH is 4.5 with CMC as substrate. {ECO:...  A0A023VXA2   \n",
       "\n",
       "      min_max_diff  activity reaction_type  \n",
       "0              NaN       1.0           NaN  \n",
       "2898           NaN       1.0           NaN  "
      ]
     },
     "execution_count": 127,
     "metadata": {},
     "output_type": "execute_result"
    }
   ],
   "source": [
    "data_merged.head(2)"
   ]
  },
  {
   "cell_type": "code",
   "execution_count": 117,
   "id": "f5d1941b-bbce-4195-8acc-6555520e457e",
   "metadata": {},
   "outputs": [],
   "source": [
    "# add the organism?"
   ]
  },
  {
   "cell_type": "code",
   "execution_count": 128,
   "id": "3d18e199-fd92-4cf1-9415-02f6684c51f1",
   "metadata": {},
   "outputs": [
    {
     "data": {
      "text/plain": [
       "<AxesSubplot: ylabel='Frequency'>"
      ]
     },
     "execution_count": 128,
     "metadata": {},
     "output_type": "execute_result"
    },
    {
     "data": {
      "image/png": "[encoded data removed]",
      "text/plain": [
       "<Figure size 640x480 with 1 Axes>"
      ]
     },
     "metadata": {},
     "output_type": "display_data"
    }
   ],
   "source": [
    "data_act_mean.ph.plot.hist(bins=30)"
   ]
  },
  {
   "cell_type": "code",
   "execution_count": 133,
   "id": "9bc758a5-b7d2-481a-9b5e-7bcefef787ee",
   "metadata": {},
   "outputs": [
    {
     "data": {
      "text/html": [
       "<div>\n",
       "<style scoped>\n",
       "    .dataframe tbody tr th:only-of-type {\n",
       "        vertical-align: middle;\n",
       "    }\n",
       "\n",
       "    .dataframe tbody tr th {\n",
       "        vertical-align: top;\n",
       "    }\n",
       "\n",
       "    .dataframe thead th {\n",
       "        text-align: right;\n",
       "    }\n",
       "</style>\n",
       "<table border=\"1\" class=\"dataframe\">\n",
       "  <thead>\n",
       "    <tr style=\"text-align: right;\">\n",
       "      <th></th>\n",
       "      <th>prot_index</th>\n",
       "      <th>ph</th>\n",
       "      <th>note</th>\n",
       "      <th>ph_dependence</th>\n",
       "      <th>uniprot_id</th>\n",
       "      <th>min_max_diff</th>\n",
       "      <th>activity</th>\n",
       "      <th>reaction_type</th>\n",
       "    </tr>\n",
       "  </thead>\n",
       "  <tbody>\n",
       "  </tbody>\n",
       "</table>\n",
       "</div>"
      ],
      "text/plain": [
       "Empty DataFrame\n",
       "Columns: [prot_index, ph, note, ph_dependence, uniprot_id, min_max_diff, activity, reaction_type]\n",
       "Index: []"
      ]
     },
     "execution_count": 133,
     "metadata": {},
     "output_type": "execute_result"
    }
   ],
   "source": [
    "data_merged[data_merged.activity > 1]"
   ]
  },
  {
   "cell_type": "code",
   "execution_count": 134,
   "id": "695c1c53-10c9-452c-9935-d4d26f48e796",
   "metadata": {},
   "outputs": [
    {
     "data": {
      "text/html": [
       "<div>\n",
       "<style scoped>\n",
       "    .dataframe tbody tr th:only-of-type {\n",
       "        vertical-align: middle;\n",
       "    }\n",
       "\n",
       "    .dataframe tbody tr th {\n",
       "        vertical-align: top;\n",
       "    }\n",
       "\n",
       "    .dataframe thead th {\n",
       "        text-align: right;\n",
       "    }\n",
       "</style>\n",
       "<table border=\"1\" class=\"dataframe\">\n",
       "  <thead>\n",
       "    <tr style=\"text-align: right;\">\n",
       "      <th></th>\n",
       "      <th>prot_index</th>\n",
       "      <th>ph</th>\n",
       "      <th>note</th>\n",
       "      <th>ph_dependence</th>\n",
       "      <th>uniprot_id</th>\n",
       "      <th>min_max_diff</th>\n",
       "      <th>activity</th>\n",
       "      <th>reaction_type</th>\n",
       "    </tr>\n",
       "  </thead>\n",
       "  <tbody>\n",
       "  </tbody>\n",
       "</table>\n",
       "</div>"
      ],
      "text/plain": [
       "Empty DataFrame\n",
       "Columns: [prot_index, ph, note, ph_dependence, uniprot_id, min_max_diff, activity, reaction_type]\n",
       "Index: []"
      ]
     },
     "execution_count": 134,
     "metadata": {},
     "output_type": "execute_result"
    }
   ],
   "source": [
    "data_merged[data_merged.activity < 0]"
   ]
  },
  {
   "cell_type": "code",
   "execution_count": 137,
   "id": "28b64e87-9c4e-4d29-945a-84d22cf3afeb",
   "metadata": {},
   "outputs": [
    {
     "data": {
      "text/html": [
       "<div>\n",
       "<style scoped>\n",
       "    .dataframe tbody tr th:only-of-type {\n",
       "        vertical-align: middle;\n",
       "    }\n",
       "\n",
       "    .dataframe tbody tr th {\n",
       "        vertical-align: top;\n",
       "    }\n",
       "\n",
       "    .dataframe thead th {\n",
       "        text-align: right;\n",
       "    }\n",
       "</style>\n",
       "<table border=\"1\" class=\"dataframe\">\n",
       "  <thead>\n",
       "    <tr style=\"text-align: right;\">\n",
       "      <th></th>\n",
       "      <th>prot_index</th>\n",
       "      <th>ph</th>\n",
       "      <th>note</th>\n",
       "      <th>ph_dependence</th>\n",
       "      <th>uniprot_id</th>\n",
       "      <th>min_max_diff</th>\n",
       "      <th>activity</th>\n",
       "      <th>reaction_type</th>\n",
       "    </tr>\n",
       "  </thead>\n",
       "  <tbody>\n",
       "    <tr>\n",
       "      <th>0</th>\n",
       "      <td>0</td>\n",
       "      <td>5.5</td>\n",
       "      <td>{ECO:0000269|PubMed:34801773};</td>\n",
       "      <td>Optimum pH is 5.5. {ECO:0000269|PubMed:34801773};</td>\n",
       "      <td>A0A023I7E1</td>\n",
       "      <td>NaN</td>\n",
       "      <td>1.0</td>\n",
       "      <td>NaN</td>\n",
       "    </tr>\n",
       "    <tr>\n",
       "      <th>2898</th>\n",
       "      <td>4323</td>\n",
       "      <td>4.5</td>\n",
       "      <td>with CMC as substrate. {ECO:0000269|PubMed:335...</td>\n",
       "      <td>Optimum pH is 4.5 with CMC as substrate. {ECO:...</td>\n",
       "      <td>A0A023VXA2</td>\n",
       "      <td>NaN</td>\n",
       "      <td>1.0</td>\n",
       "      <td>NaN</td>\n",
       "    </tr>\n",
       "    <tr>\n",
       "      <th>0</th>\n",
       "      <td>1</td>\n",
       "      <td>5.5</td>\n",
       "      <td>{ECO:0000269|PubMed:25219509};</td>\n",
       "      <td>Optimum pH is 4-7. {ECO:0000269|PubMed:25219509};</td>\n",
       "      <td>A0A024SC78</td>\n",
       "      <td>3.0</td>\n",
       "      <td>1.0</td>\n",
       "      <td>NaN</td>\n",
       "    </tr>\n",
       "  </tbody>\n",
       "</table>\n",
       "</div>"
      ],
      "text/plain": [
       "      prot_index   ph                                               note  \\\n",
       "0              0  5.5                     {ECO:0000269|PubMed:34801773};   \n",
       "2898        4323  4.5  with CMC as substrate. {ECO:0000269|PubMed:335...   \n",
       "0              1  5.5                     {ECO:0000269|PubMed:25219509};   \n",
       "\n",
       "                                          ph_dependence  uniprot_id  \\\n",
       "0     Optimum pH is 5.5. {ECO:0000269|PubMed:34801773};  A0A023I7E1   \n",
       "2898  Optimum pH is 4.5 with CMC as substrate. {ECO:...  A0A023VXA2   \n",
       "0     Optimum pH is 4-7. {ECO:0000269|PubMed:25219509};  A0A024SC78   \n",
       "\n",
       "      min_max_diff  activity reaction_type  \n",
       "0              NaN       1.0           NaN  \n",
       "2898           NaN       1.0           NaN  \n",
       "0              3.0       1.0           NaN  "
      ]
     },
     "execution_count": 137,
     "metadata": {},
     "output_type": "execute_result"
    }
   ],
   "source": [
    "data_merged.head(3)"
   ]
  },
  {
   "cell_type": "code",
   "execution_count": 141,
   "id": "9ae294c3-1344-4c82-b771-0911bcd51ec9",
   "metadata": {},
   "outputs": [
    {
     "data": {
      "text/plain": [
       "<AxesSubplot: ylabel='Frequency'>"
      ]
     },
     "execution_count": 141,
     "metadata": {},
     "output_type": "execute_result"
    },
    {
     "data": {
      "image/png": "[encoded data removed]",
      "text/plain": [
       "<Figure size 640x480 with 1 Axes>"
      ]
     },
     "metadata": {},
     "output_type": "display_data"
    }
   ],
   "source": [
    "data_merged.min_max_diff.plot.hist()"
   ]
  },
  {
   "cell_type": "code",
   "execution_count": 138,
   "id": "be1f7c28-4099-4e78-875e-967a772bf471",
   "metadata": {},
   "outputs": [],
   "source": [
    "out_file = Path(inputs_dir, \"parsed/20230922_ph_opt_redox_ann.csv\")\n",
    "data_merged.to_csv(out_file, index=False)"
   ]
  },
  {
   "cell_type": "code",
   "execution_count": null,
   "id": "37945159-572f-4add-9173-970d0ed387ab",
   "metadata": {},
   "outputs": [],
   "source": [
    "# TODO also get the EC number where possible\n",
    "# What about proteins with multiple EC numbers?"
   ]
  },
  {
   "cell_type": "code",
   "execution_count": null,
   "id": "6b80b64a-f11e-4f33-a395-b72ce7bd6a79",
   "metadata": {},
   "outputs": [],
   "source": []
  }
 ],
 "metadata": {
  "kernelspec": {
   "display_name": "Python 3 (ipykernel)",
   "language": "python",
   "name": "python3"
  },
  "language_info": {
   "codemirror_mode": {
    "name": "ipython",
    "version": 3
   },
   "file_extension": ".py",
   "mimetype": "text/x-python",
   "name": "python",
   "nbconvert_exporter": "python",
   "pygments_lexer": "ipython3",
   "version": "3.10.8"
  }
 },
 "nbformat": 4,
 "nbformat_minor": 5
}
