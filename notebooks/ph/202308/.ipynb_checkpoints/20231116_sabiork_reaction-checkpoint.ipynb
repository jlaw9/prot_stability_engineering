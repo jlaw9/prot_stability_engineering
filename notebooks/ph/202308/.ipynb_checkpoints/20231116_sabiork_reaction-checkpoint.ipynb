{
 "cells": [
  {
   "cell_type": "code",
   "execution_count": 1,
   "id": "c849f339-0c56-47d8-910b-e199da74c717",
   "metadata": {},
   "outputs": [],
   "source": [
    "import numpy as np\n",
    "import pandas as pd\n",
    "import os\n",
    "import itertools\n",
    "from typing import List, Tuple\n",
    "import string\n",
    "from pathlib import Path\n",
    "from tqdm.auto import tqdm, trange\n",
    "\n",
    "import matplotlib.pyplot as plt\n",
    "import seaborn as sns\n",
    "\n",
    "%matplotlib inline"
   ]
  },
  {
   "cell_type": "code",
   "execution_count": 48,
   "id": "cc82563e-101c-4998-923e-ba2d619be33c",
   "metadata": {},
   "outputs": [
    {
     "data": {
      "application/vnd.jupyter.widget-view+json": {
       "model_id": "33d4485d3bdb4df1841be7ddb61b2c79",
       "version_major": 2,
       "version_minor": 0
      },
      "text/plain": [
       "  0%|          | 0/6186 [00:00<?, ?it/s]"
      ]
     },
     "metadata": {},
     "output_type": "display_data"
    }
   ],
   "source": [
    "import glob\n",
    "\n",
    "input_dir = \"/projects/robustmicrob/jlaw/projects/DLKcat/DeeplearningApproach/Data/database/Kcat_sabio_4\"\n",
    "data = []\n",
    "for f in tqdm(sorted(glob.glob(input_dir + \"/*.txt\"))):\n",
    "    # print(f)\n",
    "    df = pd.read_table(f)\n",
    "    # df = df.drop_duplicates(subset=\"EntryID\", keep=\"first\")\n",
    "    # print(df.head(2))\n",
    "    data += [df]\n",
    "    \n",
    "data = pd.concat(data)"
   ]
  },
  {
   "cell_type": "code",
   "execution_count": 49,
   "id": "bc1537ab-bdd0-4ad5-abd7-2ad2bfb96be9",
   "metadata": {},
   "outputs": [],
   "source": [
    "out_file = \"/projects/robustmicrob/jlaw/projects/DLKcat/DeeplearningApproach/Data/database/Kcat_sabio_3_results.txt\"\n",
    "data.to_csv(out_file)"
   ]
  },
  {
   "cell_type": "code",
   "execution_count": 49,
   "id": "cb208bf2-beb0-480b-aae0-595fa6909333",
   "metadata": {},
   "outputs": [],
   "source": [
    "out_file = \"/projects/robustmicrob/jlaw/projects/DLKcat/DeeplearningApproach/Data/database/Kcat_sabio_3_results.txt\"\n",
    "data.to_csv(out_file)"
   ]
  },
  {
   "cell_type": "code",
   "execution_count": 37,
   "id": "5e721f3d-0c75-49bc-8eb6-dff36c9b08e9",
   "metadata": {},
   "outputs": [],
   "source": [
    "# drop these for now\n",
    "data = data.drop(columns=[\"parameter.type\", \"parameter.associatedSpecies\", \"parameter.startValue\", \"parameter.endValue\", \"parameter.standardDeviation\", \"parameter.unit\"])"
   ]
  },
  {
   "cell_type": "code",
   "execution_count": 38,
   "id": "0f1e8f5e-a279-4e52-a073-8d6d00c00d97",
   "metadata": {},
   "outputs": [],
   "source": [
    "data = data.replace(\"-\", np.nan)"
   ]
  },
  {
   "cell_type": "code",
   "execution_count": 39,
   "id": "cdd6f421-558d-4866-b8c2-3570579f1f6b",
   "metadata": {},
   "outputs": [
    {
     "name": "stdout",
     "output_type": "stream",
     "text": [
      "19127 22863\n"
     ]
    }
   ],
   "source": [
    "data_prot = data.dropna(subset=\"UniprotID\")\n",
    "print(len(data_prot), len(data))"
   ]
  },
  {
   "cell_type": "code",
   "execution_count": 40,
   "id": "87bac8b4-ae22-47ad-97ed-3a719b3eb79b",
   "metadata": {},
   "outputs": [
    {
     "data": {
      "text/html": [
       "<div>\n",
       "<style scoped>\n",
       "    .dataframe tbody tr th:only-of-type {\n",
       "        vertical-align: middle;\n",
       "    }\n",
       "\n",
       "    .dataframe tbody tr th {\n",
       "        vertical-align: top;\n",
       "    }\n",
       "\n",
       "    .dataframe thead th {\n",
       "        text-align: right;\n",
       "    }\n",
       "</style>\n",
       "<table border=\"1\" class=\"dataframe\">\n",
       "  <thead>\n",
       "    <tr style=\"text-align: right;\">\n",
       "      <th></th>\n",
       "      <th>EntryID</th>\n",
       "      <th>Substrate</th>\n",
       "      <th>Product</th>\n",
       "      <th>EnzymeType</th>\n",
       "      <th>PubMedID</th>\n",
       "      <th>Organism</th>\n",
       "      <th>UniprotID</th>\n",
       "      <th>ECNumber</th>\n",
       "      <th>Temperature</th>\n",
       "      <th>pH</th>\n",
       "      <th>PubMedID.1</th>\n",
       "    </tr>\n",
       "  </thead>\n",
       "  <tbody>\n",
       "    <tr>\n",
       "      <th>0</th>\n",
       "      <td>3804</td>\n",
       "      <td>NAD+;1-Octanol</td>\n",
       "      <td>NADH;1-Octanal</td>\n",
       "      <td>wildtype class III</td>\n",
       "      <td>NaN</td>\n",
       "      <td>Homo sapiens</td>\n",
       "      <td>P11766</td>\n",
       "      <td>1.1.1.1</td>\n",
       "      <td>25.0</td>\n",
       "      <td>10.0</td>\n",
       "      <td>2936344.0</td>\n",
       "    </tr>\n",
       "    <tr>\n",
       "      <th>3</th>\n",
       "      <td>3805</td>\n",
       "      <td>1-Pentanol;NAD+</td>\n",
       "      <td>NADH;1-Pentanal</td>\n",
       "      <td>wildtype class III</td>\n",
       "      <td>NaN</td>\n",
       "      <td>Homo sapiens</td>\n",
       "      <td>P11766</td>\n",
       "      <td>1.1.1.1</td>\n",
       "      <td>25.0</td>\n",
       "      <td>10.0</td>\n",
       "      <td>2936344.0</td>\n",
       "    </tr>\n",
       "  </tbody>\n",
       "</table>\n",
       "</div>"
      ],
      "text/plain": [
       "   EntryID        Substrate          Product          EnzymeType  PubMedID  \\\n",
       "0     3804   NAD+;1-Octanol   NADH;1-Octanal  wildtype class III       NaN   \n",
       "3     3805  1-Pentanol;NAD+  NADH;1-Pentanal  wildtype class III       NaN   \n",
       "\n",
       "       Organism UniprotID ECNumber Temperature    pH  PubMedID.1  \n",
       "0  Homo sapiens    P11766  1.1.1.1        25.0  10.0   2936344.0  \n",
       "3  Homo sapiens    P11766  1.1.1.1        25.0  10.0   2936344.0  "
      ]
     },
     "execution_count": 40,
     "metadata": {},
     "output_type": "execute_result"
    }
   ],
   "source": [
    "data_prot.head(2)"
   ]
  },
  {
   "cell_type": "code",
   "execution_count": 41,
   "id": "c28f1fda-2868-4ff3-8f8c-d52337b3903a",
   "metadata": {},
   "outputs": [
    {
     "data": {
      "text/plain": [
       "False    14971\n",
       "True      4156\n",
       "Name: Substrate, dtype: int64"
      ]
     },
     "execution_count": 41,
     "metadata": {},
     "output_type": "execute_result"
    }
   ],
   "source": [
    "data_prot.Substrate.apply(lambda x: \"NAD+\" in x).value_counts()"
   ]
  },
  {
   "cell_type": "code",
   "execution_count": 32,
   "id": "3acfa79d-3455-4739-96d4-ff6a2208528e",
   "metadata": {},
   "outputs": [
    {
     "data": {
      "text/plain": [
       "H+                          5530\n",
       "NAD+                        4117\n",
       "NADPH                       3938\n",
       "O2                          3031\n",
       "H2O                         2545\n",
       "                            ... \n",
       "o-Methylbenzaldehyde           1\n",
       "Veratraldehyde                 1\n",
       "5-Bromo-1-naphthaldehyde       1\n",
       "5-Nitro-1-naphthaldehyde       1\n",
       "1-Phenylpropan-1-ol            1\n",
       "Name: Substrate, Length: 1583, dtype: int64"
      ]
     },
     "execution_count": 32,
     "metadata": {},
     "output_type": "execute_result"
    }
   ],
   "source": [
    "data_prot.Substrate.apply(lambda x: x.split(\";\")).explode().value_counts()"
   ]
  },
  {
   "cell_type": "code",
   "execution_count": 21,
   "id": "5ef48e4a-53bb-48c6-ac8d-62620a32993c",
   "metadata": {},
   "outputs": [
    {
     "data": {
      "text/plain": [
       "<AxesSubplot: ylabel='Frequency'>"
      ]
     },
     "execution_count": 21,
     "metadata": {},
     "output_type": "execute_result"
    },
    {
     "data": {
      "image/png": "[encoded data removed]",
      "text/plain": [
       "<Figure size 640x480 with 1 Axes>"
      ]
     },
     "metadata": {},
     "output_type": "display_data"
    }
   ],
   "source": [
    "data.pH.dropna().astype(float).plot.hist(bins=30)"
   ]
  },
  {
   "cell_type": "code",
   "execution_count": 24,
   "id": "ea081aa4-6fef-416e-a41a-477f5ec6550b",
   "metadata": {},
   "outputs": [
    {
     "data": {
      "text/plain": [
       "<AxesSubplot: ylabel='Frequency'>"
      ]
     },
     "execution_count": 24,
     "metadata": {},
     "output_type": "execute_result"
    },
    {
     "data": {
      "image/png": "[encoded data removed]",
      "text/plain": [
       "<Figure size 640x480 with 1 Axes>"
      ]
     },
     "metadata": {},
     "output_type": "display_data"
    }
   ],
   "source": [
    "data.Temperature.dropna().astype(float).plot.hist(bins=30)"
   ]
  },
  {
   "cell_type": "code",
   "execution_count": 42,
   "id": "cab3718f-c9be-4dc9-91dc-b8279534015c",
   "metadata": {},
   "outputs": [
    {
     "data": {
      "text/plain": [
       "O75874           240\n",
       "P15121           210\n",
       "P33198           200\n",
       "P05979           185\n",
       "P07846           183\n",
       "                ... \n",
       "P07547             1\n",
       "P58460             1\n",
       "P34922             1\n",
       "Q9BP39             1\n",
       "P00268 Q9AL95      1\n",
       "Name: UniprotID, Length: 1703, dtype: int64"
      ]
     },
     "execution_count": 42,
     "metadata": {},
     "output_type": "execute_result"
    }
   ],
   "source": [
    "data_prot.UniprotID.value_counts()"
   ]
  },
  {
   "cell_type": "code",
   "execution_count": 44,
   "id": "7d07a5fd-e8af-403c-a87f-7734ae25246f",
   "metadata": {},
   "outputs": [
    {
     "name": "stderr",
     "output_type": "stream",
     "text": [
      "/tmp/ipykernel_31471/2400808383.py:1: SettingWithCopyWarning: \n",
      "A value is trying to be set on a copy of a slice from a DataFrame.\n",
      "Try using .loc[row_indexer,col_indexer] = value instead\n",
      "\n",
      "See the caveats in the documentation: https://pandas.pydata.org/pandas-docs/stable/user_guide/indexing.html#returning-a-view-versus-a-copy\n",
      "  data_prot[\"UniprotID\"] = data_prot.UniprotID.apply(lambda x: x.split(\" \"))\n"
     ]
    }
   ],
   "source": [
    "data_prot[\"UniprotID\"] = data_prot.UniprotID.apply(lambda x: x.split(\" \"))\n",
    "data_prot = data_prot.explode(column=\"UniprotID\")"
   ]
  },
  {
   "cell_type": "code",
   "execution_count": 45,
   "id": "95ab298b-9668-4f2d-8d83-afe9269fa267",
   "metadata": {},
   "outputs": [
    {
     "data": {
      "text/plain": [
       "O75874    240\n",
       "P50213    233\n",
       "P15121    210\n",
       "P33198    200\n",
       "P05979    185\n",
       "         ... \n",
       "Q9FS88      1\n",
       "P32353      1\n",
       "L7SV51      1\n",
       "F5L3U7      1\n",
       "Q81CX4      1\n",
       "Name: UniprotID, Length: 1672, dtype: int64"
      ]
     },
     "execution_count": 45,
     "metadata": {},
     "output_type": "execute_result"
    }
   ],
   "source": [
    "data_prot.UniprotID.value_counts()"
   ]
  },
  {
   "cell_type": "markdown",
   "id": "2515a5dd-9a83-425d-80b2-fee29fe189af",
   "metadata": {},
   "source": [
    "### See how much overlap there is with BRENDA"
   ]
  },
  {
   "cell_type": "code",
   "execution_count": 33,
   "id": "dbef66e3-7beb-4b8a-b95e-5abbb4a87501",
   "metadata": {},
   "outputs": [
    {
     "name": "stdout",
     "output_type": "stream",
     "text": [
      "13405 12994\n"
     ]
    },
    {
     "data": {
      "text/html": [
       "<div>\n",
       "<style scoped>\n",
       "    .dataframe tbody tr th:only-of-type {\n",
       "        vertical-align: middle;\n",
       "    }\n",
       "\n",
       "    .dataframe tbody tr th {\n",
       "        vertical-align: top;\n",
       "    }\n",
       "\n",
       "    .dataframe thead th {\n",
       "        text-align: right;\n",
       "    }\n",
       "</style>\n",
       "<table border=\"1\" class=\"dataframe\">\n",
       "  <thead>\n",
       "    <tr style=\"text-align: right;\">\n",
       "      <th></th>\n",
       "      <th>uniprot_id</th>\n",
       "      <th>reaction_type</th>\n",
       "      <th>fit_mean</th>\n",
       "      <th>fit_std</th>\n",
       "      <th>num_act</th>\n",
       "      <th>max_min_diff</th>\n",
       "      <th>enzyme_type</th>\n",
       "      <th>enzyme_type_sub</th>\n",
       "      <th>acceptor</th>\n",
       "    </tr>\n",
       "  </thead>\n",
       "  <tbody>\n",
       "    <tr>\n",
       "      <th>0</th>\n",
       "      <td>05650</td>\n",
       "      <td>NaN</td>\n",
       "      <td>8.4</td>\n",
       "      <td>NaN</td>\n",
       "      <td>1</td>\n",
       "      <td>NaN</td>\n",
       "      <td>Lyases</td>\n",
       "      <td>Carbon-carbon</td>\n",
       "      <td>NaN</td>\n",
       "    </tr>\n",
       "    <tr>\n",
       "      <th>1</th>\n",
       "      <td>5650</td>\n",
       "      <td>NaN</td>\n",
       "      <td>8.4</td>\n",
       "      <td>NaN</td>\n",
       "      <td>1</td>\n",
       "      <td>NaN</td>\n",
       "      <td>Oxidoreductases</td>\n",
       "      <td>aldehyde or oxo group of donors</td>\n",
       "      <td>iron-sulfur protein</td>\n",
       "    </tr>\n",
       "  </tbody>\n",
       "</table>\n",
       "</div>"
      ],
      "text/plain": [
       "  uniprot_id reaction_type  fit_mean  fit_std  num_act  max_min_diff  \\\n",
       "0      05650           NaN       8.4      NaN        1           NaN   \n",
       "1       5650           NaN       8.4      NaN        1           NaN   \n",
       "\n",
       "       enzyme_type                  enzyme_type_sub             acceptor  \n",
       "0           Lyases                    Carbon-carbon                  NaN  \n",
       "1  Oxidoreductases  aldehyde or oxo group of donors  iron-sulfur protein  "
      ]
     },
     "execution_count": 33,
     "metadata": {},
     "output_type": "execute_result"
    }
   ],
   "source": [
    "# This file has all the ph range data + optimum ph data\n",
    "data_file = Path(\"../../../inputs/ph_merged/20230927_ph_curves.csv\")\n",
    "data_fits = pd.read_csv(data_file)\n",
    "print(len(data_fits), data_fits.uniprot_id.nunique())\n",
    "data_fits.head(2)"
   ]
  },
  {
   "cell_type": "code",
   "execution_count": 34,
   "id": "9e601f3a-b795-4011-adf8-51bb37bf7ebe",
   "metadata": {},
   "outputs": [
    {
     "data": {
      "text/html": [
       "<div>\n",
       "<style scoped>\n",
       "    .dataframe tbody tr th:only-of-type {\n",
       "        vertical-align: middle;\n",
       "    }\n",
       "\n",
       "    .dataframe tbody tr th {\n",
       "        vertical-align: top;\n",
       "    }\n",
       "\n",
       "    .dataframe thead th {\n",
       "        text-align: right;\n",
       "    }\n",
       "</style>\n",
       "<table border=\"1\" class=\"dataframe\">\n",
       "  <thead>\n",
       "    <tr style=\"text-align: right;\">\n",
       "      <th></th>\n",
       "      <th>uniprot_id</th>\n",
       "      <th>reaction_type</th>\n",
       "      <th>fit_mean</th>\n",
       "      <th>fit_std</th>\n",
       "      <th>num_act</th>\n",
       "      <th>max_min_diff</th>\n",
       "      <th>enzyme_type</th>\n",
       "      <th>enzyme_type_sub</th>\n",
       "      <th>acceptor</th>\n",
       "    </tr>\n",
       "  </thead>\n",
       "  <tbody>\n",
       "    <tr>\n",
       "      <th>1</th>\n",
       "      <td>5650</td>\n",
       "      <td>NaN</td>\n",
       "      <td>8.400</td>\n",
       "      <td>NaN</td>\n",
       "      <td>1</td>\n",
       "      <td>NaN</td>\n",
       "      <td>Oxidoreductases</td>\n",
       "      <td>aldehyde or oxo group of donors</td>\n",
       "      <td>iron-sulfur protein</td>\n",
       "    </tr>\n",
       "    <tr>\n",
       "      <th>5</th>\n",
       "      <td>A0A023RBJ1</td>\n",
       "      <td>reduction</td>\n",
       "      <td>5.500</td>\n",
       "      <td>NaN</td>\n",
       "      <td>1</td>\n",
       "      <td>NaN</td>\n",
       "      <td>Oxidoreductases</td>\n",
       "      <td>CH-OH group of donors</td>\n",
       "      <td>NAD+ or NADP+</td>\n",
       "    </tr>\n",
       "    <tr>\n",
       "      <th>6</th>\n",
       "      <td>A0A023UHK6</td>\n",
       "      <td>NaN</td>\n",
       "      <td>11.000</td>\n",
       "      <td>NaN</td>\n",
       "      <td>1</td>\n",
       "      <td>NaN</td>\n",
       "      <td>Oxidoreductases</td>\n",
       "      <td>peroxide as acceptor</td>\n",
       "      <td>NAD+ or NADP+</td>\n",
       "    </tr>\n",
       "    <tr>\n",
       "      <th>17</th>\n",
       "      <td>A0A059TC02</td>\n",
       "      <td>reduction</td>\n",
       "      <td>6.000</td>\n",
       "      <td>NaN</td>\n",
       "      <td>1</td>\n",
       "      <td>NaN</td>\n",
       "      <td>Oxidoreductases</td>\n",
       "      <td>aldehyde or oxo group of donors</td>\n",
       "      <td>NAD+ or NADP+</td>\n",
       "    </tr>\n",
       "    <tr>\n",
       "      <th>18</th>\n",
       "      <td>A0A059TC02</td>\n",
       "      <td>NaN</td>\n",
       "      <td>6.000</td>\n",
       "      <td>NaN</td>\n",
       "      <td>1</td>\n",
       "      <td>NaN</td>\n",
       "      <td>Oxidoreductases</td>\n",
       "      <td>aldehyde or oxo group of donors</td>\n",
       "      <td>NAD+ or NADP+</td>\n",
       "    </tr>\n",
       "    <tr>\n",
       "      <th>...</th>\n",
       "      <td>...</td>\n",
       "      <td>...</td>\n",
       "      <td>...</td>\n",
       "      <td>...</td>\n",
       "      <td>...</td>\n",
       "      <td>...</td>\n",
       "      <td>...</td>\n",
       "      <td>...</td>\n",
       "      <td>...</td>\n",
       "    </tr>\n",
       "    <tr>\n",
       "      <th>12802</th>\n",
       "      <td>S8FIE4</td>\n",
       "      <td>NaN</td>\n",
       "      <td>2.875</td>\n",
       "      <td>NaN</td>\n",
       "      <td>2</td>\n",
       "      <td>0.75</td>\n",
       "      <td>Oxidoreductases</td>\n",
       "      <td>diphenols and related substances as donors</td>\n",
       "      <td>oxygen</td>\n",
       "    </tr>\n",
       "    <tr>\n",
       "      <th>12803</th>\n",
       "      <td>T2G6Z9</td>\n",
       "      <td>NaN</td>\n",
       "      <td>7.400</td>\n",
       "      <td>NaN</td>\n",
       "      <td>2</td>\n",
       "      <td>0.00</td>\n",
       "      <td>Oxidoreductases</td>\n",
       "      <td>sulfur group of donors</td>\n",
       "      <td>other</td>\n",
       "    </tr>\n",
       "    <tr>\n",
       "      <th>12806</th>\n",
       "      <td>V5NDL4</td>\n",
       "      <td>NaN</td>\n",
       "      <td>7.500</td>\n",
       "      <td>NaN</td>\n",
       "      <td>2</td>\n",
       "      <td>2.00</td>\n",
       "      <td>Oxidoreductases</td>\n",
       "      <td>CH-OH group of donors</td>\n",
       "      <td>other</td>\n",
       "    </tr>\n",
       "    <tr>\n",
       "      <th>12809</th>\n",
       "      <td>X2JCV5</td>\n",
       "      <td>NaN</td>\n",
       "      <td>7.725</td>\n",
       "      <td>NaN</td>\n",
       "      <td>2</td>\n",
       "      <td>0.15</td>\n",
       "      <td>Oxidoreductases</td>\n",
       "      <td>CH-NH2 group of donors</td>\n",
       "      <td>oxygen</td>\n",
       "    </tr>\n",
       "    <tr>\n",
       "      <th>12810</th>\n",
       "      <td>X2L4E2</td>\n",
       "      <td>NaN</td>\n",
       "      <td>8.500</td>\n",
       "      <td>NaN</td>\n",
       "      <td>2</td>\n",
       "      <td>0.00</td>\n",
       "      <td>Oxidoreductases</td>\n",
       "      <td>CH-NH2 group of donors</td>\n",
       "      <td>oxygen</td>\n",
       "    </tr>\n",
       "  </tbody>\n",
       "</table>\n",
       "<p>3355 rows × 9 columns</p>\n",
       "</div>"
      ],
      "text/plain": [
       "       uniprot_id reaction_type  fit_mean  fit_std  num_act  max_min_diff  \\\n",
       "1            5650           NaN     8.400      NaN        1           NaN   \n",
       "5      A0A023RBJ1     reduction     5.500      NaN        1           NaN   \n",
       "6      A0A023UHK6           NaN    11.000      NaN        1           NaN   \n",
       "17     A0A059TC02     reduction     6.000      NaN        1           NaN   \n",
       "18     A0A059TC02           NaN     6.000      NaN        1           NaN   \n",
       "...           ...           ...       ...      ...      ...           ...   \n",
       "12802      S8FIE4           NaN     2.875      NaN        2          0.75   \n",
       "12803      T2G6Z9           NaN     7.400      NaN        2          0.00   \n",
       "12806      V5NDL4           NaN     7.500      NaN        2          2.00   \n",
       "12809      X2JCV5           NaN     7.725      NaN        2          0.15   \n",
       "12810      X2L4E2           NaN     8.500      NaN        2          0.00   \n",
       "\n",
       "           enzyme_type                             enzyme_type_sub  \\\n",
       "1      Oxidoreductases             aldehyde or oxo group of donors   \n",
       "5      Oxidoreductases                       CH-OH group of donors   \n",
       "6      Oxidoreductases                        peroxide as acceptor   \n",
       "17     Oxidoreductases             aldehyde or oxo group of donors   \n",
       "18     Oxidoreductases             aldehyde or oxo group of donors   \n",
       "...                ...                                         ...   \n",
       "12802  Oxidoreductases  diphenols and related substances as donors   \n",
       "12803  Oxidoreductases                      sulfur group of donors   \n",
       "12806  Oxidoreductases                       CH-OH group of donors   \n",
       "12809  Oxidoreductases                      CH-NH2 group of donors   \n",
       "12810  Oxidoreductases                      CH-NH2 group of donors   \n",
       "\n",
       "                  acceptor  \n",
       "1      iron-sulfur protein  \n",
       "5            NAD+ or NADP+  \n",
       "6            NAD+ or NADP+  \n",
       "17           NAD+ or NADP+  \n",
       "18           NAD+ or NADP+  \n",
       "...                    ...  \n",
       "12802               oxygen  \n",
       "12803                other  \n",
       "12806                other  \n",
       "12809               oxygen  \n",
       "12810               oxygen  \n",
       "\n",
       "[3355 rows x 9 columns]"
      ]
     },
     "execution_count": 34,
     "metadata": {},
     "output_type": "execute_result"
    }
   ],
   "source": [
    "data_redox = data_fits[data_fits.enzyme_type == \"Oxidoreductases\"]\n",
    "data_redox"
   ]
  },
  {
   "cell_type": "code",
   "execution_count": 47,
   "id": "94c194ed-8545-4bf5-a280-4876608de7ec",
   "metadata": {},
   "outputs": [
    {
     "name": "stdout",
     "output_type": "stream",
     "text": [
      "503 2958 1672\n"
     ]
    }
   ],
   "source": [
    "brenda_prot = set(data_redox.uniprot_id.values)\n",
    "sabio_prot = set(data_prot.UniprotID.unique())\n",
    "print(len(brenda_prot & sabio_prot), len(brenda_prot), len(sabio_prot))"
   ]
  },
  {
   "cell_type": "code",
   "execution_count": 22,
   "id": "4730bd25-8272-4779-bac5-9be45c9ee0b9",
   "metadata": {},
   "outputs": [
    {
     "data": {
      "text/plain": [
       "O75874           240\n",
       "P15121           210\n",
       "P33198           200\n",
       "P07846           183\n",
       "P14902           176\n",
       "                ... \n",
       "Q9F437             1\n",
       "P07547             1\n",
       "Q9CII4 Q01462      1\n",
       "P00380             1\n",
       "A7SDW8             1\n",
       "Name: UniprotID, Length: 1474, dtype: int64"
      ]
     },
     "execution_count": 22,
     "metadata": {},
     "output_type": "execute_result"
    }
   ],
   "source": [
    "data_prot.UniprotID.value_counts()"
   ]
  },
  {
   "cell_type": "code",
   "execution_count": null,
   "id": "dba40d1a-08b7-48d6-83e2-1d579e8c3a72",
   "metadata": {},
   "outputs": [],
   "source": []
  },
  {
   "cell_type": "code",
   "execution_count": null,
   "id": "0563e2e4-8309-45c0-9df9-10375ac53040",
   "metadata": {},
   "outputs": [],
   "source": []
  }
 ],
 "metadata": {
  "kernelspec": {
   "display_name": "Python 3 (ipykernel)",
   "language": "python",
   "name": "python3"
  },
  "language_info": {
   "codemirror_mode": {
    "name": "ipython",
    "version": 3
   },
   "file_extension": ".py",
   "mimetype": "text/x-python",
   "name": "python",
   "nbconvert_exporter": "python",
   "pygments_lexer": "ipython3",
   "version": "3.10.8"
  }
 },
 "nbformat": 4,
 "nbformat_minor": 5
}
