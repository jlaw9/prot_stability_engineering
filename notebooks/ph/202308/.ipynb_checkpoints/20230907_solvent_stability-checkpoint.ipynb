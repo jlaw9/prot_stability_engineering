{
 "cells": [
  {
   "cell_type": "code",
   "execution_count": 14,
   "id": "7d39d8ac-d0cb-48e2-880f-587d159ed54b",
   "metadata": {},
   "outputs": [],
   "source": [
    "from pathlib import Path\n",
    "import pandas as pd\n",
    "import numpy as np\n",
    "import os\n",
    "import re\n",
    "import regex\n",
    "from tqdm.auto import tqdm\n",
    "\n",
    "import matplotlib.pyplot as plt\n",
    "import seaborn as sns"
   ]
  },
  {
   "cell_type": "code",
   "execution_count": 4,
   "id": "7cb89079-896d-4396-9257-10a4d448d32d",
   "metadata": {},
   "outputs": [
    {
     "name": "stdout",
     "output_type": "stream",
     "text": [
      "2731\n"
     ]
    },
    {
     "data": {
      "text/html": [
       "<div>\n",
       "<style scoped>\n",
       "    .dataframe tbody tr th:only-of-type {\n",
       "        vertical-align: middle;\n",
       "    }\n",
       "\n",
       "    .dataframe tbody tr th {\n",
       "        vertical-align: top;\n",
       "    }\n",
       "\n",
       "    .dataframe thead th {\n",
       "        text-align: right;\n",
       "    }\n",
       "</style>\n",
       "<table border=\"1\" class=\"dataframe\">\n",
       "  <thead>\n",
       "    <tr style=\"text-align: right;\">\n",
       "      <th></th>\n",
       "      <th>ec_num</th>\n",
       "      <th>solvent</th>\n",
       "      <th>comments</th>\n",
       "      <th>organism</th>\n",
       "      <th>uniprot_id</th>\n",
       "      <th>ref</th>\n",
       "    </tr>\n",
       "  </thead>\n",
       "  <tbody>\n",
       "    <tr>\n",
       "      <th>0</th>\n",
       "      <td>1.1.1.1</td>\n",
       "      <td>1,4-dioxane</td>\n",
       "      <td>30%, 5–30% inactivation of the initial values ...</td>\n",
       "      <td>Sulfolobus acidocaldarius</td>\n",
       "      <td>Q4J702, Q4J9F2</td>\n",
       "      <td>719428</td>\n",
       "    </tr>\n",
       "    <tr>\n",
       "      <th>1</th>\n",
       "      <td>1.1.1.1</td>\n",
       "      <td>1,4-dioxane</td>\n",
       "      <td>significant increases in enzyme activity occur...</td>\n",
       "      <td>Sulfolobus acidocaldarius</td>\n",
       "      <td>Q4J702, Q4J9F2</td>\n",
       "      <td>719428</td>\n",
       "    </tr>\n",
       "  </tbody>\n",
       "</table>\n",
       "</div>"
      ],
      "text/plain": [
       "    ec_num      solvent                                           comments  \\\n",
       "0  1.1.1.1  1,4-dioxane  30%, 5–30% inactivation of the initial values ...   \n",
       "1  1.1.1.1  1,4-dioxane  significant increases in enzyme activity occur...   \n",
       "\n",
       "                    organism      uniprot_id     ref  \n",
       "0  Sulfolobus acidocaldarius  Q4J702, Q4J9F2  719428  \n",
       "1  Sulfolobus acidocaldarius  Q4J702, Q4J9F2  719428  "
      ]
     },
     "execution_count": 4,
     "metadata": {},
     "output_type": "execute_result"
    }
   ],
   "source": [
    "# These are \n",
    "inputs_dir = Path(\"/projects/robustmicrob/jlaw/inputs/brenda/202301_tables\")\n",
    "data_dir = \"/projects/robustmicrob/jlaw/projects/prot_stability_engineering/inputs/brenda\"\n",
    "\n",
    "ph_range_file = inputs_dir / \"202301_organic_solvent_stability.tsv.gz\"\n",
    "header = [\"ec_num\", \"solvent\", \"comments\", \"organism\", \"uniprot_id\", \"ref\", \"empty\"]\n",
    "data = pd.read_csv(ph_range_file, sep='\\t', names=header)\n",
    "data = data.drop(columns=['empty'])\n",
    "print(len(data))\n",
    "data.head(2)"
   ]
  },
  {
   "cell_type": "code",
   "execution_count": 5,
   "id": "13f49760-2867-46d6-8ed6-8741405d7edf",
   "metadata": {},
   "outputs": [
    {
     "data": {
      "text/plain": [
       "727441    37\n",
       "710959    25\n",
       "488864    22\n",
       "80938     22\n",
       "716837    20\n",
       "          ..\n",
       "682030     1\n",
       "689908     1\n",
       "659089     1\n",
       "702115     1\n",
       "133874     1\n",
       "Name: ref, Length: 906, dtype: int64"
      ]
     },
     "execution_count": 5,
     "metadata": {},
     "output_type": "execute_result"
    }
   ],
   "source": [
    "data.ref.value_counts()"
   ]
  },
  {
   "cell_type": "code",
   "execution_count": 26,
   "id": "dd6a51fb-4bee-4bf2-9ef7-41056d5cd10c",
   "metadata": {},
   "outputs": [],
   "source": [
    "rename_solvents = {\n",
    "    \"dmso\": \"dimethyl sulfoxide\",\n",
    "    \"dimethylsulfoxide\": \"dimethyl sulfoxide\",\n",
    "    \"dimethylformamide\": \"dimethyl formamide\",\n",
    "    \"2-propanol\": \"isopropanol\",\n",
    "    # \"propanol\": \"\n",
    "    # \"tert-butanol\"\n",
    "    \"n-butanol\": \"butanol\",\n",
    "    \"1-butanol\": \"butanol\",\n",
    "    \"n-hexane\": \"hexane\",\n",
    "    \"1-propanol\": \"propanol\",\n",
    "    \"n-propanol\": \"propanol\",\n",
    "}\n",
    "data['solvent'] = data.solvent.str.lower().replace(rename_solvents)"
   ]
  },
  {
   "cell_type": "code",
   "execution_count": 27,
   "id": "563d7f32-c250-46a3-8e47-f279c2a0b957",
   "metadata": {},
   "outputs": [
    {
     "data": {
      "text/plain": [
       "ethanol                   331\n",
       "methanol                  235\n",
       "dimethyl sulfoxide        219\n",
       "acetone                   185\n",
       "additional information    157\n",
       "isopropanol               113\n",
       "acetonitrile              109\n",
       "urea                       97\n",
       "hexane                     77\n",
       "glycerol                   74\n",
       "triton x-100               72\n",
       "dimethyl formamide         70\n",
       "guanidine-hcl              69\n",
       "butanol                    64\n",
       "chloroform                 51\n",
       "propanol                   46\n",
       "toluene                    44\n",
       "sds                        38\n",
       "tetrahydrofuran            32\n",
       "dioxane                    31\n",
       "ethylene glycol            30\n",
       "benzene                    29\n",
       "ethyl acetate              26\n",
       "dithiothreitol             20\n",
       "cyclohexane                19\n",
       "n,n-dimethylformamide      17\n",
       "n-heptane                  16\n",
       "heptane                    12\n",
       "tert-butanol               12\n",
       "isooctane                  11\n",
       "2-mercaptoethanol          11\n",
       "1,4-dioxane                11\n",
       "octane                     11\n",
       "pyridine                   10\n",
       "diethyl ether              10\n",
       "ether                       8\n",
       "dodecane                    8\n",
       "deoxycholate                8\n",
       "isobutanol                  7\n",
       "dichloromethane             7\n",
       "isoamyl alcohol             7\n",
       "tween 80                    7\n",
       "xylene                      7\n",
       "tween                       6\n",
       "n-decane                    6\n",
       "acetic acid                 6\n",
       "tween 20                    6\n",
       "diisopropyl ether           6\n",
       "methyl-tert-butylether      6\n",
       "formamide                   6\n",
       "Name: solvent, dtype: int64"
      ]
     },
     "execution_count": 27,
     "metadata": {},
     "output_type": "execute_result"
    }
   ],
   "source": [
    "data.solvent.value_counts().head(50)"
   ]
  },
  {
   "cell_type": "code",
   "execution_count": null,
   "id": "df490e25-35ee-417a-9bef-5a0555570a8a",
   "metadata": {},
   "outputs": [],
   "source": []
  },
  {
   "cell_type": "code",
   "execution_count": 28,
   "id": "33b6edd3-e73a-4e38-8194-5bf3d4167c59",
   "metadata": {},
   "outputs": [
    {
     "data": {
      "text/plain": [
       "Text(0.5, 0, '# rows')"
      ]
     },
     "execution_count": 28,
     "metadata": {},
     "output_type": "execute_result"
    },
    {
     "data": {
      "image/png": "[encoded data removed]",
      "text/plain": [
       "<Figure size 640x480 with 1 Axes>"
      ]
     },
     "metadata": {},
     "output_type": "display_data"
    }
   ],
   "source": [
    "counts = data.solvent.value_counts()\n",
    "counts = counts[counts > 30]\n",
    "ax = counts.sort_values().plot.barh()\n",
    "# sns.barplot(counts.sort_values())\n",
    "\n",
    "ax.set_xlabel(\"# rows\")"
   ]
  },
  {
   "cell_type": "code",
   "execution_count": 30,
   "id": "c2d2c32f-35a7-47e2-9046-3e6af7127fdb",
   "metadata": {},
   "outputs": [
    {
     "data": {
      "text/plain": [
       "-             1882\n",
       "Q96Z02          20\n",
       "Q9KJG6          16\n",
       "C5IFU0          16\n",
       "A0A0A0Q4S7      14\n",
       "              ... \n",
       "P02919           1\n",
       "A0A291LTQ0       1\n",
       "Q14749           1\n",
       "P49050           1\n",
       "O29777           1\n",
       "Name: uniprot_id, Length: 260, dtype: int64"
      ]
     },
     "execution_count": 30,
     "metadata": {},
     "output_type": "execute_result"
    }
   ],
   "source": [
    "# data[data.solvent == \"isopropanol\"].uniprot_id.value_counts()\n",
    "data.uniprot_id.value_counts()"
   ]
  },
  {
   "cell_type": "code",
   "execution_count": 29,
   "id": "e18ae043-7ea3-4cca-bcc8-d24533f6fd86",
   "metadata": {},
   "outputs": [
    {
     "data": {
      "text/html": [
       "<div>\n",
       "<style scoped>\n",
       "    .dataframe tbody tr th:only-of-type {\n",
       "        vertical-align: middle;\n",
       "    }\n",
       "\n",
       "    .dataframe tbody tr th {\n",
       "        vertical-align: top;\n",
       "    }\n",
       "\n",
       "    .dataframe thead th {\n",
       "        text-align: right;\n",
       "    }\n",
       "</style>\n",
       "<table border=\"1\" class=\"dataframe\">\n",
       "  <thead>\n",
       "    <tr style=\"text-align: right;\">\n",
       "      <th></th>\n",
       "      <th>ec_num</th>\n",
       "      <th>solvent</th>\n",
       "      <th>comments</th>\n",
       "      <th>organism</th>\n",
       "      <th>uniprot_id</th>\n",
       "      <th>ref</th>\n",
       "    </tr>\n",
       "  </thead>\n",
       "  <tbody>\n",
       "    <tr>\n",
       "      <th>30</th>\n",
       "      <td>1.1.1.1</td>\n",
       "      <td>additional information</td>\n",
       "      <td>Adh3 exhibits tolerance to several organic sol...</td>\n",
       "      <td>Oenococcus oeni</td>\n",
       "      <td>-</td>\n",
       "      <td>721395</td>\n",
       "    </tr>\n",
       "    <tr>\n",
       "      <th>31</th>\n",
       "      <td>1.1.1.1</td>\n",
       "      <td>additional information</td>\n",
       "      <td>chemotolerant enzyme</td>\n",
       "      <td>Rhodococcus ruber</td>\n",
       "      <td>-</td>\n",
       "      <td>655082</td>\n",
       "    </tr>\n",
       "    <tr>\n",
       "      <th>32</th>\n",
       "      <td>1.1.1.1</td>\n",
       "      <td>additional information</td>\n",
       "      <td>enzyme shows high resistance to organic solvents</td>\n",
       "      <td>Thermococcus kodakarensis</td>\n",
       "      <td>Q5JI09</td>\n",
       "      <td>735486</td>\n",
       "    </tr>\n",
       "    <tr>\n",
       "      <th>54</th>\n",
       "      <td>1.1.1.118</td>\n",
       "      <td>additional information</td>\n",
       "      <td>2 M urea and 0.05% (w/v) SDS do not cause any ...</td>\n",
       "      <td>Saccharolobus solfataricus</td>\n",
       "      <td>-</td>\n",
       "      <td>639110</td>\n",
       "    </tr>\n",
       "    <tr>\n",
       "      <th>58</th>\n",
       "      <td>1.1.1.14</td>\n",
       "      <td>additional information</td>\n",
       "      <td>DMSO is selected as the co-solvent, it does no...</td>\n",
       "      <td>Gluconobacter oxydans</td>\n",
       "      <td>Q5FNX9</td>\n",
       "      <td>761565</td>\n",
       "    </tr>\n",
       "    <tr>\n",
       "      <th>...</th>\n",
       "      <td>...</td>\n",
       "      <td>...</td>\n",
       "      <td>...</td>\n",
       "      <td>...</td>\n",
       "      <td>...</td>\n",
       "      <td>...</td>\n",
       "    </tr>\n",
       "    <tr>\n",
       "      <th>2657</th>\n",
       "      <td>4.3.3.2</td>\n",
       "      <td>additional information</td>\n",
       "      <td>no loss of activity with 5% PEG, dimethylforma...</td>\n",
       "      <td>Rauvolfia serpentina</td>\n",
       "      <td>-</td>\n",
       "      <td>648719</td>\n",
       "    </tr>\n",
       "    <tr>\n",
       "      <th>2665</th>\n",
       "      <td>4.6.1.18</td>\n",
       "      <td>additional information</td>\n",
       "      <td>The conformation of ribonuclease A in 40% acet...</td>\n",
       "      <td>Bos taurus</td>\n",
       "      <td>-</td>\n",
       "      <td>708880</td>\n",
       "    </tr>\n",
       "    <tr>\n",
       "      <th>2666</th>\n",
       "      <td>4.6.1.18</td>\n",
       "      <td>additional information</td>\n",
       "      <td>thermal transition temperature in various solv...</td>\n",
       "      <td>Bos taurus</td>\n",
       "      <td>-</td>\n",
       "      <td>134521</td>\n",
       "    </tr>\n",
       "    <tr>\n",
       "      <th>2674</th>\n",
       "      <td>5.1.1.1</td>\n",
       "      <td>additional information</td>\n",
       "      <td>ethyl acetate destroyes the enzyme activity</td>\n",
       "      <td>Geobacillus stearothermophilus</td>\n",
       "      <td>-</td>\n",
       "      <td>672717</td>\n",
       "    </tr>\n",
       "    <tr>\n",
       "      <th>2696</th>\n",
       "      <td>5.5.1.10</td>\n",
       "      <td>additional information</td>\n",
       "      <td>high stability of enzyme system towards organi...</td>\n",
       "      <td>Pseudomonas rhodesiae</td>\n",
       "      <td>-</td>\n",
       "      <td>648897</td>\n",
       "    </tr>\n",
       "  </tbody>\n",
       "</table>\n",
       "<p>157 rows × 6 columns</p>\n",
       "</div>"
      ],
      "text/plain": [
       "         ec_num                 solvent  \\\n",
       "30      1.1.1.1  additional information   \n",
       "31      1.1.1.1  additional information   \n",
       "32      1.1.1.1  additional information   \n",
       "54    1.1.1.118  additional information   \n",
       "58     1.1.1.14  additional information   \n",
       "...         ...                     ...   \n",
       "2657    4.3.3.2  additional information   \n",
       "2665   4.6.1.18  additional information   \n",
       "2666   4.6.1.18  additional information   \n",
       "2674    5.1.1.1  additional information   \n",
       "2696   5.5.1.10  additional information   \n",
       "\n",
       "                                               comments  \\\n",
       "30    Adh3 exhibits tolerance to several organic sol...   \n",
       "31                                 chemotolerant enzyme   \n",
       "32     enzyme shows high resistance to organic solvents   \n",
       "54    2 M urea and 0.05% (w/v) SDS do not cause any ...   \n",
       "58    DMSO is selected as the co-solvent, it does no...   \n",
       "...                                                 ...   \n",
       "2657  no loss of activity with 5% PEG, dimethylforma...   \n",
       "2665  The conformation of ribonuclease A in 40% acet...   \n",
       "2666  thermal transition temperature in various solv...   \n",
       "2674        ethyl acetate destroyes the enzyme activity   \n",
       "2696  high stability of enzyme system towards organi...   \n",
       "\n",
       "                            organism uniprot_id     ref  \n",
       "30                   Oenococcus oeni          -  721395  \n",
       "31                 Rhodococcus ruber          -  655082  \n",
       "32         Thermococcus kodakarensis     Q5JI09  735486  \n",
       "54        Saccharolobus solfataricus          -  639110  \n",
       "58             Gluconobacter oxydans     Q5FNX9  761565  \n",
       "...                              ...        ...     ...  \n",
       "2657            Rauvolfia serpentina          -  648719  \n",
       "2665                      Bos taurus          -  708880  \n",
       "2666                      Bos taurus          -  134521  \n",
       "2674  Geobacillus stearothermophilus          -  672717  \n",
       "2696           Pseudomonas rhodesiae          -  648897  \n",
       "\n",
       "[157 rows x 6 columns]"
      ]
     },
     "execution_count": 29,
     "metadata": {},
     "output_type": "execute_result"
    }
   ],
   "source": [
    "data[data.solvent == \"additional information\"]"
   ]
  },
  {
   "cell_type": "code",
   "execution_count": null,
   "id": "42a32ac6-40df-481e-afa0-943787217f19",
   "metadata": {},
   "outputs": [],
   "source": []
  }
 ],
 "metadata": {
  "kernelspec": {
   "display_name": "Python 3 (ipykernel)",
   "language": "python",
   "name": "python3"
  },
  "language_info": {
   "codemirror_mode": {
    "name": "ipython",
    "version": 3
   },
   "file_extension": ".py",
   "mimetype": "text/x-python",
   "name": "python",
   "nbconvert_exporter": "python",
   "pygments_lexer": "ipython3",
   "version": "3.10.8"
  }
 },
 "nbformat": 4,
 "nbformat_minor": 5
}
