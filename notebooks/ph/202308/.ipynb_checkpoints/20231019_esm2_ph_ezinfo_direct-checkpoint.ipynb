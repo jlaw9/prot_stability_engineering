{
 "cells": [
  {
   "cell_type": "markdown",
   "id": "bedf1a0d-bdcc-45d4-a25b-e63512bb1f21",
   "metadata": {},
   "source": [
    "## Predict pH optimum and range directly\n",
    "- Previous I used the difference in activity as the loss funciton\n",
    "- What if we just fit a normal distribution to each protein/experiment, and try to predict the mean (optimum) and standard deviation (range) directly?"
   ]
  },
  {
   "cell_type": "code",
   "execution_count": 1,
   "id": "6c939252-6652-4577-914c-349f03376a17",
   "metadata": {},
   "outputs": [],
   "source": [
    "import numpy as np\n",
    "import pandas as pd\n",
    "import os\n",
    "from Bio import SeqIO\n",
    "import itertools\n",
    "from typing import List, Tuple\n",
    "import string\n",
    "from pathlib import Path\n",
    "from tqdm.auto import tqdm, trange\n",
    "\n",
    "import matplotlib.pyplot as plt\n",
    "import seaborn as sns\n",
    "\n",
    "%matplotlib inline"
   ]
  },
  {
   "cell_type": "code",
   "execution_count": 2,
   "id": "f203ac03-82c5-495d-aaa8-89a67f756bc4",
   "metadata": {},
   "outputs": [],
   "source": [
    "from sklearn.metrics import mean_squared_error\n",
    "from scipy.stats import spearmanr\n",
    "from sklearn.linear_model import LinearRegression, Ridge\n",
    "from sklearn.kernel_ridge import KernelRidge"
   ]
  },
  {
   "cell_type": "code",
   "execution_count": 3,
   "id": "6dca5874-4b73-4fe3-a03a-f99b711259a6",
   "metadata": {},
   "outputs": [
    {
     "data": {
      "text/plain": [
       "True"
      ]
     },
     "execution_count": 3,
     "metadata": {},
     "output_type": "execute_result"
    }
   ],
   "source": [
    "import torch\n",
    "torch.cuda.is_available()"
   ]
  },
  {
   "cell_type": "code",
   "execution_count": 4,
   "id": "61c7e96e-04ce-4144-b826-4a201626dff5",
   "metadata": {},
   "outputs": [
    {
     "data": {
      "text/plain": [
       "'/lustre/eaglefs/projects/robustmicrob/jlaw/projects/prot_stability_engineering'"
      ]
     },
     "execution_count": 4,
     "metadata": {},
     "output_type": "execute_result"
    }
   ],
   "source": [
    "os.chdir(\"../../../\")\n",
    "os.getcwd()"
   ]
  },
  {
   "cell_type": "code",
   "execution_count": 5,
   "id": "772fed3e-23c9-4877-b444-c78169f12d98",
   "metadata": {},
   "outputs": [
    {
     "name": "stderr",
     "output_type": "stream",
     "text": [
      "Using cache found in /scratch/jlaw/torch/facebookresearch_esm_main\n"
     ]
    }
   ],
   "source": [
    "torch.hub.set_dir('/scratch/jlaw/torch')\n",
    "model_name = \"esm2_t33_650M_UR50D\"\n",
    "# model_name = \"esm2_t36_3B_UR50D\"\n",
    "model, alphabet = torch.hub.load(\"facebookresearch/esm:main\", model_name)"
   ]
  },
  {
   "cell_type": "markdown",
   "id": "7af2cd31-65d6-4539-a865-7df11c7463a3",
   "metadata": {},
   "source": [
    "### Build/get embeddings"
   ]
  },
  {
   "cell_type": "code",
   "execution_count": 6,
   "id": "1e1e06d5-1ba3-45cd-895c-2da4aa733f72",
   "metadata": {},
   "outputs": [],
   "source": [
    "def read_embeddings(embed_file, sequence_idx_file):\n",
    "    \"\"\" Read embeddings stored in an npz file\n",
    "    Get the sequences at each index from the *sequence_idx_file\n",
    "    \"\"\"\n",
    "    embeddings = np.load(embed_file, allow_pickle=True)['arr_0']\n",
    "    sequences = pd.read_csv(sequence_idx_file, index_col=0)\n",
    "    sequences.set_index(\"uniprot_id\", inplace=True)\n",
    "    print(f\"{len(embeddings) = } read from {embed_file}\")\n",
    "    print(f\"{len(sequences) = } read from {sequence_idx_file}\")\n",
    "    return embeddings, sequences"
   ]
  },
  {
   "cell_type": "code",
   "execution_count": 7,
   "id": "b08c084e-afb8-4b01-8308-cc22f25a12b5",
   "metadata": {},
   "outputs": [
    {
     "name": "stdout",
     "output_type": "stream",
     "text": [
      "len(embeddings) = 12913 read from inputs/brenda/uniprot/20230926_embeddings_esm2_t33_650M_UR50D.npz\n",
      "len(sequences) = 12913 read from inputs/brenda/uniprot/20230926_embeddings_seqs.csv\n",
      "(12913, 1280)\n"
     ]
    }
   ],
   "source": [
    "# inputs_dir = Path(\"/projects/robustmicrob/jlaw/inputs/\")\n",
    "inputs_dir = \"inputs/brenda\"\n",
    "\n",
    "embeddings, df_seq = read_embeddings(Path(inputs_dir, \"uniprot/20230926_embeddings_esm2_t33_650M_UR50D.npz\"),\n",
    "                                     Path(inputs_dir, \"uniprot/20230926_embeddings_seqs.csv\"))\n",
    "\n",
    "# embeddings2, df_seq2 = read_embeddings(Path(inputs_dir, \"uniprot/embeddings/20230504_embeddings_esm2_t33_650M_UR50D.npz\"),\n",
    "#                                           Path(inputs_dir, \"uniprot/embeddings/20230504_embeddings_seqs.csv\"))\n",
    "\n",
    "# embeddings = np.vstack([embeddings, embeddings2])\n",
    "print(embeddings.shape)\n",
    "# df_seq = pd.concat([df_seq, df_seq2], ignore_index=True).reset_index(drop=True)"
   ]
  },
  {
   "cell_type": "code",
   "execution_count": 8,
   "id": "e7121865-5ef3-48d3-b3af-c09c13d98002",
   "metadata": {},
   "outputs": [
    {
     "data": {
      "text/html": [
       "<div>\n",
       "<style scoped>\n",
       "    .dataframe tbody tr th:only-of-type {\n",
       "        vertical-align: middle;\n",
       "    }\n",
       "\n",
       "    .dataframe tbody tr th {\n",
       "        vertical-align: top;\n",
       "    }\n",
       "\n",
       "    .dataframe thead th {\n",
       "        text-align: right;\n",
       "    }\n",
       "</style>\n",
       "<table border=\"1\" class=\"dataframe\">\n",
       "  <thead>\n",
       "    <tr style=\"text-align: right;\">\n",
       "      <th></th>\n",
       "      <th>sequence</th>\n",
       "    </tr>\n",
       "    <tr>\n",
       "      <th>uniprot_id</th>\n",
       "      <th></th>\n",
       "    </tr>\n",
       "  </thead>\n",
       "  <tbody>\n",
       "    <tr>\n",
       "      <th>B2KJ46</th>\n",
       "      <td>MGEIESYCNKELGPLPTKAPTLSKNVLDLFSLKGKVASVTGSSGGI...</td>\n",
       "    </tr>\n",
       "    <tr>\n",
       "      <th>Q4J702</th>\n",
       "      <td>MDIDRLFSVKGMNAVVLGASSGIGKAIAEMFSEMGGKVVLSDIDEE...</td>\n",
       "    </tr>\n",
       "  </tbody>\n",
       "</table>\n",
       "</div>"
      ],
      "text/plain": [
       "                                                     sequence\n",
       "uniprot_id                                                   \n",
       "B2KJ46      MGEIESYCNKELGPLPTKAPTLSKNVLDLFSLKGKVASVTGSSGGI...\n",
       "Q4J702      MDIDRLFSVKGMNAVVLGASSGIGKAIAEMFSEMGGKVVLSDIDEE..."
      ]
     },
     "execution_count": 8,
     "metadata": {},
     "output_type": "execute_result"
    }
   ],
   "source": [
    "df_seq.head(2)"
   ]
  },
  {
   "cell_type": "code",
   "execution_count": 29,
   "id": "70ecb4d6-fc3a-4b46-b2ca-fdc4409f8fad",
   "metadata": {},
   "outputs": [
    {
     "name": "stdout",
     "output_type": "stream",
     "text": [
      "13405 12994\n"
     ]
    },
    {
     "data": {
      "text/html": [
       "<div>\n",
       "<style scoped>\n",
       "    .dataframe tbody tr th:only-of-type {\n",
       "        vertical-align: middle;\n",
       "    }\n",
       "\n",
       "    .dataframe tbody tr th {\n",
       "        vertical-align: top;\n",
       "    }\n",
       "\n",
       "    .dataframe thead th {\n",
       "        text-align: right;\n",
       "    }\n",
       "</style>\n",
       "<table border=\"1\" class=\"dataframe\">\n",
       "  <thead>\n",
       "    <tr style=\"text-align: right;\">\n",
       "      <th></th>\n",
       "      <th>uniprot_id</th>\n",
       "      <th>reaction_type</th>\n",
       "      <th>fit_mean</th>\n",
       "      <th>fit_std</th>\n",
       "      <th>num_act</th>\n",
       "      <th>max_min_diff</th>\n",
       "      <th>enzyme_type</th>\n",
       "      <th>enzyme_type_sub</th>\n",
       "      <th>acceptor</th>\n",
       "    </tr>\n",
       "  </thead>\n",
       "  <tbody>\n",
       "    <tr>\n",
       "      <th>0</th>\n",
       "      <td>05650</td>\n",
       "      <td>NaN</td>\n",
       "      <td>8.4</td>\n",
       "      <td>NaN</td>\n",
       "      <td>1</td>\n",
       "      <td>NaN</td>\n",
       "      <td>Lyases</td>\n",
       "      <td>Carbon-carbon</td>\n",
       "      <td>NaN</td>\n",
       "    </tr>\n",
       "    <tr>\n",
       "      <th>1</th>\n",
       "      <td>5650</td>\n",
       "      <td>NaN</td>\n",
       "      <td>8.4</td>\n",
       "      <td>NaN</td>\n",
       "      <td>1</td>\n",
       "      <td>NaN</td>\n",
       "      <td>Oxidoreductases</td>\n",
       "      <td>aldehyde or oxo group of donors</td>\n",
       "      <td>iron-sulfur protein</td>\n",
       "    </tr>\n",
       "  </tbody>\n",
       "</table>\n",
       "</div>"
      ],
      "text/plain": [
       "  uniprot_id reaction_type  fit_mean  fit_std  num_act  max_min_diff  \\\n",
       "0      05650           NaN       8.4      NaN        1           NaN   \n",
       "1       5650           NaN       8.4      NaN        1           NaN   \n",
       "\n",
       "       enzyme_type                  enzyme_type_sub             acceptor  \n",
       "0           Lyases                    Carbon-carbon                  NaN  \n",
       "1  Oxidoreductases  aldehyde or oxo group of donors  iron-sulfur protein  "
      ]
     },
     "execution_count": 29,
     "metadata": {},
     "output_type": "execute_result"
    }
   ],
   "source": [
    "# This file has all the ph range data + optimum ph data\n",
    "data_file = Path(\"inputs/ph_merged/20230927_ph_curves.csv\")\n",
    "data_fits = pd.read_csv(data_file)\n",
    "print(len(data_fits), data_fits.uniprot_id.nunique())\n",
    "data_fits.head(2)"
   ]
  },
  {
   "cell_type": "code",
   "execution_count": 27,
   "id": "54f83a6c-3ba5-4fd1-8972-8d6ba1e3384d",
   "metadata": {},
   "outputs": [
    {
     "data": {
      "text/plain": [
       "count    13070.000000\n",
       "mean         7.219988\n",
       "std          1.381762\n",
       "min          1.000000\n",
       "25%          6.500000\n",
       "50%          7.450000\n",
       "75%          8.000000\n",
       "max         12.500000\n",
       "Name: fit_mean, dtype: float64"
      ]
     },
     "execution_count": 27,
     "metadata": {},
     "output_type": "execute_result"
    }
   ],
   "source": [
    "data_fits.fit_mean.describe()"
   ]
  },
  {
   "cell_type": "code",
   "execution_count": 30,
   "id": "18c7fb1c-6ffd-4197-b20b-2911e16e97ba",
   "metadata": {},
   "outputs": [
    {
     "data": {
      "text/plain": [
       "count    2765.000000\n",
       "mean        1.330199\n",
       "std         0.703292\n",
       "min         0.119048\n",
       "25%         0.849322\n",
       "50%         1.158647\n",
       "75%         1.596539\n",
       "max         4.000000\n",
       "Name: fit_std, dtype: float64"
      ]
     },
     "execution_count": 30,
     "metadata": {},
     "output_type": "execute_result"
    }
   ],
   "source": [
    "data_fits.fit_std.describe()"
   ]
  },
  {
   "cell_type": "code",
   "execution_count": 31,
   "id": "286e34bf-d970-4f92-bccb-6cc2f3346c43",
   "metadata": {},
   "outputs": [],
   "source": [
    "data_fits = data_fits.drop(columns=['num_act', 'max_min_diff'])"
   ]
  },
  {
   "cell_type": "code",
   "execution_count": 32,
   "id": "42fb703e-98d1-4f88-a183-c043f78423ce",
   "metadata": {},
   "outputs": [
    {
     "data": {
      "text/plain": [
       "oxidation    634\n",
       "reduction    473\n",
       "?              1\n",
       "Name: reaction_type, dtype: int64"
      ]
     },
     "execution_count": 32,
     "metadata": {},
     "output_type": "execute_result"
    }
   ],
   "source": [
    "data_fits.reaction_type.value_counts()"
   ]
  },
  {
   "cell_type": "code",
   "execution_count": 33,
   "id": "886912cd-06d2-4d46-abbc-63b05da81bc5",
   "metadata": {},
   "outputs": [
    {
     "data": {
      "text/plain": [
       "2765"
      ]
     },
     "execution_count": 33,
     "metadata": {},
     "output_type": "execute_result"
    }
   ],
   "source": [
    "len(data_fits.dropna(subset=\"fit_std\"))"
   ]
  },
  {
   "cell_type": "code",
   "execution_count": 34,
   "id": "ceaf6cda-e7e0-4326-a2c7-a8fb727b42a6",
   "metadata": {},
   "outputs": [
    {
     "name": "stdout",
     "output_type": "stream",
     "text": [
      "12663 13064\n",
      "12663 13064\n"
     ]
    }
   ],
   "source": [
    "# now limit the proteins to those with an embedding and relevant data\n",
    "data_fits = data_fits[data_fits.uniprot_id.isin(df_seq.index)]\n",
    "print(data_fits.uniprot_id.nunique(), len(data_fits))\n",
    "data_fits.dropna(subset=['fit_mean'], how=\"any\", inplace=True)\n",
    "print(data_fits.uniprot_id.nunique(), len(data_fits))"
   ]
  },
  {
   "cell_type": "code",
   "execution_count": 35,
   "id": "828ba158-044e-4f3d-b266-398f96af176d",
   "metadata": {},
   "outputs": [],
   "source": [
    "uniprot_to_seq = dict(zip(df_seq.index, df_seq.sequence))\n",
    "seq_to_uniprot = dict(zip(df_seq.sequence, df_seq.index))"
   ]
  },
  {
   "cell_type": "code",
   "execution_count": 36,
   "id": "8363a871-691a-4210-a19f-ffc84715d448",
   "metadata": {},
   "outputs": [],
   "source": [
    "data_fits['sequence'] = data_fits.uniprot_id.apply(lambda x: uniprot_to_seq[x])"
   ]
  },
  {
   "cell_type": "code",
   "execution_count": 37,
   "id": "0b9e1b12-da25-4f2e-b220-f58dc1b09559",
   "metadata": {},
   "outputs": [
    {
     "data": {
      "text/html": [
       "<div>\n",
       "<style scoped>\n",
       "    .dataframe tbody tr th:only-of-type {\n",
       "        vertical-align: middle;\n",
       "    }\n",
       "\n",
       "    .dataframe tbody tr th {\n",
       "        vertical-align: top;\n",
       "    }\n",
       "\n",
       "    .dataframe thead th {\n",
       "        text-align: right;\n",
       "    }\n",
       "</style>\n",
       "<table border=\"1\" class=\"dataframe\">\n",
       "  <thead>\n",
       "    <tr style=\"text-align: right;\">\n",
       "      <th></th>\n",
       "      <th>uniprot_id</th>\n",
       "      <th>reaction_type</th>\n",
       "      <th>fit_mean</th>\n",
       "      <th>fit_std</th>\n",
       "      <th>enzyme_type</th>\n",
       "      <th>enzyme_type_sub</th>\n",
       "      <th>acceptor</th>\n",
       "      <th>sequence</th>\n",
       "      <th>oxidation</th>\n",
       "      <th>reduction</th>\n",
       "    </tr>\n",
       "  </thead>\n",
       "  <tbody>\n",
       "    <tr>\n",
       "      <th>5</th>\n",
       "      <td>A0A023RBJ1</td>\n",
       "      <td>reduction</td>\n",
       "      <td>5.5</td>\n",
       "      <td>NaN</td>\n",
       "      <td>Oxidoreductases</td>\n",
       "      <td>CH-OH group of donors</td>\n",
       "      <td>NAD+ or NADP+</td>\n",
       "      <td>MADKLPEEEHPKPAFGWAARDQSGLLSPFKFSRRATGEKDVAFKVL...</td>\n",
       "      <td>0</td>\n",
       "      <td>1</td>\n",
       "    </tr>\n",
       "    <tr>\n",
       "      <th>17</th>\n",
       "      <td>A0A059TC02</td>\n",
       "      <td>reduction</td>\n",
       "      <td>6.0</td>\n",
       "      <td>NaN</td>\n",
       "      <td>Oxidoreductases</td>\n",
       "      <td>aldehyde or oxo group of donors</td>\n",
       "      <td>NAD+ or NADP+</td>\n",
       "      <td>MRSVSGQVVCVTGAGGFIASWLVKILLEKGYTVRGTVRNPDDPKNG...</td>\n",
       "      <td>0</td>\n",
       "      <td>1</td>\n",
       "    </tr>\n",
       "  </tbody>\n",
       "</table>\n",
       "</div>"
      ],
      "text/plain": [
       "    uniprot_id reaction_type  fit_mean  fit_std      enzyme_type  \\\n",
       "5   A0A023RBJ1     reduction       5.5      NaN  Oxidoreductases   \n",
       "17  A0A059TC02     reduction       6.0      NaN  Oxidoreductases   \n",
       "\n",
       "                    enzyme_type_sub       acceptor  \\\n",
       "5             CH-OH group of donors  NAD+ or NADP+   \n",
       "17  aldehyde or oxo group of donors  NAD+ or NADP+   \n",
       "\n",
       "                                             sequence  oxidation  reduction  \n",
       "5   MADKLPEEEHPKPAFGWAARDQSGLLSPFKFSRRATGEKDVAFKVL...          0          1  \n",
       "17  MRSVSGQVVCVTGAGGFIASWLVKILLEKGYTVRGTVRNPDDPKNG...          0          1  "
      ]
     },
     "execution_count": 37,
     "metadata": {},
     "output_type": "execute_result"
    }
   ],
   "source": [
    "# try using a one-hot encoding of just oxidation and reduction\n",
    "data_fits['oxidation'] = data_fits.reaction_type.apply(lambda x: x == 'oxidation').astype(int)\n",
    "data_fits['reduction'] = data_fits.reaction_type.apply(lambda x: x == 'reduction').astype(int)\n",
    "data_fits[data_fits.reaction_type == 'reduction'].head(2)"
   ]
  },
  {
   "cell_type": "code",
   "execution_count": 38,
   "id": "995a67d5-9403-43f6-9e14-d7f8c0fa2cf1",
   "metadata": {},
   "outputs": [
    {
     "name": "stdout",
     "output_type": "stream",
     "text": [
      "12501 12663\n"
     ]
    }
   ],
   "source": [
    "df_seq_uniq = data_fits['sequence'].drop_duplicates()\n",
    "# print(len(df_seq_uniq), len(df_seq))\n",
    "# df_seq_uniq = df_seq_uniq[df_seq_uniq.uniprot_id.isin(data_act_merged.uniprot_id.unique())]\n",
    "print(len(df_seq_uniq), data_fits.uniprot_id.nunique())"
   ]
  },
  {
   "cell_type": "code",
   "execution_count": 39,
   "id": "8c5e1d3e-3a1c-48ad-9397-6a8d3014d663",
   "metadata": {},
   "outputs": [
    {
     "data": {
      "text/plain": [
       "2    MRTYRLTYSDIRGRAELARLVFVAAGESFEDRRVSREEWAELKKET...\n",
       "3    MRFQVIVAAATITMITSYIPGVASQSTSDGDDLFVPVSNFDPKSIF...\n",
       "Name: sequence, dtype: object"
      ]
     },
     "execution_count": 39,
     "metadata": {},
     "output_type": "execute_result"
    }
   ],
   "source": [
    "df_seq_uniq.head(2)"
   ]
  },
  {
   "cell_type": "code",
   "execution_count": 40,
   "id": "d8a126d5-c087-4e99-8ace-036232919cf6",
   "metadata": {},
   "outputs": [
    {
     "name": "stdout",
     "output_type": "stream",
     "text": [
      "11250 1251\n"
     ]
    }
   ],
   "source": [
    "# just take a random split for now\n",
    "from sklearn.model_selection import train_test_split\n",
    "train, test = train_test_split(df_seq_uniq.values, test_size=0.1)\n",
    "train = set(train)\n",
    "test = set(test)\n",
    "print(len(train), len(test))"
   ]
  },
  {
   "cell_type": "code",
   "execution_count": 41,
   "id": "39b20322-b2d2-4406-8aab-f14bcfa3aaf9",
   "metadata": {},
   "outputs": [
    {
     "name": "stdout",
     "output_type": "stream",
     "text": [
      "250\n"
     ]
    },
    {
     "data": {
      "text/html": [
       "<div>\n",
       "<style scoped>\n",
       "    .dataframe tbody tr th:only-of-type {\n",
       "        vertical-align: middle;\n",
       "    }\n",
       "\n",
       "    .dataframe tbody tr th {\n",
       "        vertical-align: top;\n",
       "    }\n",
       "\n",
       "    .dataframe thead th {\n",
       "        text-align: right;\n",
       "    }\n",
       "</style>\n",
       "<table border=\"1\" class=\"dataframe\">\n",
       "  <thead>\n",
       "    <tr style=\"text-align: right;\">\n",
       "      <th></th>\n",
       "      <th>uniprot_id</th>\n",
       "      <th>sequence</th>\n",
       "      <th>set</th>\n",
       "    </tr>\n",
       "  </thead>\n",
       "  <tbody>\n",
       "    <tr>\n",
       "      <th>2245</th>\n",
       "      <td>P9WQB0</td>\n",
       "      <td>MRVGIPTETKNNEFRVAITPAGVAELTRRGHEVLIQAGAGEGSAIT...</td>\n",
       "      <td>test</td>\n",
       "    </tr>\n",
       "    <tr>\n",
       "      <th>2246</th>\n",
       "      <td>A3LY17</td>\n",
       "      <td>MLFSYFPALVALCSTVSALGGLQNIVFKNSKDDLQLAAHKKSATLF...</td>\n",
       "      <td>test</td>\n",
       "    </tr>\n",
       "  </tbody>\n",
       "</table>\n",
       "</div>"
      ],
      "text/plain": [
       "     uniprot_id                                           sequence   set\n",
       "2245     P9WQB0  MRVGIPTETKNNEFRVAITPAGVAELTRRGHEVLIQAGAGEGSAIT...  test\n",
       "2246     A3LY17  MLFSYFPALVALCSTVSALGGLQNIVFKNSKDDLQLAAHKKSATLF...  test"
      ]
     },
     "execution_count": 41,
     "metadata": {},
     "output_type": "execute_result"
    }
   ],
   "source": [
    "# optionally run this instead to keep the same train and test set as previous run\n",
    "split_file = \"results/20230914_ph_range/df_split.csv\"\n",
    "df = pd.read_csv(split_file)\n",
    "test = df[df.set == \"test\"]\n",
    "print(len(test))\n",
    "test.head(2)\n",
    "# train = df_seq_uniq[~df_seq_uniq.uniprot_id.isin(df_test.uniprot_id)].set_index('uniprot_id')\n",
    "# test = df_seq_uniq[df_seq_uniq.uniprot_id.isin(df_test.uniprot_id)].set_index('uniprot_id')\n",
    "# print(len(train), len(test))"
   ]
  },
  {
   "cell_type": "code",
   "execution_count": 42,
   "id": "ba95c9ba-6d47-481f-8dea-70e09b676e89",
   "metadata": {},
   "outputs": [
    {
     "data": {
      "text/html": [
       "<div>\n",
       "<style scoped>\n",
       "    .dataframe tbody tr th:only-of-type {\n",
       "        vertical-align: middle;\n",
       "    }\n",
       "\n",
       "    .dataframe tbody tr th {\n",
       "        vertical-align: top;\n",
       "    }\n",
       "\n",
       "    .dataframe thead th {\n",
       "        text-align: right;\n",
       "    }\n",
       "</style>\n",
       "<table border=\"1\" class=\"dataframe\">\n",
       "  <thead>\n",
       "    <tr style=\"text-align: right;\">\n",
       "      <th></th>\n",
       "      <th>uniprot_id</th>\n",
       "      <th>sequence</th>\n",
       "      <th>split</th>\n",
       "    </tr>\n",
       "  </thead>\n",
       "  <tbody>\n",
       "    <tr>\n",
       "      <th>2</th>\n",
       "      <td>A0A023I760</td>\n",
       "      <td>MRTYRLTYSDIRGRAELARLVFVAAGESFEDRRVSREEWAELKKET...</td>\n",
       "      <td>train</td>\n",
       "    </tr>\n",
       "    <tr>\n",
       "      <th>3</th>\n",
       "      <td>A0A023I7E1</td>\n",
       "      <td>MRFQVIVAAATITMITSYIPGVASQSTSDGDDLFVPVSNFDPKSIF...</td>\n",
       "      <td>train</td>\n",
       "    </tr>\n",
       "  </tbody>\n",
       "</table>\n",
       "</div>"
      ],
      "text/plain": [
       "   uniprot_id                                           sequence  split\n",
       "2  A0A023I760  MRTYRLTYSDIRGRAELARLVFVAAGESFEDRRVSREEWAELKKET...  train\n",
       "3  A0A023I7E1  MRFQVIVAAATITMITSYIPGVASQSTSDGDDLFVPVSNFDPKSIF...  train"
      ]
     },
     "execution_count": 42,
     "metadata": {},
     "output_type": "execute_result"
    }
   ],
   "source": [
    "def train_test_split(seq):\n",
    "    if isinstance(test, set):\n",
    "        if seq in test:\n",
    "            return \"test\"\n",
    "    else:\n",
    "        if seq in test.sequence.values:\n",
    "            return \"test\"\n",
    "    return \"train\"\n",
    "\n",
    "data_fits['split'] = data_fits.sequence.apply(train_test_split)\n",
    "df_split = data_fits[[\"uniprot_id\", \"sequence\", \"split\"]].drop_duplicates()\n",
    "df_split.head(2)"
   ]
  },
  {
   "cell_type": "markdown",
   "id": "d01d4ac0-7707-4a31-bbe7-45db58041d94",
   "metadata": {},
   "source": [
    "### Predict a normal distribution for each sequence\n",
    "The loss will be the MAE of the points compared to the curve"
   ]
  },
  {
   "cell_type": "code",
   "execution_count": 25,
   "id": "366653e4-f663-4f9e-8fc7-6dd63b0d6883",
   "metadata": {},
   "outputs": [
    {
     "data": {
      "text/plain": [
       "train    11404\n",
       "test      1265\n",
       "Name: split, dtype: int64"
      ]
     },
     "execution_count": 25,
     "metadata": {},
     "output_type": "execute_result"
    }
   ],
   "source": [
    "df_split.split.value_counts()"
   ]
  },
  {
   "cell_type": "code",
   "execution_count": 43,
   "id": "0bc31361-17a1-49f1-9e95-30bd8fab04fe",
   "metadata": {},
   "outputs": [
    {
     "data": {
      "text/plain": [
       "train    12416\n",
       "test       247\n",
       "Name: split, dtype: int64"
      ]
     },
     "execution_count": 43,
     "metadata": {},
     "output_type": "execute_result"
    }
   ],
   "source": [
    "df_split.split.value_counts()"
   ]
  },
  {
   "cell_type": "code",
   "execution_count": 44,
   "id": "82971edf-d446-453f-a3a6-f9a100d965d6",
   "metadata": {},
   "outputs": [],
   "source": [
    "# seq_idx = {seq: idx for idx, seq in df_seq.sequence.items\n",
    "seq_idx = dict(zip(df_seq.sequence, df_seq.reset_index().index))\n",
    "# print(list(seq_idx.items())[:2])"
   ]
  },
  {
   "cell_type": "code",
   "execution_count": 45,
   "id": "790bcd6e-f252-47ea-9f99-7fdfa9cc19bc",
   "metadata": {},
   "outputs": [
    {
     "data": {
      "text/html": [
       "<div>\n",
       "<style scoped>\n",
       "    .dataframe tbody tr th:only-of-type {\n",
       "        vertical-align: middle;\n",
       "    }\n",
       "\n",
       "    .dataframe tbody tr th {\n",
       "        vertical-align: top;\n",
       "    }\n",
       "\n",
       "    .dataframe thead th {\n",
       "        text-align: right;\n",
       "    }\n",
       "</style>\n",
       "<table border=\"1\" class=\"dataframe\">\n",
       "  <thead>\n",
       "    <tr style=\"text-align: right;\">\n",
       "      <th></th>\n",
       "      <th>uniprot_id</th>\n",
       "      <th>reaction_type</th>\n",
       "      <th>fit_mean</th>\n",
       "      <th>fit_std</th>\n",
       "      <th>enzyme_type</th>\n",
       "      <th>enzyme_type_sub</th>\n",
       "      <th>acceptor</th>\n",
       "      <th>sequence</th>\n",
       "      <th>oxidation</th>\n",
       "      <th>reduction</th>\n",
       "      <th>split</th>\n",
       "    </tr>\n",
       "  </thead>\n",
       "  <tbody>\n",
       "    <tr>\n",
       "      <th>2</th>\n",
       "      <td>A0A023I760</td>\n",
       "      <td>NaN</td>\n",
       "      <td>8.0</td>\n",
       "      <td>NaN</td>\n",
       "      <td>Transferases</td>\n",
       "      <td>alkyl or aryl groups, other than methyl groups</td>\n",
       "      <td>NaN</td>\n",
       "      <td>MRTYRLTYSDIRGRAELARLVFVAAGESFEDRRVSREEWAELKKET...</td>\n",
       "      <td>0</td>\n",
       "      <td>0</td>\n",
       "      <td>train</td>\n",
       "    </tr>\n",
       "    <tr>\n",
       "      <th>3</th>\n",
       "      <td>A0A023I7E1</td>\n",
       "      <td>NaN</td>\n",
       "      <td>5.5</td>\n",
       "      <td>NaN</td>\n",
       "      <td>Hydrolases</td>\n",
       "      <td>Glycosylases</td>\n",
       "      <td>NaN</td>\n",
       "      <td>MRFQVIVAAATITMITSYIPGVASQSTSDGDDLFVPVSNFDPKSIF...</td>\n",
       "      <td>0</td>\n",
       "      <td>0</td>\n",
       "      <td>train</td>\n",
       "    </tr>\n",
       "  </tbody>\n",
       "</table>\n",
       "</div>"
      ],
      "text/plain": [
       "   uniprot_id reaction_type  fit_mean  fit_std   enzyme_type  \\\n",
       "2  A0A023I760           NaN       8.0      NaN  Transferases   \n",
       "3  A0A023I7E1           NaN       5.5      NaN    Hydrolases   \n",
       "\n",
       "                                  enzyme_type_sub acceptor  \\\n",
       "2  alkyl or aryl groups, other than methyl groups      NaN   \n",
       "3                                    Glycosylases      NaN   \n",
       "\n",
       "                                            sequence  oxidation  reduction  \\\n",
       "2  MRTYRLTYSDIRGRAELARLVFVAAGESFEDRRVSREEWAELKKET...          0          0   \n",
       "3  MRFQVIVAAATITMITSYIPGVASQSTSDGDDLFVPVSNFDPKSIF...          0          0   \n",
       "\n",
       "   split  \n",
       "2  train  \n",
       "3  train  "
      ]
     },
     "execution_count": 45,
     "metadata": {},
     "output_type": "execute_result"
    }
   ],
   "source": [
    "df_train = data_fits[data_fits.split == \"train\"]\n",
    "df_test = data_fits[data_fits.split == \"test\"]\n",
    "df_train.head(2)"
   ]
  },
  {
   "cell_type": "code",
   "execution_count": 46,
   "id": "614af097-10ab-4034-a5f9-fb6c994cf0e6",
   "metadata": {},
   "outputs": [],
   "source": [
    "categ_cols = ['oxidation', 'reduction']"
   ]
  },
  {
   "cell_type": "code",
   "execution_count": 47,
   "id": "00c26c6d-47e0-4d07-b3b0-38ebab0636f2",
   "metadata": {},
   "outputs": [
    {
     "name": "stdout",
     "output_type": "stream",
     "text": [
      "(12801, 1282)\n",
      "12801 0.98\n",
      "263 0.02\n"
     ]
    }
   ],
   "source": [
    "# some of the sequences are repeated, so get their embeddings by index\n",
    "X_train = np.asarray([embeddings[seq_idx[seq]] for seq in df_train.sequence.values])\n",
    "X_train = np.hstack([X_train, df_train[categ_cols].values])\n",
    "print(X_train.shape)\n",
    "y_train = df_train[['fit_mean', 'fit_std']].values\n",
    "\n",
    "X_test = np.asarray([embeddings[seq_idx[seq]] for seq in df_test.sequence.values])\n",
    "X_test = np.hstack([X_test, df_test[categ_cols].values])\n",
    "y_test = df_test[['fit_mean', 'fit_std']].values\n",
    "print(len(df_train), f\"{len(df_train) / (len(df_train) + len(df_test)):0.2f}\")\n",
    "print(len(df_test), f\"{len(df_test) / (len(df_train) + len(df_test)):0.2f}\")"
   ]
  },
  {
   "cell_type": "code",
   "execution_count": 48,
   "id": "69b4db9f-f2de-4882-b3ce-70ad36ce43ae",
   "metadata": {},
   "outputs": [
    {
     "data": {
      "text/plain": [
       "(12.5, 1.0)"
      ]
     },
     "execution_count": 48,
     "metadata": {},
     "output_type": "execute_result"
    }
   ],
   "source": [
    "y_train[:,0].max(), y_train[:,0].min()"
   ]
  },
  {
   "cell_type": "markdown",
   "id": "49a3943b-1361-4e60-8b04-34ca084a5af9",
   "metadata": {},
   "source": [
    "### Build neural net on sequence embeddings"
   ]
  },
  {
   "cell_type": "code",
   "execution_count": 50,
   "id": "3ad9e381-3efe-4f75-8449-181e79c7ca1e",
   "metadata": {},
   "outputs": [],
   "source": [
    "import torch\n",
    "from torch import nn\n",
    "import pytorch_lightning as pl\n",
    "import torchmetrics"
   ]
  },
  {
   "cell_type": "code",
   "execution_count": 51,
   "id": "bbfb2ed6-cce3-4375-8935-ba8c196d9ed8",
   "metadata": {},
   "outputs": [],
   "source": [
    "class neural_network_fits(pl.LightningModule):\n",
    "    def __init__(self, initial_layer_size=1280, lr=1e-3):\n",
    "        \"\"\" Given an input esm2 sequence embedding, \n",
    "        predicts the mean and sigma (standard deviation) parameters e.g., for pH activity curves.\n",
    "        \"\"\"\n",
    "        super(neural_network_fits, self).__init__()\n",
    "        self.linear_relu_stack = nn.Sequential(\n",
    "            nn.Linear(initial_layer_size, 512),\n",
    "            nn.LeakyReLU(),            \n",
    "            nn.Linear(512, 512),\n",
    "            nn.LeakyReLU(),\n",
    "            nn.Linear(512, 2),\n",
    "        )\n",
    "        self.lr = lr\n",
    "        # l1 loss reduction\n",
    "        self.reduction = \"mean\"\n",
    "\n",
    "    def forward(self, x):\n",
    "        # predict the mean and std deviation\n",
    "        logits = self.linear_relu_stack(x)\n",
    "        # return logits\n",
    "        # y_pred_mean, y_pred_sigma = logits[:,0], logits[:,1]\n",
    "\n",
    "        # take the sigmoid of the pH mean logits, then multiply by 13 to get in the range 0-13\n",
    "        y_pred_mean = torch.sigmoid(logits[:,0])\n",
    "        y_pred_mean = torch.multiply(y_pred_mean, 13)\n",
    "        # limit the standard deviation to between 0 and 4.25\n",
    "        y_pred_sigma = torch.sigmoid(logits[:,1])\n",
    "        y_pred_sigma = torch.multiply(y_pred_sigma, 4.25)\n",
    "        return y_pred_mean, y_pred_sigma\n",
    "#         return dist, y_pred_mean, y_pred_sigma\n",
    "\n",
    "    def training_step(self, batch, batch_idx):\n",
    "        x, y = batch\n",
    "        y_opt, y_std = y[:,0], y[:,1]\n",
    "        \n",
    "        # logits = self(x)\n",
    "        # y_pred_mean, y_pred_sigma = logits[:,0], logits[:,1]\n",
    "        y_pred_mean, y_pred_sigma = self(x)\n",
    "\n",
    "        # use mse_loss or l1_loss (mae) on both the ph opt\n",
    "        loss = nn.functional.l1_loss(y_pred_mean, y_opt, reduction=self.reduction)\n",
    "        # and the ph standard deviation. Only use rows that are not nan\n",
    "        loss += nn.functional.l1_loss(y_pred_sigma[~torch.isnan(y_std)], \n",
    "                                      y_std[~torch.isnan(y_std)],\n",
    "                                      reduction=self.reduction)\n",
    "        self.log('train_loss', loss)\n",
    "        return loss\n",
    "    \n",
    "#     def validation_step(self, batch, batch_idx):\n",
    "#         x, y = batch\n",
    "#         y_ph, y_act = y[:,0], y[:,1]\n",
    "        \n",
    "#         y_pred = self(x)\n",
    "#         y_pred_mean, y_pred_sigma = y_pred[:,0], y[:,1]\n",
    "#         y_pred_act = self.get_gaus_pred(y_ph, y_pred_mean, y_pred_sigma)\n",
    "\n",
    "#         loss = nn.functional.l1_loss(y_pred_act, y_act)\n",
    "#         self.log(\"val_loss\", loss)\n",
    "        \n",
    "    def configure_optimizers(self):\n",
    "        optimizer = torch.optim.Adam(self.parameters(), lr=self.lr)\n",
    "        return optimizer"
   ]
  },
  {
   "cell_type": "code",
   "execution_count": 52,
   "id": "f1ae9480-7fa5-4a6e-97ae-d1bcd9d5bdac",
   "metadata": {},
   "outputs": [],
   "source": [
    "def fit_model(X_train, y_train, X_valid, epochs=20, lr=1e-3):\n",
    "    pl.seed_everything(42)\n",
    "    model = neural_network_fits(initial_layer_size=X_train.shape[1], \n",
    "                                lr=lr,\n",
    "                               )\n",
    "    \n",
    "    trainer = pl.Trainer(\n",
    "        # gpus=-1,\n",
    "        # devices=0,\n",
    "        accelerator=\"gpu\",\n",
    "        max_epochs=epochs,\n",
    "        check_val_every_n_epoch=5)\n",
    "    \n",
    "    train_dataset = torch.utils.data.TensorDataset(torch.Tensor(X_train).to(device), torch.Tensor(y_train).to(device))\n",
    "    # valid_dataset = torch.utils.data.TensorDataset(torch.Tensor(X_valid), torch.Tensor(y_valid))\n",
    "\n",
    "    train_loader = torch.utils.data.DataLoader(train_dataset, batch_size=32, shuffle=True)\n",
    "    # valid_loader = torch.utils.data.DataLoader(valid_dataset, batch_size=16, shuffle=False)\n",
    "\n",
    "    trainer.fit(model, train_loader)\n",
    "    \n",
    "    return model, trainer"
   ]
  },
  {
   "cell_type": "code",
   "execution_count": 53,
   "id": "90bb674b-deff-4987-9a04-ce918c4c6fad",
   "metadata": {},
   "outputs": [
    {
     "data": {
      "text/plain": [
       "'cuda:0'"
      ]
     },
     "execution_count": 53,
     "metadata": {},
     "output_type": "execute_result"
    }
   ],
   "source": [
    "device = 'cuda:0' if torch.cuda.is_available() else 'cpu'\n",
    "device"
   ]
  },
  {
   "cell_type": "code",
   "execution_count": null,
   "id": "123ffaac-7263-439d-905a-b80406e79d2d",
   "metadata": {},
   "outputs": [],
   "source": [
    "# For debugging, just look at 10 rows\n",
    "# X_train_2 = X_train[:10,:]\n",
    "# y_train_2 = y_train[:10,:]\n",
    "# X_test_2 = X_test[:10,:]\n",
    "# head_model_2 = fit_model(X_train_2, y_train_2, X_test_2, epochs=20)"
   ]
  },
  {
   "cell_type": "code",
   "execution_count": 54,
   "id": "1ba5bae3-d409-4074-8c22-a11d928266b3",
   "metadata": {},
   "outputs": [],
   "source": [
    "def eval_model(head_model, X_test, y_test, to_print=\"\"):\n",
    "    # logits = head_model(torch.Tensor(X_test)).detach().numpy()\n",
    "    # y_pred_mean, y_pred_sigma = logits[:,0], logits[:,1]\n",
    "    y_pred_mean, y_pred_sigma = head_model(torch.Tensor(X_test))\n",
    "    y_pred_mean, y_pred_sigma = y_pred_mean.detach().numpy(), y_pred_sigma.detach().numpy()\n",
    "    y_opt, y_std = y_test[:,0], y_test[:,1]\n",
    "    df_err = pd.DataFrame({\"pH opt\": y_opt, \"pH std\": y_std, \"ML pH opt\": y_pred_mean, \"ML pH std\": y_pred_sigma})\n",
    "    y_pred_sigma = y_pred_sigma[~np.isnan(y_std)]\n",
    "    y_std = y_std[~np.isnan(y_std)]\n",
    "\n",
    "    # now calculate the overall MAE\n",
    "    # df_err = []\n",
    "    for y_true, y_pred, name in zip([y_opt, y_std], [y_pred_mean, y_pred_sigma], [\"pH opt\", \"pH std\"]):\n",
    "        rho, _ = spearmanr(y_pred, y_true)  # spearman\n",
    "        mse = mean_squared_error(y_pred, y_true)  # Mean Squared Error\n",
    "        mae = np.mean(np.abs(y_pred - y_true))  # Mean Absolute Error\n",
    "        print(f\"{to_print}{name}, {mae:0.2f}, {mse:0.2f}, {rho:0.2f}\")\n",
    "        \n",
    "    return y_pred_mean, y_pred_sigma, df_err"
   ]
  },
  {
   "cell_type": "code",
   "execution_count": 159,
   "id": "2449ca64-22ac-4285-a184-573fc61dc8ce",
   "metadata": {},
   "outputs": [
    {
     "name": "stderr",
     "output_type": "stream",
     "text": [
      "Global seed set to 42\n",
      "GPU available: True (cuda), used: True\n",
      "TPU available: False, using: 0 TPU cores\n",
      "IPU available: False, using: 0 IPUs\n",
      "HPU available: False, using: 0 HPUs\n",
      "LOCAL_RANK: 0 - CUDA_VISIBLE_DEVICES: [0]\n",
      "\n",
      "  | Name              | Type       | Params\n",
      "-------------------------------------------------\n",
      "0 | linear_relu_stack | Sequential | 920 K \n",
      "-------------------------------------------------\n",
      "920 K     Trainable params\n",
      "0         Non-trainable params\n",
      "920 K     Total params\n",
      "3.682     Total estimated model params size (MB)\n"
     ]
    },
    {
     "data": {
      "application/vnd.jupyter.widget-view+json": {
       "model_id": "833c0ba6abd944f383fccc73590b7d34",
       "version_major": 2,
       "version_minor": 0
      },
      "text/plain": [
       "Training: 0it [00:00, ?it/s]"
      ]
     },
     "metadata": {},
     "output_type": "display_data"
    },
    {
     "name": "stderr",
     "output_type": "stream",
     "text": [
      "`Trainer.fit` stopped: `max_epochs=50` reached.\n",
      "Global seed set to 42\n",
      "/home/jlaw/.conda/envs/tm/lib/python3.10/site-packages/lightning_fabric/plugins/environments/slurm.py:166: PossibleUserWarning: The `srun` command is available on your system but is not used. HINT: If your intention is to run Lightning on SLURM, prepend your python command with `srun` like so: srun python /home/jlaw/.conda/envs/tm/lib/python3.10/site-packag ...\n",
      "  rank_zero_warn(\n"
     ]
    },
    {
     "name": "stdout",
     "output_type": "stream",
     "text": [
      "test, 50, 0.001, pH opt, 0.73, 0.95, 0.68\n",
      "test, 50, 0.001, pH std, 0.45, 0.39, 0.28\n",
      "train, 50, 0.001, pH opt, 0.46, 0.46, 0.86\n",
      "train, 50, 0.001, pH std, 0.17, 0.07, 0.93\n"
     ]
    },
    {
     "name": "stderr",
     "output_type": "stream",
     "text": [
      "GPU available: True (cuda), used: True\n",
      "TPU available: False, using: 0 TPU cores\n",
      "IPU available: False, using: 0 IPUs\n",
      "HPU available: False, using: 0 HPUs\n",
      "LOCAL_RANK: 0 - CUDA_VISIBLE_DEVICES: [0]\n",
      "\n",
      "  | Name              | Type       | Params\n",
      "-------------------------------------------------\n",
      "0 | linear_relu_stack | Sequential | 920 K \n",
      "-------------------------------------------------\n",
      "920 K     Trainable params\n",
      "0         Non-trainable params\n",
      "920 K     Total params\n",
      "3.682     Total estimated model params size (MB)\n",
      "/home/jlaw/.conda/envs/tm/lib/python3.10/site-packages/pytorch_lightning/trainer/connectors/data_connector.py:224: PossibleUserWarning: The dataloader, train_dataloader, does not have many workers which may be a bottleneck. Consider increasing the value of the `num_workers` argument` (try 36 which is the number of cpus on this machine) in the `DataLoader` init to improve performance.\n",
      "  rank_zero_warn(\n"
     ]
    },
    {
     "data": {
      "application/vnd.jupyter.widget-view+json": {
       "model_id": "fe29121960e1418489610d7376ffeae6",
       "version_major": 2,
       "version_minor": 0
      },
      "text/plain": [
       "Training: 0it [00:00, ?it/s]"
      ]
     },
     "metadata": {},
     "output_type": "display_data"
    },
    {
     "name": "stderr",
     "output_type": "stream",
     "text": [
      "`Trainer.fit` stopped: `max_epochs=50` reached.\n"
     ]
    },
    {
     "name": "stdout",
     "output_type": "stream",
     "text": [
      "test, 50, 0.0001, pH opt, 0.74, 1.02, 0.67\n",
      "test, 50, 0.0001, pH std, 0.47, 0.40, 0.25\n",
      "train, 50, 0.0001, pH opt, 0.39, 0.36, 0.90\n",
      "train, 50, 0.0001, pH std, 0.15, 0.07, 0.93\n"
     ]
    }
   ],
   "source": [
    "for epochs in [50]:\n",
    "    for lr in [1e-3, 1e-4]:\n",
    "        # for batch_size in \n",
    "        head_model, trainer = fit_model(X_train, y_train, X_test, epochs=epochs, lr=lr)\n",
    "        eval_model(head_model, X_test, y_test, f\"test, {epochs}, {lr}, \")\n",
    "        eval_model(head_model, X_train, y_train, f\"train, {epochs}, {lr}, \")"
   ]
  },
  {
   "cell_type": "code",
   "execution_count": 55,
   "id": "a1f3fbe8-8993-4ee1-bd79-dc3663a0360a",
   "metadata": {},
   "outputs": [
    {
     "name": "stderr",
     "output_type": "stream",
     "text": [
      "Global seed set to 42\n",
      "/home/jlaw/.conda/envs/tm/lib/python3.10/site-packages/lightning_fabric/plugins/environments/slurm.py:166: PossibleUserWarning: The `srun` command is available on your system but is not used. HINT: If your intention is to run Lightning on SLURM, prepend your python command with `srun` like so: srun python /home/jlaw/.conda/envs/tm/lib/python3.10/site-packag ...\n",
      "  rank_zero_warn(\n",
      "GPU available: True (cuda), used: True\n",
      "TPU available: False, using: 0 TPU cores\n",
      "IPU available: False, using: 0 IPUs\n",
      "HPU available: False, using: 0 HPUs\n",
      "LOCAL_RANK: 0 - CUDA_VISIBLE_DEVICES: [0]\n",
      "\n",
      "  | Name              | Type       | Params\n",
      "-------------------------------------------------\n",
      "0 | linear_relu_stack | Sequential | 920 K \n",
      "-------------------------------------------------\n",
      "920 K     Trainable params\n",
      "0         Non-trainable params\n",
      "920 K     Total params\n",
      "3.682     Total estimated model params size (MB)\n",
      "/home/jlaw/.conda/envs/tm/lib/python3.10/site-packages/pytorch_lightning/trainer/connectors/data_connector.py:224: PossibleUserWarning: The dataloader, train_dataloader, does not have many workers which may be a bottleneck. Consider increasing the value of the `num_workers` argument` (try 36 which is the number of cpus on this machine) in the `DataLoader` init to improve performance.\n",
      "  rank_zero_warn(\n"
     ]
    },
    {
     "data": {
      "application/vnd.jupyter.widget-view+json": {
       "model_id": "c422e3eb7d074298b7241db2780483f0",
       "version_major": 2,
       "version_minor": 0
      },
      "text/plain": [
       "Training: 0it [00:00, ?it/s]"
      ]
     },
     "metadata": {},
     "output_type": "display_data"
    },
    {
     "name": "stderr",
     "output_type": "stream",
     "text": [
      "`Trainer.fit` stopped: `max_epochs=50` reached.\n",
      "Global seed set to 42\n",
      "/home/jlaw/.conda/envs/tm/lib/python3.10/site-packages/lightning_fabric/plugins/environments/slurm.py:166: PossibleUserWarning: The `srun` command is available on your system but is not used. HINT: If your intention is to run Lightning on SLURM, prepend your python command with `srun` like so: srun python /home/jlaw/.conda/envs/tm/lib/python3.10/site-packag ...\n",
      "  rank_zero_warn(\n"
     ]
    },
    {
     "name": "stdout",
     "output_type": "stream",
     "text": [
      "test, 50, 0.0001, pH opt, 0.80, 1.11, 0.66\n",
      "test, 50, 0.0001, pH std, 0.48, 0.41, 0.29\n",
      "train, 50, 0.0001, pH opt, 0.34, 0.30, 0.92\n",
      "train, 50, 0.0001, pH std, 0.19, 0.09, 0.90\n"
     ]
    },
    {
     "name": "stderr",
     "output_type": "stream",
     "text": [
      "GPU available: True (cuda), used: True\n",
      "TPU available: False, using: 0 TPU cores\n",
      "IPU available: False, using: 0 IPUs\n",
      "HPU available: False, using: 0 HPUs\n",
      "LOCAL_RANK: 0 - CUDA_VISIBLE_DEVICES: [0]\n",
      "\n",
      "  | Name              | Type       | Params\n",
      "-------------------------------------------------\n",
      "0 | linear_relu_stack | Sequential | 920 K \n",
      "-------------------------------------------------\n",
      "920 K     Trainable params\n",
      "0         Non-trainable params\n",
      "920 K     Total params\n",
      "3.682     Total estimated model params size (MB)\n",
      "/home/jlaw/.conda/envs/tm/lib/python3.10/site-packages/pytorch_lightning/trainer/connectors/data_connector.py:224: PossibleUserWarning: The dataloader, train_dataloader, does not have many workers which may be a bottleneck. Consider increasing the value of the `num_workers` argument` (try 36 which is the number of cpus on this machine) in the `DataLoader` init to improve performance.\n",
      "  rank_zero_warn(\n"
     ]
    },
    {
     "data": {
      "application/vnd.jupyter.widget-view+json": {
       "model_id": "3df9827f37374aec89db3406981f742c",
       "version_major": 2,
       "version_minor": 0
      },
      "text/plain": [
       "Training: 0it [00:00, ?it/s]"
      ]
     },
     "metadata": {},
     "output_type": "display_data"
    },
    {
     "name": "stderr",
     "output_type": "stream",
     "text": [
      "`Trainer.fit` stopped: `max_epochs=50` reached.\n"
     ]
    },
    {
     "name": "stdout",
     "output_type": "stream",
     "text": [
      "test, 50, 0.001, pH opt, 0.73, 1.00, 0.67\n",
      "test, 50, 0.001, pH std, 0.47, 0.40, 0.23\n",
      "train, 50, 0.001, pH opt, 0.37, 0.32, 0.91\n",
      "train, 50, 0.001, pH std, 0.17, 0.08, 0.92\n"
     ]
    }
   ],
   "source": [
    "for epochs in [50]:\n",
    "    for lr in [1e-4, 1e-3]:\n",
    "        # for batch_size in \n",
    "        head_model, trainer = fit_model(X_train, y_train, X_test, epochs=epochs, lr=lr)\n",
    "        eval_model(head_model, X_test, y_test, f\"test, {epochs}, {lr}, \")\n",
    "        eval_model(head_model, X_train, y_train, f\"train, {epochs}, {lr}, \")"
   ]
  },
  {
   "cell_type": "code",
   "execution_count": 56,
   "id": "8da7e6a2-46d1-45f0-be21-f3a6b10135f9",
   "metadata": {},
   "outputs": [
    {
     "name": "stdout",
     "output_type": "stream",
     "text": [
      "test, 50, 0.001, pH opt, 0.73, 1.00, 0.67\n",
      "test, 50, 0.001, pH std, 0.47, 0.40, 0.23\n"
     ]
    }
   ],
   "source": [
    "y_pred_mean, y_pred_sigma, df_err = eval_model(head_model, X_test, y_test, f\"test, {epochs}, {lr}, \")"
   ]
  },
  {
   "cell_type": "code",
   "execution_count": 129,
   "id": "55b41035-7707-4cf0-9e0f-b7eccc02c4d3",
   "metadata": {},
   "outputs": [
    {
     "data": {
      "text/plain": [
       "[<matplotlib.lines.Line2D at 0x7f1ec43398a0>]"
      ]
     },
     "execution_count": 129,
     "metadata": {},
     "output_type": "execute_result"
    },
    {
     "data": {
      "image/png": "[encoded data removed]",
      "text/plain": [
       "<Figure size 600x600 with 3 Axes>"
      ]
     },
     "metadata": {},
     "output_type": "display_data"
    }
   ],
   "source": [
    "g = sns.jointplot(df_err, x=\"pH opt\", y=\"ML pH opt\", \n",
    "              # alpha=0.3, s=5, linewidth=0, \n",
    "                  kind=\"hex\"\n",
    "             )\n",
    "g.ax_joint.plot([2,10], [2,10], ls='--', alpha=0.3, color=\"black\", linewidth=1)"
   ]
  },
  {
   "cell_type": "code",
   "execution_count": 57,
   "id": "730f2e2b-9964-487f-90c8-e79f6c9c47a0",
   "metadata": {},
   "outputs": [
    {
     "data": {
      "text/plain": [
       "[<matplotlib.lines.Line2D at 0x7f991ae23850>]"
      ]
     },
     "execution_count": 57,
     "metadata": {},
     "output_type": "execute_result"
    },
    {
     "data": {
      "image/png": "[encoded data removed]",
      "text/plain": [
       "<Figure size 600x600 with 3 Axes>"
      ]
     },
     "metadata": {},
     "output_type": "display_data"
    }
   ],
   "source": [
    "g = sns.jointplot(df_err, x=\"pH opt\", y=\"ML pH opt\", \n",
    "              # alpha=0.3, s=5, linewidth=0, \n",
    "                  kind=\"hex\"\n",
    "             )\n",
    "g.ax_joint.plot([2,10], [2,10], ls='--', alpha=0.3, color=\"black\", linewidth=1)"
   ]
  },
  {
   "cell_type": "code",
   "execution_count": 108,
   "id": "319e8045-8064-4eb7-a8fd-99b4a20315f6",
   "metadata": {},
   "outputs": [
    {
     "data": {
      "text/plain": [
       "[<matplotlib.lines.Line2D at 0x7f1f29438130>]"
      ]
     },
     "execution_count": 108,
     "metadata": {},
     "output_type": "execute_result"
    },
    {
     "data": {
      "image/png": "[encoded data removed]",
      "text/plain": [
       "<Figure size 600x600 with 3 Axes>"
      ]
     },
     "metadata": {},
     "output_type": "display_data"
    }
   ],
   "source": [
    "g = sns.jointplot(df_err, x=\"pH std\", y=\"ML pH std\", \n",
    "              alpha=0.4, s=20, linewidth=0, \n",
    "                  # kind=\"hex\",\n",
    "                  color=\"brown\",\n",
    "             )\n",
    "g.ax_joint.plot([0,3], [0,3], ls='--', alpha=0.3, color=\"black\", linewidth=1)"
   ]
  },
  {
   "cell_type": "code",
   "execution_count": 147,
   "id": "6c938f46-2fdf-4c56-8bf9-3728d735c054",
   "metadata": {},
   "outputs": [
    {
     "data": {
      "text/plain": [
       "[<matplotlib.lines.Line2D at 0x7f1ebb6815a0>]"
      ]
     },
     "execution_count": 147,
     "metadata": {},
     "output_type": "execute_result"
    },
    {
     "data": {
      "image/png": "[encoded data removed]",
      "text/plain": [
       "<Figure size 600x600 with 3 Axes>"
      ]
     },
     "metadata": {},
     "output_type": "display_data"
    }
   ],
   "source": [
    "g = sns.jointplot(df_err, x=\"pH std\", y=\"ML pH std\", \n",
    "              # alpha=0.4, s=20, linewidth=0, \n",
    "                  kind=\"hex\",\n",
    "                  color=\"brown\",\n",
    "             )\n",
    "g.ax_joint.plot([0,3], [0,3], ls='--', alpha=0.3, color=\"black\", linewidth=1)"
   ]
  },
  {
   "cell_type": "code",
   "execution_count": 58,
   "id": "046ff6cb-e98d-4b2d-9f07-44d4ef676462",
   "metadata": {},
   "outputs": [
    {
     "data": {
      "text/plain": [
       "[<matplotlib.lines.Line2D at 0x7f991adad390>]"
      ]
     },
     "execution_count": 58,
     "metadata": {},
     "output_type": "execute_result"
    },
    {
     "data": {
      "image/png": "[encoded data removed]",
      "text/plain": [
       "<Figure size 600x600 with 3 Axes>"
      ]
     },
     "metadata": {},
     "output_type": "display_data"
    }
   ],
   "source": [
    "g = sns.jointplot(df_err, x=\"pH std\", y=\"ML pH std\", \n",
    "              # alpha=0.4, s=20, linewidth=0, \n",
    "                  kind=\"hex\",\n",
    "                  color=\"brown\",\n",
    "             )\n",
    "g.ax_joint.plot([0,3], [0,3], ls='--', alpha=0.3, color=\"black\", linewidth=1)"
   ]
  },
  {
   "cell_type": "code",
   "execution_count": 109,
   "id": "99aa0042-6bfe-4711-94b6-0f4b930f2480",
   "metadata": {},
   "outputs": [
    {
     "data": {
      "text/plain": [
       "Text(0.5, 1.0, 'pH ')"
      ]
     },
     "execution_count": 109,
     "metadata": {},
     "output_type": "execute_result"
    },
    {
     "data": {
      "image/png": "[encoded data removed]",
      "text/plain": [
       "<Figure size 600x300 with 2 Axes>"
      ]
     },
     "metadata": {},
     "output_type": "display_data"
    }
   ],
   "source": [
    "f, (ax, ax2) = plt.subplots(ncols=2, figsize=(6,3))\n",
    "ax.hist(y_pred_mean)\n",
    "ax2.hist(y_pred_sigma)\n",
    "ax.set_title(\"pH opt\")\n",
    "ax.set_title(\"pH \")"
   ]
  },
  {
   "cell_type": "code",
   "execution_count": null,
   "id": "d98d1b44-e148-4e8e-be91-96ac579a8c1a",
   "metadata": {},
   "outputs": [
    {
     "data": {
      "text/plain": [
       "Text(0.5, 1.0, 'sigma_penalty: 0.1')"
      ]
     },
     "execution_count": 39,
     "metadata": {},
     "output_type": "execute_result"
    },
    {
     "data": {
      "image/png": "[encoded data removed]",
      "text/plain": [
       "<Figure size 600x300 with 2 Axes>"
      ]
     },
     "metadata": {},
     "output_type": "display_data"
    }
   ],
   "source": [
    "f, (ax, ax2) = plt.subplots(ncols=2, figsize=(6,3))\n",
    "ax.hist(y_pred_mean)\n",
    "ax2.hist(y_pred_sigma)\n",
    "ax.set_title(\"pH opt\")\n",
    "ax.set_title(\"pH \")"
   ]
  },
  {
   "cell_type": "code",
   "execution_count": 40,
   "id": "8e02464a-068c-4c5f-93e6-9e7ca0d81c0d",
   "metadata": {},
   "outputs": [
    {
     "data": {
      "image/png": "[encoded data removed]",
      "text/plain": [
       "<Figure size 400x300 with 1 Axes>"
      ]
     },
     "metadata": {},
     "output_type": "display_data"
    }
   ],
   "source": [
    "f, ax = plt.subplots(figsize=(4,3))\n",
    "df = pd.DataFrame({'y_pred': y_pred_act, 'y_test': y_test_act})\n",
    "\n",
    "df['y_err'] = (df['y_pred'] - df['y_test'])\n",
    "df['y_err'].plot.hist(bins=30)\n",
    "\n",
    "ax.set_xlabel(\"ML Predicted - True Relative Activity\")\n",
    "rho, _ = spearmanr(y_pred_act, y_test_act)  # spearman\n",
    "mse = mean_squared_error(y_pred_act, y_test_act)  # Mean Squared Error\n",
    "mae = np.mean(np.abs(y_pred_act - y_test_act))  # Mean Absolute Error\n",
    "ax.text(0.7, 0.8, f\"MAE: {mae:0.2f} \\nRho: {rho:0.2f}\",\n",
    "        transform=ax.transAxes)\n",
    "\n",
    "out_file = Path(\"results/20230926_ph_range/pred_err.pdf\")\n",
    "# out_dir = \n",
    "out_file.parent.mkdir(exist_ok=True)\n",
    "plt.savefig(out_file, bbox_inches='tight')"
   ]
  },
  {
   "cell_type": "markdown",
   "id": "6ea3ee62-483c-4582-85d4-c5f26e954dc4",
   "metadata": {},
   "source": [
    "Use the ph_range test set to see if the extra ph_opt data is helping"
   ]
  },
  {
   "cell_type": "markdown",
   "id": "ec1f4cc7-36d6-4709-a16b-cba4fe9a1035",
   "metadata": {},
   "source": [
    "### Show plots for individual prots"
   ]
  },
  {
   "cell_type": "code",
   "execution_count": 67,
   "id": "ae43f85b-79a3-4179-8654-b6f467e975ef",
   "metadata": {},
   "outputs": [],
   "source": [
    "df_test = df_test.reset_index(drop=True)\n",
    "df_train = df_train.reset_index(drop=True)"
   ]
  },
  {
   "cell_type": "code",
   "execution_count": 69,
   "id": "8c7ca056-847d-4675-8034-a01570cd2898",
   "metadata": {},
   "outputs": [],
   "source": [
    "# define the gaussian function\n",
    "def gaus(x,c,x_mean,sigma):\n",
    "    return c*np.exp(-(x-x_mean)**2/(2*sigma**2))"
   ]
  },
  {
   "cell_type": "code",
   "execution_count": 62,
   "id": "8f23e833-c7aa-4167-9a69-b35ea006760d",
   "metadata": {},
   "outputs": [],
   "source": [
    "def get_ez_type(row):\n",
    "    if row.oxidation == 1:\n",
    "        return 'oxidation'\n",
    "    elif row.reduction == 1:\n",
    "        return 'reduction'"
   ]
  },
  {
   "cell_type": "code",
   "execution_count": 71,
   "id": "725294ea-ca30-4770-9565-0ba7cbf1d448",
   "metadata": {},
   "outputs": [
    {
     "data": {
      "image/png": "[encoded data removed]",
      "text/plain": [
       "<Figure size 400x300 with 6 Axes>"
      ]
     },
     "metadata": {},
     "output_type": "display_data"
    }
   ],
   "source": [
    "def plot_indv_prot_curves(df_test, y_pred_mean, y_pred_sigma, nrows=8, ncols=4):\n",
    "    # get the predicted activity over all ph values\n",
    "    all_ph_vals = np.arange(1, 13.5, 0.1)\n",
    "\n",
    "    f, axes = plt.subplots(ncols=ncols, nrows=nrows, \n",
    "                           figsize=(nrows*2,ncols), \n",
    "                           sharey=True, sharex=False)\n",
    "    axes_list = [ax for ax_row in axes for ax in ax_row]\n",
    "    # cols = [\"uniprot_id\", \"enzyme_type\", \"enzyme_type_sub\", \"acceptor\"]\n",
    "    i = -1\n",
    "    df_redox = df_test[(df_test.oxidation == 1) |\n",
    "                       (df_test.reduction == 1)]\n",
    "    for (uniprot_id, df_u) in df_redox.groupby(\"uniprot_id\"):\n",
    "        df_u['enzyme_type'] = df_u.apply(get_ez_type, axis=1)\n",
    "        df_u = df_u[df_u.enzyme_type.isin([\"oxidation\", \"reduction\"])]\n",
    "        if len(df_u) <= 1:\n",
    "            continue\n",
    "        e_types = df_u.enzyme_type.unique()\n",
    "        if 'oxidation' not in e_types or 'reduction' not in e_types:\n",
    "            continue\n",
    "        i += 1\n",
    "        df_pred_act_u = []\n",
    "        for (e_type, df_cat) in df_u.groupby('enzyme_type'):\n",
    "            pred_mean_u = y_pred_mean[df_cat.index[0]].detach().numpy()\n",
    "            pred_sigma_u = y_pred_sigma[df_cat.index[0]].detach().numpy()\n",
    "            # print(uniprot_id, e_type, pred_mean_u, pred_sigma_u)\n",
    "            pred_act = gaus(all_ph_vals, 1, pred_mean_u, pred_sigma_u)\n",
    "            # limit the predicted activity to min_ph -1 and max_ph +1\n",
    "            df_pred_act_u_cat = pd.DataFrame({'ph': all_ph_vals, 'activity': pred_act})\n",
    "            df_pred_act_u_cat['enzyme_type'] = e_type\n",
    "            ph_min = min(df_u.ph.min() - 1, 5.5)\n",
    "            ph_max = max(df_u.ph.max() + 1, 8.5)\n",
    "            df_pred_act_u_cat = df_pred_act_u_cat[(df_pred_act_u_cat.ph >= ph_min) & \n",
    "                                                  (df_pred_act_u_cat.ph <= ph_max)]\n",
    "            df_pred_act_u += [df_pred_act_u_cat]\n",
    "            # print(e_type, df_pred_act_u_cat[['ph', 'activity']].max())\n",
    "        df_pred_act_u = pd.concat(df_pred_act_u)\n",
    "\n",
    "        if i >= len(axes_list):\n",
    "            break\n",
    "        ax = axes_list[i]\n",
    "        ax.set_title(uniprot_id, fontsize=6)\n",
    "        sns.lineplot(x='ph', y='activity', data=df_pred_act_u, ax=ax,\n",
    "                     # palette='deep', \n",
    "                     hue='enzyme_type', hue_order=['reduction', 'oxidation'],\n",
    "                     size=1, \n",
    "                     legend=None)\n",
    "        sns.scatterplot(x='ph', y='activity', data=df_u, ax=ax,\n",
    "                        hue='enzyme_type', hue_order=['reduction', 'oxidation'],\n",
    "                        palette='deep',\n",
    "                        alpha=0.8,\n",
    "                        legend=None\n",
    "                       )\n",
    "        ax.set_ylabel(\"\")\n",
    "        ax.set_xlabel(\"\")\n",
    "        # hide ax labels\n",
    "        ax.xaxis.set_tick_params(labelbottom=False)\n",
    "        ax.yaxis.set_tick_params(labelleft=False)\n",
    "        # hide ax ticks\n",
    "        ax.set_xticks([])\n",
    "        ax.set_yticks([])\n",
    "\n",
    "        # add a vertical bar at ph=6--8\n",
    "        ax.axvspan(6, 8, alpha=0.1, color='purple')\n",
    "        # ax.set_xlabel\n",
    "        # L = ax.legend(loc=\"upper left\", bbox_to_anchor=(1.0, 1.0))\n",
    "\n",
    "    plt.show()\n",
    "    plt.close()\n",
    "    \n",
    "plot_indv_prot_curves(df_test, y_pred_mean, y_pred_sigma,\n",
    "                      nrows=2, ncols=3)"
   ]
  },
  {
   "cell_type": "code",
   "execution_count": 59,
   "id": "fec00718-579f-4572-ac30-74c2e96eea89",
   "metadata": {},
   "outputs": [],
   "source": [
    "out_dir = Path(\"results/20230926_ph_range\")"
   ]
  },
  {
   "cell_type": "code",
   "execution_count": 60,
   "id": "f67676b7-e3d5-44e0-9c32-75372702afe4",
   "metadata": {},
   "outputs": [
    {
     "name": "stdout",
     "output_type": "stream",
     "text": [
      "results/20230926_ph_range/20231011_ph_range_esm2_t33_650M_UR50D.pt\n"
     ]
    }
   ],
   "source": [
    "# if __name__ == \"__main__\":\n",
    "out_file = out_dir / f\"20231011_ph_range_{model_name}.pt\"\n",
    "print(out_file)\n",
    "torch.save(head_model, out_file)"
   ]
  },
  {
   "cell_type": "markdown",
   "id": "e9b28a5b-e823-4b68-9a70-c9d422af5d06",
   "metadata": {},
   "source": [
    "## Evaluate E. coli"
   ]
  },
  {
   "cell_type": "code",
   "execution_count": 61,
   "id": "f1b82855-1105-44b8-8269-24affbb14d47",
   "metadata": {},
   "outputs": [
    {
     "ename": "NameError",
     "evalue": "name 'data_act_merged' is not defined",
     "output_type": "error",
     "traceback": [
      "\u001b[0;31m---------------------------------------------------------------------------\u001b[0m",
      "\u001b[0;31mNameError\u001b[0m                                 Traceback (most recent call last)",
      "Input \u001b[0;32mIn [61]\u001b[0m, in \u001b[0;36m<cell line: 1>\u001b[0;34m()\u001b[0m\n\u001b[0;32m----> 1\u001b[0m \u001b[43mdata_act_merged\u001b[49m\u001b[38;5;241m.\u001b[39mhead(\u001b[38;5;241m2\u001b[39m)\n",
      "\u001b[0;31mNameError\u001b[0m: name 'data_act_merged' is not defined"
     ]
    }
   ],
   "source": [
    "data_act_merged.head(2)"
   ]
  },
  {
   "cell_type": "code",
   "execution_count": 74,
   "id": "14df7a9e-206f-433e-97e4-4c5c1871cadd",
   "metadata": {},
   "outputs": [
    {
     "name": "stdout",
     "output_type": "stream",
     "text": [
      "12926\n",
      "12896\n"
     ]
    },
    {
     "data": {
      "text/html": [
       "<div>\n",
       "<style scoped>\n",
       "    .dataframe tbody tr th:only-of-type {\n",
       "        vertical-align: middle;\n",
       "    }\n",
       "\n",
       "    .dataframe tbody tr th {\n",
       "        vertical-align: top;\n",
       "    }\n",
       "\n",
       "    .dataframe thead th {\n",
       "        text-align: right;\n",
       "    }\n",
       "</style>\n",
       "<table border=\"1\" class=\"dataframe\">\n",
       "  <thead>\n",
       "    <tr style=\"text-align: right;\">\n",
       "      <th></th>\n",
       "      <th>uniprot_id</th>\n",
       "      <th>Entry</th>\n",
       "      <th>Reviewed</th>\n",
       "      <th>Protein names</th>\n",
       "      <th>Gene Names</th>\n",
       "      <th>Organism</th>\n",
       "      <th>Organism (ID)</th>\n",
       "      <th>Length</th>\n",
       "      <th>pH dependence</th>\n",
       "      <th>Kinetics</th>\n",
       "      <th>...</th>\n",
       "      <th>Temperature dependence</th>\n",
       "      <th>EC number</th>\n",
       "      <th>Catalytic activity</th>\n",
       "      <th>Cofactor</th>\n",
       "      <th>Activity regulation</th>\n",
       "      <th>Binding site</th>\n",
       "      <th>Active site</th>\n",
       "      <th>Site</th>\n",
       "      <th>Pathway</th>\n",
       "      <th>Absorption</th>\n",
       "    </tr>\n",
       "  </thead>\n",
       "  <tbody>\n",
       "    <tr>\n",
       "      <th>0</th>\n",
       "      <td>A0A023I760</td>\n",
       "      <td>A0A023I760</td>\n",
       "      <td>unreviewed</td>\n",
       "      <td>Sigma class glutathione S-transferase</td>\n",
       "      <td>NaN</td>\n",
       "      <td>Hyriopsis cumingii (Triangle sail mussel) (Uni...</td>\n",
       "      <td>165450.0</td>\n",
       "      <td>203.0</td>\n",
       "      <td>NaN</td>\n",
       "      <td>NaN</td>\n",
       "      <td>...</td>\n",
       "      <td>NaN</td>\n",
       "      <td>NaN</td>\n",
       "      <td>NaN</td>\n",
       "      <td>NaN</td>\n",
       "      <td>NaN</td>\n",
       "      <td>NaN</td>\n",
       "      <td>NaN</td>\n",
       "      <td>NaN</td>\n",
       "      <td>NaN</td>\n",
       "      <td>NaN</td>\n",
       "    </tr>\n",
       "    <tr>\n",
       "      <th>1</th>\n",
       "      <td>A0A023I7E1</td>\n",
       "      <td>A0A023I7E1</td>\n",
       "      <td>reviewed</td>\n",
       "      <td>Glucan endo-1,3-beta-D-glucosidase 1 (Endo-1,3...</td>\n",
       "      <td>ENG1 LAM81A</td>\n",
       "      <td>Rhizomucor miehei</td>\n",
       "      <td>4839.0</td>\n",
       "      <td>796.0</td>\n",
       "      <td>BIOPHYSICOCHEMICAL PROPERTIES:  pH dependence:...</td>\n",
       "      <td>NaN</td>\n",
       "      <td>...</td>\n",
       "      <td>BIOPHYSICOCHEMICAL PROPERTIES:  Temperature de...</td>\n",
       "      <td>3.2.1.39</td>\n",
       "      <td>CATALYTIC ACTIVITY: Reaction=Hydrolysis of (1-...</td>\n",
       "      <td>NaN</td>\n",
       "      <td>ACTIVITY REGULATION: Tris binds the active sit...</td>\n",
       "      <td>BINDING 504; /ligand=\"(1,3-beta-D-glucosyl)n\";...</td>\n",
       "      <td>ACT_SITE 500; /evidence=\"ECO:0000255|PROSITE-P...</td>\n",
       "      <td>NaN</td>\n",
       "      <td>NaN</td>\n",
       "      <td>NaN</td>\n",
       "    </tr>\n",
       "  </tbody>\n",
       "</table>\n",
       "<p>2 rows × 22 columns</p>\n",
       "</div>"
      ],
      "text/plain": [
       "   uniprot_id       Entry    Reviewed  \\\n",
       "0  A0A023I760  A0A023I760  unreviewed   \n",
       "1  A0A023I7E1  A0A023I7E1    reviewed   \n",
       "\n",
       "                                       Protein names   Gene Names  \\\n",
       "0              Sigma class glutathione S-transferase          NaN   \n",
       "1  Glucan endo-1,3-beta-D-glucosidase 1 (Endo-1,3...  ENG1 LAM81A   \n",
       "\n",
       "                                            Organism  Organism (ID)  Length  \\\n",
       "0  Hyriopsis cumingii (Triangle sail mussel) (Uni...       165450.0   203.0   \n",
       "1                                  Rhizomucor miehei         4839.0   796.0   \n",
       "\n",
       "                                       pH dependence Kinetics  ...  \\\n",
       "0                                                NaN      NaN  ...   \n",
       "1  BIOPHYSICOCHEMICAL PROPERTIES:  pH dependence:...      NaN  ...   \n",
       "\n",
       "                              Temperature dependence EC number  \\\n",
       "0                                                NaN       NaN   \n",
       "1  BIOPHYSICOCHEMICAL PROPERTIES:  Temperature de...  3.2.1.39   \n",
       "\n",
       "                                  Catalytic activity Cofactor  \\\n",
       "0                                                NaN      NaN   \n",
       "1  CATALYTIC ACTIVITY: Reaction=Hydrolysis of (1-...      NaN   \n",
       "\n",
       "                                 Activity regulation  \\\n",
       "0                                                NaN   \n",
       "1  ACTIVITY REGULATION: Tris binds the active sit...   \n",
       "\n",
       "                                        Binding site  \\\n",
       "0                                                NaN   \n",
       "1  BINDING 504; /ligand=\"(1,3-beta-D-glucosyl)n\";...   \n",
       "\n",
       "                                         Active site Site Pathway Absorption  \n",
       "0                                                NaN  NaN     NaN        NaN  \n",
       "1  ACT_SITE 500; /evidence=\"ECO:0000255|PROSITE-P...  NaN     NaN        NaN  \n",
       "\n",
       "[2 rows x 22 columns]"
      ]
     },
     "execution_count": 74,
     "metadata": {},
     "output_type": "execute_result"
    }
   ],
   "source": [
    "uniprot_seq_info_file = Path(\"inputs/ph_merged/idmapping_2023_10_19.tsv.gz\")\n",
    "seq_info = pd.read_table(uniprot_seq_info_file)\n",
    "seq_info = seq_info.rename(columns={\"From\": \"uniprot_id\"})\n",
    "print(len(seq_info))\n",
    "seq_info = seq_info.dropna(subset=\"Organism\")\n",
    "print(len(seq_info))\n",
    "seq_info.head(2)"
   ]
  },
  {
   "cell_type": "code",
   "execution_count": 71,
   "id": "5ce20c58-9bdb-4a1f-a9e4-5467aa7a871b",
   "metadata": {},
   "outputs": [
    {
     "data": {
      "text/plain": [
       "Homo sapiens (Human)                                                                      713\n",
       "Arabidopsis thaliana (Mouse-ear cress)                                                    514\n",
       "Escherichia coli (strain K12)                                                             472\n",
       "Rattus norvegicus (Rat)                                                                   385\n",
       "Saccharomyces cerevisiae (strain ATCC 204508 / S288c) (Baker's yeast)                     329\n",
       "                                                                                         ... \n",
       "Cryptomeria japonica (Japanese cedar) (Cupressus japonica)                                  1\n",
       "Vargula hilgendorfii (Sea firefly) (Cypridina hilgendorfii)                                 1\n",
       "Thermoanaerobacter thermohydrosulfuricus (Clostridium thermohydrosulfuricum)                1\n",
       "Leishmania chagasi                                                                          1\n",
       "Gaeumannomyces graminis (Turf grass take-all root rot fungus) (Rhaphidophora graminis)      1\n",
       "Name: Organism, Length: 3053, dtype: int64"
      ]
     },
     "execution_count": 71,
     "metadata": {},
     "output_type": "execute_result"
    }
   ],
   "source": [
    "seq_info.Organism.value_counts()"
   ]
  },
  {
   "cell_type": "code",
   "execution_count": 77,
   "id": "d5722922-780f-4a18-b69a-4be3ad35ebbe",
   "metadata": {},
   "outputs": [
    {
     "name": "stdout",
     "output_type": "stream",
     "text": [
      "545\n"
     ]
    }
   ],
   "source": [
    "ecoli_rows = seq_info[seq_info.Organism.apply(lambda x: \"Escherichia coli\" in x)]\n",
    "print(len(ecoli_rows))"
   ]
  },
  {
   "cell_type": "code",
   "execution_count": 91,
   "id": "4e1b5a3a-8138-4bb5-aefa-4243a98282a0",
   "metadata": {},
   "outputs": [
    {
     "data": {
      "text/plain": [
       "545"
      ]
     },
     "execution_count": 91,
     "metadata": {},
     "output_type": "execute_result"
    }
   ],
   "source": [
    "ecoli_prots = set(ecoli_rows.uniprot_id.values)\n",
    "len(ecoli_prots)"
   ]
  },
  {
   "cell_type": "code",
   "execution_count": 73,
   "id": "83b8678d-3873-4b38-beb8-f247bd132e86",
   "metadata": {},
   "outputs": [
    {
     "data": {
      "text/html": [
       "<div>\n",
       "<style scoped>\n",
       "    .dataframe tbody tr th:only-of-type {\n",
       "        vertical-align: middle;\n",
       "    }\n",
       "\n",
       "    .dataframe tbody tr th {\n",
       "        vertical-align: top;\n",
       "    }\n",
       "\n",
       "    .dataframe thead th {\n",
       "        text-align: right;\n",
       "    }\n",
       "</style>\n",
       "<table border=\"1\" class=\"dataframe\">\n",
       "  <thead>\n",
       "    <tr style=\"text-align: right;\">\n",
       "      <th></th>\n",
       "      <th>uniprot_id</th>\n",
       "      <th>reaction_type</th>\n",
       "      <th>fit_mean</th>\n",
       "      <th>fit_std</th>\n",
       "      <th>enzyme_type</th>\n",
       "      <th>enzyme_type_sub</th>\n",
       "      <th>acceptor</th>\n",
       "      <th>sequence</th>\n",
       "      <th>oxidation</th>\n",
       "      <th>reduction</th>\n",
       "      <th>split</th>\n",
       "    </tr>\n",
       "  </thead>\n",
       "  <tbody>\n",
       "    <tr>\n",
       "      <th>2</th>\n",
       "      <td>A0A023I760</td>\n",
       "      <td>NaN</td>\n",
       "      <td>8.0</td>\n",
       "      <td>NaN</td>\n",
       "      <td>Transferases</td>\n",
       "      <td>alkyl or aryl groups, other than methyl groups</td>\n",
       "      <td>NaN</td>\n",
       "      <td>MRTYRLTYSDIRGRAELARLVFVAAGESFEDRRVSREEWAELKKET...</td>\n",
       "      <td>0</td>\n",
       "      <td>0</td>\n",
       "      <td>train</td>\n",
       "    </tr>\n",
       "    <tr>\n",
       "      <th>3</th>\n",
       "      <td>A0A023I7E1</td>\n",
       "      <td>NaN</td>\n",
       "      <td>5.5</td>\n",
       "      <td>NaN</td>\n",
       "      <td>Hydrolases</td>\n",
       "      <td>Glycosylases</td>\n",
       "      <td>NaN</td>\n",
       "      <td>MRFQVIVAAATITMITSYIPGVASQSTSDGDDLFVPVSNFDPKSIF...</td>\n",
       "      <td>0</td>\n",
       "      <td>0</td>\n",
       "      <td>train</td>\n",
       "    </tr>\n",
       "  </tbody>\n",
       "</table>\n",
       "</div>"
      ],
      "text/plain": [
       "   uniprot_id reaction_type  fit_mean  fit_std   enzyme_type  \\\n",
       "2  A0A023I760           NaN       8.0      NaN  Transferases   \n",
       "3  A0A023I7E1           NaN       5.5      NaN    Hydrolases   \n",
       "\n",
       "                                  enzyme_type_sub acceptor  \\\n",
       "2  alkyl or aryl groups, other than methyl groups      NaN   \n",
       "3                                    Glycosylases      NaN   \n",
       "\n",
       "                                            sequence  oxidation  reduction  \\\n",
       "2  MRTYRLTYSDIRGRAELARLVFVAAGESFEDRRVSREEWAELKKET...          0          0   \n",
       "3  MRFQVIVAAATITMITSYIPGVASQSTSDGDDLFVPVSNFDPKSIF...          0          0   \n",
       "\n",
       "   split  \n",
       "2  train  \n",
       "3  train  "
      ]
     },
     "execution_count": 73,
     "metadata": {},
     "output_type": "execute_result"
    }
   ],
   "source": [
    "data_fits.head(2)"
   ]
  },
  {
   "cell_type": "code",
   "execution_count": 94,
   "id": "b9e415f3-af3c-43b5-a5f1-6fba8bfacabc",
   "metadata": {},
   "outputs": [
    {
     "data": {
      "text/plain": [
       "train    12506\n",
       "test       558\n",
       "Name: split, dtype: int64"
      ]
     },
     "execution_count": 94,
     "metadata": {},
     "output_type": "execute_result"
    }
   ],
   "source": [
    "def ecoli_holdout(u_id):\n",
    "    if u_id in ecoli_rows.uniprot_id:\n",
    "        return \"test\"\n",
    "    else:\n",
    "        return \"train\"\n",
    "data_fits[\"split\"] = \"train\"\n",
    "data_fits.loc[data_fits.uniprot_id.isin(ecoli_prots), \"split\"] = \"test\"\n",
    "data_fits.split.value_counts()"
   ]
  },
  {
   "cell_type": "code",
   "execution_count": 95,
   "id": "404e0318-3e92-4eec-bd4c-20150a998bd6",
   "metadata": {},
   "outputs": [
    {
     "data": {
      "text/html": [
       "<div>\n",
       "<style scoped>\n",
       "    .dataframe tbody tr th:only-of-type {\n",
       "        vertical-align: middle;\n",
       "    }\n",
       "\n",
       "    .dataframe tbody tr th {\n",
       "        vertical-align: top;\n",
       "    }\n",
       "\n",
       "    .dataframe thead th {\n",
       "        text-align: right;\n",
       "    }\n",
       "</style>\n",
       "<table border=\"1\" class=\"dataframe\">\n",
       "  <thead>\n",
       "    <tr style=\"text-align: right;\">\n",
       "      <th></th>\n",
       "      <th>uniprot_id</th>\n",
       "      <th>reaction_type</th>\n",
       "      <th>fit_mean</th>\n",
       "      <th>fit_std</th>\n",
       "      <th>enzyme_type</th>\n",
       "      <th>enzyme_type_sub</th>\n",
       "      <th>acceptor</th>\n",
       "      <th>sequence</th>\n",
       "      <th>oxidation</th>\n",
       "      <th>reduction</th>\n",
       "      <th>split</th>\n",
       "    </tr>\n",
       "  </thead>\n",
       "  <tbody>\n",
       "    <tr>\n",
       "      <th>2</th>\n",
       "      <td>A0A023I760</td>\n",
       "      <td>NaN</td>\n",
       "      <td>8.0</td>\n",
       "      <td>NaN</td>\n",
       "      <td>Transferases</td>\n",
       "      <td>alkyl or aryl groups, other than methyl groups</td>\n",
       "      <td>NaN</td>\n",
       "      <td>MRTYRLTYSDIRGRAELARLVFVAAGESFEDRRVSREEWAELKKET...</td>\n",
       "      <td>0</td>\n",
       "      <td>0</td>\n",
       "      <td>train</td>\n",
       "    </tr>\n",
       "    <tr>\n",
       "      <th>3</th>\n",
       "      <td>A0A023I7E1</td>\n",
       "      <td>NaN</td>\n",
       "      <td>5.5</td>\n",
       "      <td>NaN</td>\n",
       "      <td>Hydrolases</td>\n",
       "      <td>Glycosylases</td>\n",
       "      <td>NaN</td>\n",
       "      <td>MRFQVIVAAATITMITSYIPGVASQSTSDGDDLFVPVSNFDPKSIF...</td>\n",
       "      <td>0</td>\n",
       "      <td>0</td>\n",
       "      <td>train</td>\n",
       "    </tr>\n",
       "  </tbody>\n",
       "</table>\n",
       "</div>"
      ],
      "text/plain": [
       "   uniprot_id reaction_type  fit_mean  fit_std   enzyme_type  \\\n",
       "2  A0A023I760           NaN       8.0      NaN  Transferases   \n",
       "3  A0A023I7E1           NaN       5.5      NaN    Hydrolases   \n",
       "\n",
       "                                  enzyme_type_sub acceptor  \\\n",
       "2  alkyl or aryl groups, other than methyl groups      NaN   \n",
       "3                                    Glycosylases      NaN   \n",
       "\n",
       "                                            sequence  oxidation  reduction  \\\n",
       "2  MRTYRLTYSDIRGRAELARLVFVAAGESFEDRRVSREEWAELKKET...          0          0   \n",
       "3  MRFQVIVAAATITMITSYIPGVASQSTSDGDDLFVPVSNFDPKSIF...          0          0   \n",
       "\n",
       "   split  \n",
       "2  train  \n",
       "3  train  "
      ]
     },
     "execution_count": 95,
     "metadata": {},
     "output_type": "execute_result"
    }
   ],
   "source": [
    "df_train = data_fits[data_fits.split == \"train\"]\n",
    "df_test = data_fits[data_fits.split == \"test\"]\n",
    "df_train.head(2)"
   ]
  },
  {
   "cell_type": "code",
   "execution_count": 81,
   "id": "a17f8672-62fa-4db3-895e-f86f666fa375",
   "metadata": {},
   "outputs": [],
   "source": [
    "categ_cols = ['oxidation', 'reduction']"
   ]
  },
  {
   "cell_type": "code",
   "execution_count": 96,
   "id": "8a50e47a-b8d3-4684-842d-9b49a6f10695",
   "metadata": {},
   "outputs": [
    {
     "name": "stdout",
     "output_type": "stream",
     "text": [
      "(12506, 1280)\n",
      "(12506, 1282)\n",
      "12506 0.96\n",
      "558 0.04\n"
     ]
    }
   ],
   "source": [
    "# some of the sequences are repeated, so get their embeddings by index\n",
    "X_train = np.asarray([embeddings[seq_idx[seq]] for seq in df_train.sequence.values])\n",
    "print(X_train.shape)\n",
    "X_train = np.hstack([X_train, df_train[categ_cols].values])\n",
    "print(X_train.shape)\n",
    "y_train = df_train[['fit_mean', 'fit_std']].values\n",
    "\n",
    "X_test = np.asarray([embeddings[seq_idx[seq]] for seq in df_test.sequence.values])\n",
    "X_test = np.hstack([X_test, df_test[categ_cols].values])\n",
    "y_test = df_test[['fit_mean', 'fit_std']].values\n",
    "print(len(df_train), f\"{len(df_train) / (len(df_train) + len(df_test)):0.2f}\")\n",
    "print(len(df_test), f\"{len(df_test) / (len(df_train) + len(df_test)):0.2f}\")"
   ]
  },
  {
   "cell_type": "code",
   "execution_count": 97,
   "id": "cf5a4b4e-b27b-4b82-8f06-79ed1525b173",
   "metadata": {},
   "outputs": [
    {
     "name": "stderr",
     "output_type": "stream",
     "text": [
      "Global seed set to 42\n",
      "/home/jlaw/.conda/envs/tm/lib/python3.10/site-packages/lightning_fabric/plugins/environments/slurm.py:166: PossibleUserWarning: The `srun` command is available on your system but is not used. HINT: If your intention is to run Lightning on SLURM, prepend your python command with `srun` like so: srun python /home/jlaw/.conda/envs/tm/lib/python3.10/site-packag ...\n",
      "  rank_zero_warn(\n",
      "GPU available: True (cuda), used: True\n",
      "TPU available: False, using: 0 TPU cores\n",
      "IPU available: False, using: 0 IPUs\n",
      "HPU available: False, using: 0 HPUs\n",
      "LOCAL_RANK: 0 - CUDA_VISIBLE_DEVICES: [0]\n",
      "\n",
      "  | Name              | Type       | Params\n",
      "-------------------------------------------------\n",
      "0 | linear_relu_stack | Sequential | 920 K \n",
      "-------------------------------------------------\n",
      "920 K     Trainable params\n",
      "0         Non-trainable params\n",
      "920 K     Total params\n",
      "3.682     Total estimated model params size (MB)\n",
      "/home/jlaw/.conda/envs/tm/lib/python3.10/site-packages/pytorch_lightning/trainer/connectors/data_connector.py:224: PossibleUserWarning: The dataloader, train_dataloader, does not have many workers which may be a bottleneck. Consider increasing the value of the `num_workers` argument` (try 36 which is the number of cpus on this machine) in the `DataLoader` init to improve performance.\n",
      "  rank_zero_warn(\n"
     ]
    },
    {
     "data": {
      "application/vnd.jupyter.widget-view+json": {
       "model_id": "69a0531636e14608ab1380b8f957da86",
       "version_major": 2,
       "version_minor": 0
      },
      "text/plain": [
       "Training: 0it [00:00, ?it/s]"
      ]
     },
     "metadata": {},
     "output_type": "display_data"
    },
    {
     "name": "stderr",
     "output_type": "stream",
     "text": [
      "`Trainer.fit` stopped: `max_epochs=50` reached.\n",
      "Global seed set to 42\n"
     ]
    },
    {
     "name": "stdout",
     "output_type": "stream",
     "text": [
      "test, 50, 0.001, pH opt, 0.80, 1.14, 0.39\n",
      "test, 50, 0.001, pH std, 0.51, 0.45, -0.04\n",
      "train, 50, 0.001, pH opt, 0.41, 0.36, 0.91\n",
      "train, 50, 0.001, pH std, 0.17, 0.07, 0.91\n"
     ]
    },
    {
     "name": "stderr",
     "output_type": "stream",
     "text": [
      "/home/jlaw/.conda/envs/tm/lib/python3.10/site-packages/lightning_fabric/plugins/environments/slurm.py:166: PossibleUserWarning: The `srun` command is available on your system but is not used. HINT: If your intention is to run Lightning on SLURM, prepend your python command with `srun` like so: srun python /home/jlaw/.conda/envs/tm/lib/python3.10/site-packag ...\n",
      "  rank_zero_warn(\n",
      "GPU available: True (cuda), used: True\n",
      "TPU available: False, using: 0 TPU cores\n",
      "IPU available: False, using: 0 IPUs\n",
      "HPU available: False, using: 0 HPUs\n",
      "LOCAL_RANK: 0 - CUDA_VISIBLE_DEVICES: [0]\n",
      "\n",
      "  | Name              | Type       | Params\n",
      "-------------------------------------------------\n",
      "0 | linear_relu_stack | Sequential | 920 K \n",
      "-------------------------------------------------\n",
      "920 K     Trainable params\n",
      "0         Non-trainable params\n",
      "920 K     Total params\n",
      "3.682     Total estimated model params size (MB)\n",
      "/home/jlaw/.conda/envs/tm/lib/python3.10/site-packages/pytorch_lightning/trainer/connectors/data_connector.py:224: PossibleUserWarning: The dataloader, train_dataloader, does not have many workers which may be a bottleneck. Consider increasing the value of the `num_workers` argument` (try 36 which is the number of cpus on this machine) in the `DataLoader` init to improve performance.\n",
      "  rank_zero_warn(\n"
     ]
    },
    {
     "data": {
      "application/vnd.jupyter.widget-view+json": {
       "model_id": "3efd8ea4f5e4414e94da1afc4d4c4450",
       "version_major": 2,
       "version_minor": 0
      },
      "text/plain": [
       "Training: 0it [00:00, ?it/s]"
      ]
     },
     "metadata": {},
     "output_type": "display_data"
    },
    {
     "name": "stderr",
     "output_type": "stream",
     "text": [
      "`Trainer.fit` stopped: `max_epochs=50` reached.\n"
     ]
    },
    {
     "name": "stdout",
     "output_type": "stream",
     "text": [
      "test, 50, 0.0001, pH opt, 0.80, 1.11, 0.37\n",
      "test, 50, 0.0001, pH std, 0.50, 0.43, 0.06\n",
      "train, 50, 0.0001, pH opt, 0.34, 0.31, 0.92\n",
      "train, 50, 0.0001, pH std, 0.19, 0.10, 0.90\n"
     ]
    }
   ],
   "source": [
    "for epochs in [50]:\n",
    "    for lr in [1e-3, 1e-4]:\n",
    "        # for batch_size in \n",
    "        head_model, trainer = fit_model(X_train, y_train, X_test, epochs=epochs, lr=lr)\n",
    "        eval_model(head_model, X_test, y_test, f\"test, {epochs}, {lr}, \")\n",
    "        eval_model(head_model, X_train, y_train, f\"train, {epochs}, {lr}, \")"
   ]
  },
  {
   "cell_type": "code",
   "execution_count": 98,
   "id": "2505e808-34d0-40b9-a32a-247154943963",
   "metadata": {},
   "outputs": [
    {
     "name": "stdout",
     "output_type": "stream",
     "text": [
      "split, # epochs, lr, eval_set, mae, mse, rho\n",
      "test, 50, 0.0001, pH opt, 0.80, 1.11, 0.37\n",
      "test, 50, 0.0001, pH std, 0.50, 0.43, 0.06\n"
     ]
    }
   ],
   "source": [
    "print(\"split, # epochs, lr, eval_set, mae, mse, rho\")\n",
    "y_pred_mean, y_pred_sigma, df_err = eval_model(head_model, X_test, y_test, f\"test, {epochs}, {lr}, \")"
   ]
  },
  {
   "cell_type": "code",
   "execution_count": 102,
   "id": "f2c4fd16-64ef-4db4-a2af-e6d775a86bec",
   "metadata": {},
   "outputs": [
    {
     "data": {
      "text/html": [
       "<div>\n",
       "<style scoped>\n",
       "    .dataframe tbody tr th:only-of-type {\n",
       "        vertical-align: middle;\n",
       "    }\n",
       "\n",
       "    .dataframe tbody tr th {\n",
       "        vertical-align: top;\n",
       "    }\n",
       "\n",
       "    .dataframe thead th {\n",
       "        text-align: right;\n",
       "    }\n",
       "</style>\n",
       "<table border=\"1\" class=\"dataframe\">\n",
       "  <thead>\n",
       "    <tr style=\"text-align: right;\">\n",
       "      <th></th>\n",
       "      <th>pH opt</th>\n",
       "      <th>pH std</th>\n",
       "      <th>ML pH opt</th>\n",
       "      <th>ML pH std</th>\n",
       "    </tr>\n",
       "  </thead>\n",
       "  <tbody>\n",
       "    <tr>\n",
       "      <th>0</th>\n",
       "      <td>5.500000</td>\n",
       "      <td>NaN</td>\n",
       "      <td>7.573602</td>\n",
       "      <td>1.191083</td>\n",
       "    </tr>\n",
       "    <tr>\n",
       "      <th>1</th>\n",
       "      <td>7.250000</td>\n",
       "      <td>NaN</td>\n",
       "      <td>7.897350</td>\n",
       "      <td>0.819812</td>\n",
       "    </tr>\n",
       "    <tr>\n",
       "      <th>2</th>\n",
       "      <td>7.500000</td>\n",
       "      <td>NaN</td>\n",
       "      <td>7.879851</td>\n",
       "      <td>1.160311</td>\n",
       "    </tr>\n",
       "    <tr>\n",
       "      <th>3</th>\n",
       "      <td>7.600000</td>\n",
       "      <td>NaN</td>\n",
       "      <td>5.866752</td>\n",
       "      <td>0.703047</td>\n",
       "    </tr>\n",
       "    <tr>\n",
       "      <th>4</th>\n",
       "      <td>7.000000</td>\n",
       "      <td>NaN</td>\n",
       "      <td>7.990245</td>\n",
       "      <td>1.707971</td>\n",
       "    </tr>\n",
       "    <tr>\n",
       "      <th>...</th>\n",
       "      <td>...</td>\n",
       "      <td>...</td>\n",
       "      <td>...</td>\n",
       "      <td>...</td>\n",
       "    </tr>\n",
       "    <tr>\n",
       "      <th>553</th>\n",
       "      <td>7.905451</td>\n",
       "      <td>0.874271</td>\n",
       "      <td>7.785497</td>\n",
       "      <td>1.847724</td>\n",
       "    </tr>\n",
       "    <tr>\n",
       "      <th>554</th>\n",
       "      <td>7.771832</td>\n",
       "      <td>1.664941</td>\n",
       "      <td>6.857756</td>\n",
       "      <td>0.835491</td>\n",
       "    </tr>\n",
       "    <tr>\n",
       "      <th>555</th>\n",
       "      <td>8.841219</td>\n",
       "      <td>1.462182</td>\n",
       "      <td>7.070836</td>\n",
       "      <td>0.646042</td>\n",
       "    </tr>\n",
       "    <tr>\n",
       "      <th>556</th>\n",
       "      <td>7.062500</td>\n",
       "      <td>NaN</td>\n",
       "      <td>5.815723</td>\n",
       "      <td>1.102091</td>\n",
       "    </tr>\n",
       "    <tr>\n",
       "      <th>557</th>\n",
       "      <td>8.000000</td>\n",
       "      <td>NaN</td>\n",
       "      <td>7.958839</td>\n",
       "      <td>1.345360</td>\n",
       "    </tr>\n",
       "  </tbody>\n",
       "</table>\n",
       "<p>558 rows × 4 columns</p>\n",
       "</div>"
      ],
      "text/plain": [
       "       pH opt    pH std  ML pH opt  ML pH std\n",
       "0    5.500000       NaN   7.573602   1.191083\n",
       "1    7.250000       NaN   7.897350   0.819812\n",
       "2    7.500000       NaN   7.879851   1.160311\n",
       "3    7.600000       NaN   5.866752   0.703047\n",
       "4    7.000000       NaN   7.990245   1.707971\n",
       "..        ...       ...        ...        ...\n",
       "553  7.905451  0.874271   7.785497   1.847724\n",
       "554  7.771832  1.664941   6.857756   0.835491\n",
       "555  8.841219  1.462182   7.070836   0.646042\n",
       "556  7.062500       NaN   5.815723   1.102091\n",
       "557  8.000000       NaN   7.958839   1.345360\n",
       "\n",
       "[558 rows x 4 columns]"
      ]
     },
     "execution_count": 102,
     "metadata": {},
     "output_type": "execute_result"
    }
   ],
   "source": [
    "df_err"
   ]
  },
  {
   "cell_type": "code",
   "execution_count": 99,
   "id": "8c3b4d01-dd2c-49c7-8313-fa97fa365a7f",
   "metadata": {},
   "outputs": [
    {
     "data": {
      "text/plain": [
       "[<matplotlib.lines.Line2D at 0x7f991abab970>]"
      ]
     },
     "execution_count": 99,
     "metadata": {},
     "output_type": "execute_result"
    },
    {
     "data": {
      "image/png": "[encoded data removed]",
      "text/plain": [
       "<Figure size 600x600 with 3 Axes>"
      ]
     },
     "metadata": {},
     "output_type": "display_data"
    }
   ],
   "source": [
    "g = sns.jointplot(df_err, x=\"pH opt\", y=\"ML pH opt\", \n",
    "              # alpha=0.3, s=5, linewidth=0, \n",
    "                  kind=\"hex\"\n",
    "             )\n",
    "g.ax_joint.plot([2,10], [2,10], ls='--', alpha=0.3, color=\"black\", linewidth=1)"
   ]
  },
  {
   "cell_type": "code",
   "execution_count": 100,
   "id": "8fecb910-af30-41aa-8633-80bdb9c90328",
   "metadata": {},
   "outputs": [
    {
     "data": {
      "text/plain": [
       "[<matplotlib.lines.Line2D at 0x7f9918f5be80>]"
      ]
     },
     "execution_count": 100,
     "metadata": {},
     "output_type": "execute_result"
    },
    {
     "data": {
      "image/png": "[encoded data removed]",
      "text/plain": [
       "<Figure size 600x600 with 3 Axes>"
      ]
     },
     "metadata": {},
     "output_type": "display_data"
    }
   ],
   "source": [
    "g = sns.jointplot(df_err, x=\"pH std\", y=\"ML pH std\", \n",
    "              alpha=0.4, s=20, linewidth=0, \n",
    "                  # kind=\"hex\",\n",
    "                  color=\"brown\",\n",
    "             )\n",
    "g.ax_joint.plot([0,3], [0,3], ls='--', alpha=0.3, color=\"black\", linewidth=1)"
   ]
  },
  {
   "cell_type": "code",
   "execution_count": 101,
   "id": "0c5186cb-3b99-43b2-8a93-a9f84a847af9",
   "metadata": {},
   "outputs": [
    {
     "data": {
      "text/plain": [
       "[<matplotlib.lines.Line2D at 0x7f9918e375e0>]"
      ]
     },
     "execution_count": 101,
     "metadata": {},
     "output_type": "execute_result"
    },
    {
     "data": {
      "image/png": "[encoded data removed]",
      "text/plain": [
       "<Figure size 600x600 with 3 Axes>"
      ]
     },
     "metadata": {},
     "output_type": "display_data"
    }
   ],
   "source": [
    "g = sns.jointplot(df_err, x=\"pH std\", y=\"ML pH std\", \n",
    "              # alpha=0.4, s=20, linewidth=0, \n",
    "                  kind=\"hex\",\n",
    "                  color=\"brown\",\n",
    "             )\n",
    "g.ax_joint.plot([0,3], [0,3], ls='--', alpha=0.3, color=\"black\", linewidth=1)"
   ]
  },
  {
   "cell_type": "code",
   "execution_count": 103,
   "id": "6cfed4d1-59e7-4cb8-8a8b-3e3f481682d0",
   "metadata": {},
   "outputs": [
    {
     "data": {
      "text/plain": [
       "558"
      ]
     },
     "execution_count": 103,
     "metadata": {},
     "output_type": "execute_result"
    }
   ],
   "source": [
    "len(df_err)"
   ]
  },
  {
   "cell_type": "code",
   "execution_count": 104,
   "id": "603ae520-ff5c-49ce-8fb6-9d470544286d",
   "metadata": {},
   "outputs": [
    {
     "data": {
      "text/html": [
       "<div>\n",
       "<style scoped>\n",
       "    .dataframe tbody tr th:only-of-type {\n",
       "        vertical-align: middle;\n",
       "    }\n",
       "\n",
       "    .dataframe tbody tr th {\n",
       "        vertical-align: top;\n",
       "    }\n",
       "\n",
       "    .dataframe thead th {\n",
       "        text-align: right;\n",
       "    }\n",
       "</style>\n",
       "<table border=\"1\" class=\"dataframe\">\n",
       "  <thead>\n",
       "    <tr style=\"text-align: right;\">\n",
       "      <th></th>\n",
       "      <th>pH opt</th>\n",
       "      <th>pH std</th>\n",
       "      <th>ML pH opt</th>\n",
       "      <th>ML pH std</th>\n",
       "    </tr>\n",
       "  </thead>\n",
       "  <tbody>\n",
       "    <tr>\n",
       "      <th>0</th>\n",
       "      <td>5.500000</td>\n",
       "      <td>NaN</td>\n",
       "      <td>7.573602</td>\n",
       "      <td>1.191083</td>\n",
       "    </tr>\n",
       "    <tr>\n",
       "      <th>1</th>\n",
       "      <td>7.250000</td>\n",
       "      <td>NaN</td>\n",
       "      <td>7.897350</td>\n",
       "      <td>0.819812</td>\n",
       "    </tr>\n",
       "    <tr>\n",
       "      <th>2</th>\n",
       "      <td>7.500000</td>\n",
       "      <td>NaN</td>\n",
       "      <td>7.879851</td>\n",
       "      <td>1.160311</td>\n",
       "    </tr>\n",
       "    <tr>\n",
       "      <th>3</th>\n",
       "      <td>7.600000</td>\n",
       "      <td>NaN</td>\n",
       "      <td>5.866752</td>\n",
       "      <td>0.703047</td>\n",
       "    </tr>\n",
       "    <tr>\n",
       "      <th>4</th>\n",
       "      <td>7.000000</td>\n",
       "      <td>NaN</td>\n",
       "      <td>7.990245</td>\n",
       "      <td>1.707971</td>\n",
       "    </tr>\n",
       "    <tr>\n",
       "      <th>...</th>\n",
       "      <td>...</td>\n",
       "      <td>...</td>\n",
       "      <td>...</td>\n",
       "      <td>...</td>\n",
       "    </tr>\n",
       "    <tr>\n",
       "      <th>553</th>\n",
       "      <td>7.905451</td>\n",
       "      <td>0.874271</td>\n",
       "      <td>7.785497</td>\n",
       "      <td>1.847724</td>\n",
       "    </tr>\n",
       "    <tr>\n",
       "      <th>554</th>\n",
       "      <td>7.771832</td>\n",
       "      <td>1.664941</td>\n",
       "      <td>6.857756</td>\n",
       "      <td>0.835491</td>\n",
       "    </tr>\n",
       "    <tr>\n",
       "      <th>555</th>\n",
       "      <td>8.841219</td>\n",
       "      <td>1.462182</td>\n",
       "      <td>7.070836</td>\n",
       "      <td>0.646042</td>\n",
       "    </tr>\n",
       "    <tr>\n",
       "      <th>556</th>\n",
       "      <td>7.062500</td>\n",
       "      <td>NaN</td>\n",
       "      <td>5.815723</td>\n",
       "      <td>1.102091</td>\n",
       "    </tr>\n",
       "    <tr>\n",
       "      <th>557</th>\n",
       "      <td>8.000000</td>\n",
       "      <td>NaN</td>\n",
       "      <td>7.958839</td>\n",
       "      <td>1.345360</td>\n",
       "    </tr>\n",
       "  </tbody>\n",
       "</table>\n",
       "<p>558 rows × 4 columns</p>\n",
       "</div>"
      ],
      "text/plain": [
       "       pH opt    pH std  ML pH opt  ML pH std\n",
       "0    5.500000       NaN   7.573602   1.191083\n",
       "1    7.250000       NaN   7.897350   0.819812\n",
       "2    7.500000       NaN   7.879851   1.160311\n",
       "3    7.600000       NaN   5.866752   0.703047\n",
       "4    7.000000       NaN   7.990245   1.707971\n",
       "..        ...       ...        ...        ...\n",
       "553  7.905451  0.874271   7.785497   1.847724\n",
       "554  7.771832  1.664941   6.857756   0.835491\n",
       "555  8.841219  1.462182   7.070836   0.646042\n",
       "556  7.062500       NaN   5.815723   1.102091\n",
       "557  8.000000       NaN   7.958839   1.345360\n",
       "\n",
       "[558 rows x 4 columns]"
      ]
     },
     "execution_count": 104,
     "metadata": {},
     "output_type": "execute_result"
    }
   ],
   "source": [
    "df_err"
   ]
  },
  {
   "cell_type": "code",
   "execution_count": 105,
   "id": "ba7f2710-91b5-4da0-849a-f38644732512",
   "metadata": {},
   "outputs": [
    {
     "data": {
      "text/plain": [
       "236"
      ]
     },
     "execution_count": 105,
     "metadata": {},
     "output_type": "execute_result"
    }
   ],
   "source": [
    "len(df_err.dropna())"
   ]
  },
  {
   "cell_type": "code",
   "execution_count": null,
   "id": "7ef90104-e83a-46e3-bd9d-42505f691958",
   "metadata": {},
   "outputs": [],
   "source": []
  }
 ],
 "metadata": {
  "kernelspec": {
   "display_name": "Python 3 (ipykernel)",
   "language": "python",
   "name": "python3"
  },
  "language_info": {
   "codemirror_mode": {
    "name": "ipython",
    "version": 3
   },
   "file_extension": ".py",
   "mimetype": "text/x-python",
   "name": "python",
   "nbconvert_exporter": "python",
   "pygments_lexer": "ipython3",
   "version": "3.10.8"
  }
 },
 "nbformat": 4,
 "nbformat_minor": 5
}
