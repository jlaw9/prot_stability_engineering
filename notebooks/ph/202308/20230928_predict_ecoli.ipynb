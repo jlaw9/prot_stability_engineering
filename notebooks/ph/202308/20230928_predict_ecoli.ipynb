{
 "cells": [
  {
   "cell_type": "code",
   "execution_count": 1,
   "id": "4357a627-fef9-4d7f-8bb8-3fcbc89f221f",
   "metadata": {},
   "outputs": [],
   "source": [
    "import numpy as np\n",
    "import pandas as pd\n",
    "import os\n",
    "import itertools\n",
    "from typing import List, Tuple\n",
    "import string\n",
    "from pathlib import Path\n",
    "from tqdm.auto import tqdm, trange\n",
    "\n",
    "import matplotlib.pyplot as plt\n",
    "import seaborn as sns\n",
    "\n",
    "%matplotlib inline"
   ]
  },
  {
   "cell_type": "code",
   "execution_count": 2,
   "id": "7bdf5674-a6ea-43ff-ac41-d652e562181d",
   "metadata": {},
   "outputs": [],
   "source": [
    "from sklearn.metrics import mean_squared_error\n",
    "from scipy.stats import spearmanr\n",
    "from sklearn.linear_model import LinearRegression, Ridge\n",
    "from sklearn.kernel_ridge import KernelRidge"
   ]
  },
  {
   "cell_type": "code",
   "execution_count": 3,
   "id": "5fc73247-c670-4e0c-b367-cb2f2134747a",
   "metadata": {},
   "outputs": [
    {
     "data": {
      "text/plain": [
       "True"
      ]
     },
     "execution_count": 3,
     "metadata": {},
     "output_type": "execute_result"
    }
   ],
   "source": [
    "import torch\n",
    "torch.cuda.is_available()"
   ]
  },
  {
   "cell_type": "code",
   "execution_count": 4,
   "id": "47d4213d-2ca9-4de2-896a-0d4838a60565",
   "metadata": {},
   "outputs": [],
   "source": [
    "device = 'cuda:0' if torch.cuda.is_available() else 'cpu'"
   ]
  },
  {
   "cell_type": "markdown",
   "id": "b34a17fa-9780-4468-b2ab-8fce5509b416",
   "metadata": {},
   "source": [
    "## Load the e coli sequences"
   ]
  },
  {
   "cell_type": "code",
   "execution_count": 5,
   "id": "f85e3e4e-a9f2-4749-820d-3b31e5fcc52d",
   "metadata": {},
   "outputs": [
    {
     "name": "stdout",
     "output_type": "stream",
     "text": [
      "4384\n"
     ]
    },
    {
     "data": {
      "text/html": [
       "<div>\n",
       "<style scoped>\n",
       "    .dataframe tbody tr th:only-of-type {\n",
       "        vertical-align: middle;\n",
       "    }\n",
       "\n",
       "    .dataframe tbody tr th {\n",
       "        vertical-align: top;\n",
       "    }\n",
       "\n",
       "    .dataframe thead th {\n",
       "        text-align: right;\n",
       "    }\n",
       "</style>\n",
       "<table border=\"1\" class=\"dataframe\">\n",
       "  <thead>\n",
       "    <tr style=\"text-align: right;\">\n",
       "      <th></th>\n",
       "      <th>Accession 1</th>\n",
       "      <th>Gene Name</th>\n",
       "      <th>UNIPROT</th>\n",
       "      <th>Accession 2</th>\n",
       "      <th>All Names Concat</th>\n",
       "      <th>Left End Position</th>\n",
       "      <th>Right End Position</th>\n",
       "      <th>Centisome Position</th>\n",
       "      <th>Direction</th>\n",
       "      <th>Length (bp)</th>\n",
       "      <th>...</th>\n",
       "      <th>R2 4</th>\n",
       "      <th>Tm 5 (Arctic Express)</th>\n",
       "      <th>R2 5</th>\n",
       "      <th>Chaperone Interaction Protein (Protein Homeostatis Database)</th>\n",
       "      <th>composite sensitivity (TPP-ALE-CIP)</th>\n",
       "      <th>ProTstab2 Tm</th>\n",
       "      <th>combined Tm</th>\n",
       "      <th>normalized points</th>\n",
       "      <th>sources</th>\n",
       "      <th>sequence difference in MG1655 from W3110 (increased thermotolerance)</th>\n",
       "    </tr>\n",
       "  </thead>\n",
       "  <tbody>\n",
       "    <tr>\n",
       "      <th>0</th>\n",
       "      <td>b4154</td>\n",
       "      <td>frdA</td>\n",
       "      <td>P00363</td>\n",
       "      <td>ECK4150</td>\n",
       "      <td>frdA // b4154 // ECK4150 // EG10330 // ABE-001...</td>\n",
       "      <td>4380510</td>\n",
       "      <td>4382318</td>\n",
       "      <td>94.373940</td>\n",
       "      <td>&lt;-</td>\n",
       "      <td>1809</td>\n",
       "      <td>...</td>\n",
       "      <td>0.8</td>\n",
       "      <td>44.62</td>\n",
       "      <td>0.9</td>\n",
       "      <td>+</td>\n",
       "      <td>+</td>\n",
       "      <td>50.08</td>\n",
       "      <td>56.0</td>\n",
       "      <td>0.4</td>\n",
       "      <td>proteome only</td>\n",
       "      <td>WT</td>\n",
       "    </tr>\n",
       "    <tr>\n",
       "      <th>1</th>\n",
       "      <td>b1109</td>\n",
       "      <td>ndh</td>\n",
       "      <td>P00393</td>\n",
       "      <td>ECK1095</td>\n",
       "      <td>ndh // b1109 // ECK1095 // EG10649 // ABE-0003746</td>\n",
       "      <td>1166085</td>\n",
       "      <td>1167389</td>\n",
       "      <td>25.122198</td>\n",
       "      <td>-&gt;</td>\n",
       "      <td>1305</td>\n",
       "      <td>...</td>\n",
       "      <td>1</td>\n",
       "      <td>43.48</td>\n",
       "      <td>0.96</td>\n",
       "      <td>+</td>\n",
       "      <td>+</td>\n",
       "      <td>46.32</td>\n",
       "      <td>51.4</td>\n",
       "      <td>0.4</td>\n",
       "      <td>proteome only</td>\n",
       "      <td>WT</td>\n",
       "    </tr>\n",
       "  </tbody>\n",
       "</table>\n",
       "<p>2 rows × 96 columns</p>\n",
       "</div>"
      ],
      "text/plain": [
       "  Accession 1 Gene Name UNIPROT Accession 2  \\\n",
       "0       b4154      frdA  P00363     ECK4150   \n",
       "1       b1109       ndh  P00393     ECK1095   \n",
       "\n",
       "                                    All Names Concat  Left End Position  \\\n",
       "0  frdA // b4154 // ECK4150 // EG10330 // ABE-001...            4380510   \n",
       "1  ndh // b1109 // ECK1095 // EG10649 // ABE-0003746            1166085   \n",
       "\n",
       "   Right End Position  Centisome Position Direction Length (bp)  ... R2 4  \\\n",
       "0             4382318           94.373940        <-        1809  ...  0.8   \n",
       "1             1167389           25.122198        ->        1305  ...    1   \n",
       "\n",
       "  Tm 5 (Arctic Express)  R2 5  \\\n",
       "0                 44.62   0.9   \n",
       "1                 43.48  0.96   \n",
       "\n",
       "  Chaperone Interaction Protein (Protein Homeostatis Database)  \\\n",
       "0                                                  +             \n",
       "1                                                  +             \n",
       "\n",
       "  composite sensitivity (TPP-ALE-CIP) ProTstab2 Tm combined Tm  \\\n",
       "0                                   +        50.08        56.0   \n",
       "1                                   +        46.32        51.4   \n",
       "\n",
       "  normalized points        sources  \\\n",
       "0               0.4  proteome only   \n",
       "1               0.4  proteome only   \n",
       "\n",
       "  sequence difference in MG1655 from W3110 (increased thermotolerance)  \n",
       "0                                                 WT                    \n",
       "1                                                 WT                    \n",
       "\n",
       "[2 rows x 96 columns]"
      ]
     },
     "execution_count": 5,
     "metadata": {},
     "output_type": "execute_result"
    }
   ],
   "source": [
    "inputs_dir = \"/projects/robustmicrob/jlaw/inputs/jarboe_data\"\n",
    "df_all = pd.read_csv(f\"{inputs_dir}/20230228/master_T_data_rebuilt_TPP_ALE_analysis.csv\", \n",
    "                     header=[1])\n",
    "print(len(df_all))\n",
    "df_all.head(2)"
   ]
  },
  {
   "cell_type": "code",
   "execution_count": 48,
   "id": "d0b92341-c863-49d3-a042-6925a4b850a2",
   "metadata": {},
   "outputs": [
    {
     "data": {
      "text/plain": [
       "Accession 1\n",
       "b1109    1.6.5.9; 1.16.1.-\n",
       "b0002     2.7.2.4; 1.1.1.3\n",
       "b3940     2.7.2.4; 1.1.1.3\n",
       "b3863              2.7.7.7\n",
       "b0215              2.7.7.7\n",
       "               ...        \n",
       "b3011              1.1.1.-\n",
       "b3022              3.1.-.-\n",
       "b2269             3.4.22.-\n",
       "b0225              3.1.-.-\n",
       "b4477             4.1.2.21\n",
       "Name: EC number, Length: 1005, dtype: object"
      ]
     },
     "execution_count": 48,
     "metadata": {},
     "output_type": "execute_result"
    }
   ],
   "source": [
    "df_all[\"EC number\"].dropna()"
   ]
  },
  {
   "cell_type": "code",
   "execution_count": 6,
   "id": "0bf0802a-312b-4f8c-9a2b-cb07f073d9b1",
   "metadata": {},
   "outputs": [],
   "source": [
    "bnum_to_uniprot = dict(zip(df_all[\"Accession 1\"], df_all[\"UNIPROT\"]))\n",
    "uniprot_to_bnum = dict(zip(df_all[\"UNIPROT\"], df_all[\"Accession 1\"]))"
   ]
  },
  {
   "cell_type": "code",
   "execution_count": 7,
   "id": "ccad3c90-9898-46f5-9ee3-1bd177a950e3",
   "metadata": {},
   "outputs": [],
   "source": [
    "# duplicate_locus_ids = ['b4607', 'b4416', 'b4164', 'b1910', 'b4442', 'b4556', 'b4524', 'b2856']\n",
    "# df_all = df_all[~df_all['Accession 1'].isin(duplicate_locus_ids)]\n",
    "# df_all = df_all.set_index('UNIPROT')\n",
    "# print(len(df_all))"
   ]
  },
  {
   "cell_type": "code",
   "execution_count": 8,
   "id": "605a6514-46a3-485c-adea-565ea09caa69",
   "metadata": {},
   "outputs": [],
   "source": [
    "df_all = df_all.set_index(\"Accession 1\")"
   ]
  },
  {
   "cell_type": "code",
   "execution_count": 9,
   "id": "d15291f2-4a98-433f-bf69-071187e6f3c7",
   "metadata": {},
   "outputs": [],
   "source": [
    "# duplicate_locus_ids = ['b4607', 'b4416', 'b4164', 'b1910', 'b4442', 'b4556', 'b4524', 'b2856']\n",
    "# df_all = df_all[~df_all['Accession 1'].isin(duplicate_locus_ids)]\n",
    "# df_all = df_all.set_index('UNIPROT')\n",
    "# print(len(df_all))"
   ]
  },
  {
   "cell_type": "code",
   "execution_count": 10,
   "id": "e38921c2-f963-4647-961f-0cb61c34c428",
   "metadata": {},
   "outputs": [
    {
     "data": {
      "text/plain": [
       "'/projects/robustmicrob/jlaw/inputs/jarboe_data'"
      ]
     },
     "execution_count": 10,
     "metadata": {},
     "output_type": "execute_result"
    }
   ],
   "source": [
    "inputs_dir"
   ]
  },
  {
   "cell_type": "code",
   "execution_count": 11,
   "id": "f346defb-9c75-41bd-8c72-1d2adfad99d6",
   "metadata": {},
   "outputs": [
    {
     "data": {
      "text/plain": [
       "4296"
      ]
     },
     "execution_count": 11,
     "metadata": {},
     "output_type": "execute_result"
    }
   ],
   "source": [
    "# load the fasta file\n",
    "from Bio import SeqIO\n",
    "\n",
    "u_ids = set(df_all.UNIPROT.values)\n",
    "fasta_file = f\"{inputs_dir}/ecoli_prots.fasta\"\n",
    "# protr has a minimum sequence length of 30, so apply that here as well\n",
    "records = [s for s in SeqIO.parse(fasta_file, \"fasta\") if s.id in u_ids and len(s.seq) > 30]\n",
    "\n",
    "out_file = f\"{inputs_dir}/master_ecoli_prots.fasta\"\n",
    "SeqIO.write(records, out_file, \"fasta\")"
   ]
  },
  {
   "cell_type": "code",
   "execution_count": 12,
   "id": "3dbeaf20-7b62-47bf-9429-77dcb072ad64",
   "metadata": {},
   "outputs": [],
   "source": [
    "# uniprot_id as index\n",
    "# df_all['sequence'] = {s.id: str(s.seq) for s in records}\n",
    "# bnum as index\n",
    "seq_map = {}\n",
    "for s in records:\n",
    "    df = df_all[df_all.UNIPROT == s.id]\n",
    "    for bnum in df.index:\n",
    "        seq_map[bnum] = str(s.seq)\n",
    "df_all[\"sequence\"] = seq_map"
   ]
  },
  {
   "cell_type": "code",
   "execution_count": 13,
   "id": "1c35b6f6-8eaa-4de0-9f61-da15d8b7c4bf",
   "metadata": {},
   "outputs": [
    {
     "data": {
      "text/html": [
       "<div>\n",
       "<style scoped>\n",
       "    .dataframe tbody tr th:only-of-type {\n",
       "        vertical-align: middle;\n",
       "    }\n",
       "\n",
       "    .dataframe tbody tr th {\n",
       "        vertical-align: top;\n",
       "    }\n",
       "\n",
       "    .dataframe thead th {\n",
       "        text-align: right;\n",
       "    }\n",
       "</style>\n",
       "<table border=\"1\" class=\"dataframe\">\n",
       "  <thead>\n",
       "    <tr style=\"text-align: right;\">\n",
       "      <th></th>\n",
       "      <th>UNIPROT</th>\n",
       "      <th>sequence</th>\n",
       "    </tr>\n",
       "    <tr>\n",
       "      <th>Accession 1</th>\n",
       "      <th></th>\n",
       "      <th></th>\n",
       "    </tr>\n",
       "  </thead>\n",
       "  <tbody>\n",
       "    <tr>\n",
       "      <th>b4154</th>\n",
       "      <td>P00363</td>\n",
       "      <td>MQTFQADLAIVGAGGAGLRAAIAAAQANPNAKIALISKVYPMRSHT...</td>\n",
       "    </tr>\n",
       "    <tr>\n",
       "      <th>b1109</th>\n",
       "      <td>P00393</td>\n",
       "      <td>MTTPLKKIVIVGGGAGGLEMATQLGHKLGRKKKAKITLVDRNHSHL...</td>\n",
       "    </tr>\n",
       "    <tr>\n",
       "      <th>b0002</th>\n",
       "      <td>P00561</td>\n",
       "      <td>MRVLKFGGTSVANAERFLRVADILESNARQGQVATVLSAPAKITNH...</td>\n",
       "    </tr>\n",
       "    <tr>\n",
       "      <th>b3940</th>\n",
       "      <td>P00562</td>\n",
       "      <td>MSVIAQAGAKGRQLHKFGGSSLADVKCYLRVAGIMAEYSQPDDMMV...</td>\n",
       "    </tr>\n",
       "    <tr>\n",
       "      <th>b3067</th>\n",
       "      <td>P00579</td>\n",
       "      <td>MEQNPQSQLKLLVTRGKEQGYLTYAEVNDHLPEDIVDSDQIEDIIQ...</td>\n",
       "    </tr>\n",
       "  </tbody>\n",
       "</table>\n",
       "</div>"
      ],
      "text/plain": [
       "            UNIPROT                                           sequence\n",
       "Accession 1                                                           \n",
       "b4154        P00363  MQTFQADLAIVGAGGAGLRAAIAAAQANPNAKIALISKVYPMRSHT...\n",
       "b1109        P00393  MTTPLKKIVIVGGGAGGLEMATQLGHKLGRKKKAKITLVDRNHSHL...\n",
       "b0002        P00561  MRVLKFGGTSVANAERFLRVADILESNARQGQVATVLSAPAKITNH...\n",
       "b3940        P00562  MSVIAQAGAKGRQLHKFGGSSLADVKCYLRVAGIMAEYSQPDDMMV...\n",
       "b3067        P00579  MEQNPQSQLKLLVTRGKEQGYLTYAEVNDHLPEDIVDSDQIEDIIQ..."
      ]
     },
     "execution_count": 13,
     "metadata": {},
     "output_type": "execute_result"
    }
   ],
   "source": [
    "df_all[[\"UNIPROT\", \"sequence\"]].head()"
   ]
  },
  {
   "cell_type": "code",
   "execution_count": 14,
   "id": "bd326caa-c132-4a6e-b64e-4f1cfbe36d1c",
   "metadata": {},
   "outputs": [
    {
     "name": "stdout",
     "output_type": "stream",
     "text": [
      "4384 4303\n"
     ]
    }
   ],
   "source": [
    "print(len(df_all), len(df_all.dropna(subset=\"sequence\")))"
   ]
  },
  {
   "cell_type": "markdown",
   "id": "9730f370-3f69-4995-a406-294d21fc1065",
   "metadata": {},
   "source": [
    "## Load the model"
   ]
  },
  {
   "cell_type": "code",
   "execution_count": 15,
   "id": "e24e86cb-6594-4233-845e-a53c5203fecf",
   "metadata": {},
   "outputs": [
    {
     "data": {
      "text/plain": [
       "'/projects/robustmicrob/jlaw/inputs/jarboe_data'"
      ]
     },
     "execution_count": 15,
     "metadata": {},
     "output_type": "execute_result"
    }
   ],
   "source": [
    "inputs_dir"
   ]
  },
  {
   "cell_type": "code",
   "execution_count": 16,
   "id": "cb156b63-aae7-4573-80d5-f481506204ff",
   "metadata": {},
   "outputs": [],
   "source": [
    "os.chdir(\"../../../\")"
   ]
  },
  {
   "cell_type": "code",
   "execution_count": 17,
   "id": "7bdd09cb-0f28-4ccd-8a12-c1f2d9396f0f",
   "metadata": {},
   "outputs": [
    {
     "data": {
      "text/plain": [
       "'/lustre/eaglefs/projects/robustmicrob/jlaw/projects/prot_stability_engineering'"
      ]
     },
     "execution_count": 17,
     "metadata": {},
     "output_type": "execute_result"
    }
   ],
   "source": [
    "os.getcwd()"
   ]
  },
  {
   "cell_type": "code",
   "execution_count": 18,
   "id": "454c560c-3e5d-4678-a1b3-e9663cef894b",
   "metadata": {},
   "outputs": [],
   "source": [
    "from src.model import neural_network_fits"
   ]
  },
  {
   "cell_type": "code",
   "execution_count": 23,
   "id": "58dd8405-e246-41cb-9653-7ecb7153b8ef",
   "metadata": {},
   "outputs": [],
   "source": [
    "df_to_pred = df_all.dropna(subset=['sequence'])"
   ]
  },
  {
   "cell_type": "code",
   "execution_count": 24,
   "id": "2e341825-fd57-48f8-97b9-c61d5de83ead",
   "metadata": {},
   "outputs": [
    {
     "name": "stdout",
     "output_type": "stream",
     "text": [
      "4303\n",
      "4298\n"
     ]
    }
   ],
   "source": [
    "print(len(df_to_pred))\n",
    "df_to_pred = df_to_pred[df_to_pred.sequence.apply(len) < 1500]\n",
    "print(len(df_to_pred))"
   ]
  },
  {
   "cell_type": "code",
   "execution_count": 25,
   "id": "6cd8696d-5bd6-4fbb-8ca6-12f493566d1c",
   "metadata": {},
   "outputs": [],
   "source": [
    "out_file = f\"{inputs_dir}/20230124/20230209_bnum_embeddings_{model_name}.npz\""
   ]
  },
  {
   "cell_type": "markdown",
   "id": "70ed3f13-76a9-4cfd-9adf-48ef4de8e60e",
   "metadata": {},
   "source": [
    "### Load sequence embeddings\n",
    "- If the sequence embeddings were already generated, load them here"
   ]
  },
  {
   "cell_type": "code",
   "execution_count": 21,
   "id": "d9e2014d-2136-437f-a63d-188a8628bf58",
   "metadata": {},
   "outputs": [],
   "source": [
    "def read_embeddings(embed_file, sequence_idx_file):\n",
    "    \"\"\" Read embeddings stored in an npz file\n",
    "    Get the sequences at each index from the *sequence_idx_file\n",
    "    \"\"\"\n",
    "    embeddings = np.load(embed_file, allow_pickle=True)['arr_0']\n",
    "    sequences = pd.read_csv(sequence_idx_file)\n",
    "    print(f\"{len(embeddings) = } read from {embed_file}\")\n",
    "    print(f\"{len(sequences) = } read from {sequence_idx_file}\")\n",
    "    return embeddings, sequences"
   ]
  },
  {
   "cell_type": "code",
   "execution_count": 26,
   "id": "312d4680-823c-4487-a148-f4d0a1ba629b",
   "metadata": {},
   "outputs": [
    {
     "name": "stdout",
     "output_type": "stream",
     "text": [
      "len(embeddings) = 4298 read from /projects/robustmicrob/jlaw/inputs/jarboe_data/20230124/20230209_bnum_embeddings_esm2_t33_650M_UR50D.npz\n",
      "len(sequences) = 4298 read from /projects/robustmicrob/jlaw/inputs/jarboe_data/20230124/20230209_bnum_embeddings_esm2_t33_650M_UR50D.csv\n"
     ]
    }
   ],
   "source": [
    "representations, df_seq = read_embeddings(out_file, out_file.replace('.npz','.csv'))"
   ]
  },
  {
   "cell_type": "markdown",
   "id": "25f94776-9495-4713-ae82-9ec875f10730",
   "metadata": {},
   "source": [
    "### Generate sequence embeddings"
   ]
  },
  {
   "cell_type": "code",
   "execution_count": 19,
   "id": "4e58980c-41fc-4ca9-92f5-14ebb07d9c5e",
   "metadata": {},
   "outputs": [],
   "source": [
    "head_model_file = \"/projects/robustmicrob/jlaw/projects/prot_stability_engineering/results/20230926_ph_range/20231011_ph_range_esm2_t33_650M_UR50D.pt\"\n",
    "head_model = torch.load(head_model_file)"
   ]
  },
  {
   "cell_type": "code",
   "execution_count": 20,
   "id": "889eb4fc-15d4-4a62-900e-5562355d2325",
   "metadata": {},
   "outputs": [
    {
     "name": "stderr",
     "output_type": "stream",
     "text": [
      "Using cache found in /scratch/jlaw/torch/facebookresearch_esm_main\n"
     ]
    }
   ],
   "source": [
    "torch.hub.set_dir('/scratch/jlaw/torch')\n",
    "model_name = \"esm2_t33_650M_UR50D\"\n",
    "# model_name = \"esm2_t36_3B_UR50D\"\n",
    "model, alphabet = torch.hub.load(\"facebookresearch/esm:main\", model_name)"
   ]
  },
  {
   "cell_type": "code",
   "execution_count": 19,
   "id": "2a8ae98a-5f77-4776-8951-460daeb42313",
   "metadata": {},
   "outputs": [],
   "source": [
    "# generate the embeddings for these sequences\n",
    "def get_seq_embeddings(model, seqs, repr_layer=33, batch_size=16):\n",
    "    \"\"\"\n",
    "    Generate an embedding for every sequence using the specified model\n",
    "    \"\"\"\n",
    "    batch_labels, batch_strs, batch_tokens = batch_converter(list(zip(np.arange(len(seqs)), seqs)))\n",
    "\n",
    "    batch_dataloader = torch.utils.data.DataLoader(batch_tokens,\n",
    "                                                   batch_size=batch_size,\n",
    "                                                   pin_memory=True,\n",
    "                                                   num_workers=8\n",
    "                                                  )\n",
    "\n",
    "    representations = []\n",
    "    with torch.no_grad():\n",
    "        for batch_idx, batch in tqdm(enumerate(batch_dataloader), total=len(batch_dataloader)):\n",
    "            out = model(batch.to(device), repr_layers=[repr_layer])  # because this is the 33-layer transformer\n",
    "            out = out['representations'][repr_layer].detach().to('cpu').numpy()\n",
    "\n",
    "            for i in range(len(batch)):\n",
    "                seq_idx = (batch_idx * batch_size) + i\n",
    "                representations += [out[i, 1:len(seqs[seq_idx]) + 1].mean(0).astype(np.float16)]\n",
    "\n",
    "            # if batch_idx == 0 or batch_idx % int(len(batch_dataloader) / 20.0) == 0:\n",
    "            #     # keep track of how much memory this script is using\n",
    "            #     print_memory_usage()\n",
    "    representations = np.vstack(representations)\n",
    "    return representations"
   ]
  },
  {
   "cell_type": "code",
   "execution_count": 21,
   "id": "45b2edd9-fe57-4d38-ac49-8ec36c374193",
   "metadata": {},
   "outputs": [],
   "source": [
    "# model, alphabet = torch.hub.load(\"facebookresearch/esm:main\", model_name)\n",
    "device = 'cuda:0' if torch.cuda.is_available() else 'cpu'\n",
    "model.eval()  # disables dropout for deterministic results\n",
    "model = model.to(device)\n",
    "batch_converter = alphabet.get_batch_converter()\n",
    "# get the representations from the last layer\n",
    "repr_layer = model.num_layers"
   ]
  },
  {
   "cell_type": "code",
   "execution_count": 33,
   "id": "93317b61-5b4f-4f3a-b20d-b5d0a1e1aa04",
   "metadata": {},
   "outputs": [
    {
     "name": "stdout",
     "output_type": "stream",
     "text": [
      "building embeddings for 4298 embeddings using repr_layer = 33\n"
     ]
    },
    {
     "data": {
      "application/vnd.jupyter.widget-view+json": {
       "model_id": "bbbbb4ac3eed48bc995cf9e19ccac229",
       "version_major": 2,
       "version_minor": 0
      },
      "text/plain": [
       "  0%|          | 0/135 [00:00<?, ?it/s]"
      ]
     },
     "metadata": {},
     "output_type": "display_data"
    },
    {
     "name": "stdout",
     "output_type": "stream",
     "text": [
      "representations.shape = (4298, 1280)\n"
     ]
    }
   ],
   "source": [
    "print(f\"building embeddings for {len(df_to_pred)} embeddings using {repr_layer = }\")\n",
    "representations = get_seq_embeddings(model, df_to_pred.sequence.values, repr_layer=repr_layer, batch_size=32)\n",
    "print(f\"{representations.shape = }\")"
   ]
  },
  {
   "cell_type": "code",
   "execution_count": 63,
   "id": "81ebece6-4264-49d0-93f9-43ca061804b8",
   "metadata": {},
   "outputs": [
    {
     "name": "stdout",
     "output_type": "stream",
     "text": [
      "Writing embeddings to /projects/robustmicrob/jlaw/inputs/jarboe_data/20230124/20230209_bnum_embeddings_esm2_t33_650M_UR50D.npz\n"
     ]
    }
   ],
   "source": [
    "# inputs_dir = \"/projects/robustmicrob/jlaw/inputs/jarboe_data\"                     \n",
    "print(f\"Writing embeddings to {out_file}\")\n",
    "np.savez(out_file, representations)\n",
    "\n",
    "df_to_pred.sequence.to_csv(out_file.replace('.npz','.csv'))"
   ]
  },
  {
   "cell_type": "markdown",
   "id": "e2a477da-bf4d-4acf-aaa2-45d6b77bff68",
   "metadata": {},
   "source": [
    "## Now make predictions"
   ]
  },
  {
   "cell_type": "code",
   "execution_count": null,
   "id": "0b76ea03-f4ad-4cf6-81b7-30efefc0f3db",
   "metadata": {},
   "outputs": [
    {
     "data": {
      "text/plain": [
       "Accession 1\n",
       "b4154                  NaN\n",
       "b1109    1.6.5.9; 1.16.1.-\n",
       "b0002     2.7.2.4; 1.1.1.3\n",
       "b3940     2.7.2.4; 1.1.1.3\n",
       "b3067                  NaN\n",
       "               ...        \n",
       "b1172                  NaN\n",
       "b1028                  NaN\n",
       "b4504                  NaN\n",
       "b4274                  NaN\n",
       "b4543                  NaN\n",
       "Name: EC number, Length: 4298, dtype: object"
      ]
     },
     "execution_count": 26,
     "metadata": {},
     "output_type": "execute_result"
    }
   ],
   "source": [
    "df_to_pred[\"EC number\"]"
   ]
  },
  {
   "cell_type": "code",
   "execution_count": 27,
   "id": "9bf9ea6b-d647-43c2-81d3-ec2cb7676f01",
   "metadata": {},
   "outputs": [
    {
     "data": {
      "text/html": [
       "<div>\n",
       "<style scoped>\n",
       "    .dataframe tbody tr th:only-of-type {\n",
       "        vertical-align: middle;\n",
       "    }\n",
       "\n",
       "    .dataframe tbody tr th {\n",
       "        vertical-align: top;\n",
       "    }\n",
       "\n",
       "    .dataframe thead th {\n",
       "        text-align: right;\n",
       "    }\n",
       "</style>\n",
       "<table border=\"1\" class=\"dataframe\">\n",
       "  <thead>\n",
       "    <tr style=\"text-align: right;\">\n",
       "      <th></th>\n",
       "      <th>Optimum pH</th>\n",
       "      <th>Active pH range</th>\n",
       "      <th>Summary for pH curve</th>\n",
       "      <th>Active pH stability range</th>\n",
       "    </tr>\n",
       "    <tr>\n",
       "      <th>Accession 1</th>\n",
       "      <th></th>\n",
       "      <th></th>\n",
       "      <th></th>\n",
       "      <th></th>\n",
       "    </tr>\n",
       "  </thead>\n",
       "  <tbody>\n",
       "    <tr>\n",
       "      <th>b0474</th>\n",
       "      <td>-</td>\n",
       "      <td>-</td>\n",
       "      <td>-</td>\n",
       "      <td>-</td>\n",
       "    </tr>\n",
       "    <tr>\n",
       "      <th>b4014</th>\n",
       "      <td>-</td>\n",
       "      <td>-</td>\n",
       "      <td>-</td>\n",
       "      <td>-</td>\n",
       "    </tr>\n",
       "  </tbody>\n",
       "</table>\n",
       "</div>"
      ],
      "text/plain": [
       "            Optimum pH  Active pH range Summary for pH curve  \\\n",
       "Accession 1                                                    \n",
       "b0474                 -               -                    -   \n",
       "b4014                 -               -                    -   \n",
       "\n",
       "            Active pH stability range   \n",
       "Accession 1                             \n",
       "b0474                                -  \n",
       "b4014                                -  "
      ]
     },
     "execution_count": 27,
     "metadata": {},
     "output_type": "execute_result"
    }
   ],
   "source": [
    "df_to_pred[[\"Optimum pH \", \"Active pH range\", \"Summary for pH curve\", \"Active pH stability range \"]].dropna()"
   ]
  },
  {
   "cell_type": "code",
   "execution_count": 27,
   "id": "9666a675-b6ce-4cd7-a2a0-5151eff653d5",
   "metadata": {},
   "outputs": [
    {
     "name": "stdout",
     "output_type": "stream",
     "text": [
      "(4298, 1282)\n"
     ]
    }
   ],
   "source": [
    "# TODO include oxidaiton and reduction predictions\n",
    "redox = np.zeros((len(df_to_pred), 2))\n",
    "X = np.hstack([representations, redox])\n",
    "print(X.shape)"
   ]
  },
  {
   "cell_type": "code",
   "execution_count": 28,
   "id": "f99b428c-f0a7-4f64-b24a-af9d2bf9f352",
   "metadata": {},
   "outputs": [],
   "source": [
    "pred_mean, pred_std = head_model(torch.Tensor(X))\n",
    "# pred_mean, pred_std = logits[:,0], logits[:,1]\n",
    "pred_mean, pred_std = pred_mean.detach().numpy(), pred_std.detach().numpy()\n",
    "df_to_pred[\"esm2_pH_opt\"] = pred_mean\n",
    "df_to_pred[\"esm2_pH_std\"] = pred_std\n",
    "# df_to_pred['esm2_Tm_pred'] = y_pred\n",
    "# df_all['esm2_Tm_pred'] = df_to_pred['esm2_Tm_pred']"
   ]
  },
  {
   "cell_type": "code",
   "execution_count": 29,
   "id": "5bc9d0d0-c86a-428d-b63e-131e70c58732",
   "metadata": {},
   "outputs": [
    {
     "data": {
      "text/html": [
       "<div>\n",
       "<style scoped>\n",
       "    .dataframe tbody tr th:only-of-type {\n",
       "        vertical-align: middle;\n",
       "    }\n",
       "\n",
       "    .dataframe tbody tr th {\n",
       "        vertical-align: top;\n",
       "    }\n",
       "\n",
       "    .dataframe thead th {\n",
       "        text-align: right;\n",
       "    }\n",
       "</style>\n",
       "<table border=\"1\" class=\"dataframe\">\n",
       "  <thead>\n",
       "    <tr style=\"text-align: right;\">\n",
       "      <th></th>\n",
       "      <th>esm2_pH_opt</th>\n",
       "      <th>esm2_pH_std</th>\n",
       "    </tr>\n",
       "    <tr>\n",
       "      <th>Accession 1</th>\n",
       "      <th></th>\n",
       "      <th></th>\n",
       "    </tr>\n",
       "  </thead>\n",
       "  <tbody>\n",
       "    <tr>\n",
       "      <th>b4154</th>\n",
       "      <td>6.785392</td>\n",
       "      <td>1.119335</td>\n",
       "    </tr>\n",
       "    <tr>\n",
       "      <th>b1109</th>\n",
       "      <td>7.385746</td>\n",
       "      <td>1.150859</td>\n",
       "    </tr>\n",
       "    <tr>\n",
       "      <th>b0002</th>\n",
       "      <td>7.770733</td>\n",
       "      <td>1.093616</td>\n",
       "    </tr>\n",
       "    <tr>\n",
       "      <th>b3940</th>\n",
       "      <td>8.111644</td>\n",
       "      <td>1.072438</td>\n",
       "    </tr>\n",
       "    <tr>\n",
       "      <th>b3067</th>\n",
       "      <td>8.233210</td>\n",
       "      <td>1.170554</td>\n",
       "    </tr>\n",
       "    <tr>\n",
       "      <th>...</th>\n",
       "      <td>...</td>\n",
       "      <td>...</td>\n",
       "    </tr>\n",
       "    <tr>\n",
       "      <th>b1172</th>\n",
       "      <td>6.782375</td>\n",
       "      <td>1.440360</td>\n",
       "    </tr>\n",
       "    <tr>\n",
       "      <th>b1028</th>\n",
       "      <td>7.917264</td>\n",
       "      <td>1.526613</td>\n",
       "    </tr>\n",
       "    <tr>\n",
       "      <th>b4504</th>\n",
       "      <td>8.458156</td>\n",
       "      <td>1.226346</td>\n",
       "    </tr>\n",
       "    <tr>\n",
       "      <th>b4274</th>\n",
       "      <td>7.760112</td>\n",
       "      <td>0.779147</td>\n",
       "    </tr>\n",
       "    <tr>\n",
       "      <th>b4543</th>\n",
       "      <td>6.967209</td>\n",
       "      <td>1.159848</td>\n",
       "    </tr>\n",
       "  </tbody>\n",
       "</table>\n",
       "<p>4298 rows × 2 columns</p>\n",
       "</div>"
      ],
      "text/plain": [
       "             esm2_pH_opt  esm2_pH_std\n",
       "Accession 1                          \n",
       "b4154           6.785392     1.119335\n",
       "b1109           7.385746     1.150859\n",
       "b0002           7.770733     1.093616\n",
       "b3940           8.111644     1.072438\n",
       "b3067           8.233210     1.170554\n",
       "...                  ...          ...\n",
       "b1172           6.782375     1.440360\n",
       "b1028           7.917264     1.526613\n",
       "b4504           8.458156     1.226346\n",
       "b4274           7.760112     0.779147\n",
       "b4543           6.967209     1.159848\n",
       "\n",
       "[4298 rows x 2 columns]"
      ]
     },
     "execution_count": 29,
     "metadata": {},
     "output_type": "execute_result"
    }
   ],
   "source": [
    "df_to_pred[[\"esm2_pH_opt\", \"esm2_pH_std\"]]"
   ]
  },
  {
   "cell_type": "code",
   "execution_count": 30,
   "id": "03ead30a-cab9-41f1-8ee4-3d92e92a187c",
   "metadata": {},
   "outputs": [
    {
     "data": {
      "text/plain": [
       "Text(0.5, 0, 'E. coli pH std. dev. predictions')"
      ]
     },
     "execution_count": 30,
     "metadata": {},
     "output_type": "execute_result"
    },
    {
     "data": {
      "image/png": "[encoded data removed]",
      "text/plain": [
       "<Figure size 1000x400 with 2 Axes>"
      ]
     },
     "metadata": {},
     "output_type": "display_data"
    }
   ],
   "source": [
    "f, (ax, ax2) = plt.subplots(figsize=(10,4), ncols=2)\n",
    "df_to_pred[\"esm2_pH_opt\"].plot.hist(bins=30, ax=ax)\n",
    "ax.set_xlabel(\"E. coli pH opt predictions\")\n",
    "df_to_pred[\"esm2_pH_std\"].plot.hist(bins=30, ax=ax2)\n",
    "ax2.set_xlabel(\"E. coli pH std. dev. predictions\")"
   ]
  },
  {
   "cell_type": "code",
   "execution_count": 31,
   "id": "469ff030-bd62-4cd6-8416-7e4a26efa68c",
   "metadata": {},
   "outputs": [
    {
     "data": {
      "text/html": [
       "<div>\n",
       "<style scoped>\n",
       "    .dataframe tbody tr th:only-of-type {\n",
       "        vertical-align: middle;\n",
       "    }\n",
       "\n",
       "    .dataframe tbody tr th {\n",
       "        vertical-align: top;\n",
       "    }\n",
       "\n",
       "    .dataframe thead th {\n",
       "        text-align: right;\n",
       "    }\n",
       "</style>\n",
       "<table border=\"1\" class=\"dataframe\">\n",
       "  <thead>\n",
       "    <tr style=\"text-align: right;\">\n",
       "      <th></th>\n",
       "      <th>Gene Name</th>\n",
       "      <th>esm2_pH_opt</th>\n",
       "      <th>esm2_pH_std</th>\n",
       "    </tr>\n",
       "    <tr>\n",
       "      <th>Accession 1</th>\n",
       "      <th></th>\n",
       "      <th></th>\n",
       "      <th></th>\n",
       "    </tr>\n",
       "  </thead>\n",
       "  <tbody>\n",
       "    <tr>\n",
       "      <th>b1109</th>\n",
       "      <td>ndh</td>\n",
       "      <td>7.385746</td>\n",
       "      <td>1.150859</td>\n",
       "    </tr>\n",
       "    <tr>\n",
       "      <th>b0720</th>\n",
       "      <td>gltA</td>\n",
       "      <td>7.831304</td>\n",
       "      <td>1.324568</td>\n",
       "    </tr>\n",
       "    <tr>\n",
       "      <th>b2780</th>\n",
       "      <td>pyrG</td>\n",
       "      <td>8.136646</td>\n",
       "      <td>0.837240</td>\n",
       "    </tr>\n",
       "    <tr>\n",
       "      <th>b3605</th>\n",
       "      <td>lldD</td>\n",
       "      <td>8.808319</td>\n",
       "      <td>1.475052</td>\n",
       "    </tr>\n",
       "  </tbody>\n",
       "</table>\n",
       "</div>"
      ],
      "text/plain": [
       "            Gene Name  esm2_pH_opt  esm2_pH_std\n",
       "Accession 1                                    \n",
       "b1109             ndh     7.385746     1.150859\n",
       "b0720            gltA     7.831304     1.324568\n",
       "b2780            pyrG     8.136646     0.837240\n",
       "b3605            lldD     8.808319     1.475052"
      ]
     },
     "execution_count": 31,
     "metadata": {},
     "output_type": "execute_result"
    }
   ],
   "source": [
    "gene_sub = df_to_pred[df_to_pred[\"Gene Name\"].isin([\"lldD\", \"gltA\", \"ndh\", \"pyrG\"])]\n",
    "gene_sub[[\"Gene Name\", \"esm2_pH_opt\", \"esm2_pH_std\"]]"
   ]
  },
  {
   "cell_type": "code",
   "execution_count": 32,
   "id": "dc9727f5-b8c7-4743-bf1e-21eb616d47dc",
   "metadata": {},
   "outputs": [],
   "source": [
    "# define the gaussian function\n",
    "def gaus(x,c,x_mean,sigma):\n",
    "    return c*np.exp(-(x-x_mean)**2/(2*sigma**2))"
   ]
  },
  {
   "cell_type": "code",
   "execution_count": 33,
   "id": "624bfd29-6251-4ca3-a315-8ff97dda60e9",
   "metadata": {},
   "outputs": [],
   "source": [
    "def get_activity_at_ph_gaus(pred_mean, pred_std, ph=7.0):\n",
    "    \"\"\" Get the activity at the given ph value(s) \n",
    "    using the predicted pH optimum (mean) and range (standard deviation)\n",
    "    \"\"\"\n",
    "    max_activity = 1\n",
    "    # if isinstance(int, ph) or isinstance(float, ph):\n",
    "    return gaus(ph, max_activity, pred_mean, pred_std)"
   ]
  },
  {
   "cell_type": "code",
   "execution_count": 34,
   "id": "6b493ba3-12d7-4d31-944b-3a13355c92c5",
   "metadata": {},
   "outputs": [
    {
     "data": {
      "text/html": [
       "<div>\n",
       "<style scoped>\n",
       "    .dataframe tbody tr th:only-of-type {\n",
       "        vertical-align: middle;\n",
       "    }\n",
       "\n",
       "    .dataframe tbody tr th {\n",
       "        vertical-align: top;\n",
       "    }\n",
       "\n",
       "    .dataframe thead th {\n",
       "        text-align: right;\n",
       "    }\n",
       "</style>\n",
       "<table border=\"1\" class=\"dataframe\">\n",
       "  <thead>\n",
       "    <tr style=\"text-align: right;\">\n",
       "      <th></th>\n",
       "      <th>esm2_act_pH_7.0</th>\n",
       "      <th>esm2_act_pH_6.5</th>\n",
       "      <th>esm2_act_pH_6.0</th>\n",
       "      <th>esm2_act_pH_5.5</th>\n",
       "      <th>esm2_act_pH_5.0</th>\n",
       "      <th>esm2_act_pH_4.5</th>\n",
       "    </tr>\n",
       "    <tr>\n",
       "      <th>Accession 1</th>\n",
       "      <th></th>\n",
       "      <th></th>\n",
       "      <th></th>\n",
       "      <th></th>\n",
       "      <th></th>\n",
       "      <th></th>\n",
       "    </tr>\n",
       "  </thead>\n",
       "  <tbody>\n",
       "    <tr>\n",
       "      <th>b4154</th>\n",
       "      <td>0.981788</td>\n",
       "      <td>0.968019</td>\n",
       "      <td>0.781795</td>\n",
       "      <td>0.517183</td>\n",
       "      <td>0.280246</td>\n",
       "      <td>0.124388</td>\n",
       "    </tr>\n",
       "    <tr>\n",
       "      <th>b1109</th>\n",
       "      <td>0.945375</td>\n",
       "      <td>0.743659</td>\n",
       "      <td>0.484361</td>\n",
       "      <td>0.261210</td>\n",
       "      <td>0.116637</td>\n",
       "      <td>0.043123</td>\n",
       "    </tr>\n",
       "    <tr>\n",
       "      <th>b0002</th>\n",
       "      <td>0.780094</td>\n",
       "      <td>0.509121</td>\n",
       "      <td>0.269596</td>\n",
       "      <td>0.115831</td>\n",
       "      <td>0.040379</td>\n",
       "      <td>0.011421</td>\n",
       "    </tr>\n",
       "    <tr>\n",
       "      <th>b3940</th>\n",
       "      <td>0.584367</td>\n",
       "      <td>0.323298</td>\n",
       "      <td>0.143919</td>\n",
       "      <td>0.051550</td>\n",
       "      <td>0.014857</td>\n",
       "      <td>0.003446</td>\n",
       "    </tr>\n",
       "    <tr>\n",
       "      <th>b3067</th>\n",
       "      <td>0.574096</td>\n",
       "      <td>0.334139</td>\n",
       "      <td>0.162043</td>\n",
       "      <td>0.065478</td>\n",
       "      <td>0.022045</td>\n",
       "      <td>0.006184</td>\n",
       "    </tr>\n",
       "    <tr>\n",
       "      <th>...</th>\n",
       "      <td>...</td>\n",
       "      <td>...</td>\n",
       "      <td>...</td>\n",
       "      <td>...</td>\n",
       "      <td>...</td>\n",
       "      <td>...</td>\n",
       "    </tr>\n",
       "    <tr>\n",
       "      <th>b1172</th>\n",
       "      <td>0.988651</td>\n",
       "      <td>0.980967</td>\n",
       "      <td>0.862843</td>\n",
       "      <td>0.672784</td>\n",
       "      <td>0.465035</td>\n",
       "      <td>0.284945</td>\n",
       "    </tr>\n",
       "    <tr>\n",
       "      <th>b1028</th>\n",
       "      <td>0.834844</td>\n",
       "      <td>0.649900</td>\n",
       "      <td>0.454465</td>\n",
       "      <td>0.285474</td>\n",
       "      <td>0.161082</td>\n",
       "      <td>0.081647</td>\n",
       "    </tr>\n",
       "    <tr>\n",
       "      <th>b4504</th>\n",
       "      <td>0.493176</td>\n",
       "      <td>0.279490</td>\n",
       "      <td>0.134134</td>\n",
       "      <td>0.054515</td>\n",
       "      <td>0.018763</td>\n",
       "      <td>0.005469</td>\n",
       "    </tr>\n",
       "    <tr>\n",
       "      <th>b4274</th>\n",
       "      <td>0.621346</td>\n",
       "      <td>0.270408</td>\n",
       "      <td>0.077957</td>\n",
       "      <td>0.014888</td>\n",
       "      <td>0.001884</td>\n",
       "      <td>0.000158</td>\n",
       "    </tr>\n",
       "    <tr>\n",
       "      <th>b4543</th>\n",
       "      <td>0.999600</td>\n",
       "      <td>0.922072</td>\n",
       "      <td>0.706309</td>\n",
       "      <td>0.449278</td>\n",
       "      <td>0.237316</td>\n",
       "      <td>0.104095</td>\n",
       "    </tr>\n",
       "  </tbody>\n",
       "</table>\n",
       "<p>4298 rows × 6 columns</p>\n",
       "</div>"
      ],
      "text/plain": [
       "             esm2_act_pH_7.0  esm2_act_pH_6.5  esm2_act_pH_6.0  \\\n",
       "Accession 1                                                      \n",
       "b4154               0.981788         0.968019         0.781795   \n",
       "b1109               0.945375         0.743659         0.484361   \n",
       "b0002               0.780094         0.509121         0.269596   \n",
       "b3940               0.584367         0.323298         0.143919   \n",
       "b3067               0.574096         0.334139         0.162043   \n",
       "...                      ...              ...              ...   \n",
       "b1172               0.988651         0.980967         0.862843   \n",
       "b1028               0.834844         0.649900         0.454465   \n",
       "b4504               0.493176         0.279490         0.134134   \n",
       "b4274               0.621346         0.270408         0.077957   \n",
       "b4543               0.999600         0.922072         0.706309   \n",
       "\n",
       "             esm2_act_pH_5.5  esm2_act_pH_5.0  esm2_act_pH_4.5  \n",
       "Accession 1                                                     \n",
       "b4154               0.517183         0.280246         0.124388  \n",
       "b1109               0.261210         0.116637         0.043123  \n",
       "b0002               0.115831         0.040379         0.011421  \n",
       "b3940               0.051550         0.014857         0.003446  \n",
       "b3067               0.065478         0.022045         0.006184  \n",
       "...                      ...              ...              ...  \n",
       "b1172               0.672784         0.465035         0.284945  \n",
       "b1028               0.285474         0.161082         0.081647  \n",
       "b4504               0.054515         0.018763         0.005469  \n",
       "b4274               0.014888         0.001884         0.000158  \n",
       "b4543               0.449278         0.237316         0.104095  \n",
       "\n",
       "[4298 rows x 6 columns]"
      ]
     },
     "execution_count": 34,
     "metadata": {},
     "output_type": "execute_result"
    }
   ],
   "source": [
    "ph_vals = (7.0, 6.5, 6.0, 5.5, 5.0, 4.5)\n",
    "cols = []\n",
    "for ph in ph_vals:\n",
    "    col = f\"esm2_act_pH_{ph}\"\n",
    "    cols += [col]\n",
    "    df_to_pred[col] = df_to_pred.apply(\n",
    "        lambda row: get_activity_at_ph_gaus(row.esm2_pH_opt, row.esm2_pH_std, ph=ph),\n",
    "        axis=1,\n",
    "    )\n",
    "    \n",
    "\n",
    "df_to_pred[cols]"
   ]
  },
  {
   "cell_type": "code",
   "execution_count": 35,
   "id": "16d62404-4c0a-4a2b-b952-a571b4b6a25d",
   "metadata": {},
   "outputs": [],
   "source": [
    "# colors = sns.color_palette()\n",
    "colors = sns.color_palette(\"Spectral\")[::-1]"
   ]
  },
  {
   "cell_type": "code",
   "execution_count": 41,
   "id": "dae4aa36-d5f3-4051-98b2-8492cd69645a",
   "metadata": {},
   "outputs": [
    {
     "data": {
      "image/png": "[encoded data removed]",
      "text/plain": [
       "<Figure size 800x600 with 6 Axes>"
      ]
     },
     "metadata": {},
     "output_type": "display_data"
    }
   ],
   "source": [
    "f, axes = plt.subplots(nrows=2, ncols=3, figsize=(8, 6), sharex=True)\n",
    "axes = [ax for ax_list in axes for ax in ax_list]\n",
    "for i, col in enumerate(cols):\n",
    "    ax = axes[i]\n",
    "    (df_to_pred[col] * 100).plot.hist(bins=30, ax=ax,\n",
    "                              color=colors[i],\n",
    "                             )\n",
    "    ax.set_title(f\"pH {ph_vals[i]}\")\n",
    "    if i > 2:\n",
    "        ax.set_xlabel(\"Relative activity\")\n",
    "\n",
    "plt.suptitle(r\"ML predicted effect of pH on $E. coli$ proteins\")\n",
    "plt.tight_layout()"
   ]
  },
  {
   "cell_type": "code",
   "execution_count": 64,
   "id": "1daf0159-622a-474d-bcf2-13678b21232f",
   "metadata": {},
   "outputs": [
    {
     "data": {
      "text/plain": [
       "['esm2_act_pH_7.0',\n",
       " 'esm2_act_pH_6.5',\n",
       " 'esm2_act_pH_6.0',\n",
       " 'esm2_act_pH_5.5',\n",
       " 'esm2_act_pH_5.0',\n",
       " 'esm2_act_pH_4.5']"
      ]
     },
     "execution_count": 64,
     "metadata": {},
     "output_type": "execute_result"
    }
   ],
   "source": [
    "cols"
   ]
  },
  {
   "cell_type": "code",
   "execution_count": 42,
   "id": "2adf98ed-c2f1-4474-a832-542aafde1959",
   "metadata": {},
   "outputs": [
    {
     "data": {
      "text/html": [
       "<div>\n",
       "<style scoped>\n",
       "    .dataframe tbody tr th:only-of-type {\n",
       "        vertical-align: middle;\n",
       "    }\n",
       "\n",
       "    .dataframe tbody tr th {\n",
       "        vertical-align: top;\n",
       "    }\n",
       "\n",
       "    .dataframe thead th {\n",
       "        text-align: right;\n",
       "    }\n",
       "</style>\n",
       "<table border=\"1\" class=\"dataframe\">\n",
       "  <thead>\n",
       "    <tr style=\"text-align: right;\">\n",
       "      <th></th>\n",
       "      <th>Gene Name</th>\n",
       "      <th>UNIPROT</th>\n",
       "      <th>Accession 2</th>\n",
       "      <th>All Names Concat</th>\n",
       "      <th>Left End Position</th>\n",
       "      <th>Right End Position</th>\n",
       "      <th>Centisome Position</th>\n",
       "      <th>Direction</th>\n",
       "      <th>Length (bp)</th>\n",
       "      <th>Synonyms</th>\n",
       "      <th>...</th>\n",
       "      <th>sequence difference in MG1655 from W3110 (increased thermotolerance)</th>\n",
       "      <th>sequence</th>\n",
       "      <th>esm2_pH_opt</th>\n",
       "      <th>esm2_pH_std</th>\n",
       "      <th>esm2_act_pH_7.0</th>\n",
       "      <th>esm2_act_pH_6.5</th>\n",
       "      <th>esm2_act_pH_6.0</th>\n",
       "      <th>esm2_act_pH_5.5</th>\n",
       "      <th>esm2_act_pH_5.0</th>\n",
       "      <th>esm2_act_pH_4.5</th>\n",
       "    </tr>\n",
       "    <tr>\n",
       "      <th>Accession 1</th>\n",
       "      <th></th>\n",
       "      <th></th>\n",
       "      <th></th>\n",
       "      <th></th>\n",
       "      <th></th>\n",
       "      <th></th>\n",
       "      <th></th>\n",
       "      <th></th>\n",
       "      <th></th>\n",
       "      <th></th>\n",
       "      <th></th>\n",
       "      <th></th>\n",
       "      <th></th>\n",
       "      <th></th>\n",
       "      <th></th>\n",
       "      <th></th>\n",
       "      <th></th>\n",
       "      <th></th>\n",
       "      <th></th>\n",
       "      <th></th>\n",
       "      <th></th>\n",
       "    </tr>\n",
       "  </thead>\n",
       "  <tbody>\n",
       "    <tr>\n",
       "      <th>b2315</th>\n",
       "      <td>folC</td>\n",
       "      <td>P08192</td>\n",
       "      <td>ECK2309</td>\n",
       "      <td>folC // b2315 // ECK2309 // dedC // EG10327 //...</td>\n",
       "      <td>2431674</td>\n",
       "      <td>2432942</td>\n",
       "      <td>52.388115</td>\n",
       "      <td>&lt;-</td>\n",
       "      <td>1269</td>\n",
       "      <td>dedC</td>\n",
       "      <td>...</td>\n",
       "      <td>WT</td>\n",
       "      <td>MIIKRTPQAASPLASWLSYLENLHSKTIDLGLERVSLVAARLGVLK...</td>\n",
       "      <td>9.236238</td>\n",
       "      <td>0.886205</td>\n",
       "      <td>4.143020e-02</td>\n",
       "      <td>8.509146e-03</td>\n",
       "      <td>1.271182e-03</td>\n",
       "      <td>1.381282e-04</td>\n",
       "      <td>1.091716e-05</td>\n",
       "      <td>6.276096e-07</td>\n",
       "    </tr>\n",
       "    <tr>\n",
       "      <th>b2303</th>\n",
       "      <td>folX</td>\n",
       "      <td>P0AC19</td>\n",
       "      <td>ECK2297</td>\n",
       "      <td>folX // b2303 // ECK2297 // G7195 // ABE-0007603</td>\n",
       "      <td>2421325</td>\n",
       "      <td>2421687</td>\n",
       "      <td>52.165157</td>\n",
       "      <td>-&gt;</td>\n",
       "      <td>363</td>\n",
       "      <td>NaN</td>\n",
       "      <td>...</td>\n",
       "      <td>WT</td>\n",
       "      <td>MAQPAAIIRIKNLRLRTFIGIKEEEINNRQDIVINVTIHYPADKAR...</td>\n",
       "      <td>8.877872</td>\n",
       "      <td>0.296899</td>\n",
       "      <td>2.055880e-09</td>\n",
       "      <td>1.178040e-14</td>\n",
       "      <td>3.959251e-21</td>\n",
       "      <td>7.804710e-29</td>\n",
       "      <td>9.023839e-38</td>\n",
       "      <td>6.119511e-48</td>\n",
       "    </tr>\n",
       "    <tr>\n",
       "      <th>b4179</th>\n",
       "      <td>rnr</td>\n",
       "      <td>P21499</td>\n",
       "      <td>ECK4175</td>\n",
       "      <td>rnr // b4179 // ECK4175 // vacB // yjeC // EG1...</td>\n",
       "      <td>4406654</td>\n",
       "      <td>4409095</td>\n",
       "      <td>94.937195</td>\n",
       "      <td>-&gt;</td>\n",
       "      <td>2442</td>\n",
       "      <td>vacB // yjeC</td>\n",
       "      <td>...</td>\n",
       "      <td>WT</td>\n",
       "      <td>MSQDPFQEREAEKYANPIPSREFILEHLTKREKPASRDELAVELHI...</td>\n",
       "      <td>8.623165</td>\n",
       "      <td>0.629814</td>\n",
       "      <td>3.611609e-02</td>\n",
       "      <td>3.406204e-03</td>\n",
       "      <td>1.710506e-04</td>\n",
       "      <td>4.573649e-06</td>\n",
       "      <td>6.511562e-08</td>\n",
       "      <td>4.936187e-10</td>\n",
       "    </tr>\n",
       "    <tr>\n",
       "      <th>b3709</th>\n",
       "      <td>tnaB</td>\n",
       "      <td>P23173</td>\n",
       "      <td>ECK3702</td>\n",
       "      <td>tnaB // b3709 // ECK3702 // tnaP // trpP // EG...</td>\n",
       "      <td>3890236</td>\n",
       "      <td>3891483</td>\n",
       "      <td>83.811455</td>\n",
       "      <td>-&gt;</td>\n",
       "      <td>1248</td>\n",
       "      <td>tnaP // trpP</td>\n",
       "      <td>...</td>\n",
       "      <td>N292K,-293E,-294G,-295A,-296N,-297K,-298R,-299...</td>\n",
       "      <td>MTDQAEKKHSAFWGVMVIAGTVIGGGMFALPVDLAGAWFFWGAFIL...</td>\n",
       "      <td>4.680486</td>\n",
       "      <td>0.577523</td>\n",
       "      <td>3.142244e-04</td>\n",
       "      <td>6.992029e-03</td>\n",
       "      <td>7.352586e-02</td>\n",
       "      <td>3.653848e-01</td>\n",
       "      <td>8.580931e-01</td>\n",
       "      <td>9.523397e-01</td>\n",
       "    </tr>\n",
       "    <tr>\n",
       "      <th>b1133</th>\n",
       "      <td>mnmA</td>\n",
       "      <td>P25745</td>\n",
       "      <td>ECK1119</td>\n",
       "      <td>mnmA // b1133 // ECK1119 // asuE // ycfB // tr...</td>\n",
       "      <td>1192667</td>\n",
       "      <td>1193773</td>\n",
       "      <td>25.694883</td>\n",
       "      <td>&lt;-</td>\n",
       "      <td>1107</td>\n",
       "      <td>asuE // ycfB // trmU</td>\n",
       "      <td>...</td>\n",
       "      <td>WT</td>\n",
       "      <td>MSETAKKVIVGMSGGVDSSVSAWLLQQQGYQVEGLFMKNWEEDDGE...</td>\n",
       "      <td>8.528992</td>\n",
       "      <td>0.569569</td>\n",
       "      <td>2.723667e-02</td>\n",
       "      <td>1.755350e-03</td>\n",
       "      <td>5.234703e-05</td>\n",
       "      <td>7.223361e-07</td>\n",
       "      <td>4.612170e-09</td>\n",
       "      <td>1.362668e-11</td>\n",
       "    </tr>\n",
       "    <tr>\n",
       "      <th>...</th>\n",
       "      <td>...</td>\n",
       "      <td>...</td>\n",
       "      <td>...</td>\n",
       "      <td>...</td>\n",
       "      <td>...</td>\n",
       "      <td>...</td>\n",
       "      <td>...</td>\n",
       "      <td>...</td>\n",
       "      <td>...</td>\n",
       "      <td>...</td>\n",
       "      <td>...</td>\n",
       "      <td>...</td>\n",
       "      <td>...</td>\n",
       "      <td>...</td>\n",
       "      <td>...</td>\n",
       "      <td>...</td>\n",
       "      <td>...</td>\n",
       "      <td>...</td>\n",
       "      <td>...</td>\n",
       "      <td>...</td>\n",
       "      <td>...</td>\n",
       "    </tr>\n",
       "    <tr>\n",
       "      <th>b1672</th>\n",
       "      <td>ydhW</td>\n",
       "      <td>P77564</td>\n",
       "      <td>ECK1668</td>\n",
       "      <td>ydhW // b1672 // ECK1668 // G6900 // ABE-0005585</td>\n",
       "      <td>1751077</td>\n",
       "      <td>1751724</td>\n",
       "      <td>37.725296</td>\n",
       "      <td>&lt;-</td>\n",
       "      <td>648</td>\n",
       "      <td>NaN</td>\n",
       "      <td>...</td>\n",
       "      <td>WT</td>\n",
       "      <td>MGKMNHQDELPLAKVSEVDEAKRQWLQGMRHPVDTVTEPEPAEILA...</td>\n",
       "      <td>8.842061</td>\n",
       "      <td>0.395277</td>\n",
       "      <td>1.923834e-05</td>\n",
       "      <td>2.380315e-08</td>\n",
       "      <td>5.945721e-12</td>\n",
       "      <td>2.998318e-16</td>\n",
       "      <td>3.052489e-21</td>\n",
       "      <td>6.273842e-27</td>\n",
       "    </tr>\n",
       "    <tr>\n",
       "      <th>b0645</th>\n",
       "      <td>ybeR</td>\n",
       "      <td>P77627</td>\n",
       "      <td>ECK0638</td>\n",
       "      <td>ybeR // b0645 // ECK0638 // G6352 // ABE-0002208</td>\n",
       "      <td>676711</td>\n",
       "      <td>677418</td>\n",
       "      <td>14.579098</td>\n",
       "      <td>-&gt;</td>\n",
       "      <td>708</td>\n",
       "      <td>NaN</td>\n",
       "      <td>...</td>\n",
       "      <td>WT</td>\n",
       "      <td>MDMESQKILFALSTPMEIRNECCLPSHSSPKMYLGTCFFDLSSSWG...</td>\n",
       "      <td>3.964513</td>\n",
       "      <td>0.924912</td>\n",
       "      <td>4.582563e-03</td>\n",
       "      <td>2.334348e-02</td>\n",
       "      <td>8.877784e-02</td>\n",
       "      <td>2.520726e-01</td>\n",
       "      <td>5.343533e-01</td>\n",
       "      <td>8.456944e-01</td>\n",
       "    </tr>\n",
       "    <tr>\n",
       "      <th>b4506</th>\n",
       "      <td>ykgO</td>\n",
       "      <td>Q2EEQ2</td>\n",
       "      <td>ECK0295</td>\n",
       "      <td>ykgO // b4506 // ECK0295 // G0-10434 // ABE-02...</td>\n",
       "      <td>312374</td>\n",
       "      <td>312514</td>\n",
       "      <td>6.729803</td>\n",
       "      <td>&lt;-</td>\n",
       "      <td>141</td>\n",
       "      <td>NaN</td>\n",
       "      <td>...</td>\n",
       "      <td>x</td>\n",
       "      <td>MKVLNSLRTAKERHPDCQIVKRKGRLYVICKSNPRFKAVQGRKKKR</td>\n",
       "      <td>9.398594</td>\n",
       "      <td>0.922398</td>\n",
       "      <td>3.401306e-02</td>\n",
       "      <td>7.172447e-03</td>\n",
       "      <td>1.127400e-03</td>\n",
       "      <td>1.320925e-04</td>\n",
       "      <td>1.153633e-05</td>\n",
       "      <td>7.510104e-07</td>\n",
       "    </tr>\n",
       "    <tr>\n",
       "      <th>b0225</th>\n",
       "      <td>yafQ</td>\n",
       "      <td>Q47149</td>\n",
       "      <td>ECK0226</td>\n",
       "      <td>yafQ // b0225 // ECK0226 // G6109 // ABE-0000761</td>\n",
       "      <td>245961</td>\n",
       "      <td>246239</td>\n",
       "      <td>5.298997</td>\n",
       "      <td>&lt;-</td>\n",
       "      <td>279</td>\n",
       "      <td>NaN</td>\n",
       "      <td>...</td>\n",
       "      <td>WT</td>\n",
       "      <td>MIQRDIEYSGQYSKDVKLAQKRHKDMNKLKYLMTLLINNTLPLPAV...</td>\n",
       "      <td>8.937675</td>\n",
       "      <td>0.788672</td>\n",
       "      <td>4.889197e-02</td>\n",
       "      <td>8.423622e-03</td>\n",
       "      <td>9.709689e-04</td>\n",
       "      <td>7.487847e-05</td>\n",
       "      <td>3.863258e-06</td>\n",
       "      <td>1.333508e-07</td>\n",
       "    </tr>\n",
       "    <tr>\n",
       "      <th>b1615</th>\n",
       "      <td>uidC</td>\n",
       "      <td>Q47706</td>\n",
       "      <td>ECK1610</td>\n",
       "      <td>uidC // b1615 // ECK1610 // gusC // G6866 // A...</td>\n",
       "      <td>1691586</td>\n",
       "      <td>1692851</td>\n",
       "      <td>36.443623</td>\n",
       "      <td>&lt;-</td>\n",
       "      <td>1266</td>\n",
       "      <td>gusC</td>\n",
       "      <td>...</td>\n",
       "      <td>WT</td>\n",
       "      <td>MRKIVAMAVICLTAASGLTSAYAAQLADDEAGLRIRLKNELRRADK...</td>\n",
       "      <td>4.886835</td>\n",
       "      <td>0.796407</td>\n",
       "      <td>2.959357e-02</td>\n",
       "      <td>1.285502e-01</td>\n",
       "      <td>3.765023e-01</td>\n",
       "      <td>7.435015e-01</td>\n",
       "      <td>9.899553e-01</td>\n",
       "      <td>8.887277e-01</td>\n",
       "    </tr>\n",
       "  </tbody>\n",
       "</table>\n",
       "<p>76 rows × 104 columns</p>\n",
       "</div>"
      ],
      "text/plain": [
       "            Gene Name UNIPROT Accession 2  \\\n",
       "Accession 1                                 \n",
       "b2315            folC  P08192     ECK2309   \n",
       "b2303            folX  P0AC19     ECK2297   \n",
       "b4179             rnr  P21499     ECK4175   \n",
       "b3709            tnaB  P23173     ECK3702   \n",
       "b1133            mnmA  P25745     ECK1119   \n",
       "...               ...     ...         ...   \n",
       "b1672            ydhW  P77564     ECK1668   \n",
       "b0645            ybeR  P77627     ECK0638   \n",
       "b4506            ykgO  Q2EEQ2     ECK0295   \n",
       "b0225            yafQ  Q47149     ECK0226   \n",
       "b1615            uidC  Q47706     ECK1610   \n",
       "\n",
       "                                              All Names Concat  \\\n",
       "Accession 1                                                      \n",
       "b2315        folC // b2315 // ECK2309 // dedC // EG10327 //...   \n",
       "b2303         folX // b2303 // ECK2297 // G7195 // ABE-0007603   \n",
       "b4179        rnr // b4179 // ECK4175 // vacB // yjeC // EG1...   \n",
       "b3709        tnaB // b3709 // ECK3702 // tnaP // trpP // EG...   \n",
       "b1133        mnmA // b1133 // ECK1119 // asuE // ycfB // tr...   \n",
       "...                                                        ...   \n",
       "b1672         ydhW // b1672 // ECK1668 // G6900 // ABE-0005585   \n",
       "b0645         ybeR // b0645 // ECK0638 // G6352 // ABE-0002208   \n",
       "b4506        ykgO // b4506 // ECK0295 // G0-10434 // ABE-02...   \n",
       "b0225         yafQ // b0225 // ECK0226 // G6109 // ABE-0000761   \n",
       "b1615        uidC // b1615 // ECK1610 // gusC // G6866 // A...   \n",
       "\n",
       "             Left End Position  Right End Position  Centisome Position  \\\n",
       "Accession 1                                                              \n",
       "b2315                  2431674             2432942           52.388115   \n",
       "b2303                  2421325             2421687           52.165157   \n",
       "b4179                  4406654             4409095           94.937195   \n",
       "b3709                  3890236             3891483           83.811455   \n",
       "b1133                  1192667             1193773           25.694883   \n",
       "...                        ...                 ...                 ...   \n",
       "b1672                  1751077             1751724           37.725296   \n",
       "b0645                   676711              677418           14.579098   \n",
       "b4506                   312374              312514            6.729803   \n",
       "b0225                   245961              246239            5.298997   \n",
       "b1615                  1691586             1692851           36.443623   \n",
       "\n",
       "            Direction Length (bp)              Synonyms  ...  \\\n",
       "Accession 1                                              ...   \n",
       "b2315              <-        1269                  dedC  ...   \n",
       "b2303              ->         363                   NaN  ...   \n",
       "b4179              ->        2442          vacB // yjeC  ...   \n",
       "b3709              ->        1248          tnaP // trpP  ...   \n",
       "b1133              <-        1107  asuE // ycfB // trmU  ...   \n",
       "...               ...         ...                   ...  ...   \n",
       "b1672              <-         648                   NaN  ...   \n",
       "b0645              ->         708                   NaN  ...   \n",
       "b4506              <-         141                   NaN  ...   \n",
       "b0225              <-         279                   NaN  ...   \n",
       "b1615              <-        1266                  gusC  ...   \n",
       "\n",
       "            sequence difference in MG1655 from W3110 (increased thermotolerance)  \\\n",
       "Accession 1                                                                        \n",
       "b2315                                                       WT                     \n",
       "b2303                                                       WT                     \n",
       "b4179                                                       WT                     \n",
       "b3709        N292K,-293E,-294G,-295A,-296N,-297K,-298R,-299...                     \n",
       "b1133                                                       WT                     \n",
       "...                                                        ...                     \n",
       "b1672                                                       WT                     \n",
       "b0645                                                       WT                     \n",
       "b4506                                                        x                     \n",
       "b0225                                                       WT                     \n",
       "b1615                                                       WT                     \n",
       "\n",
       "                                                      sequence esm2_pH_opt  \\\n",
       "Accession 1                                                                  \n",
       "b2315        MIIKRTPQAASPLASWLSYLENLHSKTIDLGLERVSLVAARLGVLK...    9.236238   \n",
       "b2303        MAQPAAIIRIKNLRLRTFIGIKEEEINNRQDIVINVTIHYPADKAR...    8.877872   \n",
       "b4179        MSQDPFQEREAEKYANPIPSREFILEHLTKREKPASRDELAVELHI...    8.623165   \n",
       "b3709        MTDQAEKKHSAFWGVMVIAGTVIGGGMFALPVDLAGAWFFWGAFIL...    4.680486   \n",
       "b1133        MSETAKKVIVGMSGGVDSSVSAWLLQQQGYQVEGLFMKNWEEDDGE...    8.528992   \n",
       "...                                                        ...         ...   \n",
       "b1672        MGKMNHQDELPLAKVSEVDEAKRQWLQGMRHPVDTVTEPEPAEILA...    8.842061   \n",
       "b0645        MDMESQKILFALSTPMEIRNECCLPSHSSPKMYLGTCFFDLSSSWG...    3.964513   \n",
       "b4506           MKVLNSLRTAKERHPDCQIVKRKGRLYVICKSNPRFKAVQGRKKKR    9.398594   \n",
       "b0225        MIQRDIEYSGQYSKDVKLAQKRHKDMNKLKYLMTLLINNTLPLPAV...    8.937675   \n",
       "b1615        MRKIVAMAVICLTAASGLTSAYAAQLADDEAGLRIRLKNELRRADK...    4.886835   \n",
       "\n",
       "            esm2_pH_std esm2_act_pH_7.0 esm2_act_pH_6.5 esm2_act_pH_6.0  \\\n",
       "Accession 1                                                               \n",
       "b2315          0.886205    4.143020e-02    8.509146e-03    1.271182e-03   \n",
       "b2303          0.296899    2.055880e-09    1.178040e-14    3.959251e-21   \n",
       "b4179          0.629814    3.611609e-02    3.406204e-03    1.710506e-04   \n",
       "b3709          0.577523    3.142244e-04    6.992029e-03    7.352586e-02   \n",
       "b1133          0.569569    2.723667e-02    1.755350e-03    5.234703e-05   \n",
       "...                 ...             ...             ...             ...   \n",
       "b1672          0.395277    1.923834e-05    2.380315e-08    5.945721e-12   \n",
       "b0645          0.924912    4.582563e-03    2.334348e-02    8.877784e-02   \n",
       "b4506          0.922398    3.401306e-02    7.172447e-03    1.127400e-03   \n",
       "b0225          0.788672    4.889197e-02    8.423622e-03    9.709689e-04   \n",
       "b1615          0.796407    2.959357e-02    1.285502e-01    3.765023e-01   \n",
       "\n",
       "            esm2_act_pH_5.5 esm2_act_pH_5.0 esm2_act_pH_4.5  \n",
       "Accession 1                                                  \n",
       "b2315          1.381282e-04    1.091716e-05    6.276096e-07  \n",
       "b2303          7.804710e-29    9.023839e-38    6.119511e-48  \n",
       "b4179          4.573649e-06    6.511562e-08    4.936187e-10  \n",
       "b3709          3.653848e-01    8.580931e-01    9.523397e-01  \n",
       "b1133          7.223361e-07    4.612170e-09    1.362668e-11  \n",
       "...                     ...             ...             ...  \n",
       "b1672          2.998318e-16    3.052489e-21    6.273842e-27  \n",
       "b0645          2.520726e-01    5.343533e-01    8.456944e-01  \n",
       "b4506          1.320925e-04    1.153633e-05    7.510104e-07  \n",
       "b0225          7.487847e-05    3.863258e-06    1.333508e-07  \n",
       "b1615          7.435015e-01    9.899553e-01    8.887277e-01  \n",
       "\n",
       "[76 rows x 104 columns]"
      ]
     },
     "execution_count": 42,
     "metadata": {},
     "output_type": "execute_result"
    }
   ],
   "source": [
    "df_to_pred[df_to_pred[\"esm2_act_pH_7.0\"] < 0.05]"
   ]
  },
  {
   "cell_type": "code",
   "execution_count": 44,
   "id": "0cb20bbc-6763-4b06-96d3-7fb742448554",
   "metadata": {},
   "outputs": [
    {
     "data": {
      "text/plain": [
       "Text(0.5, 0.98, 'Proteins with < 5% activity at pH 7 (N=76)')"
      ]
     },
     "execution_count": 44,
     "metadata": {},
     "output_type": "execute_result"
    },
    {
     "data": {
      "image/png": "[encoded data removed]",
      "text/plain": [
       "<Figure size 640x480 with 4 Axes>"
      ]
     },
     "metadata": {},
     "output_type": "display_data"
    }
   ],
   "source": [
    "df_to_pred[df_to_pred[\"esm2_act_pH_7.0\"] < 0.05][[\"esm2_pH_opt\", \"esm2_pH_std\", \"esm2_act_pH_7.0\"]].hist()\n",
    "plt.suptitle(f\"Proteins with < 5% activity at pH 7 (N={len(df_to_pred[df_to_pred['esm2_act_pH_7.0'] < 0.05])})\")"
   ]
  },
  {
   "cell_type": "code",
   "execution_count": 46,
   "id": "47966c91-4714-4027-aa3b-0caa8a32f5c7",
   "metadata": {},
   "outputs": [
    {
     "data": {
      "text/plain": [
       "Text(0.5, 1.0, 'Proteins with < 5% activity at pH 7 (N=76)')"
      ]
     },
     "execution_count": 46,
     "metadata": {},
     "output_type": "execute_result"
    },
    {
     "data": {
      "image/png": "[encoded data removed]",
      "text/plain": [
       "<Figure size 640x480 with 1 Axes>"
      ]
     },
     "metadata": {},
     "output_type": "display_data"
    }
   ],
   "source": [
    "low_act = df_to_pred[df_to_pred[\"esm2_act_pH_7.0\"] < 0.05]\n",
    "low_act.plot.scatter(\"esm2_pH_opt\", \"esm2_pH_std\")\n",
    "plt.title(f\"Proteins with < 5% activity at pH 7 (N={len(df_to_pred[df_to_pred['esm2_act_pH_7.0'] < 0.05])})\")"
   ]
  },
  {
   "cell_type": "code",
   "execution_count": null,
   "id": "aeed26b6-8d36-4125-b6be-29e9b5e357f4",
   "metadata": {},
   "outputs": [],
   "source": [
    "def plot_ph_curve(pred_mean, pred_std, ax=None):\n",
    "    if ax is None:\n",
    "        f, ax = plt.subplots(figsize=(3,3))\n",
    "    # get the predicted activity over all ph values\n",
    "    all_ph_vals = np.arange(1, 13.5, 0.1)\n",
    "    pred_act = gaus(all_ph_vals, df2.fit_mean.values[0], df2.fit_std.values[0])\n",
    "    \n",
    "    # limit the predicted activity to min_ph -1 and max_ph +1\n",
    "    df = pd.DataFrame({'ph': all_ph_vals, 'activity': pred_act})\n",
    "    # df['reaction_type'] = r_type\n",
    "    # ph_min = min(df_act_u.ph.min() - 1, 5.5)\n",
    "    # ph_max = max(df_act_u.ph.max() + 1, 8.5)\n",
    "    ph_min, ph_max = \n",
    "    df_pred_act_u_cat = df_pred_act_u_cat[(df_pred_act_u_cat.ph >= ph_min) & \n",
    "                                          (df_pred_act_u_cat.ph <= ph_max)]"
   ]
  },
  {
   "cell_type": "code",
   "execution_count": 12,
   "id": "1bfd9fd4-0950-4cbb-baca-9d322e2f1ff9",
   "metadata": {},
   "outputs": [
    {
     "name": "stdout",
     "output_type": "stream",
     "text": [
      "[('MSGEEEKAADFYVRYYVGHKGKFGHEFLEFEFRPNGSLRYANNSNYKNDTMIRKEATVSESVLSELKRIIEDSEIMQEDDDNWPEPDKIGRQELEILYKNEHISFTTGKIGALADVNNSKDPDGLRSFYYLVQDLKCLVFSLIGLHFKIKPI', 0), ('MSMGSDFYLRYYVGHKGKFGHEFLEFEFRPDGKLRYANNSNYKNDVMIRKEAYVHKSVMEELKRIIDDSEITKEDDALWPPPDRVGRQELEIVIGDEHISFTTSKIGSLIDVNQSKDPEGLRVFYYLVQDLKCLVFSLIGLHFKIKPI', 1)]\n"
     ]
    }
   ],
   "source": [
    "# seq_idx = {seq: idx for idx, seq in df_seq.sequence.items\n",
    "seq_idx = dict(zip(df_seq.sequence, df_seq.index))\n",
    "print(list(seq_idx.items())[:2])"
   ]
  }
 ],
 "metadata": {
  "kernelspec": {
   "display_name": "Python 3 (ipykernel)",
   "language": "python",
   "name": "python3"
  },
  "language_info": {
   "codemirror_mode": {
    "name": "ipython",
    "version": 3
   },
   "file_extension": ".py",
   "mimetype": "text/x-python",
   "name": "python",
   "nbconvert_exporter": "python",
   "pygments_lexer": "ipython3",
   "version": "3.10.8"
  }
 },
 "nbformat": 4,
 "nbformat_minor": 5
}
