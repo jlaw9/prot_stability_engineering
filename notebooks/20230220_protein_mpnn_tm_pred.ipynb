{
 "cells": [
  {
   "cell_type": "markdown",
   "id": "9885fc54-add0-47e1-84de-aebcd5ae4941",
   "metadata": {},
   "source": [
    "## Predict Tm using embeddings from ProteinMPNN\n",
    "- Then see if combining esm2 embeddings with proteinMPNN will further improve things"
   ]
  },
  {
   "cell_type": "markdown",
   "id": "32cec133-5bb7-46d1-b310-376c963edc59",
   "metadata": {},
   "source": [
    "### First download structures for each protein"
   ]
  },
  {
   "cell_type": "code",
   "execution_count": 5,
   "id": "aadc1577-7581-440d-8b91-0cc6b476b7b2",
   "metadata": {},
   "outputs": [],
   "source": [
    "import json, time, os, sys, glob, re\n",
    "import pickle\n",
    "import pandas as pd\n",
    "import numpy as np\n",
    "from pathlib import Path\n",
    "from tqdm.auto import tqdm, trange\n",
    "tqdm.pandas()\n",
    "\n",
    "# git clone https://github.com/dauparas/ProteinMPNN.git\"\n",
    "# add to path\n",
    "base_dir = \"/projects/bpms/jlaw/tools/ProteinMPNN\"\n",
    "sys.path.append(base_dir)\n",
    "\n",
    "import matplotlib.pyplot as plt\n",
    "import seaborn as sns\n",
    "\n",
    "%matplotlib inline"
   ]
  },
  {
   "cell_type": "code",
   "execution_count": 153,
   "id": "4d50cf81-3de3-4567-a3ee-e6e065274bd5",
   "metadata": {},
   "outputs": [
    {
     "name": "stdout",
     "output_type": "stream",
     "text": [
      "Number of edges: 48\n",
      "Training noise level: 0.1A\n",
      "Model loaded\n"
     ]
    }
   ],
   "source": [
    "# Setup Model\n",
    "import warnings\n",
    "import torch\n",
    "from torch import optim\n",
    "from torch.utils.data import DataLoader\n",
    "from torch.utils.data.dataset import random_split, Subset\n",
    "import copy\n",
    "import torch.nn as nn\n",
    "import torch.nn.functional as F\n",
    "import random\n",
    "import os.path\n",
    "from protein_mpnn_utils import loss_nll, loss_smoothed, gather_edges, gather_nodes, gather_nodes_t, cat_neighbors_nodes, _scores, _S_to_seq, tied_featurize, parse_PDB\n",
    "from protein_mpnn_utils import StructureDataset, StructureDatasetPDB, StructureLoader, ProteinMPNN\n",
    "\n",
    "device = torch.device(\"cuda:0\" if (torch.cuda.is_available()) else \"cpu\")\n",
    "#v_48_010=version with 48 edges 0.10A noise\n",
    "model_name = \"v_48_010\" #@param [\"v_48_002\", \"v_48_010\", \"v_48_020\", \"v_48_030\"]\n",
    "\n",
    "# Standard deviation of Gaussian noise to add to backbone atoms\n",
    "backbone_noise=0.0  \n",
    "\n",
    "path_to_model_weights = f'{base_dir}/vanilla_model_weights'          \n",
    "hidden_dim = 128\n",
    "num_layers = 3 \n",
    "model_folder_path = path_to_model_weights\n",
    "if model_folder_path[-1] != '/':\n",
    "    model_folder_path = model_folder_path + '/'\n",
    "checkpoint_path = model_folder_path + f'{model_name}.pt'\n",
    "\n",
    "checkpoint = torch.load(checkpoint_path, map_location=device) \n",
    "print('Number of edges:', checkpoint['num_edges'])\n",
    "noise_level_print = checkpoint['noise_level']\n",
    "print(f'Training noise level: {noise_level_print}A')\n",
    "model = ProteinMPNN(num_letters=21, node_features=hidden_dim, edge_features=hidden_dim, hidden_dim=hidden_dim, num_encoder_layers=num_layers, num_decoder_layers=num_layers, augment_eps=backbone_noise, k_neighbors=checkpoint['num_edges'])\n",
    "model.to(device)\n",
    "model.load_state_dict(checkpoint['model_state_dict'])\n",
    "model.eval()\n",
    "print(\"Model loaded\")"
   ]
  },
  {
   "cell_type": "code",
   "execution_count": 3,
   "id": "3a1e0317-574a-41ff-8b1e-8c4a24f78732",
   "metadata": {},
   "outputs": [],
   "source": [
    "inputs_dir = Path(\"/projects/robustmicrob/jlaw/inputs/\")"
   ]
  },
  {
   "cell_type": "markdown",
   "id": "cdce7356-e50b-4e9b-8bd4-7b0b940e44d7",
   "metadata": {},
   "source": [
    "### Extracting ProteinMPNN Embeddings"
   ]
  },
  {
   "cell_type": "code",
   "execution_count": 46,
   "id": "dfaa762c-52df-4fda-954d-61987f783740",
   "metadata": {},
   "outputs": [
    {
     "name": "stdout",
     "output_type": "stream",
     "text": [
      "3046 read from /projects/robustmicrob/jlaw/inputs/structures/UP000000589_10090_MOUSE_v4.p\n",
      "1565 read from /projects/robustmicrob/jlaw/inputs/structures/UP000002311_559292_YEAST_v4.p\n",
      "5218 read from /projects/robustmicrob/jlaw/inputs/structures/UP000005640_9606_HUMAN_v4.p\n",
      "5786 read from /projects/robustmicrob/jlaw/inputs/structures/meltome_processed.p\n",
      "963 read from /projects/robustmicrob/jlaw/inputs/structures/UP000000803_7227_DROME_v4.p\n",
      "1985 read from /projects/robustmicrob/jlaw/inputs/structures/UP000001940_6239_CAEEL_v4.p\n",
      "1478 read from /projects/robustmicrob/jlaw/inputs/structures/UP000000625_83333_ECOLI_v4.p\n",
      "55 read from /projects/robustmicrob/jlaw/inputs/structures/UP000000437_7955_DANRE_v4.p\n",
      "1569 read from /projects/robustmicrob/jlaw/inputs/structures/UP000006548_3702_ARATH_v4.p\n",
      "21665\n"
     ]
    }
   ],
   "source": [
    "meltome_structures = {}\n",
    "for pickle_file in glob.glob(f\"{inputs_dir}/structures/*.p\"):\n",
    "    structures = pickle.load(open(pickle_file, 'rb'))\n",
    "    print(f\"{len(structures)} read from {pickle_file}\")\n",
    "    if 'meltome_processed.p' in pickle_file:\n",
    "        structures = {os.path.basename(file_path).split('-')[1]: x \n",
    "                      for file_path, x in structures.items()}\n",
    "    meltome_structures.update(structures)\n",
    "print(len(meltome_structures))"
   ]
  },
  {
   "cell_type": "code",
   "execution_count": 54,
   "id": "aaa842fd-2e2b-40a5-b221-4ec8b3585663",
   "metadata": {},
   "outputs": [],
   "source": [
    "pdb_dict_list = []\n",
    "for u_id, dict_list in meltome_structures.items():\n",
    "    pdb_dict = dict_list[0]\n",
    "    pdb_dict['uniprot_id'] = u_id\n",
    "    pdb_dict['name'] = u_id\n",
    "    pdb_dict_list.append(pdb_dict)"
   ]
  },
  {
   "cell_type": "code",
   "execution_count": 21,
   "id": "eae53a31-00c6-4620-aceb-9471d906a6a1",
   "metadata": {},
   "outputs": [
    {
     "data": {
      "text/plain": [
       "21665"
      ]
     },
     "execution_count": 21,
     "metadata": {},
     "output_type": "execute_result"
    }
   ],
   "source": [
    "len(pdb_dict_list)"
   ]
  },
  {
   "cell_type": "code",
   "execution_count": 22,
   "id": "e95ac86a-084d-44ce-8a81-6357296f2300",
   "metadata": {},
   "outputs": [
    {
     "data": {
      "text/plain": [
       "{'seq_chain_A'}"
      ]
     },
     "execution_count": 22,
     "metadata": {},
     "output_type": "execute_result"
    }
   ],
   "source": [
    "set(key for pdb_dict in pdb_dict_list for key in pdb_dict.keys() if 'seq_chain' in key)"
   ]
  },
  {
   "cell_type": "code",
   "execution_count": 10,
   "id": "955700c2-5540-468c-9a9a-128921501c9a",
   "metadata": {},
   "outputs": [],
   "source": [
    "max_length = 5000\n",
    "# number of tokens for one batch\n",
    "# batch_size = 10000\n",
    "# batch_size = 5000\n",
    "batch_size = 5000"
   ]
  },
  {
   "cell_type": "code",
   "execution_count": 11,
   "id": "3a92e012-2b36-494e-9c03-781b6097c96b",
   "metadata": {},
   "outputs": [],
   "source": [
    "alphabet = 'ACDEFGHIKLMNPQRSTVWYX'\n",
    "\n",
    "chain_id_dict = None\n",
    "fixed_positions_dict = None\n",
    "pssm_dict = None\n",
    "omit_AA_dict = None\n",
    "bias_AA_dict = None\n",
    "tied_positions_dict = None\n",
    "bias_by_res_dict = None\n",
    "bias_AAs_np = np.zeros(len(alphabet))"
   ]
  },
  {
   "cell_type": "code",
   "execution_count": 12,
   "id": "3a05b3d1-d3c2-441f-88b5-33f418ce5812",
   "metadata": {},
   "outputs": [],
   "source": [
    "def my_featurize(batch, device):\n",
    "    homomer = False #@param {type:\"boolean\"}\n",
    "    designed_chain = \"A\" #@param {type:\"string\"}\n",
    "    fixed_chain = \"\" #@param {type:\"string\"}\n",
    "\n",
    "    designed_chain_list = [\"A\"]\n",
    "    fixed_chain_list = []\n",
    "    chain_list = list(set(designed_chain_list + fixed_chain_list))\n",
    "\n",
    "    chain_id_dict = {pdb_dict['name']: (designed_chain_list, fixed_chain_list) for pdb_dict in batch}\n",
    "    tied_positions_dict = None\n",
    "\n",
    "    X, S, mask, lengths, chain_M, chain_encoding_all, chain_list_list, \\\n",
    "    visible_list_list, masked_list_list, masked_chain_length_list_list, \\\n",
    "    chain_M_pos, omit_AA_mask, residue_idx, dihedral_mask, \\\n",
    "    tied_pos_list_of_lists_list, pssm_coef, pssm_bias, pssm_log_odds_all, \\\n",
    "    bias_by_res_all, tied_beta = \\\n",
    "        protein_mpnn_utils.tied_featurize(\n",
    "    batch, device, chain_id_dict, fixed_positions_dict, omit_AA_dict, \\\n",
    "    tied_positions_dict, pssm_dict, bias_by_res_dict)\n",
    "    \n",
    "    return X, S, mask, lengths, chain_M, chain_M_pos, residue_idx, chain_encoding_all"
   ]
  },
  {
   "cell_type": "code",
   "execution_count": 23,
   "id": "a328d85f-52a6-4637-a7b4-af8b15823868",
   "metadata": {},
   "outputs": [
    {
     "name": "stdout",
     "output_type": "stream",
     "text": [
      "21665 21665\n"
     ]
    }
   ],
   "source": [
    "# create the dataset objects\n",
    "dataset = StructureDatasetPDB(pdb_dict_list, truncate=None, max_length=max_length)\n",
    "loader = StructureLoader(dataset, batch_size=batch_size)\n",
    "seq_ids = [b['uniprot_id'] for batch in loader for b in batch]\n",
    "print(len(pdb_dict_list), len(seq_ids))"
   ]
  },
  {
   "cell_type": "code",
   "execution_count": 47,
   "id": "35c30027-2130-43a4-a670-2fe2bb7b2251",
   "metadata": {},
   "outputs": [],
   "source": [
    "uniprot_to_seq = {pdb_dict['uniprot_id']: pdb_dict['seq'] \n",
    "                  for pdb_dict in pdb_dict_list}\n",
    "seqs = [uniprot_to_seq[u_id] for u_id in seq_ids]"
   ]
  },
  {
   "cell_type": "code",
   "execution_count": 55,
   "id": "7d8bcff0-246b-4ba7-a6dd-ffd27538a493",
   "metadata": {},
   "outputs": [],
   "source": [
    "seq_to_uniprot = {pdb_dict['seq']: pdb_dict['uniprot_id'] \n",
    "                  for pdb_dict in pdb_dict_list}\n",
    "seq_ids = [seq_to_uniprot[u_id] for u_id in seqs]"
   ]
  },
  {
   "cell_type": "code",
   "execution_count": 24,
   "id": "d023a07d-c47f-4c34-bb8d-3ab4b02a6d58",
   "metadata": {},
   "outputs": [
    {
     "data": {
      "application/vnd.jupyter.widget-view+json": {
       "model_id": "83fe94a4dd854c75a5328409caeecca4",
       "version_major": 2,
       "version_minor": 0
      },
      "text/plain": [
       "  0%|          | 0/2046 [00:00<?, ?it/s]"
      ]
     },
     "metadata": {},
     "output_type": "display_data"
    }
   ],
   "source": [
    "# Build the embeddings by taking the last layer before log_probs\n",
    "representations = []\n",
    "seqs = []\n",
    "with torch.no_grad():\n",
    "    for batch in tqdm(loader):\n",
    "        start_batch = time.time()\n",
    "        X, S, mask, lengths, chain_M, chain_M_pos, residue_idx, chain_encoding_all = my_featurize(batch, device)\n",
    "        randn_1 = torch.randn(chain_M.shape, device=X.device)\n",
    "        log_probs, h_V = model(X, S, mask, chain_M*chain_M_pos, residue_idx, chain_encoding_all, randn_1, return_embedding=True)\n",
    "        h_V = h_V.detach().to('cpu').numpy()\n",
    "        \n",
    "        for i in range(len(batch)):\n",
    "            representations += [h_V[i, :len(batch[i]['seq'])].mean(0).astype(np.float16)]\n",
    "            seqs += [(batch[i]['uniprot_id'],batch[i]['seq'])]\n",
    "\n",
    "representations = np.vstack(representations)"
   ]
  },
  {
   "cell_type": "code",
   "execution_count": 58,
   "id": "702af6fe-699f-4199-8b74-e48b05283171",
   "metadata": {},
   "outputs": [
    {
     "name": "stdout",
     "output_type": "stream",
     "text": [
      "Writing embeddings to /projects/robustmicrob/jlaw/inputs/structures/embeddings/20230221_embeddings_v_48_010.npz\n"
     ]
    }
   ],
   "source": [
    "# write the representations to file\n",
    "out_file = f\"{inputs_dir}/structures/embeddings/20230221_embeddings_{model_name}.npz\"\n",
    "print(f\"Writing embeddings to {out_file}\")\n",
    "os.makedirs(os.path.dirname(out_file), exist_ok=True)\n",
    "np.savez(out_file, representations)\n",
    "with open(out_file.replace('.npz','.csv'), 'w') as out:\n",
    "    out.write('\\n'.join([f\"{seq_to_uniprot[seq]},{seq}\" for seq in seqs]) + '\\n')"
   ]
  },
  {
   "cell_type": "code",
   "execution_count": null,
   "id": "1368d46e-b9a8-4366-a39b-c88ed44aba57",
   "metadata": {},
   "outputs": [
    {
     "name": "stdout",
     "output_type": "stream",
     "text": [
      "10 9\n"
     ]
    }
   ],
   "source": [
    "# create the dataset objects\n",
    "dataset2 = StructureDatasetPDB(pdb_dict_list[:10], truncate=None, max_length=max_length)\n",
    "loader2 = StructureLoader(dataset2, batch_size=batch_size)\n",
    "print(len(pdb_dict_list[:10]), len(seqs2))"
   ]
  },
  {
   "cell_type": "code",
   "execution_count": null,
   "id": "dcd086ca-ba0f-44f7-bb2b-dfbf3341fa7f",
   "metadata": {},
   "outputs": [
    {
     "data": {
      "application/vnd.jupyter.widget-view+json": {
       "model_id": "",
       "version_major": 2,
       "version_minor": 0
      },
      "text/plain": [
       "  0%|          | 0/2 [00:00<?, ?it/s]"
      ]
     },
     "metadata": {},
     "output_type": "display_data"
    }
   ],
   "source": [
    "# Build the embeddings by taking the last layer before log_probs\n",
    "representations2 = []\n",
    "with torch.no_grad():\n",
    "    for batch in tqdm(loader2):\n",
    "        start_batch = time.time()\n",
    "        X, S, mask, lengths, chain_M, chain_M_pos, residue_idx, chain_encoding_all = my_featurize(batch, device)\n",
    "        randn_1 = torch.randn(chain_M.shape, device=X.device)\n",
    "        log_probs, h_V = model(X, S, mask, chain_M*chain_M_pos, residue_idx, chain_encoding_all, randn_1, return_embedding=True)\n",
    "        h_V = h_V.detach().to('cpu').numpy()\n",
    "        \n",
    "        for i in range(len(batch)):\n",
    "            representations2 += [h_V[i, :len(batch[i]['seq'])].mean(0).astype(np.float16)]\n",
    "            seqs2 += [batch[i]['seq']]\n",
    "\n",
    "representations2 = np.vstack(representations2)"
   ]
  },
  {
   "cell_type": "code",
   "execution_count": null,
   "id": "e2fd44be-9506-4f45-9299-ee0323fc6880",
   "metadata": {},
   "outputs": [
    {
     "data": {
      "text/plain": [
       "'MSRSTRSKERRENDTDSEDNSSETSNQERRRCRQGPPRPPYPPLLPPVFPPPTPPPQVRRTRGLQDLGAMKSVCPGTSGFSSPNPSAASAAAQEVRSATDGNTSTTPPTSAKKRKLNSSSSSSNSSNEREDFDSTSSSSTPPQPRDSASPSTSSFCLGVPVATSSHVPIQKKLRFEDTLEFVGIDTKMAEESSSSSSSSSPTAATSQQQQQQQLKTKSILISSVASVHHANGLAKSSTAVSSFANSKPGSAKKLVIKNFKDKPKLPENYTDETWQKLKEAVEAIQNSTSIKYNLEELYQAVENLCSHKISANLYKQLRQICEDHIKAQIHQFREDSLDSVLFLKKIDRCWQNHCRQMIMIRSIFLFLDRTYVLQNSMLPSIWDMGLELFRAHIISDQKVQTKTIDGILLLIERERNGEAIDRSLLRSLLSMLSDLQIYQDSFEQQFLQETNRLYAAEGQKLMQEREVPEYLHHVNKRLEEEADRLITYLDQTTQKSLIASVEKQLLGEHLTAILQKGLNSLLDENRIQDLSLLYQLFSRVRGGVQVLLQQWIEYIKAFGSTIVINPEKDKTMVQELLDFKDKVDHIIDTCFLKNEKFINAMKEAFETFINKRPNKPAELIAKYVDSKLRAGNKEATDEELEKMLDKIMIIFRFIYGKDVFEAFYKKDLAKRLLVGKSASVDAEKSMLSKLKHECGAAFTSKLEGMFKDMELSKDIMIQFKQYMQNQNVPGNIELTVNILTMGYWPTYVPMEVHLPPEMVKLQEIFKTFYLGKHSGRKLQWQSTLGHCVLKAEFKEGKKELQVSLFQTMVLLMFNEGEEFSLEEIKHATGIEDGELRRTLQSLACGKARVLAKNPKGKDIEDGDKFICNDDFKHKLFRIKINQIQMKETVEEQASTTERVFQDRQYQIDAAIVRIMKMRKTLSHNLLVSEVYNQLKFPVKPADLKKRIESLIDRDYMERDKENPNQYNYIA'"
      ]
     },
     "execution_count": 107,
     "metadata": {},
     "output_type": "execute_result"
    }
   ],
   "source": [
    "seqs2[0]"
   ]
  },
  {
   "cell_type": "code",
   "execution_count": null,
   "id": "d62d62f7-0157-448b-8c07-d66140bd1014",
   "metadata": {},
   "outputs": [
    {
     "data": {
      "text/plain": [
       "array([ 6.8998e-04,  9.1614e-02,  1.6711e-01,  1.8372e-02,  4.5471e-02,\n",
       "       -6.7177e-03,  2.0172e-02,  3.6774e-02, -3.5376e-01, -1.0223e-01,\n",
       "        5.8777e-02,  2.8412e-02, -2.2125e-02, -2.2559e-01, -4.7607e-02,\n",
       "       -4.3030e-02,  1.2903e-01,  1.2006e-01, -4.2816e-02, -1.9165e-01,\n",
       "       -4.0967e-01,  7.6027e-03,  3.2104e-02, -4.6021e-02, -6.0806e-03,\n",
       "        7.0190e-02,  1.5161e-01, -3.9215e-02, -3.9307e-02, -2.9419e-02,\n",
       "       -5.3223e-02, -5.0163e-03, -6.7940e-03,  9.8694e-02, -2.3132e-02,\n",
       "        1.3771e-03,  3.9886e-02, -7.6294e-02, -7.3242e-02, -1.0033e-02,\n",
       "       -4.8035e-02, -1.1420e-01,  1.5857e-01, -4.5128e-03, -2.8442e-02,\n",
       "        8.9783e-02,  9.8816e-02,  4.9515e-03,  3.1147e-03, -1.1896e-01,\n",
       "       -7.8857e-02, -6.8604e-02,  6.4941e-02,  1.6028e-01, -1.8677e-02,\n",
       "        1.5068e-02, -1.6711e-01,  4.1626e-02, -1.3000e-01, -4.9530e-02,\n",
       "       -1.0162e-01,  6.1737e-02,  3.0664e-01,  2.1191e-01, -8.0261e-02,\n",
       "       -4.9805e-02, -4.7241e-02, -1.2960e-03,  1.8143e-02, -5.2521e-02,\n",
       "       -3.3836e-03,  1.1084e-01,  4.3549e-02, -1.2610e-01,  1.0742e-02,\n",
       "       -1.2825e-02,  3.9101e-04, -2.4109e-02,  5.2277e-02,  7.0190e-02,\n",
       "        4.1284e-01, -5.5145e-02,  3.0403e-03,  1.6220e-02, -2.1820e-02,\n",
       "       -8.7463e-02,  1.0094e-02,  3.1982e-02,  9.7412e-02,  7.7438e-03,\n",
       "       -5.7037e-02, -7.6477e-02,  1.9299e-01,  5.5725e-02, -5.8380e-02,\n",
       "       -2.5122e-01, -3.8319e-03, -6.4514e-02, -6.8848e-02,  1.3293e-01,\n",
       "        1.4270e-01, -1.2146e-02, -9.1797e-02, -9.7809e-03, -1.4351e-02,\n",
       "       -1.9882e-02,  7.3059e-02, -2.9480e-02, -3.6316e-02, -2.9492e-01,\n",
       "        5.8258e-02,  8.2092e-02,  4.8004e-02,  7.4829e-02,  1.5961e-02,\n",
       "       -5.0690e-02,  2.2375e-01,  8.9798e-03,  1.0101e-02,  4.8401e-02,\n",
       "       -5.2490e-02, -2.2729e-01,  6.9153e-02,  1.3857e-03,  8.2520e-02,\n",
       "        3.3722e-02,  2.5681e-02, -1.4697e-01], dtype=float16)"
      ]
     },
     "execution_count": 108,
     "metadata": {},
     "output_type": "execute_result"
    }
   ],
   "source": [
    "representations2[0]"
   ]
  },
  {
   "cell_type": "code",
   "execution_count": 109,
   "id": "445378bd-a044-4f12-8a5e-fa788e31e89a",
   "metadata": {},
   "outputs": [
    {
     "data": {
      "text/plain": [
       "array([-0.04837  ,  0.0905   ,  0.08093  ,  0.003654 ,  0.02696  ,\n",
       "       -0.005497 ,  0.01802  , -0.0525   , -0.39     , -0.06235  ,\n",
       "        0.003477 , -0.0115   , -0.006016 , -0.0745   , -0.04755  ,\n",
       "       -0.0463   ,  0.1361   , -0.04825  ,  0.0004542, -0.1658   ,\n",
       "       -0.2576   ,  0.05072  ,  0.0411   , -0.033    , -0.006104 ,\n",
       "       -0.02608  , -0.004765 , -0.008606 , -0.01202  , -0.03912  ,\n",
       "        0.02258  , -0.00794  ,  0.013115 ,  0.04172  , -0.01683  ,\n",
       "        0.001449 , -0.00503  ,  0.04916  , -0.0941   ,  0.01602  ,\n",
       "       -0.0411   , -0.03226  ,  0.1548   ,  0.01109  , -0.0415   ,\n",
       "       -0.03506  ,  0.006298 ,  0.00911  ,  0.00306  , -0.08936  ,\n",
       "        0.09155  , -0.06088  , -0.015144 , -0.01247  ,  0.02469  ,\n",
       "        0.1049   , -0.2025   ,  0.0735   , -0.1001   , -0.05853  ,\n",
       "       -0.1985   , -0.00401  ,  0.1417   ,  0.02632  , -0.01086  ,\n",
       "        0.02335  , -0.012634 , -0.003706 , -0.05927  , -0.03796  ,\n",
       "        0.00713  , -0.02951  ,  0.0232   , -0.0944   ,  0.02579  ,\n",
       "       -0.1017   ,  0.0004787,  0.00336  , -0.02159  , -0.001734 ,\n",
       "        0.12274  , -0.02777  , -0.03436  , -0.00756  ,  0.002281 ,\n",
       "       -0.05194  ,  0.048    ,  0.03342  ,  0.0764   ,  0.006744 ,\n",
       "       -0.04422  , -0.1271   ,  0.12134  , -0.0714   , -0.081    ,\n",
       "       -0.1469   , -0.02435  ,  0.04434  , -0.08905  ,  0.0914   ,\n",
       "        0.11554  ,  0.01417  , -0.143    ,  0.005436 , -0.01285  ,\n",
       "       -0.03008  , -0.02338  , -0.05176  , -0.05798  , -0.357    ,\n",
       "        0.04562  ,  0.065    , -0.2222   ,  0.07776  , -0.02248  ,\n",
       "       -0.0465   , -0.0883   ,  0.05087  ,  0.0436   ,  0.0655   ,\n",
       "       -0.0432   , -0.0663   ,  0.04538  ,  0.013535 , -0.06866  ,\n",
       "       -0.003668 , -0.00511  , -0.1582   ], dtype=float16)"
      ]
     },
     "execution_count": 109,
     "metadata": {},
     "output_type": "execute_result"
    }
   ],
   "source": [
    "protmpnn_embed[seq_idx[seqs2[0]]]"
   ]
  },
  {
   "cell_type": "code",
   "execution_count": 32,
   "id": "ad784441-3459-44c0-a535-d49cdaec445e",
   "metadata": {},
   "outputs": [],
   "source": [
    "def read_embeddings(embed_file, sequence_idx_file):\n",
    "    \"\"\" Read embeddings stored in an npz file\n",
    "    Get the sequences at each index from the *sequence_idx_file\n",
    "    \"\"\"\n",
    "    embeddings = np.load(embed_file, allow_pickle=True)['arr_0']\n",
    "    sequences = pd.read_csv(sequence_idx_file)\n",
    "    print(f\"{len(embeddings) = } read from {embed_file}\")\n",
    "    print(f\"{len(sequences) = } read from {sequence_idx_file}\")\n",
    "    return embeddings, sequences"
   ]
  },
  {
   "cell_type": "code",
   "execution_count": 120,
   "id": "d7f395d2-c4d6-4a3d-bb5e-3039e3617a41",
   "metadata": {},
   "outputs": [
    {
     "name": "stdout",
     "output_type": "stream",
     "text": [
      "len(embeddings) = 21665 read from /projects/robustmicrob/jlaw/inputs/structures/embeddings/20230221_embeddings_v_48_010.npz\n",
      "len(sequences) = 21665 read from /projects/robustmicrob/jlaw/inputs/structures/embeddings/20230221_embeddings_v_48_010.csv\n"
     ]
    },
    {
     "data": {
      "text/plain": [
       "(21665, 128)"
      ]
     },
     "execution_count": 120,
     "metadata": {},
     "output_type": "execute_result"
    }
   ],
   "source": [
    "protmpnn_embed, df_seq = read_embeddings(Path(inputs_dir, \"structures/embeddings/20230221_embeddings_v_48_010.npz\"),\n",
    "                                         Path(inputs_dir, \"structures/embeddings/20230221_embeddings_v_48_010.csv\"))\n",
    "protmpnn_seq = df_seq.sequence.values\n",
    "# map from the sequence to the idx to access the correct row in the matrix\n",
    "seq_idx = {seq: i for i, seq in enumerate(protmpnn_seq)}\n",
    "protmpnn_embed.shape"
   ]
  },
  {
   "cell_type": "markdown",
   "id": "22ca8be7-fe18-450c-a9d6-95154d9990f1",
   "metadata": {},
   "source": [
    "### Now try and predict tm for the meltome dataset"
   ]
  },
  {
   "cell_type": "code",
   "execution_count": 113,
   "id": "6433bcfd-66f1-4f12-a75e-75a074b1687a",
   "metadata": {},
   "outputs": [
    {
     "name": "stdout",
     "output_type": "stream",
     "text": [
      "27951\n"
     ]
    },
    {
     "data": {
      "text/html": [
       "<div>\n",
       "<style scoped>\n",
       "    .dataframe tbody tr th:only-of-type {\n",
       "        vertical-align: middle;\n",
       "    }\n",
       "\n",
       "    .dataframe tbody tr th {\n",
       "        vertical-align: top;\n",
       "    }\n",
       "\n",
       "    .dataframe thead th {\n",
       "        text-align: right;\n",
       "    }\n",
       "</style>\n",
       "<table border=\"1\" class=\"dataframe\">\n",
       "  <thead>\n",
       "    <tr style=\"text-align: right;\">\n",
       "      <th></th>\n",
       "      <th>sequence</th>\n",
       "      <th>target</th>\n",
       "      <th>set</th>\n",
       "      <th>validation</th>\n",
       "    </tr>\n",
       "  </thead>\n",
       "  <tbody>\n",
       "    <tr>\n",
       "      <th>0</th>\n",
       "      <td>MSGEEEKAADFYVRYYVGHKGKFGHEFLEFEFRPNGSLRYANNSNY...</td>\n",
       "      <td>37.962947</td>\n",
       "      <td>train</td>\n",
       "      <td>NaN</td>\n",
       "    </tr>\n",
       "    <tr>\n",
       "      <th>1</th>\n",
       "      <td>MSMGSDFYLRYYVGHKGKFGHEFLEFEFRPDGKLRYANNSNYKNDV...</td>\n",
       "      <td>54.425342</td>\n",
       "      <td>train</td>\n",
       "      <td>NaN</td>\n",
       "    </tr>\n",
       "  </tbody>\n",
       "</table>\n",
       "</div>"
      ],
      "text/plain": [
       "                                            sequence     target    set  \\\n",
       "0  MSGEEEKAADFYVRYYVGHKGKFGHEFLEFEFRPNGSLRYANNSNY...  37.962947  train   \n",
       "1  MSMGSDFYLRYYVGHKGKFGHEFLEFEFRPDGKLRYANNSNYKNDV...  54.425342  train   \n",
       "\n",
       "  validation  \n",
       "0        NaN  \n",
       "1        NaN  "
      ]
     },
     "execution_count": 113,
     "metadata": {},
     "output_type": "execute_result"
    }
   ],
   "source": [
    "# try using the same train/test splits that flip used\n",
    "df_split = pd.read_csv(Path(inputs_dir, \"meltome/flip/github/splits/mixed_split.csv\"))\n",
    "print(len(df_split))\n",
    "df_split.head(2)"
   ]
  },
  {
   "cell_type": "code",
   "execution_count": 117,
   "id": "a4197289-a7dc-4d2d-9121-fa440dd56eb5",
   "metadata": {},
   "outputs": [
    {
     "name": "stdout",
     "output_type": "stream",
     "text": [
      "24205\n"
     ]
    }
   ],
   "source": [
    "df_split_w_embed = df_split[df_split.sequence.isin(protmpnn_seq)]\n",
    "print(len(df_split_w_embed))"
   ]
  },
  {
   "cell_type": "code",
   "execution_count": 118,
   "id": "1a146548-6ee1-44f0-9250-db4e0b5e5f99",
   "metadata": {},
   "outputs": [
    {
     "data": {
      "text/plain": [
       "20210"
      ]
     },
     "execution_count": 118,
     "metadata": {},
     "output_type": "execute_result"
    }
   ],
   "source": [
    "seqs = df_split_w_embed.sequence.unique()\n",
    "len(seqs)"
   ]
  },
  {
   "cell_type": "code",
   "execution_count": 121,
   "id": "1b8f5366-39e9-4f94-be2c-f621e0ba0f2b",
   "metadata": {},
   "outputs": [
    {
     "name": "stdout",
     "output_type": "stream",
     "text": [
      "21500 0.89\n",
      "2705 0.11\n"
     ]
    }
   ],
   "source": [
    "df_train = df_split_w_embed[df_split_w_embed.set == \"train\"]\n",
    "print(len(df_train), f\"{len(df_train) / len(df_split_w_embed):0.2f}\")\n",
    "\n",
    "# X_train = embeddings[df_seq[df_seq.sequence.isin(train_seq)].index]\n",
    "# y_train = df_seq[df_seq.sequence.isin(train_seq)].Tm\n",
    "# X_test = embeddings[df_seq[df_seq.sequence.isin(test)].index]\n",
    "# y_test = df_seq[df_seq.sequence.isin(test)].Tm\n",
    "# some of the sequences are repeated, so get their embeddings by index\n",
    "X_train = np.asarray([protmpnn_embed[seq_idx[seq]] for seq in df_train.sequence.values])\n",
    "y_train = df_train.target.values\n",
    "\n",
    "df_test = df_split_w_embed[df_split_w_embed.set == \"test\"]\n",
    "print(len(df_test), f\"{len(df_test) / len(df_split_w_embed):0.2f}\")\n",
    "X_test = np.asarray([protmpnn_embed[seq_idx[seq]] for seq in df_test.sequence.values])\n",
    "y_test = df_test.target"
   ]
  },
  {
   "cell_type": "code",
   "execution_count": 122,
   "id": "6dfffc88-d1d4-44d5-9f4e-01d9c9ed6236",
   "metadata": {},
   "outputs": [
    {
     "data": {
      "text/plain": [
       "(21500, 128)"
      ]
     },
     "execution_count": 122,
     "metadata": {},
     "output_type": "execute_result"
    }
   ],
   "source": [
    "X_train.shape"
   ]
  },
  {
   "cell_type": "code",
   "execution_count": 123,
   "id": "4155c165-cdc4-41ae-9ad5-d2819d591f71",
   "metadata": {},
   "outputs": [
    {
     "data": {
      "text/plain": [
       "(2705, 128)"
      ]
     },
     "execution_count": 123,
     "metadata": {},
     "output_type": "execute_result"
    }
   ],
   "source": [
    "X_test.shape"
   ]
  },
  {
   "cell_type": "markdown",
   "id": "e6903ef4-73a2-4519-8b49-76b0c9b78b20",
   "metadata": {},
   "source": [
    "### Build neural net on sequence embeddings"
   ]
  },
  {
   "cell_type": "code",
   "execution_count": 82,
   "id": "f203ac03-82c5-495d-aaa8-89a67f756bc4",
   "metadata": {},
   "outputs": [],
   "source": [
    "from sklearn.metrics import mean_squared_error\n",
    "from scipy.stats import spearmanr\n",
    "from sklearn.linear_model import LinearRegression, Ridge\n",
    "from sklearn.kernel_ridge import KernelRidge"
   ]
  },
  {
   "cell_type": "code",
   "execution_count": 59,
   "id": "3ad9e381-3efe-4f75-8449-181e79c7ca1e",
   "metadata": {},
   "outputs": [],
   "source": [
    "import torch\n",
    "from torch import nn\n",
    "import pytorch_lightning as pl\n",
    "import torchmetrics"
   ]
  },
  {
   "cell_type": "code",
   "execution_count": 129,
   "id": "bbfb2ed6-cce3-4375-8935-ba8c196d9ed8",
   "metadata": {},
   "outputs": [],
   "source": [
    "class NeuralNetwork(pl.LightningModule):\n",
    "    def __init__(self, initial_layer_size=1280):\n",
    "        super(NeuralNetwork, self).__init__()\n",
    "        second_layer_size = initial_layer_size // 2\n",
    "        self.linear_relu_stack = nn.Sequential(\n",
    "            nn.Linear(initial_layer_size, second_layer_size),\n",
    "            nn.ReLU(),            \n",
    "            nn.Linear(second_layer_size, second_layer_size),\n",
    "            nn.ReLU(),\n",
    "            nn.Linear(second_layer_size, 1),\n",
    "        )\n",
    "\n",
    "    def forward(self, x):\n",
    "        logits = self.linear_relu_stack(x)\n",
    "        return logits    \n",
    "\n",
    "    def training_step(self, batch, batch_idx):\n",
    "        x, y, mask = batch\n",
    "\n",
    "        y_pred = self(x).squeeze(1)\n",
    "        # y_pred = y_pred[mask]\n",
    "        # y2 = y[mask]\n",
    "        loss = nn.functional.mse_loss(y_pred, y)\n",
    "        self.log('train_loss', loss)\n",
    "        return loss\n",
    "    \n",
    "    def validation_step(self, batch, batch_idx):\n",
    "        x, y, mask = batch\n",
    "        y_pred = self(x).squeeze(1)\n",
    "        loss = nn.functional.mse_loss(y_pred, y)        \n",
    "        self.log(\"val_loss\", loss)\n",
    "        \n",
    "    def configure_optimizers(self):\n",
    "        optimizer = torch.optim.Adam(self.parameters(), lr=1e-3)\n",
    "        return optimizer"
   ]
  },
  {
   "cell_type": "code",
   "execution_count": 75,
   "id": "f1ae9480-7fa5-4a6e-97ae-d1bcd9d5bdac",
   "metadata": {},
   "outputs": [],
   "source": [
    "def fit_model(X_train, y_train, y_mask, X_valid):\n",
    "    pl.seed_everything(42)\n",
    "    model = NeuralNetwork(initial_layer_size=X_train.shape[1])\n",
    "    \n",
    "    trainer = pl.Trainer(\n",
    "        # gpus=-1,\n",
    "        # devices=0,\n",
    "        accelerator=\"gpu\",\n",
    "        max_epochs=20,\n",
    "        check_val_every_n_epoch=5)\n",
    "\n",
    "    train_dataset = torch.utils.data.TensorDataset(torch.Tensor(X_train).to(device), \n",
    "                                                   torch.Tensor(y_train).to(device), \n",
    "                                                   torch.BoolTensor(y_mask))\n",
    "    # valid_dataset = torch.utils.data.TensorDataset(torch.Tensor(X_valid), torch.Tensor(y_valid))\n",
    "\n",
    "    train_loader = torch.utils.data.DataLoader(train_dataset, batch_size=32, shuffle=True)\n",
    "    # valid_loader = torch.utils.data.DataLoader(valid_dataset, batch_size=16, shuffle=False)\n",
    "\n",
    "    trainer.fit(model, train_loader)\n",
    "    \n",
    "    return model"
   ]
  },
  {
   "cell_type": "code",
   "execution_count": 124,
   "id": "04f1ca1c-57ff-46ff-99ad-94961bd60b0c",
   "metadata": {},
   "outputs": [
    {
     "name": "stderr",
     "output_type": "stream",
     "text": [
      "Global seed set to 42\n",
      "/home/jlaw/.conda/envs/tm/lib/python3.10/site-packages/lightning_fabric/plugins/environments/slurm.py:166: PossibleUserWarning: The `srun` command is available on your system but is not used. HINT: If your intention is to run Lightning on SLURM, prepend your python command with `srun` like so: srun python /home/jlaw/.conda/envs/tm/lib/python3.10/site-packag ...\n",
      "  rank_zero_warn(\n",
      "GPU available: True (cuda), used: True\n",
      "TPU available: False, using: 0 TPU cores\n",
      "IPU available: False, using: 0 IPUs\n",
      "HPU available: False, using: 0 HPUs\n",
      "/home/jlaw/.conda/envs/tm/lib/python3.10/site-packages/pytorch_lightning/trainer/configuration_validator.py:108: PossibleUserWarning: You defined a `validation_step` but have no `val_dataloader`. Skipping val loop.\n",
      "  rank_zero_warn(\n",
      "LOCAL_RANK: 0 - CUDA_VISIBLE_DEVICES: [0]\n",
      "\n",
      "  | Name              | Type       | Params\n",
      "-------------------------------------------------\n",
      "0 | linear_relu_stack | Sequential | 329 K \n",
      "-------------------------------------------------\n",
      "329 K     Trainable params\n",
      "0         Non-trainable params\n",
      "329 K     Total params\n",
      "1.317     Total estimated model params size (MB)\n",
      "/home/jlaw/.conda/envs/tm/lib/python3.10/site-packages/pytorch_lightning/trainer/connectors/data_connector.py:224: PossibleUserWarning: The dataloader, train_dataloader, does not have many workers which may be a bottleneck. Consider increasing the value of the `num_workers` argument` (try 36 which is the number of cpus on this machine) in the `DataLoader` init to improve performance.\n",
      "  rank_zero_warn(\n"
     ]
    },
    {
     "data": {
      "application/vnd.jupyter.widget-view+json": {
       "model_id": "0fc81fa345b548f8843e561497fe60a8",
       "version_major": 2,
       "version_minor": 0
      },
      "text/plain": [
       "Training: 0it [00:00, ?it/s]"
      ]
     },
     "metadata": {},
     "output_type": "display_data"
    },
    {
     "name": "stderr",
     "output_type": "stream",
     "text": [
      "`Trainer.fit` stopped: `max_epochs=20` reached.\n"
     ]
    }
   ],
   "source": [
    "head_model = fit_model(X_train, y_train, np.ones(len(y_train)), X_test)"
   ]
  },
  {
   "cell_type": "code",
   "execution_count": 22,
   "id": "ef7205db-5f68-4483-a3f5-097501d0246c",
   "metadata": {},
   "outputs": [
    {
     "data": {
      "text/plain": [
       "array([41.291304  , 57.40688689, 48.70840559, ..., 51.3358366 ,\n",
       "       48.4598702 , 45.55637478])"
      ]
     },
     "execution_count": 22,
     "metadata": {},
     "output_type": "execute_result"
    }
   ],
   "source": [
    "y_pred"
   ]
  },
  {
   "cell_type": "code",
   "execution_count": 127,
   "id": "ac89a77c-94a0-4130-98cd-fc97bdec5677",
   "metadata": {},
   "outputs": [
    {
     "name": "stdout",
     "output_type": "stream",
     "text": [
      "mae = 5.9, mse = 62.8, rho = 0.49\n"
     ]
    }
   ],
   "source": [
    "# y_pred = fit_predict(X_train, y_train, X_test).flatten()\n",
    "# y_pred = model(torch.Tensor(X_test).to('cuda')[2].unsqueeze(1).detach().cpu()\n",
    "y_pred = head_model(torch.Tensor(X_test)).detach().squeeze().numpy()\n",
    "\n",
    "rho, _ = spearmanr(y_pred, y_test)  # spearman\n",
    "mse = mean_squared_error(y_pred, y_test)  # Mean Squared Error\n",
    "mae = (y_pred - y_test).abs().mean()  # Mean Absolute Error\n",
    "print(f\"{mae = :0.1f}, {mse = :0.1f}, {rho = :0.2f}\")"
   ]
  },
  {
   "cell_type": "code",
   "execution_count": 128,
   "id": "339ef960-e4b5-45a2-9e8b-5771a40ffa5e",
   "metadata": {},
   "outputs": [
    {
     "data": {
      "image/png": "[encoded data removed]",
      "text/plain": [
       "<Figure size 640x480 with 1 Axes>"
      ]
     },
     "metadata": {},
     "output_type": "display_data"
    }
   ],
   "source": [
    "df = pd.DataFrame({'y_test': y_test, 'y_pred': y_pred})\n",
    "ax = df.plot.scatter(x='y_test', y='y_pred', alpha=0.3, lw=0, s=10)\n",
    "# sns.scatter(data=df, x='y_test', y='y_pred', alpha=0.6)\n",
    "\n",
    "ax.plot([30,100], [30,100], '--', alpha=0.6)\n",
    "plt.show()"
   ]
  },
  {
   "cell_type": "markdown",
   "id": "becd2e3c-b229-4102-ad5b-7046025a2829",
   "metadata": {},
   "source": [
    "### Now try combining protmpnn and esm"
   ]
  },
  {
   "cell_type": "code",
   "execution_count": 130,
   "id": "b08c084e-afb8-4b01-8308-cc22f25a12b5",
   "metadata": {},
   "outputs": [
    {
     "name": "stdout",
     "output_type": "stream",
     "text": [
      "len(embeddings) = 32563 read from /projects/robustmicrob/jlaw/inputs/meltome/embeddings/20230206_embeddings_esm2_t33_650M_UR50D.npz\n",
      "len(sequences) = 32563 read from /projects/robustmicrob/jlaw/inputs/meltome/embeddings/20230125_embeddings_seqs.csv\n"
     ]
    },
    {
     "data": {
      "text/plain": [
       "(32563, 1280)"
      ]
     },
     "execution_count": 130,
     "metadata": {},
     "output_type": "execute_result"
    }
   ],
   "source": [
    "esm_embed, esm_seq = read_embeddings(Path(inputs_dir, \"meltome/embeddings/20230206_embeddings_esm2_t33_650M_UR50D.npz\"),\n",
    "                                     Path(inputs_dir, \"meltome/embeddings/20230125_embeddings_seqs.csv\"))\n",
    "esm_seq_idx = {seq: i for i, seq in enumerate(esm_seq.sequence)}\n",
    "esm_embed.shape"
   ]
  },
  {
   "cell_type": "code",
   "execution_count": 131,
   "id": "6ed1c553-e371-4589-a16e-bba0e5eecc08",
   "metadata": {},
   "outputs": [
    {
     "name": "stdout",
     "output_type": "stream",
     "text": [
      "26082\n"
     ]
    }
   ],
   "source": [
    "seqs = set(protmpnn_seq) | set(esm_seq.sequence.values)\n",
    "df_split_w_embed = df_split[df_split.sequence.isin(seqs)]\n",
    "print(len(df_split_w_embed))"
   ]
  },
  {
   "cell_type": "code",
   "execution_count": 132,
   "id": "ac3622fb-948b-42fd-b675-83261399a255",
   "metadata": {},
   "outputs": [
    {
     "data": {
      "text/plain": [
       "21721"
      ]
     },
     "execution_count": 132,
     "metadata": {},
     "output_type": "execute_result"
    }
   ],
   "source": [
    "seqs_w_embed = df_split_w_embed.sequence.unique()\n",
    "len(seqs_w_embed)"
   ]
  },
  {
   "cell_type": "code",
   "execution_count": 137,
   "id": "683f42e1-e10a-46ac-aa6f-464089942603",
   "metadata": {},
   "outputs": [],
   "source": [
    "def combine_embeddings(seq):\n",
    "    combined_embed = []\n",
    "    for embeddings, s_idx in [(esm_embed, esm_seq_idx),\n",
    "                              (protmpnn_embed, seq_idx)]:\n",
    "        seq_embed = np.zeros(embeddings.shape[1])        \n",
    "        if seq in s_idx:\n",
    "            seq_embed = embeddings[s_idx[seq]]\n",
    "        combined_embed += [seq_embed]\n",
    "        \n",
    "    combined_embed = np.hstack(combined_embed)\n",
    "    return combined_embed"
   ]
  },
  {
   "cell_type": "code",
   "execution_count": 139,
   "id": "f4cb93b4-b585-4927-8623-d7ed11698e68",
   "metadata": {},
   "outputs": [
    {
     "name": "stdout",
     "output_type": "stream",
     "text": [
      "23185 0.89\n",
      "(23185, 1408) (23185,)\n",
      "2897 0.11\n",
      "(2897, 1408) (2897,)\n"
     ]
    }
   ],
   "source": [
    "df_train = df_split_w_embed[df_split_w_embed.set == \"train\"]\n",
    "print(len(df_train), f\"{len(df_train) / len(df_split_w_embed):0.2f}\")\n",
    "\n",
    "# some of the sequences are repeated, so get their embeddings by index\n",
    "X_train = np.asarray([combine_embeddings(seq) for seq in df_train.sequence.values])\n",
    "y_train = df_train.target.values\n",
    "print(X_train.shape, y_train.shape)\n",
    "\n",
    "df_test = df_split_w_embed[df_split_w_embed.set == \"test\"]\n",
    "print(len(df_test), f\"{len(df_test) / len(df_split_w_embed):0.2f}\")\n",
    "X_test = np.asarray([combine_embeddings(seq) for seq in df_test.sequence.values])\n",
    "y_test = df_test.target.values\n",
    "print(X_test.shape, y_test.shape)"
   ]
  },
  {
   "cell_type": "code",
   "execution_count": 140,
   "id": "9778f6f6-7a8f-4fa3-8f88-e31d0be27790",
   "metadata": {},
   "outputs": [
    {
     "name": "stderr",
     "output_type": "stream",
     "text": [
      "Global seed set to 42\n",
      "/home/jlaw/.conda/envs/tm/lib/python3.10/site-packages/lightning_fabric/plugins/environments/slurm.py:166: PossibleUserWarning: The `srun` command is available on your system but is not used. HINT: If your intention is to run Lightning on SLURM, prepend your python command with `srun` like so: srun python /home/jlaw/.conda/envs/tm/lib/python3.10/site-packag ...\n",
      "  rank_zero_warn(\n",
      "GPU available: True (cuda), used: True\n",
      "TPU available: False, using: 0 TPU cores\n",
      "IPU available: False, using: 0 IPUs\n",
      "HPU available: False, using: 0 HPUs\n",
      "/home/jlaw/.conda/envs/tm/lib/python3.10/site-packages/pytorch_lightning/trainer/configuration_validator.py:108: PossibleUserWarning: You defined a `validation_step` but have no `val_dataloader`. Skipping val loop.\n",
      "  rank_zero_warn(\n",
      "LOCAL_RANK: 0 - CUDA_VISIBLE_DEVICES: [0]\n",
      "\n",
      "  | Name              | Type       | Params\n",
      "-------------------------------------------------\n",
      "0 | linear_relu_stack | Sequential | 1.5 M \n",
      "-------------------------------------------------\n",
      "1.5 M     Trainable params\n",
      "0         Non-trainable params\n",
      "1.5 M     Total params\n",
      "5.956     Total estimated model params size (MB)\n",
      "/home/jlaw/.conda/envs/tm/lib/python3.10/site-packages/pytorch_lightning/trainer/connectors/data_connector.py:224: PossibleUserWarning: The dataloader, train_dataloader, does not have many workers which may be a bottleneck. Consider increasing the value of the `num_workers` argument` (try 36 which is the number of cpus on this machine) in the `DataLoader` init to improve performance.\n",
      "  rank_zero_warn(\n"
     ]
    },
    {
     "data": {
      "application/vnd.jupyter.widget-view+json": {
       "model_id": "496814adb68a4eeab22913729205347e",
       "version_major": 2,
       "version_minor": 0
      },
      "text/plain": [
       "Training: 0it [00:00, ?it/s]"
      ]
     },
     "metadata": {},
     "output_type": "display_data"
    },
    {
     "name": "stderr",
     "output_type": "stream",
     "text": [
      "`Trainer.fit` stopped: `max_epochs=20` reached.\n"
     ]
    }
   ],
   "source": [
    "head_model = fit_model(X_train, y_train, np.ones(len(y_train)), X_test)"
   ]
  },
  {
   "cell_type": "code",
   "execution_count": 141,
   "id": "40f7db2d-f1ca-43a1-9060-ac762ac587a0",
   "metadata": {},
   "outputs": [
    {
     "name": "stdout",
     "output_type": "stream",
     "text": [
      "mae = 4.7, mse = 38.3, rho = 0.66\n"
     ]
    }
   ],
   "source": [
    "# y_pred = fit_predict(X_train, y_train, X_test).flatten()\n",
    "# y_pred = model(torch.Tensor(X_test).to('cuda')[2].unsqueeze(1).detach().cpu()\n",
    "y_pred = head_model(torch.Tensor(X_test)).detach().squeeze().numpy()\n",
    "\n",
    "rho, _ = spearmanr(y_pred, y_test)  # spearman\n",
    "mse = mean_squared_error(y_pred, y_test)  # Mean Squared Error\n",
    "mae = np.abs(y_pred - y_test).mean()  # Mean Absolute Error\n",
    "print(f\"{mae = :0.1f}, {mse = :0.1f}, {rho = :0.2f}\")"
   ]
  },
  {
   "cell_type": "code",
   "execution_count": 143,
   "id": "8b6b040d-afc4-452d-8ea6-66768810a4df",
   "metadata": {},
   "outputs": [
    {
     "data": {
      "image/png": "[encoded data removed]",
      "text/plain": [
       "<Figure size 640x480 with 1 Axes>"
      ]
     },
     "metadata": {},
     "output_type": "display_data"
    }
   ],
   "source": [
    "df = pd.DataFrame({'y_test': y_test, 'y_pred': y_pred})\n",
    "ax = df.plot.scatter(x='y_test', y='y_pred', alpha=0.3, lw=0, s=10)\n",
    "# sns.scatter(data=df, x='y_test', y='y_pred', alpha=0.6)\n",
    "\n",
    "ax.plot([30,100], [30,100], '--', alpha=0.6)\n",
    "plt.show()"
   ]
  },
  {
   "cell_type": "markdown",
   "id": "c3ab1e84-4a3f-4b7c-ae05-39944595cf09",
   "metadata": {},
   "source": [
    "### Try using attention on the proteinmpnn AA embeddings"
   ]
  },
  {
   "cell_type": "code",
   "execution_count": 169,
   "id": "099b2634-ef8a-422a-89b1-b5bbba98ec2e",
   "metadata": {},
   "outputs": [],
   "source": [
    "import torch.nn as nn\n",
    "import torch.nn.functional as F\n",
    "from torch.utils.checkpoint import checkpoint\n",
    "\n",
    "\n",
    "# copied from here: https://github.com/microsoft/protein-sequence-models/blob/main/sequence_models/convolutional.py\n",
    "class MaskedConv1d(nn.Conv1d):\n",
    "    \"\"\" A masked 1-dimensional convolution layer.\n",
    "    Takes the same arguments as torch.nn.Conv1D, except that the padding is set automatically.\n",
    "         Shape:\n",
    "            Input: (N, L, in_channels)\n",
    "            input_mask: (N, L, 1), optional\n",
    "            Output: (N, L, out_channels)\n",
    "    \"\"\"\n",
    "\n",
    "    def __init__(self, in_channels: int, out_channels: int,\n",
    "                 kernel_size: int, stride: int=1, dilation: int=1, groups: int=1,\n",
    "                 bias: bool=True):\n",
    "        \"\"\"\n",
    "        :param in_channels: input channels\n",
    "        :param out_channels: output channels\n",
    "        :param kernel_size: the kernel width\n",
    "        :param stride: filter shift\n",
    "        :param dilation: dilation factor\n",
    "        :param groups: perform depth-wise convolutions\n",
    "        :param bias: adds learnable bias to output\n",
    "        \"\"\"\n",
    "        padding = dilation * (kernel_size - 1) // 2\n",
    "        super().__init__(in_channels, out_channels, kernel_size, stride=stride, dilation=dilation,\n",
    "                                           groups=groups, bias=bias, padding=padding)\n",
    "\n",
    "    def forward(self, x, input_mask=None):\n",
    "        if input_mask is not None:\n",
    "            x = x * input_mask\n",
    "        return super().forward(x.transpose(1, 2)).transpose(1, 2)\n",
    "    \n",
    "\n",
    "# copied from here: https://github.com/microsoft/protein-sequence-models/blob/main/sequence_models/structure.py\n",
    "class Attention1d(nn.Module):\n",
    "    \n",
    "    def __init__(self, in_dim):\n",
    "        super().__init__()\n",
    "        self.layer = MaskedConv1d(in_dim, 1, 1)\n",
    "\n",
    "    def forward(self, x, input_mask=None):\n",
    "        n, ell, _ = x.shape\n",
    "        attn = self.layer(x)\n",
    "        attn = attn.view(n, -1)\n",
    "        if input_mask is not None:\n",
    "            attn = attn.masked_fill_(~input_mask.view(n, -1).bool(), float('-inf'))\n",
    "        attn = F.softmax(attn, dim=-1).view(n, -1, 1)\n",
    "        out = (attn * x).sum(dim=1)\n",
    "        return out\n",
    "    \n",
    "    \n",
    "# copied from here: https://github.com/J-SNACKKB/FLIP/blob/main/baselines/models.py\n",
    "class ESMAttention1d(pl.LightningModule):\n",
    "    \"\"\"Outputs of the ESM model with the attention1d\"\"\"\n",
    "    def __init__(self, max_length, d_embedding): # [batch x sequence(751) x embedding (1280)] --> [batch x embedding] --> [batch x 1]\n",
    "        super(ESMAttention1d, self).__init__()\n",
    "        self.attention1d = Attention1d(in_dim=d_embedding) # ???\n",
    "        self.linear = nn.Linear(d_embedding, d_embedding)\n",
    "        self.relu = nn.ReLU()\n",
    "        self.final = nn.Linear(d_embedding, 1)\n",
    "    \n",
    "    def forward(self, x):\n",
    "        x = self.attention1d(x)\n",
    "        x = self.relu(self.linear(x))\n",
    "        x = self.final(x)\n",
    "        return x\n",
    "    \n",
    "    def training_step(self, batch, batch_idx):\n",
    "        x, y, mask = batch\n",
    "\n",
    "        y_pred = self(x).squeeze(1)\n",
    "        # y_pred = y_pred[mask]\n",
    "        # y2 = y[mask]\n",
    "        loss = nn.functional.mse_loss(y_pred, y)\n",
    "        self.log('train_loss', loss)\n",
    "        return loss\n",
    "    \n",
    "    def configure_optimizers(self):\n",
    "        optimizer = torch.optim.Adam(self.parameters(), lr=1e-3)\n",
    "        return optimizer"
   ]
  },
  {
   "cell_type": "code",
   "execution_count": 168,
   "id": "17d89b91-624f-44fa-91ba-0b768ccfd121",
   "metadata": {},
   "outputs": [],
   "source": [
    "class NeuralNetwork(pl.LightningModule):\n",
    "    def __init__(self, initial_layer_size=1280):\n",
    "        super(NeuralNetwork, self).__init__()\n",
    "        second_layer_size = initial_layer_size // 2\n",
    "        self.linear_relu_stack = nn.Sequential(\n",
    "            nn.Linear(initial_layer_size, second_layer_size),\n",
    "            nn.ReLU(),            \n",
    "            nn.Linear(second_layer_size, second_layer_size),\n",
    "            nn.ReLU(),\n",
    "            nn.Linear(second_layer_size, 1),\n",
    "        )\n",
    "\n",
    "    def forward(self, x):\n",
    "        logits = self.linear_relu_stack(x)\n",
    "        return logits    \n",
    "\n",
    "    def training_step(self, batch, batch_idx):\n",
    "        x, y, mask = batch\n",
    "\n",
    "        y_pred = self(x).squeeze(1)\n",
    "        # y_pred = y_pred[mask]\n",
    "        # y2 = y[mask]\n",
    "        loss = nn.functional.mse_loss(y_pred, y)\n",
    "        self.log('train_loss', loss)\n",
    "        return loss\n",
    "    \n",
    "    def validation_step(self, batch, batch_idx):\n",
    "        x, y, mask = batch\n",
    "        y_pred = self(x).squeeze(1)\n",
    "        loss = nn.functional.mse_loss(y_pred, y)        \n",
    "        self.log(\"val_loss\", loss)\n",
    "        \n",
    "    def configure_optimizers(self):\n",
    "        optimizer = torch.optim.Adam(self.parameters(), lr=1e-3)\n",
    "        return optimizer"
   ]
  },
  {
   "cell_type": "code",
   "execution_count": 224,
   "id": "a35ebc0d-dcd3-449d-a58a-aa54eec28093",
   "metadata": {},
   "outputs": [],
   "source": [
    "def fit_model_att(X_train, y_train, y_mask, X_valid):\n",
    "    pl.seed_everything(42)\n",
    "    esm_model = ESMAttention1d(1500, X_train.shape[-1])\n",
    "    \n",
    "    trainer = pl.Trainer(\n",
    "        # gpus=-1,\n",
    "        # devices=0,\n",
    "        accelerator=\"gpu\",\n",
    "        max_epochs=20,\n",
    "        check_val_every_n_epoch=5)\n",
    "\n",
    "    # train_dataset = torch.utils.data.TensorDataset(torch.Tensor(X_train).to(device), \n",
    "    train_dataset = torch.utils.data.TensorDataset(X_train.to(device), \n",
    "                                                   torch.Tensor(y_train).to(device), \n",
    "                                                   torch.BoolTensor(y_mask))\n",
    "    # valid_dataset = torch.utils.data.TensorDataset(torch.Tensor(X_valid), torch.Tensor(y_valid))\n",
    "\n",
    "    train_loader = torch.utils.data.DataLoader(train_dataset, batch_size=32, shuffle=True)\n",
    "    # valid_loader = torch.utils.data.DataLoader(valid_dataset, batch_size=16, shuffle=False)\n",
    "\n",
    "    trainer.fit(esm_model, train_loader)\n",
    "    \n",
    "    return esm_model"
   ]
  },
  {
   "cell_type": "code",
   "execution_count": 161,
   "id": "e9652ea3-6019-473a-a345-591d9f3fe0c9",
   "metadata": {},
   "outputs": [],
   "source": [
    "max_seq_length = 1500"
   ]
  },
  {
   "cell_type": "code",
   "execution_count": 164,
   "id": "9f12ca67-c842-44ff-8698-305feb591c66",
   "metadata": {},
   "outputs": [
    {
     "data": {
      "application/vnd.jupyter.widget-view+json": {
       "model_id": "ab9955e7a3f84998903b2ee5a6b98a77",
       "version_major": 2,
       "version_minor": 0
      },
      "text/plain": [
       "  0%|          | 0/2 [00:00<?, ?it/s]"
      ]
     },
     "metadata": {},
     "output_type": "display_data"
    },
    {
     "name": "stdout",
     "output_type": "stream",
     "text": [
      "(4, 999, 128)\n",
      "(6, 736, 128)\n"
     ]
    },
    {
     "data": {
      "text/plain": [
       "(10, 1500, 128)"
      ]
     },
     "execution_count": 164,
     "metadata": {},
     "output_type": "execute_result"
    }
   ],
   "source": [
    "# Build the embeddings by taking the last layer before log_probs\n",
    "dataset = StructureDatasetPDB(pdb_dict_list[:10], truncate=None, max_length=max_length)\n",
    "loader = StructureLoader(dataset, batch_size=batch_size)\n",
    "\n",
    "aa_embed = np.zeros([len(dataset), max_seq_length, 128])\n",
    "seqs = []\n",
    "with torch.no_grad():\n",
    "    idx = 0\n",
    "    for batch in tqdm(loader):\n",
    "        start_batch = time.time()\n",
    "        X, S, mask, lengths, chain_M, chain_M_pos, residue_idx, chain_encoding_all = my_featurize(batch, device)\n",
    "        randn_1 = torch.randn(chain_M.shape, device=X.device)\n",
    "        log_probs, h_V = model(X, S, mask, chain_M*chain_M_pos, residue_idx, chain_encoding_all, randn_1, return_embedding=True)\n",
    "        h_V = h_V.detach().to('cpu').numpy()\n",
    "        print(h_V.shape)\n",
    "        \n",
    "        for j in range(len(batch)):\n",
    "            # representations += [h_V[i, :len(batch[j]['seq'])].mean(0).astype(np.float16)]\n",
    "            aa_embed[idx, :h_V.shape[1], :] = h_V[j]\n",
    "            seqs += [(batch[j]['uniprot_id'],batch[j]['seq'])]\n",
    "            idx += 1\n",
    "\n",
    "# test_r = np.vstack(test_r)\n",
    "aa_embed.shape"
   ]
  },
  {
   "cell_type": "code",
   "execution_count": 219,
   "id": "187409e0-372f-44ca-bed7-3ccce6af5fea",
   "metadata": {},
   "outputs": [
    {
     "name": "stderr",
     "output_type": "stream",
     "text": [
      "/home/jlaw/.conda/envs/tm/lib/python3.10/site-packages/torch/masked/maskedtensor/core.py:156: UserWarning: The PyTorch API of MaskedTensors is in prototype stage and will change in the near future. Please open a Github issue for features requests and see our documentation on the torch.masked module for further information about the project.\n",
      "  warnings.warn((\"The PyTorch API of MaskedTensors is in prototype stage \"\n"
     ]
    },
    {
     "data": {
      "text/plain": [
       "torch.Size([21665, 1500, 128])"
      ]
     },
     "execution_count": 219,
     "metadata": {},
     "output_type": "execute_result"
    }
   ],
   "source": [
    "# These embeddings take up much more space\n",
    "# protmpnn_aa_embed, df_seq = read_embeddings(Path(inputs_dir, \"structures/embeddings/20230221_aa_embeddings_v_48_010.npz\"),\n",
    "#                                          Path(inputs_dir, \"structures/embeddings/20230221_aa_embeddings_v_48_010.csv\"))\n",
    "protmpnn_aa_embed = torch.Tensor(protmpnn_aa_embed)\n",
    "mask = protmpnn_aa_embed > 0\n",
    "protmpnn_aa_embed = torch.masked.as_masked_tensor(protmpnn_aa_embed, mask)\n",
    "protmpnn_aa_seq = df_seq.sequence.values\n",
    "# map from the sequence to the idx to access the correct row in the matrix\n",
    "seq_idx = {seq: i for i, seq in enumerate(protmpnn_aa_seq)}\n",
    "protmpnn_aa_embed.shape"
   ]
  },
  {
   "cell_type": "code",
   "execution_count": 171,
   "id": "91d33e4f-d89e-4d89-8f37-4125b886bcff",
   "metadata": {},
   "outputs": [
    {
     "data": {
      "text/plain": [
       "(23185, 1408)"
      ]
     },
     "execution_count": 171,
     "metadata": {},
     "output_type": "execute_result"
    }
   ],
   "source": [
    "X_train.shape"
   ]
  },
  {
   "cell_type": "code",
   "execution_count": 192,
   "id": "24dc5e71-b8e4-4b31-a481-409c61ce540f",
   "metadata": {},
   "outputs": [],
   "source": [
    "del X_train, X_test, protmpnn_aa_embed"
   ]
  },
  {
   "cell_type": "code",
   "execution_count": 186,
   "id": "cda6386f-6242-46a8-98b8-d8b1baff2213",
   "metadata": {},
   "outputs": [],
   "source": [
    "df_split_w_embed2 = df_split_w_embed[df_split_w_embed.sequence.isin(seq_idx)]"
   ]
  },
  {
   "cell_type": "code",
   "execution_count": 222,
   "id": "325e0dba-8855-4f19-8f70-8e1dff1fecb2",
   "metadata": {},
   "outputs": [
    {
     "name": "stdout",
     "output_type": "stream",
     "text": [
      "21500 0.82\n",
      "2705 0.10\n",
      "torch.Size([21500, 1500, 128])\n"
     ]
    }
   ],
   "source": [
    "df_train = df_split_w_embed2[df_split_w_embed2.set == \"train\"]\n",
    "print(len(df_train), f\"{len(df_train) / len(df_split_w_embed):0.2f}\")\n",
    "\n",
    "# some of the sequences are repeated, so get their embeddings by index\n",
    "# X_train = np.asarray([protmpnn_aa_embed[seq_idx[seq]] for seq in df_train.sequence.values])\n",
    "X_train = protmpnn_aa_embed[[seq_idx[seq] for seq in df_train.sequence.values]]\n",
    "y_train = df_train.target.values\n",
    "\n",
    "df_test = df_split_w_embed2[df_split_w_embed2.set == \"test\"]\n",
    "print(len(df_test), f\"{len(df_test) / len(df_split_w_embed):0.2f}\")\n",
    "# X_test = np.asarray([protmpnn_aa_embed[seq_idx[seq]] for seq in df_test.sequence.values])\n",
    "X_test = protmpnn_aa_embed[[seq_idx[seq] for seq in df_test.sequence.values]]\n",
    "y_test = df_test.target\n",
    "print(X_train.shape)"
   ]
  },
  {
   "cell_type": "code",
   "execution_count": 225,
   "id": "9dfa21a0-47c6-4a66-aa4a-22a21c214060",
   "metadata": {},
   "outputs": [
    {
     "name": "stderr",
     "output_type": "stream",
     "text": [
      "Global seed set to 42\n",
      "/home/jlaw/.conda/envs/tm/lib/python3.10/site-packages/lightning_fabric/plugins/environments/slurm.py:166: PossibleUserWarning: The `srun` command is available on your system but is not used. HINT: If your intention is to run Lightning on SLURM, prepend your python command with `srun` like so: srun python /home/jlaw/.conda/envs/tm/lib/python3.10/site-packag ...\n",
      "  rank_zero_warn(\n",
      "GPU available: True (cuda), used: True\n",
      "TPU available: False, using: 0 TPU cores\n",
      "IPU available: False, using: 0 IPUs\n",
      "HPU available: False, using: 0 HPUs\n"
     ]
    },
    {
     "ename": "OutOfMemoryError",
     "evalue": "CUDA out of memory. Tried to allocate 15.38 GiB (GPU 0; 31.75 GiB total capacity; 15.54 GiB already allocated; 13.46 GiB free; 15.56 GiB reserved in total by PyTorch) If reserved memory is >> allocated memory try setting max_split_size_mb to avoid fragmentation.  See documentation for Memory Management and PYTORCH_CUDA_ALLOC_CONF",
     "output_type": "error",
     "traceback": [
      "\u001b[0;31m---------------------------------------------------------------------------\u001b[0m",
      "\u001b[0;31mOutOfMemoryError\u001b[0m                          Traceback (most recent call last)",
      "Input \u001b[0;32mIn [225]\u001b[0m, in \u001b[0;36m<cell line: 1>\u001b[0;34m()\u001b[0m\n\u001b[0;32m----> 1\u001b[0m aa_model \u001b[38;5;241m=\u001b[39m \u001b[43mfit_model_att\u001b[49m\u001b[43m(\u001b[49m\u001b[43mX_train\u001b[49m\u001b[43m,\u001b[49m\u001b[43m \u001b[49m\u001b[43my_train\u001b[49m\u001b[43m,\u001b[49m\u001b[43m \u001b[49m\u001b[43mnp\u001b[49m\u001b[38;5;241;43m.\u001b[39;49m\u001b[43mones\u001b[49m\u001b[43m(\u001b[49m\u001b[38;5;28;43mlen\u001b[39;49m\u001b[43m(\u001b[49m\u001b[43my_train\u001b[49m\u001b[43m)\u001b[49m\u001b[43m)\u001b[49m\u001b[43m,\u001b[49m\u001b[43m \u001b[49m\u001b[43mX_test\u001b[49m\u001b[43m)\u001b[49m\n",
      "Input \u001b[0;32mIn [224]\u001b[0m, in \u001b[0;36mfit_model_att\u001b[0;34m(X_train, y_train, y_mask, X_valid)\u001b[0m\n\u001b[1;32m      5\u001b[0m trainer \u001b[38;5;241m=\u001b[39m pl\u001b[38;5;241m.\u001b[39mTrainer(\n\u001b[1;32m      6\u001b[0m     \u001b[38;5;66;03m# gpus=-1,\u001b[39;00m\n\u001b[1;32m      7\u001b[0m     \u001b[38;5;66;03m# devices=0,\u001b[39;00m\n\u001b[1;32m      8\u001b[0m     accelerator\u001b[38;5;241m=\u001b[39m\u001b[38;5;124m\"\u001b[39m\u001b[38;5;124mgpu\u001b[39m\u001b[38;5;124m\"\u001b[39m,\n\u001b[1;32m      9\u001b[0m     max_epochs\u001b[38;5;241m=\u001b[39m\u001b[38;5;241m20\u001b[39m,\n\u001b[1;32m     10\u001b[0m     check_val_every_n_epoch\u001b[38;5;241m=\u001b[39m\u001b[38;5;241m5\u001b[39m)\n\u001b[1;32m     12\u001b[0m \u001b[38;5;66;03m# train_dataset = torch.utils.data.TensorDataset(torch.Tensor(X_train).to(device), \u001b[39;00m\n\u001b[0;32m---> 13\u001b[0m train_dataset \u001b[38;5;241m=\u001b[39m torch\u001b[38;5;241m.\u001b[39mutils\u001b[38;5;241m.\u001b[39mdata\u001b[38;5;241m.\u001b[39mTensorDataset(\u001b[43mX_train\u001b[49m\u001b[38;5;241;43m.\u001b[39;49m\u001b[43mto\u001b[49m\u001b[43m(\u001b[49m\u001b[43mdevice\u001b[49m\u001b[43m)\u001b[49m, \n\u001b[1;32m     14\u001b[0m                                                torch\u001b[38;5;241m.\u001b[39mTensor(y_train)\u001b[38;5;241m.\u001b[39mto(device), \n\u001b[1;32m     15\u001b[0m                                                torch\u001b[38;5;241m.\u001b[39mBoolTensor(y_mask))\n\u001b[1;32m     16\u001b[0m \u001b[38;5;66;03m# valid_dataset = torch.utils.data.TensorDataset(torch.Tensor(X_valid), torch.Tensor(y_valid))\u001b[39;00m\n\u001b[1;32m     18\u001b[0m train_loader \u001b[38;5;241m=\u001b[39m torch\u001b[38;5;241m.\u001b[39mutils\u001b[38;5;241m.\u001b[39mdata\u001b[38;5;241m.\u001b[39mDataLoader(train_dataset, batch_size\u001b[38;5;241m=\u001b[39m\u001b[38;5;241m32\u001b[39m, shuffle\u001b[38;5;241m=\u001b[39m\u001b[38;5;28;01mTrue\u001b[39;00m)\n",
      "File \u001b[0;32m~/.conda/envs/tm/lib/python3.10/site-packages/torch/masked/maskedtensor/core.py:274\u001b[0m, in \u001b[0;36mMaskedTensor.__torch_function__\u001b[0;34m(cls, func, types, args, kwargs)\u001b[0m\n\u001b[1;32m    272\u001b[0m     \u001b[38;5;28;01mreturn\u001b[39;00m \u001b[38;5;28mNotImplemented\u001b[39m\n\u001b[1;32m    273\u001b[0m \u001b[38;5;28;01mwith\u001b[39;00m torch\u001b[38;5;241m.\u001b[39m_C\u001b[38;5;241m.\u001b[39mDisableTorchFunction():\n\u001b[0;32m--> 274\u001b[0m     ret \u001b[38;5;241m=\u001b[39m \u001b[43mfunc\u001b[49m\u001b[43m(\u001b[49m\u001b[38;5;241;43m*\u001b[39;49m\u001b[43margs\u001b[49m\u001b[43m,\u001b[49m\u001b[43m \u001b[49m\u001b[38;5;241;43m*\u001b[39;49m\u001b[38;5;241;43m*\u001b[39;49m\u001b[43mkwargs\u001b[49m\u001b[43m)\u001b[49m\n\u001b[1;32m    275\u001b[0m     \u001b[38;5;28;01mif\u001b[39;00m func \u001b[38;5;129;01min\u001b[39;00m get_default_nowrap_functions():\n\u001b[1;32m    276\u001b[0m         \u001b[38;5;28;01mreturn\u001b[39;00m ret\n",
      "File \u001b[0;32m~/.conda/envs/tm/lib/python3.10/site-packages/torch/masked/maskedtensor/core.py:290\u001b[0m, in \u001b[0;36mMaskedTensor.__torch_dispatch__\u001b[0;34m(cls, func, types, args, kwargs)\u001b[0m\n\u001b[1;32m    288\u001b[0m \u001b[38;5;28;01mfrom\u001b[39;00m \u001b[38;5;21;01m.\u001b[39;00m\u001b[38;5;21;01m_ops_refs\u001b[39;00m \u001b[38;5;28;01mimport\u001b[39;00m _MASKEDTENSOR_DISPATCH_TABLE\n\u001b[1;32m    289\u001b[0m \u001b[38;5;28;01mif\u001b[39;00m func \u001b[38;5;129;01min\u001b[39;00m _MASKEDTENSOR_DISPATCH_TABLE:\n\u001b[0;32m--> 290\u001b[0m     \u001b[38;5;28;01mreturn\u001b[39;00m \u001b[43m_MASKEDTENSOR_DISPATCH_TABLE\u001b[49m\u001b[43m[\u001b[49m\u001b[43mfunc\u001b[49m\u001b[43m]\u001b[49m\u001b[43m(\u001b[49m\u001b[38;5;241;43m*\u001b[39;49m\u001b[43margs\u001b[49m\u001b[43m,\u001b[49m\u001b[43m \u001b[49m\u001b[38;5;241;43m*\u001b[39;49m\u001b[38;5;241;43m*\u001b[39;49m\u001b[43mkwargs\u001b[49m\u001b[43m)\u001b[49m\n\u001b[1;32m    292\u001b[0m msg \u001b[38;5;241m=\u001b[39m (\n\u001b[1;32m    293\u001b[0m     \u001b[38;5;124mf\u001b[39m\u001b[38;5;124m\"\u001b[39m\u001b[38;5;132;01m{\u001b[39;00mfunc\u001b[38;5;241m.\u001b[39m\u001b[38;5;18m__name__\u001b[39m\u001b[38;5;132;01m}\u001b[39;00m\u001b[38;5;124m is not implemented in __torch_dispatch__ for MaskedTensor.\u001b[39m\u001b[38;5;130;01m\\n\u001b[39;00m\u001b[38;5;124m\"\u001b[39m\n\u001b[1;32m    294\u001b[0m     \u001b[38;5;124m\"\u001b[39m\u001b[38;5;124mIf you would like this operator to be supported, please file an issue for a feature request at \u001b[39m\u001b[38;5;124m\"\u001b[39m\n\u001b[0;32m   (...)\u001b[0m\n\u001b[1;32m    297\u001b[0m     \u001b[38;5;124m\"\u001b[39m\u001b[38;5;124mto also include a proposal for the semantics.\u001b[39m\u001b[38;5;124m\"\u001b[39m\n\u001b[1;32m    298\u001b[0m )\n\u001b[1;32m    299\u001b[0m warnings\u001b[38;5;241m.\u001b[39mwarn(msg)\n",
      "File \u001b[0;32m~/.conda/envs/tm/lib/python3.10/site-packages/torch/masked/maskedtensor/_ops_refs.py:333\u001b[0m, in \u001b[0;36m_to_copy\u001b[0;34m(func, *args, **kwargs)\u001b[0m\n\u001b[1;32m    330\u001b[0m \u001b[38;5;129m@register_dispatch_func\u001b[39m([torch\u001b[38;5;241m.\u001b[39mops\u001b[38;5;241m.\u001b[39maten\u001b[38;5;241m.\u001b[39m_to_copy])\n\u001b[1;32m    331\u001b[0m \u001b[38;5;28;01mdef\u001b[39;00m \u001b[38;5;21m_to_copy\u001b[39m(func, \u001b[38;5;241m*\u001b[39margs, \u001b[38;5;241m*\u001b[39m\u001b[38;5;241m*\u001b[39mkwargs):\n\u001b[1;32m    332\u001b[0m     new_data \u001b[38;5;241m=\u001b[39m func(_get_data(args[\u001b[38;5;241m0\u001b[39m]), \u001b[38;5;241m*\u001b[39margs[\u001b[38;5;241m1\u001b[39m:], \u001b[38;5;241m*\u001b[39m\u001b[38;5;241m*\u001b[39mkwargs)\n\u001b[0;32m--> 333\u001b[0m     \u001b[38;5;28;01mreturn\u001b[39;00m \u001b[43mMaskedTensor\u001b[49m\u001b[43m(\u001b[49m\u001b[43mnew_data\u001b[49m\u001b[43m,\u001b[49m\u001b[43m \u001b[49m\u001b[43m_maybe_get_mask\u001b[49m\u001b[43m(\u001b[49m\u001b[43margs\u001b[49m\u001b[43m[\u001b[49m\u001b[38;5;241;43m0\u001b[39;49m\u001b[43m]\u001b[49m\u001b[43m)\u001b[49m\u001b[43m)\u001b[49m\n",
      "File \u001b[0;32m~/.conda/envs/tm/lib/python3.10/site-packages/torch/masked/maskedtensor/core.py:217\u001b[0m, in \u001b[0;36mMaskedTensor.__init__\u001b[0;34m(self, data, mask, requires_grad)\u001b[0m\n\u001b[1;32m    216\u001b[0m \u001b[38;5;28;01mdef\u001b[39;00m \u001b[38;5;21m__init__\u001b[39m(\u001b[38;5;28mself\u001b[39m, data, mask, requires_grad\u001b[38;5;241m=\u001b[39m\u001b[38;5;28;01mFalse\u001b[39;00m):\n\u001b[0;32m--> 217\u001b[0m     \u001b[38;5;28;43mself\u001b[39;49m\u001b[38;5;241;43m.\u001b[39;49m\u001b[43m_preprocess_data\u001b[49m\u001b[43m(\u001b[49m\u001b[43mdata\u001b[49m\u001b[43m,\u001b[49m\u001b[43m \u001b[49m\u001b[43mmask\u001b[49m\u001b[43m)\u001b[49m\n\u001b[1;32m    218\u001b[0m     \u001b[38;5;28mself\u001b[39m\u001b[38;5;241m.\u001b[39m_validate_members()\n",
      "File \u001b[0;32m~/.conda/envs/tm/lib/python3.10/site-packages/torch/masked/maskedtensor/core.py:180\u001b[0m, in \u001b[0;36mMaskedTensor._preprocess_data\u001b[0;34m(self, data, mask)\u001b[0m\n\u001b[1;32m    177\u001b[0m         data \u001b[38;5;241m=\u001b[39m _sparse_csr_where(mask, data, torch\u001b[38;5;241m.\u001b[39mtensor(\u001b[38;5;241m0\u001b[39m))\n\u001b[1;32m    179\u001b[0m \u001b[38;5;66;03m# Have to pick awkward names to not conflict with existing fields such as data\u001b[39;00m\n\u001b[0;32m--> 180\u001b[0m \u001b[38;5;28mself\u001b[39m\u001b[38;5;241m.\u001b[39m_masked_data \u001b[38;5;241m=\u001b[39m \u001b[43mdata\u001b[49m\u001b[38;5;241;43m.\u001b[39;49m\u001b[43mclone\u001b[49m\u001b[43m(\u001b[49m\u001b[43m)\u001b[49m\n\u001b[1;32m    181\u001b[0m \u001b[38;5;28mself\u001b[39m\u001b[38;5;241m.\u001b[39m_masked_mask \u001b[38;5;241m=\u001b[39m mask\u001b[38;5;241m.\u001b[39mclone()\n",
      "\u001b[0;31mOutOfMemoryError\u001b[0m: CUDA out of memory. Tried to allocate 15.38 GiB (GPU 0; 31.75 GiB total capacity; 15.54 GiB already allocated; 13.46 GiB free; 15.56 GiB reserved in total by PyTorch) If reserved memory is >> allocated memory try setting max_split_size_mb to avoid fragmentation.  See documentation for Memory Management and PYTORCH_CUDA_ALLOC_CONF"
     ]
    }
   ],
   "source": [
    "aa_model = fit_model_att(X_train, y_train, np.ones(len(y_train)), X_test)"
   ]
  },
  {
   "cell_type": "code",
   "execution_count": 190,
   "id": "d34eb5bb-f3df-4c1c-8be0-b38694dff5b1",
   "metadata": {},
   "outputs": [
    {
     "name": "stdout",
     "output_type": "stream",
     "text": [
      "mae = 6.9, mse = 86.3, rho = 0.34\n"
     ]
    }
   ],
   "source": [
    "y_pred = aa_model(torch.Tensor(X_test)).detach().squeeze().numpy()\n",
    "\n",
    "rho, _ = spearmanr(y_pred, y_test)  # spearman\n",
    "mse = mean_squared_error(y_pred, y_test)  # Mean Squared Error\n",
    "mae = (y_pred - y_test).abs().mean()  # Mean Absolute Error\n",
    "print(f\"{mae = :0.1f}, {mse = :0.1f}, {rho = :0.2f}\")"
   ]
  },
  {
   "cell_type": "code",
   "execution_count": 191,
   "id": "17b4d836-db99-405e-bfc8-4087b65ee0b5",
   "metadata": {},
   "outputs": [
    {
     "data": {
      "image/png": "[encoded data removed]",
      "text/plain": [
       "<Figure size 640x480 with 1 Axes>"
      ]
     },
     "metadata": {},
     "output_type": "display_data"
    }
   ],
   "source": [
    "df = pd.DataFrame({'y_test': y_test, 'y_pred': y_pred})\n",
    "ax = df.plot.scatter(x='y_test', y='y_pred', alpha=0.3, lw=0, s=10)\n",
    "# sns.scatter(data=df, x='y_test', y='y_pred', alpha=0.6)\n",
    "\n",
    "ax.plot([30,100], [30,100], '--', alpha=0.6)\n",
    "plt.show()"
   ]
  },
  {
   "cell_type": "code",
   "execution_count": null,
   "id": "f2091a4e-abf0-4742-b7e9-909801f565c0",
   "metadata": {},
   "outputs": [],
   "source": []
  }
 ],
 "metadata": {
  "kernelspec": {
   "display_name": "Python 3 (ipykernel)",
   "language": "python",
   "name": "python3"
  },
  "language_info": {
   "codemirror_mode": {
    "name": "ipython",
    "version": 3
   },
   "file_extension": ".py",
   "mimetype": "text/x-python",
   "name": "python",
   "nbconvert_exporter": "python",
   "pygments_lexer": "ipython3",
   "version": "3.10.8"
  }
 },
 "nbformat": 4,
 "nbformat_minor": 5
}
