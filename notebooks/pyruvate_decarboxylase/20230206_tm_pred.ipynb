{
 "cells": [
  {
   "cell_type": "code",
   "execution_count": 1,
   "id": "f4a40be4-4cb8-463f-98c6-1a10ee13afc4",
   "metadata": {},
   "outputs": [
    {
     "data": {
      "text/plain": [
       "True"
      ]
     },
     "execution_count": 1,
     "metadata": {},
     "output_type": "execute_result"
    }
   ],
   "source": [
    "import os\n",
    "import sys\n",
    "from tqdm import tqdm\n",
    "import pandas as pd\n",
    "import numpy as np\n",
    "from scipy.stats import linregress\n",
    "import matplotlib.pyplot as plt\n",
    "import seaborn as sns\n",
    "\n",
    "%matplotlib inline\n",
    "sns.set(context='notebook', style='ticks',\n",
    "        color_codes=True, rc={'legend.frameon': False})\n",
    "import torch\n",
    "torch.cuda.is_available()"
   ]
  },
  {
   "cell_type": "code",
   "execution_count": 3,
   "id": "51c35214-bb7a-429a-8494-9c4aa50d8e85",
   "metadata": {},
   "outputs": [
    {
     "data": {
      "text/html": [
       "<div>\n",
       "<style scoped>\n",
       "    .dataframe tbody tr th:only-of-type {\n",
       "        vertical-align: middle;\n",
       "    }\n",
       "\n",
       "    .dataframe tbody tr th {\n",
       "        vertical-align: top;\n",
       "    }\n",
       "\n",
       "    .dataframe thead th {\n",
       "        text-align: right;\n",
       "    }\n",
       "</style>\n",
       "<table border=\"1\" class=\"dataframe\">\n",
       "  <thead>\n",
       "    <tr style=\"text-align: right;\">\n",
       "      <th></th>\n",
       "      <th>seq_id</th>\n",
       "      <th>mutation</th>\n",
       "      <th>sequence</th>\n",
       "    </tr>\n",
       "  </thead>\n",
       "  <tbody>\n",
       "    <tr>\n",
       "      <th>0</th>\n",
       "      <td>WT</td>\n",
       "      <td>NaN</td>\n",
       "      <td>MTYTVGMYLAERLVQIGLKHHFAVAGDYNLVLLDQLLLNKDMKQIY...</td>\n",
       "    </tr>\n",
       "    <tr>\n",
       "      <th>1</th>\n",
       "      <td>&gt;pCB131</td>\n",
       "      <td>M296</td>\n",
       "      <td>MTYTVGMYLAERLVQIGLKHHFAVAGDYNLVLLDQLLLNKDMKQIY...</td>\n",
       "    </tr>\n",
       "    <tr>\n",
       "      <th>2</th>\n",
       "      <td>&gt;pCB139</td>\n",
       "      <td>M297</td>\n",
       "      <td>MYTVGMYLAERLAQIGLKHHFAVAGDYNLVLLDQLLLNKDMEQVYC...</td>\n",
       "    </tr>\n",
       "    <tr>\n",
       "      <th>3</th>\n",
       "      <td>&gt;pCB140</td>\n",
       "      <td>M298</td>\n",
       "      <td>MTYTVGHYLAERLTQIGLKHHFAVAGDYNLVLLDQLIEQGGTKQIY...</td>\n",
       "    </tr>\n",
       "    <tr>\n",
       "      <th>4</th>\n",
       "      <td>&gt;pCB141</td>\n",
       "      <td>M299</td>\n",
       "      <td>MTYTVGMYLAERLSQIGLKHHFAVAGDFNLVLLDQLLVNKEMEQVY...</td>\n",
       "    </tr>\n",
       "  </tbody>\n",
       "</table>\n",
       "</div>"
      ],
      "text/plain": [
       "    seq_id mutation                                           sequence\n",
       "0       WT      NaN  MTYTVGMYLAERLVQIGLKHHFAVAGDYNLVLLDQLLLNKDMKQIY...\n",
       "1  >pCB131     M296  MTYTVGMYLAERLVQIGLKHHFAVAGDYNLVLLDQLLLNKDMKQIY...\n",
       "2  >pCB139     M297  MYTVGMYLAERLAQIGLKHHFAVAGDYNLVLLDQLLLNKDMEQVYC...\n",
       "3  >pCB140     M298  MTYTVGHYLAERLTQIGLKHHFAVAGDYNLVLLDQLIEQGGTKQIY...\n",
       "4  >pCB141     M299  MTYTVGMYLAERLSQIGLKHHFAVAGDFNLVLLDQLLVNKEMEQVY..."
      ]
     },
     "execution_count": 3,
     "metadata": {},
     "output_type": "execute_result"
    }
   ],
   "source": [
    "seqs_file = \"/projects/bpms/jlaw/projects/pyruvate_decarboxylase_engineering/pdc_seqs.txt\"\n",
    "df = pd.read_csv(seqs_file, header=None, names=['seq_id', 'mutation', 'sequence'])\n",
    "df"
   ]
  },
  {
   "cell_type": "code",
   "execution_count": 4,
   "id": "38a5a40c-7057-4d99-af5d-834972f74cb1",
   "metadata": {},
   "outputs": [
    {
     "data": {
      "text/plain": [
       "0    558\n",
       "1    565\n",
       "2    563\n",
       "3    570\n",
       "4    565\n",
       "Name: sequence, dtype: int64"
      ]
     },
     "execution_count": 4,
     "metadata": {},
     "output_type": "execute_result"
    }
   ],
   "source": [
    "df.sequence.apply(len)"
   ]
  },
  {
   "cell_type": "code",
   "execution_count": 5,
   "id": "0cabb146-2939-4bbc-b80d-0eace3808217",
   "metadata": {},
   "outputs": [
    {
     "data": {
      "text/plain": [
       "'MTYTVGMYLAERLVQIGLKHHFAVAGDYNLVLLDQLLLNKDMKQIYCCNELNCGFSAEGYARSNGAAAAVVTFSVGAISAMNAIGGAYAENLPVILISGSPNTNDYGTGHILHHTIGTTDYNYQLEMVKHVTCAAESIVSAEEAPAKIDHVIRTALRERKPAYLDIACNIASEPCVRPGPVSSLLSEPEIDHTSLKAAVDATVALLEKSASPVMLLGSKLRAANALAATETLADKLQCAVTIMAAAKGFFPEDHAGFRGLYWGEVSNPGVQELVETSDALLCIAPVFNDYSTVGWSAWPKGPNVILAEPDRVTVDGRAYDGFTLRAFLQALAEKAPARPASAQKSSVPTCSLTATSDEAGLTNDEIVRHINALLTSNTTLVAETGDSWFNAMRMTLPRGARVELEMQWGHIGWSVPSAFGNAMGSQDRQHVVMVGDGSFQVTAQEVAQMVRYELPVIIFLINNRGYVIEIAIHDGPYNYIKNWDYAGLMEVFNAGEGHGLGLKATTPKELTEAIARAKANTRGPTLIECQIDRTDCTDMLVQWGRKVASTNARKTTLA'"
      ]
     },
     "execution_count": 5,
     "metadata": {},
     "output_type": "execute_result"
    }
   ],
   "source": [
    "wt = df.sequence.values[0]\n",
    "wt"
   ]
  },
  {
   "cell_type": "code",
   "execution_count": null,
   "id": "fed956d9-f31a-44a9-bce3-b6c6180d6900",
   "metadata": {},
   "outputs": [],
   "source": []
  }
 ],
 "metadata": {
  "kernelspec": {
   "display_name": "Python 3 (ipykernel)",
   "language": "python",
   "name": "python3"
  },
  "language_info": {
   "codemirror_mode": {
    "name": "ipython",
    "version": 3
   },
   "file_extension": ".py",
   "mimetype": "text/x-python",
   "name": "python",
   "nbconvert_exporter": "python",
   "pygments_lexer": "ipython3",
   "version": "3.10.8"
  }
 },
 "nbformat": 4,
 "nbformat_minor": 5
}
